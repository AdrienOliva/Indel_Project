{
 "cells": [
  {
   "cell_type": "code",
   "execution_count": 25,
   "id": "643f8ef7",
   "metadata": {},
   "outputs": [
    {
     "data": {
      "text/html": [
       "        <script type=\"text/javascript\">\n",
       "        window.PlotlyConfig = {MathJaxConfig: 'local'};\n",
       "        if (window.MathJax) {MathJax.Hub.Config({SVG: {font: \"STIX-Web\"}});}\n",
       "        if (typeof require !== 'undefined') {\n",
       "        require.undef(\"plotly\");\n",
       "        requirejs.config({\n",
       "            paths: {\n",
       "                'plotly': ['https://cdn.plot.ly/plotly-2.3.1.min']\n",
       "            }\n",
       "        });\n",
       "        require(['plotly'], function(Plotly) {\n",
       "            window._Plotly = Plotly;\n",
       "        });\n",
       "        }\n",
       "        </script>\n",
       "        "
      ]
     },
     "metadata": {},
     "output_type": "display_data"
    }
   ],
   "source": [
    "import pandas as pd\n",
    "import requests \n",
    "import plotly.express as px\n",
    "import plotly as plt\n",
    "import plotly.graph_objects as go\n",
    "from plotly.subplots import make_subplots\n",
    "\n",
    "plt.offline.init_notebook_mode(connected=True)"
   ]
  },
  {
   "cell_type": "code",
   "execution_count": 26,
   "id": "3013d146",
   "metadata": {},
   "outputs": [],
   "source": [
    "def func(l): # function to count lines starting with ‘A’\n",
    "    c = 0 # c is the count of such lines\n",
    "    for line in l:\n",
    "        if line[0] == \"#\":\n",
    "            if line[1] == \"#\":\n",
    "                c += 1\n",
    "    return c"
   ]
  },
  {
   "cell_type": "code",
   "execution_count": 28,
   "id": "f4687969",
   "metadata": {},
   "outputs": [],
   "source": [
    "file=\"../SmallFiles/INFO_BOT2016_OG_BWA1-bam_FreeBayes.vcf.gz_vep.txt\"\n",
    "f1 = open(file, \"r\")\n",
    "l = f1.readlines() # creates a list of all the lines in the file\n",
    "lineskip = func(l)\n",
    "dataBWA = pd.read_csv(file, skiprows=int(lineskip)-1, delimiter=\"\\t\", header=0)\n",
    "f1.close()"
   ]
  },
  {
   "cell_type": "code",
   "execution_count": 30,
   "id": "9da63866",
   "metadata": {},
   "outputs": [],
   "source": [
    "file=\"../SmallFiles/INFO_BOT2016_OG_BWA1-bam_FreeBayes.vcf.gz_vep.txt\"\n",
    "f1 = open(file, \"r\")\n",
    "l = f1.readlines() # creates a list of all the lines in the file\n",
    "lineskip = func(l)\n",
    "dataBWA = pd.read_csv(file, skiprows=int(lineskip)-1, delimiter=\"\\t\", header=0)\n",
    "f1.close()"
   ]
  },
  {
   "cell_type": "code",
   "execution_count": 32,
   "id": "59ca3c7d",
   "metadata": {},
   "outputs": [],
   "source": [
    "file=\"../SmallFiles/INFO_BOT2016_Martiniano_VG-bam_FreeBayes.vcf.gz_vep.txt\"\n",
    "f1 = open(file, \"r\")\n",
    "l = f1.readlines() # creates a list of all the lines in the file\n",
    "lineskip = func(l)\n",
    "dataVGbam = pd.read_csv(file, skiprows=int(lineskip)-1, delimiter=\"\\t\", header=0)\n",
    "f1.close()"
   ]
  },
  {
   "cell_type": "code",
   "execution_count": 33,
   "id": "c222188d",
   "metadata": {},
   "outputs": [],
   "source": [
    "file=\"../SmallFiles/INFO_BOT2016_Martiniano_VG-gam_vg.vcf.gz_vep.txt\"\n",
    "f1 = open(file, \"r\")\n",
    "l = f1.readlines() # creates a list of all the lines in the file\n",
    "lineskip = func(l)\n",
    "dataVGgam = pd.read_csv(file, skiprows=int(lineskip)-1, delimiter=\"\\t\", header=0)\n",
    "f1.close()"
   ]
  },
  {
   "cell_type": "markdown",
   "id": "edc1469a",
   "metadata": {},
   "source": [
    "#### importing individuals for time analysis"
   ]
  },
  {
   "cell_type": "code",
   "execution_count": 34,
   "id": "d85e77c8",
   "metadata": {},
   "outputs": [],
   "source": [
    "file=\"../SmallFiles/INFO_BR2_OG_BWA1-bam_FreeBayes.vcf.gz_vep.txt\"\n",
    "f1 = open(file, \"r\")\n",
    "l = f1.readlines() # creates a list of all the lines in the file\n",
    "lineskip = func(l)\n",
    "dataBWA_BR = pd.read_csv(file, skiprows=int(lineskip)-1, delimiter=\"\\t\", header=0)\n",
    "f1.close()"
   ]
  },
  {
   "cell_type": "code",
   "execution_count": 35,
   "id": "3a948c6d",
   "metadata": {},
   "outputs": [],
   "source": [
    "file=\"../SmallFiles/INFO_SF12_OG_BWA1-bam_FreeBayes.vcf.gz_vep.txt\"\n",
    "f1 = open(file, \"r\")\n",
    "l = f1.readlines() # creates a list of all the lines in the file\n",
    "lineskip = func(l)\n",
    "dataBWA_SF12 = pd.read_csv(file, skiprows=int(lineskip)-1, delimiter=\"\\t\", header=0)\n",
    "f1.close()"
   ]
  },
  {
   "cell_type": "code",
   "execution_count": 116,
   "id": "5559a0db",
   "metadata": {},
   "outputs": [],
   "source": [
    "file=\"Subsample-UstIshim_OG_BWA-bam_FreeBayes.vcf.gz_vep.txt\"\n",
    "f1 = open(file, \"r\")\n",
    "l = f1.readlines() # creates a list of all the lines in the file\n",
    "lineskip = func(l)\n",
    "dataBWA_Ust = pd.read_csv(file, skiprows=int(lineskip)-1, delimiter=\"\\t\", header=0)\n",
    "f1.close()"
   ]
  },
  {
   "cell_type": "markdown",
   "id": "e39399ee",
   "metadata": {},
   "source": [
    "#### Importing individuals for coverage analysis"
   ]
  },
  {
   "cell_type": "code",
   "execution_count": 147,
   "id": "6b9fbbe9",
   "metadata": {},
   "outputs": [],
   "source": [
    "file=\"Subsample-Subsample_007pct_BWA_5X.bam_FreeBayes.vcf_vep.txt\"\n",
    "f1 = open(file, \"r\")\n",
    "l = f1.readlines() # creates a list of all the lines in the file\n",
    "lineskip = func(l)\n",
    "dataBWA_SF12_5x = pd.read_csv(file, skiprows=int(lineskip)-1, delimiter=\"\\t\", header=0)\n",
    "f1.close()"
   ]
  },
  {
   "cell_type": "code",
   "execution_count": 148,
   "id": "81bbe867",
   "metadata": {},
   "outputs": [],
   "source": [
    "file=\"Subsample-SF12_VG-Martiniano-gam_vg.vcf.gz_vep.txt\"\n",
    "f1 = open(file, \"r\")\n",
    "l = f1.readlines() # creates a list of all the lines in the file\n",
    "lineskip = func(l)\n",
    "dataVGbam_SF12 = pd.read_csv(file, skiprows=int(lineskip)-1, delimiter=\"\\t\", header=0)\n",
    "f1.close()"
   ]
  },
  {
   "cell_type": "code",
   "execution_count": 149,
   "id": "99358b6e",
   "metadata": {},
   "outputs": [],
   "source": [
    "file=\"Subsample-Subsample_007pct_VG_5X.bam_FreeBayes.vcf_vep.txt\"\n",
    "f1 = open(file, \"r\")\n",
    "l = f1.readlines() # creates a list of all the lines in the file\n",
    "lineskip = func(l)\n",
    "dataVGbam_SF12_5x = pd.read_csv(file, skiprows=int(lineskip)-1, delimiter=\"\\t\", header=0)\n",
    "f1.close()"
   ]
  },
  {
   "cell_type": "markdown",
   "id": "6a4c7972",
   "metadata": {},
   "source": [
    "# Informations about the fields\n",
    "\n",
    "Uploaded variation - as chromosome_startposition_alleles\n",
    "\n",
    "Location - in standard coordinate format (chr:start or chr:start-end)\n",
    "\n",
    "Allele - the variant allele used to calculate the consequence\n",
    "\n",
    "Gene - Ensembl stable ID of affected gene\n",
    "\n",
    "Feature - Ensembl stable ID of feature\n",
    "\n",
    "Feature type - type of feature. Currently one of Transcript, RegulatoryFeature, MotifFeature.\n",
    "\n",
    "Consequence - consequence type of this variant\n",
    "\n",
    "IMPACT - A subjective classification of the severity of the variant consequence, based on agreement with SNPEff.\n",
    "\n",
    "ENSP -  the Ensembl protein identifier of the affected transcript\n",
    "\n",
    "VARIANT_CLASS - SNV, INDEL, etc...\n",
    "\n",
    "AFR_AF,AMR_AF,EAS_AF,EUR_AF,SAS_AF - Add allele frequency from continental populations (AFR,AMR,EAS,EUR,SAS) of 1000 Genomes Phase 3 to the output. \n",
    "\n",
    "GENE_PHENO - Indicates if overlapped gene is associated with a phenotype, disease or trait - 1/0 \n",
    "\n",
    "SIFT - predicts whether an amino acid substitution is likely to affect protein function (based on sequence homology and the physico-chemical similarity between the alternate amino acids) The qualitative prediction is derived from this score such that substitutions with a score < 0.05 are called 'deleterious' and all others are called 'tolerated'. i.e. (tolerated(0.38),deleterious(0.03))\n",
    "\n",
    "\n",
    "PolyPhen - The PolyPhen score represents the probability that a substitution is damaging values nearer one are more confidently predicted to be deleterious (note that this is the opposite to SIFT). The prediction is based on the False Positive Rate of the classifier model used to make the predictions. i.e. (Unknown, benign 0 to 0.5, possibly damaging 0.5 to 0.95, probably damaging > 0.95)\n",
    "\n",
    "\n",
    "REVEL - Method for predicting the pathogenicity of missense (INDEL) variants. It integrates scores from multiple sources. Score range from 0 to 1 and variants with higher scores are predicted to be more likely to be pathogenic. It was estimated that 75.4% of disease mutations but only 10.9% of neutral variants have a score above 0.5'.\n",
    "\n",
    "\n",
    "CADD_phred  - Predicte deleteriousness of single nucleotide variants and insertion/deletions variants in the human genome by integrating multiple annotations including conservation and functional information into one metric.  Phred-style CADD raw scores are displayed and variants with higher scores are more likely to be deleterious. Variants with scores over 30 are predicted to be the 0.1% most deleterious possible substitutions in the human genome.\n",
    "\n",
    "GERP - Indicate how highly conserved a position. Identifies constrained loci in multiple sequence alignments by comparing the level of substitution observed to that expected if there was no functional constraint. These deficits represent substitutions that would have occurred if the element were neutral DNA, but did not occur because the element has been under functional constraint.  We refer to these deficits as \"Rejected Substitutions\". \n",
    "Positive scores represent a substitution deficit (i.e., fewer substitutions than the average neutral site) and thus indicate that a site may be under evolutionary constraint. Negative scores indicate that a site is probably evolving neutrally; \n",
    "RS scores range from a maximum of 6.18 down to a below-zero minimum, which we cap at -12.36. A score of 0 indicates that the alignment was too shallow at that position to get a meaningful estimate of constraint.  In practice, we find that a RS score threshold of 2 provides high sensitivity while still strongly enriching for truly constrained sites. \n",
    "\n"
   ]
  },
  {
   "cell_type": "markdown",
   "id": "5774fc59",
   "metadata": {},
   "source": [
    "#\n",
    "Stable IDs are created in the form ENS[species prefix][feature type prefix][a unique eleven digit number]\n",
    "Feature prefixes\n",
    "\n",
    "E \texon\n",
    "\n",
    "FM \tEnsembl protein family\n",
    "\n",
    "G \tgene\n",
    "\n",
    "GT \tgene tree\n",
    "\n",
    "P \tprotein\n",
    "\n",
    "R \tregulatory feature\n",
    "\n",
    "T \ttranscript"
   ]
  },
  {
   "cell_type": "markdown",
   "id": "3738bc54",
   "metadata": {},
   "source": [
    "\n",
    "RegulatoryFeatures are features involved with regulatory aspects like:\n",
    "\n",
    "    Predicted promoters,\n",
    "    \n",
    "    Predicted promoter flanking regions,\n",
    "    \n",
    "    Predicted enhancer regions,\n",
    "    \n",
    "    CTCF Binding Sites,\n",
    "    \n",
    "    Transcription factor binding sites \n",
    "    \n",
    "    Open chromatin regions.\n",
    "\n",
    "Motif Features represent short genomic regions where a Transcription Factor is thought to be directly interacting with the DNA. These regions are called Transcription Factor binding sites. More information on how these sites are found in Ensembl is on the RegulatoryBuild page. "
   ]
  },
  {
   "cell_type": "markdown",
   "id": "d6c14371",
   "metadata": {},
   "source": [
    "# linked for more info:\n",
    "    https://m.ensembl.org/info/docs/tools/vep/vep_formats.html\n",
    "    \n",
    "    https://m.ensembl.org/info/genome/stable_ids/index.html\n",
    "    \n",
    "    https://m.ensembl.org/info/genome/stable_ids/prefixes.html\n",
    "    \n",
    "    https://m.ensembl.org/info/genome/variation/prediction/predicted_data.html #Consequences\n",
    "    \n",
    "    https://m.ensembl.org/info/docs/api/funcgen/regulation_tutorial.html #Regfeatures\n",
    "    \n",
    "    https://asia.ensembl.org/info/genome/variation/prediction/classification.html#classes #VariantClass\n",
    "    https://m.ensembl.org/info/genome/variation/prediction/classification.html #VariantClass\n",
    "    \n",
    "    https://genome.ucsc.edu/cgi-bin/hgTrackUi?db=hg19&g=allHg19RS_BW #GERP\n",
    "        "
   ]
  },
  {
   "cell_type": "code",
   "execution_count": 36,
   "id": "9b7be079",
   "metadata": {},
   "outputs": [],
   "source": [
    "#dataBWA=dataBWA[[\"#Uploaded_variation\",\"Location\",\"Allele\",\"Gene\",\"Feature\",\"Consequence\",\"IMPACT\",\"VARIANT_CLASS\",\"ENSP\",\"GENE_PHENO\",\"SIFT\",\"PolyPhen\",\"AFR_AF\",\"AMR_AF\",\"EAS_AF\",\"EUR_AF\",\"SAS_AF\",\"REVEL\",\"CADD_phred\",\"GERP++_RS\"]]\n",
    "#dataVGbam=dataVGbam[[\"#Uploaded_variation\",\"Location\",\"Allele\",\"Gene\",\"Feature\",\"Consequence\",\"IMPACT\",\"VARIANT_CLASS\",\"ENSP\",\"GENE_PHENO\",\"SIFT\",\"PolyPhen\",\"AFR_AF\",\"AMR_AF\",\"EAS_AF\",\"EUR_AF\",\"SAS_AF\",\"REVEL\",\"CADD_phred\",\"GERP++_RS\"]]\n",
    "#dataVGgam=dataVGgam[[\"#Uploaded_variation\",\"Location\",\"Allele\",\"Gene\",\"Feature\",\"Consequence\",\"IMPACT\",\"VARIANT_CLASS\",\"ENSP\",\"GENE_PHENO\",\"SIFT\",\"PolyPhen\",\"AFR_AF\",\"AMR_AF\",\"EAS_AF\",\"EUR_AF\",\"SAS_AF\",\"REVEL\",\"CADD_phred\",\"GERP++_RS\"]]"
   ]
  },
  {
   "cell_type": "code",
   "execution_count": null,
   "id": "bc2dadfb",
   "metadata": {},
   "outputs": [],
   "source": [
    "BR2 = 2800 years BP\n",
    "BOT2016 = 5400 years BP\n",
    "SF12 = 8895 years BP\n",
    "UstIshim = 44000 years BP"
   ]
  },
  {
   "cell_type": "markdown",
   "id": "8fba97e7",
   "metadata": {},
   "source": [
    "# IMPACT"
   ]
  },
  {
   "cell_type": "code",
   "execution_count": 37,
   "id": "a189b7ac",
   "metadata": {},
   "outputs": [],
   "source": [
    "count_imp_bwa = dataBWA[\"IMPACT\"].value_counts()\n",
    "count_imp_bwa = count_imp_bwa.to_frame(name=\"vals\")\n",
    "count_imp_bwa.reset_index(level=0,inplace=True)\n",
    "count_imp_bwa.rename(columns={\"index\": \"ID\", \"vals\":\"vals\"},inplace=True)\n",
    "count_imp_bwa[\"pct\"] = count_imp_bwa[\"vals\"] * 100 / sum(count_imp_bwa[\"vals\"])"
   ]
  },
  {
   "cell_type": "code",
   "execution_count": 38,
   "id": "74aad352",
   "metadata": {},
   "outputs": [],
   "source": [
    "count_imp_VGb = dataVGbam[\"IMPACT\"].value_counts()\n",
    "count_imp_VGb = count_imp_VGb.to_frame(name=\"vals\")\n",
    "count_imp_VGb.reset_index(level=0,inplace=True)\n",
    "count_imp_VGb.rename(columns={\"index\": \"ID\", \"vals\":\"vals\"},inplace=True)\n",
    "count_imp_VGb[\"pct\"] = count_imp_VGb[\"vals\"] * 100 / sum(count_imp_VGb[\"vals\"])"
   ]
  },
  {
   "cell_type": "code",
   "execution_count": 39,
   "id": "defa6a9e",
   "metadata": {},
   "outputs": [],
   "source": [
    "count_imp_VGg = dataVGgam[\"IMPACT\"].value_counts()\n",
    "count_imp_VGg = count_imp_VGg.to_frame(name=\"vals\")\n",
    "count_imp_VGg.reset_index(level=0,inplace=True)\n",
    "count_imp_VGg.rename(columns={\"index\": \"ID\", \"vals\":\"vals\"},inplace=True)\n",
    "count_imp_VGg[\"pct\"] = count_imp_VGg[\"vals\"] * 100 / sum(count_imp_VGg[\"vals\"])"
   ]
  },
  {
   "cell_type": "markdown",
   "id": "f717b8f2",
   "metadata": {},
   "source": [
    "### Modifier impact variant consequence\n",
    "Usually non-coding variants or variants affecting non-coding genes, where predictions are difficult or there is no evidence of impact.\n",
    "\n",
    "### Low impact variant consequence\n",
    "A variant that is assumed to be mostly harmless or unlikely to change protein behaviour.\n",
    "\n",
    "### Moderate impact variant consequence\n",
    "A non-disruptive variant that might change protein effectiveness.\n",
    "\n",
    "### High impact variant consequence \n",
    "The variant is assumed to have high (disruptive) impact in the protein, probably causing protein truncation, loss of function or triggering nonsense mediated dec"
   ]
  },
  {
   "cell_type": "markdown",
   "id": "3b55824d",
   "metadata": {},
   "source": [
    "#### Check different mapper"
   ]
  },
  {
   "cell_type": "code",
   "execution_count": 40,
   "id": "4b2aa65f",
   "metadata": {},
   "outputs": [
    {
     "data": {
      "application/vnd.plotly.v1+json": {
       "config": {
        "plotlyServerURL": "https://plot.ly"
       },
       "data": [
        {
         "domain": {
          "x": [
           0,
           0.2888888888888889
          ],
          "y": [
           0,
           1
          ]
         },
         "labels": [
          "MODIFIER",
          "LOW",
          "MODERATE",
          "HIGH"
         ],
         "name": "BWA",
         "scalegroup": "one",
         "type": "pie",
         "values": [
          99.30137985725615,
          0.37323336457357076,
          0.2889308629514815,
          0.036455915218801815
         ]
        },
        {
         "domain": {
          "x": [
           0.35555555555555557,
           0.6444444444444445
          ],
          "y": [
           0,
           1
          ]
         },
         "labels": [
          "MODIFIER",
          "LOW",
          "MODERATE",
          "HIGH"
         ],
         "name": "VGb",
         "scalegroup": "one",
         "type": "pie",
         "values": [
          99.31895587127376,
          0.362165156182435,
          0.28319350395192605,
          0.03568546859188395
         ]
        },
        {
         "domain": {
          "x": [
           0.7111111111111111,
           1
          ],
          "y": [
           0,
           1
          ]
         },
         "labels": [
          "MODIFIER",
          "LOW",
          "MODERATE",
          "HIGH"
         ],
         "name": "VGg",
         "scalegroup": "one",
         "type": "pie",
         "values": [
          99.41198408743706,
          0.3479257118853279,
          0.22838920770758778,
          0.0117009929700198
         ]
        }
       ],
       "layout": {
        "annotations": [
         {
          "font": {
           "size": 16
          },
          "showarrow": false,
          "text": "BWA",
          "x": 0.14444444444444446,
          "xanchor": "center",
          "xref": "paper",
          "y": 1,
          "yanchor": "bottom",
          "yref": "paper"
         },
         {
          "font": {
           "size": 16
          },
          "showarrow": false,
          "text": "VGbam",
          "x": 0.5,
          "xanchor": "center",
          "xref": "paper",
          "y": 1,
          "yanchor": "bottom",
          "yref": "paper"
         },
         {
          "font": {
           "size": 16
          },
          "showarrow": false,
          "text": "VGgam",
          "x": 0.8555555555555556,
          "xanchor": "center",
          "xref": "paper",
          "y": 1,
          "yanchor": "bottom",
          "yref": "paper"
         }
        ],
        "template": {
         "data": {
          "bar": [
           {
            "error_x": {
             "color": "#2a3f5f"
            },
            "error_y": {
             "color": "#2a3f5f"
            },
            "marker": {
             "line": {
              "color": "#E5ECF6",
              "width": 0.5
             },
             "pattern": {
              "fillmode": "overlay",
              "size": 10,
              "solidity": 0.2
             }
            },
            "type": "bar"
           }
          ],
          "barpolar": [
           {
            "marker": {
             "line": {
              "color": "#E5ECF6",
              "width": 0.5
             },
             "pattern": {
              "fillmode": "overlay",
              "size": 10,
              "solidity": 0.2
             }
            },
            "type": "barpolar"
           }
          ],
          "carpet": [
           {
            "aaxis": {
             "endlinecolor": "#2a3f5f",
             "gridcolor": "white",
             "linecolor": "white",
             "minorgridcolor": "white",
             "startlinecolor": "#2a3f5f"
            },
            "baxis": {
             "endlinecolor": "#2a3f5f",
             "gridcolor": "white",
             "linecolor": "white",
             "minorgridcolor": "white",
             "startlinecolor": "#2a3f5f"
            },
            "type": "carpet"
           }
          ],
          "choropleth": [
           {
            "colorbar": {
             "outlinewidth": 0,
             "ticks": ""
            },
            "type": "choropleth"
           }
          ],
          "contour": [
           {
            "colorbar": {
             "outlinewidth": 0,
             "ticks": ""
            },
            "colorscale": [
             [
              0,
              "#0d0887"
             ],
             [
              0.1111111111111111,
              "#46039f"
             ],
             [
              0.2222222222222222,
              "#7201a8"
             ],
             [
              0.3333333333333333,
              "#9c179e"
             ],
             [
              0.4444444444444444,
              "#bd3786"
             ],
             [
              0.5555555555555556,
              "#d8576b"
             ],
             [
              0.6666666666666666,
              "#ed7953"
             ],
             [
              0.7777777777777778,
              "#fb9f3a"
             ],
             [
              0.8888888888888888,
              "#fdca26"
             ],
             [
              1,
              "#f0f921"
             ]
            ],
            "type": "contour"
           }
          ],
          "contourcarpet": [
           {
            "colorbar": {
             "outlinewidth": 0,
             "ticks": ""
            },
            "type": "contourcarpet"
           }
          ],
          "heatmap": [
           {
            "colorbar": {
             "outlinewidth": 0,
             "ticks": ""
            },
            "colorscale": [
             [
              0,
              "#0d0887"
             ],
             [
              0.1111111111111111,
              "#46039f"
             ],
             [
              0.2222222222222222,
              "#7201a8"
             ],
             [
              0.3333333333333333,
              "#9c179e"
             ],
             [
              0.4444444444444444,
              "#bd3786"
             ],
             [
              0.5555555555555556,
              "#d8576b"
             ],
             [
              0.6666666666666666,
              "#ed7953"
             ],
             [
              0.7777777777777778,
              "#fb9f3a"
             ],
             [
              0.8888888888888888,
              "#fdca26"
             ],
             [
              1,
              "#f0f921"
             ]
            ],
            "type": "heatmap"
           }
          ],
          "heatmapgl": [
           {
            "colorbar": {
             "outlinewidth": 0,
             "ticks": ""
            },
            "colorscale": [
             [
              0,
              "#0d0887"
             ],
             [
              0.1111111111111111,
              "#46039f"
             ],
             [
              0.2222222222222222,
              "#7201a8"
             ],
             [
              0.3333333333333333,
              "#9c179e"
             ],
             [
              0.4444444444444444,
              "#bd3786"
             ],
             [
              0.5555555555555556,
              "#d8576b"
             ],
             [
              0.6666666666666666,
              "#ed7953"
             ],
             [
              0.7777777777777778,
              "#fb9f3a"
             ],
             [
              0.8888888888888888,
              "#fdca26"
             ],
             [
              1,
              "#f0f921"
             ]
            ],
            "type": "heatmapgl"
           }
          ],
          "histogram": [
           {
            "marker": {
             "pattern": {
              "fillmode": "overlay",
              "size": 10,
              "solidity": 0.2
             }
            },
            "type": "histogram"
           }
          ],
          "histogram2d": [
           {
            "colorbar": {
             "outlinewidth": 0,
             "ticks": ""
            },
            "colorscale": [
             [
              0,
              "#0d0887"
             ],
             [
              0.1111111111111111,
              "#46039f"
             ],
             [
              0.2222222222222222,
              "#7201a8"
             ],
             [
              0.3333333333333333,
              "#9c179e"
             ],
             [
              0.4444444444444444,
              "#bd3786"
             ],
             [
              0.5555555555555556,
              "#d8576b"
             ],
             [
              0.6666666666666666,
              "#ed7953"
             ],
             [
              0.7777777777777778,
              "#fb9f3a"
             ],
             [
              0.8888888888888888,
              "#fdca26"
             ],
             [
              1,
              "#f0f921"
             ]
            ],
            "type": "histogram2d"
           }
          ],
          "histogram2dcontour": [
           {
            "colorbar": {
             "outlinewidth": 0,
             "ticks": ""
            },
            "colorscale": [
             [
              0,
              "#0d0887"
             ],
             [
              0.1111111111111111,
              "#46039f"
             ],
             [
              0.2222222222222222,
              "#7201a8"
             ],
             [
              0.3333333333333333,
              "#9c179e"
             ],
             [
              0.4444444444444444,
              "#bd3786"
             ],
             [
              0.5555555555555556,
              "#d8576b"
             ],
             [
              0.6666666666666666,
              "#ed7953"
             ],
             [
              0.7777777777777778,
              "#fb9f3a"
             ],
             [
              0.8888888888888888,
              "#fdca26"
             ],
             [
              1,
              "#f0f921"
             ]
            ],
            "type": "histogram2dcontour"
           }
          ],
          "mesh3d": [
           {
            "colorbar": {
             "outlinewidth": 0,
             "ticks": ""
            },
            "type": "mesh3d"
           }
          ],
          "parcoords": [
           {
            "line": {
             "colorbar": {
              "outlinewidth": 0,
              "ticks": ""
             }
            },
            "type": "parcoords"
           }
          ],
          "pie": [
           {
            "automargin": true,
            "type": "pie"
           }
          ],
          "scatter": [
           {
            "marker": {
             "colorbar": {
              "outlinewidth": 0,
              "ticks": ""
             }
            },
            "type": "scatter"
           }
          ],
          "scatter3d": [
           {
            "line": {
             "colorbar": {
              "outlinewidth": 0,
              "ticks": ""
             }
            },
            "marker": {
             "colorbar": {
              "outlinewidth": 0,
              "ticks": ""
             }
            },
            "type": "scatter3d"
           }
          ],
          "scattercarpet": [
           {
            "marker": {
             "colorbar": {
              "outlinewidth": 0,
              "ticks": ""
             }
            },
            "type": "scattercarpet"
           }
          ],
          "scattergeo": [
           {
            "marker": {
             "colorbar": {
              "outlinewidth": 0,
              "ticks": ""
             }
            },
            "type": "scattergeo"
           }
          ],
          "scattergl": [
           {
            "marker": {
             "colorbar": {
              "outlinewidth": 0,
              "ticks": ""
             }
            },
            "type": "scattergl"
           }
          ],
          "scattermapbox": [
           {
            "marker": {
             "colorbar": {
              "outlinewidth": 0,
              "ticks": ""
             }
            },
            "type": "scattermapbox"
           }
          ],
          "scatterpolar": [
           {
            "marker": {
             "colorbar": {
              "outlinewidth": 0,
              "ticks": ""
             }
            },
            "type": "scatterpolar"
           }
          ],
          "scatterpolargl": [
           {
            "marker": {
             "colorbar": {
              "outlinewidth": 0,
              "ticks": ""
             }
            },
            "type": "scatterpolargl"
           }
          ],
          "scatterternary": [
           {
            "marker": {
             "colorbar": {
              "outlinewidth": 0,
              "ticks": ""
             }
            },
            "type": "scatterternary"
           }
          ],
          "surface": [
           {
            "colorbar": {
             "outlinewidth": 0,
             "ticks": ""
            },
            "colorscale": [
             [
              0,
              "#0d0887"
             ],
             [
              0.1111111111111111,
              "#46039f"
             ],
             [
              0.2222222222222222,
              "#7201a8"
             ],
             [
              0.3333333333333333,
              "#9c179e"
             ],
             [
              0.4444444444444444,
              "#bd3786"
             ],
             [
              0.5555555555555556,
              "#d8576b"
             ],
             [
              0.6666666666666666,
              "#ed7953"
             ],
             [
              0.7777777777777778,
              "#fb9f3a"
             ],
             [
              0.8888888888888888,
              "#fdca26"
             ],
             [
              1,
              "#f0f921"
             ]
            ],
            "type": "surface"
           }
          ],
          "table": [
           {
            "cells": {
             "fill": {
              "color": "#EBF0F8"
             },
             "line": {
              "color": "white"
             }
            },
            "header": {
             "fill": {
              "color": "#C8D4E3"
             },
             "line": {
              "color": "white"
             }
            },
            "type": "table"
           }
          ]
         },
         "layout": {
          "annotationdefaults": {
           "arrowcolor": "#2a3f5f",
           "arrowhead": 0,
           "arrowwidth": 1
          },
          "autotypenumbers": "strict",
          "coloraxis": {
           "colorbar": {
            "outlinewidth": 0,
            "ticks": ""
           }
          },
          "colorscale": {
           "diverging": [
            [
             0,
             "#8e0152"
            ],
            [
             0.1,
             "#c51b7d"
            ],
            [
             0.2,
             "#de77ae"
            ],
            [
             0.3,
             "#f1b6da"
            ],
            [
             0.4,
             "#fde0ef"
            ],
            [
             0.5,
             "#f7f7f7"
            ],
            [
             0.6,
             "#e6f5d0"
            ],
            [
             0.7,
             "#b8e186"
            ],
            [
             0.8,
             "#7fbc41"
            ],
            [
             0.9,
             "#4d9221"
            ],
            [
             1,
             "#276419"
            ]
           ],
           "sequential": [
            [
             0,
             "#0d0887"
            ],
            [
             0.1111111111111111,
             "#46039f"
            ],
            [
             0.2222222222222222,
             "#7201a8"
            ],
            [
             0.3333333333333333,
             "#9c179e"
            ],
            [
             0.4444444444444444,
             "#bd3786"
            ],
            [
             0.5555555555555556,
             "#d8576b"
            ],
            [
             0.6666666666666666,
             "#ed7953"
            ],
            [
             0.7777777777777778,
             "#fb9f3a"
            ],
            [
             0.8888888888888888,
             "#fdca26"
            ],
            [
             1,
             "#f0f921"
            ]
           ],
           "sequentialminus": [
            [
             0,
             "#0d0887"
            ],
            [
             0.1111111111111111,
             "#46039f"
            ],
            [
             0.2222222222222222,
             "#7201a8"
            ],
            [
             0.3333333333333333,
             "#9c179e"
            ],
            [
             0.4444444444444444,
             "#bd3786"
            ],
            [
             0.5555555555555556,
             "#d8576b"
            ],
            [
             0.6666666666666666,
             "#ed7953"
            ],
            [
             0.7777777777777778,
             "#fb9f3a"
            ],
            [
             0.8888888888888888,
             "#fdca26"
            ],
            [
             1,
             "#f0f921"
            ]
           ]
          },
          "colorway": [
           "#636efa",
           "#EF553B",
           "#00cc96",
           "#ab63fa",
           "#FFA15A",
           "#19d3f3",
           "#FF6692",
           "#B6E880",
           "#FF97FF",
           "#FECB52"
          ],
          "font": {
           "color": "#2a3f5f"
          },
          "geo": {
           "bgcolor": "white",
           "lakecolor": "white",
           "landcolor": "#E5ECF6",
           "showlakes": true,
           "showland": true,
           "subunitcolor": "white"
          },
          "hoverlabel": {
           "align": "left"
          },
          "hovermode": "closest",
          "mapbox": {
           "style": "light"
          },
          "paper_bgcolor": "white",
          "plot_bgcolor": "#E5ECF6",
          "polar": {
           "angularaxis": {
            "gridcolor": "white",
            "linecolor": "white",
            "ticks": ""
           },
           "bgcolor": "#E5ECF6",
           "radialaxis": {
            "gridcolor": "white",
            "linecolor": "white",
            "ticks": ""
           }
          },
          "scene": {
           "xaxis": {
            "backgroundcolor": "#E5ECF6",
            "gridcolor": "white",
            "gridwidth": 2,
            "linecolor": "white",
            "showbackground": true,
            "ticks": "",
            "zerolinecolor": "white"
           },
           "yaxis": {
            "backgroundcolor": "#E5ECF6",
            "gridcolor": "white",
            "gridwidth": 2,
            "linecolor": "white",
            "showbackground": true,
            "ticks": "",
            "zerolinecolor": "white"
           },
           "zaxis": {
            "backgroundcolor": "#E5ECF6",
            "gridcolor": "white",
            "gridwidth": 2,
            "linecolor": "white",
            "showbackground": true,
            "ticks": "",
            "zerolinecolor": "white"
           }
          },
          "shapedefaults": {
           "line": {
            "color": "#2a3f5f"
           }
          },
          "ternary": {
           "aaxis": {
            "gridcolor": "white",
            "linecolor": "white",
            "ticks": ""
           },
           "baxis": {
            "gridcolor": "white",
            "linecolor": "white",
            "ticks": ""
           },
           "bgcolor": "#E5ECF6",
           "caxis": {
            "gridcolor": "white",
            "linecolor": "white",
            "ticks": ""
           }
          },
          "title": {
           "x": 0.05
          },
          "xaxis": {
           "automargin": true,
           "gridcolor": "white",
           "linecolor": "white",
           "ticks": "",
           "title": {
            "standoff": 15
           },
           "zerolinecolor": "white",
           "zerolinewidth": 2
          },
          "yaxis": {
           "automargin": true,
           "gridcolor": "white",
           "linecolor": "white",
           "ticks": "",
           "title": {
            "standoff": 15
           },
           "zerolinecolor": "white",
           "zerolinewidth": 2
          }
         }
        },
        "title": {
         "text": "IMPACT on different mapper"
        }
       }
      },
      "text/html": [
       "<div>                            <div id=\"fcd5699f-b884-4d33-afa6-28c3860196f0\" class=\"plotly-graph-div\" style=\"height:525px; width:100%;\"></div>            <script type=\"text/javascript\">                require([\"plotly\"], function(Plotly) {                    window.PLOTLYENV=window.PLOTLYENV || {};                                    if (document.getElementById(\"fcd5699f-b884-4d33-afa6-28c3860196f0\")) {                    Plotly.newPlot(                        \"fcd5699f-b884-4d33-afa6-28c3860196f0\",                        [{\"domain\":{\"x\":[0.0,0.2888888888888889],\"y\":[0.0,1.0]},\"labels\":[\"MODIFIER\",\"LOW\",\"MODERATE\",\"HIGH\"],\"name\":\"BWA\",\"scalegroup\":\"one\",\"type\":\"pie\",\"values\":[99.30137985725615,0.37323336457357076,0.2889308629514815,0.036455915218801815]},{\"domain\":{\"x\":[0.35555555555555557,0.6444444444444445],\"y\":[0.0,1.0]},\"labels\":[\"MODIFIER\",\"LOW\",\"MODERATE\",\"HIGH\"],\"name\":\"VGb\",\"scalegroup\":\"one\",\"type\":\"pie\",\"values\":[99.31895587127376,0.362165156182435,0.28319350395192605,0.03568546859188395]},{\"domain\":{\"x\":[0.7111111111111111,1.0],\"y\":[0.0,1.0]},\"labels\":[\"MODIFIER\",\"LOW\",\"MODERATE\",\"HIGH\"],\"name\":\"VGg\",\"scalegroup\":\"one\",\"type\":\"pie\",\"values\":[99.41198408743706,0.3479257118853279,0.22838920770758778,0.0117009929700198]}],                        {\"annotations\":[{\"font\":{\"size\":16},\"showarrow\":false,\"text\":\"BWA\",\"x\":0.14444444444444446,\"xanchor\":\"center\",\"xref\":\"paper\",\"y\":1.0,\"yanchor\":\"bottom\",\"yref\":\"paper\"},{\"font\":{\"size\":16},\"showarrow\":false,\"text\":\"VGbam\",\"x\":0.5,\"xanchor\":\"center\",\"xref\":\"paper\",\"y\":1.0,\"yanchor\":\"bottom\",\"yref\":\"paper\"},{\"font\":{\"size\":16},\"showarrow\":false,\"text\":\"VGgam\",\"x\":0.8555555555555556,\"xanchor\":\"center\",\"xref\":\"paper\",\"y\":1.0,\"yanchor\":\"bottom\",\"yref\":\"paper\"}],\"template\":{\"data\":{\"bar\":[{\"error_x\":{\"color\":\"#2a3f5f\"},\"error_y\":{\"color\":\"#2a3f5f\"},\"marker\":{\"line\":{\"color\":\"#E5ECF6\",\"width\":0.5},\"pattern\":{\"fillmode\":\"overlay\",\"size\":10,\"solidity\":0.2}},\"type\":\"bar\"}],\"barpolar\":[{\"marker\":{\"line\":{\"color\":\"#E5ECF6\",\"width\":0.5},\"pattern\":{\"fillmode\":\"overlay\",\"size\":10,\"solidity\":0.2}},\"type\":\"barpolar\"}],\"carpet\":[{\"aaxis\":{\"endlinecolor\":\"#2a3f5f\",\"gridcolor\":\"white\",\"linecolor\":\"white\",\"minorgridcolor\":\"white\",\"startlinecolor\":\"#2a3f5f\"},\"baxis\":{\"endlinecolor\":\"#2a3f5f\",\"gridcolor\":\"white\",\"linecolor\":\"white\",\"minorgridcolor\":\"white\",\"startlinecolor\":\"#2a3f5f\"},\"type\":\"carpet\"}],\"choropleth\":[{\"colorbar\":{\"outlinewidth\":0,\"ticks\":\"\"},\"type\":\"choropleth\"}],\"contour\":[{\"colorbar\":{\"outlinewidth\":0,\"ticks\":\"\"},\"colorscale\":[[0.0,\"#0d0887\"],[0.1111111111111111,\"#46039f\"],[0.2222222222222222,\"#7201a8\"],[0.3333333333333333,\"#9c179e\"],[0.4444444444444444,\"#bd3786\"],[0.5555555555555556,\"#d8576b\"],[0.6666666666666666,\"#ed7953\"],[0.7777777777777778,\"#fb9f3a\"],[0.8888888888888888,\"#fdca26\"],[1.0,\"#f0f921\"]],\"type\":\"contour\"}],\"contourcarpet\":[{\"colorbar\":{\"outlinewidth\":0,\"ticks\":\"\"},\"type\":\"contourcarpet\"}],\"heatmap\":[{\"colorbar\":{\"outlinewidth\":0,\"ticks\":\"\"},\"colorscale\":[[0.0,\"#0d0887\"],[0.1111111111111111,\"#46039f\"],[0.2222222222222222,\"#7201a8\"],[0.3333333333333333,\"#9c179e\"],[0.4444444444444444,\"#bd3786\"],[0.5555555555555556,\"#d8576b\"],[0.6666666666666666,\"#ed7953\"],[0.7777777777777778,\"#fb9f3a\"],[0.8888888888888888,\"#fdca26\"],[1.0,\"#f0f921\"]],\"type\":\"heatmap\"}],\"heatmapgl\":[{\"colorbar\":{\"outlinewidth\":0,\"ticks\":\"\"},\"colorscale\":[[0.0,\"#0d0887\"],[0.1111111111111111,\"#46039f\"],[0.2222222222222222,\"#7201a8\"],[0.3333333333333333,\"#9c179e\"],[0.4444444444444444,\"#bd3786\"],[0.5555555555555556,\"#d8576b\"],[0.6666666666666666,\"#ed7953\"],[0.7777777777777778,\"#fb9f3a\"],[0.8888888888888888,\"#fdca26\"],[1.0,\"#f0f921\"]],\"type\":\"heatmapgl\"}],\"histogram\":[{\"marker\":{\"pattern\":{\"fillmode\":\"overlay\",\"size\":10,\"solidity\":0.2}},\"type\":\"histogram\"}],\"histogram2d\":[{\"colorbar\":{\"outlinewidth\":0,\"ticks\":\"\"},\"colorscale\":[[0.0,\"#0d0887\"],[0.1111111111111111,\"#46039f\"],[0.2222222222222222,\"#7201a8\"],[0.3333333333333333,\"#9c179e\"],[0.4444444444444444,\"#bd3786\"],[0.5555555555555556,\"#d8576b\"],[0.6666666666666666,\"#ed7953\"],[0.7777777777777778,\"#fb9f3a\"],[0.8888888888888888,\"#fdca26\"],[1.0,\"#f0f921\"]],\"type\":\"histogram2d\"}],\"histogram2dcontour\":[{\"colorbar\":{\"outlinewidth\":0,\"ticks\":\"\"},\"colorscale\":[[0.0,\"#0d0887\"],[0.1111111111111111,\"#46039f\"],[0.2222222222222222,\"#7201a8\"],[0.3333333333333333,\"#9c179e\"],[0.4444444444444444,\"#bd3786\"],[0.5555555555555556,\"#d8576b\"],[0.6666666666666666,\"#ed7953\"],[0.7777777777777778,\"#fb9f3a\"],[0.8888888888888888,\"#fdca26\"],[1.0,\"#f0f921\"]],\"type\":\"histogram2dcontour\"}],\"mesh3d\":[{\"colorbar\":{\"outlinewidth\":0,\"ticks\":\"\"},\"type\":\"mesh3d\"}],\"parcoords\":[{\"line\":{\"colorbar\":{\"outlinewidth\":0,\"ticks\":\"\"}},\"type\":\"parcoords\"}],\"pie\":[{\"automargin\":true,\"type\":\"pie\"}],\"scatter\":[{\"marker\":{\"colorbar\":{\"outlinewidth\":0,\"ticks\":\"\"}},\"type\":\"scatter\"}],\"scatter3d\":[{\"line\":{\"colorbar\":{\"outlinewidth\":0,\"ticks\":\"\"}},\"marker\":{\"colorbar\":{\"outlinewidth\":0,\"ticks\":\"\"}},\"type\":\"scatter3d\"}],\"scattercarpet\":[{\"marker\":{\"colorbar\":{\"outlinewidth\":0,\"ticks\":\"\"}},\"type\":\"scattercarpet\"}],\"scattergeo\":[{\"marker\":{\"colorbar\":{\"outlinewidth\":0,\"ticks\":\"\"}},\"type\":\"scattergeo\"}],\"scattergl\":[{\"marker\":{\"colorbar\":{\"outlinewidth\":0,\"ticks\":\"\"}},\"type\":\"scattergl\"}],\"scattermapbox\":[{\"marker\":{\"colorbar\":{\"outlinewidth\":0,\"ticks\":\"\"}},\"type\":\"scattermapbox\"}],\"scatterpolar\":[{\"marker\":{\"colorbar\":{\"outlinewidth\":0,\"ticks\":\"\"}},\"type\":\"scatterpolar\"}],\"scatterpolargl\":[{\"marker\":{\"colorbar\":{\"outlinewidth\":0,\"ticks\":\"\"}},\"type\":\"scatterpolargl\"}],\"scatterternary\":[{\"marker\":{\"colorbar\":{\"outlinewidth\":0,\"ticks\":\"\"}},\"type\":\"scatterternary\"}],\"surface\":[{\"colorbar\":{\"outlinewidth\":0,\"ticks\":\"\"},\"colorscale\":[[0.0,\"#0d0887\"],[0.1111111111111111,\"#46039f\"],[0.2222222222222222,\"#7201a8\"],[0.3333333333333333,\"#9c179e\"],[0.4444444444444444,\"#bd3786\"],[0.5555555555555556,\"#d8576b\"],[0.6666666666666666,\"#ed7953\"],[0.7777777777777778,\"#fb9f3a\"],[0.8888888888888888,\"#fdca26\"],[1.0,\"#f0f921\"]],\"type\":\"surface\"}],\"table\":[{\"cells\":{\"fill\":{\"color\":\"#EBF0F8\"},\"line\":{\"color\":\"white\"}},\"header\":{\"fill\":{\"color\":\"#C8D4E3\"},\"line\":{\"color\":\"white\"}},\"type\":\"table\"}]},\"layout\":{\"annotationdefaults\":{\"arrowcolor\":\"#2a3f5f\",\"arrowhead\":0,\"arrowwidth\":1},\"autotypenumbers\":\"strict\",\"coloraxis\":{\"colorbar\":{\"outlinewidth\":0,\"ticks\":\"\"}},\"colorscale\":{\"diverging\":[[0,\"#8e0152\"],[0.1,\"#c51b7d\"],[0.2,\"#de77ae\"],[0.3,\"#f1b6da\"],[0.4,\"#fde0ef\"],[0.5,\"#f7f7f7\"],[0.6,\"#e6f5d0\"],[0.7,\"#b8e186\"],[0.8,\"#7fbc41\"],[0.9,\"#4d9221\"],[1,\"#276419\"]],\"sequential\":[[0.0,\"#0d0887\"],[0.1111111111111111,\"#46039f\"],[0.2222222222222222,\"#7201a8\"],[0.3333333333333333,\"#9c179e\"],[0.4444444444444444,\"#bd3786\"],[0.5555555555555556,\"#d8576b\"],[0.6666666666666666,\"#ed7953\"],[0.7777777777777778,\"#fb9f3a\"],[0.8888888888888888,\"#fdca26\"],[1.0,\"#f0f921\"]],\"sequentialminus\":[[0.0,\"#0d0887\"],[0.1111111111111111,\"#46039f\"],[0.2222222222222222,\"#7201a8\"],[0.3333333333333333,\"#9c179e\"],[0.4444444444444444,\"#bd3786\"],[0.5555555555555556,\"#d8576b\"],[0.6666666666666666,\"#ed7953\"],[0.7777777777777778,\"#fb9f3a\"],[0.8888888888888888,\"#fdca26\"],[1.0,\"#f0f921\"]]},\"colorway\":[\"#636efa\",\"#EF553B\",\"#00cc96\",\"#ab63fa\",\"#FFA15A\",\"#19d3f3\",\"#FF6692\",\"#B6E880\",\"#FF97FF\",\"#FECB52\"],\"font\":{\"color\":\"#2a3f5f\"},\"geo\":{\"bgcolor\":\"white\",\"lakecolor\":\"white\",\"landcolor\":\"#E5ECF6\",\"showlakes\":true,\"showland\":true,\"subunitcolor\":\"white\"},\"hoverlabel\":{\"align\":\"left\"},\"hovermode\":\"closest\",\"mapbox\":{\"style\":\"light\"},\"paper_bgcolor\":\"white\",\"plot_bgcolor\":\"#E5ECF6\",\"polar\":{\"angularaxis\":{\"gridcolor\":\"white\",\"linecolor\":\"white\",\"ticks\":\"\"},\"bgcolor\":\"#E5ECF6\",\"radialaxis\":{\"gridcolor\":\"white\",\"linecolor\":\"white\",\"ticks\":\"\"}},\"scene\":{\"xaxis\":{\"backgroundcolor\":\"#E5ECF6\",\"gridcolor\":\"white\",\"gridwidth\":2,\"linecolor\":\"white\",\"showbackground\":true,\"ticks\":\"\",\"zerolinecolor\":\"white\"},\"yaxis\":{\"backgroundcolor\":\"#E5ECF6\",\"gridcolor\":\"white\",\"gridwidth\":2,\"linecolor\":\"white\",\"showbackground\":true,\"ticks\":\"\",\"zerolinecolor\":\"white\"},\"zaxis\":{\"backgroundcolor\":\"#E5ECF6\",\"gridcolor\":\"white\",\"gridwidth\":2,\"linecolor\":\"white\",\"showbackground\":true,\"ticks\":\"\",\"zerolinecolor\":\"white\"}},\"shapedefaults\":{\"line\":{\"color\":\"#2a3f5f\"}},\"ternary\":{\"aaxis\":{\"gridcolor\":\"white\",\"linecolor\":\"white\",\"ticks\":\"\"},\"baxis\":{\"gridcolor\":\"white\",\"linecolor\":\"white\",\"ticks\":\"\"},\"bgcolor\":\"#E5ECF6\",\"caxis\":{\"gridcolor\":\"white\",\"linecolor\":\"white\",\"ticks\":\"\"}},\"title\":{\"x\":0.05},\"xaxis\":{\"automargin\":true,\"gridcolor\":\"white\",\"linecolor\":\"white\",\"ticks\":\"\",\"title\":{\"standoff\":15},\"zerolinecolor\":\"white\",\"zerolinewidth\":2},\"yaxis\":{\"automargin\":true,\"gridcolor\":\"white\",\"linecolor\":\"white\",\"ticks\":\"\",\"title\":{\"standoff\":15},\"zerolinecolor\":\"white\",\"zerolinewidth\":2}}},\"title\":{\"text\":\"IMPACT on different mapper\"}},                        {\"responsive\": true}                    ).then(function(){\n",
       "                            \n",
       "var gd = document.getElementById('fcd5699f-b884-4d33-afa6-28c3860196f0');\n",
       "var x = new MutationObserver(function (mutations, observer) {{\n",
       "        var display = window.getComputedStyle(gd).display;\n",
       "        if (!display || display === 'none') {{\n",
       "            console.log([gd, 'removed!']);\n",
       "            Plotly.purge(gd);\n",
       "            observer.disconnect();\n",
       "        }}\n",
       "}});\n",
       "\n",
       "// Listen for the removal of the full notebook cells\n",
       "var notebookContainer = gd.closest('#notebook-container');\n",
       "if (notebookContainer) {{\n",
       "    x.observe(notebookContainer, {childList: true});\n",
       "}}\n",
       "\n",
       "// Listen for the clearing of the current output cell\n",
       "var outputEl = gd.closest('.output');\n",
       "if (outputEl) {{\n",
       "    x.observe(outputEl, {childList: true});\n",
       "}}\n",
       "\n",
       "                        })                };                });            </script>        </div>"
      ]
     },
     "metadata": {},
     "output_type": "display_data"
    }
   ],
   "source": [
    "fig = make_subplots(1, 3, specs=[[{'type':'domain'}, {'type':'domain'}, {'type':'domain'}]],\n",
    "                    subplot_titles=['BWA', 'VGbam','VGgam'])\n",
    "\n",
    "fig.add_trace(go.Pie(labels=count_imp_bwa[\"ID\"], values=count_imp_bwa[\"pct\"], scalegroup='one',\n",
    "                     name=\"BWA\"), 1, 1)\n",
    "fig.add_trace(go.Pie(labels=count_imp_VGb[\"ID\"], values=count_imp_VGb[\"pct\"], scalegroup='one',\n",
    "                     name=\"VGb\"), 1, 2)\n",
    "fig.add_trace(go.Pie(labels=count_imp_VGg[\"ID\"], values=count_imp_VGg[\"pct\"], scalegroup='one',\n",
    "                     name=\"VGg\"), 1, 3)\n",
    "\n",
    "fig.update_layout(title_text='IMPACT on different mapper')\n",
    "fig.show()\n",
    "\n"
   ]
  },
  {
   "cell_type": "markdown",
   "id": "0de0a972",
   "metadata": {},
   "source": [
    "# \n",
    "Less high impact using VGgam\n",
    "The other two are comparable\n",
    "\n",
    "To do: Verify if some variant are in different categories with different mappers"
   ]
  },
  {
   "cell_type": "markdown",
   "id": "f306cd06",
   "metadata": {},
   "source": [
    "#### Check over time trend\n",
    "\n",
    "Take same mapper and analyse the % on different individuals through time "
   ]
  },
  {
   "cell_type": "code",
   "execution_count": 41,
   "id": "dfccf164",
   "metadata": {},
   "outputs": [],
   "source": [
    "count_imp_bwa_BR2 = dataBWA_BR[\"IMPACT\"].value_counts()\n",
    "count_imp_bwa_BR2 = count_imp_bwa_BR2.to_frame(name=\"vals\")\n",
    "count_imp_bwa_BR2.reset_index(level=0,inplace=True)\n",
    "count_imp_bwa_BR2.rename(columns={\"index\": \"ID\", \"vals\":\"vals\"},inplace=True)\n",
    "count_imp_bwa_BR2[\"pct\"] = count_imp_bwa_BR2[\"vals\"] * 100 / sum(count_imp_bwa_BR2[\"vals\"])"
   ]
  },
  {
   "cell_type": "code",
   "execution_count": 42,
   "id": "29e4765d",
   "metadata": {},
   "outputs": [],
   "source": [
    "count_imp_bwa_BOT = count_imp_bwa"
   ]
  },
  {
   "cell_type": "code",
   "execution_count": 43,
   "id": "c75b21c6",
   "metadata": {},
   "outputs": [],
   "source": [
    "count_imp_bwa_SF12 = dataBWA_SF12[\"IMPACT\"].value_counts()\n",
    "count_imp_bwa_SF12 = count_imp_bwa_SF12.to_frame(name=\"vals\")\n",
    "count_imp_bwa_SF12.reset_index(level=0,inplace=True)\n",
    "count_imp_bwa_SF12.rename(columns={\"index\": \"ID\", \"vals\":\"vals\"},inplace=True)\n",
    "count_imp_bwa_SF12[\"pct\"] = count_imp_bwa_SF12[\"vals\"] * 100 / sum(count_imp_bwa_SF12[\"vals\"])"
   ]
  },
  {
   "cell_type": "code",
   "execution_count": 44,
   "id": "475e792d",
   "metadata": {},
   "outputs": [
    {
     "ename": "NameError",
     "evalue": "name 'dataBWA_Ust' is not defined",
     "output_type": "error",
     "traceback": [
      "\u001b[1;31m---------------------------------------------------------------------------\u001b[0m",
      "\u001b[1;31mNameError\u001b[0m                                 Traceback (most recent call last)",
      "\u001b[1;32m<ipython-input-44-114c6b84f722>\u001b[0m in \u001b[0;36m<module>\u001b[1;34m\u001b[0m\n\u001b[1;32m----> 1\u001b[1;33m \u001b[0mcount_imp_bwa_Ust\u001b[0m \u001b[1;33m=\u001b[0m \u001b[0mdataBWA_Ust\u001b[0m\u001b[1;33m[\u001b[0m\u001b[1;34m\"IMPACT\"\u001b[0m\u001b[1;33m]\u001b[0m\u001b[1;33m.\u001b[0m\u001b[0mvalue_counts\u001b[0m\u001b[1;33m(\u001b[0m\u001b[1;33m)\u001b[0m\u001b[1;33m\u001b[0m\u001b[1;33m\u001b[0m\u001b[0m\n\u001b[0m\u001b[0;32m      2\u001b[0m \u001b[0mcount_imp_bwa_Ust\u001b[0m \u001b[1;33m=\u001b[0m \u001b[0mcount_imp_bwa_Ust\u001b[0m\u001b[1;33m.\u001b[0m\u001b[0mto_frame\u001b[0m\u001b[1;33m(\u001b[0m\u001b[0mname\u001b[0m\u001b[1;33m=\u001b[0m\u001b[1;34m\"vals\"\u001b[0m\u001b[1;33m)\u001b[0m\u001b[1;33m\u001b[0m\u001b[1;33m\u001b[0m\u001b[0m\n\u001b[0;32m      3\u001b[0m \u001b[0mcount_imp_bwa_Ust\u001b[0m\u001b[1;33m.\u001b[0m\u001b[0mreset_index\u001b[0m\u001b[1;33m(\u001b[0m\u001b[0mlevel\u001b[0m\u001b[1;33m=\u001b[0m\u001b[1;36m0\u001b[0m\u001b[1;33m,\u001b[0m\u001b[0minplace\u001b[0m\u001b[1;33m=\u001b[0m\u001b[1;32mTrue\u001b[0m\u001b[1;33m)\u001b[0m\u001b[1;33m\u001b[0m\u001b[1;33m\u001b[0m\u001b[0m\n\u001b[0;32m      4\u001b[0m \u001b[0mcount_imp_bwa_Ust\u001b[0m\u001b[1;33m.\u001b[0m\u001b[0mrename\u001b[0m\u001b[1;33m(\u001b[0m\u001b[0mcolumns\u001b[0m\u001b[1;33m=\u001b[0m\u001b[1;33m{\u001b[0m\u001b[1;34m\"index\"\u001b[0m\u001b[1;33m:\u001b[0m \u001b[1;34m\"ID\"\u001b[0m\u001b[1;33m,\u001b[0m \u001b[1;34m\"vals\"\u001b[0m\u001b[1;33m:\u001b[0m\u001b[1;34m\"vals\"\u001b[0m\u001b[1;33m}\u001b[0m\u001b[1;33m,\u001b[0m\u001b[0minplace\u001b[0m\u001b[1;33m=\u001b[0m\u001b[1;32mTrue\u001b[0m\u001b[1;33m)\u001b[0m\u001b[1;33m\u001b[0m\u001b[1;33m\u001b[0m\u001b[0m\n\u001b[0;32m      5\u001b[0m \u001b[0mcount_imp_bwa_Ust\u001b[0m\u001b[1;33m[\u001b[0m\u001b[1;34m\"pct\"\u001b[0m\u001b[1;33m]\u001b[0m \u001b[1;33m=\u001b[0m \u001b[0mcount_imp_bwa_Ust\u001b[0m\u001b[1;33m[\u001b[0m\u001b[1;34m\"vals\"\u001b[0m\u001b[1;33m]\u001b[0m \u001b[1;33m*\u001b[0m \u001b[1;36m100\u001b[0m \u001b[1;33m/\u001b[0m \u001b[0msum\u001b[0m\u001b[1;33m(\u001b[0m\u001b[0mcount_imp_bwa_Ust\u001b[0m\u001b[1;33m[\u001b[0m\u001b[1;34m\"vals\"\u001b[0m\u001b[1;33m]\u001b[0m\u001b[1;33m)\u001b[0m\u001b[1;33m\u001b[0m\u001b[1;33m\u001b[0m\u001b[0m\n",
      "\u001b[1;31mNameError\u001b[0m: name 'dataBWA_Ust' is not defined"
     ]
    }
   ],
   "source": [
    "count_imp_bwa_Ust = dataBWA_Ust[\"IMPACT\"].value_counts()\n",
    "count_imp_bwa_Ust = count_imp_bwa_Ust.to_frame(name=\"vals\")\n",
    "count_imp_bwa_Ust.reset_index(level=0,inplace=True)\n",
    "count_imp_bwa_Ust.rename(columns={\"index\": \"ID\", \"vals\":\"vals\"},inplace=True)\n",
    "count_imp_bwa_Ust[\"pct\"] = count_imp_bwa_Ust[\"vals\"] * 100 / sum(count_imp_bwa_Ust[\"vals\"])"
   ]
  },
  {
   "cell_type": "code",
   "execution_count": 124,
   "id": "d8600eb9",
   "metadata": {
    "scrolled": false
   },
   "outputs": [
    {
     "data": {
      "application/vnd.plotly.v1+json": {
       "config": {
        "plotlyServerURL": "https://plot.ly"
       },
       "data": [
        {
         "domain": {
          "x": [
           0,
           0.2125
          ],
          "y": [
           0,
           1
          ]
         },
         "labels": [
          "MODIFIER",
          "LOW",
          "MODERATE",
          "HIGH"
         ],
         "name": "BWA",
         "scalegroup": "one",
         "type": "pie",
         "values": [
          99.32838953317972,
          0.3647163764361296,
          0.27622950324068934,
          0.03066458714346769
         ]
        },
        {
         "domain": {
          "x": [
           0.2625,
           0.475
          ],
          "y": [
           0,
           1
          ]
         },
         "labels": [
          "MODIFIER",
          "LOW",
          "MODERATE",
          "HIGH"
         ],
         "name": "BWA",
         "scalegroup": "one",
         "type": "pie",
         "values": [
          99.30137985725615,
          0.37323336457357076,
          0.2889308629514815,
          0.036455915218801815
         ]
        },
        {
         "domain": {
          "x": [
           0.525,
           0.7375
          ],
          "y": [
           0,
           1
          ]
         },
         "labels": [
          "MODIFIER",
          "LOW",
          "MODERATE",
          "HIGH"
         ],
         "name": "BWA",
         "scalegroup": "one",
         "type": "pie",
         "values": [
          99.42887086259974,
          0.3411833102363877,
          0.21464035533877313,
          0.015305471825095672
         ]
        },
        {
         "domain": {
          "x": [
           0.7875,
           1
          ],
          "y": [
           0,
           1
          ]
         },
         "labels": [
          "MODIFIER",
          "LOW",
          "MODERATE",
          "HIGH"
         ],
         "name": "BWA",
         "scalegroup": "one",
         "type": "pie",
         "values": [
          99.40196914925194,
          0.35288338949071096,
          0.2289346758240537,
          0.0162127854332962
         ]
        }
       ],
       "layout": {
        "annotations": [
         {
          "font": {
           "size": 16
          },
          "showarrow": false,
          "text": "BR2 (2.8k)",
          "x": 0.10625,
          "xanchor": "center",
          "xref": "paper",
          "y": 1,
          "yanchor": "bottom",
          "yref": "paper"
         },
         {
          "font": {
           "size": 16
          },
          "showarrow": false,
          "text": "BOT16(5.4k)",
          "x": 0.36875,
          "xanchor": "center",
          "xref": "paper",
          "y": 1,
          "yanchor": "bottom",
          "yref": "paper"
         },
         {
          "font": {
           "size": 16
          },
          "showarrow": false,
          "text": "SF12(8.8k)",
          "x": 0.6312500000000001,
          "xanchor": "center",
          "xref": "paper",
          "y": 1,
          "yanchor": "bottom",
          "yref": "paper"
         },
         {
          "font": {
           "size": 16
          },
          "showarrow": false,
          "text": "Ust(44k)",
          "x": 0.89375,
          "xanchor": "center",
          "xref": "paper",
          "y": 1,
          "yanchor": "bottom",
          "yref": "paper"
         }
        ],
        "template": {
         "data": {
          "bar": [
           {
            "error_x": {
             "color": "#2a3f5f"
            },
            "error_y": {
             "color": "#2a3f5f"
            },
            "marker": {
             "line": {
              "color": "#E5ECF6",
              "width": 0.5
             },
             "pattern": {
              "fillmode": "overlay",
              "size": 10,
              "solidity": 0.2
             }
            },
            "type": "bar"
           }
          ],
          "barpolar": [
           {
            "marker": {
             "line": {
              "color": "#E5ECF6",
              "width": 0.5
             },
             "pattern": {
              "fillmode": "overlay",
              "size": 10,
              "solidity": 0.2
             }
            },
            "type": "barpolar"
           }
          ],
          "carpet": [
           {
            "aaxis": {
             "endlinecolor": "#2a3f5f",
             "gridcolor": "white",
             "linecolor": "white",
             "minorgridcolor": "white",
             "startlinecolor": "#2a3f5f"
            },
            "baxis": {
             "endlinecolor": "#2a3f5f",
             "gridcolor": "white",
             "linecolor": "white",
             "minorgridcolor": "white",
             "startlinecolor": "#2a3f5f"
            },
            "type": "carpet"
           }
          ],
          "choropleth": [
           {
            "colorbar": {
             "outlinewidth": 0,
             "ticks": ""
            },
            "type": "choropleth"
           }
          ],
          "contour": [
           {
            "colorbar": {
             "outlinewidth": 0,
             "ticks": ""
            },
            "colorscale": [
             [
              0,
              "#0d0887"
             ],
             [
              0.1111111111111111,
              "#46039f"
             ],
             [
              0.2222222222222222,
              "#7201a8"
             ],
             [
              0.3333333333333333,
              "#9c179e"
             ],
             [
              0.4444444444444444,
              "#bd3786"
             ],
             [
              0.5555555555555556,
              "#d8576b"
             ],
             [
              0.6666666666666666,
              "#ed7953"
             ],
             [
              0.7777777777777778,
              "#fb9f3a"
             ],
             [
              0.8888888888888888,
              "#fdca26"
             ],
             [
              1,
              "#f0f921"
             ]
            ],
            "type": "contour"
           }
          ],
          "contourcarpet": [
           {
            "colorbar": {
             "outlinewidth": 0,
             "ticks": ""
            },
            "type": "contourcarpet"
           }
          ],
          "heatmap": [
           {
            "colorbar": {
             "outlinewidth": 0,
             "ticks": ""
            },
            "colorscale": [
             [
              0,
              "#0d0887"
             ],
             [
              0.1111111111111111,
              "#46039f"
             ],
             [
              0.2222222222222222,
              "#7201a8"
             ],
             [
              0.3333333333333333,
              "#9c179e"
             ],
             [
              0.4444444444444444,
              "#bd3786"
             ],
             [
              0.5555555555555556,
              "#d8576b"
             ],
             [
              0.6666666666666666,
              "#ed7953"
             ],
             [
              0.7777777777777778,
              "#fb9f3a"
             ],
             [
              0.8888888888888888,
              "#fdca26"
             ],
             [
              1,
              "#f0f921"
             ]
            ],
            "type": "heatmap"
           }
          ],
          "heatmapgl": [
           {
            "colorbar": {
             "outlinewidth": 0,
             "ticks": ""
            },
            "colorscale": [
             [
              0,
              "#0d0887"
             ],
             [
              0.1111111111111111,
              "#46039f"
             ],
             [
              0.2222222222222222,
              "#7201a8"
             ],
             [
              0.3333333333333333,
              "#9c179e"
             ],
             [
              0.4444444444444444,
              "#bd3786"
             ],
             [
              0.5555555555555556,
              "#d8576b"
             ],
             [
              0.6666666666666666,
              "#ed7953"
             ],
             [
              0.7777777777777778,
              "#fb9f3a"
             ],
             [
              0.8888888888888888,
              "#fdca26"
             ],
             [
              1,
              "#f0f921"
             ]
            ],
            "type": "heatmapgl"
           }
          ],
          "histogram": [
           {
            "marker": {
             "pattern": {
              "fillmode": "overlay",
              "size": 10,
              "solidity": 0.2
             }
            },
            "type": "histogram"
           }
          ],
          "histogram2d": [
           {
            "colorbar": {
             "outlinewidth": 0,
             "ticks": ""
            },
            "colorscale": [
             [
              0,
              "#0d0887"
             ],
             [
              0.1111111111111111,
              "#46039f"
             ],
             [
              0.2222222222222222,
              "#7201a8"
             ],
             [
              0.3333333333333333,
              "#9c179e"
             ],
             [
              0.4444444444444444,
              "#bd3786"
             ],
             [
              0.5555555555555556,
              "#d8576b"
             ],
             [
              0.6666666666666666,
              "#ed7953"
             ],
             [
              0.7777777777777778,
              "#fb9f3a"
             ],
             [
              0.8888888888888888,
              "#fdca26"
             ],
             [
              1,
              "#f0f921"
             ]
            ],
            "type": "histogram2d"
           }
          ],
          "histogram2dcontour": [
           {
            "colorbar": {
             "outlinewidth": 0,
             "ticks": ""
            },
            "colorscale": [
             [
              0,
              "#0d0887"
             ],
             [
              0.1111111111111111,
              "#46039f"
             ],
             [
              0.2222222222222222,
              "#7201a8"
             ],
             [
              0.3333333333333333,
              "#9c179e"
             ],
             [
              0.4444444444444444,
              "#bd3786"
             ],
             [
              0.5555555555555556,
              "#d8576b"
             ],
             [
              0.6666666666666666,
              "#ed7953"
             ],
             [
              0.7777777777777778,
              "#fb9f3a"
             ],
             [
              0.8888888888888888,
              "#fdca26"
             ],
             [
              1,
              "#f0f921"
             ]
            ],
            "type": "histogram2dcontour"
           }
          ],
          "mesh3d": [
           {
            "colorbar": {
             "outlinewidth": 0,
             "ticks": ""
            },
            "type": "mesh3d"
           }
          ],
          "parcoords": [
           {
            "line": {
             "colorbar": {
              "outlinewidth": 0,
              "ticks": ""
             }
            },
            "type": "parcoords"
           }
          ],
          "pie": [
           {
            "automargin": true,
            "type": "pie"
           }
          ],
          "scatter": [
           {
            "marker": {
             "colorbar": {
              "outlinewidth": 0,
              "ticks": ""
             }
            },
            "type": "scatter"
           }
          ],
          "scatter3d": [
           {
            "line": {
             "colorbar": {
              "outlinewidth": 0,
              "ticks": ""
             }
            },
            "marker": {
             "colorbar": {
              "outlinewidth": 0,
              "ticks": ""
             }
            },
            "type": "scatter3d"
           }
          ],
          "scattercarpet": [
           {
            "marker": {
             "colorbar": {
              "outlinewidth": 0,
              "ticks": ""
             }
            },
            "type": "scattercarpet"
           }
          ],
          "scattergeo": [
           {
            "marker": {
             "colorbar": {
              "outlinewidth": 0,
              "ticks": ""
             }
            },
            "type": "scattergeo"
           }
          ],
          "scattergl": [
           {
            "marker": {
             "colorbar": {
              "outlinewidth": 0,
              "ticks": ""
             }
            },
            "type": "scattergl"
           }
          ],
          "scattermapbox": [
           {
            "marker": {
             "colorbar": {
              "outlinewidth": 0,
              "ticks": ""
             }
            },
            "type": "scattermapbox"
           }
          ],
          "scatterpolar": [
           {
            "marker": {
             "colorbar": {
              "outlinewidth": 0,
              "ticks": ""
             }
            },
            "type": "scatterpolar"
           }
          ],
          "scatterpolargl": [
           {
            "marker": {
             "colorbar": {
              "outlinewidth": 0,
              "ticks": ""
             }
            },
            "type": "scatterpolargl"
           }
          ],
          "scatterternary": [
           {
            "marker": {
             "colorbar": {
              "outlinewidth": 0,
              "ticks": ""
             }
            },
            "type": "scatterternary"
           }
          ],
          "surface": [
           {
            "colorbar": {
             "outlinewidth": 0,
             "ticks": ""
            },
            "colorscale": [
             [
              0,
              "#0d0887"
             ],
             [
              0.1111111111111111,
              "#46039f"
             ],
             [
              0.2222222222222222,
              "#7201a8"
             ],
             [
              0.3333333333333333,
              "#9c179e"
             ],
             [
              0.4444444444444444,
              "#bd3786"
             ],
             [
              0.5555555555555556,
              "#d8576b"
             ],
             [
              0.6666666666666666,
              "#ed7953"
             ],
             [
              0.7777777777777778,
              "#fb9f3a"
             ],
             [
              0.8888888888888888,
              "#fdca26"
             ],
             [
              1,
              "#f0f921"
             ]
            ],
            "type": "surface"
           }
          ],
          "table": [
           {
            "cells": {
             "fill": {
              "color": "#EBF0F8"
             },
             "line": {
              "color": "white"
             }
            },
            "header": {
             "fill": {
              "color": "#C8D4E3"
             },
             "line": {
              "color": "white"
             }
            },
            "type": "table"
           }
          ]
         },
         "layout": {
          "annotationdefaults": {
           "arrowcolor": "#2a3f5f",
           "arrowhead": 0,
           "arrowwidth": 1
          },
          "autotypenumbers": "strict",
          "coloraxis": {
           "colorbar": {
            "outlinewidth": 0,
            "ticks": ""
           }
          },
          "colorscale": {
           "diverging": [
            [
             0,
             "#8e0152"
            ],
            [
             0.1,
             "#c51b7d"
            ],
            [
             0.2,
             "#de77ae"
            ],
            [
             0.3,
             "#f1b6da"
            ],
            [
             0.4,
             "#fde0ef"
            ],
            [
             0.5,
             "#f7f7f7"
            ],
            [
             0.6,
             "#e6f5d0"
            ],
            [
             0.7,
             "#b8e186"
            ],
            [
             0.8,
             "#7fbc41"
            ],
            [
             0.9,
             "#4d9221"
            ],
            [
             1,
             "#276419"
            ]
           ],
           "sequential": [
            [
             0,
             "#0d0887"
            ],
            [
             0.1111111111111111,
             "#46039f"
            ],
            [
             0.2222222222222222,
             "#7201a8"
            ],
            [
             0.3333333333333333,
             "#9c179e"
            ],
            [
             0.4444444444444444,
             "#bd3786"
            ],
            [
             0.5555555555555556,
             "#d8576b"
            ],
            [
             0.6666666666666666,
             "#ed7953"
            ],
            [
             0.7777777777777778,
             "#fb9f3a"
            ],
            [
             0.8888888888888888,
             "#fdca26"
            ],
            [
             1,
             "#f0f921"
            ]
           ],
           "sequentialminus": [
            [
             0,
             "#0d0887"
            ],
            [
             0.1111111111111111,
             "#46039f"
            ],
            [
             0.2222222222222222,
             "#7201a8"
            ],
            [
             0.3333333333333333,
             "#9c179e"
            ],
            [
             0.4444444444444444,
             "#bd3786"
            ],
            [
             0.5555555555555556,
             "#d8576b"
            ],
            [
             0.6666666666666666,
             "#ed7953"
            ],
            [
             0.7777777777777778,
             "#fb9f3a"
            ],
            [
             0.8888888888888888,
             "#fdca26"
            ],
            [
             1,
             "#f0f921"
            ]
           ]
          },
          "colorway": [
           "#636efa",
           "#EF553B",
           "#00cc96",
           "#ab63fa",
           "#FFA15A",
           "#19d3f3",
           "#FF6692",
           "#B6E880",
           "#FF97FF",
           "#FECB52"
          ],
          "font": {
           "color": "#2a3f5f"
          },
          "geo": {
           "bgcolor": "white",
           "lakecolor": "white",
           "landcolor": "#E5ECF6",
           "showlakes": true,
           "showland": true,
           "subunitcolor": "white"
          },
          "hoverlabel": {
           "align": "left"
          },
          "hovermode": "closest",
          "mapbox": {
           "style": "light"
          },
          "paper_bgcolor": "white",
          "plot_bgcolor": "#E5ECF6",
          "polar": {
           "angularaxis": {
            "gridcolor": "white",
            "linecolor": "white",
            "ticks": ""
           },
           "bgcolor": "#E5ECF6",
           "radialaxis": {
            "gridcolor": "white",
            "linecolor": "white",
            "ticks": ""
           }
          },
          "scene": {
           "xaxis": {
            "backgroundcolor": "#E5ECF6",
            "gridcolor": "white",
            "gridwidth": 2,
            "linecolor": "white",
            "showbackground": true,
            "ticks": "",
            "zerolinecolor": "white"
           },
           "yaxis": {
            "backgroundcolor": "#E5ECF6",
            "gridcolor": "white",
            "gridwidth": 2,
            "linecolor": "white",
            "showbackground": true,
            "ticks": "",
            "zerolinecolor": "white"
           },
           "zaxis": {
            "backgroundcolor": "#E5ECF6",
            "gridcolor": "white",
            "gridwidth": 2,
            "linecolor": "white",
            "showbackground": true,
            "ticks": "",
            "zerolinecolor": "white"
           }
          },
          "shapedefaults": {
           "line": {
            "color": "#2a3f5f"
           }
          },
          "ternary": {
           "aaxis": {
            "gridcolor": "white",
            "linecolor": "white",
            "ticks": ""
           },
           "baxis": {
            "gridcolor": "white",
            "linecolor": "white",
            "ticks": ""
           },
           "bgcolor": "#E5ECF6",
           "caxis": {
            "gridcolor": "white",
            "linecolor": "white",
            "ticks": ""
           }
          },
          "title": {
           "x": 0.05
          },
          "xaxis": {
           "automargin": true,
           "gridcolor": "white",
           "linecolor": "white",
           "ticks": "",
           "title": {
            "standoff": 15
           },
           "zerolinecolor": "white",
           "zerolinewidth": 2
          },
          "yaxis": {
           "automargin": true,
           "gridcolor": "white",
           "linecolor": "white",
           "ticks": "",
           "title": {
            "standoff": 15
           },
           "zerolinecolor": "white",
           "zerolinewidth": 2
          }
         }
        },
        "title": {
         "text": "IMPACT through time"
        }
       }
      },
      "text/html": [
       "<div>                            <div id=\"6bae3a2e-d730-4035-a69c-4114f5d7f0fb\" class=\"plotly-graph-div\" style=\"height:525px; width:100%;\"></div>            <script type=\"text/javascript\">                require([\"plotly\"], function(Plotly) {                    window.PLOTLYENV=window.PLOTLYENV || {};                                    if (document.getElementById(\"6bae3a2e-d730-4035-a69c-4114f5d7f0fb\")) {                    Plotly.newPlot(                        \"6bae3a2e-d730-4035-a69c-4114f5d7f0fb\",                        [{\"domain\":{\"x\":[0.0,0.2125],\"y\":[0.0,1.0]},\"labels\":[\"MODIFIER\",\"LOW\",\"MODERATE\",\"HIGH\"],\"name\":\"BWA\",\"scalegroup\":\"one\",\"type\":\"pie\",\"values\":[99.32838953317972,0.3647163764361296,0.27622950324068934,0.03066458714346769]},{\"domain\":{\"x\":[0.2625,0.475],\"y\":[0.0,1.0]},\"labels\":[\"MODIFIER\",\"LOW\",\"MODERATE\",\"HIGH\"],\"name\":\"BWA\",\"scalegroup\":\"one\",\"type\":\"pie\",\"values\":[99.30137985725615,0.37323336457357076,0.2889308629514815,0.036455915218801815]},{\"domain\":{\"x\":[0.525,0.7375],\"y\":[0.0,1.0]},\"labels\":[\"MODIFIER\",\"LOW\",\"MODERATE\",\"HIGH\"],\"name\":\"BWA\",\"scalegroup\":\"one\",\"type\":\"pie\",\"values\":[99.42887086259974,0.3411833102363877,0.21464035533877313,0.015305471825095672]},{\"domain\":{\"x\":[0.7875,1.0],\"y\":[0.0,1.0]},\"labels\":[\"MODIFIER\",\"LOW\",\"MODERATE\",\"HIGH\"],\"name\":\"BWA\",\"scalegroup\":\"one\",\"type\":\"pie\",\"values\":[99.40196914925194,0.35288338949071096,0.2289346758240537,0.0162127854332962]}],                        {\"annotations\":[{\"font\":{\"size\":16},\"showarrow\":false,\"text\":\"BR2 (2.8k)\",\"x\":0.10625,\"xanchor\":\"center\",\"xref\":\"paper\",\"y\":1.0,\"yanchor\":\"bottom\",\"yref\":\"paper\"},{\"font\":{\"size\":16},\"showarrow\":false,\"text\":\"BOT16(5.4k)\",\"x\":0.36875,\"xanchor\":\"center\",\"xref\":\"paper\",\"y\":1.0,\"yanchor\":\"bottom\",\"yref\":\"paper\"},{\"font\":{\"size\":16},\"showarrow\":false,\"text\":\"SF12(8.8k)\",\"x\":0.6312500000000001,\"xanchor\":\"center\",\"xref\":\"paper\",\"y\":1.0,\"yanchor\":\"bottom\",\"yref\":\"paper\"},{\"font\":{\"size\":16},\"showarrow\":false,\"text\":\"Ust(44k)\",\"x\":0.89375,\"xanchor\":\"center\",\"xref\":\"paper\",\"y\":1.0,\"yanchor\":\"bottom\",\"yref\":\"paper\"}],\"template\":{\"data\":{\"bar\":[{\"error_x\":{\"color\":\"#2a3f5f\"},\"error_y\":{\"color\":\"#2a3f5f\"},\"marker\":{\"line\":{\"color\":\"#E5ECF6\",\"width\":0.5},\"pattern\":{\"fillmode\":\"overlay\",\"size\":10,\"solidity\":0.2}},\"type\":\"bar\"}],\"barpolar\":[{\"marker\":{\"line\":{\"color\":\"#E5ECF6\",\"width\":0.5},\"pattern\":{\"fillmode\":\"overlay\",\"size\":10,\"solidity\":0.2}},\"type\":\"barpolar\"}],\"carpet\":[{\"aaxis\":{\"endlinecolor\":\"#2a3f5f\",\"gridcolor\":\"white\",\"linecolor\":\"white\",\"minorgridcolor\":\"white\",\"startlinecolor\":\"#2a3f5f\"},\"baxis\":{\"endlinecolor\":\"#2a3f5f\",\"gridcolor\":\"white\",\"linecolor\":\"white\",\"minorgridcolor\":\"white\",\"startlinecolor\":\"#2a3f5f\"},\"type\":\"carpet\"}],\"choropleth\":[{\"colorbar\":{\"outlinewidth\":0,\"ticks\":\"\"},\"type\":\"choropleth\"}],\"contour\":[{\"colorbar\":{\"outlinewidth\":0,\"ticks\":\"\"},\"colorscale\":[[0.0,\"#0d0887\"],[0.1111111111111111,\"#46039f\"],[0.2222222222222222,\"#7201a8\"],[0.3333333333333333,\"#9c179e\"],[0.4444444444444444,\"#bd3786\"],[0.5555555555555556,\"#d8576b\"],[0.6666666666666666,\"#ed7953\"],[0.7777777777777778,\"#fb9f3a\"],[0.8888888888888888,\"#fdca26\"],[1.0,\"#f0f921\"]],\"type\":\"contour\"}],\"contourcarpet\":[{\"colorbar\":{\"outlinewidth\":0,\"ticks\":\"\"},\"type\":\"contourcarpet\"}],\"heatmap\":[{\"colorbar\":{\"outlinewidth\":0,\"ticks\":\"\"},\"colorscale\":[[0.0,\"#0d0887\"],[0.1111111111111111,\"#46039f\"],[0.2222222222222222,\"#7201a8\"],[0.3333333333333333,\"#9c179e\"],[0.4444444444444444,\"#bd3786\"],[0.5555555555555556,\"#d8576b\"],[0.6666666666666666,\"#ed7953\"],[0.7777777777777778,\"#fb9f3a\"],[0.8888888888888888,\"#fdca26\"],[1.0,\"#f0f921\"]],\"type\":\"heatmap\"}],\"heatmapgl\":[{\"colorbar\":{\"outlinewidth\":0,\"ticks\":\"\"},\"colorscale\":[[0.0,\"#0d0887\"],[0.1111111111111111,\"#46039f\"],[0.2222222222222222,\"#7201a8\"],[0.3333333333333333,\"#9c179e\"],[0.4444444444444444,\"#bd3786\"],[0.5555555555555556,\"#d8576b\"],[0.6666666666666666,\"#ed7953\"],[0.7777777777777778,\"#fb9f3a\"],[0.8888888888888888,\"#fdca26\"],[1.0,\"#f0f921\"]],\"type\":\"heatmapgl\"}],\"histogram\":[{\"marker\":{\"pattern\":{\"fillmode\":\"overlay\",\"size\":10,\"solidity\":0.2}},\"type\":\"histogram\"}],\"histogram2d\":[{\"colorbar\":{\"outlinewidth\":0,\"ticks\":\"\"},\"colorscale\":[[0.0,\"#0d0887\"],[0.1111111111111111,\"#46039f\"],[0.2222222222222222,\"#7201a8\"],[0.3333333333333333,\"#9c179e\"],[0.4444444444444444,\"#bd3786\"],[0.5555555555555556,\"#d8576b\"],[0.6666666666666666,\"#ed7953\"],[0.7777777777777778,\"#fb9f3a\"],[0.8888888888888888,\"#fdca26\"],[1.0,\"#f0f921\"]],\"type\":\"histogram2d\"}],\"histogram2dcontour\":[{\"colorbar\":{\"outlinewidth\":0,\"ticks\":\"\"},\"colorscale\":[[0.0,\"#0d0887\"],[0.1111111111111111,\"#46039f\"],[0.2222222222222222,\"#7201a8\"],[0.3333333333333333,\"#9c179e\"],[0.4444444444444444,\"#bd3786\"],[0.5555555555555556,\"#d8576b\"],[0.6666666666666666,\"#ed7953\"],[0.7777777777777778,\"#fb9f3a\"],[0.8888888888888888,\"#fdca26\"],[1.0,\"#f0f921\"]],\"type\":\"histogram2dcontour\"}],\"mesh3d\":[{\"colorbar\":{\"outlinewidth\":0,\"ticks\":\"\"},\"type\":\"mesh3d\"}],\"parcoords\":[{\"line\":{\"colorbar\":{\"outlinewidth\":0,\"ticks\":\"\"}},\"type\":\"parcoords\"}],\"pie\":[{\"automargin\":true,\"type\":\"pie\"}],\"scatter\":[{\"marker\":{\"colorbar\":{\"outlinewidth\":0,\"ticks\":\"\"}},\"type\":\"scatter\"}],\"scatter3d\":[{\"line\":{\"colorbar\":{\"outlinewidth\":0,\"ticks\":\"\"}},\"marker\":{\"colorbar\":{\"outlinewidth\":0,\"ticks\":\"\"}},\"type\":\"scatter3d\"}],\"scattercarpet\":[{\"marker\":{\"colorbar\":{\"outlinewidth\":0,\"ticks\":\"\"}},\"type\":\"scattercarpet\"}],\"scattergeo\":[{\"marker\":{\"colorbar\":{\"outlinewidth\":0,\"ticks\":\"\"}},\"type\":\"scattergeo\"}],\"scattergl\":[{\"marker\":{\"colorbar\":{\"outlinewidth\":0,\"ticks\":\"\"}},\"type\":\"scattergl\"}],\"scattermapbox\":[{\"marker\":{\"colorbar\":{\"outlinewidth\":0,\"ticks\":\"\"}},\"type\":\"scattermapbox\"}],\"scatterpolar\":[{\"marker\":{\"colorbar\":{\"outlinewidth\":0,\"ticks\":\"\"}},\"type\":\"scatterpolar\"}],\"scatterpolargl\":[{\"marker\":{\"colorbar\":{\"outlinewidth\":0,\"ticks\":\"\"}},\"type\":\"scatterpolargl\"}],\"scatterternary\":[{\"marker\":{\"colorbar\":{\"outlinewidth\":0,\"ticks\":\"\"}},\"type\":\"scatterternary\"}],\"surface\":[{\"colorbar\":{\"outlinewidth\":0,\"ticks\":\"\"},\"colorscale\":[[0.0,\"#0d0887\"],[0.1111111111111111,\"#46039f\"],[0.2222222222222222,\"#7201a8\"],[0.3333333333333333,\"#9c179e\"],[0.4444444444444444,\"#bd3786\"],[0.5555555555555556,\"#d8576b\"],[0.6666666666666666,\"#ed7953\"],[0.7777777777777778,\"#fb9f3a\"],[0.8888888888888888,\"#fdca26\"],[1.0,\"#f0f921\"]],\"type\":\"surface\"}],\"table\":[{\"cells\":{\"fill\":{\"color\":\"#EBF0F8\"},\"line\":{\"color\":\"white\"}},\"header\":{\"fill\":{\"color\":\"#C8D4E3\"},\"line\":{\"color\":\"white\"}},\"type\":\"table\"}]},\"layout\":{\"annotationdefaults\":{\"arrowcolor\":\"#2a3f5f\",\"arrowhead\":0,\"arrowwidth\":1},\"autotypenumbers\":\"strict\",\"coloraxis\":{\"colorbar\":{\"outlinewidth\":0,\"ticks\":\"\"}},\"colorscale\":{\"diverging\":[[0,\"#8e0152\"],[0.1,\"#c51b7d\"],[0.2,\"#de77ae\"],[0.3,\"#f1b6da\"],[0.4,\"#fde0ef\"],[0.5,\"#f7f7f7\"],[0.6,\"#e6f5d0\"],[0.7,\"#b8e186\"],[0.8,\"#7fbc41\"],[0.9,\"#4d9221\"],[1,\"#276419\"]],\"sequential\":[[0.0,\"#0d0887\"],[0.1111111111111111,\"#46039f\"],[0.2222222222222222,\"#7201a8\"],[0.3333333333333333,\"#9c179e\"],[0.4444444444444444,\"#bd3786\"],[0.5555555555555556,\"#d8576b\"],[0.6666666666666666,\"#ed7953\"],[0.7777777777777778,\"#fb9f3a\"],[0.8888888888888888,\"#fdca26\"],[1.0,\"#f0f921\"]],\"sequentialminus\":[[0.0,\"#0d0887\"],[0.1111111111111111,\"#46039f\"],[0.2222222222222222,\"#7201a8\"],[0.3333333333333333,\"#9c179e\"],[0.4444444444444444,\"#bd3786\"],[0.5555555555555556,\"#d8576b\"],[0.6666666666666666,\"#ed7953\"],[0.7777777777777778,\"#fb9f3a\"],[0.8888888888888888,\"#fdca26\"],[1.0,\"#f0f921\"]]},\"colorway\":[\"#636efa\",\"#EF553B\",\"#00cc96\",\"#ab63fa\",\"#FFA15A\",\"#19d3f3\",\"#FF6692\",\"#B6E880\",\"#FF97FF\",\"#FECB52\"],\"font\":{\"color\":\"#2a3f5f\"},\"geo\":{\"bgcolor\":\"white\",\"lakecolor\":\"white\",\"landcolor\":\"#E5ECF6\",\"showlakes\":true,\"showland\":true,\"subunitcolor\":\"white\"},\"hoverlabel\":{\"align\":\"left\"},\"hovermode\":\"closest\",\"mapbox\":{\"style\":\"light\"},\"paper_bgcolor\":\"white\",\"plot_bgcolor\":\"#E5ECF6\",\"polar\":{\"angularaxis\":{\"gridcolor\":\"white\",\"linecolor\":\"white\",\"ticks\":\"\"},\"bgcolor\":\"#E5ECF6\",\"radialaxis\":{\"gridcolor\":\"white\",\"linecolor\":\"white\",\"ticks\":\"\"}},\"scene\":{\"xaxis\":{\"backgroundcolor\":\"#E5ECF6\",\"gridcolor\":\"white\",\"gridwidth\":2,\"linecolor\":\"white\",\"showbackground\":true,\"ticks\":\"\",\"zerolinecolor\":\"white\"},\"yaxis\":{\"backgroundcolor\":\"#E5ECF6\",\"gridcolor\":\"white\",\"gridwidth\":2,\"linecolor\":\"white\",\"showbackground\":true,\"ticks\":\"\",\"zerolinecolor\":\"white\"},\"zaxis\":{\"backgroundcolor\":\"#E5ECF6\",\"gridcolor\":\"white\",\"gridwidth\":2,\"linecolor\":\"white\",\"showbackground\":true,\"ticks\":\"\",\"zerolinecolor\":\"white\"}},\"shapedefaults\":{\"line\":{\"color\":\"#2a3f5f\"}},\"ternary\":{\"aaxis\":{\"gridcolor\":\"white\",\"linecolor\":\"white\",\"ticks\":\"\"},\"baxis\":{\"gridcolor\":\"white\",\"linecolor\":\"white\",\"ticks\":\"\"},\"bgcolor\":\"#E5ECF6\",\"caxis\":{\"gridcolor\":\"white\",\"linecolor\":\"white\",\"ticks\":\"\"}},\"title\":{\"x\":0.05},\"xaxis\":{\"automargin\":true,\"gridcolor\":\"white\",\"linecolor\":\"white\",\"ticks\":\"\",\"title\":{\"standoff\":15},\"zerolinecolor\":\"white\",\"zerolinewidth\":2},\"yaxis\":{\"automargin\":true,\"gridcolor\":\"white\",\"linecolor\":\"white\",\"ticks\":\"\",\"title\":{\"standoff\":15},\"zerolinecolor\":\"white\",\"zerolinewidth\":2}}},\"title\":{\"text\":\"IMPACT through time\"}},                        {\"responsive\": true}                    ).then(function(){\n",
       "                            \n",
       "var gd = document.getElementById('6bae3a2e-d730-4035-a69c-4114f5d7f0fb');\n",
       "var x = new MutationObserver(function (mutations, observer) {{\n",
       "        var display = window.getComputedStyle(gd).display;\n",
       "        if (!display || display === 'none') {{\n",
       "            console.log([gd, 'removed!']);\n",
       "            Plotly.purge(gd);\n",
       "            observer.disconnect();\n",
       "        }}\n",
       "}});\n",
       "\n",
       "// Listen for the removal of the full notebook cells\n",
       "var notebookContainer = gd.closest('#notebook-container');\n",
       "if (notebookContainer) {{\n",
       "    x.observe(notebookContainer, {childList: true});\n",
       "}}\n",
       "\n",
       "// Listen for the clearing of the current output cell\n",
       "var outputEl = gd.closest('.output');\n",
       "if (outputEl) {{\n",
       "    x.observe(outputEl, {childList: true});\n",
       "}}\n",
       "\n",
       "                        })                };                });            </script>        </div>"
      ]
     },
     "metadata": {},
     "output_type": "display_data"
    }
   ],
   "source": [
    "fig = make_subplots(1, 4, specs=[[{'type':'domain'}, {'type':'domain'}, {'type':'domain'}, {'type':'domain'}]],\n",
    "                    subplot_titles=['BR2 (2.8k)', 'BOT16(5.4k)','SF12(8.8k)','Ust(44k)'])\n",
    "\n",
    "fig.add_trace(go.Pie(labels=count_imp_bwa_BR2[\"ID\"], values=count_imp_bwa_BR2[\"pct\"], scalegroup='one',\n",
    "                     name=\"BWA\"), 1, 1)\n",
    "fig.add_trace(go.Pie(labels=count_imp_bwa_BOT[\"ID\"], values=count_imp_bwa_BOT[\"pct\"], scalegroup='one',\n",
    "                     name=\"BWA\"), 1, 2)\n",
    "fig.add_trace(go.Pie(labels=count_imp_bwa_SF12[\"ID\"], values=count_imp_bwa_SF12[\"pct\"], scalegroup='one',\n",
    "                     name=\"BWA\"), 1, 3)\n",
    "#fig.add_trace(go.Pie(labels=count_imp_bwa_Ust[\"ID\"], values=count_imp_bwa_Ust[\"pct\"], scalegroup='one',\n",
    "                     name=\"BWA\"), 1, 4)\n",
    "\n",
    "fig.update_layout(title_text='IMPACT through time')\n",
    "fig.show()\n",
    "\n"
   ]
  },
  {
   "cell_type": "markdown",
   "id": "c9b24183",
   "metadata": {},
   "source": [
    "idk if that significant but more High and moderate impact on more recent individuals. Need to check on more individuals and other mapper."
   ]
  },
  {
   "cell_type": "markdown",
   "id": "c0e63a73",
   "metadata": {},
   "source": [
    "####    Check coverage"
   ]
  },
  {
   "cell_type": "code",
   "execution_count": 150,
   "id": "95c9f40a",
   "metadata": {
    "collapsed": true
   },
   "outputs": [
    {
     "data": {
      "text/html": [
       "<div>\n",
       "<style scoped>\n",
       "    .dataframe tbody tr th:only-of-type {\n",
       "        vertical-align: middle;\n",
       "    }\n",
       "\n",
       "    .dataframe tbody tr th {\n",
       "        vertical-align: top;\n",
       "    }\n",
       "\n",
       "    .dataframe thead th {\n",
       "        text-align: right;\n",
       "    }\n",
       "</style>\n",
       "<table border=\"1\" class=\"dataframe\">\n",
       "  <thead>\n",
       "    <tr style=\"text-align: right;\">\n",
       "      <th></th>\n",
       "      <th>ID</th>\n",
       "      <th>vals</th>\n",
       "      <th>pct</th>\n",
       "    </tr>\n",
       "  </thead>\n",
       "  <tbody>\n",
       "    <tr>\n",
       "      <th>0</th>\n",
       "      <td>MODIFIER</td>\n",
       "      <td>14213895</td>\n",
       "      <td>99.428871</td>\n",
       "    </tr>\n",
       "    <tr>\n",
       "      <th>1</th>\n",
       "      <td>LOW</td>\n",
       "      <td>48774</td>\n",
       "      <td>0.341183</td>\n",
       "    </tr>\n",
       "    <tr>\n",
       "      <th>2</th>\n",
       "      <td>MODERATE</td>\n",
       "      <td>30684</td>\n",
       "      <td>0.214640</td>\n",
       "    </tr>\n",
       "    <tr>\n",
       "      <th>3</th>\n",
       "      <td>HIGH</td>\n",
       "      <td>2188</td>\n",
       "      <td>0.015305</td>\n",
       "    </tr>\n",
       "  </tbody>\n",
       "</table>\n",
       "</div>"
      ],
      "text/plain": [
       "         ID      vals        pct\n",
       "0  MODIFIER  14213895  99.428871\n",
       "1       LOW     48774   0.341183\n",
       "2  MODERATE     30684   0.214640\n",
       "3      HIGH      2188   0.015305"
      ]
     },
     "execution_count": 150,
     "metadata": {},
     "output_type": "execute_result"
    }
   ],
   "source": [
    "count_imp_bwa_SF12 #70X"
   ]
  },
  {
   "cell_type": "code",
   "execution_count": 151,
   "id": "b69b4f40",
   "metadata": {},
   "outputs": [],
   "source": [
    "count_imp_bwa_SF12_5x = dataBWA_SF12_5x[\"IMPACT\"].value_counts()\n",
    "count_imp_bwa_SF12_5x = count_imp_bwa_SF12_5x.to_frame(name=\"vals\")\n",
    "count_imp_bwa_SF12_5x.reset_index(level=0,inplace=True)\n",
    "count_imp_bwa_SF12_5x.rename(columns={\"index\": \"ID\", \"vals\":\"vals\"},inplace=True)\n",
    "count_imp_bwa_SF12_5x[\"pct\"] = count_imp_bwa_SF12_5x[\"vals\"] * 100 / sum(count_imp_bwa_SF12_5x[\"vals\"])"
   ]
  },
  {
   "cell_type": "code",
   "execution_count": 152,
   "id": "b65fb6be",
   "metadata": {},
   "outputs": [],
   "source": [
    "count_imp_VGbam_SF12 = dataVGbam_SF12[\"IMPACT\"].value_counts()\n",
    "count_imp_VGbam_SF12 = count_imp_VGbam_SF12.to_frame(name=\"vals\")\n",
    "count_imp_VGbam_SF12.reset_index(level=0,inplace=True)\n",
    "count_imp_VGbam_SF12.rename(columns={\"index\": \"ID\", \"vals\":\"vals\"},inplace=True)\n",
    "count_imp_VGbam_SF12[\"pct\"] = count_imp_VGbam_SF12[\"vals\"] * 100 / sum(count_imp_VGbam_SF12[\"vals\"])"
   ]
  },
  {
   "cell_type": "code",
   "execution_count": 153,
   "id": "8621a0cd",
   "metadata": {},
   "outputs": [],
   "source": [
    "count_imp_VGbam_SF12_5x = dataVGbam_SF12_5x[\"IMPACT\"].value_counts()\n",
    "count_imp_VGbam_SF12_5x = count_imp_VGbam_SF12_5x.to_frame(name=\"vals\")\n",
    "count_imp_VGbam_SF12_5x.reset_index(level=0,inplace=True)\n",
    "count_imp_VGbam_SF12_5x.rename(columns={\"index\": \"ID\", \"vals\":\"vals\"},inplace=True)\n",
    "count_imp_VGbam_SF12_5x[\"pct\"] = count_imp_VGbam_SF12_5x[\"vals\"] * 100 / sum(count_imp_VGbam_SF12_5x[\"vals\"])"
   ]
  },
  {
   "cell_type": "code",
   "execution_count": 154,
   "id": "d63c9656",
   "metadata": {},
   "outputs": [
    {
     "data": {
      "application/vnd.plotly.v1+json": {
       "config": {
        "plotlyServerURL": "https://plot.ly"
       },
       "data": [
        {
         "domain": {
          "x": [
           0,
           0.45
          ],
          "y": [
           0.625,
           1
          ]
         },
         "labels": [
          "MODIFIER",
          "LOW",
          "MODERATE",
          "HIGH"
         ],
         "name": "BWA",
         "scalegroup": "one",
         "type": "pie",
         "values": [
          99.42887086259974,
          0.3411833102363877,
          0.21464035533877313,
          0.015305471825095672
         ]
        },
        {
         "domain": {
          "x": [
           0.55,
           1
          ],
          "y": [
           0.625,
           1
          ]
         },
         "labels": [
          "MODIFIER",
          "LOW",
          "MODERATE",
          "HIGH"
         ],
         "name": "BWA",
         "scalegroup": "one",
         "type": "pie",
         "values": [
          99.01943790196407,
          0.4865387762265537,
          0.4515762461660112,
          0.04244707564337422
         ]
        },
        {
         "domain": {
          "x": [
           0,
           0.45
          ],
          "y": [
           0,
           0.375
          ]
         },
         "labels": [
          "MODIFIER",
          "LOW",
          "MODERATE",
          "HIGH"
         ],
         "name": "BWA",
         "scalegroup": "one",
         "type": "pie",
         "values": [
          99.54719860690001,
          0.26871180436812736,
          0.17533667403803058,
          0.008752914693825721
         ]
        },
        {
         "domain": {
          "x": [
           0.55,
           1
          ],
          "y": [
           0,
           0.375
          ]
         },
         "labels": [
          "MODIFIER",
          "LOW",
          "MODERATE",
          "HIGH"
         ],
         "name": "BWA",
         "scalegroup": "one",
         "type": "pie",
         "values": [
          99.0680773841236,
          0.45753279834842836,
          0.43287160362280236,
          0.04151821390516782
         ]
        }
       ],
       "layout": {
        "annotations": [
         {
          "font": {
           "size": 16
          },
          "showarrow": false,
          "text": "BWA(70x)",
          "x": 0.225,
          "xanchor": "center",
          "xref": "paper",
          "y": 1,
          "yanchor": "bottom",
          "yref": "paper"
         },
         {
          "font": {
           "size": 16
          },
          "showarrow": false,
          "text": "BWA(5X)",
          "x": 0.775,
          "xanchor": "center",
          "xref": "paper",
          "y": 1,
          "yanchor": "bottom",
          "yref": "paper"
         },
         {
          "font": {
           "size": 16
          },
          "showarrow": false,
          "text": "VGbam(70x)",
          "x": 0.225,
          "xanchor": "center",
          "xref": "paper",
          "y": 0.375,
          "yanchor": "bottom",
          "yref": "paper"
         },
         {
          "font": {
           "size": 16
          },
          "showarrow": false,
          "text": "VGbam(5x)",
          "x": 0.775,
          "xanchor": "center",
          "xref": "paper",
          "y": 0.375,
          "yanchor": "bottom",
          "yref": "paper"
         }
        ],
        "template": {
         "data": {
          "bar": [
           {
            "error_x": {
             "color": "#2a3f5f"
            },
            "error_y": {
             "color": "#2a3f5f"
            },
            "marker": {
             "line": {
              "color": "#E5ECF6",
              "width": 0.5
             },
             "pattern": {
              "fillmode": "overlay",
              "size": 10,
              "solidity": 0.2
             }
            },
            "type": "bar"
           }
          ],
          "barpolar": [
           {
            "marker": {
             "line": {
              "color": "#E5ECF6",
              "width": 0.5
             },
             "pattern": {
              "fillmode": "overlay",
              "size": 10,
              "solidity": 0.2
             }
            },
            "type": "barpolar"
           }
          ],
          "carpet": [
           {
            "aaxis": {
             "endlinecolor": "#2a3f5f",
             "gridcolor": "white",
             "linecolor": "white",
             "minorgridcolor": "white",
             "startlinecolor": "#2a3f5f"
            },
            "baxis": {
             "endlinecolor": "#2a3f5f",
             "gridcolor": "white",
             "linecolor": "white",
             "minorgridcolor": "white",
             "startlinecolor": "#2a3f5f"
            },
            "type": "carpet"
           }
          ],
          "choropleth": [
           {
            "colorbar": {
             "outlinewidth": 0,
             "ticks": ""
            },
            "type": "choropleth"
           }
          ],
          "contour": [
           {
            "colorbar": {
             "outlinewidth": 0,
             "ticks": ""
            },
            "colorscale": [
             [
              0,
              "#0d0887"
             ],
             [
              0.1111111111111111,
              "#46039f"
             ],
             [
              0.2222222222222222,
              "#7201a8"
             ],
             [
              0.3333333333333333,
              "#9c179e"
             ],
             [
              0.4444444444444444,
              "#bd3786"
             ],
             [
              0.5555555555555556,
              "#d8576b"
             ],
             [
              0.6666666666666666,
              "#ed7953"
             ],
             [
              0.7777777777777778,
              "#fb9f3a"
             ],
             [
              0.8888888888888888,
              "#fdca26"
             ],
             [
              1,
              "#f0f921"
             ]
            ],
            "type": "contour"
           }
          ],
          "contourcarpet": [
           {
            "colorbar": {
             "outlinewidth": 0,
             "ticks": ""
            },
            "type": "contourcarpet"
           }
          ],
          "heatmap": [
           {
            "colorbar": {
             "outlinewidth": 0,
             "ticks": ""
            },
            "colorscale": [
             [
              0,
              "#0d0887"
             ],
             [
              0.1111111111111111,
              "#46039f"
             ],
             [
              0.2222222222222222,
              "#7201a8"
             ],
             [
              0.3333333333333333,
              "#9c179e"
             ],
             [
              0.4444444444444444,
              "#bd3786"
             ],
             [
              0.5555555555555556,
              "#d8576b"
             ],
             [
              0.6666666666666666,
              "#ed7953"
             ],
             [
              0.7777777777777778,
              "#fb9f3a"
             ],
             [
              0.8888888888888888,
              "#fdca26"
             ],
             [
              1,
              "#f0f921"
             ]
            ],
            "type": "heatmap"
           }
          ],
          "heatmapgl": [
           {
            "colorbar": {
             "outlinewidth": 0,
             "ticks": ""
            },
            "colorscale": [
             [
              0,
              "#0d0887"
             ],
             [
              0.1111111111111111,
              "#46039f"
             ],
             [
              0.2222222222222222,
              "#7201a8"
             ],
             [
              0.3333333333333333,
              "#9c179e"
             ],
             [
              0.4444444444444444,
              "#bd3786"
             ],
             [
              0.5555555555555556,
              "#d8576b"
             ],
             [
              0.6666666666666666,
              "#ed7953"
             ],
             [
              0.7777777777777778,
              "#fb9f3a"
             ],
             [
              0.8888888888888888,
              "#fdca26"
             ],
             [
              1,
              "#f0f921"
             ]
            ],
            "type": "heatmapgl"
           }
          ],
          "histogram": [
           {
            "marker": {
             "pattern": {
              "fillmode": "overlay",
              "size": 10,
              "solidity": 0.2
             }
            },
            "type": "histogram"
           }
          ],
          "histogram2d": [
           {
            "colorbar": {
             "outlinewidth": 0,
             "ticks": ""
            },
            "colorscale": [
             [
              0,
              "#0d0887"
             ],
             [
              0.1111111111111111,
              "#46039f"
             ],
             [
              0.2222222222222222,
              "#7201a8"
             ],
             [
              0.3333333333333333,
              "#9c179e"
             ],
             [
              0.4444444444444444,
              "#bd3786"
             ],
             [
              0.5555555555555556,
              "#d8576b"
             ],
             [
              0.6666666666666666,
              "#ed7953"
             ],
             [
              0.7777777777777778,
              "#fb9f3a"
             ],
             [
              0.8888888888888888,
              "#fdca26"
             ],
             [
              1,
              "#f0f921"
             ]
            ],
            "type": "histogram2d"
           }
          ],
          "histogram2dcontour": [
           {
            "colorbar": {
             "outlinewidth": 0,
             "ticks": ""
            },
            "colorscale": [
             [
              0,
              "#0d0887"
             ],
             [
              0.1111111111111111,
              "#46039f"
             ],
             [
              0.2222222222222222,
              "#7201a8"
             ],
             [
              0.3333333333333333,
              "#9c179e"
             ],
             [
              0.4444444444444444,
              "#bd3786"
             ],
             [
              0.5555555555555556,
              "#d8576b"
             ],
             [
              0.6666666666666666,
              "#ed7953"
             ],
             [
              0.7777777777777778,
              "#fb9f3a"
             ],
             [
              0.8888888888888888,
              "#fdca26"
             ],
             [
              1,
              "#f0f921"
             ]
            ],
            "type": "histogram2dcontour"
           }
          ],
          "mesh3d": [
           {
            "colorbar": {
             "outlinewidth": 0,
             "ticks": ""
            },
            "type": "mesh3d"
           }
          ],
          "parcoords": [
           {
            "line": {
             "colorbar": {
              "outlinewidth": 0,
              "ticks": ""
             }
            },
            "type": "parcoords"
           }
          ],
          "pie": [
           {
            "automargin": true,
            "type": "pie"
           }
          ],
          "scatter": [
           {
            "marker": {
             "colorbar": {
              "outlinewidth": 0,
              "ticks": ""
             }
            },
            "type": "scatter"
           }
          ],
          "scatter3d": [
           {
            "line": {
             "colorbar": {
              "outlinewidth": 0,
              "ticks": ""
             }
            },
            "marker": {
             "colorbar": {
              "outlinewidth": 0,
              "ticks": ""
             }
            },
            "type": "scatter3d"
           }
          ],
          "scattercarpet": [
           {
            "marker": {
             "colorbar": {
              "outlinewidth": 0,
              "ticks": ""
             }
            },
            "type": "scattercarpet"
           }
          ],
          "scattergeo": [
           {
            "marker": {
             "colorbar": {
              "outlinewidth": 0,
              "ticks": ""
             }
            },
            "type": "scattergeo"
           }
          ],
          "scattergl": [
           {
            "marker": {
             "colorbar": {
              "outlinewidth": 0,
              "ticks": ""
             }
            },
            "type": "scattergl"
           }
          ],
          "scattermapbox": [
           {
            "marker": {
             "colorbar": {
              "outlinewidth": 0,
              "ticks": ""
             }
            },
            "type": "scattermapbox"
           }
          ],
          "scatterpolar": [
           {
            "marker": {
             "colorbar": {
              "outlinewidth": 0,
              "ticks": ""
             }
            },
            "type": "scatterpolar"
           }
          ],
          "scatterpolargl": [
           {
            "marker": {
             "colorbar": {
              "outlinewidth": 0,
              "ticks": ""
             }
            },
            "type": "scatterpolargl"
           }
          ],
          "scatterternary": [
           {
            "marker": {
             "colorbar": {
              "outlinewidth": 0,
              "ticks": ""
             }
            },
            "type": "scatterternary"
           }
          ],
          "surface": [
           {
            "colorbar": {
             "outlinewidth": 0,
             "ticks": ""
            },
            "colorscale": [
             [
              0,
              "#0d0887"
             ],
             [
              0.1111111111111111,
              "#46039f"
             ],
             [
              0.2222222222222222,
              "#7201a8"
             ],
             [
              0.3333333333333333,
              "#9c179e"
             ],
             [
              0.4444444444444444,
              "#bd3786"
             ],
             [
              0.5555555555555556,
              "#d8576b"
             ],
             [
              0.6666666666666666,
              "#ed7953"
             ],
             [
              0.7777777777777778,
              "#fb9f3a"
             ],
             [
              0.8888888888888888,
              "#fdca26"
             ],
             [
              1,
              "#f0f921"
             ]
            ],
            "type": "surface"
           }
          ],
          "table": [
           {
            "cells": {
             "fill": {
              "color": "#EBF0F8"
             },
             "line": {
              "color": "white"
             }
            },
            "header": {
             "fill": {
              "color": "#C8D4E3"
             },
             "line": {
              "color": "white"
             }
            },
            "type": "table"
           }
          ]
         },
         "layout": {
          "annotationdefaults": {
           "arrowcolor": "#2a3f5f",
           "arrowhead": 0,
           "arrowwidth": 1
          },
          "autotypenumbers": "strict",
          "coloraxis": {
           "colorbar": {
            "outlinewidth": 0,
            "ticks": ""
           }
          },
          "colorscale": {
           "diverging": [
            [
             0,
             "#8e0152"
            ],
            [
             0.1,
             "#c51b7d"
            ],
            [
             0.2,
             "#de77ae"
            ],
            [
             0.3,
             "#f1b6da"
            ],
            [
             0.4,
             "#fde0ef"
            ],
            [
             0.5,
             "#f7f7f7"
            ],
            [
             0.6,
             "#e6f5d0"
            ],
            [
             0.7,
             "#b8e186"
            ],
            [
             0.8,
             "#7fbc41"
            ],
            [
             0.9,
             "#4d9221"
            ],
            [
             1,
             "#276419"
            ]
           ],
           "sequential": [
            [
             0,
             "#0d0887"
            ],
            [
             0.1111111111111111,
             "#46039f"
            ],
            [
             0.2222222222222222,
             "#7201a8"
            ],
            [
             0.3333333333333333,
             "#9c179e"
            ],
            [
             0.4444444444444444,
             "#bd3786"
            ],
            [
             0.5555555555555556,
             "#d8576b"
            ],
            [
             0.6666666666666666,
             "#ed7953"
            ],
            [
             0.7777777777777778,
             "#fb9f3a"
            ],
            [
             0.8888888888888888,
             "#fdca26"
            ],
            [
             1,
             "#f0f921"
            ]
           ],
           "sequentialminus": [
            [
             0,
             "#0d0887"
            ],
            [
             0.1111111111111111,
             "#46039f"
            ],
            [
             0.2222222222222222,
             "#7201a8"
            ],
            [
             0.3333333333333333,
             "#9c179e"
            ],
            [
             0.4444444444444444,
             "#bd3786"
            ],
            [
             0.5555555555555556,
             "#d8576b"
            ],
            [
             0.6666666666666666,
             "#ed7953"
            ],
            [
             0.7777777777777778,
             "#fb9f3a"
            ],
            [
             0.8888888888888888,
             "#fdca26"
            ],
            [
             1,
             "#f0f921"
            ]
           ]
          },
          "colorway": [
           "#636efa",
           "#EF553B",
           "#00cc96",
           "#ab63fa",
           "#FFA15A",
           "#19d3f3",
           "#FF6692",
           "#B6E880",
           "#FF97FF",
           "#FECB52"
          ],
          "font": {
           "color": "#2a3f5f"
          },
          "geo": {
           "bgcolor": "white",
           "lakecolor": "white",
           "landcolor": "#E5ECF6",
           "showlakes": true,
           "showland": true,
           "subunitcolor": "white"
          },
          "hoverlabel": {
           "align": "left"
          },
          "hovermode": "closest",
          "mapbox": {
           "style": "light"
          },
          "paper_bgcolor": "white",
          "plot_bgcolor": "#E5ECF6",
          "polar": {
           "angularaxis": {
            "gridcolor": "white",
            "linecolor": "white",
            "ticks": ""
           },
           "bgcolor": "#E5ECF6",
           "radialaxis": {
            "gridcolor": "white",
            "linecolor": "white",
            "ticks": ""
           }
          },
          "scene": {
           "xaxis": {
            "backgroundcolor": "#E5ECF6",
            "gridcolor": "white",
            "gridwidth": 2,
            "linecolor": "white",
            "showbackground": true,
            "ticks": "",
            "zerolinecolor": "white"
           },
           "yaxis": {
            "backgroundcolor": "#E5ECF6",
            "gridcolor": "white",
            "gridwidth": 2,
            "linecolor": "white",
            "showbackground": true,
            "ticks": "",
            "zerolinecolor": "white"
           },
           "zaxis": {
            "backgroundcolor": "#E5ECF6",
            "gridcolor": "white",
            "gridwidth": 2,
            "linecolor": "white",
            "showbackground": true,
            "ticks": "",
            "zerolinecolor": "white"
           }
          },
          "shapedefaults": {
           "line": {
            "color": "#2a3f5f"
           }
          },
          "ternary": {
           "aaxis": {
            "gridcolor": "white",
            "linecolor": "white",
            "ticks": ""
           },
           "baxis": {
            "gridcolor": "white",
            "linecolor": "white",
            "ticks": ""
           },
           "bgcolor": "#E5ECF6",
           "caxis": {
            "gridcolor": "white",
            "linecolor": "white",
            "ticks": ""
           }
          },
          "title": {
           "x": 0.05
          },
          "xaxis": {
           "automargin": true,
           "gridcolor": "white",
           "linecolor": "white",
           "ticks": "",
           "title": {
            "standoff": 15
           },
           "zerolinecolor": "white",
           "zerolinewidth": 2
          },
          "yaxis": {
           "automargin": true,
           "gridcolor": "white",
           "linecolor": "white",
           "ticks": "",
           "title": {
            "standoff": 15
           },
           "zerolinecolor": "white",
           "zerolinewidth": 2
          }
         }
        },
        "title": {
         "text": "IMPACT with different coverage"
        }
       }
      },
      "text/html": [
       "<div>                            <div id=\"1d04ece2-8236-4d79-ac6c-3b8325699e19\" class=\"plotly-graph-div\" style=\"height:525px; width:100%;\"></div>            <script type=\"text/javascript\">                require([\"plotly\"], function(Plotly) {                    window.PLOTLYENV=window.PLOTLYENV || {};                                    if (document.getElementById(\"1d04ece2-8236-4d79-ac6c-3b8325699e19\")) {                    Plotly.newPlot(                        \"1d04ece2-8236-4d79-ac6c-3b8325699e19\",                        [{\"domain\":{\"x\":[0.0,0.45],\"y\":[0.625,1.0]},\"labels\":[\"MODIFIER\",\"LOW\",\"MODERATE\",\"HIGH\"],\"name\":\"BWA\",\"scalegroup\":\"one\",\"type\":\"pie\",\"values\":[99.42887086259974,0.3411833102363877,0.21464035533877313,0.015305471825095672]},{\"domain\":{\"x\":[0.55,1.0],\"y\":[0.625,1.0]},\"labels\":[\"MODIFIER\",\"LOW\",\"MODERATE\",\"HIGH\"],\"name\":\"BWA\",\"scalegroup\":\"one\",\"type\":\"pie\",\"values\":[99.01943790196407,0.4865387762265537,0.4515762461660112,0.04244707564337422]},{\"domain\":{\"x\":[0.0,0.45],\"y\":[0.0,0.375]},\"labels\":[\"MODIFIER\",\"LOW\",\"MODERATE\",\"HIGH\"],\"name\":\"BWA\",\"scalegroup\":\"one\",\"type\":\"pie\",\"values\":[99.54719860690001,0.26871180436812736,0.17533667403803058,0.008752914693825721]},{\"domain\":{\"x\":[0.55,1.0],\"y\":[0.0,0.375]},\"labels\":[\"MODIFIER\",\"LOW\",\"MODERATE\",\"HIGH\"],\"name\":\"BWA\",\"scalegroup\":\"one\",\"type\":\"pie\",\"values\":[99.0680773841236,0.45753279834842836,0.43287160362280236,0.04151821390516782]}],                        {\"annotations\":[{\"font\":{\"size\":16},\"showarrow\":false,\"text\":\"BWA(70x)\",\"x\":0.225,\"xanchor\":\"center\",\"xref\":\"paper\",\"y\":1.0,\"yanchor\":\"bottom\",\"yref\":\"paper\"},{\"font\":{\"size\":16},\"showarrow\":false,\"text\":\"BWA(5X)\",\"x\":0.775,\"xanchor\":\"center\",\"xref\":\"paper\",\"y\":1.0,\"yanchor\":\"bottom\",\"yref\":\"paper\"},{\"font\":{\"size\":16},\"showarrow\":false,\"text\":\"VGbam(70x)\",\"x\":0.225,\"xanchor\":\"center\",\"xref\":\"paper\",\"y\":0.375,\"yanchor\":\"bottom\",\"yref\":\"paper\"},{\"font\":{\"size\":16},\"showarrow\":false,\"text\":\"VGbam(5x)\",\"x\":0.775,\"xanchor\":\"center\",\"xref\":\"paper\",\"y\":0.375,\"yanchor\":\"bottom\",\"yref\":\"paper\"}],\"template\":{\"data\":{\"bar\":[{\"error_x\":{\"color\":\"#2a3f5f\"},\"error_y\":{\"color\":\"#2a3f5f\"},\"marker\":{\"line\":{\"color\":\"#E5ECF6\",\"width\":0.5},\"pattern\":{\"fillmode\":\"overlay\",\"size\":10,\"solidity\":0.2}},\"type\":\"bar\"}],\"barpolar\":[{\"marker\":{\"line\":{\"color\":\"#E5ECF6\",\"width\":0.5},\"pattern\":{\"fillmode\":\"overlay\",\"size\":10,\"solidity\":0.2}},\"type\":\"barpolar\"}],\"carpet\":[{\"aaxis\":{\"endlinecolor\":\"#2a3f5f\",\"gridcolor\":\"white\",\"linecolor\":\"white\",\"minorgridcolor\":\"white\",\"startlinecolor\":\"#2a3f5f\"},\"baxis\":{\"endlinecolor\":\"#2a3f5f\",\"gridcolor\":\"white\",\"linecolor\":\"white\",\"minorgridcolor\":\"white\",\"startlinecolor\":\"#2a3f5f\"},\"type\":\"carpet\"}],\"choropleth\":[{\"colorbar\":{\"outlinewidth\":0,\"ticks\":\"\"},\"type\":\"choropleth\"}],\"contour\":[{\"colorbar\":{\"outlinewidth\":0,\"ticks\":\"\"},\"colorscale\":[[0.0,\"#0d0887\"],[0.1111111111111111,\"#46039f\"],[0.2222222222222222,\"#7201a8\"],[0.3333333333333333,\"#9c179e\"],[0.4444444444444444,\"#bd3786\"],[0.5555555555555556,\"#d8576b\"],[0.6666666666666666,\"#ed7953\"],[0.7777777777777778,\"#fb9f3a\"],[0.8888888888888888,\"#fdca26\"],[1.0,\"#f0f921\"]],\"type\":\"contour\"}],\"contourcarpet\":[{\"colorbar\":{\"outlinewidth\":0,\"ticks\":\"\"},\"type\":\"contourcarpet\"}],\"heatmap\":[{\"colorbar\":{\"outlinewidth\":0,\"ticks\":\"\"},\"colorscale\":[[0.0,\"#0d0887\"],[0.1111111111111111,\"#46039f\"],[0.2222222222222222,\"#7201a8\"],[0.3333333333333333,\"#9c179e\"],[0.4444444444444444,\"#bd3786\"],[0.5555555555555556,\"#d8576b\"],[0.6666666666666666,\"#ed7953\"],[0.7777777777777778,\"#fb9f3a\"],[0.8888888888888888,\"#fdca26\"],[1.0,\"#f0f921\"]],\"type\":\"heatmap\"}],\"heatmapgl\":[{\"colorbar\":{\"outlinewidth\":0,\"ticks\":\"\"},\"colorscale\":[[0.0,\"#0d0887\"],[0.1111111111111111,\"#46039f\"],[0.2222222222222222,\"#7201a8\"],[0.3333333333333333,\"#9c179e\"],[0.4444444444444444,\"#bd3786\"],[0.5555555555555556,\"#d8576b\"],[0.6666666666666666,\"#ed7953\"],[0.7777777777777778,\"#fb9f3a\"],[0.8888888888888888,\"#fdca26\"],[1.0,\"#f0f921\"]],\"type\":\"heatmapgl\"}],\"histogram\":[{\"marker\":{\"pattern\":{\"fillmode\":\"overlay\",\"size\":10,\"solidity\":0.2}},\"type\":\"histogram\"}],\"histogram2d\":[{\"colorbar\":{\"outlinewidth\":0,\"ticks\":\"\"},\"colorscale\":[[0.0,\"#0d0887\"],[0.1111111111111111,\"#46039f\"],[0.2222222222222222,\"#7201a8\"],[0.3333333333333333,\"#9c179e\"],[0.4444444444444444,\"#bd3786\"],[0.5555555555555556,\"#d8576b\"],[0.6666666666666666,\"#ed7953\"],[0.7777777777777778,\"#fb9f3a\"],[0.8888888888888888,\"#fdca26\"],[1.0,\"#f0f921\"]],\"type\":\"histogram2d\"}],\"histogram2dcontour\":[{\"colorbar\":{\"outlinewidth\":0,\"ticks\":\"\"},\"colorscale\":[[0.0,\"#0d0887\"],[0.1111111111111111,\"#46039f\"],[0.2222222222222222,\"#7201a8\"],[0.3333333333333333,\"#9c179e\"],[0.4444444444444444,\"#bd3786\"],[0.5555555555555556,\"#d8576b\"],[0.6666666666666666,\"#ed7953\"],[0.7777777777777778,\"#fb9f3a\"],[0.8888888888888888,\"#fdca26\"],[1.0,\"#f0f921\"]],\"type\":\"histogram2dcontour\"}],\"mesh3d\":[{\"colorbar\":{\"outlinewidth\":0,\"ticks\":\"\"},\"type\":\"mesh3d\"}],\"parcoords\":[{\"line\":{\"colorbar\":{\"outlinewidth\":0,\"ticks\":\"\"}},\"type\":\"parcoords\"}],\"pie\":[{\"automargin\":true,\"type\":\"pie\"}],\"scatter\":[{\"marker\":{\"colorbar\":{\"outlinewidth\":0,\"ticks\":\"\"}},\"type\":\"scatter\"}],\"scatter3d\":[{\"line\":{\"colorbar\":{\"outlinewidth\":0,\"ticks\":\"\"}},\"marker\":{\"colorbar\":{\"outlinewidth\":0,\"ticks\":\"\"}},\"type\":\"scatter3d\"}],\"scattercarpet\":[{\"marker\":{\"colorbar\":{\"outlinewidth\":0,\"ticks\":\"\"}},\"type\":\"scattercarpet\"}],\"scattergeo\":[{\"marker\":{\"colorbar\":{\"outlinewidth\":0,\"ticks\":\"\"}},\"type\":\"scattergeo\"}],\"scattergl\":[{\"marker\":{\"colorbar\":{\"outlinewidth\":0,\"ticks\":\"\"}},\"type\":\"scattergl\"}],\"scattermapbox\":[{\"marker\":{\"colorbar\":{\"outlinewidth\":0,\"ticks\":\"\"}},\"type\":\"scattermapbox\"}],\"scatterpolar\":[{\"marker\":{\"colorbar\":{\"outlinewidth\":0,\"ticks\":\"\"}},\"type\":\"scatterpolar\"}],\"scatterpolargl\":[{\"marker\":{\"colorbar\":{\"outlinewidth\":0,\"ticks\":\"\"}},\"type\":\"scatterpolargl\"}],\"scatterternary\":[{\"marker\":{\"colorbar\":{\"outlinewidth\":0,\"ticks\":\"\"}},\"type\":\"scatterternary\"}],\"surface\":[{\"colorbar\":{\"outlinewidth\":0,\"ticks\":\"\"},\"colorscale\":[[0.0,\"#0d0887\"],[0.1111111111111111,\"#46039f\"],[0.2222222222222222,\"#7201a8\"],[0.3333333333333333,\"#9c179e\"],[0.4444444444444444,\"#bd3786\"],[0.5555555555555556,\"#d8576b\"],[0.6666666666666666,\"#ed7953\"],[0.7777777777777778,\"#fb9f3a\"],[0.8888888888888888,\"#fdca26\"],[1.0,\"#f0f921\"]],\"type\":\"surface\"}],\"table\":[{\"cells\":{\"fill\":{\"color\":\"#EBF0F8\"},\"line\":{\"color\":\"white\"}},\"header\":{\"fill\":{\"color\":\"#C8D4E3\"},\"line\":{\"color\":\"white\"}},\"type\":\"table\"}]},\"layout\":{\"annotationdefaults\":{\"arrowcolor\":\"#2a3f5f\",\"arrowhead\":0,\"arrowwidth\":1},\"autotypenumbers\":\"strict\",\"coloraxis\":{\"colorbar\":{\"outlinewidth\":0,\"ticks\":\"\"}},\"colorscale\":{\"diverging\":[[0,\"#8e0152\"],[0.1,\"#c51b7d\"],[0.2,\"#de77ae\"],[0.3,\"#f1b6da\"],[0.4,\"#fde0ef\"],[0.5,\"#f7f7f7\"],[0.6,\"#e6f5d0\"],[0.7,\"#b8e186\"],[0.8,\"#7fbc41\"],[0.9,\"#4d9221\"],[1,\"#276419\"]],\"sequential\":[[0.0,\"#0d0887\"],[0.1111111111111111,\"#46039f\"],[0.2222222222222222,\"#7201a8\"],[0.3333333333333333,\"#9c179e\"],[0.4444444444444444,\"#bd3786\"],[0.5555555555555556,\"#d8576b\"],[0.6666666666666666,\"#ed7953\"],[0.7777777777777778,\"#fb9f3a\"],[0.8888888888888888,\"#fdca26\"],[1.0,\"#f0f921\"]],\"sequentialminus\":[[0.0,\"#0d0887\"],[0.1111111111111111,\"#46039f\"],[0.2222222222222222,\"#7201a8\"],[0.3333333333333333,\"#9c179e\"],[0.4444444444444444,\"#bd3786\"],[0.5555555555555556,\"#d8576b\"],[0.6666666666666666,\"#ed7953\"],[0.7777777777777778,\"#fb9f3a\"],[0.8888888888888888,\"#fdca26\"],[1.0,\"#f0f921\"]]},\"colorway\":[\"#636efa\",\"#EF553B\",\"#00cc96\",\"#ab63fa\",\"#FFA15A\",\"#19d3f3\",\"#FF6692\",\"#B6E880\",\"#FF97FF\",\"#FECB52\"],\"font\":{\"color\":\"#2a3f5f\"},\"geo\":{\"bgcolor\":\"white\",\"lakecolor\":\"white\",\"landcolor\":\"#E5ECF6\",\"showlakes\":true,\"showland\":true,\"subunitcolor\":\"white\"},\"hoverlabel\":{\"align\":\"left\"},\"hovermode\":\"closest\",\"mapbox\":{\"style\":\"light\"},\"paper_bgcolor\":\"white\",\"plot_bgcolor\":\"#E5ECF6\",\"polar\":{\"angularaxis\":{\"gridcolor\":\"white\",\"linecolor\":\"white\",\"ticks\":\"\"},\"bgcolor\":\"#E5ECF6\",\"radialaxis\":{\"gridcolor\":\"white\",\"linecolor\":\"white\",\"ticks\":\"\"}},\"scene\":{\"xaxis\":{\"backgroundcolor\":\"#E5ECF6\",\"gridcolor\":\"white\",\"gridwidth\":2,\"linecolor\":\"white\",\"showbackground\":true,\"ticks\":\"\",\"zerolinecolor\":\"white\"},\"yaxis\":{\"backgroundcolor\":\"#E5ECF6\",\"gridcolor\":\"white\",\"gridwidth\":2,\"linecolor\":\"white\",\"showbackground\":true,\"ticks\":\"\",\"zerolinecolor\":\"white\"},\"zaxis\":{\"backgroundcolor\":\"#E5ECF6\",\"gridcolor\":\"white\",\"gridwidth\":2,\"linecolor\":\"white\",\"showbackground\":true,\"ticks\":\"\",\"zerolinecolor\":\"white\"}},\"shapedefaults\":{\"line\":{\"color\":\"#2a3f5f\"}},\"ternary\":{\"aaxis\":{\"gridcolor\":\"white\",\"linecolor\":\"white\",\"ticks\":\"\"},\"baxis\":{\"gridcolor\":\"white\",\"linecolor\":\"white\",\"ticks\":\"\"},\"bgcolor\":\"#E5ECF6\",\"caxis\":{\"gridcolor\":\"white\",\"linecolor\":\"white\",\"ticks\":\"\"}},\"title\":{\"x\":0.05},\"xaxis\":{\"automargin\":true,\"gridcolor\":\"white\",\"linecolor\":\"white\",\"ticks\":\"\",\"title\":{\"standoff\":15},\"zerolinecolor\":\"white\",\"zerolinewidth\":2},\"yaxis\":{\"automargin\":true,\"gridcolor\":\"white\",\"linecolor\":\"white\",\"ticks\":\"\",\"title\":{\"standoff\":15},\"zerolinecolor\":\"white\",\"zerolinewidth\":2}}},\"title\":{\"text\":\"IMPACT with different coverage\"}},                        {\"responsive\": true}                    ).then(function(){\n",
       "                            \n",
       "var gd = document.getElementById('1d04ece2-8236-4d79-ac6c-3b8325699e19');\n",
       "var x = new MutationObserver(function (mutations, observer) {{\n",
       "        var display = window.getComputedStyle(gd).display;\n",
       "        if (!display || display === 'none') {{\n",
       "            console.log([gd, 'removed!']);\n",
       "            Plotly.purge(gd);\n",
       "            observer.disconnect();\n",
       "        }}\n",
       "}});\n",
       "\n",
       "// Listen for the removal of the full notebook cells\n",
       "var notebookContainer = gd.closest('#notebook-container');\n",
       "if (notebookContainer) {{\n",
       "    x.observe(notebookContainer, {childList: true});\n",
       "}}\n",
       "\n",
       "// Listen for the clearing of the current output cell\n",
       "var outputEl = gd.closest('.output');\n",
       "if (outputEl) {{\n",
       "    x.observe(outputEl, {childList: true});\n",
       "}}\n",
       "\n",
       "                        })                };                });            </script>        </div>"
      ]
     },
     "metadata": {},
     "output_type": "display_data"
    }
   ],
   "source": [
    "fig = make_subplots(2, 2, specs=[[{'type':'domain'}, {'type':'domain'}],\n",
    "                                  [{'type':'domain'}, {'type':'domain'}]],\n",
    "                    subplot_titles=['BWA(70x)', 'BWA(5X)','VGbam(70x)','VGbam(5x)'])\n",
    "\n",
    "fig.add_trace(go.Pie(labels=count_imp_bwa_SF12[\"ID\"], values=count_imp_bwa_SF12[\"pct\"], scalegroup='one',\n",
    "                     name=\"BWA\"), 1, 1)\n",
    "fig.add_trace(go.Pie(labels=count_imp_bwa_SF12_5x[\"ID\"], values=count_imp_bwa_SF12_5x[\"pct\"], scalegroup='one',\n",
    "                     name=\"BWA\"), 1, 2)\n",
    "fig.add_trace(go.Pie(labels=count_imp_VGbam_SF12[\"ID\"], values=count_imp_VGbam_SF12[\"pct\"], scalegroup='one',\n",
    "                     name=\"BWA\"), 2, 1)\n",
    "fig.add_trace(go.Pie(labels=count_imp_VGbam_SF12_5x[\"ID\"], values=count_imp_VGbam_SF12_5x[\"pct\"], scalegroup='one',\n",
    "                     name=\"BWA\"), 2, 2)\n",
    "\n",
    "fig.update_layout(title_text='IMPACT with different coverage')\n",
    "fig.show()\n",
    "\n"
   ]
  },
  {
   "cell_type": "markdown",
   "id": "bd199b3a",
   "metadata": {},
   "source": [
    "Reducing the coverage reduce the amount of MODIFIER mutations. \n",
    "More importantly, it does increase the amount of HIGH IMPACT mutation found. \n",
    "\n",
    "ToDo , verify with 10/20/30X"
   ]
  },
  {
   "cell_type": "markdown",
   "id": "43bda1e5",
   "metadata": {},
   "source": [
    "# Chromosome analysis\n",
    "Check which chromosome have more mutations in total and pct wise with his length"
   ]
  },
  {
   "cell_type": "markdown",
   "id": "25f9ebe0",
   "metadata": {},
   "source": [
    "# VARIANT_CLASS analysis"
   ]
  },
  {
   "cell_type": "code",
   "execution_count": 11,
   "id": "30bd8ab7",
   "metadata": {
    "scrolled": true
   },
   "outputs": [
    {
     "data": {
      "text/plain": [
       "array(['MODIFIER', 'LOW', 'MODERATE', 'HIGH'], dtype=object)"
      ]
     },
     "execution_count": 11,
     "metadata": {},
     "output_type": "execute_result"
    }
   ],
   "source": [
    "dataBWA[\"IMPACT\"].unique()"
   ]
  },
  {
   "cell_type": "code",
   "execution_count": 12,
   "id": "bc432d18",
   "metadata": {},
   "outputs": [
    {
     "data": {
      "text/plain": [
       "array(['MODIFIER', 'MODERATE', 'LOW', 'HIGH'], dtype=object)"
      ]
     },
     "execution_count": 12,
     "metadata": {},
     "output_type": "execute_result"
    }
   ],
   "source": [
    "dataVGbam[\"IMPACT\"].unique()"
   ]
  },
  {
   "cell_type": "code",
   "execution_count": 10,
   "id": "89d2bf9d",
   "metadata": {},
   "outputs": [
    {
     "data": {
      "text/plain": [
       "array(['insertion', 'deletion', 'SNV', 'substitution', 'indel',\n",
       "       'sequence_alteration'], dtype=object)"
      ]
     },
     "execution_count": 10,
     "metadata": {},
     "output_type": "execute_result"
    }
   ],
   "source": [
    "dataVGgam[\"VARIANT_CLASS\"].unique()"
   ]
  },
  {
   "cell_type": "code",
   "execution_count": 74,
   "id": "24f9796a",
   "metadata": {},
   "outputs": [],
   "source": [
    "count_vc_bwa = dataBWA[\"VARIANT_CLASS\"].value_counts()\n",
    "count_vc_bwa = count_vc_bwa.to_frame(name=\"vals\")\n",
    "count_vc_bwa.reset_index(level=0,inplace=True)\n",
    "count_vc_bwa.rename(columns={\"index\": \"ID\", \"vals\":\"vals\"},inplace=True)\n",
    "count_vc_bwa[\"pct\"] = count_vc_bwa[\"vals\"] * 100 / sum(count_vc_bwa[\"vals\"])"
   ]
  },
  {
   "cell_type": "code",
   "execution_count": 75,
   "id": "677be2fc",
   "metadata": {},
   "outputs": [],
   "source": [
    "count_vc_VGb = dataVGbam[\"VARIANT_CLASS\"].value_counts()\n",
    "count_vc_VGb = count_vc_VGb.to_frame(name=\"vals\")\n",
    "count_vc_VGb.reset_index(level=0,inplace=True)\n",
    "count_vc_VGb.rename(columns={\"index\": \"ID\", \"vals\":\"vals\"},inplace=True)\n",
    "count_vc_VGb[\"pct\"] = count_vc_VGb[\"vals\"] * 100 / sum(count_vc_VGb[\"vals\"])"
   ]
  },
  {
   "cell_type": "code",
   "execution_count": 76,
   "id": "50a9fb34",
   "metadata": {},
   "outputs": [],
   "source": [
    "count_vc_VGg = dataVGgam[\"VARIANT_CLASS\"].value_counts()\n",
    "count_vc_VGg = count_vc_VGg.to_frame(name=\"vals\")\n",
    "count_vc_VGg.reset_index(level=0,inplace=True)\n",
    "count_vc_VGg.rename(columns={\"index\": \"ID\", \"vals\":\"vals\"},inplace=True)\n",
    "count_vc_VGg[\"pct\"] = count_vc_VGg[\"vals\"] * 100 / sum(count_vc_VGg[\"vals\"])"
   ]
  },
  {
   "cell_type": "code",
   "execution_count": 77,
   "id": "2c2a8e81",
   "metadata": {},
   "outputs": [
    {
     "data": {
      "application/vnd.plotly.v1+json": {
       "config": {
        "plotlyServerURL": "https://plot.ly"
       },
       "data": [
        {
         "domain": {
          "x": [
           0,
           0.2888888888888889
          ],
          "y": [
           0,
           1
          ]
         },
         "labels": [
          "SNV",
          "indel",
          "substitution"
         ],
         "name": "BWA",
         "scalegroup": "one",
         "type": "pie",
         "values": [
          87.72361329392257,
          10.169741186648404,
          2.1066455194290246
         ]
        },
        {
         "domain": {
          "x": [
           0.35555555555555557,
           0.6444444444444445
          ],
          "y": [
           0,
           1
          ]
         },
         "labels": [
          "SNV",
          "indel",
          "substitution"
         ],
         "name": "VGb",
         "scalegroup": "one",
         "type": "pie",
         "values": [
          83.79920404242135,
          14.074752252352654,
          2.1260437052259933
         ]
        },
        {
         "domain": {
          "x": [
           0.7111111111111111,
           1
          ],
          "y": [
           0,
           1
          ]
         },
         "labels": [
          "SNV",
          "deletion",
          "insertion",
          "substitution",
          "sequence_alteration",
          "indel"
         ],
         "name": "VGg",
         "scalegroup": "one",
         "type": "pie",
         "values": [
          85.08887274943737,
          7.577761235824359,
          5.991138089239004,
          0.9915065753608588,
          0.18718963739587477,
          0.16353171274252573
         ]
        }
       ],
       "layout": {
        "annotations": [
         {
          "font": {
           "size": 16
          },
          "showarrow": false,
          "text": "BWA",
          "x": 0.14444444444444446,
          "xanchor": "center",
          "xref": "paper",
          "y": 1,
          "yanchor": "bottom",
          "yref": "paper"
         },
         {
          "font": {
           "size": 16
          },
          "showarrow": false,
          "text": "VGbam",
          "x": 0.5,
          "xanchor": "center",
          "xref": "paper",
          "y": 1,
          "yanchor": "bottom",
          "yref": "paper"
         },
         {
          "font": {
           "size": 16
          },
          "showarrow": false,
          "text": "VGgam",
          "x": 0.8555555555555556,
          "xanchor": "center",
          "xref": "paper",
          "y": 1,
          "yanchor": "bottom",
          "yref": "paper"
         }
        ],
        "template": {
         "data": {
          "bar": [
           {
            "error_x": {
             "color": "#2a3f5f"
            },
            "error_y": {
             "color": "#2a3f5f"
            },
            "marker": {
             "line": {
              "color": "#E5ECF6",
              "width": 0.5
             },
             "pattern": {
              "fillmode": "overlay",
              "size": 10,
              "solidity": 0.2
             }
            },
            "type": "bar"
           }
          ],
          "barpolar": [
           {
            "marker": {
             "line": {
              "color": "#E5ECF6",
              "width": 0.5
             },
             "pattern": {
              "fillmode": "overlay",
              "size": 10,
              "solidity": 0.2
             }
            },
            "type": "barpolar"
           }
          ],
          "carpet": [
           {
            "aaxis": {
             "endlinecolor": "#2a3f5f",
             "gridcolor": "white",
             "linecolor": "white",
             "minorgridcolor": "white",
             "startlinecolor": "#2a3f5f"
            },
            "baxis": {
             "endlinecolor": "#2a3f5f",
             "gridcolor": "white",
             "linecolor": "white",
             "minorgridcolor": "white",
             "startlinecolor": "#2a3f5f"
            },
            "type": "carpet"
           }
          ],
          "choropleth": [
           {
            "colorbar": {
             "outlinewidth": 0,
             "ticks": ""
            },
            "type": "choropleth"
           }
          ],
          "contour": [
           {
            "colorbar": {
             "outlinewidth": 0,
             "ticks": ""
            },
            "colorscale": [
             [
              0,
              "#0d0887"
             ],
             [
              0.1111111111111111,
              "#46039f"
             ],
             [
              0.2222222222222222,
              "#7201a8"
             ],
             [
              0.3333333333333333,
              "#9c179e"
             ],
             [
              0.4444444444444444,
              "#bd3786"
             ],
             [
              0.5555555555555556,
              "#d8576b"
             ],
             [
              0.6666666666666666,
              "#ed7953"
             ],
             [
              0.7777777777777778,
              "#fb9f3a"
             ],
             [
              0.8888888888888888,
              "#fdca26"
             ],
             [
              1,
              "#f0f921"
             ]
            ],
            "type": "contour"
           }
          ],
          "contourcarpet": [
           {
            "colorbar": {
             "outlinewidth": 0,
             "ticks": ""
            },
            "type": "contourcarpet"
           }
          ],
          "heatmap": [
           {
            "colorbar": {
             "outlinewidth": 0,
             "ticks": ""
            },
            "colorscale": [
             [
              0,
              "#0d0887"
             ],
             [
              0.1111111111111111,
              "#46039f"
             ],
             [
              0.2222222222222222,
              "#7201a8"
             ],
             [
              0.3333333333333333,
              "#9c179e"
             ],
             [
              0.4444444444444444,
              "#bd3786"
             ],
             [
              0.5555555555555556,
              "#d8576b"
             ],
             [
              0.6666666666666666,
              "#ed7953"
             ],
             [
              0.7777777777777778,
              "#fb9f3a"
             ],
             [
              0.8888888888888888,
              "#fdca26"
             ],
             [
              1,
              "#f0f921"
             ]
            ],
            "type": "heatmap"
           }
          ],
          "heatmapgl": [
           {
            "colorbar": {
             "outlinewidth": 0,
             "ticks": ""
            },
            "colorscale": [
             [
              0,
              "#0d0887"
             ],
             [
              0.1111111111111111,
              "#46039f"
             ],
             [
              0.2222222222222222,
              "#7201a8"
             ],
             [
              0.3333333333333333,
              "#9c179e"
             ],
             [
              0.4444444444444444,
              "#bd3786"
             ],
             [
              0.5555555555555556,
              "#d8576b"
             ],
             [
              0.6666666666666666,
              "#ed7953"
             ],
             [
              0.7777777777777778,
              "#fb9f3a"
             ],
             [
              0.8888888888888888,
              "#fdca26"
             ],
             [
              1,
              "#f0f921"
             ]
            ],
            "type": "heatmapgl"
           }
          ],
          "histogram": [
           {
            "marker": {
             "pattern": {
              "fillmode": "overlay",
              "size": 10,
              "solidity": 0.2
             }
            },
            "type": "histogram"
           }
          ],
          "histogram2d": [
           {
            "colorbar": {
             "outlinewidth": 0,
             "ticks": ""
            },
            "colorscale": [
             [
              0,
              "#0d0887"
             ],
             [
              0.1111111111111111,
              "#46039f"
             ],
             [
              0.2222222222222222,
              "#7201a8"
             ],
             [
              0.3333333333333333,
              "#9c179e"
             ],
             [
              0.4444444444444444,
              "#bd3786"
             ],
             [
              0.5555555555555556,
              "#d8576b"
             ],
             [
              0.6666666666666666,
              "#ed7953"
             ],
             [
              0.7777777777777778,
              "#fb9f3a"
             ],
             [
              0.8888888888888888,
              "#fdca26"
             ],
             [
              1,
              "#f0f921"
             ]
            ],
            "type": "histogram2d"
           }
          ],
          "histogram2dcontour": [
           {
            "colorbar": {
             "outlinewidth": 0,
             "ticks": ""
            },
            "colorscale": [
             [
              0,
              "#0d0887"
             ],
             [
              0.1111111111111111,
              "#46039f"
             ],
             [
              0.2222222222222222,
              "#7201a8"
             ],
             [
              0.3333333333333333,
              "#9c179e"
             ],
             [
              0.4444444444444444,
              "#bd3786"
             ],
             [
              0.5555555555555556,
              "#d8576b"
             ],
             [
              0.6666666666666666,
              "#ed7953"
             ],
             [
              0.7777777777777778,
              "#fb9f3a"
             ],
             [
              0.8888888888888888,
              "#fdca26"
             ],
             [
              1,
              "#f0f921"
             ]
            ],
            "type": "histogram2dcontour"
           }
          ],
          "mesh3d": [
           {
            "colorbar": {
             "outlinewidth": 0,
             "ticks": ""
            },
            "type": "mesh3d"
           }
          ],
          "parcoords": [
           {
            "line": {
             "colorbar": {
              "outlinewidth": 0,
              "ticks": ""
             }
            },
            "type": "parcoords"
           }
          ],
          "pie": [
           {
            "automargin": true,
            "type": "pie"
           }
          ],
          "scatter": [
           {
            "marker": {
             "colorbar": {
              "outlinewidth": 0,
              "ticks": ""
             }
            },
            "type": "scatter"
           }
          ],
          "scatter3d": [
           {
            "line": {
             "colorbar": {
              "outlinewidth": 0,
              "ticks": ""
             }
            },
            "marker": {
             "colorbar": {
              "outlinewidth": 0,
              "ticks": ""
             }
            },
            "type": "scatter3d"
           }
          ],
          "scattercarpet": [
           {
            "marker": {
             "colorbar": {
              "outlinewidth": 0,
              "ticks": ""
             }
            },
            "type": "scattercarpet"
           }
          ],
          "scattergeo": [
           {
            "marker": {
             "colorbar": {
              "outlinewidth": 0,
              "ticks": ""
             }
            },
            "type": "scattergeo"
           }
          ],
          "scattergl": [
           {
            "marker": {
             "colorbar": {
              "outlinewidth": 0,
              "ticks": ""
             }
            },
            "type": "scattergl"
           }
          ],
          "scattermapbox": [
           {
            "marker": {
             "colorbar": {
              "outlinewidth": 0,
              "ticks": ""
             }
            },
            "type": "scattermapbox"
           }
          ],
          "scatterpolar": [
           {
            "marker": {
             "colorbar": {
              "outlinewidth": 0,
              "ticks": ""
             }
            },
            "type": "scatterpolar"
           }
          ],
          "scatterpolargl": [
           {
            "marker": {
             "colorbar": {
              "outlinewidth": 0,
              "ticks": ""
             }
            },
            "type": "scatterpolargl"
           }
          ],
          "scatterternary": [
           {
            "marker": {
             "colorbar": {
              "outlinewidth": 0,
              "ticks": ""
             }
            },
            "type": "scatterternary"
           }
          ],
          "surface": [
           {
            "colorbar": {
             "outlinewidth": 0,
             "ticks": ""
            },
            "colorscale": [
             [
              0,
              "#0d0887"
             ],
             [
              0.1111111111111111,
              "#46039f"
             ],
             [
              0.2222222222222222,
              "#7201a8"
             ],
             [
              0.3333333333333333,
              "#9c179e"
             ],
             [
              0.4444444444444444,
              "#bd3786"
             ],
             [
              0.5555555555555556,
              "#d8576b"
             ],
             [
              0.6666666666666666,
              "#ed7953"
             ],
             [
              0.7777777777777778,
              "#fb9f3a"
             ],
             [
              0.8888888888888888,
              "#fdca26"
             ],
             [
              1,
              "#f0f921"
             ]
            ],
            "type": "surface"
           }
          ],
          "table": [
           {
            "cells": {
             "fill": {
              "color": "#EBF0F8"
             },
             "line": {
              "color": "white"
             }
            },
            "header": {
             "fill": {
              "color": "#C8D4E3"
             },
             "line": {
              "color": "white"
             }
            },
            "type": "table"
           }
          ]
         },
         "layout": {
          "annotationdefaults": {
           "arrowcolor": "#2a3f5f",
           "arrowhead": 0,
           "arrowwidth": 1
          },
          "autotypenumbers": "strict",
          "coloraxis": {
           "colorbar": {
            "outlinewidth": 0,
            "ticks": ""
           }
          },
          "colorscale": {
           "diverging": [
            [
             0,
             "#8e0152"
            ],
            [
             0.1,
             "#c51b7d"
            ],
            [
             0.2,
             "#de77ae"
            ],
            [
             0.3,
             "#f1b6da"
            ],
            [
             0.4,
             "#fde0ef"
            ],
            [
             0.5,
             "#f7f7f7"
            ],
            [
             0.6,
             "#e6f5d0"
            ],
            [
             0.7,
             "#b8e186"
            ],
            [
             0.8,
             "#7fbc41"
            ],
            [
             0.9,
             "#4d9221"
            ],
            [
             1,
             "#276419"
            ]
           ],
           "sequential": [
            [
             0,
             "#0d0887"
            ],
            [
             0.1111111111111111,
             "#46039f"
            ],
            [
             0.2222222222222222,
             "#7201a8"
            ],
            [
             0.3333333333333333,
             "#9c179e"
            ],
            [
             0.4444444444444444,
             "#bd3786"
            ],
            [
             0.5555555555555556,
             "#d8576b"
            ],
            [
             0.6666666666666666,
             "#ed7953"
            ],
            [
             0.7777777777777778,
             "#fb9f3a"
            ],
            [
             0.8888888888888888,
             "#fdca26"
            ],
            [
             1,
             "#f0f921"
            ]
           ],
           "sequentialminus": [
            [
             0,
             "#0d0887"
            ],
            [
             0.1111111111111111,
             "#46039f"
            ],
            [
             0.2222222222222222,
             "#7201a8"
            ],
            [
             0.3333333333333333,
             "#9c179e"
            ],
            [
             0.4444444444444444,
             "#bd3786"
            ],
            [
             0.5555555555555556,
             "#d8576b"
            ],
            [
             0.6666666666666666,
             "#ed7953"
            ],
            [
             0.7777777777777778,
             "#fb9f3a"
            ],
            [
             0.8888888888888888,
             "#fdca26"
            ],
            [
             1,
             "#f0f921"
            ]
           ]
          },
          "colorway": [
           "#636efa",
           "#EF553B",
           "#00cc96",
           "#ab63fa",
           "#FFA15A",
           "#19d3f3",
           "#FF6692",
           "#B6E880",
           "#FF97FF",
           "#FECB52"
          ],
          "font": {
           "color": "#2a3f5f"
          },
          "geo": {
           "bgcolor": "white",
           "lakecolor": "white",
           "landcolor": "#E5ECF6",
           "showlakes": true,
           "showland": true,
           "subunitcolor": "white"
          },
          "hoverlabel": {
           "align": "left"
          },
          "hovermode": "closest",
          "mapbox": {
           "style": "light"
          },
          "paper_bgcolor": "white",
          "plot_bgcolor": "#E5ECF6",
          "polar": {
           "angularaxis": {
            "gridcolor": "white",
            "linecolor": "white",
            "ticks": ""
           },
           "bgcolor": "#E5ECF6",
           "radialaxis": {
            "gridcolor": "white",
            "linecolor": "white",
            "ticks": ""
           }
          },
          "scene": {
           "xaxis": {
            "backgroundcolor": "#E5ECF6",
            "gridcolor": "white",
            "gridwidth": 2,
            "linecolor": "white",
            "showbackground": true,
            "ticks": "",
            "zerolinecolor": "white"
           },
           "yaxis": {
            "backgroundcolor": "#E5ECF6",
            "gridcolor": "white",
            "gridwidth": 2,
            "linecolor": "white",
            "showbackground": true,
            "ticks": "",
            "zerolinecolor": "white"
           },
           "zaxis": {
            "backgroundcolor": "#E5ECF6",
            "gridcolor": "white",
            "gridwidth": 2,
            "linecolor": "white",
            "showbackground": true,
            "ticks": "",
            "zerolinecolor": "white"
           }
          },
          "shapedefaults": {
           "line": {
            "color": "#2a3f5f"
           }
          },
          "ternary": {
           "aaxis": {
            "gridcolor": "white",
            "linecolor": "white",
            "ticks": ""
           },
           "baxis": {
            "gridcolor": "white",
            "linecolor": "white",
            "ticks": ""
           },
           "bgcolor": "#E5ECF6",
           "caxis": {
            "gridcolor": "white",
            "linecolor": "white",
            "ticks": ""
           }
          },
          "title": {
           "x": 0.05
          },
          "xaxis": {
           "automargin": true,
           "gridcolor": "white",
           "linecolor": "white",
           "ticks": "",
           "title": {
            "standoff": 15
           },
           "zerolinecolor": "white",
           "zerolinewidth": 2
          },
          "yaxis": {
           "automargin": true,
           "gridcolor": "white",
           "linecolor": "white",
           "ticks": "",
           "title": {
            "standoff": 15
           },
           "zerolinecolor": "white",
           "zerolinewidth": 2
          }
         }
        },
        "title": {
         "text": "VARIANT_CLASS of different mapper"
        }
       }
      },
      "text/html": [
       "<div>                            <div id=\"99d9d138-a9eb-4dcb-99e4-a5fec8fc1b61\" class=\"plotly-graph-div\" style=\"height:525px; width:100%;\"></div>            <script type=\"text/javascript\">                require([\"plotly\"], function(Plotly) {                    window.PLOTLYENV=window.PLOTLYENV || {};                                    if (document.getElementById(\"99d9d138-a9eb-4dcb-99e4-a5fec8fc1b61\")) {                    Plotly.newPlot(                        \"99d9d138-a9eb-4dcb-99e4-a5fec8fc1b61\",                        [{\"domain\":{\"x\":[0.0,0.2888888888888889],\"y\":[0.0,1.0]},\"labels\":[\"SNV\",\"indel\",\"substitution\"],\"name\":\"BWA\",\"scalegroup\":\"one\",\"type\":\"pie\",\"values\":[87.72361329392257,10.169741186648404,2.1066455194290246]},{\"domain\":{\"x\":[0.35555555555555557,0.6444444444444445],\"y\":[0.0,1.0]},\"labels\":[\"SNV\",\"indel\",\"substitution\"],\"name\":\"VGb\",\"scalegroup\":\"one\",\"type\":\"pie\",\"values\":[83.79920404242135,14.074752252352654,2.1260437052259933]},{\"domain\":{\"x\":[0.7111111111111111,1.0],\"y\":[0.0,1.0]},\"labels\":[\"SNV\",\"deletion\",\"insertion\",\"substitution\",\"sequence_alteration\",\"indel\"],\"name\":\"VGg\",\"scalegroup\":\"one\",\"type\":\"pie\",\"values\":[85.08887274943737,7.577761235824359,5.991138089239004,0.9915065753608588,0.18718963739587477,0.16353171274252573]}],                        {\"annotations\":[{\"font\":{\"size\":16},\"showarrow\":false,\"text\":\"BWA\",\"x\":0.14444444444444446,\"xanchor\":\"center\",\"xref\":\"paper\",\"y\":1.0,\"yanchor\":\"bottom\",\"yref\":\"paper\"},{\"font\":{\"size\":16},\"showarrow\":false,\"text\":\"VGbam\",\"x\":0.5,\"xanchor\":\"center\",\"xref\":\"paper\",\"y\":1.0,\"yanchor\":\"bottom\",\"yref\":\"paper\"},{\"font\":{\"size\":16},\"showarrow\":false,\"text\":\"VGgam\",\"x\":0.8555555555555556,\"xanchor\":\"center\",\"xref\":\"paper\",\"y\":1.0,\"yanchor\":\"bottom\",\"yref\":\"paper\"}],\"template\":{\"data\":{\"bar\":[{\"error_x\":{\"color\":\"#2a3f5f\"},\"error_y\":{\"color\":\"#2a3f5f\"},\"marker\":{\"line\":{\"color\":\"#E5ECF6\",\"width\":0.5},\"pattern\":{\"fillmode\":\"overlay\",\"size\":10,\"solidity\":0.2}},\"type\":\"bar\"}],\"barpolar\":[{\"marker\":{\"line\":{\"color\":\"#E5ECF6\",\"width\":0.5},\"pattern\":{\"fillmode\":\"overlay\",\"size\":10,\"solidity\":0.2}},\"type\":\"barpolar\"}],\"carpet\":[{\"aaxis\":{\"endlinecolor\":\"#2a3f5f\",\"gridcolor\":\"white\",\"linecolor\":\"white\",\"minorgridcolor\":\"white\",\"startlinecolor\":\"#2a3f5f\"},\"baxis\":{\"endlinecolor\":\"#2a3f5f\",\"gridcolor\":\"white\",\"linecolor\":\"white\",\"minorgridcolor\":\"white\",\"startlinecolor\":\"#2a3f5f\"},\"type\":\"carpet\"}],\"choropleth\":[{\"colorbar\":{\"outlinewidth\":0,\"ticks\":\"\"},\"type\":\"choropleth\"}],\"contour\":[{\"colorbar\":{\"outlinewidth\":0,\"ticks\":\"\"},\"colorscale\":[[0.0,\"#0d0887\"],[0.1111111111111111,\"#46039f\"],[0.2222222222222222,\"#7201a8\"],[0.3333333333333333,\"#9c179e\"],[0.4444444444444444,\"#bd3786\"],[0.5555555555555556,\"#d8576b\"],[0.6666666666666666,\"#ed7953\"],[0.7777777777777778,\"#fb9f3a\"],[0.8888888888888888,\"#fdca26\"],[1.0,\"#f0f921\"]],\"type\":\"contour\"}],\"contourcarpet\":[{\"colorbar\":{\"outlinewidth\":0,\"ticks\":\"\"},\"type\":\"contourcarpet\"}],\"heatmap\":[{\"colorbar\":{\"outlinewidth\":0,\"ticks\":\"\"},\"colorscale\":[[0.0,\"#0d0887\"],[0.1111111111111111,\"#46039f\"],[0.2222222222222222,\"#7201a8\"],[0.3333333333333333,\"#9c179e\"],[0.4444444444444444,\"#bd3786\"],[0.5555555555555556,\"#d8576b\"],[0.6666666666666666,\"#ed7953\"],[0.7777777777777778,\"#fb9f3a\"],[0.8888888888888888,\"#fdca26\"],[1.0,\"#f0f921\"]],\"type\":\"heatmap\"}],\"heatmapgl\":[{\"colorbar\":{\"outlinewidth\":0,\"ticks\":\"\"},\"colorscale\":[[0.0,\"#0d0887\"],[0.1111111111111111,\"#46039f\"],[0.2222222222222222,\"#7201a8\"],[0.3333333333333333,\"#9c179e\"],[0.4444444444444444,\"#bd3786\"],[0.5555555555555556,\"#d8576b\"],[0.6666666666666666,\"#ed7953\"],[0.7777777777777778,\"#fb9f3a\"],[0.8888888888888888,\"#fdca26\"],[1.0,\"#f0f921\"]],\"type\":\"heatmapgl\"}],\"histogram\":[{\"marker\":{\"pattern\":{\"fillmode\":\"overlay\",\"size\":10,\"solidity\":0.2}},\"type\":\"histogram\"}],\"histogram2d\":[{\"colorbar\":{\"outlinewidth\":0,\"ticks\":\"\"},\"colorscale\":[[0.0,\"#0d0887\"],[0.1111111111111111,\"#46039f\"],[0.2222222222222222,\"#7201a8\"],[0.3333333333333333,\"#9c179e\"],[0.4444444444444444,\"#bd3786\"],[0.5555555555555556,\"#d8576b\"],[0.6666666666666666,\"#ed7953\"],[0.7777777777777778,\"#fb9f3a\"],[0.8888888888888888,\"#fdca26\"],[1.0,\"#f0f921\"]],\"type\":\"histogram2d\"}],\"histogram2dcontour\":[{\"colorbar\":{\"outlinewidth\":0,\"ticks\":\"\"},\"colorscale\":[[0.0,\"#0d0887\"],[0.1111111111111111,\"#46039f\"],[0.2222222222222222,\"#7201a8\"],[0.3333333333333333,\"#9c179e\"],[0.4444444444444444,\"#bd3786\"],[0.5555555555555556,\"#d8576b\"],[0.6666666666666666,\"#ed7953\"],[0.7777777777777778,\"#fb9f3a\"],[0.8888888888888888,\"#fdca26\"],[1.0,\"#f0f921\"]],\"type\":\"histogram2dcontour\"}],\"mesh3d\":[{\"colorbar\":{\"outlinewidth\":0,\"ticks\":\"\"},\"type\":\"mesh3d\"}],\"parcoords\":[{\"line\":{\"colorbar\":{\"outlinewidth\":0,\"ticks\":\"\"}},\"type\":\"parcoords\"}],\"pie\":[{\"automargin\":true,\"type\":\"pie\"}],\"scatter\":[{\"marker\":{\"colorbar\":{\"outlinewidth\":0,\"ticks\":\"\"}},\"type\":\"scatter\"}],\"scatter3d\":[{\"line\":{\"colorbar\":{\"outlinewidth\":0,\"ticks\":\"\"}},\"marker\":{\"colorbar\":{\"outlinewidth\":0,\"ticks\":\"\"}},\"type\":\"scatter3d\"}],\"scattercarpet\":[{\"marker\":{\"colorbar\":{\"outlinewidth\":0,\"ticks\":\"\"}},\"type\":\"scattercarpet\"}],\"scattergeo\":[{\"marker\":{\"colorbar\":{\"outlinewidth\":0,\"ticks\":\"\"}},\"type\":\"scattergeo\"}],\"scattergl\":[{\"marker\":{\"colorbar\":{\"outlinewidth\":0,\"ticks\":\"\"}},\"type\":\"scattergl\"}],\"scattermapbox\":[{\"marker\":{\"colorbar\":{\"outlinewidth\":0,\"ticks\":\"\"}},\"type\":\"scattermapbox\"}],\"scatterpolar\":[{\"marker\":{\"colorbar\":{\"outlinewidth\":0,\"ticks\":\"\"}},\"type\":\"scatterpolar\"}],\"scatterpolargl\":[{\"marker\":{\"colorbar\":{\"outlinewidth\":0,\"ticks\":\"\"}},\"type\":\"scatterpolargl\"}],\"scatterternary\":[{\"marker\":{\"colorbar\":{\"outlinewidth\":0,\"ticks\":\"\"}},\"type\":\"scatterternary\"}],\"surface\":[{\"colorbar\":{\"outlinewidth\":0,\"ticks\":\"\"},\"colorscale\":[[0.0,\"#0d0887\"],[0.1111111111111111,\"#46039f\"],[0.2222222222222222,\"#7201a8\"],[0.3333333333333333,\"#9c179e\"],[0.4444444444444444,\"#bd3786\"],[0.5555555555555556,\"#d8576b\"],[0.6666666666666666,\"#ed7953\"],[0.7777777777777778,\"#fb9f3a\"],[0.8888888888888888,\"#fdca26\"],[1.0,\"#f0f921\"]],\"type\":\"surface\"}],\"table\":[{\"cells\":{\"fill\":{\"color\":\"#EBF0F8\"},\"line\":{\"color\":\"white\"}},\"header\":{\"fill\":{\"color\":\"#C8D4E3\"},\"line\":{\"color\":\"white\"}},\"type\":\"table\"}]},\"layout\":{\"annotationdefaults\":{\"arrowcolor\":\"#2a3f5f\",\"arrowhead\":0,\"arrowwidth\":1},\"autotypenumbers\":\"strict\",\"coloraxis\":{\"colorbar\":{\"outlinewidth\":0,\"ticks\":\"\"}},\"colorscale\":{\"diverging\":[[0,\"#8e0152\"],[0.1,\"#c51b7d\"],[0.2,\"#de77ae\"],[0.3,\"#f1b6da\"],[0.4,\"#fde0ef\"],[0.5,\"#f7f7f7\"],[0.6,\"#e6f5d0\"],[0.7,\"#b8e186\"],[0.8,\"#7fbc41\"],[0.9,\"#4d9221\"],[1,\"#276419\"]],\"sequential\":[[0.0,\"#0d0887\"],[0.1111111111111111,\"#46039f\"],[0.2222222222222222,\"#7201a8\"],[0.3333333333333333,\"#9c179e\"],[0.4444444444444444,\"#bd3786\"],[0.5555555555555556,\"#d8576b\"],[0.6666666666666666,\"#ed7953\"],[0.7777777777777778,\"#fb9f3a\"],[0.8888888888888888,\"#fdca26\"],[1.0,\"#f0f921\"]],\"sequentialminus\":[[0.0,\"#0d0887\"],[0.1111111111111111,\"#46039f\"],[0.2222222222222222,\"#7201a8\"],[0.3333333333333333,\"#9c179e\"],[0.4444444444444444,\"#bd3786\"],[0.5555555555555556,\"#d8576b\"],[0.6666666666666666,\"#ed7953\"],[0.7777777777777778,\"#fb9f3a\"],[0.8888888888888888,\"#fdca26\"],[1.0,\"#f0f921\"]]},\"colorway\":[\"#636efa\",\"#EF553B\",\"#00cc96\",\"#ab63fa\",\"#FFA15A\",\"#19d3f3\",\"#FF6692\",\"#B6E880\",\"#FF97FF\",\"#FECB52\"],\"font\":{\"color\":\"#2a3f5f\"},\"geo\":{\"bgcolor\":\"white\",\"lakecolor\":\"white\",\"landcolor\":\"#E5ECF6\",\"showlakes\":true,\"showland\":true,\"subunitcolor\":\"white\"},\"hoverlabel\":{\"align\":\"left\"},\"hovermode\":\"closest\",\"mapbox\":{\"style\":\"light\"},\"paper_bgcolor\":\"white\",\"plot_bgcolor\":\"#E5ECF6\",\"polar\":{\"angularaxis\":{\"gridcolor\":\"white\",\"linecolor\":\"white\",\"ticks\":\"\"},\"bgcolor\":\"#E5ECF6\",\"radialaxis\":{\"gridcolor\":\"white\",\"linecolor\":\"white\",\"ticks\":\"\"}},\"scene\":{\"xaxis\":{\"backgroundcolor\":\"#E5ECF6\",\"gridcolor\":\"white\",\"gridwidth\":2,\"linecolor\":\"white\",\"showbackground\":true,\"ticks\":\"\",\"zerolinecolor\":\"white\"},\"yaxis\":{\"backgroundcolor\":\"#E5ECF6\",\"gridcolor\":\"white\",\"gridwidth\":2,\"linecolor\":\"white\",\"showbackground\":true,\"ticks\":\"\",\"zerolinecolor\":\"white\"},\"zaxis\":{\"backgroundcolor\":\"#E5ECF6\",\"gridcolor\":\"white\",\"gridwidth\":2,\"linecolor\":\"white\",\"showbackground\":true,\"ticks\":\"\",\"zerolinecolor\":\"white\"}},\"shapedefaults\":{\"line\":{\"color\":\"#2a3f5f\"}},\"ternary\":{\"aaxis\":{\"gridcolor\":\"white\",\"linecolor\":\"white\",\"ticks\":\"\"},\"baxis\":{\"gridcolor\":\"white\",\"linecolor\":\"white\",\"ticks\":\"\"},\"bgcolor\":\"#E5ECF6\",\"caxis\":{\"gridcolor\":\"white\",\"linecolor\":\"white\",\"ticks\":\"\"}},\"title\":{\"x\":0.05},\"xaxis\":{\"automargin\":true,\"gridcolor\":\"white\",\"linecolor\":\"white\",\"ticks\":\"\",\"title\":{\"standoff\":15},\"zerolinecolor\":\"white\",\"zerolinewidth\":2},\"yaxis\":{\"automargin\":true,\"gridcolor\":\"white\",\"linecolor\":\"white\",\"ticks\":\"\",\"title\":{\"standoff\":15},\"zerolinecolor\":\"white\",\"zerolinewidth\":2}}},\"title\":{\"text\":\"VARIANT_CLASS of different mapper\"}},                        {\"responsive\": true}                    ).then(function(){\n",
       "                            \n",
       "var gd = document.getElementById('99d9d138-a9eb-4dcb-99e4-a5fec8fc1b61');\n",
       "var x = new MutationObserver(function (mutations, observer) {{\n",
       "        var display = window.getComputedStyle(gd).display;\n",
       "        if (!display || display === 'none') {{\n",
       "            console.log([gd, 'removed!']);\n",
       "            Plotly.purge(gd);\n",
       "            observer.disconnect();\n",
       "        }}\n",
       "}});\n",
       "\n",
       "// Listen for the removal of the full notebook cells\n",
       "var notebookContainer = gd.closest('#notebook-container');\n",
       "if (notebookContainer) {{\n",
       "    x.observe(notebookContainer, {childList: true});\n",
       "}}\n",
       "\n",
       "// Listen for the clearing of the current output cell\n",
       "var outputEl = gd.closest('.output');\n",
       "if (outputEl) {{\n",
       "    x.observe(outputEl, {childList: true});\n",
       "}}\n",
       "\n",
       "                        })                };                });            </script>        </div>"
      ]
     },
     "metadata": {},
     "output_type": "display_data"
    }
   ],
   "source": [
    "fig = make_subplots(1, 3, specs=[[{'type':'domain'}, {'type':'domain'}, {'type':'domain'}]],\n",
    "                    subplot_titles=['BWA', 'VGbam','VGgam'])\n",
    "\n",
    "fig.add_trace(go.Pie(labels=count_vc_bwa[\"ID\"], values=count_vc_bwa[\"pct\"], scalegroup='one',\n",
    "                     name=\"BWA\"), 1, 1)\n",
    "fig.add_trace(go.Pie(labels=count_vc_VGb[\"ID\"], values=count_vc_VGb[\"pct\"], scalegroup='one',\n",
    "                     name=\"VGb\"), 1, 2)\n",
    "fig.add_trace(go.Pie(labels=count_vc_VGg[\"ID\"], values=count_vc_VGg[\"pct\"], scalegroup='one',\n",
    "                     name=\"VGg\"), 1, 3)\n",
    "\n",
    "fig.update_layout(title_text='VARIANT_CLASS of different mapper')\n",
    "fig.show()\n"
   ]
  },
  {
   "cell_type": "code",
   "execution_count": null,
   "id": "4ec8e552",
   "metadata": {},
   "outputs": [],
   "source": [
    "x = sample\n",
    "y = different variant"
   ]
  },
  {
   "cell_type": "code",
   "execution_count": 165,
   "id": "bd050ae9",
   "metadata": {
    "scrolled": true
   },
   "outputs": [
    {
     "data": {
      "text/plain": [
       "17338750"
      ]
     },
     "execution_count": 165,
     "metadata": {},
     "output_type": "execute_result"
    }
   ],
   "source": [
    "sum(count_vc_bwa.vals)"
   ]
  },
  {
   "cell_type": "code",
   "execution_count": 166,
   "id": "1c19c50c",
   "metadata": {},
   "outputs": [
    {
     "data": {
      "text/plain": [
       "17945680"
      ]
     },
     "execution_count": 166,
     "metadata": {},
     "output_type": "execute_result"
    }
   ],
   "source": [
    "sum(count_vc_VGb.vals)"
   ]
  },
  {
   "cell_type": "code",
   "execution_count": 167,
   "id": "6f2e61f4",
   "metadata": {},
   "outputs": [
    {
     "data": {
      "text/plain": [
       "15238023"
      ]
     },
     "execution_count": 167,
     "metadata": {},
     "output_type": "execute_result"
    }
   ],
   "source": [
    "sum(count_vc_VGg.vals)"
   ]
  },
  {
   "cell_type": "code",
   "execution_count": null,
   "id": "efb49009",
   "metadata": {},
   "outputs": [],
   "source": [
    "check same site in indels and insertion / deletion"
   ]
  },
  {
   "cell_type": "markdown",
   "id": "66464ca2",
   "metadata": {},
   "source": [
    "Amount of SNV is pretty similar.\n",
    "However interesting how VGgam consider INDELs as Insertion and Deletion which is different in ENSEMBL standart (https://asia.ensembl.org/info/genome/variation/prediction/classification.html#classes)\n",
    "\n",
    "Even with that, VGgam have 91% of Insertion/Deletion for 85% of INDEL for others. "
   ]
  },
  {
   "cell_type": "markdown",
   "id": "a48a931a",
   "metadata": {},
   "source": [
    "#### Check over time trend\n",
    "\n",
    "Take same mapper and analyse the % on different individuals through time "
   ]
  },
  {
   "cell_type": "code",
   "execution_count": 125,
   "id": "5d24765f",
   "metadata": {},
   "outputs": [],
   "source": [
    "count_vc_bwa_BR2 = dataBWA_BR[\"VARIANT_CLASS\"].value_counts()\n",
    "count_vc_bwa_BR2 = count_vc_bwa_BR2.to_frame(name=\"vals\")\n",
    "count_vc_bwa_BR2.reset_index(level=0,inplace=True)\n",
    "count_vc_bwa_BR2.rename(columns={\"index\": \"ID\", \"vals\":\"vals\"},inplace=True)\n",
    "count_vc_bwa_BR2[\"pct\"] = count_vc_bwa_BR2[\"vals\"] * 100 / sum(count_vc_bwa_BR2[\"vals\"])"
   ]
  },
  {
   "cell_type": "code",
   "execution_count": 126,
   "id": "de1ddc9d",
   "metadata": {},
   "outputs": [],
   "source": [
    "count_vc_bwa_BOT = count_vc_bwa"
   ]
  },
  {
   "cell_type": "code",
   "execution_count": 127,
   "id": "59e97717",
   "metadata": {},
   "outputs": [],
   "source": [
    "count_vc_bwa_SF12 = dataBWA_SF12[\"VARIANT_CLASS\"].value_counts()\n",
    "count_vc_bwa_SF12 = count_vc_bwa_SF12.to_frame(name=\"vals\")\n",
    "count_vc_bwa_SF12.reset_index(level=0,inplace=True)\n",
    "count_vc_bwa_SF12.rename(columns={\"index\": \"ID\", \"vals\":\"vals\"},inplace=True)\n",
    "count_vc_bwa_SF12[\"pct\"] = count_vc_bwa_SF12[\"vals\"] * 100 / sum(count_vc_bwa_SF12[\"vals\"])"
   ]
  },
  {
   "cell_type": "code",
   "execution_count": 128,
   "id": "2ed46700",
   "metadata": {},
   "outputs": [],
   "source": [
    "count_vc_bwa_Ust = dataBWA_Ust[\"VARIANT_CLASS\"].value_counts()\n",
    "count_vc_bwa_Ust = count_vc_bwa_Ust.to_frame(name=\"vals\")\n",
    "count_vc_bwa_Ust.reset_index(level=0,inplace=True)\n",
    "count_vc_bwa_Ust.rename(columns={\"index\": \"ID\", \"vals\":\"vals\"},inplace=True)\n",
    "count_vc_bwa_Ust[\"pct\"] = count_vc_bwa_Ust[\"vals\"] * 100 / sum(count_vc_bwa_Ust[\"vals\"])"
   ]
  },
  {
   "cell_type": "code",
   "execution_count": 129,
   "id": "80425b58",
   "metadata": {},
   "outputs": [
    {
     "data": {
      "application/vnd.plotly.v1+json": {
       "config": {
        "plotlyServerURL": "https://plot.ly"
       },
       "data": [
        {
         "domain": {
          "x": [
           0,
           0.2125
          ],
          "y": [
           0,
           1
          ]
         },
         "labels": [
          "SNV",
          "indel",
          "substitution"
         ],
         "name": "BWA",
         "scalegroup": "one",
         "type": "pie",
         "values": [
          88.42546764609197,
          8.669428685900241,
          2.9051036680077917
         ]
        },
        {
         "domain": {
          "x": [
           0.2625,
           0.475
          ],
          "y": [
           0,
           1
          ]
         },
         "labels": [
          "SNV",
          "indel",
          "substitution"
         ],
         "name": "BWA",
         "scalegroup": "one",
         "type": "pie",
         "values": [
          87.72361329392257,
          10.169741186648404,
          2.1066455194290246
         ]
        },
        {
         "domain": {
          "x": [
           0.525,
           0.7375
          ],
          "y": [
           0,
           1
          ]
         },
         "labels": [
          "SNV",
          "indel",
          "substitution"
         ],
         "name": "BWA",
         "scalegroup": "one",
         "type": "pie",
         "values": [
          86.9057281567728,
          9.774334528507875,
          3.319937314719324
         ]
        },
        {
         "domain": {
          "x": [
           0.7875,
           1
          ],
          "y": [
           0,
           1
          ]
         },
         "labels": [
          "SNV",
          "indel",
          "substitution"
         ],
         "name": "BWA",
         "scalegroup": "one",
         "type": "pie",
         "values": [
          84.88345650444737,
          11.98445227917789,
          3.13209121637474
         ]
        }
       ],
       "layout": {
        "annotations": [
         {
          "font": {
           "size": 16
          },
          "showarrow": false,
          "text": "BR2 (2.8k)",
          "x": 0.10625,
          "xanchor": "center",
          "xref": "paper",
          "y": 1,
          "yanchor": "bottom",
          "yref": "paper"
         },
         {
          "font": {
           "size": 16
          },
          "showarrow": false,
          "text": "BOT16(5.4k)",
          "x": 0.36875,
          "xanchor": "center",
          "xref": "paper",
          "y": 1,
          "yanchor": "bottom",
          "yref": "paper"
         },
         {
          "font": {
           "size": 16
          },
          "showarrow": false,
          "text": "SF12(8.8k)",
          "x": 0.6312500000000001,
          "xanchor": "center",
          "xref": "paper",
          "y": 1,
          "yanchor": "bottom",
          "yref": "paper"
         },
         {
          "font": {
           "size": 16
          },
          "showarrow": false,
          "text": "Ust(44k)",
          "x": 0.89375,
          "xanchor": "center",
          "xref": "paper",
          "y": 1,
          "yanchor": "bottom",
          "yref": "paper"
         }
        ],
        "template": {
         "data": {
          "bar": [
           {
            "error_x": {
             "color": "#2a3f5f"
            },
            "error_y": {
             "color": "#2a3f5f"
            },
            "marker": {
             "line": {
              "color": "#E5ECF6",
              "width": 0.5
             },
             "pattern": {
              "fillmode": "overlay",
              "size": 10,
              "solidity": 0.2
             }
            },
            "type": "bar"
           }
          ],
          "barpolar": [
           {
            "marker": {
             "line": {
              "color": "#E5ECF6",
              "width": 0.5
             },
             "pattern": {
              "fillmode": "overlay",
              "size": 10,
              "solidity": 0.2
             }
            },
            "type": "barpolar"
           }
          ],
          "carpet": [
           {
            "aaxis": {
             "endlinecolor": "#2a3f5f",
             "gridcolor": "white",
             "linecolor": "white",
             "minorgridcolor": "white",
             "startlinecolor": "#2a3f5f"
            },
            "baxis": {
             "endlinecolor": "#2a3f5f",
             "gridcolor": "white",
             "linecolor": "white",
             "minorgridcolor": "white",
             "startlinecolor": "#2a3f5f"
            },
            "type": "carpet"
           }
          ],
          "choropleth": [
           {
            "colorbar": {
             "outlinewidth": 0,
             "ticks": ""
            },
            "type": "choropleth"
           }
          ],
          "contour": [
           {
            "colorbar": {
             "outlinewidth": 0,
             "ticks": ""
            },
            "colorscale": [
             [
              0,
              "#0d0887"
             ],
             [
              0.1111111111111111,
              "#46039f"
             ],
             [
              0.2222222222222222,
              "#7201a8"
             ],
             [
              0.3333333333333333,
              "#9c179e"
             ],
             [
              0.4444444444444444,
              "#bd3786"
             ],
             [
              0.5555555555555556,
              "#d8576b"
             ],
             [
              0.6666666666666666,
              "#ed7953"
             ],
             [
              0.7777777777777778,
              "#fb9f3a"
             ],
             [
              0.8888888888888888,
              "#fdca26"
             ],
             [
              1,
              "#f0f921"
             ]
            ],
            "type": "contour"
           }
          ],
          "contourcarpet": [
           {
            "colorbar": {
             "outlinewidth": 0,
             "ticks": ""
            },
            "type": "contourcarpet"
           }
          ],
          "heatmap": [
           {
            "colorbar": {
             "outlinewidth": 0,
             "ticks": ""
            },
            "colorscale": [
             [
              0,
              "#0d0887"
             ],
             [
              0.1111111111111111,
              "#46039f"
             ],
             [
              0.2222222222222222,
              "#7201a8"
             ],
             [
              0.3333333333333333,
              "#9c179e"
             ],
             [
              0.4444444444444444,
              "#bd3786"
             ],
             [
              0.5555555555555556,
              "#d8576b"
             ],
             [
              0.6666666666666666,
              "#ed7953"
             ],
             [
              0.7777777777777778,
              "#fb9f3a"
             ],
             [
              0.8888888888888888,
              "#fdca26"
             ],
             [
              1,
              "#f0f921"
             ]
            ],
            "type": "heatmap"
           }
          ],
          "heatmapgl": [
           {
            "colorbar": {
             "outlinewidth": 0,
             "ticks": ""
            },
            "colorscale": [
             [
              0,
              "#0d0887"
             ],
             [
              0.1111111111111111,
              "#46039f"
             ],
             [
              0.2222222222222222,
              "#7201a8"
             ],
             [
              0.3333333333333333,
              "#9c179e"
             ],
             [
              0.4444444444444444,
              "#bd3786"
             ],
             [
              0.5555555555555556,
              "#d8576b"
             ],
             [
              0.6666666666666666,
              "#ed7953"
             ],
             [
              0.7777777777777778,
              "#fb9f3a"
             ],
             [
              0.8888888888888888,
              "#fdca26"
             ],
             [
              1,
              "#f0f921"
             ]
            ],
            "type": "heatmapgl"
           }
          ],
          "histogram": [
           {
            "marker": {
             "pattern": {
              "fillmode": "overlay",
              "size": 10,
              "solidity": 0.2
             }
            },
            "type": "histogram"
           }
          ],
          "histogram2d": [
           {
            "colorbar": {
             "outlinewidth": 0,
             "ticks": ""
            },
            "colorscale": [
             [
              0,
              "#0d0887"
             ],
             [
              0.1111111111111111,
              "#46039f"
             ],
             [
              0.2222222222222222,
              "#7201a8"
             ],
             [
              0.3333333333333333,
              "#9c179e"
             ],
             [
              0.4444444444444444,
              "#bd3786"
             ],
             [
              0.5555555555555556,
              "#d8576b"
             ],
             [
              0.6666666666666666,
              "#ed7953"
             ],
             [
              0.7777777777777778,
              "#fb9f3a"
             ],
             [
              0.8888888888888888,
              "#fdca26"
             ],
             [
              1,
              "#f0f921"
             ]
            ],
            "type": "histogram2d"
           }
          ],
          "histogram2dcontour": [
           {
            "colorbar": {
             "outlinewidth": 0,
             "ticks": ""
            },
            "colorscale": [
             [
              0,
              "#0d0887"
             ],
             [
              0.1111111111111111,
              "#46039f"
             ],
             [
              0.2222222222222222,
              "#7201a8"
             ],
             [
              0.3333333333333333,
              "#9c179e"
             ],
             [
              0.4444444444444444,
              "#bd3786"
             ],
             [
              0.5555555555555556,
              "#d8576b"
             ],
             [
              0.6666666666666666,
              "#ed7953"
             ],
             [
              0.7777777777777778,
              "#fb9f3a"
             ],
             [
              0.8888888888888888,
              "#fdca26"
             ],
             [
              1,
              "#f0f921"
             ]
            ],
            "type": "histogram2dcontour"
           }
          ],
          "mesh3d": [
           {
            "colorbar": {
             "outlinewidth": 0,
             "ticks": ""
            },
            "type": "mesh3d"
           }
          ],
          "parcoords": [
           {
            "line": {
             "colorbar": {
              "outlinewidth": 0,
              "ticks": ""
             }
            },
            "type": "parcoords"
           }
          ],
          "pie": [
           {
            "automargin": true,
            "type": "pie"
           }
          ],
          "scatter": [
           {
            "marker": {
             "colorbar": {
              "outlinewidth": 0,
              "ticks": ""
             }
            },
            "type": "scatter"
           }
          ],
          "scatter3d": [
           {
            "line": {
             "colorbar": {
              "outlinewidth": 0,
              "ticks": ""
             }
            },
            "marker": {
             "colorbar": {
              "outlinewidth": 0,
              "ticks": ""
             }
            },
            "type": "scatter3d"
           }
          ],
          "scattercarpet": [
           {
            "marker": {
             "colorbar": {
              "outlinewidth": 0,
              "ticks": ""
             }
            },
            "type": "scattercarpet"
           }
          ],
          "scattergeo": [
           {
            "marker": {
             "colorbar": {
              "outlinewidth": 0,
              "ticks": ""
             }
            },
            "type": "scattergeo"
           }
          ],
          "scattergl": [
           {
            "marker": {
             "colorbar": {
              "outlinewidth": 0,
              "ticks": ""
             }
            },
            "type": "scattergl"
           }
          ],
          "scattermapbox": [
           {
            "marker": {
             "colorbar": {
              "outlinewidth": 0,
              "ticks": ""
             }
            },
            "type": "scattermapbox"
           }
          ],
          "scatterpolar": [
           {
            "marker": {
             "colorbar": {
              "outlinewidth": 0,
              "ticks": ""
             }
            },
            "type": "scatterpolar"
           }
          ],
          "scatterpolargl": [
           {
            "marker": {
             "colorbar": {
              "outlinewidth": 0,
              "ticks": ""
             }
            },
            "type": "scatterpolargl"
           }
          ],
          "scatterternary": [
           {
            "marker": {
             "colorbar": {
              "outlinewidth": 0,
              "ticks": ""
             }
            },
            "type": "scatterternary"
           }
          ],
          "surface": [
           {
            "colorbar": {
             "outlinewidth": 0,
             "ticks": ""
            },
            "colorscale": [
             [
              0,
              "#0d0887"
             ],
             [
              0.1111111111111111,
              "#46039f"
             ],
             [
              0.2222222222222222,
              "#7201a8"
             ],
             [
              0.3333333333333333,
              "#9c179e"
             ],
             [
              0.4444444444444444,
              "#bd3786"
             ],
             [
              0.5555555555555556,
              "#d8576b"
             ],
             [
              0.6666666666666666,
              "#ed7953"
             ],
             [
              0.7777777777777778,
              "#fb9f3a"
             ],
             [
              0.8888888888888888,
              "#fdca26"
             ],
             [
              1,
              "#f0f921"
             ]
            ],
            "type": "surface"
           }
          ],
          "table": [
           {
            "cells": {
             "fill": {
              "color": "#EBF0F8"
             },
             "line": {
              "color": "white"
             }
            },
            "header": {
             "fill": {
              "color": "#C8D4E3"
             },
             "line": {
              "color": "white"
             }
            },
            "type": "table"
           }
          ]
         },
         "layout": {
          "annotationdefaults": {
           "arrowcolor": "#2a3f5f",
           "arrowhead": 0,
           "arrowwidth": 1
          },
          "autotypenumbers": "strict",
          "coloraxis": {
           "colorbar": {
            "outlinewidth": 0,
            "ticks": ""
           }
          },
          "colorscale": {
           "diverging": [
            [
             0,
             "#8e0152"
            ],
            [
             0.1,
             "#c51b7d"
            ],
            [
             0.2,
             "#de77ae"
            ],
            [
             0.3,
             "#f1b6da"
            ],
            [
             0.4,
             "#fde0ef"
            ],
            [
             0.5,
             "#f7f7f7"
            ],
            [
             0.6,
             "#e6f5d0"
            ],
            [
             0.7,
             "#b8e186"
            ],
            [
             0.8,
             "#7fbc41"
            ],
            [
             0.9,
             "#4d9221"
            ],
            [
             1,
             "#276419"
            ]
           ],
           "sequential": [
            [
             0,
             "#0d0887"
            ],
            [
             0.1111111111111111,
             "#46039f"
            ],
            [
             0.2222222222222222,
             "#7201a8"
            ],
            [
             0.3333333333333333,
             "#9c179e"
            ],
            [
             0.4444444444444444,
             "#bd3786"
            ],
            [
             0.5555555555555556,
             "#d8576b"
            ],
            [
             0.6666666666666666,
             "#ed7953"
            ],
            [
             0.7777777777777778,
             "#fb9f3a"
            ],
            [
             0.8888888888888888,
             "#fdca26"
            ],
            [
             1,
             "#f0f921"
            ]
           ],
           "sequentialminus": [
            [
             0,
             "#0d0887"
            ],
            [
             0.1111111111111111,
             "#46039f"
            ],
            [
             0.2222222222222222,
             "#7201a8"
            ],
            [
             0.3333333333333333,
             "#9c179e"
            ],
            [
             0.4444444444444444,
             "#bd3786"
            ],
            [
             0.5555555555555556,
             "#d8576b"
            ],
            [
             0.6666666666666666,
             "#ed7953"
            ],
            [
             0.7777777777777778,
             "#fb9f3a"
            ],
            [
             0.8888888888888888,
             "#fdca26"
            ],
            [
             1,
             "#f0f921"
            ]
           ]
          },
          "colorway": [
           "#636efa",
           "#EF553B",
           "#00cc96",
           "#ab63fa",
           "#FFA15A",
           "#19d3f3",
           "#FF6692",
           "#B6E880",
           "#FF97FF",
           "#FECB52"
          ],
          "font": {
           "color": "#2a3f5f"
          },
          "geo": {
           "bgcolor": "white",
           "lakecolor": "white",
           "landcolor": "#E5ECF6",
           "showlakes": true,
           "showland": true,
           "subunitcolor": "white"
          },
          "hoverlabel": {
           "align": "left"
          },
          "hovermode": "closest",
          "mapbox": {
           "style": "light"
          },
          "paper_bgcolor": "white",
          "plot_bgcolor": "#E5ECF6",
          "polar": {
           "angularaxis": {
            "gridcolor": "white",
            "linecolor": "white",
            "ticks": ""
           },
           "bgcolor": "#E5ECF6",
           "radialaxis": {
            "gridcolor": "white",
            "linecolor": "white",
            "ticks": ""
           }
          },
          "scene": {
           "xaxis": {
            "backgroundcolor": "#E5ECF6",
            "gridcolor": "white",
            "gridwidth": 2,
            "linecolor": "white",
            "showbackground": true,
            "ticks": "",
            "zerolinecolor": "white"
           },
           "yaxis": {
            "backgroundcolor": "#E5ECF6",
            "gridcolor": "white",
            "gridwidth": 2,
            "linecolor": "white",
            "showbackground": true,
            "ticks": "",
            "zerolinecolor": "white"
           },
           "zaxis": {
            "backgroundcolor": "#E5ECF6",
            "gridcolor": "white",
            "gridwidth": 2,
            "linecolor": "white",
            "showbackground": true,
            "ticks": "",
            "zerolinecolor": "white"
           }
          },
          "shapedefaults": {
           "line": {
            "color": "#2a3f5f"
           }
          },
          "ternary": {
           "aaxis": {
            "gridcolor": "white",
            "linecolor": "white",
            "ticks": ""
           },
           "baxis": {
            "gridcolor": "white",
            "linecolor": "white",
            "ticks": ""
           },
           "bgcolor": "#E5ECF6",
           "caxis": {
            "gridcolor": "white",
            "linecolor": "white",
            "ticks": ""
           }
          },
          "title": {
           "x": 0.05
          },
          "xaxis": {
           "automargin": true,
           "gridcolor": "white",
           "linecolor": "white",
           "ticks": "",
           "title": {
            "standoff": 15
           },
           "zerolinecolor": "white",
           "zerolinewidth": 2
          },
          "yaxis": {
           "automargin": true,
           "gridcolor": "white",
           "linecolor": "white",
           "ticks": "",
           "title": {
            "standoff": 15
           },
           "zerolinecolor": "white",
           "zerolinewidth": 2
          }
         }
        },
        "title": {
         "text": "VARIANT_CLASS through time"
        }
       }
      },
      "text/html": [
       "<div>                            <div id=\"789c54ab-4fa8-411a-bf39-0a3525f9c86a\" class=\"plotly-graph-div\" style=\"height:525px; width:100%;\"></div>            <script type=\"text/javascript\">                require([\"plotly\"], function(Plotly) {                    window.PLOTLYENV=window.PLOTLYENV || {};                                    if (document.getElementById(\"789c54ab-4fa8-411a-bf39-0a3525f9c86a\")) {                    Plotly.newPlot(                        \"789c54ab-4fa8-411a-bf39-0a3525f9c86a\",                        [{\"domain\":{\"x\":[0.0,0.2125],\"y\":[0.0,1.0]},\"labels\":[\"SNV\",\"indel\",\"substitution\"],\"name\":\"BWA\",\"scalegroup\":\"one\",\"type\":\"pie\",\"values\":[88.42546764609197,8.669428685900241,2.9051036680077917]},{\"domain\":{\"x\":[0.2625,0.475],\"y\":[0.0,1.0]},\"labels\":[\"SNV\",\"indel\",\"substitution\"],\"name\":\"BWA\",\"scalegroup\":\"one\",\"type\":\"pie\",\"values\":[87.72361329392257,10.169741186648404,2.1066455194290246]},{\"domain\":{\"x\":[0.525,0.7375],\"y\":[0.0,1.0]},\"labels\":[\"SNV\",\"indel\",\"substitution\"],\"name\":\"BWA\",\"scalegroup\":\"one\",\"type\":\"pie\",\"values\":[86.9057281567728,9.774334528507875,3.319937314719324]},{\"domain\":{\"x\":[0.7875,1.0],\"y\":[0.0,1.0]},\"labels\":[\"SNV\",\"indel\",\"substitution\"],\"name\":\"BWA\",\"scalegroup\":\"one\",\"type\":\"pie\",\"values\":[84.88345650444737,11.98445227917789,3.13209121637474]}],                        {\"annotations\":[{\"font\":{\"size\":16},\"showarrow\":false,\"text\":\"BR2 (2.8k)\",\"x\":0.10625,\"xanchor\":\"center\",\"xref\":\"paper\",\"y\":1.0,\"yanchor\":\"bottom\",\"yref\":\"paper\"},{\"font\":{\"size\":16},\"showarrow\":false,\"text\":\"BOT16(5.4k)\",\"x\":0.36875,\"xanchor\":\"center\",\"xref\":\"paper\",\"y\":1.0,\"yanchor\":\"bottom\",\"yref\":\"paper\"},{\"font\":{\"size\":16},\"showarrow\":false,\"text\":\"SF12(8.8k)\",\"x\":0.6312500000000001,\"xanchor\":\"center\",\"xref\":\"paper\",\"y\":1.0,\"yanchor\":\"bottom\",\"yref\":\"paper\"},{\"font\":{\"size\":16},\"showarrow\":false,\"text\":\"Ust(44k)\",\"x\":0.89375,\"xanchor\":\"center\",\"xref\":\"paper\",\"y\":1.0,\"yanchor\":\"bottom\",\"yref\":\"paper\"}],\"template\":{\"data\":{\"bar\":[{\"error_x\":{\"color\":\"#2a3f5f\"},\"error_y\":{\"color\":\"#2a3f5f\"},\"marker\":{\"line\":{\"color\":\"#E5ECF6\",\"width\":0.5},\"pattern\":{\"fillmode\":\"overlay\",\"size\":10,\"solidity\":0.2}},\"type\":\"bar\"}],\"barpolar\":[{\"marker\":{\"line\":{\"color\":\"#E5ECF6\",\"width\":0.5},\"pattern\":{\"fillmode\":\"overlay\",\"size\":10,\"solidity\":0.2}},\"type\":\"barpolar\"}],\"carpet\":[{\"aaxis\":{\"endlinecolor\":\"#2a3f5f\",\"gridcolor\":\"white\",\"linecolor\":\"white\",\"minorgridcolor\":\"white\",\"startlinecolor\":\"#2a3f5f\"},\"baxis\":{\"endlinecolor\":\"#2a3f5f\",\"gridcolor\":\"white\",\"linecolor\":\"white\",\"minorgridcolor\":\"white\",\"startlinecolor\":\"#2a3f5f\"},\"type\":\"carpet\"}],\"choropleth\":[{\"colorbar\":{\"outlinewidth\":0,\"ticks\":\"\"},\"type\":\"choropleth\"}],\"contour\":[{\"colorbar\":{\"outlinewidth\":0,\"ticks\":\"\"},\"colorscale\":[[0.0,\"#0d0887\"],[0.1111111111111111,\"#46039f\"],[0.2222222222222222,\"#7201a8\"],[0.3333333333333333,\"#9c179e\"],[0.4444444444444444,\"#bd3786\"],[0.5555555555555556,\"#d8576b\"],[0.6666666666666666,\"#ed7953\"],[0.7777777777777778,\"#fb9f3a\"],[0.8888888888888888,\"#fdca26\"],[1.0,\"#f0f921\"]],\"type\":\"contour\"}],\"contourcarpet\":[{\"colorbar\":{\"outlinewidth\":0,\"ticks\":\"\"},\"type\":\"contourcarpet\"}],\"heatmap\":[{\"colorbar\":{\"outlinewidth\":0,\"ticks\":\"\"},\"colorscale\":[[0.0,\"#0d0887\"],[0.1111111111111111,\"#46039f\"],[0.2222222222222222,\"#7201a8\"],[0.3333333333333333,\"#9c179e\"],[0.4444444444444444,\"#bd3786\"],[0.5555555555555556,\"#d8576b\"],[0.6666666666666666,\"#ed7953\"],[0.7777777777777778,\"#fb9f3a\"],[0.8888888888888888,\"#fdca26\"],[1.0,\"#f0f921\"]],\"type\":\"heatmap\"}],\"heatmapgl\":[{\"colorbar\":{\"outlinewidth\":0,\"ticks\":\"\"},\"colorscale\":[[0.0,\"#0d0887\"],[0.1111111111111111,\"#46039f\"],[0.2222222222222222,\"#7201a8\"],[0.3333333333333333,\"#9c179e\"],[0.4444444444444444,\"#bd3786\"],[0.5555555555555556,\"#d8576b\"],[0.6666666666666666,\"#ed7953\"],[0.7777777777777778,\"#fb9f3a\"],[0.8888888888888888,\"#fdca26\"],[1.0,\"#f0f921\"]],\"type\":\"heatmapgl\"}],\"histogram\":[{\"marker\":{\"pattern\":{\"fillmode\":\"overlay\",\"size\":10,\"solidity\":0.2}},\"type\":\"histogram\"}],\"histogram2d\":[{\"colorbar\":{\"outlinewidth\":0,\"ticks\":\"\"},\"colorscale\":[[0.0,\"#0d0887\"],[0.1111111111111111,\"#46039f\"],[0.2222222222222222,\"#7201a8\"],[0.3333333333333333,\"#9c179e\"],[0.4444444444444444,\"#bd3786\"],[0.5555555555555556,\"#d8576b\"],[0.6666666666666666,\"#ed7953\"],[0.7777777777777778,\"#fb9f3a\"],[0.8888888888888888,\"#fdca26\"],[1.0,\"#f0f921\"]],\"type\":\"histogram2d\"}],\"histogram2dcontour\":[{\"colorbar\":{\"outlinewidth\":0,\"ticks\":\"\"},\"colorscale\":[[0.0,\"#0d0887\"],[0.1111111111111111,\"#46039f\"],[0.2222222222222222,\"#7201a8\"],[0.3333333333333333,\"#9c179e\"],[0.4444444444444444,\"#bd3786\"],[0.5555555555555556,\"#d8576b\"],[0.6666666666666666,\"#ed7953\"],[0.7777777777777778,\"#fb9f3a\"],[0.8888888888888888,\"#fdca26\"],[1.0,\"#f0f921\"]],\"type\":\"histogram2dcontour\"}],\"mesh3d\":[{\"colorbar\":{\"outlinewidth\":0,\"ticks\":\"\"},\"type\":\"mesh3d\"}],\"parcoords\":[{\"line\":{\"colorbar\":{\"outlinewidth\":0,\"ticks\":\"\"}},\"type\":\"parcoords\"}],\"pie\":[{\"automargin\":true,\"type\":\"pie\"}],\"scatter\":[{\"marker\":{\"colorbar\":{\"outlinewidth\":0,\"ticks\":\"\"}},\"type\":\"scatter\"}],\"scatter3d\":[{\"line\":{\"colorbar\":{\"outlinewidth\":0,\"ticks\":\"\"}},\"marker\":{\"colorbar\":{\"outlinewidth\":0,\"ticks\":\"\"}},\"type\":\"scatter3d\"}],\"scattercarpet\":[{\"marker\":{\"colorbar\":{\"outlinewidth\":0,\"ticks\":\"\"}},\"type\":\"scattercarpet\"}],\"scattergeo\":[{\"marker\":{\"colorbar\":{\"outlinewidth\":0,\"ticks\":\"\"}},\"type\":\"scattergeo\"}],\"scattergl\":[{\"marker\":{\"colorbar\":{\"outlinewidth\":0,\"ticks\":\"\"}},\"type\":\"scattergl\"}],\"scattermapbox\":[{\"marker\":{\"colorbar\":{\"outlinewidth\":0,\"ticks\":\"\"}},\"type\":\"scattermapbox\"}],\"scatterpolar\":[{\"marker\":{\"colorbar\":{\"outlinewidth\":0,\"ticks\":\"\"}},\"type\":\"scatterpolar\"}],\"scatterpolargl\":[{\"marker\":{\"colorbar\":{\"outlinewidth\":0,\"ticks\":\"\"}},\"type\":\"scatterpolargl\"}],\"scatterternary\":[{\"marker\":{\"colorbar\":{\"outlinewidth\":0,\"ticks\":\"\"}},\"type\":\"scatterternary\"}],\"surface\":[{\"colorbar\":{\"outlinewidth\":0,\"ticks\":\"\"},\"colorscale\":[[0.0,\"#0d0887\"],[0.1111111111111111,\"#46039f\"],[0.2222222222222222,\"#7201a8\"],[0.3333333333333333,\"#9c179e\"],[0.4444444444444444,\"#bd3786\"],[0.5555555555555556,\"#d8576b\"],[0.6666666666666666,\"#ed7953\"],[0.7777777777777778,\"#fb9f3a\"],[0.8888888888888888,\"#fdca26\"],[1.0,\"#f0f921\"]],\"type\":\"surface\"}],\"table\":[{\"cells\":{\"fill\":{\"color\":\"#EBF0F8\"},\"line\":{\"color\":\"white\"}},\"header\":{\"fill\":{\"color\":\"#C8D4E3\"},\"line\":{\"color\":\"white\"}},\"type\":\"table\"}]},\"layout\":{\"annotationdefaults\":{\"arrowcolor\":\"#2a3f5f\",\"arrowhead\":0,\"arrowwidth\":1},\"autotypenumbers\":\"strict\",\"coloraxis\":{\"colorbar\":{\"outlinewidth\":0,\"ticks\":\"\"}},\"colorscale\":{\"diverging\":[[0,\"#8e0152\"],[0.1,\"#c51b7d\"],[0.2,\"#de77ae\"],[0.3,\"#f1b6da\"],[0.4,\"#fde0ef\"],[0.5,\"#f7f7f7\"],[0.6,\"#e6f5d0\"],[0.7,\"#b8e186\"],[0.8,\"#7fbc41\"],[0.9,\"#4d9221\"],[1,\"#276419\"]],\"sequential\":[[0.0,\"#0d0887\"],[0.1111111111111111,\"#46039f\"],[0.2222222222222222,\"#7201a8\"],[0.3333333333333333,\"#9c179e\"],[0.4444444444444444,\"#bd3786\"],[0.5555555555555556,\"#d8576b\"],[0.6666666666666666,\"#ed7953\"],[0.7777777777777778,\"#fb9f3a\"],[0.8888888888888888,\"#fdca26\"],[1.0,\"#f0f921\"]],\"sequentialminus\":[[0.0,\"#0d0887\"],[0.1111111111111111,\"#46039f\"],[0.2222222222222222,\"#7201a8\"],[0.3333333333333333,\"#9c179e\"],[0.4444444444444444,\"#bd3786\"],[0.5555555555555556,\"#d8576b\"],[0.6666666666666666,\"#ed7953\"],[0.7777777777777778,\"#fb9f3a\"],[0.8888888888888888,\"#fdca26\"],[1.0,\"#f0f921\"]]},\"colorway\":[\"#636efa\",\"#EF553B\",\"#00cc96\",\"#ab63fa\",\"#FFA15A\",\"#19d3f3\",\"#FF6692\",\"#B6E880\",\"#FF97FF\",\"#FECB52\"],\"font\":{\"color\":\"#2a3f5f\"},\"geo\":{\"bgcolor\":\"white\",\"lakecolor\":\"white\",\"landcolor\":\"#E5ECF6\",\"showlakes\":true,\"showland\":true,\"subunitcolor\":\"white\"},\"hoverlabel\":{\"align\":\"left\"},\"hovermode\":\"closest\",\"mapbox\":{\"style\":\"light\"},\"paper_bgcolor\":\"white\",\"plot_bgcolor\":\"#E5ECF6\",\"polar\":{\"angularaxis\":{\"gridcolor\":\"white\",\"linecolor\":\"white\",\"ticks\":\"\"},\"bgcolor\":\"#E5ECF6\",\"radialaxis\":{\"gridcolor\":\"white\",\"linecolor\":\"white\",\"ticks\":\"\"}},\"scene\":{\"xaxis\":{\"backgroundcolor\":\"#E5ECF6\",\"gridcolor\":\"white\",\"gridwidth\":2,\"linecolor\":\"white\",\"showbackground\":true,\"ticks\":\"\",\"zerolinecolor\":\"white\"},\"yaxis\":{\"backgroundcolor\":\"#E5ECF6\",\"gridcolor\":\"white\",\"gridwidth\":2,\"linecolor\":\"white\",\"showbackground\":true,\"ticks\":\"\",\"zerolinecolor\":\"white\"},\"zaxis\":{\"backgroundcolor\":\"#E5ECF6\",\"gridcolor\":\"white\",\"gridwidth\":2,\"linecolor\":\"white\",\"showbackground\":true,\"ticks\":\"\",\"zerolinecolor\":\"white\"}},\"shapedefaults\":{\"line\":{\"color\":\"#2a3f5f\"}},\"ternary\":{\"aaxis\":{\"gridcolor\":\"white\",\"linecolor\":\"white\",\"ticks\":\"\"},\"baxis\":{\"gridcolor\":\"white\",\"linecolor\":\"white\",\"ticks\":\"\"},\"bgcolor\":\"#E5ECF6\",\"caxis\":{\"gridcolor\":\"white\",\"linecolor\":\"white\",\"ticks\":\"\"}},\"title\":{\"x\":0.05},\"xaxis\":{\"automargin\":true,\"gridcolor\":\"white\",\"linecolor\":\"white\",\"ticks\":\"\",\"title\":{\"standoff\":15},\"zerolinecolor\":\"white\",\"zerolinewidth\":2},\"yaxis\":{\"automargin\":true,\"gridcolor\":\"white\",\"linecolor\":\"white\",\"ticks\":\"\",\"title\":{\"standoff\":15},\"zerolinecolor\":\"white\",\"zerolinewidth\":2}}},\"title\":{\"text\":\"VARIANT_CLASS through time\"}},                        {\"responsive\": true}                    ).then(function(){\n",
       "                            \n",
       "var gd = document.getElementById('789c54ab-4fa8-411a-bf39-0a3525f9c86a');\n",
       "var x = new MutationObserver(function (mutations, observer) {{\n",
       "        var display = window.getComputedStyle(gd).display;\n",
       "        if (!display || display === 'none') {{\n",
       "            console.log([gd, 'removed!']);\n",
       "            Plotly.purge(gd);\n",
       "            observer.disconnect();\n",
       "        }}\n",
       "}});\n",
       "\n",
       "// Listen for the removal of the full notebook cells\n",
       "var notebookContainer = gd.closest('#notebook-container');\n",
       "if (notebookContainer) {{\n",
       "    x.observe(notebookContainer, {childList: true});\n",
       "}}\n",
       "\n",
       "// Listen for the clearing of the current output cell\n",
       "var outputEl = gd.closest('.output');\n",
       "if (outputEl) {{\n",
       "    x.observe(outputEl, {childList: true});\n",
       "}}\n",
       "\n",
       "                        })                };                });            </script>        </div>"
      ]
     },
     "metadata": {},
     "output_type": "display_data"
    }
   ],
   "source": [
    "fig = make_subplots(1, 4, specs=[[{'type':'domain'}, {'type':'domain'}, {'type':'domain'}, {'type':'domain'}]],\n",
    "                    subplot_titles=['BR2 (2.8k)', 'BOT16(5.4k)','SF12(8.8k)','Ust(44k)'])\n",
    "\n",
    "fig.add_trace(go.Pie(labels=count_vc_bwa_BR2[\"ID\"], values=count_vc_bwa_BR2[\"pct\"], scalegroup='one',\n",
    "                     name=\"BWA\"), 1, 1)\n",
    "fig.add_trace(go.Pie(labels=count_vc_bwa_BOT[\"ID\"], values=count_vc_bwa_BOT[\"pct\"], scalegroup='one',\n",
    "                     name=\"BWA\"), 1, 2)\n",
    "fig.add_trace(go.Pie(labels=count_vc_bwa_SF12[\"ID\"], values=count_vc_bwa_SF12[\"pct\"], scalegroup='one',\n",
    "                     name=\"BWA\"), 1, 3)\n",
    "fig.add_trace(go.Pie(labels=count_vc_bwa_Ust[\"ID\"], values=count_vc_bwa_Ust[\"pct\"], scalegroup='one',\n",
    "                     name=\"BWA\"), 1, 4)\n",
    "\n",
    "fig.update_layout(title_text='VARIANT_CLASS through time')\n",
    "fig.show()\n"
   ]
  },
  {
   "cell_type": "code",
   "execution_count": null,
   "id": "26267b5f",
   "metadata": {},
   "outputs": [],
   "source": [
    "table number variant / variant type / age / coverage / sample name / nb of variant in each IMPACT category "
   ]
  },
  {
   "cell_type": "markdown",
   "id": "4a55af25",
   "metadata": {},
   "source": [
    "Trend shows that the number of SNV (or at least the %) that we can detect decrease when the age of the sample increase.\n",
    "\n",
    "Have to check more individuals and other mappers."
   ]
  },
  {
   "cell_type": "markdown",
   "id": "f1e1248d",
   "metadata": {},
   "source": [
    "#### Check coverage"
   ]
  },
  {
   "cell_type": "code",
   "execution_count": 158,
   "id": "d8729fe3",
   "metadata": {
    "collapsed": true
   },
   "outputs": [
    {
     "data": {
      "text/html": [
       "<div>\n",
       "<style scoped>\n",
       "    .dataframe tbody tr th:only-of-type {\n",
       "        vertical-align: middle;\n",
       "    }\n",
       "\n",
       "    .dataframe tbody tr th {\n",
       "        vertical-align: top;\n",
       "    }\n",
       "\n",
       "    .dataframe thead th {\n",
       "        text-align: right;\n",
       "    }\n",
       "</style>\n",
       "<table border=\"1\" class=\"dataframe\">\n",
       "  <thead>\n",
       "    <tr style=\"text-align: right;\">\n",
       "      <th></th>\n",
       "      <th>ID</th>\n",
       "      <th>vals</th>\n",
       "      <th>pct</th>\n",
       "    </tr>\n",
       "  </thead>\n",
       "  <tbody>\n",
       "    <tr>\n",
       "      <th>0</th>\n",
       "      <td>SNV</td>\n",
       "      <td>12423644</td>\n",
       "      <td>86.905728</td>\n",
       "    </tr>\n",
       "    <tr>\n",
       "      <th>1</th>\n",
       "      <td>indel</td>\n",
       "      <td>1397294</td>\n",
       "      <td>9.774335</td>\n",
       "    </tr>\n",
       "    <tr>\n",
       "      <th>2</th>\n",
       "      <td>substitution</td>\n",
       "      <td>474603</td>\n",
       "      <td>3.319937</td>\n",
       "    </tr>\n",
       "  </tbody>\n",
       "</table>\n",
       "</div>"
      ],
      "text/plain": [
       "             ID      vals        pct\n",
       "0           SNV  12423644  86.905728\n",
       "1         indel   1397294   9.774335\n",
       "2  substitution    474603   3.319937"
      ]
     },
     "execution_count": 158,
     "metadata": {},
     "output_type": "execute_result"
    }
   ],
   "source": [
    "count_vc_bwa_SF12 #70X"
   ]
  },
  {
   "cell_type": "code",
   "execution_count": 157,
   "id": "d71d6b14",
   "metadata": {},
   "outputs": [],
   "source": [
    "count_vc_bwa_SF12_5x = dataBWA_SF12_5x[\"VARIANT_CLASS\"].value_counts()\n",
    "count_vc_bwa_SF12_5x = count_vc_bwa_SF12_5x.to_frame(name=\"vals\")\n",
    "count_vc_bwa_SF12_5x.reset_index(level=0,inplace=True)\n",
    "count_vc_bwa_SF12_5x.rename(columns={\"index\": \"ID\", \"vals\":\"vals\"},inplace=True)\n",
    "count_vc_bwa_SF12_5x[\"pct\"] = count_vc_bwa_SF12_5x[\"vals\"] * 100 / sum(count_vc_bwa_SF12_5x[\"vals\"])"
   ]
  },
  {
   "cell_type": "code",
   "execution_count": 160,
   "id": "27edf243",
   "metadata": {},
   "outputs": [],
   "source": [
    "count_vc_VGbam_SF12 = dataVGbam_SF12[\"VARIANT_CLASS\"].value_counts()\n",
    "count_vc_VGbam_SF12 = count_vc_VGbam_SF12.to_frame(name=\"vals\")\n",
    "count_vc_VGbam_SF12.reset_index(level=0,inplace=True)\n",
    "count_vc_VGbam_SF12.rename(columns={\"index\": \"ID\", \"vals\":\"vals\"},inplace=True)\n",
    "count_vc_VGbam_SF12[\"pct\"] = count_vc_VGbam_SF12[\"vals\"] * 100 / sum(count_vc_VGbam_SF12[\"vals\"])"
   ]
  },
  {
   "cell_type": "code",
   "execution_count": 159,
   "id": "9b8a8326",
   "metadata": {},
   "outputs": [],
   "source": [
    "count_vc_VGbam_SF12_5x = dataVGbam_SF12_5x[\"VARIANT_CLASS\"].value_counts()\n",
    "count_vc_VGbam_SF12_5x = count_vc_VGbam_SF12_5x.to_frame(name=\"vals\")\n",
    "count_vc_VGbam_SF12_5x.reset_index(level=0,inplace=True)\n",
    "count_vc_VGbam_SF12_5x.rename(columns={\"index\": \"ID\", \"vals\":\"vals\"},inplace=True)\n",
    "count_vc_VGbam_SF12_5x[\"pct\"] = count_vc_VGbam_SF12_5x[\"vals\"] * 100 / sum(count_vc_VGbam_SF12_5x[\"vals\"])"
   ]
  },
  {
   "cell_type": "code",
   "execution_count": null,
   "id": "a8791af2",
   "metadata": {},
   "outputs": [],
   "source": [
    "Reducing the coverage increase the % of snps annotated. "
   ]
  },
  {
   "cell_type": "markdown",
   "id": "eecb343a",
   "metadata": {},
   "source": [
    "# SIFT score analysis"
   ]
  },
  {
   "cell_type": "code",
   "execution_count": 88,
   "id": "7f6156dc",
   "metadata": {},
   "outputs": [
    {
     "data": {
      "text/plain": [
       "32903"
      ]
     },
     "execution_count": 88,
     "metadata": {},
     "output_type": "execute_result"
    }
   ],
   "source": [
    "sum(dataVGgam.SIFT != \"-\")"
   ]
  },
  {
   "cell_type": "code",
   "execution_count": 89,
   "id": "d2088add",
   "metadata": {},
   "outputs": [],
   "source": [
    "dataVGgam[\"SIFT_score\"] = dataVGgam.SIFT.apply(lambda x: x.split(\"(\")[-1][:-1] if(x!= \"-\") else x)\n",
    "dataVGbam[\"SIFT_score\"] = dataVGbam.SIFT.apply(lambda x: x.split(\"(\")[-1][:-1] if(x!= \"-\") else x)\n",
    "dataBWA[\"SIFT_score\"] = dataBWA.SIFT.apply(lambda x: x.split(\"(\")[-1][:-1] if(x!= \"-\") else x)"
   ]
  },
  {
   "cell_type": "code",
   "execution_count": 132,
   "id": "7adf13a1",
   "metadata": {},
   "outputs": [],
   "source": [
    "sift_avail = dataBWA[dataBWA.SIFT_score != \"-\"] \n",
    "count_sift_bwa = pd.DataFrame(columns=['ID', 'vals','pct_sift','pct_ovr'])\n",
    "count_sift_bwa = count_sift_bwa.append({'ID': \"delet_val\", 'vals': sum(sift_avail.SIFT_score.astype(float) <= 0.05),\n",
    "                                            'pct_sift': sum(sift_avail.SIFT_score.astype(float) <= 0.05) * 100 / len(sift_avail.SIFT_score),\n",
    "                                            'pct_ovr':sum(sift_avail.SIFT_score.astype(float) <= 0.05) * 100 / len(dataBWA.SIFT_score)}, \n",
    "                                           ignore_index=True)\n",
    "count_sift_bwa = count_sift_bwa.append({'ID': \"non_delet_val\", 'vals': sum(sift_avail.SIFT_score.astype(float) > 0.05),\n",
    "                                            'pct_sift': sum(sift_avail.SIFT_score.astype(float) > 0.05) * 100 / len(sift_avail.SIFT_score),\n",
    "                                            'pct_ovr':sum(sift_avail.SIFT_score.astype(float) > 0.05) * 100 / len(dataBWA.SIFT_score)}, \n",
    "                                           ignore_index=True)\n",
    "\n",
    "\n",
    "count_sift_bwa = count_sift_bwa.append({'ID': \"N/A\", 'vals': 0 ,\n",
    "                                            'pct_sift': 0,\n",
    "                                            'pct_ovr': (len(dataBWA.SIFT_score) - len(sift_avail)) * 100 / len(dataBWA.SIFT_score)}, \n",
    "                                           ignore_index=True)\n"
   ]
  },
  {
   "cell_type": "code",
   "execution_count": 91,
   "id": "9285f791",
   "metadata": {},
   "outputs": [],
   "source": [
    "sift_avail = dataVGbam[dataVGbam.SIFT_score != \"-\"] \n",
    "count_sift_VGbam = pd.DataFrame(columns=['ID', 'vals','pct_sift','pct_ovr'])\n",
    "count_sift_VGbam = count_sift_VGbam.append({'ID': \"delet_val\", 'vals': sum(sift_avail.SIFT_score.astype(float) <= 0.05),\n",
    "                                            'pct_sift': sum(sift_avail.SIFT_score.astype(float) <= 0.05) * 100 / len(sift_avail.SIFT_score),\n",
    "                                            'pct_ovr':sum(sift_avail.SIFT_score.astype(float) <= 0.05) * 100 / len(dataVGbam.SIFT_score)}, \n",
    "                                           ignore_index=True)\n",
    "count_sift_VGbam = count_sift_VGbam.append({'ID': \"non_delet_val\", 'vals': sum(sift_avail.SIFT_score.astype(float) > 0.05),\n",
    "                                            'pct_sift': sum(sift_avail.SIFT_score.astype(float) > 0.05) * 100 / len(sift_avail.SIFT_score),\n",
    "                                            'pct_ovr':sum(sift_avail.SIFT_score.astype(float) > 0.05) * 100 / len(dataVGbam.SIFT_score)}, \n",
    "                                           ignore_index=True)\n",
    "\n",
    "count_sift_VGbam = count_sift_VGbam.append({'ID': \"N/A\", 'vals': 0 ,\n",
    "                                            'pct_sift': 0,\n",
    "                                            'pct_ovr': (len(dataVGbam.SIFT_score) - len(sift_avail)) * 100 / len(dataVGbam.SIFT_score)}, \n",
    "                                           ignore_index=True)"
   ]
  },
  {
   "cell_type": "code",
   "execution_count": 92,
   "id": "5e52a8d3",
   "metadata": {},
   "outputs": [],
   "source": [
    "sift_avail = dataVGgam[dataVGgam.SIFT_score != \"-\"] \n",
    "count_sift_VGgam = pd.DataFrame(columns=['ID', 'vals','pct_sift','pct_ovr',])\n",
    "count_sift_VGgam = count_sift_VGgam.append({'ID': \"delet_val\", 'vals': sum(sift_avail.SIFT_score.astype(float) <= 0.05),\n",
    "                                            'pct_sift': sum(sift_avail.SIFT_score.astype(float) <= 0.05) * 100 / len(sift_avail.SIFT_score),\n",
    "                                            'pct_ovr':sum(sift_avail.SIFT_score.astype(float) <= 0.05) * 100 / len(dataVGgam.SIFT_score)}, \n",
    "                                           ignore_index=True)\n",
    "count_sift_VGgam = count_sift_VGgam.append({'ID': \"non_delet_val\", 'vals': sum(sift_avail.SIFT_score.astype(float) > 0.05),\n",
    "                                            'pct_sift': sum(sift_avail.SIFT_score.astype(float) > 0.05) * 100 / len(sift_avail.SIFT_score),\n",
    "                                            'pct_ovr':sum(sift_avail.SIFT_score.astype(float) > 0.05) * 100 / len(dataVGgam.SIFT_score)}, \n",
    "                                           ignore_index=True)\n",
    "\n",
    "count_sift_VGgam = count_sift_VGgam.append({'ID': \"N/A\", 'vals': 0 ,\n",
    "                                            'pct_sift': 0,\n",
    "                                            'pct_ovr': (len(dataVGgam.SIFT_score) - len(sift_avail)) * 100 / len(dataVGgam.SIFT_score)}, \n",
    "                                           ignore_index=True)"
   ]
  },
  {
   "cell_type": "code",
   "execution_count": 93,
   "id": "61924523",
   "metadata": {
    "scrolled": false
   },
   "outputs": [
    {
     "data": {
      "application/vnd.plotly.v1+json": {
       "config": {
        "plotlyServerURL": "https://plot.ly"
       },
       "data": [
        {
         "domain": {
          "x": [
           0,
           0.2888888888888889
          ],
          "y": [
           0.625,
           1
          ]
         },
         "labels": [
          "delet_val",
          "non_delet_val",
          "N/A"
         ],
         "name": "BWA",
         "scalegroup": "one",
         "type": "pie",
         "values": [
          33.43665487830248,
          66.56334512169752,
          0
         ]
        },
        {
         "domain": {
          "x": [
           0.35555555555555557,
           0.6444444444444445
          ],
          "y": [
           0.625,
           1
          ]
         },
         "labels": [
          "delet_val",
          "non_delet_val",
          "N/A"
         ],
         "name": "VGb",
         "scalegroup": "one",
         "type": "pie",
         "values": [
          32.056734616915634,
          67.94326538308437,
          0
         ]
        },
        {
         "domain": {
          "x": [
           0.7111111111111111,
           1
          ],
          "y": [
           0.625,
           1
          ]
         },
         "labels": [
          "delet_val",
          "non_delet_val",
          "N/A"
         ],
         "name": "VGg",
         "scalegroup": "one",
         "type": "pie",
         "values": [
          20.590827584110873,
          79.40917241588913,
          0
         ]
        },
        {
         "domain": {
          "x": [
           0,
           0.2888888888888889
          ],
          "y": [
           0,
           0.375
          ]
         },
         "labels": [
          "delet_val",
          "non_delet_val",
          "N/A"
         ],
         "name": "BWA",
         "scalegroup": "one",
         "type": "pie",
         "values": [
          0.09269987744214549,
          0.18454040804556268,
          99.72275971451229
         ]
        },
        {
         "domain": {
          "x": [
           0.35555555555555557,
           0.6444444444444445
          ],
          "y": [
           0,
           0.375
          ]
         },
         "labels": [
          "delet_val",
          "non_delet_val",
          "N/A"
         ],
         "name": "VGb",
         "scalegroup": "one",
         "type": "pie",
         "values": [
          0.08526285991949037,
          0.1807120153708302,
          99.73402512470967
         ]
        },
        {
         "domain": {
          "x": [
           0.7111111111111111,
           1
          ],
          "y": [
           0,
           0.375
          ]
         },
         "labels": [
          "delet_val",
          "non_delet_val",
          "N/A"
         ],
         "name": "VGg",
         "scalegroup": "one",
         "type": "pie",
         "values": [
          0.04446114827363103,
          0.17146581285511905,
          99.78407303887126
         ]
        }
       ],
       "layout": {
        "annotations": [
         {
          "font": {
           "size": 16
          },
          "showarrow": false,
          "text": "BWA",
          "x": 0.14444444444444446,
          "xanchor": "center",
          "xref": "paper",
          "y": 1,
          "yanchor": "bottom",
          "yref": "paper"
         },
         {
          "font": {
           "size": 16
          },
          "showarrow": false,
          "text": "VGbam",
          "x": 0.5,
          "xanchor": "center",
          "xref": "paper",
          "y": 1,
          "yanchor": "bottom",
          "yref": "paper"
         },
         {
          "font": {
           "size": 16
          },
          "showarrow": false,
          "text": "VGgam",
          "x": 0.8555555555555556,
          "xanchor": "center",
          "xref": "paper",
          "y": 1,
          "yanchor": "bottom",
          "yref": "paper"
         },
         {
          "font": {
           "size": 16
          },
          "showarrow": false,
          "text": " ",
          "x": 0.14444444444444446,
          "xanchor": "center",
          "xref": "paper",
          "y": 0.375,
          "yanchor": "bottom",
          "yref": "paper"
         },
         {
          "font": {
           "size": 16
          },
          "showarrow": false,
          "text": " ",
          "x": 0.5,
          "xanchor": "center",
          "xref": "paper",
          "y": 0.375,
          "yanchor": "bottom",
          "yref": "paper"
         },
         {
          "font": {
           "size": 16
          },
          "showarrow": false,
          "text": " ",
          "x": 0.8555555555555556,
          "xanchor": "center",
          "xref": "paper",
          "y": 0.375,
          "yanchor": "bottom",
          "yref": "paper"
         }
        ],
        "template": {
         "data": {
          "bar": [
           {
            "error_x": {
             "color": "#2a3f5f"
            },
            "error_y": {
             "color": "#2a3f5f"
            },
            "marker": {
             "line": {
              "color": "#E5ECF6",
              "width": 0.5
             },
             "pattern": {
              "fillmode": "overlay",
              "size": 10,
              "solidity": 0.2
             }
            },
            "type": "bar"
           }
          ],
          "barpolar": [
           {
            "marker": {
             "line": {
              "color": "#E5ECF6",
              "width": 0.5
             },
             "pattern": {
              "fillmode": "overlay",
              "size": 10,
              "solidity": 0.2
             }
            },
            "type": "barpolar"
           }
          ],
          "carpet": [
           {
            "aaxis": {
             "endlinecolor": "#2a3f5f",
             "gridcolor": "white",
             "linecolor": "white",
             "minorgridcolor": "white",
             "startlinecolor": "#2a3f5f"
            },
            "baxis": {
             "endlinecolor": "#2a3f5f",
             "gridcolor": "white",
             "linecolor": "white",
             "minorgridcolor": "white",
             "startlinecolor": "#2a3f5f"
            },
            "type": "carpet"
           }
          ],
          "choropleth": [
           {
            "colorbar": {
             "outlinewidth": 0,
             "ticks": ""
            },
            "type": "choropleth"
           }
          ],
          "contour": [
           {
            "colorbar": {
             "outlinewidth": 0,
             "ticks": ""
            },
            "colorscale": [
             [
              0,
              "#0d0887"
             ],
             [
              0.1111111111111111,
              "#46039f"
             ],
             [
              0.2222222222222222,
              "#7201a8"
             ],
             [
              0.3333333333333333,
              "#9c179e"
             ],
             [
              0.4444444444444444,
              "#bd3786"
             ],
             [
              0.5555555555555556,
              "#d8576b"
             ],
             [
              0.6666666666666666,
              "#ed7953"
             ],
             [
              0.7777777777777778,
              "#fb9f3a"
             ],
             [
              0.8888888888888888,
              "#fdca26"
             ],
             [
              1,
              "#f0f921"
             ]
            ],
            "type": "contour"
           }
          ],
          "contourcarpet": [
           {
            "colorbar": {
             "outlinewidth": 0,
             "ticks": ""
            },
            "type": "contourcarpet"
           }
          ],
          "heatmap": [
           {
            "colorbar": {
             "outlinewidth": 0,
             "ticks": ""
            },
            "colorscale": [
             [
              0,
              "#0d0887"
             ],
             [
              0.1111111111111111,
              "#46039f"
             ],
             [
              0.2222222222222222,
              "#7201a8"
             ],
             [
              0.3333333333333333,
              "#9c179e"
             ],
             [
              0.4444444444444444,
              "#bd3786"
             ],
             [
              0.5555555555555556,
              "#d8576b"
             ],
             [
              0.6666666666666666,
              "#ed7953"
             ],
             [
              0.7777777777777778,
              "#fb9f3a"
             ],
             [
              0.8888888888888888,
              "#fdca26"
             ],
             [
              1,
              "#f0f921"
             ]
            ],
            "type": "heatmap"
           }
          ],
          "heatmapgl": [
           {
            "colorbar": {
             "outlinewidth": 0,
             "ticks": ""
            },
            "colorscale": [
             [
              0,
              "#0d0887"
             ],
             [
              0.1111111111111111,
              "#46039f"
             ],
             [
              0.2222222222222222,
              "#7201a8"
             ],
             [
              0.3333333333333333,
              "#9c179e"
             ],
             [
              0.4444444444444444,
              "#bd3786"
             ],
             [
              0.5555555555555556,
              "#d8576b"
             ],
             [
              0.6666666666666666,
              "#ed7953"
             ],
             [
              0.7777777777777778,
              "#fb9f3a"
             ],
             [
              0.8888888888888888,
              "#fdca26"
             ],
             [
              1,
              "#f0f921"
             ]
            ],
            "type": "heatmapgl"
           }
          ],
          "histogram": [
           {
            "marker": {
             "pattern": {
              "fillmode": "overlay",
              "size": 10,
              "solidity": 0.2
             }
            },
            "type": "histogram"
           }
          ],
          "histogram2d": [
           {
            "colorbar": {
             "outlinewidth": 0,
             "ticks": ""
            },
            "colorscale": [
             [
              0,
              "#0d0887"
             ],
             [
              0.1111111111111111,
              "#46039f"
             ],
             [
              0.2222222222222222,
              "#7201a8"
             ],
             [
              0.3333333333333333,
              "#9c179e"
             ],
             [
              0.4444444444444444,
              "#bd3786"
             ],
             [
              0.5555555555555556,
              "#d8576b"
             ],
             [
              0.6666666666666666,
              "#ed7953"
             ],
             [
              0.7777777777777778,
              "#fb9f3a"
             ],
             [
              0.8888888888888888,
              "#fdca26"
             ],
             [
              1,
              "#f0f921"
             ]
            ],
            "type": "histogram2d"
           }
          ],
          "histogram2dcontour": [
           {
            "colorbar": {
             "outlinewidth": 0,
             "ticks": ""
            },
            "colorscale": [
             [
              0,
              "#0d0887"
             ],
             [
              0.1111111111111111,
              "#46039f"
             ],
             [
              0.2222222222222222,
              "#7201a8"
             ],
             [
              0.3333333333333333,
              "#9c179e"
             ],
             [
              0.4444444444444444,
              "#bd3786"
             ],
             [
              0.5555555555555556,
              "#d8576b"
             ],
             [
              0.6666666666666666,
              "#ed7953"
             ],
             [
              0.7777777777777778,
              "#fb9f3a"
             ],
             [
              0.8888888888888888,
              "#fdca26"
             ],
             [
              1,
              "#f0f921"
             ]
            ],
            "type": "histogram2dcontour"
           }
          ],
          "mesh3d": [
           {
            "colorbar": {
             "outlinewidth": 0,
             "ticks": ""
            },
            "type": "mesh3d"
           }
          ],
          "parcoords": [
           {
            "line": {
             "colorbar": {
              "outlinewidth": 0,
              "ticks": ""
             }
            },
            "type": "parcoords"
           }
          ],
          "pie": [
           {
            "automargin": true,
            "type": "pie"
           }
          ],
          "scatter": [
           {
            "marker": {
             "colorbar": {
              "outlinewidth": 0,
              "ticks": ""
             }
            },
            "type": "scatter"
           }
          ],
          "scatter3d": [
           {
            "line": {
             "colorbar": {
              "outlinewidth": 0,
              "ticks": ""
             }
            },
            "marker": {
             "colorbar": {
              "outlinewidth": 0,
              "ticks": ""
             }
            },
            "type": "scatter3d"
           }
          ],
          "scattercarpet": [
           {
            "marker": {
             "colorbar": {
              "outlinewidth": 0,
              "ticks": ""
             }
            },
            "type": "scattercarpet"
           }
          ],
          "scattergeo": [
           {
            "marker": {
             "colorbar": {
              "outlinewidth": 0,
              "ticks": ""
             }
            },
            "type": "scattergeo"
           }
          ],
          "scattergl": [
           {
            "marker": {
             "colorbar": {
              "outlinewidth": 0,
              "ticks": ""
             }
            },
            "type": "scattergl"
           }
          ],
          "scattermapbox": [
           {
            "marker": {
             "colorbar": {
              "outlinewidth": 0,
              "ticks": ""
             }
            },
            "type": "scattermapbox"
           }
          ],
          "scatterpolar": [
           {
            "marker": {
             "colorbar": {
              "outlinewidth": 0,
              "ticks": ""
             }
            },
            "type": "scatterpolar"
           }
          ],
          "scatterpolargl": [
           {
            "marker": {
             "colorbar": {
              "outlinewidth": 0,
              "ticks": ""
             }
            },
            "type": "scatterpolargl"
           }
          ],
          "scatterternary": [
           {
            "marker": {
             "colorbar": {
              "outlinewidth": 0,
              "ticks": ""
             }
            },
            "type": "scatterternary"
           }
          ],
          "surface": [
           {
            "colorbar": {
             "outlinewidth": 0,
             "ticks": ""
            },
            "colorscale": [
             [
              0,
              "#0d0887"
             ],
             [
              0.1111111111111111,
              "#46039f"
             ],
             [
              0.2222222222222222,
              "#7201a8"
             ],
             [
              0.3333333333333333,
              "#9c179e"
             ],
             [
              0.4444444444444444,
              "#bd3786"
             ],
             [
              0.5555555555555556,
              "#d8576b"
             ],
             [
              0.6666666666666666,
              "#ed7953"
             ],
             [
              0.7777777777777778,
              "#fb9f3a"
             ],
             [
              0.8888888888888888,
              "#fdca26"
             ],
             [
              1,
              "#f0f921"
             ]
            ],
            "type": "surface"
           }
          ],
          "table": [
           {
            "cells": {
             "fill": {
              "color": "#EBF0F8"
             },
             "line": {
              "color": "white"
             }
            },
            "header": {
             "fill": {
              "color": "#C8D4E3"
             },
             "line": {
              "color": "white"
             }
            },
            "type": "table"
           }
          ]
         },
         "layout": {
          "annotationdefaults": {
           "arrowcolor": "#2a3f5f",
           "arrowhead": 0,
           "arrowwidth": 1
          },
          "autotypenumbers": "strict",
          "coloraxis": {
           "colorbar": {
            "outlinewidth": 0,
            "ticks": ""
           }
          },
          "colorscale": {
           "diverging": [
            [
             0,
             "#8e0152"
            ],
            [
             0.1,
             "#c51b7d"
            ],
            [
             0.2,
             "#de77ae"
            ],
            [
             0.3,
             "#f1b6da"
            ],
            [
             0.4,
             "#fde0ef"
            ],
            [
             0.5,
             "#f7f7f7"
            ],
            [
             0.6,
             "#e6f5d0"
            ],
            [
             0.7,
             "#b8e186"
            ],
            [
             0.8,
             "#7fbc41"
            ],
            [
             0.9,
             "#4d9221"
            ],
            [
             1,
             "#276419"
            ]
           ],
           "sequential": [
            [
             0,
             "#0d0887"
            ],
            [
             0.1111111111111111,
             "#46039f"
            ],
            [
             0.2222222222222222,
             "#7201a8"
            ],
            [
             0.3333333333333333,
             "#9c179e"
            ],
            [
             0.4444444444444444,
             "#bd3786"
            ],
            [
             0.5555555555555556,
             "#d8576b"
            ],
            [
             0.6666666666666666,
             "#ed7953"
            ],
            [
             0.7777777777777778,
             "#fb9f3a"
            ],
            [
             0.8888888888888888,
             "#fdca26"
            ],
            [
             1,
             "#f0f921"
            ]
           ],
           "sequentialminus": [
            [
             0,
             "#0d0887"
            ],
            [
             0.1111111111111111,
             "#46039f"
            ],
            [
             0.2222222222222222,
             "#7201a8"
            ],
            [
             0.3333333333333333,
             "#9c179e"
            ],
            [
             0.4444444444444444,
             "#bd3786"
            ],
            [
             0.5555555555555556,
             "#d8576b"
            ],
            [
             0.6666666666666666,
             "#ed7953"
            ],
            [
             0.7777777777777778,
             "#fb9f3a"
            ],
            [
             0.8888888888888888,
             "#fdca26"
            ],
            [
             1,
             "#f0f921"
            ]
           ]
          },
          "colorway": [
           "#636efa",
           "#EF553B",
           "#00cc96",
           "#ab63fa",
           "#FFA15A",
           "#19d3f3",
           "#FF6692",
           "#B6E880",
           "#FF97FF",
           "#FECB52"
          ],
          "font": {
           "color": "#2a3f5f"
          },
          "geo": {
           "bgcolor": "white",
           "lakecolor": "white",
           "landcolor": "#E5ECF6",
           "showlakes": true,
           "showland": true,
           "subunitcolor": "white"
          },
          "hoverlabel": {
           "align": "left"
          },
          "hovermode": "closest",
          "mapbox": {
           "style": "light"
          },
          "paper_bgcolor": "white",
          "plot_bgcolor": "#E5ECF6",
          "polar": {
           "angularaxis": {
            "gridcolor": "white",
            "linecolor": "white",
            "ticks": ""
           },
           "bgcolor": "#E5ECF6",
           "radialaxis": {
            "gridcolor": "white",
            "linecolor": "white",
            "ticks": ""
           }
          },
          "scene": {
           "xaxis": {
            "backgroundcolor": "#E5ECF6",
            "gridcolor": "white",
            "gridwidth": 2,
            "linecolor": "white",
            "showbackground": true,
            "ticks": "",
            "zerolinecolor": "white"
           },
           "yaxis": {
            "backgroundcolor": "#E5ECF6",
            "gridcolor": "white",
            "gridwidth": 2,
            "linecolor": "white",
            "showbackground": true,
            "ticks": "",
            "zerolinecolor": "white"
           },
           "zaxis": {
            "backgroundcolor": "#E5ECF6",
            "gridcolor": "white",
            "gridwidth": 2,
            "linecolor": "white",
            "showbackground": true,
            "ticks": "",
            "zerolinecolor": "white"
           }
          },
          "shapedefaults": {
           "line": {
            "color": "#2a3f5f"
           }
          },
          "ternary": {
           "aaxis": {
            "gridcolor": "white",
            "linecolor": "white",
            "ticks": ""
           },
           "baxis": {
            "gridcolor": "white",
            "linecolor": "white",
            "ticks": ""
           },
           "bgcolor": "#E5ECF6",
           "caxis": {
            "gridcolor": "white",
            "linecolor": "white",
            "ticks": ""
           }
          },
          "title": {
           "x": 0.05
          },
          "xaxis": {
           "automargin": true,
           "gridcolor": "white",
           "linecolor": "white",
           "ticks": "",
           "title": {
            "standoff": 15
           },
           "zerolinecolor": "white",
           "zerolinewidth": 2
          },
          "yaxis": {
           "automargin": true,
           "gridcolor": "white",
           "linecolor": "white",
           "ticks": "",
           "title": {
            "standoff": 15
           },
           "zerolinecolor": "white",
           "zerolinewidth": 2
          }
         }
        },
        "title": {
         "text": "SIFT_score of different mapper"
        }
       }
      },
      "text/html": [
       "<div>                            <div id=\"948edc94-b86c-4a29-bfcc-4d10b18da43d\" class=\"plotly-graph-div\" style=\"height:525px; width:100%;\"></div>            <script type=\"text/javascript\">                require([\"plotly\"], function(Plotly) {                    window.PLOTLYENV=window.PLOTLYENV || {};                                    if (document.getElementById(\"948edc94-b86c-4a29-bfcc-4d10b18da43d\")) {                    Plotly.newPlot(                        \"948edc94-b86c-4a29-bfcc-4d10b18da43d\",                        [{\"domain\":{\"x\":[0.0,0.2888888888888889],\"y\":[0.625,1.0]},\"labels\":[\"delet_val\",\"non_delet_val\",\"N/A\"],\"name\":\"BWA\",\"scalegroup\":\"one\",\"type\":\"pie\",\"values\":[33.43665487830248,66.56334512169752,0.0]},{\"domain\":{\"x\":[0.35555555555555557,0.6444444444444445],\"y\":[0.625,1.0]},\"labels\":[\"delet_val\",\"non_delet_val\",\"N/A\"],\"name\":\"VGb\",\"scalegroup\":\"one\",\"type\":\"pie\",\"values\":[32.056734616915634,67.94326538308437,0.0]},{\"domain\":{\"x\":[0.7111111111111111,1.0],\"y\":[0.625,1.0]},\"labels\":[\"delet_val\",\"non_delet_val\",\"N/A\"],\"name\":\"VGg\",\"scalegroup\":\"one\",\"type\":\"pie\",\"values\":[20.590827584110873,79.40917241588913,0.0]},{\"domain\":{\"x\":[0.0,0.2888888888888889],\"y\":[0.0,0.375]},\"labels\":[\"delet_val\",\"non_delet_val\",\"N/A\"],\"name\":\"BWA\",\"scalegroup\":\"one\",\"type\":\"pie\",\"values\":[0.09269987744214549,0.18454040804556268,99.72275971451229]},{\"domain\":{\"x\":[0.35555555555555557,0.6444444444444445],\"y\":[0.0,0.375]},\"labels\":[\"delet_val\",\"non_delet_val\",\"N/A\"],\"name\":\"VGb\",\"scalegroup\":\"one\",\"type\":\"pie\",\"values\":[0.08526285991949037,0.1807120153708302,99.73402512470967]},{\"domain\":{\"x\":[0.7111111111111111,1.0],\"y\":[0.0,0.375]},\"labels\":[\"delet_val\",\"non_delet_val\",\"N/A\"],\"name\":\"VGg\",\"scalegroup\":\"one\",\"type\":\"pie\",\"values\":[0.04446114827363103,0.17146581285511905,99.78407303887126]}],                        {\"annotations\":[{\"font\":{\"size\":16},\"showarrow\":false,\"text\":\"BWA\",\"x\":0.14444444444444446,\"xanchor\":\"center\",\"xref\":\"paper\",\"y\":1.0,\"yanchor\":\"bottom\",\"yref\":\"paper\"},{\"font\":{\"size\":16},\"showarrow\":false,\"text\":\"VGbam\",\"x\":0.5,\"xanchor\":\"center\",\"xref\":\"paper\",\"y\":1.0,\"yanchor\":\"bottom\",\"yref\":\"paper\"},{\"font\":{\"size\":16},\"showarrow\":false,\"text\":\"VGgam\",\"x\":0.8555555555555556,\"xanchor\":\"center\",\"xref\":\"paper\",\"y\":1.0,\"yanchor\":\"bottom\",\"yref\":\"paper\"},{\"font\":{\"size\":16},\"showarrow\":false,\"text\":\" \",\"x\":0.14444444444444446,\"xanchor\":\"center\",\"xref\":\"paper\",\"y\":0.375,\"yanchor\":\"bottom\",\"yref\":\"paper\"},{\"font\":{\"size\":16},\"showarrow\":false,\"text\":\" \",\"x\":0.5,\"xanchor\":\"center\",\"xref\":\"paper\",\"y\":0.375,\"yanchor\":\"bottom\",\"yref\":\"paper\"},{\"font\":{\"size\":16},\"showarrow\":false,\"text\":\" \",\"x\":0.8555555555555556,\"xanchor\":\"center\",\"xref\":\"paper\",\"y\":0.375,\"yanchor\":\"bottom\",\"yref\":\"paper\"}],\"template\":{\"data\":{\"bar\":[{\"error_x\":{\"color\":\"#2a3f5f\"},\"error_y\":{\"color\":\"#2a3f5f\"},\"marker\":{\"line\":{\"color\":\"#E5ECF6\",\"width\":0.5},\"pattern\":{\"fillmode\":\"overlay\",\"size\":10,\"solidity\":0.2}},\"type\":\"bar\"}],\"barpolar\":[{\"marker\":{\"line\":{\"color\":\"#E5ECF6\",\"width\":0.5},\"pattern\":{\"fillmode\":\"overlay\",\"size\":10,\"solidity\":0.2}},\"type\":\"barpolar\"}],\"carpet\":[{\"aaxis\":{\"endlinecolor\":\"#2a3f5f\",\"gridcolor\":\"white\",\"linecolor\":\"white\",\"minorgridcolor\":\"white\",\"startlinecolor\":\"#2a3f5f\"},\"baxis\":{\"endlinecolor\":\"#2a3f5f\",\"gridcolor\":\"white\",\"linecolor\":\"white\",\"minorgridcolor\":\"white\",\"startlinecolor\":\"#2a3f5f\"},\"type\":\"carpet\"}],\"choropleth\":[{\"colorbar\":{\"outlinewidth\":0,\"ticks\":\"\"},\"type\":\"choropleth\"}],\"contour\":[{\"colorbar\":{\"outlinewidth\":0,\"ticks\":\"\"},\"colorscale\":[[0.0,\"#0d0887\"],[0.1111111111111111,\"#46039f\"],[0.2222222222222222,\"#7201a8\"],[0.3333333333333333,\"#9c179e\"],[0.4444444444444444,\"#bd3786\"],[0.5555555555555556,\"#d8576b\"],[0.6666666666666666,\"#ed7953\"],[0.7777777777777778,\"#fb9f3a\"],[0.8888888888888888,\"#fdca26\"],[1.0,\"#f0f921\"]],\"type\":\"contour\"}],\"contourcarpet\":[{\"colorbar\":{\"outlinewidth\":0,\"ticks\":\"\"},\"type\":\"contourcarpet\"}],\"heatmap\":[{\"colorbar\":{\"outlinewidth\":0,\"ticks\":\"\"},\"colorscale\":[[0.0,\"#0d0887\"],[0.1111111111111111,\"#46039f\"],[0.2222222222222222,\"#7201a8\"],[0.3333333333333333,\"#9c179e\"],[0.4444444444444444,\"#bd3786\"],[0.5555555555555556,\"#d8576b\"],[0.6666666666666666,\"#ed7953\"],[0.7777777777777778,\"#fb9f3a\"],[0.8888888888888888,\"#fdca26\"],[1.0,\"#f0f921\"]],\"type\":\"heatmap\"}],\"heatmapgl\":[{\"colorbar\":{\"outlinewidth\":0,\"ticks\":\"\"},\"colorscale\":[[0.0,\"#0d0887\"],[0.1111111111111111,\"#46039f\"],[0.2222222222222222,\"#7201a8\"],[0.3333333333333333,\"#9c179e\"],[0.4444444444444444,\"#bd3786\"],[0.5555555555555556,\"#d8576b\"],[0.6666666666666666,\"#ed7953\"],[0.7777777777777778,\"#fb9f3a\"],[0.8888888888888888,\"#fdca26\"],[1.0,\"#f0f921\"]],\"type\":\"heatmapgl\"}],\"histogram\":[{\"marker\":{\"pattern\":{\"fillmode\":\"overlay\",\"size\":10,\"solidity\":0.2}},\"type\":\"histogram\"}],\"histogram2d\":[{\"colorbar\":{\"outlinewidth\":0,\"ticks\":\"\"},\"colorscale\":[[0.0,\"#0d0887\"],[0.1111111111111111,\"#46039f\"],[0.2222222222222222,\"#7201a8\"],[0.3333333333333333,\"#9c179e\"],[0.4444444444444444,\"#bd3786\"],[0.5555555555555556,\"#d8576b\"],[0.6666666666666666,\"#ed7953\"],[0.7777777777777778,\"#fb9f3a\"],[0.8888888888888888,\"#fdca26\"],[1.0,\"#f0f921\"]],\"type\":\"histogram2d\"}],\"histogram2dcontour\":[{\"colorbar\":{\"outlinewidth\":0,\"ticks\":\"\"},\"colorscale\":[[0.0,\"#0d0887\"],[0.1111111111111111,\"#46039f\"],[0.2222222222222222,\"#7201a8\"],[0.3333333333333333,\"#9c179e\"],[0.4444444444444444,\"#bd3786\"],[0.5555555555555556,\"#d8576b\"],[0.6666666666666666,\"#ed7953\"],[0.7777777777777778,\"#fb9f3a\"],[0.8888888888888888,\"#fdca26\"],[1.0,\"#f0f921\"]],\"type\":\"histogram2dcontour\"}],\"mesh3d\":[{\"colorbar\":{\"outlinewidth\":0,\"ticks\":\"\"},\"type\":\"mesh3d\"}],\"parcoords\":[{\"line\":{\"colorbar\":{\"outlinewidth\":0,\"ticks\":\"\"}},\"type\":\"parcoords\"}],\"pie\":[{\"automargin\":true,\"type\":\"pie\"}],\"scatter\":[{\"marker\":{\"colorbar\":{\"outlinewidth\":0,\"ticks\":\"\"}},\"type\":\"scatter\"}],\"scatter3d\":[{\"line\":{\"colorbar\":{\"outlinewidth\":0,\"ticks\":\"\"}},\"marker\":{\"colorbar\":{\"outlinewidth\":0,\"ticks\":\"\"}},\"type\":\"scatter3d\"}],\"scattercarpet\":[{\"marker\":{\"colorbar\":{\"outlinewidth\":0,\"ticks\":\"\"}},\"type\":\"scattercarpet\"}],\"scattergeo\":[{\"marker\":{\"colorbar\":{\"outlinewidth\":0,\"ticks\":\"\"}},\"type\":\"scattergeo\"}],\"scattergl\":[{\"marker\":{\"colorbar\":{\"outlinewidth\":0,\"ticks\":\"\"}},\"type\":\"scattergl\"}],\"scattermapbox\":[{\"marker\":{\"colorbar\":{\"outlinewidth\":0,\"ticks\":\"\"}},\"type\":\"scattermapbox\"}],\"scatterpolar\":[{\"marker\":{\"colorbar\":{\"outlinewidth\":0,\"ticks\":\"\"}},\"type\":\"scatterpolar\"}],\"scatterpolargl\":[{\"marker\":{\"colorbar\":{\"outlinewidth\":0,\"ticks\":\"\"}},\"type\":\"scatterpolargl\"}],\"scatterternary\":[{\"marker\":{\"colorbar\":{\"outlinewidth\":0,\"ticks\":\"\"}},\"type\":\"scatterternary\"}],\"surface\":[{\"colorbar\":{\"outlinewidth\":0,\"ticks\":\"\"},\"colorscale\":[[0.0,\"#0d0887\"],[0.1111111111111111,\"#46039f\"],[0.2222222222222222,\"#7201a8\"],[0.3333333333333333,\"#9c179e\"],[0.4444444444444444,\"#bd3786\"],[0.5555555555555556,\"#d8576b\"],[0.6666666666666666,\"#ed7953\"],[0.7777777777777778,\"#fb9f3a\"],[0.8888888888888888,\"#fdca26\"],[1.0,\"#f0f921\"]],\"type\":\"surface\"}],\"table\":[{\"cells\":{\"fill\":{\"color\":\"#EBF0F8\"},\"line\":{\"color\":\"white\"}},\"header\":{\"fill\":{\"color\":\"#C8D4E3\"},\"line\":{\"color\":\"white\"}},\"type\":\"table\"}]},\"layout\":{\"annotationdefaults\":{\"arrowcolor\":\"#2a3f5f\",\"arrowhead\":0,\"arrowwidth\":1},\"autotypenumbers\":\"strict\",\"coloraxis\":{\"colorbar\":{\"outlinewidth\":0,\"ticks\":\"\"}},\"colorscale\":{\"diverging\":[[0,\"#8e0152\"],[0.1,\"#c51b7d\"],[0.2,\"#de77ae\"],[0.3,\"#f1b6da\"],[0.4,\"#fde0ef\"],[0.5,\"#f7f7f7\"],[0.6,\"#e6f5d0\"],[0.7,\"#b8e186\"],[0.8,\"#7fbc41\"],[0.9,\"#4d9221\"],[1,\"#276419\"]],\"sequential\":[[0.0,\"#0d0887\"],[0.1111111111111111,\"#46039f\"],[0.2222222222222222,\"#7201a8\"],[0.3333333333333333,\"#9c179e\"],[0.4444444444444444,\"#bd3786\"],[0.5555555555555556,\"#d8576b\"],[0.6666666666666666,\"#ed7953\"],[0.7777777777777778,\"#fb9f3a\"],[0.8888888888888888,\"#fdca26\"],[1.0,\"#f0f921\"]],\"sequentialminus\":[[0.0,\"#0d0887\"],[0.1111111111111111,\"#46039f\"],[0.2222222222222222,\"#7201a8\"],[0.3333333333333333,\"#9c179e\"],[0.4444444444444444,\"#bd3786\"],[0.5555555555555556,\"#d8576b\"],[0.6666666666666666,\"#ed7953\"],[0.7777777777777778,\"#fb9f3a\"],[0.8888888888888888,\"#fdca26\"],[1.0,\"#f0f921\"]]},\"colorway\":[\"#636efa\",\"#EF553B\",\"#00cc96\",\"#ab63fa\",\"#FFA15A\",\"#19d3f3\",\"#FF6692\",\"#B6E880\",\"#FF97FF\",\"#FECB52\"],\"font\":{\"color\":\"#2a3f5f\"},\"geo\":{\"bgcolor\":\"white\",\"lakecolor\":\"white\",\"landcolor\":\"#E5ECF6\",\"showlakes\":true,\"showland\":true,\"subunitcolor\":\"white\"},\"hoverlabel\":{\"align\":\"left\"},\"hovermode\":\"closest\",\"mapbox\":{\"style\":\"light\"},\"paper_bgcolor\":\"white\",\"plot_bgcolor\":\"#E5ECF6\",\"polar\":{\"angularaxis\":{\"gridcolor\":\"white\",\"linecolor\":\"white\",\"ticks\":\"\"},\"bgcolor\":\"#E5ECF6\",\"radialaxis\":{\"gridcolor\":\"white\",\"linecolor\":\"white\",\"ticks\":\"\"}},\"scene\":{\"xaxis\":{\"backgroundcolor\":\"#E5ECF6\",\"gridcolor\":\"white\",\"gridwidth\":2,\"linecolor\":\"white\",\"showbackground\":true,\"ticks\":\"\",\"zerolinecolor\":\"white\"},\"yaxis\":{\"backgroundcolor\":\"#E5ECF6\",\"gridcolor\":\"white\",\"gridwidth\":2,\"linecolor\":\"white\",\"showbackground\":true,\"ticks\":\"\",\"zerolinecolor\":\"white\"},\"zaxis\":{\"backgroundcolor\":\"#E5ECF6\",\"gridcolor\":\"white\",\"gridwidth\":2,\"linecolor\":\"white\",\"showbackground\":true,\"ticks\":\"\",\"zerolinecolor\":\"white\"}},\"shapedefaults\":{\"line\":{\"color\":\"#2a3f5f\"}},\"ternary\":{\"aaxis\":{\"gridcolor\":\"white\",\"linecolor\":\"white\",\"ticks\":\"\"},\"baxis\":{\"gridcolor\":\"white\",\"linecolor\":\"white\",\"ticks\":\"\"},\"bgcolor\":\"#E5ECF6\",\"caxis\":{\"gridcolor\":\"white\",\"linecolor\":\"white\",\"ticks\":\"\"}},\"title\":{\"x\":0.05},\"xaxis\":{\"automargin\":true,\"gridcolor\":\"white\",\"linecolor\":\"white\",\"ticks\":\"\",\"title\":{\"standoff\":15},\"zerolinecolor\":\"white\",\"zerolinewidth\":2},\"yaxis\":{\"automargin\":true,\"gridcolor\":\"white\",\"linecolor\":\"white\",\"ticks\":\"\",\"title\":{\"standoff\":15},\"zerolinecolor\":\"white\",\"zerolinewidth\":2}}},\"title\":{\"text\":\"SIFT_score of different mapper\"}},                        {\"responsive\": true}                    ).then(function(){\n",
       "                            \n",
       "var gd = document.getElementById('948edc94-b86c-4a29-bfcc-4d10b18da43d');\n",
       "var x = new MutationObserver(function (mutations, observer) {{\n",
       "        var display = window.getComputedStyle(gd).display;\n",
       "        if (!display || display === 'none') {{\n",
       "            console.log([gd, 'removed!']);\n",
       "            Plotly.purge(gd);\n",
       "            observer.disconnect();\n",
       "        }}\n",
       "}});\n",
       "\n",
       "// Listen for the removal of the full notebook cells\n",
       "var notebookContainer = gd.closest('#notebook-container');\n",
       "if (notebookContainer) {{\n",
       "    x.observe(notebookContainer, {childList: true});\n",
       "}}\n",
       "\n",
       "// Listen for the clearing of the current output cell\n",
       "var outputEl = gd.closest('.output');\n",
       "if (outputEl) {{\n",
       "    x.observe(outputEl, {childList: true});\n",
       "}}\n",
       "\n",
       "                        })                };                });            </script>        </div>"
      ]
     },
     "metadata": {},
     "output_type": "display_data"
    }
   ],
   "source": [
    "fig = make_subplots(2, 3, specs=[[{'type':'domain'}, {'type':'domain'}, {'type':'domain'}],\n",
    "                                  [{'type':'domain'}, {'type':'domain'}, {'type':'domain'}]],\n",
    "                    subplot_titles=['BWA', 'VGbam','VGgam',' ', ' ',' '])\n",
    "\n",
    "fig.add_trace(go.Pie(labels=count_sift_bwa[\"ID\"], values=count_sift_bwa[\"pct_sift\"], scalegroup='one',\n",
    "                     name=\"BWA\"), 1, 1)\n",
    "fig.add_trace(go.Pie(labels=count_sift_VGbam[\"ID\"], values=count_sift_VGbam[\"pct_sift\"], scalegroup='one',\n",
    "                     name=\"VGb\"), 1, 2)\n",
    "fig.add_trace(go.Pie(labels=count_sift_VGgam[\"ID\"], values=count_sift_VGgam[\"pct_sift\"], scalegroup='one',\n",
    "                     name=\"VGg\"), 1, 3)\n",
    "\n",
    "\n",
    "\n",
    "fig.add_trace(go.Pie(labels=count_sift_bwa[\"ID\"], values=count_sift_bwa[\"pct_ovr\"], scalegroup='one',\n",
    "                     name=\"BWA\"), 2, 1)\n",
    "fig.add_trace(go.Pie(labels=count_sift_VGbam[\"ID\"], values=count_sift_VGbam[\"pct_ovr\"], scalegroup='one',\n",
    "                     name=\"VGb\"), 2, 2)\n",
    "fig.add_trace(go.Pie(labels=count_sift_VGgam[\"ID\"], values=count_sift_VGgam[\"pct_ovr\"], scalegroup='one',\n",
    "                     name=\"VGg\"), 2, 3)\n",
    "\n",
    "fig.update_layout(title_text='SIFT_score of different mapper')\n",
    "fig.show()"
   ]
  },
  {
   "cell_type": "markdown",
   "id": "074ba0b1",
   "metadata": {},
   "source": [
    "VGgam have 12% less deletarious mutations than others, but keep in mind, SIFT is a predictive model and only 0.02% of the total datasets was able to be predicted."
   ]
  },
  {
   "cell_type": "markdown",
   "id": "07e8fecd",
   "metadata": {},
   "source": [
    "### Check over time trend\n",
    "\n",
    "Take same mapper and analyse the % on different individuals through time "
   ]
  },
  {
   "cell_type": "code",
   "execution_count": 131,
   "id": "c2c21231",
   "metadata": {},
   "outputs": [],
   "source": [
    "dataBWA_BR[\"SIFT_score\"] = dataBWA_BR.SIFT.apply(lambda x: x.split(\"(\")[-1][:-1] if(x!= \"-\") else x)\n",
    "sift_avail = dataBWA_BR[dataBWA_BR.SIFT_score != \"-\"] \n",
    "\n",
    "count_sift_bwa_BR = pd.DataFrame(columns=['ID', 'vals','pct_sift','pct_ovr'])\n",
    "count_sift_bwa_BR = count_sift_bwa_BR.append({'ID': \"delet_val\", 'vals': sum(sift_avail.SIFT_score.astype(float) <= 0.05),\n",
    "                                            'pct_sift': sum(sift_avail.SIFT_score.astype(float) <= 0.05) * 100 / len(sift_avail.SIFT_score),\n",
    "                                            'pct_ovr':sum(sift_avail.SIFT_score.astype(float) <= 0.05) * 100 / len(dataBWA_BR.SIFT_score)}, \n",
    "                                           ignore_index=True)\n",
    "count_sift_bwa_BR = count_sift_bwa_BR.append({'ID': \"non_delet_val\", 'vals': sum(sift_avail.SIFT_score.astype(float) > 0.05),\n",
    "                                            'pct_sift': sum(sift_avail.SIFT_score.astype(float) > 0.05) * 100 / len(sift_avail.SIFT_score),\n",
    "                                            'pct_ovr':sum(sift_avail.SIFT_score.astype(float) > 0.05) * 100 / len(dataBWA_BR.SIFT_score)}, \n",
    "                                           ignore_index=True)\n",
    "\n",
    "\n",
    "count_sift_bwa_BR = count_sift_bwa_BR.append({'ID': \"N/A\", 'vals': 0 ,\n",
    "                                            'pct_sift': 0,\n",
    "                                            'pct_ovr': (len(dataBWA_BR.SIFT_score) - len(sift_avail)) * 100 / len(dataBWA_BR.SIFT_score)}, \n",
    "                                           ignore_index=True)\n"
   ]
  },
  {
   "cell_type": "code",
   "execution_count": 133,
   "id": "6847c488",
   "metadata": {},
   "outputs": [],
   "source": [
    "count_sift_bwa_BOT = count_sift_bwa"
   ]
  },
  {
   "cell_type": "code",
   "execution_count": 134,
   "id": "ee220df2",
   "metadata": {},
   "outputs": [],
   "source": [
    "dataBWA_SF12[\"SIFT_score\"] = dataBWA_SF12.SIFT.apply(lambda x: x.split(\"(\")[-1][:-1] if(x!= \"-\") else x)\n",
    "sift_avail = dataBWA_SF12[dataBWA_SF12.SIFT_score != \"-\"] \n",
    "\n",
    "count_sift_bwa_SF12 = pd.DataFrame(columns=['ID', 'vals','pct_sift','pct_ovr'])\n",
    "count_sift_bwa_SF12 = count_sift_bwa_SF12.append({'ID': \"delet_val\", 'vals': sum(sift_avail.SIFT_score.astype(float) <= 0.05),\n",
    "                                            'pct_sift': sum(sift_avail.SIFT_score.astype(float) <= 0.05) * 100 / len(sift_avail.SIFT_score),\n",
    "                                            'pct_ovr':sum(sift_avail.SIFT_score.astype(float) <= 0.05) * 100 / len(dataBWA_SF12.SIFT_score)}, \n",
    "                                           ignore_index=True)\n",
    "count_sift_bwa_SF12 = count_sift_bwa_SF12.append({'ID': \"non_delet_val\", 'vals': sum(sift_avail.SIFT_score.astype(float) > 0.05),\n",
    "                                            'pct_sift': sum(sift_avail.SIFT_score.astype(float) > 0.05) * 100 / len(sift_avail.SIFT_score),\n",
    "                                            'pct_ovr':sum(sift_avail.SIFT_score.astype(float) > 0.05) * 100 / len(dataBWA_SF12.SIFT_score)}, \n",
    "                                           ignore_index=True)\n",
    "\n",
    "\n",
    "count_sift_bwa_SF12 = count_sift_bwa_SF12.append({'ID': \"N/A\", 'vals': 0 ,\n",
    "                                            'pct_sift': 0,\n",
    "                                            'pct_ovr': (len(dataBWA_SF12.SIFT_score) - len(sift_avail)) * 100 / len(dataBWA_SF12.SIFT_score)}, \n",
    "                                           ignore_index=True)\n"
   ]
  },
  {
   "cell_type": "code",
   "execution_count": 135,
   "id": "214d1878",
   "metadata": {},
   "outputs": [],
   "source": [
    "dataBWA_Ust[\"SIFT_score\"] = dataBWA_Ust.SIFT.apply(lambda x: x.split(\"(\")[-1][:-1] if(x!= \"-\") else x)\n",
    "sift_avail = dataBWA_Ust[dataBWA_Ust.SIFT_score != \"-\"] \n",
    "\n",
    "count_sift_bwa_Ust = pd.DataFrame(columns=['ID', 'vals','pct_sift','pct_ovr'])\n",
    "count_sift_bwa_Ust = count_sift_bwa_Ust.append({'ID': \"delet_val\", 'vals': sum(sift_avail.SIFT_score.astype(float) <= 0.05),\n",
    "                                            'pct_sift': sum(sift_avail.SIFT_score.astype(float) <= 0.05) * 100 / len(sift_avail.SIFT_score),\n",
    "                                            'pct_ovr':sum(sift_avail.SIFT_score.astype(float) <= 0.05) * 100 / len(dataBWA_Ust.SIFT_score)}, \n",
    "                                           ignore_index=True)\n",
    "count_sift_bwa_Ust = count_sift_bwa_Ust.append({'ID': \"non_delet_val\", 'vals': sum(sift_avail.SIFT_score.astype(float) > 0.05),\n",
    "                                            'pct_sift': sum(sift_avail.SIFT_score.astype(float) > 0.05) * 100 / len(sift_avail.SIFT_score),\n",
    "                                            'pct_ovr':sum(sift_avail.SIFT_score.astype(float) > 0.05) * 100 / len(dataBWA_Ust.SIFT_score)}, \n",
    "                                           ignore_index=True)\n",
    "\n",
    "\n",
    "count_sift_bwa_Ust = count_sift_bwa_Ust.append({'ID': \"N/A\", 'vals': 0 ,\n",
    "                                            'pct_sift': 0,\n",
    "                                            'pct_ovr': (len(dataBWA_Ust.SIFT_score) - len(sift_avail)) * 100 / len(dataBWA_Ust.SIFT_score)}, \n",
    "                                           ignore_index=True)\n"
   ]
  },
  {
   "cell_type": "code",
   "execution_count": 136,
   "id": "e269bec5",
   "metadata": {},
   "outputs": [
    {
     "data": {
      "application/vnd.plotly.v1+json": {
       "config": {
        "plotlyServerURL": "https://plot.ly"
       },
       "data": [
        {
         "domain": {
          "x": [
           0,
           0.2125
          ],
          "y": [
           0.625,
           1
          ]
         },
         "labels": [
          "delet_val",
          "non_delet_val",
          "N/A"
         ],
         "name": "BWA",
         "scalegroup": "one",
         "type": "pie",
         "values": [
          31.66802904265038,
          68.33197095734961,
          0
         ]
        },
        {
         "domain": {
          "x": [
           0.2625,
           0.475
          ],
          "y": [
           0.625,
           1
          ]
         },
         "labels": [
          "delet_val",
          "non_delet_val",
          "N/A"
         ],
         "name": "BWA",
         "scalegroup": "one",
         "type": "pie",
         "values": [
          33.43665487830248,
          66.56334512169752,
          0
         ]
        },
        {
         "domain": {
          "x": [
           0.525,
           0.7375
          ],
          "y": [
           0.625,
           1
          ]
         },
         "labels": [
          "delet_val",
          "non_delet_val",
          "N/A"
         ],
         "name": "BWA",
         "scalegroup": "one",
         "type": "pie",
         "values": [
          20.17057273609763,
          79.82942726390237,
          0
         ]
        },
        {
         "domain": {
          "x": [
           0.7875,
           1
          ],
          "y": [
           0.625,
           1
          ]
         },
         "labels": [
          "delet_val",
          "non_delet_val",
          "N/A"
         ],
         "name": "BWA",
         "scalegroup": "one",
         "type": "pie",
         "values": [
          21.944967727988637,
          78.05503227201136,
          0
         ]
        },
        {
         "domain": {
          "x": [
           0,
           0.2125
          ],
          "y": [
           0,
           0.375
          ]
         },
         "labels": [
          "delet_val",
          "non_delet_val",
          "N/A"
         ],
         "name": "BWA",
         "scalegroup": "one",
         "type": "pie",
         "values": [
          0.0838343590398,
          0.1808943328749769,
          99.73527130808522
         ]
        },
        {
         "domain": {
          "x": [
           0.2625,
           0.475
          ],
          "y": [
           0,
           0.375
          ]
         },
         "labels": [
          "delet_val",
          "non_delet_val",
          "N/A"
         ],
         "name": "BWA",
         "scalegroup": "one",
         "type": "pie",
         "values": [
          0.09269987744214549,
          0.18454040804556268,
          99.72275971451229
         ]
        },
        {
         "domain": {
          "x": [
           0.525,
           0.7375
          ],
          "y": [
           0,
           0.375
          ]
         },
         "labels": [
          "delet_val",
          "non_delet_val",
          "N/A"
         ],
         "name": "BWA",
         "scalegroup": "one",
         "type": "pie",
         "values": [
          0.04069800506325714,
          0.16107120395093827,
          99.7982307909858
         ]
        },
        {
         "domain": {
          "x": [
           0.7875,
           1
          ],
          "y": [
           0,
           0.375
          ]
         },
         "labels": [
          "delet_val",
          "non_delet_val",
          "N/A"
         ],
         "name": "BWA",
         "scalegroup": "one",
         "type": "pie",
         "values": [
          0.047430240135447846,
          0.16870240915049878,
          99.78386735071405
         ]
        }
       ],
       "layout": {
        "annotations": [
         {
          "font": {
           "size": 16
          },
          "showarrow": false,
          "text": "BR2 (2.8k)",
          "x": 0.10625,
          "xanchor": "center",
          "xref": "paper",
          "y": 1,
          "yanchor": "bottom",
          "yref": "paper"
         },
         {
          "font": {
           "size": 16
          },
          "showarrow": false,
          "text": "BOT16(5.4k)",
          "x": 0.36875,
          "xanchor": "center",
          "xref": "paper",
          "y": 1,
          "yanchor": "bottom",
          "yref": "paper"
         },
         {
          "font": {
           "size": 16
          },
          "showarrow": false,
          "text": "SF12(8.8k)",
          "x": 0.6312500000000001,
          "xanchor": "center",
          "xref": "paper",
          "y": 1,
          "yanchor": "bottom",
          "yref": "paper"
         },
         {
          "font": {
           "size": 16
          },
          "showarrow": false,
          "text": "Ust(44k)",
          "x": 0.89375,
          "xanchor": "center",
          "xref": "paper",
          "y": 1,
          "yanchor": "bottom",
          "yref": "paper"
         },
         {
          "font": {
           "size": 16
          },
          "showarrow": false,
          "text": " ",
          "x": 0.10625,
          "xanchor": "center",
          "xref": "paper",
          "y": 0.375,
          "yanchor": "bottom",
          "yref": "paper"
         },
         {
          "font": {
           "size": 16
          },
          "showarrow": false,
          "text": " ",
          "x": 0.36875,
          "xanchor": "center",
          "xref": "paper",
          "y": 0.375,
          "yanchor": "bottom",
          "yref": "paper"
         },
         {
          "font": {
           "size": 16
          },
          "showarrow": false,
          "text": " ",
          "x": 0.6312500000000001,
          "xanchor": "center",
          "xref": "paper",
          "y": 0.375,
          "yanchor": "bottom",
          "yref": "paper"
         },
         {
          "font": {
           "size": 16
          },
          "showarrow": false,
          "text": " ",
          "x": 0.89375,
          "xanchor": "center",
          "xref": "paper",
          "y": 0.375,
          "yanchor": "bottom",
          "yref": "paper"
         }
        ],
        "template": {
         "data": {
          "bar": [
           {
            "error_x": {
             "color": "#2a3f5f"
            },
            "error_y": {
             "color": "#2a3f5f"
            },
            "marker": {
             "line": {
              "color": "#E5ECF6",
              "width": 0.5
             },
             "pattern": {
              "fillmode": "overlay",
              "size": 10,
              "solidity": 0.2
             }
            },
            "type": "bar"
           }
          ],
          "barpolar": [
           {
            "marker": {
             "line": {
              "color": "#E5ECF6",
              "width": 0.5
             },
             "pattern": {
              "fillmode": "overlay",
              "size": 10,
              "solidity": 0.2
             }
            },
            "type": "barpolar"
           }
          ],
          "carpet": [
           {
            "aaxis": {
             "endlinecolor": "#2a3f5f",
             "gridcolor": "white",
             "linecolor": "white",
             "minorgridcolor": "white",
             "startlinecolor": "#2a3f5f"
            },
            "baxis": {
             "endlinecolor": "#2a3f5f",
             "gridcolor": "white",
             "linecolor": "white",
             "minorgridcolor": "white",
             "startlinecolor": "#2a3f5f"
            },
            "type": "carpet"
           }
          ],
          "choropleth": [
           {
            "colorbar": {
             "outlinewidth": 0,
             "ticks": ""
            },
            "type": "choropleth"
           }
          ],
          "contour": [
           {
            "colorbar": {
             "outlinewidth": 0,
             "ticks": ""
            },
            "colorscale": [
             [
              0,
              "#0d0887"
             ],
             [
              0.1111111111111111,
              "#46039f"
             ],
             [
              0.2222222222222222,
              "#7201a8"
             ],
             [
              0.3333333333333333,
              "#9c179e"
             ],
             [
              0.4444444444444444,
              "#bd3786"
             ],
             [
              0.5555555555555556,
              "#d8576b"
             ],
             [
              0.6666666666666666,
              "#ed7953"
             ],
             [
              0.7777777777777778,
              "#fb9f3a"
             ],
             [
              0.8888888888888888,
              "#fdca26"
             ],
             [
              1,
              "#f0f921"
             ]
            ],
            "type": "contour"
           }
          ],
          "contourcarpet": [
           {
            "colorbar": {
             "outlinewidth": 0,
             "ticks": ""
            },
            "type": "contourcarpet"
           }
          ],
          "heatmap": [
           {
            "colorbar": {
             "outlinewidth": 0,
             "ticks": ""
            },
            "colorscale": [
             [
              0,
              "#0d0887"
             ],
             [
              0.1111111111111111,
              "#46039f"
             ],
             [
              0.2222222222222222,
              "#7201a8"
             ],
             [
              0.3333333333333333,
              "#9c179e"
             ],
             [
              0.4444444444444444,
              "#bd3786"
             ],
             [
              0.5555555555555556,
              "#d8576b"
             ],
             [
              0.6666666666666666,
              "#ed7953"
             ],
             [
              0.7777777777777778,
              "#fb9f3a"
             ],
             [
              0.8888888888888888,
              "#fdca26"
             ],
             [
              1,
              "#f0f921"
             ]
            ],
            "type": "heatmap"
           }
          ],
          "heatmapgl": [
           {
            "colorbar": {
             "outlinewidth": 0,
             "ticks": ""
            },
            "colorscale": [
             [
              0,
              "#0d0887"
             ],
             [
              0.1111111111111111,
              "#46039f"
             ],
             [
              0.2222222222222222,
              "#7201a8"
             ],
             [
              0.3333333333333333,
              "#9c179e"
             ],
             [
              0.4444444444444444,
              "#bd3786"
             ],
             [
              0.5555555555555556,
              "#d8576b"
             ],
             [
              0.6666666666666666,
              "#ed7953"
             ],
             [
              0.7777777777777778,
              "#fb9f3a"
             ],
             [
              0.8888888888888888,
              "#fdca26"
             ],
             [
              1,
              "#f0f921"
             ]
            ],
            "type": "heatmapgl"
           }
          ],
          "histogram": [
           {
            "marker": {
             "pattern": {
              "fillmode": "overlay",
              "size": 10,
              "solidity": 0.2
             }
            },
            "type": "histogram"
           }
          ],
          "histogram2d": [
           {
            "colorbar": {
             "outlinewidth": 0,
             "ticks": ""
            },
            "colorscale": [
             [
              0,
              "#0d0887"
             ],
             [
              0.1111111111111111,
              "#46039f"
             ],
             [
              0.2222222222222222,
              "#7201a8"
             ],
             [
              0.3333333333333333,
              "#9c179e"
             ],
             [
              0.4444444444444444,
              "#bd3786"
             ],
             [
              0.5555555555555556,
              "#d8576b"
             ],
             [
              0.6666666666666666,
              "#ed7953"
             ],
             [
              0.7777777777777778,
              "#fb9f3a"
             ],
             [
              0.8888888888888888,
              "#fdca26"
             ],
             [
              1,
              "#f0f921"
             ]
            ],
            "type": "histogram2d"
           }
          ],
          "histogram2dcontour": [
           {
            "colorbar": {
             "outlinewidth": 0,
             "ticks": ""
            },
            "colorscale": [
             [
              0,
              "#0d0887"
             ],
             [
              0.1111111111111111,
              "#46039f"
             ],
             [
              0.2222222222222222,
              "#7201a8"
             ],
             [
              0.3333333333333333,
              "#9c179e"
             ],
             [
              0.4444444444444444,
              "#bd3786"
             ],
             [
              0.5555555555555556,
              "#d8576b"
             ],
             [
              0.6666666666666666,
              "#ed7953"
             ],
             [
              0.7777777777777778,
              "#fb9f3a"
             ],
             [
              0.8888888888888888,
              "#fdca26"
             ],
             [
              1,
              "#f0f921"
             ]
            ],
            "type": "histogram2dcontour"
           }
          ],
          "mesh3d": [
           {
            "colorbar": {
             "outlinewidth": 0,
             "ticks": ""
            },
            "type": "mesh3d"
           }
          ],
          "parcoords": [
           {
            "line": {
             "colorbar": {
              "outlinewidth": 0,
              "ticks": ""
             }
            },
            "type": "parcoords"
           }
          ],
          "pie": [
           {
            "automargin": true,
            "type": "pie"
           }
          ],
          "scatter": [
           {
            "marker": {
             "colorbar": {
              "outlinewidth": 0,
              "ticks": ""
             }
            },
            "type": "scatter"
           }
          ],
          "scatter3d": [
           {
            "line": {
             "colorbar": {
              "outlinewidth": 0,
              "ticks": ""
             }
            },
            "marker": {
             "colorbar": {
              "outlinewidth": 0,
              "ticks": ""
             }
            },
            "type": "scatter3d"
           }
          ],
          "scattercarpet": [
           {
            "marker": {
             "colorbar": {
              "outlinewidth": 0,
              "ticks": ""
             }
            },
            "type": "scattercarpet"
           }
          ],
          "scattergeo": [
           {
            "marker": {
             "colorbar": {
              "outlinewidth": 0,
              "ticks": ""
             }
            },
            "type": "scattergeo"
           }
          ],
          "scattergl": [
           {
            "marker": {
             "colorbar": {
              "outlinewidth": 0,
              "ticks": ""
             }
            },
            "type": "scattergl"
           }
          ],
          "scattermapbox": [
           {
            "marker": {
             "colorbar": {
              "outlinewidth": 0,
              "ticks": ""
             }
            },
            "type": "scattermapbox"
           }
          ],
          "scatterpolar": [
           {
            "marker": {
             "colorbar": {
              "outlinewidth": 0,
              "ticks": ""
             }
            },
            "type": "scatterpolar"
           }
          ],
          "scatterpolargl": [
           {
            "marker": {
             "colorbar": {
              "outlinewidth": 0,
              "ticks": ""
             }
            },
            "type": "scatterpolargl"
           }
          ],
          "scatterternary": [
           {
            "marker": {
             "colorbar": {
              "outlinewidth": 0,
              "ticks": ""
             }
            },
            "type": "scatterternary"
           }
          ],
          "surface": [
           {
            "colorbar": {
             "outlinewidth": 0,
             "ticks": ""
            },
            "colorscale": [
             [
              0,
              "#0d0887"
             ],
             [
              0.1111111111111111,
              "#46039f"
             ],
             [
              0.2222222222222222,
              "#7201a8"
             ],
             [
              0.3333333333333333,
              "#9c179e"
             ],
             [
              0.4444444444444444,
              "#bd3786"
             ],
             [
              0.5555555555555556,
              "#d8576b"
             ],
             [
              0.6666666666666666,
              "#ed7953"
             ],
             [
              0.7777777777777778,
              "#fb9f3a"
             ],
             [
              0.8888888888888888,
              "#fdca26"
             ],
             [
              1,
              "#f0f921"
             ]
            ],
            "type": "surface"
           }
          ],
          "table": [
           {
            "cells": {
             "fill": {
              "color": "#EBF0F8"
             },
             "line": {
              "color": "white"
             }
            },
            "header": {
             "fill": {
              "color": "#C8D4E3"
             },
             "line": {
              "color": "white"
             }
            },
            "type": "table"
           }
          ]
         },
         "layout": {
          "annotationdefaults": {
           "arrowcolor": "#2a3f5f",
           "arrowhead": 0,
           "arrowwidth": 1
          },
          "autotypenumbers": "strict",
          "coloraxis": {
           "colorbar": {
            "outlinewidth": 0,
            "ticks": ""
           }
          },
          "colorscale": {
           "diverging": [
            [
             0,
             "#8e0152"
            ],
            [
             0.1,
             "#c51b7d"
            ],
            [
             0.2,
             "#de77ae"
            ],
            [
             0.3,
             "#f1b6da"
            ],
            [
             0.4,
             "#fde0ef"
            ],
            [
             0.5,
             "#f7f7f7"
            ],
            [
             0.6,
             "#e6f5d0"
            ],
            [
             0.7,
             "#b8e186"
            ],
            [
             0.8,
             "#7fbc41"
            ],
            [
             0.9,
             "#4d9221"
            ],
            [
             1,
             "#276419"
            ]
           ],
           "sequential": [
            [
             0,
             "#0d0887"
            ],
            [
             0.1111111111111111,
             "#46039f"
            ],
            [
             0.2222222222222222,
             "#7201a8"
            ],
            [
             0.3333333333333333,
             "#9c179e"
            ],
            [
             0.4444444444444444,
             "#bd3786"
            ],
            [
             0.5555555555555556,
             "#d8576b"
            ],
            [
             0.6666666666666666,
             "#ed7953"
            ],
            [
             0.7777777777777778,
             "#fb9f3a"
            ],
            [
             0.8888888888888888,
             "#fdca26"
            ],
            [
             1,
             "#f0f921"
            ]
           ],
           "sequentialminus": [
            [
             0,
             "#0d0887"
            ],
            [
             0.1111111111111111,
             "#46039f"
            ],
            [
             0.2222222222222222,
             "#7201a8"
            ],
            [
             0.3333333333333333,
             "#9c179e"
            ],
            [
             0.4444444444444444,
             "#bd3786"
            ],
            [
             0.5555555555555556,
             "#d8576b"
            ],
            [
             0.6666666666666666,
             "#ed7953"
            ],
            [
             0.7777777777777778,
             "#fb9f3a"
            ],
            [
             0.8888888888888888,
             "#fdca26"
            ],
            [
             1,
             "#f0f921"
            ]
           ]
          },
          "colorway": [
           "#636efa",
           "#EF553B",
           "#00cc96",
           "#ab63fa",
           "#FFA15A",
           "#19d3f3",
           "#FF6692",
           "#B6E880",
           "#FF97FF",
           "#FECB52"
          ],
          "font": {
           "color": "#2a3f5f"
          },
          "geo": {
           "bgcolor": "white",
           "lakecolor": "white",
           "landcolor": "#E5ECF6",
           "showlakes": true,
           "showland": true,
           "subunitcolor": "white"
          },
          "hoverlabel": {
           "align": "left"
          },
          "hovermode": "closest",
          "mapbox": {
           "style": "light"
          },
          "paper_bgcolor": "white",
          "plot_bgcolor": "#E5ECF6",
          "polar": {
           "angularaxis": {
            "gridcolor": "white",
            "linecolor": "white",
            "ticks": ""
           },
           "bgcolor": "#E5ECF6",
           "radialaxis": {
            "gridcolor": "white",
            "linecolor": "white",
            "ticks": ""
           }
          },
          "scene": {
           "xaxis": {
            "backgroundcolor": "#E5ECF6",
            "gridcolor": "white",
            "gridwidth": 2,
            "linecolor": "white",
            "showbackground": true,
            "ticks": "",
            "zerolinecolor": "white"
           },
           "yaxis": {
            "backgroundcolor": "#E5ECF6",
            "gridcolor": "white",
            "gridwidth": 2,
            "linecolor": "white",
            "showbackground": true,
            "ticks": "",
            "zerolinecolor": "white"
           },
           "zaxis": {
            "backgroundcolor": "#E5ECF6",
            "gridcolor": "white",
            "gridwidth": 2,
            "linecolor": "white",
            "showbackground": true,
            "ticks": "",
            "zerolinecolor": "white"
           }
          },
          "shapedefaults": {
           "line": {
            "color": "#2a3f5f"
           }
          },
          "ternary": {
           "aaxis": {
            "gridcolor": "white",
            "linecolor": "white",
            "ticks": ""
           },
           "baxis": {
            "gridcolor": "white",
            "linecolor": "white",
            "ticks": ""
           },
           "bgcolor": "#E5ECF6",
           "caxis": {
            "gridcolor": "white",
            "linecolor": "white",
            "ticks": ""
           }
          },
          "title": {
           "x": 0.05
          },
          "xaxis": {
           "automargin": true,
           "gridcolor": "white",
           "linecolor": "white",
           "ticks": "",
           "title": {
            "standoff": 15
           },
           "zerolinecolor": "white",
           "zerolinewidth": 2
          },
          "yaxis": {
           "automargin": true,
           "gridcolor": "white",
           "linecolor": "white",
           "ticks": "",
           "title": {
            "standoff": 15
           },
           "zerolinecolor": "white",
           "zerolinewidth": 2
          }
         }
        },
        "title": {
         "text": "SIFT_score through time"
        }
       }
      },
      "text/html": [
       "<div>                            <div id=\"4c0edc77-df3b-469f-9f6e-e84978287c67\" class=\"plotly-graph-div\" style=\"height:525px; width:100%;\"></div>            <script type=\"text/javascript\">                require([\"plotly\"], function(Plotly) {                    window.PLOTLYENV=window.PLOTLYENV || {};                                    if (document.getElementById(\"4c0edc77-df3b-469f-9f6e-e84978287c67\")) {                    Plotly.newPlot(                        \"4c0edc77-df3b-469f-9f6e-e84978287c67\",                        [{\"domain\":{\"x\":[0.0,0.2125],\"y\":[0.625,1.0]},\"labels\":[\"delet_val\",\"non_delet_val\",\"N/A\"],\"name\":\"BWA\",\"scalegroup\":\"one\",\"type\":\"pie\",\"values\":[31.66802904265038,68.33197095734961,0.0]},{\"domain\":{\"x\":[0.2625,0.475],\"y\":[0.625,1.0]},\"labels\":[\"delet_val\",\"non_delet_val\",\"N/A\"],\"name\":\"BWA\",\"scalegroup\":\"one\",\"type\":\"pie\",\"values\":[33.43665487830248,66.56334512169752,0.0]},{\"domain\":{\"x\":[0.525,0.7375],\"y\":[0.625,1.0]},\"labels\":[\"delet_val\",\"non_delet_val\",\"N/A\"],\"name\":\"BWA\",\"scalegroup\":\"one\",\"type\":\"pie\",\"values\":[20.17057273609763,79.82942726390237,0.0]},{\"domain\":{\"x\":[0.7875,1.0],\"y\":[0.625,1.0]},\"labels\":[\"delet_val\",\"non_delet_val\",\"N/A\"],\"name\":\"BWA\",\"scalegroup\":\"one\",\"type\":\"pie\",\"values\":[21.944967727988637,78.05503227201136,0.0]},{\"domain\":{\"x\":[0.0,0.2125],\"y\":[0.0,0.375]},\"labels\":[\"delet_val\",\"non_delet_val\",\"N/A\"],\"name\":\"BWA\",\"scalegroup\":\"one\",\"type\":\"pie\",\"values\":[0.0838343590398,0.1808943328749769,99.73527130808522]},{\"domain\":{\"x\":[0.2625,0.475],\"y\":[0.0,0.375]},\"labels\":[\"delet_val\",\"non_delet_val\",\"N/A\"],\"name\":\"BWA\",\"scalegroup\":\"one\",\"type\":\"pie\",\"values\":[0.09269987744214549,0.18454040804556268,99.72275971451229]},{\"domain\":{\"x\":[0.525,0.7375],\"y\":[0.0,0.375]},\"labels\":[\"delet_val\",\"non_delet_val\",\"N/A\"],\"name\":\"BWA\",\"scalegroup\":\"one\",\"type\":\"pie\",\"values\":[0.04069800506325714,0.16107120395093827,99.7982307909858]},{\"domain\":{\"x\":[0.7875,1.0],\"y\":[0.0,0.375]},\"labels\":[\"delet_val\",\"non_delet_val\",\"N/A\"],\"name\":\"BWA\",\"scalegroup\":\"one\",\"type\":\"pie\",\"values\":[0.047430240135447846,0.16870240915049878,99.78386735071405]}],                        {\"annotations\":[{\"font\":{\"size\":16},\"showarrow\":false,\"text\":\"BR2 (2.8k)\",\"x\":0.10625,\"xanchor\":\"center\",\"xref\":\"paper\",\"y\":1.0,\"yanchor\":\"bottom\",\"yref\":\"paper\"},{\"font\":{\"size\":16},\"showarrow\":false,\"text\":\"BOT16(5.4k)\",\"x\":0.36875,\"xanchor\":\"center\",\"xref\":\"paper\",\"y\":1.0,\"yanchor\":\"bottom\",\"yref\":\"paper\"},{\"font\":{\"size\":16},\"showarrow\":false,\"text\":\"SF12(8.8k)\",\"x\":0.6312500000000001,\"xanchor\":\"center\",\"xref\":\"paper\",\"y\":1.0,\"yanchor\":\"bottom\",\"yref\":\"paper\"},{\"font\":{\"size\":16},\"showarrow\":false,\"text\":\"Ust(44k)\",\"x\":0.89375,\"xanchor\":\"center\",\"xref\":\"paper\",\"y\":1.0,\"yanchor\":\"bottom\",\"yref\":\"paper\"},{\"font\":{\"size\":16},\"showarrow\":false,\"text\":\" \",\"x\":0.10625,\"xanchor\":\"center\",\"xref\":\"paper\",\"y\":0.375,\"yanchor\":\"bottom\",\"yref\":\"paper\"},{\"font\":{\"size\":16},\"showarrow\":false,\"text\":\" \",\"x\":0.36875,\"xanchor\":\"center\",\"xref\":\"paper\",\"y\":0.375,\"yanchor\":\"bottom\",\"yref\":\"paper\"},{\"font\":{\"size\":16},\"showarrow\":false,\"text\":\" \",\"x\":0.6312500000000001,\"xanchor\":\"center\",\"xref\":\"paper\",\"y\":0.375,\"yanchor\":\"bottom\",\"yref\":\"paper\"},{\"font\":{\"size\":16},\"showarrow\":false,\"text\":\" \",\"x\":0.89375,\"xanchor\":\"center\",\"xref\":\"paper\",\"y\":0.375,\"yanchor\":\"bottom\",\"yref\":\"paper\"}],\"template\":{\"data\":{\"bar\":[{\"error_x\":{\"color\":\"#2a3f5f\"},\"error_y\":{\"color\":\"#2a3f5f\"},\"marker\":{\"line\":{\"color\":\"#E5ECF6\",\"width\":0.5},\"pattern\":{\"fillmode\":\"overlay\",\"size\":10,\"solidity\":0.2}},\"type\":\"bar\"}],\"barpolar\":[{\"marker\":{\"line\":{\"color\":\"#E5ECF6\",\"width\":0.5},\"pattern\":{\"fillmode\":\"overlay\",\"size\":10,\"solidity\":0.2}},\"type\":\"barpolar\"}],\"carpet\":[{\"aaxis\":{\"endlinecolor\":\"#2a3f5f\",\"gridcolor\":\"white\",\"linecolor\":\"white\",\"minorgridcolor\":\"white\",\"startlinecolor\":\"#2a3f5f\"},\"baxis\":{\"endlinecolor\":\"#2a3f5f\",\"gridcolor\":\"white\",\"linecolor\":\"white\",\"minorgridcolor\":\"white\",\"startlinecolor\":\"#2a3f5f\"},\"type\":\"carpet\"}],\"choropleth\":[{\"colorbar\":{\"outlinewidth\":0,\"ticks\":\"\"},\"type\":\"choropleth\"}],\"contour\":[{\"colorbar\":{\"outlinewidth\":0,\"ticks\":\"\"},\"colorscale\":[[0.0,\"#0d0887\"],[0.1111111111111111,\"#46039f\"],[0.2222222222222222,\"#7201a8\"],[0.3333333333333333,\"#9c179e\"],[0.4444444444444444,\"#bd3786\"],[0.5555555555555556,\"#d8576b\"],[0.6666666666666666,\"#ed7953\"],[0.7777777777777778,\"#fb9f3a\"],[0.8888888888888888,\"#fdca26\"],[1.0,\"#f0f921\"]],\"type\":\"contour\"}],\"contourcarpet\":[{\"colorbar\":{\"outlinewidth\":0,\"ticks\":\"\"},\"type\":\"contourcarpet\"}],\"heatmap\":[{\"colorbar\":{\"outlinewidth\":0,\"ticks\":\"\"},\"colorscale\":[[0.0,\"#0d0887\"],[0.1111111111111111,\"#46039f\"],[0.2222222222222222,\"#7201a8\"],[0.3333333333333333,\"#9c179e\"],[0.4444444444444444,\"#bd3786\"],[0.5555555555555556,\"#d8576b\"],[0.6666666666666666,\"#ed7953\"],[0.7777777777777778,\"#fb9f3a\"],[0.8888888888888888,\"#fdca26\"],[1.0,\"#f0f921\"]],\"type\":\"heatmap\"}],\"heatmapgl\":[{\"colorbar\":{\"outlinewidth\":0,\"ticks\":\"\"},\"colorscale\":[[0.0,\"#0d0887\"],[0.1111111111111111,\"#46039f\"],[0.2222222222222222,\"#7201a8\"],[0.3333333333333333,\"#9c179e\"],[0.4444444444444444,\"#bd3786\"],[0.5555555555555556,\"#d8576b\"],[0.6666666666666666,\"#ed7953\"],[0.7777777777777778,\"#fb9f3a\"],[0.8888888888888888,\"#fdca26\"],[1.0,\"#f0f921\"]],\"type\":\"heatmapgl\"}],\"histogram\":[{\"marker\":{\"pattern\":{\"fillmode\":\"overlay\",\"size\":10,\"solidity\":0.2}},\"type\":\"histogram\"}],\"histogram2d\":[{\"colorbar\":{\"outlinewidth\":0,\"ticks\":\"\"},\"colorscale\":[[0.0,\"#0d0887\"],[0.1111111111111111,\"#46039f\"],[0.2222222222222222,\"#7201a8\"],[0.3333333333333333,\"#9c179e\"],[0.4444444444444444,\"#bd3786\"],[0.5555555555555556,\"#d8576b\"],[0.6666666666666666,\"#ed7953\"],[0.7777777777777778,\"#fb9f3a\"],[0.8888888888888888,\"#fdca26\"],[1.0,\"#f0f921\"]],\"type\":\"histogram2d\"}],\"histogram2dcontour\":[{\"colorbar\":{\"outlinewidth\":0,\"ticks\":\"\"},\"colorscale\":[[0.0,\"#0d0887\"],[0.1111111111111111,\"#46039f\"],[0.2222222222222222,\"#7201a8\"],[0.3333333333333333,\"#9c179e\"],[0.4444444444444444,\"#bd3786\"],[0.5555555555555556,\"#d8576b\"],[0.6666666666666666,\"#ed7953\"],[0.7777777777777778,\"#fb9f3a\"],[0.8888888888888888,\"#fdca26\"],[1.0,\"#f0f921\"]],\"type\":\"histogram2dcontour\"}],\"mesh3d\":[{\"colorbar\":{\"outlinewidth\":0,\"ticks\":\"\"},\"type\":\"mesh3d\"}],\"parcoords\":[{\"line\":{\"colorbar\":{\"outlinewidth\":0,\"ticks\":\"\"}},\"type\":\"parcoords\"}],\"pie\":[{\"automargin\":true,\"type\":\"pie\"}],\"scatter\":[{\"marker\":{\"colorbar\":{\"outlinewidth\":0,\"ticks\":\"\"}},\"type\":\"scatter\"}],\"scatter3d\":[{\"line\":{\"colorbar\":{\"outlinewidth\":0,\"ticks\":\"\"}},\"marker\":{\"colorbar\":{\"outlinewidth\":0,\"ticks\":\"\"}},\"type\":\"scatter3d\"}],\"scattercarpet\":[{\"marker\":{\"colorbar\":{\"outlinewidth\":0,\"ticks\":\"\"}},\"type\":\"scattercarpet\"}],\"scattergeo\":[{\"marker\":{\"colorbar\":{\"outlinewidth\":0,\"ticks\":\"\"}},\"type\":\"scattergeo\"}],\"scattergl\":[{\"marker\":{\"colorbar\":{\"outlinewidth\":0,\"ticks\":\"\"}},\"type\":\"scattergl\"}],\"scattermapbox\":[{\"marker\":{\"colorbar\":{\"outlinewidth\":0,\"ticks\":\"\"}},\"type\":\"scattermapbox\"}],\"scatterpolar\":[{\"marker\":{\"colorbar\":{\"outlinewidth\":0,\"ticks\":\"\"}},\"type\":\"scatterpolar\"}],\"scatterpolargl\":[{\"marker\":{\"colorbar\":{\"outlinewidth\":0,\"ticks\":\"\"}},\"type\":\"scatterpolargl\"}],\"scatterternary\":[{\"marker\":{\"colorbar\":{\"outlinewidth\":0,\"ticks\":\"\"}},\"type\":\"scatterternary\"}],\"surface\":[{\"colorbar\":{\"outlinewidth\":0,\"ticks\":\"\"},\"colorscale\":[[0.0,\"#0d0887\"],[0.1111111111111111,\"#46039f\"],[0.2222222222222222,\"#7201a8\"],[0.3333333333333333,\"#9c179e\"],[0.4444444444444444,\"#bd3786\"],[0.5555555555555556,\"#d8576b\"],[0.6666666666666666,\"#ed7953\"],[0.7777777777777778,\"#fb9f3a\"],[0.8888888888888888,\"#fdca26\"],[1.0,\"#f0f921\"]],\"type\":\"surface\"}],\"table\":[{\"cells\":{\"fill\":{\"color\":\"#EBF0F8\"},\"line\":{\"color\":\"white\"}},\"header\":{\"fill\":{\"color\":\"#C8D4E3\"},\"line\":{\"color\":\"white\"}},\"type\":\"table\"}]},\"layout\":{\"annotationdefaults\":{\"arrowcolor\":\"#2a3f5f\",\"arrowhead\":0,\"arrowwidth\":1},\"autotypenumbers\":\"strict\",\"coloraxis\":{\"colorbar\":{\"outlinewidth\":0,\"ticks\":\"\"}},\"colorscale\":{\"diverging\":[[0,\"#8e0152\"],[0.1,\"#c51b7d\"],[0.2,\"#de77ae\"],[0.3,\"#f1b6da\"],[0.4,\"#fde0ef\"],[0.5,\"#f7f7f7\"],[0.6,\"#e6f5d0\"],[0.7,\"#b8e186\"],[0.8,\"#7fbc41\"],[0.9,\"#4d9221\"],[1,\"#276419\"]],\"sequential\":[[0.0,\"#0d0887\"],[0.1111111111111111,\"#46039f\"],[0.2222222222222222,\"#7201a8\"],[0.3333333333333333,\"#9c179e\"],[0.4444444444444444,\"#bd3786\"],[0.5555555555555556,\"#d8576b\"],[0.6666666666666666,\"#ed7953\"],[0.7777777777777778,\"#fb9f3a\"],[0.8888888888888888,\"#fdca26\"],[1.0,\"#f0f921\"]],\"sequentialminus\":[[0.0,\"#0d0887\"],[0.1111111111111111,\"#46039f\"],[0.2222222222222222,\"#7201a8\"],[0.3333333333333333,\"#9c179e\"],[0.4444444444444444,\"#bd3786\"],[0.5555555555555556,\"#d8576b\"],[0.6666666666666666,\"#ed7953\"],[0.7777777777777778,\"#fb9f3a\"],[0.8888888888888888,\"#fdca26\"],[1.0,\"#f0f921\"]]},\"colorway\":[\"#636efa\",\"#EF553B\",\"#00cc96\",\"#ab63fa\",\"#FFA15A\",\"#19d3f3\",\"#FF6692\",\"#B6E880\",\"#FF97FF\",\"#FECB52\"],\"font\":{\"color\":\"#2a3f5f\"},\"geo\":{\"bgcolor\":\"white\",\"lakecolor\":\"white\",\"landcolor\":\"#E5ECF6\",\"showlakes\":true,\"showland\":true,\"subunitcolor\":\"white\"},\"hoverlabel\":{\"align\":\"left\"},\"hovermode\":\"closest\",\"mapbox\":{\"style\":\"light\"},\"paper_bgcolor\":\"white\",\"plot_bgcolor\":\"#E5ECF6\",\"polar\":{\"angularaxis\":{\"gridcolor\":\"white\",\"linecolor\":\"white\",\"ticks\":\"\"},\"bgcolor\":\"#E5ECF6\",\"radialaxis\":{\"gridcolor\":\"white\",\"linecolor\":\"white\",\"ticks\":\"\"}},\"scene\":{\"xaxis\":{\"backgroundcolor\":\"#E5ECF6\",\"gridcolor\":\"white\",\"gridwidth\":2,\"linecolor\":\"white\",\"showbackground\":true,\"ticks\":\"\",\"zerolinecolor\":\"white\"},\"yaxis\":{\"backgroundcolor\":\"#E5ECF6\",\"gridcolor\":\"white\",\"gridwidth\":2,\"linecolor\":\"white\",\"showbackground\":true,\"ticks\":\"\",\"zerolinecolor\":\"white\"},\"zaxis\":{\"backgroundcolor\":\"#E5ECF6\",\"gridcolor\":\"white\",\"gridwidth\":2,\"linecolor\":\"white\",\"showbackground\":true,\"ticks\":\"\",\"zerolinecolor\":\"white\"}},\"shapedefaults\":{\"line\":{\"color\":\"#2a3f5f\"}},\"ternary\":{\"aaxis\":{\"gridcolor\":\"white\",\"linecolor\":\"white\",\"ticks\":\"\"},\"baxis\":{\"gridcolor\":\"white\",\"linecolor\":\"white\",\"ticks\":\"\"},\"bgcolor\":\"#E5ECF6\",\"caxis\":{\"gridcolor\":\"white\",\"linecolor\":\"white\",\"ticks\":\"\"}},\"title\":{\"x\":0.05},\"xaxis\":{\"automargin\":true,\"gridcolor\":\"white\",\"linecolor\":\"white\",\"ticks\":\"\",\"title\":{\"standoff\":15},\"zerolinecolor\":\"white\",\"zerolinewidth\":2},\"yaxis\":{\"automargin\":true,\"gridcolor\":\"white\",\"linecolor\":\"white\",\"ticks\":\"\",\"title\":{\"standoff\":15},\"zerolinecolor\":\"white\",\"zerolinewidth\":2}}},\"title\":{\"text\":\"SIFT_score through time\"}},                        {\"responsive\": true}                    ).then(function(){\n",
       "                            \n",
       "var gd = document.getElementById('4c0edc77-df3b-469f-9f6e-e84978287c67');\n",
       "var x = new MutationObserver(function (mutations, observer) {{\n",
       "        var display = window.getComputedStyle(gd).display;\n",
       "        if (!display || display === 'none') {{\n",
       "            console.log([gd, 'removed!']);\n",
       "            Plotly.purge(gd);\n",
       "            observer.disconnect();\n",
       "        }}\n",
       "}});\n",
       "\n",
       "// Listen for the removal of the full notebook cells\n",
       "var notebookContainer = gd.closest('#notebook-container');\n",
       "if (notebookContainer) {{\n",
       "    x.observe(notebookContainer, {childList: true});\n",
       "}}\n",
       "\n",
       "// Listen for the clearing of the current output cell\n",
       "var outputEl = gd.closest('.output');\n",
       "if (outputEl) {{\n",
       "    x.observe(outputEl, {childList: true});\n",
       "}}\n",
       "\n",
       "                        })                };                });            </script>        </div>"
      ]
     },
     "metadata": {},
     "output_type": "display_data"
    }
   ],
   "source": [
    "fig = make_subplots(2, 4, specs=[[{'type':'domain'}, {'type':'domain'}, {'type':'domain'}, {'type':'domain'}],\n",
    "                                  [{'type':'domain'}, {'type':'domain'}, {'type':'domain'}, {'type':'domain'}]],\n",
    "                    subplot_titles=['BR2 (2.8k)', 'BOT16(5.4k)','SF12(8.8k)','Ust(44k)',' ', ' ',' ', ' '])\n",
    "\n",
    "fig.add_trace(go.Pie(labels=count_sift_bwa_BR[\"ID\"], values=count_sift_bwa_BR[\"pct_sift\"], scalegroup='one',\n",
    "                     name=\"BWA\"), 1, 1)\n",
    "fig.add_trace(go.Pie(labels=count_sift_bwa_BOT[\"ID\"], values=count_sift_bwa_BOT[\"pct_sift\"], scalegroup='one',\n",
    "                     name=\"BWA\"), 1, 2)\n",
    "fig.add_trace(go.Pie(labels=count_sift_bwa_SF12[\"ID\"], values=count_sift_bwa_SF12[\"pct_sift\"], scalegroup='one',\n",
    "                     name=\"BWA\"), 1, 3)\n",
    "fig.add_trace(go.Pie(labels=count_sift_bwa_Ust[\"ID\"], values=count_sift_bwa_Ust[\"pct_sift\"], scalegroup='one',\n",
    "                     name=\"BWA\"), 1, 4)\n",
    "\n",
    "\n",
    "\n",
    "fig.add_trace(go.Pie(labels=count_sift_bwa_BR[\"ID\"], values=count_sift_bwa_BR[\"pct_ovr\"], scalegroup='one',\n",
    "                     name=\"BWA\"), 2, 1)\n",
    "fig.add_trace(go.Pie(labels=count_sift_bwa_BOT[\"ID\"], values=count_sift_bwa_BOT[\"pct_ovr\"], scalegroup='one',\n",
    "                     name=\"BWA\"), 2, 2)\n",
    "fig.add_trace(go.Pie(labels=count_sift_bwa_SF12[\"ID\"], values=count_sift_bwa_SF12[\"pct_ovr\"], scalegroup='one',\n",
    "                     name=\"BWA\"), 2, 3)\n",
    "fig.add_trace(go.Pie(labels=count_sift_bwa_Ust[\"ID\"], values=count_sift_bwa_Ust[\"pct_ovr\"], scalegroup='one',\n",
    "                     name=\"BWA\"), 2, 4)\n",
    "\n",
    "fig.update_layout(title_text='SIFT_score through time')\n",
    "fig.show()"
   ]
  },
  {
   "cell_type": "markdown",
   "id": "83b338b9",
   "metadata": {},
   "source": [
    "We kinda see a trend between the two younger and two older but nothing clear. Next step is to plot them all on curve NonDelet vs Delet and see if any trend is present"
   ]
  },
  {
   "cell_type": "markdown",
   "id": "53d8f452",
   "metadata": {},
   "source": [
    "# Polyphen analysis\n"
   ]
  },
  {
   "cell_type": "code",
   "execution_count": 95,
   "id": "8fbdf59e",
   "metadata": {},
   "outputs": [],
   "source": [
    "dataVGgam[\"POLY_score\"] = dataVGgam.PolyPhen.apply(lambda x: x.split(\"(\")[0] if(x!= \"-\") else x)\n",
    "dataVGbam[\"POLY_score\"] = dataVGbam.PolyPhen.apply(lambda x: x.split(\"(\")[0] if(x!= \"-\") else x)\n",
    "dataBWA[\"POLY_score\"] = dataBWA.PolyPhen.apply(lambda x: x.split(\"(\")[0] if(x!= \"-\") else x)"
   ]
  },
  {
   "cell_type": "code",
   "execution_count": 96,
   "id": "49af0484",
   "metadata": {},
   "outputs": [],
   "source": [
    "poly_avail = dataBWA[dataBWA.POLY_score != \"-\"] \n",
    "count_poly_bwa = pd.DataFrame(columns=['ID', 'vals','pct_poly','pct_ovr'])\n",
    "\n",
    "count_poly_bwa = count_poly_bwa.append({'ID': \"Unknown\", 'vals': sum(poly_avail[\"POLY_score\"]==\"unknown\"),\n",
    "                                            'pct_poly': sum(poly_avail[\"POLY_score\"]==\"unknown\") * 100 / len(poly_avail.POLY_score),\n",
    "                                            'pct_ovr': sum(poly_avail[\"POLY_score\"]==\"unknown\") * 100 / len(dataBWA.POLY_score)}, \n",
    "                                           ignore_index=True)\n",
    "\n",
    "\n",
    "count_poly_bwa = count_poly_bwa.append({'ID': \"benign\", 'vals': sum(poly_avail[\"POLY_score\"]==\"benign\"),\n",
    "                                            'pct_poly': sum(poly_avail[\"POLY_score\"]==\"benign\") * 100 / len(poly_avail.POLY_score),\n",
    "                                            'pct_ovr': sum(poly_avail[\"POLY_score\"]==\"benign\") * 100 / len(dataBWA.POLY_score)}, \n",
    "                                           ignore_index=True)\n",
    "\n",
    "\n",
    "count_poly_bwa = count_poly_bwa.append({'ID': \"possibly_damaging\", 'vals': sum(poly_avail[\"POLY_score\"]==\"possibly_damaging\"),\n",
    "                                            'pct_poly': sum(poly_avail[\"POLY_score\"]==\"possibly_damaging\") * 100 / len(poly_avail.POLY_score),\n",
    "                                            'pct_ovr': sum(poly_avail[\"POLY_score\"]==\"possibly_damaging\") * 100 / len(dataBWA.POLY_score)}, \n",
    "                                           ignore_index=True)\n",
    "\n",
    "count_poly_bwa = count_poly_bwa.append({'ID': \"probably_damaging\", 'vals': sum(poly_avail[\"POLY_score\"]==\"probably_damaging\"),\n",
    "                                            'pct_poly': sum(poly_avail[\"POLY_score\"]==\"probably_damaging\") * 100 / len(poly_avail.POLY_score),\n",
    "                                            'pct_ovr': sum(poly_avail[\"POLY_score\"]==\"probably_damaging\") * 100 / len(dataBWA.POLY_score)}, \n",
    "                                           ignore_index=True)\n",
    "\n",
    "\n",
    "\n",
    "\n",
    "count_poly_bwa = count_poly_bwa.append({'ID': \"N/A\", 'vals': 0 ,\n",
    "                                            'pct_poly': 0,\n",
    "                                            'pct_ovr': (len(dataBWA.POLY_score) - len(poly_avail)) * 100 / len(dataBWA.POLY_score)}, \n",
    "                                           ignore_index=True)\n"
   ]
  },
  {
   "cell_type": "code",
   "execution_count": 97,
   "id": "c338dbd1",
   "metadata": {},
   "outputs": [],
   "source": [
    "poly_avail = dataVGbam[dataVGbam.POLY_score != \"-\"] \n",
    "count_poly_VGbam = pd.DataFrame(columns=['ID', 'vals','pct_poly','pct_ovr'])\n",
    "\n",
    "count_poly_VGbam = count_poly_VGbam.append({'ID': \"Unknown\", 'vals': sum(poly_avail[\"POLY_score\"]==\"unknown\"),\n",
    "                                            'pct_poly': sum(poly_avail[\"POLY_score\"]==\"unknown\") * 100 / len(poly_avail.POLY_score),\n",
    "                                            'pct_ovr': sum(poly_avail[\"POLY_score\"]==\"unknown\") * 100 / len(dataVGbam.POLY_score)}, \n",
    "                                           ignore_index=True)\n",
    "\n",
    "\n",
    "count_poly_VGbam = count_poly_VGbam.append({'ID': \"benign\", 'vals': sum(poly_avail[\"POLY_score\"]==\"benign\"),\n",
    "                                            'pct_poly': sum(poly_avail[\"POLY_score\"]==\"benign\") * 100 / len(poly_avail.POLY_score),\n",
    "                                            'pct_ovr': sum(poly_avail[\"POLY_score\"]==\"benign\") * 100 / len(dataVGbam.POLY_score)}, \n",
    "                                           ignore_index=True)\n",
    "\n",
    "\n",
    "count_poly_VGbam = count_poly_VGbam.append({'ID': \"possibly_damaging\", 'vals': sum(poly_avail[\"POLY_score\"]==\"possibly_damaging\"),\n",
    "                                            'pct_poly': sum(poly_avail[\"POLY_score\"]==\"possibly_damaging\") * 100 / len(poly_avail.POLY_score),\n",
    "                                            'pct_ovr': sum(poly_avail[\"POLY_score\"]==\"possibly_damaging\") * 100 / len(dataVGbam.POLY_score)}, \n",
    "                                           ignore_index=True)\n",
    "\n",
    "count_poly_VGbam = count_poly_VGbam.append({'ID': \"probably_damaging\", 'vals': sum(poly_avail[\"POLY_score\"]==\"probably_damaging\"),\n",
    "                                            'pct_poly': sum(poly_avail[\"POLY_score\"]==\"probably_damaging\") * 100 / len(poly_avail.POLY_score),\n",
    "                                            'pct_ovr': sum(poly_avail[\"POLY_score\"]==\"probably_damaging\") * 100 / len(dataVGbam.POLY_score)}, \n",
    "                                           ignore_index=True)\n",
    "\n",
    "\n",
    "\n",
    "\n",
    "count_poly_VGbam = count_poly_VGbam.append({'ID': \"N/A\", 'vals': 0 ,\n",
    "                                            'pct_poly': 0,\n",
    "                                            'pct_ovr': (len(dataVGbam.POLY_score) - len(poly_avail)) * 100 / len(dataVGbam.POLY_score)}, \n",
    "                                           ignore_index=True)\n"
   ]
  },
  {
   "cell_type": "code",
   "execution_count": 104,
   "id": "b8bd3c9b",
   "metadata": {},
   "outputs": [],
   "source": [
    "poly_avail = dataVGgam[dataVGgam.POLY_score != \"-\"] \n",
    "count_poly_VGgam = pd.DataFrame(columns=['ID', 'vals','pct_poly','pct_ovr'])\n",
    "\n",
    "count_poly_VGgam = count_poly_VGgam.append({'ID': \"Unknown\", 'vals': sum(poly_avail[\"POLY_score\"]==\"unknown\"),\n",
    "                                            'pct_poly': sum(poly_avail[\"POLY_score\"]==\"unknown\") * 100 / len(poly_avail.POLY_score),\n",
    "                                            'pct_ovr': sum(poly_avail[\"POLY_score\"]==\"unknown\") * 100 / len(dataVGgam.POLY_score)}, \n",
    "                                           ignore_index=True)\n",
    "\n",
    "\n",
    "count_poly_VGgam = count_poly_VGgam.append({'ID': \"benign\", 'vals': sum(poly_avail[\"POLY_score\"]==\"benign\"),\n",
    "                                            'pct_poly': sum(poly_avail[\"POLY_score\"]==\"benign\") * 100 / len(poly_avail.POLY_score),\n",
    "                                            'pct_ovr': sum(poly_avail[\"POLY_score\"]==\"benign\") * 100 / len(dataVGgam.POLY_score)}, \n",
    "                                           ignore_index=True)\n",
    "\n",
    "\n",
    "count_poly_VGgam = count_poly_VGgam.append({'ID': \"possibly_damaging\", 'vals': sum(poly_avail[\"POLY_score\"]==\"possibly_damaging\"),\n",
    "                                            'pct_poly': sum(poly_avail[\"POLY_score\"]==\"possibly_damaging\") * 100 / len(poly_avail.POLY_score),\n",
    "                                            'pct_ovr': sum(poly_avail[\"POLY_score\"]==\"possibly_damaging\") * 100 / len(dataVGgam.POLY_score)}, \n",
    "                                           ignore_index=True)\n",
    "\n",
    "count_poly_VGgam = count_poly_VGgam.append({'ID': \"probably_damaging\", 'vals': sum(poly_avail[\"POLY_score\"]==\"probably_damaging\"),\n",
    "                                            'pct_poly': sum(poly_avail[\"POLY_score\"]==\"probably_damaging\") * 100 / len(poly_avail.POLY_score),\n",
    "                                            'pct_ovr': sum(poly_avail[\"POLY_score\"]==\"probably_damaging\") * 100 / len(dataVGgam.POLY_score)}, \n",
    "                                           ignore_index=True)\n",
    "\n",
    "\n",
    "\n",
    "\n",
    "count_poly_VGgam = count_poly_VGgam.append({'ID': \"N/A\", 'vals': 0 ,\n",
    "                                            'pct_poly': 0,\n",
    "                                            'pct_ovr': (len(dataVGgam.POLY_score) - len(poly_avail)) * 100 / len(dataVGgam.POLY_score)}, \n",
    "                                           ignore_index=True)\n"
   ]
  },
  {
   "cell_type": "code",
   "execution_count": 105,
   "id": "f655cbba",
   "metadata": {
    "scrolled": false
   },
   "outputs": [
    {
     "data": {
      "application/vnd.plotly.v1+json": {
       "config": {
        "plotlyServerURL": "https://plot.ly"
       },
       "data": [
        {
         "domain": {
          "x": [
           0,
           0.2888888888888889
          ],
          "y": [
           0.625,
           1
          ]
         },
         "labels": [
          "Unknown",
          "benign",
          "possibly_damaging",
          "probably_damaging",
          "N/A"
         ],
         "name": "BWA",
         "scalegroup": "one",
         "type": "pie",
         "values": [
          1.9626130327237339,
          68.19472040874255,
          11.641863671383966,
          18.200802887149752,
          0
         ]
        },
        {
         "domain": {
          "x": [
           0.35555555555555557,
           0.6444444444444445
          ],
          "y": [
           0.625,
           1
          ]
         },
         "labels": [
          "Unknown",
          "benign",
          "possibly_damaging",
          "probably_damaging",
          "N/A"
         ],
         "name": "VGb",
         "scalegroup": "one",
         "type": "pie",
         "values": [
          1.9949360885367746,
          69.45113733817944,
          11.579613672560951,
          16.974312900722833,
          0
         ]
        },
        {
         "domain": {
          "x": [
           0.7111111111111111,
           1
          ],
          "y": [
           0.625,
           1
          ]
         },
         "labels": [
          "Unknown",
          "benign",
          "possibly_damaging",
          "probably_damaging",
          "N/A"
         ],
         "name": "VGg",
         "scalegroup": "one",
         "type": "pie",
         "values": [
          2.512488546008099,
          80.02423812479678,
          9.913984215660193,
          7.549289113534924,
          0
         ]
        },
        {
         "domain": {
          "x": [
           0,
           0.2888888888888889
          ],
          "y": [
           0,
           0.375
          ]
         },
         "labels": [
          "Unknown",
          "benign",
          "possibly_damaging",
          "probably_damaging",
          "N/A"
         ],
         "name": "BWA",
         "scalegroup": "one",
         "type": "pie",
         "values": [
          0.005582870737509913,
          0.19398745584312593,
          0.033116574147501986,
          0.05177420517626703,
          99.7155388940956
         ]
        },
        {
         "domain": {
          "x": [
           0.35555555555555557,
           0.6444444444444445
          ],
          "y": [
           0,
           0.375
          ]
         },
         "labels": [
          "Unknown",
          "benign",
          "possibly_damaging",
          "probably_damaging",
          "N/A"
         ],
         "name": "VGb",
         "scalegroup": "one",
         "type": "pie",
         "values": [
          0.00544420718523901,
          0.18953307982756853,
          0.03160092011002091,
          0.04632312623428034,
          99.72709866664289
         ]
        },
        {
         "domain": {
          "x": [
           0.7111111111111111,
           1
          ],
          "y": [
           0,
           0.375
          ]
         },
         "labels": [
          "Unknown",
          "benign",
          "possibly_damaging",
          "probably_damaging",
          "N/A"
         ],
         "name": "VGg",
         "scalegroup": "one",
         "type": "pie",
         "values": [
          0.005578151443924189,
          0.17766740475454065,
          0.0220107293446138,
          0.016760704456214564,
          99.77798301000071
         ]
        }
       ],
       "layout": {
        "annotations": [
         {
          "font": {
           "size": 16
          },
          "showarrow": false,
          "text": "BWA",
          "x": 0.14444444444444446,
          "xanchor": "center",
          "xref": "paper",
          "y": 1,
          "yanchor": "bottom",
          "yref": "paper"
         },
         {
          "font": {
           "size": 16
          },
          "showarrow": false,
          "text": "VGbam",
          "x": 0.5,
          "xanchor": "center",
          "xref": "paper",
          "y": 1,
          "yanchor": "bottom",
          "yref": "paper"
         },
         {
          "font": {
           "size": 16
          },
          "showarrow": false,
          "text": "VGgam",
          "x": 0.8555555555555556,
          "xanchor": "center",
          "xref": "paper",
          "y": 1,
          "yanchor": "bottom",
          "yref": "paper"
         },
         {
          "font": {
           "size": 16
          },
          "showarrow": false,
          "text": " ",
          "x": 0.14444444444444446,
          "xanchor": "center",
          "xref": "paper",
          "y": 0.375,
          "yanchor": "bottom",
          "yref": "paper"
         },
         {
          "font": {
           "size": 16
          },
          "showarrow": false,
          "text": " ",
          "x": 0.5,
          "xanchor": "center",
          "xref": "paper",
          "y": 0.375,
          "yanchor": "bottom",
          "yref": "paper"
         },
         {
          "font": {
           "size": 16
          },
          "showarrow": false,
          "text": " ",
          "x": 0.8555555555555556,
          "xanchor": "center",
          "xref": "paper",
          "y": 0.375,
          "yanchor": "bottom",
          "yref": "paper"
         }
        ],
        "template": {
         "data": {
          "bar": [
           {
            "error_x": {
             "color": "#2a3f5f"
            },
            "error_y": {
             "color": "#2a3f5f"
            },
            "marker": {
             "line": {
              "color": "#E5ECF6",
              "width": 0.5
             },
             "pattern": {
              "fillmode": "overlay",
              "size": 10,
              "solidity": 0.2
             }
            },
            "type": "bar"
           }
          ],
          "barpolar": [
           {
            "marker": {
             "line": {
              "color": "#E5ECF6",
              "width": 0.5
             },
             "pattern": {
              "fillmode": "overlay",
              "size": 10,
              "solidity": 0.2
             }
            },
            "type": "barpolar"
           }
          ],
          "carpet": [
           {
            "aaxis": {
             "endlinecolor": "#2a3f5f",
             "gridcolor": "white",
             "linecolor": "white",
             "minorgridcolor": "white",
             "startlinecolor": "#2a3f5f"
            },
            "baxis": {
             "endlinecolor": "#2a3f5f",
             "gridcolor": "white",
             "linecolor": "white",
             "minorgridcolor": "white",
             "startlinecolor": "#2a3f5f"
            },
            "type": "carpet"
           }
          ],
          "choropleth": [
           {
            "colorbar": {
             "outlinewidth": 0,
             "ticks": ""
            },
            "type": "choropleth"
           }
          ],
          "contour": [
           {
            "colorbar": {
             "outlinewidth": 0,
             "ticks": ""
            },
            "colorscale": [
             [
              0,
              "#0d0887"
             ],
             [
              0.1111111111111111,
              "#46039f"
             ],
             [
              0.2222222222222222,
              "#7201a8"
             ],
             [
              0.3333333333333333,
              "#9c179e"
             ],
             [
              0.4444444444444444,
              "#bd3786"
             ],
             [
              0.5555555555555556,
              "#d8576b"
             ],
             [
              0.6666666666666666,
              "#ed7953"
             ],
             [
              0.7777777777777778,
              "#fb9f3a"
             ],
             [
              0.8888888888888888,
              "#fdca26"
             ],
             [
              1,
              "#f0f921"
             ]
            ],
            "type": "contour"
           }
          ],
          "contourcarpet": [
           {
            "colorbar": {
             "outlinewidth": 0,
             "ticks": ""
            },
            "type": "contourcarpet"
           }
          ],
          "heatmap": [
           {
            "colorbar": {
             "outlinewidth": 0,
             "ticks": ""
            },
            "colorscale": [
             [
              0,
              "#0d0887"
             ],
             [
              0.1111111111111111,
              "#46039f"
             ],
             [
              0.2222222222222222,
              "#7201a8"
             ],
             [
              0.3333333333333333,
              "#9c179e"
             ],
             [
              0.4444444444444444,
              "#bd3786"
             ],
             [
              0.5555555555555556,
              "#d8576b"
             ],
             [
              0.6666666666666666,
              "#ed7953"
             ],
             [
              0.7777777777777778,
              "#fb9f3a"
             ],
             [
              0.8888888888888888,
              "#fdca26"
             ],
             [
              1,
              "#f0f921"
             ]
            ],
            "type": "heatmap"
           }
          ],
          "heatmapgl": [
           {
            "colorbar": {
             "outlinewidth": 0,
             "ticks": ""
            },
            "colorscale": [
             [
              0,
              "#0d0887"
             ],
             [
              0.1111111111111111,
              "#46039f"
             ],
             [
              0.2222222222222222,
              "#7201a8"
             ],
             [
              0.3333333333333333,
              "#9c179e"
             ],
             [
              0.4444444444444444,
              "#bd3786"
             ],
             [
              0.5555555555555556,
              "#d8576b"
             ],
             [
              0.6666666666666666,
              "#ed7953"
             ],
             [
              0.7777777777777778,
              "#fb9f3a"
             ],
             [
              0.8888888888888888,
              "#fdca26"
             ],
             [
              1,
              "#f0f921"
             ]
            ],
            "type": "heatmapgl"
           }
          ],
          "histogram": [
           {
            "marker": {
             "pattern": {
              "fillmode": "overlay",
              "size": 10,
              "solidity": 0.2
             }
            },
            "type": "histogram"
           }
          ],
          "histogram2d": [
           {
            "colorbar": {
             "outlinewidth": 0,
             "ticks": ""
            },
            "colorscale": [
             [
              0,
              "#0d0887"
             ],
             [
              0.1111111111111111,
              "#46039f"
             ],
             [
              0.2222222222222222,
              "#7201a8"
             ],
             [
              0.3333333333333333,
              "#9c179e"
             ],
             [
              0.4444444444444444,
              "#bd3786"
             ],
             [
              0.5555555555555556,
              "#d8576b"
             ],
             [
              0.6666666666666666,
              "#ed7953"
             ],
             [
              0.7777777777777778,
              "#fb9f3a"
             ],
             [
              0.8888888888888888,
              "#fdca26"
             ],
             [
              1,
              "#f0f921"
             ]
            ],
            "type": "histogram2d"
           }
          ],
          "histogram2dcontour": [
           {
            "colorbar": {
             "outlinewidth": 0,
             "ticks": ""
            },
            "colorscale": [
             [
              0,
              "#0d0887"
             ],
             [
              0.1111111111111111,
              "#46039f"
             ],
             [
              0.2222222222222222,
              "#7201a8"
             ],
             [
              0.3333333333333333,
              "#9c179e"
             ],
             [
              0.4444444444444444,
              "#bd3786"
             ],
             [
              0.5555555555555556,
              "#d8576b"
             ],
             [
              0.6666666666666666,
              "#ed7953"
             ],
             [
              0.7777777777777778,
              "#fb9f3a"
             ],
             [
              0.8888888888888888,
              "#fdca26"
             ],
             [
              1,
              "#f0f921"
             ]
            ],
            "type": "histogram2dcontour"
           }
          ],
          "mesh3d": [
           {
            "colorbar": {
             "outlinewidth": 0,
             "ticks": ""
            },
            "type": "mesh3d"
           }
          ],
          "parcoords": [
           {
            "line": {
             "colorbar": {
              "outlinewidth": 0,
              "ticks": ""
             }
            },
            "type": "parcoords"
           }
          ],
          "pie": [
           {
            "automargin": true,
            "type": "pie"
           }
          ],
          "scatter": [
           {
            "marker": {
             "colorbar": {
              "outlinewidth": 0,
              "ticks": ""
             }
            },
            "type": "scatter"
           }
          ],
          "scatter3d": [
           {
            "line": {
             "colorbar": {
              "outlinewidth": 0,
              "ticks": ""
             }
            },
            "marker": {
             "colorbar": {
              "outlinewidth": 0,
              "ticks": ""
             }
            },
            "type": "scatter3d"
           }
          ],
          "scattercarpet": [
           {
            "marker": {
             "colorbar": {
              "outlinewidth": 0,
              "ticks": ""
             }
            },
            "type": "scattercarpet"
           }
          ],
          "scattergeo": [
           {
            "marker": {
             "colorbar": {
              "outlinewidth": 0,
              "ticks": ""
             }
            },
            "type": "scattergeo"
           }
          ],
          "scattergl": [
           {
            "marker": {
             "colorbar": {
              "outlinewidth": 0,
              "ticks": ""
             }
            },
            "type": "scattergl"
           }
          ],
          "scattermapbox": [
           {
            "marker": {
             "colorbar": {
              "outlinewidth": 0,
              "ticks": ""
             }
            },
            "type": "scattermapbox"
           }
          ],
          "scatterpolar": [
           {
            "marker": {
             "colorbar": {
              "outlinewidth": 0,
              "ticks": ""
             }
            },
            "type": "scatterpolar"
           }
          ],
          "scatterpolargl": [
           {
            "marker": {
             "colorbar": {
              "outlinewidth": 0,
              "ticks": ""
             }
            },
            "type": "scatterpolargl"
           }
          ],
          "scatterternary": [
           {
            "marker": {
             "colorbar": {
              "outlinewidth": 0,
              "ticks": ""
             }
            },
            "type": "scatterternary"
           }
          ],
          "surface": [
           {
            "colorbar": {
             "outlinewidth": 0,
             "ticks": ""
            },
            "colorscale": [
             [
              0,
              "#0d0887"
             ],
             [
              0.1111111111111111,
              "#46039f"
             ],
             [
              0.2222222222222222,
              "#7201a8"
             ],
             [
              0.3333333333333333,
              "#9c179e"
             ],
             [
              0.4444444444444444,
              "#bd3786"
             ],
             [
              0.5555555555555556,
              "#d8576b"
             ],
             [
              0.6666666666666666,
              "#ed7953"
             ],
             [
              0.7777777777777778,
              "#fb9f3a"
             ],
             [
              0.8888888888888888,
              "#fdca26"
             ],
             [
              1,
              "#f0f921"
             ]
            ],
            "type": "surface"
           }
          ],
          "table": [
           {
            "cells": {
             "fill": {
              "color": "#EBF0F8"
             },
             "line": {
              "color": "white"
             }
            },
            "header": {
             "fill": {
              "color": "#C8D4E3"
             },
             "line": {
              "color": "white"
             }
            },
            "type": "table"
           }
          ]
         },
         "layout": {
          "annotationdefaults": {
           "arrowcolor": "#2a3f5f",
           "arrowhead": 0,
           "arrowwidth": 1
          },
          "autotypenumbers": "strict",
          "coloraxis": {
           "colorbar": {
            "outlinewidth": 0,
            "ticks": ""
           }
          },
          "colorscale": {
           "diverging": [
            [
             0,
             "#8e0152"
            ],
            [
             0.1,
             "#c51b7d"
            ],
            [
             0.2,
             "#de77ae"
            ],
            [
             0.3,
             "#f1b6da"
            ],
            [
             0.4,
             "#fde0ef"
            ],
            [
             0.5,
             "#f7f7f7"
            ],
            [
             0.6,
             "#e6f5d0"
            ],
            [
             0.7,
             "#b8e186"
            ],
            [
             0.8,
             "#7fbc41"
            ],
            [
             0.9,
             "#4d9221"
            ],
            [
             1,
             "#276419"
            ]
           ],
           "sequential": [
            [
             0,
             "#0d0887"
            ],
            [
             0.1111111111111111,
             "#46039f"
            ],
            [
             0.2222222222222222,
             "#7201a8"
            ],
            [
             0.3333333333333333,
             "#9c179e"
            ],
            [
             0.4444444444444444,
             "#bd3786"
            ],
            [
             0.5555555555555556,
             "#d8576b"
            ],
            [
             0.6666666666666666,
             "#ed7953"
            ],
            [
             0.7777777777777778,
             "#fb9f3a"
            ],
            [
             0.8888888888888888,
             "#fdca26"
            ],
            [
             1,
             "#f0f921"
            ]
           ],
           "sequentialminus": [
            [
             0,
             "#0d0887"
            ],
            [
             0.1111111111111111,
             "#46039f"
            ],
            [
             0.2222222222222222,
             "#7201a8"
            ],
            [
             0.3333333333333333,
             "#9c179e"
            ],
            [
             0.4444444444444444,
             "#bd3786"
            ],
            [
             0.5555555555555556,
             "#d8576b"
            ],
            [
             0.6666666666666666,
             "#ed7953"
            ],
            [
             0.7777777777777778,
             "#fb9f3a"
            ],
            [
             0.8888888888888888,
             "#fdca26"
            ],
            [
             1,
             "#f0f921"
            ]
           ]
          },
          "colorway": [
           "#636efa",
           "#EF553B",
           "#00cc96",
           "#ab63fa",
           "#FFA15A",
           "#19d3f3",
           "#FF6692",
           "#B6E880",
           "#FF97FF",
           "#FECB52"
          ],
          "font": {
           "color": "#2a3f5f"
          },
          "geo": {
           "bgcolor": "white",
           "lakecolor": "white",
           "landcolor": "#E5ECF6",
           "showlakes": true,
           "showland": true,
           "subunitcolor": "white"
          },
          "hoverlabel": {
           "align": "left"
          },
          "hovermode": "closest",
          "mapbox": {
           "style": "light"
          },
          "paper_bgcolor": "white",
          "plot_bgcolor": "#E5ECF6",
          "polar": {
           "angularaxis": {
            "gridcolor": "white",
            "linecolor": "white",
            "ticks": ""
           },
           "bgcolor": "#E5ECF6",
           "radialaxis": {
            "gridcolor": "white",
            "linecolor": "white",
            "ticks": ""
           }
          },
          "scene": {
           "xaxis": {
            "backgroundcolor": "#E5ECF6",
            "gridcolor": "white",
            "gridwidth": 2,
            "linecolor": "white",
            "showbackground": true,
            "ticks": "",
            "zerolinecolor": "white"
           },
           "yaxis": {
            "backgroundcolor": "#E5ECF6",
            "gridcolor": "white",
            "gridwidth": 2,
            "linecolor": "white",
            "showbackground": true,
            "ticks": "",
            "zerolinecolor": "white"
           },
           "zaxis": {
            "backgroundcolor": "#E5ECF6",
            "gridcolor": "white",
            "gridwidth": 2,
            "linecolor": "white",
            "showbackground": true,
            "ticks": "",
            "zerolinecolor": "white"
           }
          },
          "shapedefaults": {
           "line": {
            "color": "#2a3f5f"
           }
          },
          "ternary": {
           "aaxis": {
            "gridcolor": "white",
            "linecolor": "white",
            "ticks": ""
           },
           "baxis": {
            "gridcolor": "white",
            "linecolor": "white",
            "ticks": ""
           },
           "bgcolor": "#E5ECF6",
           "caxis": {
            "gridcolor": "white",
            "linecolor": "white",
            "ticks": ""
           }
          },
          "title": {
           "x": 0.05
          },
          "xaxis": {
           "automargin": true,
           "gridcolor": "white",
           "linecolor": "white",
           "ticks": "",
           "title": {
            "standoff": 15
           },
           "zerolinecolor": "white",
           "zerolinewidth": 2
          },
          "yaxis": {
           "automargin": true,
           "gridcolor": "white",
           "linecolor": "white",
           "ticks": "",
           "title": {
            "standoff": 15
           },
           "zerolinecolor": "white",
           "zerolinewidth": 2
          }
         }
        },
        "title": {
         "text": "Polyphen_score of different mapper"
        }
       }
      },
      "text/html": [
       "<div>                            <div id=\"80d667cf-e741-4178-bb66-4cbe79b8459f\" class=\"plotly-graph-div\" style=\"height:525px; width:100%;\"></div>            <script type=\"text/javascript\">                require([\"plotly\"], function(Plotly) {                    window.PLOTLYENV=window.PLOTLYENV || {};                                    if (document.getElementById(\"80d667cf-e741-4178-bb66-4cbe79b8459f\")) {                    Plotly.newPlot(                        \"80d667cf-e741-4178-bb66-4cbe79b8459f\",                        [{\"domain\":{\"x\":[0.0,0.2888888888888889],\"y\":[0.625,1.0]},\"labels\":[\"Unknown\",\"benign\",\"possibly_damaging\",\"probably_damaging\",\"N/A\"],\"name\":\"BWA\",\"scalegroup\":\"one\",\"type\":\"pie\",\"values\":[1.9626130327237339,68.19472040874255,11.641863671383966,18.200802887149752,0.0]},{\"domain\":{\"x\":[0.35555555555555557,0.6444444444444445],\"y\":[0.625,1.0]},\"labels\":[\"Unknown\",\"benign\",\"possibly_damaging\",\"probably_damaging\",\"N/A\"],\"name\":\"VGb\",\"scalegroup\":\"one\",\"type\":\"pie\",\"values\":[1.9949360885367746,69.45113733817944,11.579613672560951,16.974312900722833,0.0]},{\"domain\":{\"x\":[0.7111111111111111,1.0],\"y\":[0.625,1.0]},\"labels\":[\"Unknown\",\"benign\",\"possibly_damaging\",\"probably_damaging\",\"N/A\"],\"name\":\"VGg\",\"scalegroup\":\"one\",\"type\":\"pie\",\"values\":[2.512488546008099,80.02423812479678,9.913984215660193,7.549289113534924,0.0]},{\"domain\":{\"x\":[0.0,0.2888888888888889],\"y\":[0.0,0.375]},\"labels\":[\"Unknown\",\"benign\",\"possibly_damaging\",\"probably_damaging\",\"N/A\"],\"name\":\"BWA\",\"scalegroup\":\"one\",\"type\":\"pie\",\"values\":[0.005582870737509913,0.19398745584312593,0.033116574147501986,0.05177420517626703,99.7155388940956]},{\"domain\":{\"x\":[0.35555555555555557,0.6444444444444445],\"y\":[0.0,0.375]},\"labels\":[\"Unknown\",\"benign\",\"possibly_damaging\",\"probably_damaging\",\"N/A\"],\"name\":\"VGb\",\"scalegroup\":\"one\",\"type\":\"pie\",\"values\":[0.00544420718523901,0.18953307982756853,0.03160092011002091,0.04632312623428034,99.72709866664289]},{\"domain\":{\"x\":[0.7111111111111111,1.0],\"y\":[0.0,0.375]},\"labels\":[\"Unknown\",\"benign\",\"possibly_damaging\",\"probably_damaging\",\"N/A\"],\"name\":\"VGg\",\"scalegroup\":\"one\",\"type\":\"pie\",\"values\":[0.005578151443924189,0.17766740475454065,0.0220107293446138,0.016760704456214564,99.77798301000071]}],                        {\"annotations\":[{\"font\":{\"size\":16},\"showarrow\":false,\"text\":\"BWA\",\"x\":0.14444444444444446,\"xanchor\":\"center\",\"xref\":\"paper\",\"y\":1.0,\"yanchor\":\"bottom\",\"yref\":\"paper\"},{\"font\":{\"size\":16},\"showarrow\":false,\"text\":\"VGbam\",\"x\":0.5,\"xanchor\":\"center\",\"xref\":\"paper\",\"y\":1.0,\"yanchor\":\"bottom\",\"yref\":\"paper\"},{\"font\":{\"size\":16},\"showarrow\":false,\"text\":\"VGgam\",\"x\":0.8555555555555556,\"xanchor\":\"center\",\"xref\":\"paper\",\"y\":1.0,\"yanchor\":\"bottom\",\"yref\":\"paper\"},{\"font\":{\"size\":16},\"showarrow\":false,\"text\":\" \",\"x\":0.14444444444444446,\"xanchor\":\"center\",\"xref\":\"paper\",\"y\":0.375,\"yanchor\":\"bottom\",\"yref\":\"paper\"},{\"font\":{\"size\":16},\"showarrow\":false,\"text\":\" \",\"x\":0.5,\"xanchor\":\"center\",\"xref\":\"paper\",\"y\":0.375,\"yanchor\":\"bottom\",\"yref\":\"paper\"},{\"font\":{\"size\":16},\"showarrow\":false,\"text\":\" \",\"x\":0.8555555555555556,\"xanchor\":\"center\",\"xref\":\"paper\",\"y\":0.375,\"yanchor\":\"bottom\",\"yref\":\"paper\"}],\"template\":{\"data\":{\"bar\":[{\"error_x\":{\"color\":\"#2a3f5f\"},\"error_y\":{\"color\":\"#2a3f5f\"},\"marker\":{\"line\":{\"color\":\"#E5ECF6\",\"width\":0.5},\"pattern\":{\"fillmode\":\"overlay\",\"size\":10,\"solidity\":0.2}},\"type\":\"bar\"}],\"barpolar\":[{\"marker\":{\"line\":{\"color\":\"#E5ECF6\",\"width\":0.5},\"pattern\":{\"fillmode\":\"overlay\",\"size\":10,\"solidity\":0.2}},\"type\":\"barpolar\"}],\"carpet\":[{\"aaxis\":{\"endlinecolor\":\"#2a3f5f\",\"gridcolor\":\"white\",\"linecolor\":\"white\",\"minorgridcolor\":\"white\",\"startlinecolor\":\"#2a3f5f\"},\"baxis\":{\"endlinecolor\":\"#2a3f5f\",\"gridcolor\":\"white\",\"linecolor\":\"white\",\"minorgridcolor\":\"white\",\"startlinecolor\":\"#2a3f5f\"},\"type\":\"carpet\"}],\"choropleth\":[{\"colorbar\":{\"outlinewidth\":0,\"ticks\":\"\"},\"type\":\"choropleth\"}],\"contour\":[{\"colorbar\":{\"outlinewidth\":0,\"ticks\":\"\"},\"colorscale\":[[0.0,\"#0d0887\"],[0.1111111111111111,\"#46039f\"],[0.2222222222222222,\"#7201a8\"],[0.3333333333333333,\"#9c179e\"],[0.4444444444444444,\"#bd3786\"],[0.5555555555555556,\"#d8576b\"],[0.6666666666666666,\"#ed7953\"],[0.7777777777777778,\"#fb9f3a\"],[0.8888888888888888,\"#fdca26\"],[1.0,\"#f0f921\"]],\"type\":\"contour\"}],\"contourcarpet\":[{\"colorbar\":{\"outlinewidth\":0,\"ticks\":\"\"},\"type\":\"contourcarpet\"}],\"heatmap\":[{\"colorbar\":{\"outlinewidth\":0,\"ticks\":\"\"},\"colorscale\":[[0.0,\"#0d0887\"],[0.1111111111111111,\"#46039f\"],[0.2222222222222222,\"#7201a8\"],[0.3333333333333333,\"#9c179e\"],[0.4444444444444444,\"#bd3786\"],[0.5555555555555556,\"#d8576b\"],[0.6666666666666666,\"#ed7953\"],[0.7777777777777778,\"#fb9f3a\"],[0.8888888888888888,\"#fdca26\"],[1.0,\"#f0f921\"]],\"type\":\"heatmap\"}],\"heatmapgl\":[{\"colorbar\":{\"outlinewidth\":0,\"ticks\":\"\"},\"colorscale\":[[0.0,\"#0d0887\"],[0.1111111111111111,\"#46039f\"],[0.2222222222222222,\"#7201a8\"],[0.3333333333333333,\"#9c179e\"],[0.4444444444444444,\"#bd3786\"],[0.5555555555555556,\"#d8576b\"],[0.6666666666666666,\"#ed7953\"],[0.7777777777777778,\"#fb9f3a\"],[0.8888888888888888,\"#fdca26\"],[1.0,\"#f0f921\"]],\"type\":\"heatmapgl\"}],\"histogram\":[{\"marker\":{\"pattern\":{\"fillmode\":\"overlay\",\"size\":10,\"solidity\":0.2}},\"type\":\"histogram\"}],\"histogram2d\":[{\"colorbar\":{\"outlinewidth\":0,\"ticks\":\"\"},\"colorscale\":[[0.0,\"#0d0887\"],[0.1111111111111111,\"#46039f\"],[0.2222222222222222,\"#7201a8\"],[0.3333333333333333,\"#9c179e\"],[0.4444444444444444,\"#bd3786\"],[0.5555555555555556,\"#d8576b\"],[0.6666666666666666,\"#ed7953\"],[0.7777777777777778,\"#fb9f3a\"],[0.8888888888888888,\"#fdca26\"],[1.0,\"#f0f921\"]],\"type\":\"histogram2d\"}],\"histogram2dcontour\":[{\"colorbar\":{\"outlinewidth\":0,\"ticks\":\"\"},\"colorscale\":[[0.0,\"#0d0887\"],[0.1111111111111111,\"#46039f\"],[0.2222222222222222,\"#7201a8\"],[0.3333333333333333,\"#9c179e\"],[0.4444444444444444,\"#bd3786\"],[0.5555555555555556,\"#d8576b\"],[0.6666666666666666,\"#ed7953\"],[0.7777777777777778,\"#fb9f3a\"],[0.8888888888888888,\"#fdca26\"],[1.0,\"#f0f921\"]],\"type\":\"histogram2dcontour\"}],\"mesh3d\":[{\"colorbar\":{\"outlinewidth\":0,\"ticks\":\"\"},\"type\":\"mesh3d\"}],\"parcoords\":[{\"line\":{\"colorbar\":{\"outlinewidth\":0,\"ticks\":\"\"}},\"type\":\"parcoords\"}],\"pie\":[{\"automargin\":true,\"type\":\"pie\"}],\"scatter\":[{\"marker\":{\"colorbar\":{\"outlinewidth\":0,\"ticks\":\"\"}},\"type\":\"scatter\"}],\"scatter3d\":[{\"line\":{\"colorbar\":{\"outlinewidth\":0,\"ticks\":\"\"}},\"marker\":{\"colorbar\":{\"outlinewidth\":0,\"ticks\":\"\"}},\"type\":\"scatter3d\"}],\"scattercarpet\":[{\"marker\":{\"colorbar\":{\"outlinewidth\":0,\"ticks\":\"\"}},\"type\":\"scattercarpet\"}],\"scattergeo\":[{\"marker\":{\"colorbar\":{\"outlinewidth\":0,\"ticks\":\"\"}},\"type\":\"scattergeo\"}],\"scattergl\":[{\"marker\":{\"colorbar\":{\"outlinewidth\":0,\"ticks\":\"\"}},\"type\":\"scattergl\"}],\"scattermapbox\":[{\"marker\":{\"colorbar\":{\"outlinewidth\":0,\"ticks\":\"\"}},\"type\":\"scattermapbox\"}],\"scatterpolar\":[{\"marker\":{\"colorbar\":{\"outlinewidth\":0,\"ticks\":\"\"}},\"type\":\"scatterpolar\"}],\"scatterpolargl\":[{\"marker\":{\"colorbar\":{\"outlinewidth\":0,\"ticks\":\"\"}},\"type\":\"scatterpolargl\"}],\"scatterternary\":[{\"marker\":{\"colorbar\":{\"outlinewidth\":0,\"ticks\":\"\"}},\"type\":\"scatterternary\"}],\"surface\":[{\"colorbar\":{\"outlinewidth\":0,\"ticks\":\"\"},\"colorscale\":[[0.0,\"#0d0887\"],[0.1111111111111111,\"#46039f\"],[0.2222222222222222,\"#7201a8\"],[0.3333333333333333,\"#9c179e\"],[0.4444444444444444,\"#bd3786\"],[0.5555555555555556,\"#d8576b\"],[0.6666666666666666,\"#ed7953\"],[0.7777777777777778,\"#fb9f3a\"],[0.8888888888888888,\"#fdca26\"],[1.0,\"#f0f921\"]],\"type\":\"surface\"}],\"table\":[{\"cells\":{\"fill\":{\"color\":\"#EBF0F8\"},\"line\":{\"color\":\"white\"}},\"header\":{\"fill\":{\"color\":\"#C8D4E3\"},\"line\":{\"color\":\"white\"}},\"type\":\"table\"}]},\"layout\":{\"annotationdefaults\":{\"arrowcolor\":\"#2a3f5f\",\"arrowhead\":0,\"arrowwidth\":1},\"autotypenumbers\":\"strict\",\"coloraxis\":{\"colorbar\":{\"outlinewidth\":0,\"ticks\":\"\"}},\"colorscale\":{\"diverging\":[[0,\"#8e0152\"],[0.1,\"#c51b7d\"],[0.2,\"#de77ae\"],[0.3,\"#f1b6da\"],[0.4,\"#fde0ef\"],[0.5,\"#f7f7f7\"],[0.6,\"#e6f5d0\"],[0.7,\"#b8e186\"],[0.8,\"#7fbc41\"],[0.9,\"#4d9221\"],[1,\"#276419\"]],\"sequential\":[[0.0,\"#0d0887\"],[0.1111111111111111,\"#46039f\"],[0.2222222222222222,\"#7201a8\"],[0.3333333333333333,\"#9c179e\"],[0.4444444444444444,\"#bd3786\"],[0.5555555555555556,\"#d8576b\"],[0.6666666666666666,\"#ed7953\"],[0.7777777777777778,\"#fb9f3a\"],[0.8888888888888888,\"#fdca26\"],[1.0,\"#f0f921\"]],\"sequentialminus\":[[0.0,\"#0d0887\"],[0.1111111111111111,\"#46039f\"],[0.2222222222222222,\"#7201a8\"],[0.3333333333333333,\"#9c179e\"],[0.4444444444444444,\"#bd3786\"],[0.5555555555555556,\"#d8576b\"],[0.6666666666666666,\"#ed7953\"],[0.7777777777777778,\"#fb9f3a\"],[0.8888888888888888,\"#fdca26\"],[1.0,\"#f0f921\"]]},\"colorway\":[\"#636efa\",\"#EF553B\",\"#00cc96\",\"#ab63fa\",\"#FFA15A\",\"#19d3f3\",\"#FF6692\",\"#B6E880\",\"#FF97FF\",\"#FECB52\"],\"font\":{\"color\":\"#2a3f5f\"},\"geo\":{\"bgcolor\":\"white\",\"lakecolor\":\"white\",\"landcolor\":\"#E5ECF6\",\"showlakes\":true,\"showland\":true,\"subunitcolor\":\"white\"},\"hoverlabel\":{\"align\":\"left\"},\"hovermode\":\"closest\",\"mapbox\":{\"style\":\"light\"},\"paper_bgcolor\":\"white\",\"plot_bgcolor\":\"#E5ECF6\",\"polar\":{\"angularaxis\":{\"gridcolor\":\"white\",\"linecolor\":\"white\",\"ticks\":\"\"},\"bgcolor\":\"#E5ECF6\",\"radialaxis\":{\"gridcolor\":\"white\",\"linecolor\":\"white\",\"ticks\":\"\"}},\"scene\":{\"xaxis\":{\"backgroundcolor\":\"#E5ECF6\",\"gridcolor\":\"white\",\"gridwidth\":2,\"linecolor\":\"white\",\"showbackground\":true,\"ticks\":\"\",\"zerolinecolor\":\"white\"},\"yaxis\":{\"backgroundcolor\":\"#E5ECF6\",\"gridcolor\":\"white\",\"gridwidth\":2,\"linecolor\":\"white\",\"showbackground\":true,\"ticks\":\"\",\"zerolinecolor\":\"white\"},\"zaxis\":{\"backgroundcolor\":\"#E5ECF6\",\"gridcolor\":\"white\",\"gridwidth\":2,\"linecolor\":\"white\",\"showbackground\":true,\"ticks\":\"\",\"zerolinecolor\":\"white\"}},\"shapedefaults\":{\"line\":{\"color\":\"#2a3f5f\"}},\"ternary\":{\"aaxis\":{\"gridcolor\":\"white\",\"linecolor\":\"white\",\"ticks\":\"\"},\"baxis\":{\"gridcolor\":\"white\",\"linecolor\":\"white\",\"ticks\":\"\"},\"bgcolor\":\"#E5ECF6\",\"caxis\":{\"gridcolor\":\"white\",\"linecolor\":\"white\",\"ticks\":\"\"}},\"title\":{\"x\":0.05},\"xaxis\":{\"automargin\":true,\"gridcolor\":\"white\",\"linecolor\":\"white\",\"ticks\":\"\",\"title\":{\"standoff\":15},\"zerolinecolor\":\"white\",\"zerolinewidth\":2},\"yaxis\":{\"automargin\":true,\"gridcolor\":\"white\",\"linecolor\":\"white\",\"ticks\":\"\",\"title\":{\"standoff\":15},\"zerolinecolor\":\"white\",\"zerolinewidth\":2}}},\"title\":{\"text\":\"Polyphen_score of different mapper\"}},                        {\"responsive\": true}                    ).then(function(){\n",
       "                            \n",
       "var gd = document.getElementById('80d667cf-e741-4178-bb66-4cbe79b8459f');\n",
       "var x = new MutationObserver(function (mutations, observer) {{\n",
       "        var display = window.getComputedStyle(gd).display;\n",
       "        if (!display || display === 'none') {{\n",
       "            console.log([gd, 'removed!']);\n",
       "            Plotly.purge(gd);\n",
       "            observer.disconnect();\n",
       "        }}\n",
       "}});\n",
       "\n",
       "// Listen for the removal of the full notebook cells\n",
       "var notebookContainer = gd.closest('#notebook-container');\n",
       "if (notebookContainer) {{\n",
       "    x.observe(notebookContainer, {childList: true});\n",
       "}}\n",
       "\n",
       "// Listen for the clearing of the current output cell\n",
       "var outputEl = gd.closest('.output');\n",
       "if (outputEl) {{\n",
       "    x.observe(outputEl, {childList: true});\n",
       "}}\n",
       "\n",
       "                        })                };                });            </script>        </div>"
      ]
     },
     "metadata": {},
     "output_type": "display_data"
    }
   ],
   "source": [
    "fig = make_subplots(2, 3, specs=[[{'type':'domain'}, {'type':'domain'}, {'type':'domain'}],\n",
    "                                  [{'type':'domain'}, {'type':'domain'}, {'type':'domain'}]],\n",
    "                    subplot_titles=['BWA', 'VGbam','VGgam',' ', ' ',' '])\n",
    "\n",
    "fig.add_trace(go.Pie(labels=count_poly_bwa[\"ID\"], values=count_poly_bwa[\"pct_poly\"], scalegroup='one',\n",
    "                     name=\"BWA\"), 1, 1)\n",
    "fig.add_trace(go.Pie(labels=count_poly_VGbam[\"ID\"], values=count_poly_VGbam[\"pct_poly\"], scalegroup='one',\n",
    "                     name=\"VGb\"), 1, 2)\n",
    "fig.add_trace(go.Pie(labels=count_poly_VGgam[\"ID\"], values=count_poly_VGgam[\"pct_poly\"], scalegroup='one',\n",
    "                     name=\"VGg\"), 1, 3)\n",
    "\n",
    "\n",
    "\n",
    "fig.add_trace(go.Pie(labels=count_poly_bwa[\"ID\"], values=count_poly_bwa[\"pct_ovr\"], scalegroup='one',\n",
    "                     name=\"BWA\"), 2, 1)\n",
    "fig.add_trace(go.Pie(labels=count_poly_VGbam[\"ID\"], values=count_poly_VGbam[\"pct_ovr\"], scalegroup='one',\n",
    "                     name=\"VGb\"), 2, 2)\n",
    "fig.add_trace(go.Pie(labels=count_poly_VGgam[\"ID\"], values=count_poly_VGgam[\"pct_ovr\"], scalegroup='one',\n",
    "                     name=\"VGg\"), 2, 3)\n",
    "\n",
    "fig.update_layout(title_text='Polyphen_score of different mapper')\n",
    "fig.show()"
   ]
  },
  {
   "cell_type": "markdown",
   "id": "1e526abe",
   "metadata": {},
   "source": [
    "Like in the SIFT prediction, VGgam predict more benign mutations than the two others (12%). \n",
    "\n",
    "The same observation can be made with the possible and probable damaging mutation (-15%).\n",
    "\n",
    "The 100% is wrong (rounding problem) but shows that there is even less data predicted using VGgam than the two others"
   ]
  },
  {
   "cell_type": "markdown",
   "id": "b96f18b4",
   "metadata": {},
   "source": [
    "### Check over time trend\n",
    "\n",
    "Take same mapper and analyse the % on different individuals through time "
   ]
  },
  {
   "cell_type": "code",
   "execution_count": 137,
   "id": "af561e6b",
   "metadata": {},
   "outputs": [],
   "source": [
    "dataBWA_BR[\"POLY_score\"] = dataBWA_BR.PolyPhen.apply(lambda x: x.split(\"(\")[0] if(x!= \"-\") else x)\n",
    "poly_avail = dataBWA_BR[dataBWA_BR.POLY_score != \"-\"] \n",
    "\n",
    "count_poly_bwa_BR = pd.DataFrame(columns=['ID', 'vals','pct_poly','pct_ovr'])\n",
    "\n",
    "count_poly_bwa_BR = count_poly_bwa_BR.append({'ID': \"Unknown\", 'vals': sum(poly_avail[\"POLY_score\"]==\"unknown\"),\n",
    "                                            'pct_poly': sum(poly_avail[\"POLY_score\"]==\"unknown\") * 100 / len(poly_avail.POLY_score),\n",
    "                                            'pct_ovr': sum(poly_avail[\"POLY_score\"]==\"unknown\") * 100 / len(dataBWA_BR.POLY_score)}, \n",
    "                                           ignore_index=True)\n",
    "\n",
    "\n",
    "count_poly_bwa_BR = count_poly_bwa_BR.append({'ID': \"benign\", 'vals': sum(poly_avail[\"POLY_score\"]==\"benign\"),\n",
    "                                            'pct_poly': sum(poly_avail[\"POLY_score\"]==\"benign\") * 100 / len(poly_avail.POLY_score),\n",
    "                                            'pct_ovr': sum(poly_avail[\"POLY_score\"]==\"benign\") * 100 / len(dataBWA_BR.POLY_score)}, \n",
    "                                           ignore_index=True)\n",
    "\n",
    "\n",
    "count_poly_bwa_BR = count_poly_bwa_BR.append({'ID': \"possibly_damaging\", 'vals': sum(poly_avail[\"POLY_score\"]==\"possibly_damaging\"),\n",
    "                                            'pct_poly': sum(poly_avail[\"POLY_score\"]==\"possibly_damaging\") * 100 / len(poly_avail.POLY_score),\n",
    "                                            'pct_ovr': sum(poly_avail[\"POLY_score\"]==\"possibly_damaging\") * 100 / len(dataBWA_BR.POLY_score)}, \n",
    "                                           ignore_index=True)\n",
    "\n",
    "count_poly_bwa_BR = count_poly_bwa_BR.append({'ID': \"probably_damaging\", 'vals': sum(poly_avail[\"POLY_score\"]==\"probably_damaging\"),\n",
    "                                            'pct_poly': sum(poly_avail[\"POLY_score\"]==\"probably_damaging\") * 100 / len(poly_avail.POLY_score),\n",
    "                                            'pct_ovr': sum(poly_avail[\"POLY_score\"]==\"probably_damaging\") * 100 / len(dataBWA_BR.POLY_score)}, \n",
    "                                           ignore_index=True)\n",
    "\n",
    "\n",
    "\n",
    "\n",
    "count_poly_bwa_BR = count_poly_bwa_BR.append({'ID': \"N/A\", 'vals': 0 ,\n",
    "                                            'pct_poly': 0,\n",
    "                                            'pct_ovr': (len(dataBWA_BR.POLY_score) - len(poly_avail)) * 100 / len(dataBWA_BR.POLY_score)}, \n",
    "                                           ignore_index=True)\n"
   ]
  },
  {
   "cell_type": "code",
   "execution_count": 138,
   "id": "6c70e354",
   "metadata": {},
   "outputs": [],
   "source": [
    "count_poly_bwa_BOT = count_poly_bwa"
   ]
  },
  {
   "cell_type": "code",
   "execution_count": 139,
   "id": "2ac6dbef",
   "metadata": {},
   "outputs": [],
   "source": [
    "dataBWA_SF12[\"POLY_score\"] = dataBWA_SF12.PolyPhen.apply(lambda x: x.split(\"(\")[0] if(x!= \"-\") else x)\n",
    "poly_avail = dataBWA_SF12[dataBWA_SF12.POLY_score != \"-\"] \n",
    "\n",
    "count_poly_bwa_SF12 = pd.DataFrame(columns=['ID', 'vals','pct_poly','pct_ovr'])\n",
    "\n",
    "count_poly_bwa_SF12 = count_poly_bwa_SF12.append({'ID': \"Unknown\", 'vals': sum(poly_avail[\"POLY_score\"]==\"unknown\"),\n",
    "                                            'pct_poly': sum(poly_avail[\"POLY_score\"]==\"unknown\") * 100 / len(poly_avail.POLY_score),\n",
    "                                            'pct_ovr': sum(poly_avail[\"POLY_score\"]==\"unknown\") * 100 / len(dataBWA_SF12.POLY_score)}, \n",
    "                                           ignore_index=True)\n",
    "\n",
    "\n",
    "count_poly_bwa_SF12 = count_poly_bwa_SF12.append({'ID': \"benign\", 'vals': sum(poly_avail[\"POLY_score\"]==\"benign\"),\n",
    "                                            'pct_poly': sum(poly_avail[\"POLY_score\"]==\"benign\") * 100 / len(poly_avail.POLY_score),\n",
    "                                            'pct_ovr': sum(poly_avail[\"POLY_score\"]==\"benign\") * 100 / len(dataBWA_SF12.POLY_score)}, \n",
    "                                           ignore_index=True)\n",
    "\n",
    "\n",
    "count_poly_bwa_SF12 = count_poly_bwa_SF12.append({'ID': \"possibly_damaging\", 'vals': sum(poly_avail[\"POLY_score\"]==\"possibly_damaging\"),\n",
    "                                            'pct_poly': sum(poly_avail[\"POLY_score\"]==\"possibly_damaging\") * 100 / len(poly_avail.POLY_score),\n",
    "                                            'pct_ovr': sum(poly_avail[\"POLY_score\"]==\"possibly_damaging\") * 100 / len(dataBWA_SF12.POLY_score)}, \n",
    "                                           ignore_index=True)\n",
    "\n",
    "count_poly_bwa_SF12 = count_poly_bwa_SF12.append({'ID': \"probably_damaging\", 'vals': sum(poly_avail[\"POLY_score\"]==\"probably_damaging\"),\n",
    "                                            'pct_poly': sum(poly_avail[\"POLY_score\"]==\"probably_damaging\") * 100 / len(poly_avail.POLY_score),\n",
    "                                            'pct_ovr': sum(poly_avail[\"POLY_score\"]==\"probably_damaging\") * 100 / len(dataBWA_SF12.POLY_score)}, \n",
    "                                           ignore_index=True)\n",
    "\n",
    "\n",
    "\n",
    "\n",
    "count_poly_bwa_SF12 = count_poly_bwa_SF12.append({'ID': \"N/A\", 'vals': 0 ,\n",
    "                                            'pct_poly': 0,\n",
    "                                            'pct_ovr': (len(dataBWA_SF12.POLY_score) - len(poly_avail)) * 100 / len(dataBWA_SF12.POLY_score)}, \n",
    "                                           ignore_index=True)\n"
   ]
  },
  {
   "cell_type": "code",
   "execution_count": 140,
   "id": "152faa1a",
   "metadata": {},
   "outputs": [],
   "source": [
    "dataBWA_Ust[\"POLY_score\"] = dataBWA_Ust.PolyPhen.apply(lambda x: x.split(\"(\")[0] if(x!= \"-\") else x)\n",
    "poly_avail = dataBWA_Ust[dataBWA_Ust.POLY_score != \"-\"] \n",
    "\n",
    "count_poly_bwa_Ust = pd.DataFrame(columns=['ID', 'vals','pct_poly','pct_ovr'])\n",
    "\n",
    "count_poly_bwa_Ust = count_poly_bwa_Ust.append({'ID': \"Unknown\", 'vals': sum(poly_avail[\"POLY_score\"]==\"unknown\"),\n",
    "                                            'pct_poly': sum(poly_avail[\"POLY_score\"]==\"unknown\") * 100 / len(poly_avail.POLY_score),\n",
    "                                            'pct_ovr': sum(poly_avail[\"POLY_score\"]==\"unknown\") * 100 / len(dataBWA_Ust.POLY_score)}, \n",
    "                                           ignore_index=True)\n",
    "\n",
    "\n",
    "count_poly_bwa_Ust = count_poly_bwa_Ust.append({'ID': \"benign\", 'vals': sum(poly_avail[\"POLY_score\"]==\"benign\"),\n",
    "                                            'pct_poly': sum(poly_avail[\"POLY_score\"]==\"benign\") * 100 / len(poly_avail.POLY_score),\n",
    "                                            'pct_ovr': sum(poly_avail[\"POLY_score\"]==\"benign\") * 100 / len(dataBWA_Ust.POLY_score)}, \n",
    "                                           ignore_index=True)\n",
    "\n",
    "\n",
    "count_poly_bwa_Ust = count_poly_bwa_Ust.append({'ID': \"possibly_damaging\", 'vals': sum(poly_avail[\"POLY_score\"]==\"possibly_damaging\"),\n",
    "                                            'pct_poly': sum(poly_avail[\"POLY_score\"]==\"possibly_damaging\") * 100 / len(poly_avail.POLY_score),\n",
    "                                            'pct_ovr': sum(poly_avail[\"POLY_score\"]==\"possibly_damaging\") * 100 / len(dataBWA_Ust.POLY_score)}, \n",
    "                                           ignore_index=True)\n",
    "\n",
    "count_poly_bwa_Ust = count_poly_bwa_Ust.append({'ID': \"probably_damaging\", 'vals': sum(poly_avail[\"POLY_score\"]==\"probably_damaging\"),\n",
    "                                            'pct_poly': sum(poly_avail[\"POLY_score\"]==\"probably_damaging\") * 100 / len(poly_avail.POLY_score),\n",
    "                                            'pct_ovr': sum(poly_avail[\"POLY_score\"]==\"probably_damaging\") * 100 / len(dataBWA_Ust.POLY_score)}, \n",
    "                                           ignore_index=True)\n",
    "\n",
    "\n",
    "\n",
    "\n",
    "count_poly_bwa_Ust = count_poly_bwa_Ust.append({'ID': \"N/A\", 'vals': 0 ,\n",
    "                                            'pct_poly': 0,\n",
    "                                            'pct_ovr': (len(dataBWA_Ust.POLY_score) - len(poly_avail)) * 100 / len(dataBWA_Ust.POLY_score)}, \n",
    "                                           ignore_index=True)\n"
   ]
  },
  {
   "cell_type": "code",
   "execution_count": 141,
   "id": "548122db",
   "metadata": {},
   "outputs": [
    {
     "data": {
      "application/vnd.plotly.v1+json": {
       "config": {
        "plotlyServerURL": "https://plot.ly"
       },
       "data": [
        {
         "domain": {
          "x": [
           0,
           0.2125
          ],
          "y": [
           0.625,
           1
          ]
         },
         "labels": [
          "Unknown",
          "benign",
          "possibly_damaging",
          "probably_damaging",
          "N/A"
         ],
         "name": "BWA",
         "scalegroup": "one",
         "type": "pie",
         "values": [
          2.198989780335957,
          71.83131680958535,
          11.225185011159404,
          14.744508398919299,
          0
         ]
        },
        {
         "domain": {
          "x": [
           0.2625,
           0.475
          ],
          "y": [
           0.625,
           1
          ]
         },
         "labels": [
          "Unknown",
          "benign",
          "possibly_damaging",
          "probably_damaging",
          "N/A"
         ],
         "name": "BWA",
         "scalegroup": "one",
         "type": "pie",
         "values": [
          1.9626130327237339,
          68.19472040874255,
          11.641863671383966,
          18.200802887149752,
          0
         ]
        },
        {
         "domain": {
          "x": [
           0.525,
           0.7375
          ],
          "y": [
           0.625,
           1
          ]
         },
         "labels": [
          "Unknown",
          "benign",
          "possibly_damaging",
          "probably_damaging",
          "N/A"
         ],
         "name": "BWA",
         "scalegroup": "one",
         "type": "pie",
         "values": [
          2.7118073100892706,
          82.11891527707597,
          7.886137780023581,
          7.283139632811184,
          0
         ]
        },
        {
         "domain": {
          "x": [
           0.7875,
           1
          ],
          "y": [
           0.625,
           1
          ]
         },
         "labels": [
          "Unknown",
          "benign",
          "possibly_damaging",
          "probably_damaging",
          "N/A"
         ],
         "name": "BWA",
         "scalegroup": "one",
         "type": "pie",
         "values": [
          2.562408002643516,
          80.3809066057857,
          8.354110967586891,
          8.702574423983899,
          0
         ]
        },
        {
         "domain": {
          "x": [
           0,
           0.2125
          ],
          "y": [
           0,
           0.375
          ]
         },
         "labels": [
          "Unknown",
          "benign",
          "possibly_damaging",
          "probably_damaging",
          "N/A"
         ],
         "name": "BWA",
         "scalegroup": "one",
         "type": "pie",
         "values": [
          0.005957254787522988,
          0.1945972918039694,
          0.030410003605539356,
          0.03994415710095542,
          99.72909129270201
         ]
        },
        {
         "domain": {
          "x": [
           0.2625,
           0.475
          ],
          "y": [
           0,
           0.375
          ]
         },
         "labels": [
          "Unknown",
          "benign",
          "possibly_damaging",
          "probably_damaging",
          "N/A"
         ],
         "name": "BWA",
         "scalegroup": "one",
         "type": "pie",
         "values": [
          0.005582870737509913,
          0.19398745584312593,
          0.033116574147501986,
          0.05177420517626703,
          99.7155388940956
         ]
        },
        {
         "domain": {
          "x": [
           0.525,
           0.7375
          ],
          "y": [
           0,
           0.375
          ]
         },
         "labels": [
          "Unknown",
          "benign",
          "possibly_damaging",
          "probably_damaging",
          "N/A"
         ],
         "name": "BWA",
         "scalegroup": "one",
         "type": "pie",
         "values": [
          0.005631126517002749,
          0.17052170323599505,
          0.016375735622737187,
          0.015123596931378812,
          99.79234783769289
         ]
        },
        {
         "domain": {
          "x": [
           0.7875,
           1
          ],
          "y": [
           0,
           0.375
          ]
         },
         "labels": [
          "Unknown",
          "benign",
          "possibly_damaging",
          "probably_damaging",
          "N/A"
         ],
         "name": "BWA",
         "scalegroup": "one",
         "type": "pie",
         "values": [
          0.005693497725237406,
          0.17860095208898302,
          0.01856227101276111,
          0.019336533305993865,
          99.77780674586703
         ]
        }
       ],
       "layout": {
        "annotations": [
         {
          "font": {
           "size": 16
          },
          "showarrow": false,
          "text": "BR2 (2.8k)",
          "x": 0.10625,
          "xanchor": "center",
          "xref": "paper",
          "y": 1,
          "yanchor": "bottom",
          "yref": "paper"
         },
         {
          "font": {
           "size": 16
          },
          "showarrow": false,
          "text": "BOT16(5.4k)",
          "x": 0.36875,
          "xanchor": "center",
          "xref": "paper",
          "y": 1,
          "yanchor": "bottom",
          "yref": "paper"
         },
         {
          "font": {
           "size": 16
          },
          "showarrow": false,
          "text": "SF12(8.8k)",
          "x": 0.6312500000000001,
          "xanchor": "center",
          "xref": "paper",
          "y": 1,
          "yanchor": "bottom",
          "yref": "paper"
         },
         {
          "font": {
           "size": 16
          },
          "showarrow": false,
          "text": "Ust(44k)",
          "x": 0.89375,
          "xanchor": "center",
          "xref": "paper",
          "y": 1,
          "yanchor": "bottom",
          "yref": "paper"
         },
         {
          "font": {
           "size": 16
          },
          "showarrow": false,
          "text": " ",
          "x": 0.10625,
          "xanchor": "center",
          "xref": "paper",
          "y": 0.375,
          "yanchor": "bottom",
          "yref": "paper"
         },
         {
          "font": {
           "size": 16
          },
          "showarrow": false,
          "text": " ",
          "x": 0.36875,
          "xanchor": "center",
          "xref": "paper",
          "y": 0.375,
          "yanchor": "bottom",
          "yref": "paper"
         },
         {
          "font": {
           "size": 16
          },
          "showarrow": false,
          "text": " ",
          "x": 0.6312500000000001,
          "xanchor": "center",
          "xref": "paper",
          "y": 0.375,
          "yanchor": "bottom",
          "yref": "paper"
         },
         {
          "font": {
           "size": 16
          },
          "showarrow": false,
          "text": " ",
          "x": 0.89375,
          "xanchor": "center",
          "xref": "paper",
          "y": 0.375,
          "yanchor": "bottom",
          "yref": "paper"
         }
        ],
        "template": {
         "data": {
          "bar": [
           {
            "error_x": {
             "color": "#2a3f5f"
            },
            "error_y": {
             "color": "#2a3f5f"
            },
            "marker": {
             "line": {
              "color": "#E5ECF6",
              "width": 0.5
             },
             "pattern": {
              "fillmode": "overlay",
              "size": 10,
              "solidity": 0.2
             }
            },
            "type": "bar"
           }
          ],
          "barpolar": [
           {
            "marker": {
             "line": {
              "color": "#E5ECF6",
              "width": 0.5
             },
             "pattern": {
              "fillmode": "overlay",
              "size": 10,
              "solidity": 0.2
             }
            },
            "type": "barpolar"
           }
          ],
          "carpet": [
           {
            "aaxis": {
             "endlinecolor": "#2a3f5f",
             "gridcolor": "white",
             "linecolor": "white",
             "minorgridcolor": "white",
             "startlinecolor": "#2a3f5f"
            },
            "baxis": {
             "endlinecolor": "#2a3f5f",
             "gridcolor": "white",
             "linecolor": "white",
             "minorgridcolor": "white",
             "startlinecolor": "#2a3f5f"
            },
            "type": "carpet"
           }
          ],
          "choropleth": [
           {
            "colorbar": {
             "outlinewidth": 0,
             "ticks": ""
            },
            "type": "choropleth"
           }
          ],
          "contour": [
           {
            "colorbar": {
             "outlinewidth": 0,
             "ticks": ""
            },
            "colorscale": [
             [
              0,
              "#0d0887"
             ],
             [
              0.1111111111111111,
              "#46039f"
             ],
             [
              0.2222222222222222,
              "#7201a8"
             ],
             [
              0.3333333333333333,
              "#9c179e"
             ],
             [
              0.4444444444444444,
              "#bd3786"
             ],
             [
              0.5555555555555556,
              "#d8576b"
             ],
             [
              0.6666666666666666,
              "#ed7953"
             ],
             [
              0.7777777777777778,
              "#fb9f3a"
             ],
             [
              0.8888888888888888,
              "#fdca26"
             ],
             [
              1,
              "#f0f921"
             ]
            ],
            "type": "contour"
           }
          ],
          "contourcarpet": [
           {
            "colorbar": {
             "outlinewidth": 0,
             "ticks": ""
            },
            "type": "contourcarpet"
           }
          ],
          "heatmap": [
           {
            "colorbar": {
             "outlinewidth": 0,
             "ticks": ""
            },
            "colorscale": [
             [
              0,
              "#0d0887"
             ],
             [
              0.1111111111111111,
              "#46039f"
             ],
             [
              0.2222222222222222,
              "#7201a8"
             ],
             [
              0.3333333333333333,
              "#9c179e"
             ],
             [
              0.4444444444444444,
              "#bd3786"
             ],
             [
              0.5555555555555556,
              "#d8576b"
             ],
             [
              0.6666666666666666,
              "#ed7953"
             ],
             [
              0.7777777777777778,
              "#fb9f3a"
             ],
             [
              0.8888888888888888,
              "#fdca26"
             ],
             [
              1,
              "#f0f921"
             ]
            ],
            "type": "heatmap"
           }
          ],
          "heatmapgl": [
           {
            "colorbar": {
             "outlinewidth": 0,
             "ticks": ""
            },
            "colorscale": [
             [
              0,
              "#0d0887"
             ],
             [
              0.1111111111111111,
              "#46039f"
             ],
             [
              0.2222222222222222,
              "#7201a8"
             ],
             [
              0.3333333333333333,
              "#9c179e"
             ],
             [
              0.4444444444444444,
              "#bd3786"
             ],
             [
              0.5555555555555556,
              "#d8576b"
             ],
             [
              0.6666666666666666,
              "#ed7953"
             ],
             [
              0.7777777777777778,
              "#fb9f3a"
             ],
             [
              0.8888888888888888,
              "#fdca26"
             ],
             [
              1,
              "#f0f921"
             ]
            ],
            "type": "heatmapgl"
           }
          ],
          "histogram": [
           {
            "marker": {
             "pattern": {
              "fillmode": "overlay",
              "size": 10,
              "solidity": 0.2
             }
            },
            "type": "histogram"
           }
          ],
          "histogram2d": [
           {
            "colorbar": {
             "outlinewidth": 0,
             "ticks": ""
            },
            "colorscale": [
             [
              0,
              "#0d0887"
             ],
             [
              0.1111111111111111,
              "#46039f"
             ],
             [
              0.2222222222222222,
              "#7201a8"
             ],
             [
              0.3333333333333333,
              "#9c179e"
             ],
             [
              0.4444444444444444,
              "#bd3786"
             ],
             [
              0.5555555555555556,
              "#d8576b"
             ],
             [
              0.6666666666666666,
              "#ed7953"
             ],
             [
              0.7777777777777778,
              "#fb9f3a"
             ],
             [
              0.8888888888888888,
              "#fdca26"
             ],
             [
              1,
              "#f0f921"
             ]
            ],
            "type": "histogram2d"
           }
          ],
          "histogram2dcontour": [
           {
            "colorbar": {
             "outlinewidth": 0,
             "ticks": ""
            },
            "colorscale": [
             [
              0,
              "#0d0887"
             ],
             [
              0.1111111111111111,
              "#46039f"
             ],
             [
              0.2222222222222222,
              "#7201a8"
             ],
             [
              0.3333333333333333,
              "#9c179e"
             ],
             [
              0.4444444444444444,
              "#bd3786"
             ],
             [
              0.5555555555555556,
              "#d8576b"
             ],
             [
              0.6666666666666666,
              "#ed7953"
             ],
             [
              0.7777777777777778,
              "#fb9f3a"
             ],
             [
              0.8888888888888888,
              "#fdca26"
             ],
             [
              1,
              "#f0f921"
             ]
            ],
            "type": "histogram2dcontour"
           }
          ],
          "mesh3d": [
           {
            "colorbar": {
             "outlinewidth": 0,
             "ticks": ""
            },
            "type": "mesh3d"
           }
          ],
          "parcoords": [
           {
            "line": {
             "colorbar": {
              "outlinewidth": 0,
              "ticks": ""
             }
            },
            "type": "parcoords"
           }
          ],
          "pie": [
           {
            "automargin": true,
            "type": "pie"
           }
          ],
          "scatter": [
           {
            "marker": {
             "colorbar": {
              "outlinewidth": 0,
              "ticks": ""
             }
            },
            "type": "scatter"
           }
          ],
          "scatter3d": [
           {
            "line": {
             "colorbar": {
              "outlinewidth": 0,
              "ticks": ""
             }
            },
            "marker": {
             "colorbar": {
              "outlinewidth": 0,
              "ticks": ""
             }
            },
            "type": "scatter3d"
           }
          ],
          "scattercarpet": [
           {
            "marker": {
             "colorbar": {
              "outlinewidth": 0,
              "ticks": ""
             }
            },
            "type": "scattercarpet"
           }
          ],
          "scattergeo": [
           {
            "marker": {
             "colorbar": {
              "outlinewidth": 0,
              "ticks": ""
             }
            },
            "type": "scattergeo"
           }
          ],
          "scattergl": [
           {
            "marker": {
             "colorbar": {
              "outlinewidth": 0,
              "ticks": ""
             }
            },
            "type": "scattergl"
           }
          ],
          "scattermapbox": [
           {
            "marker": {
             "colorbar": {
              "outlinewidth": 0,
              "ticks": ""
             }
            },
            "type": "scattermapbox"
           }
          ],
          "scatterpolar": [
           {
            "marker": {
             "colorbar": {
              "outlinewidth": 0,
              "ticks": ""
             }
            },
            "type": "scatterpolar"
           }
          ],
          "scatterpolargl": [
           {
            "marker": {
             "colorbar": {
              "outlinewidth": 0,
              "ticks": ""
             }
            },
            "type": "scatterpolargl"
           }
          ],
          "scatterternary": [
           {
            "marker": {
             "colorbar": {
              "outlinewidth": 0,
              "ticks": ""
             }
            },
            "type": "scatterternary"
           }
          ],
          "surface": [
           {
            "colorbar": {
             "outlinewidth": 0,
             "ticks": ""
            },
            "colorscale": [
             [
              0,
              "#0d0887"
             ],
             [
              0.1111111111111111,
              "#46039f"
             ],
             [
              0.2222222222222222,
              "#7201a8"
             ],
             [
              0.3333333333333333,
              "#9c179e"
             ],
             [
              0.4444444444444444,
              "#bd3786"
             ],
             [
              0.5555555555555556,
              "#d8576b"
             ],
             [
              0.6666666666666666,
              "#ed7953"
             ],
             [
              0.7777777777777778,
              "#fb9f3a"
             ],
             [
              0.8888888888888888,
              "#fdca26"
             ],
             [
              1,
              "#f0f921"
             ]
            ],
            "type": "surface"
           }
          ],
          "table": [
           {
            "cells": {
             "fill": {
              "color": "#EBF0F8"
             },
             "line": {
              "color": "white"
             }
            },
            "header": {
             "fill": {
              "color": "#C8D4E3"
             },
             "line": {
              "color": "white"
             }
            },
            "type": "table"
           }
          ]
         },
         "layout": {
          "annotationdefaults": {
           "arrowcolor": "#2a3f5f",
           "arrowhead": 0,
           "arrowwidth": 1
          },
          "autotypenumbers": "strict",
          "coloraxis": {
           "colorbar": {
            "outlinewidth": 0,
            "ticks": ""
           }
          },
          "colorscale": {
           "diverging": [
            [
             0,
             "#8e0152"
            ],
            [
             0.1,
             "#c51b7d"
            ],
            [
             0.2,
             "#de77ae"
            ],
            [
             0.3,
             "#f1b6da"
            ],
            [
             0.4,
             "#fde0ef"
            ],
            [
             0.5,
             "#f7f7f7"
            ],
            [
             0.6,
             "#e6f5d0"
            ],
            [
             0.7,
             "#b8e186"
            ],
            [
             0.8,
             "#7fbc41"
            ],
            [
             0.9,
             "#4d9221"
            ],
            [
             1,
             "#276419"
            ]
           ],
           "sequential": [
            [
             0,
             "#0d0887"
            ],
            [
             0.1111111111111111,
             "#46039f"
            ],
            [
             0.2222222222222222,
             "#7201a8"
            ],
            [
             0.3333333333333333,
             "#9c179e"
            ],
            [
             0.4444444444444444,
             "#bd3786"
            ],
            [
             0.5555555555555556,
             "#d8576b"
            ],
            [
             0.6666666666666666,
             "#ed7953"
            ],
            [
             0.7777777777777778,
             "#fb9f3a"
            ],
            [
             0.8888888888888888,
             "#fdca26"
            ],
            [
             1,
             "#f0f921"
            ]
           ],
           "sequentialminus": [
            [
             0,
             "#0d0887"
            ],
            [
             0.1111111111111111,
             "#46039f"
            ],
            [
             0.2222222222222222,
             "#7201a8"
            ],
            [
             0.3333333333333333,
             "#9c179e"
            ],
            [
             0.4444444444444444,
             "#bd3786"
            ],
            [
             0.5555555555555556,
             "#d8576b"
            ],
            [
             0.6666666666666666,
             "#ed7953"
            ],
            [
             0.7777777777777778,
             "#fb9f3a"
            ],
            [
             0.8888888888888888,
             "#fdca26"
            ],
            [
             1,
             "#f0f921"
            ]
           ]
          },
          "colorway": [
           "#636efa",
           "#EF553B",
           "#00cc96",
           "#ab63fa",
           "#FFA15A",
           "#19d3f3",
           "#FF6692",
           "#B6E880",
           "#FF97FF",
           "#FECB52"
          ],
          "font": {
           "color": "#2a3f5f"
          },
          "geo": {
           "bgcolor": "white",
           "lakecolor": "white",
           "landcolor": "#E5ECF6",
           "showlakes": true,
           "showland": true,
           "subunitcolor": "white"
          },
          "hoverlabel": {
           "align": "left"
          },
          "hovermode": "closest",
          "mapbox": {
           "style": "light"
          },
          "paper_bgcolor": "white",
          "plot_bgcolor": "#E5ECF6",
          "polar": {
           "angularaxis": {
            "gridcolor": "white",
            "linecolor": "white",
            "ticks": ""
           },
           "bgcolor": "#E5ECF6",
           "radialaxis": {
            "gridcolor": "white",
            "linecolor": "white",
            "ticks": ""
           }
          },
          "scene": {
           "xaxis": {
            "backgroundcolor": "#E5ECF6",
            "gridcolor": "white",
            "gridwidth": 2,
            "linecolor": "white",
            "showbackground": true,
            "ticks": "",
            "zerolinecolor": "white"
           },
           "yaxis": {
            "backgroundcolor": "#E5ECF6",
            "gridcolor": "white",
            "gridwidth": 2,
            "linecolor": "white",
            "showbackground": true,
            "ticks": "",
            "zerolinecolor": "white"
           },
           "zaxis": {
            "backgroundcolor": "#E5ECF6",
            "gridcolor": "white",
            "gridwidth": 2,
            "linecolor": "white",
            "showbackground": true,
            "ticks": "",
            "zerolinecolor": "white"
           }
          },
          "shapedefaults": {
           "line": {
            "color": "#2a3f5f"
           }
          },
          "ternary": {
           "aaxis": {
            "gridcolor": "white",
            "linecolor": "white",
            "ticks": ""
           },
           "baxis": {
            "gridcolor": "white",
            "linecolor": "white",
            "ticks": ""
           },
           "bgcolor": "#E5ECF6",
           "caxis": {
            "gridcolor": "white",
            "linecolor": "white",
            "ticks": ""
           }
          },
          "title": {
           "x": 0.05
          },
          "xaxis": {
           "automargin": true,
           "gridcolor": "white",
           "linecolor": "white",
           "ticks": "",
           "title": {
            "standoff": 15
           },
           "zerolinecolor": "white",
           "zerolinewidth": 2
          },
          "yaxis": {
           "automargin": true,
           "gridcolor": "white",
           "linecolor": "white",
           "ticks": "",
           "title": {
            "standoff": 15
           },
           "zerolinecolor": "white",
           "zerolinewidth": 2
          }
         }
        },
        "title": {
         "text": "Polyphen_score through time"
        }
       }
      },
      "text/html": [
       "<div>                            <div id=\"0b7daf4b-0ca3-4f13-abaa-8a971ce3f7c5\" class=\"plotly-graph-div\" style=\"height:525px; width:100%;\"></div>            <script type=\"text/javascript\">                require([\"plotly\"], function(Plotly) {                    window.PLOTLYENV=window.PLOTLYENV || {};                                    if (document.getElementById(\"0b7daf4b-0ca3-4f13-abaa-8a971ce3f7c5\")) {                    Plotly.newPlot(                        \"0b7daf4b-0ca3-4f13-abaa-8a971ce3f7c5\",                        [{\"domain\":{\"x\":[0.0,0.2125],\"y\":[0.625,1.0]},\"labels\":[\"Unknown\",\"benign\",\"possibly_damaging\",\"probably_damaging\",\"N/A\"],\"name\":\"BWA\",\"scalegroup\":\"one\",\"type\":\"pie\",\"values\":[2.198989780335957,71.83131680958535,11.225185011159404,14.744508398919299,0.0]},{\"domain\":{\"x\":[0.2625,0.475],\"y\":[0.625,1.0]},\"labels\":[\"Unknown\",\"benign\",\"possibly_damaging\",\"probably_damaging\",\"N/A\"],\"name\":\"BWA\",\"scalegroup\":\"one\",\"type\":\"pie\",\"values\":[1.9626130327237339,68.19472040874255,11.641863671383966,18.200802887149752,0.0]},{\"domain\":{\"x\":[0.525,0.7375],\"y\":[0.625,1.0]},\"labels\":[\"Unknown\",\"benign\",\"possibly_damaging\",\"probably_damaging\",\"N/A\"],\"name\":\"BWA\",\"scalegroup\":\"one\",\"type\":\"pie\",\"values\":[2.7118073100892706,82.11891527707597,7.886137780023581,7.283139632811184,0.0]},{\"domain\":{\"x\":[0.7875,1.0],\"y\":[0.625,1.0]},\"labels\":[\"Unknown\",\"benign\",\"possibly_damaging\",\"probably_damaging\",\"N/A\"],\"name\":\"BWA\",\"scalegroup\":\"one\",\"type\":\"pie\",\"values\":[2.562408002643516,80.3809066057857,8.354110967586891,8.702574423983899,0.0]},{\"domain\":{\"x\":[0.0,0.2125],\"y\":[0.0,0.375]},\"labels\":[\"Unknown\",\"benign\",\"possibly_damaging\",\"probably_damaging\",\"N/A\"],\"name\":\"BWA\",\"scalegroup\":\"one\",\"type\":\"pie\",\"values\":[0.005957254787522988,0.1945972918039694,0.030410003605539356,0.03994415710095542,99.72909129270201]},{\"domain\":{\"x\":[0.2625,0.475],\"y\":[0.0,0.375]},\"labels\":[\"Unknown\",\"benign\",\"possibly_damaging\",\"probably_damaging\",\"N/A\"],\"name\":\"BWA\",\"scalegroup\":\"one\",\"type\":\"pie\",\"values\":[0.005582870737509913,0.19398745584312593,0.033116574147501986,0.05177420517626703,99.7155388940956]},{\"domain\":{\"x\":[0.525,0.7375],\"y\":[0.0,0.375]},\"labels\":[\"Unknown\",\"benign\",\"possibly_damaging\",\"probably_damaging\",\"N/A\"],\"name\":\"BWA\",\"scalegroup\":\"one\",\"type\":\"pie\",\"values\":[0.005631126517002749,0.17052170323599505,0.016375735622737187,0.015123596931378812,99.79234783769289]},{\"domain\":{\"x\":[0.7875,1.0],\"y\":[0.0,0.375]},\"labels\":[\"Unknown\",\"benign\",\"possibly_damaging\",\"probably_damaging\",\"N/A\"],\"name\":\"BWA\",\"scalegroup\":\"one\",\"type\":\"pie\",\"values\":[0.005693497725237406,0.17860095208898302,0.01856227101276111,0.019336533305993865,99.77780674586703]}],                        {\"annotations\":[{\"font\":{\"size\":16},\"showarrow\":false,\"text\":\"BR2 (2.8k)\",\"x\":0.10625,\"xanchor\":\"center\",\"xref\":\"paper\",\"y\":1.0,\"yanchor\":\"bottom\",\"yref\":\"paper\"},{\"font\":{\"size\":16},\"showarrow\":false,\"text\":\"BOT16(5.4k)\",\"x\":0.36875,\"xanchor\":\"center\",\"xref\":\"paper\",\"y\":1.0,\"yanchor\":\"bottom\",\"yref\":\"paper\"},{\"font\":{\"size\":16},\"showarrow\":false,\"text\":\"SF12(8.8k)\",\"x\":0.6312500000000001,\"xanchor\":\"center\",\"xref\":\"paper\",\"y\":1.0,\"yanchor\":\"bottom\",\"yref\":\"paper\"},{\"font\":{\"size\":16},\"showarrow\":false,\"text\":\"Ust(44k)\",\"x\":0.89375,\"xanchor\":\"center\",\"xref\":\"paper\",\"y\":1.0,\"yanchor\":\"bottom\",\"yref\":\"paper\"},{\"font\":{\"size\":16},\"showarrow\":false,\"text\":\" \",\"x\":0.10625,\"xanchor\":\"center\",\"xref\":\"paper\",\"y\":0.375,\"yanchor\":\"bottom\",\"yref\":\"paper\"},{\"font\":{\"size\":16},\"showarrow\":false,\"text\":\" \",\"x\":0.36875,\"xanchor\":\"center\",\"xref\":\"paper\",\"y\":0.375,\"yanchor\":\"bottom\",\"yref\":\"paper\"},{\"font\":{\"size\":16},\"showarrow\":false,\"text\":\" \",\"x\":0.6312500000000001,\"xanchor\":\"center\",\"xref\":\"paper\",\"y\":0.375,\"yanchor\":\"bottom\",\"yref\":\"paper\"},{\"font\":{\"size\":16},\"showarrow\":false,\"text\":\" \",\"x\":0.89375,\"xanchor\":\"center\",\"xref\":\"paper\",\"y\":0.375,\"yanchor\":\"bottom\",\"yref\":\"paper\"}],\"template\":{\"data\":{\"bar\":[{\"error_x\":{\"color\":\"#2a3f5f\"},\"error_y\":{\"color\":\"#2a3f5f\"},\"marker\":{\"line\":{\"color\":\"#E5ECF6\",\"width\":0.5},\"pattern\":{\"fillmode\":\"overlay\",\"size\":10,\"solidity\":0.2}},\"type\":\"bar\"}],\"barpolar\":[{\"marker\":{\"line\":{\"color\":\"#E5ECF6\",\"width\":0.5},\"pattern\":{\"fillmode\":\"overlay\",\"size\":10,\"solidity\":0.2}},\"type\":\"barpolar\"}],\"carpet\":[{\"aaxis\":{\"endlinecolor\":\"#2a3f5f\",\"gridcolor\":\"white\",\"linecolor\":\"white\",\"minorgridcolor\":\"white\",\"startlinecolor\":\"#2a3f5f\"},\"baxis\":{\"endlinecolor\":\"#2a3f5f\",\"gridcolor\":\"white\",\"linecolor\":\"white\",\"minorgridcolor\":\"white\",\"startlinecolor\":\"#2a3f5f\"},\"type\":\"carpet\"}],\"choropleth\":[{\"colorbar\":{\"outlinewidth\":0,\"ticks\":\"\"},\"type\":\"choropleth\"}],\"contour\":[{\"colorbar\":{\"outlinewidth\":0,\"ticks\":\"\"},\"colorscale\":[[0.0,\"#0d0887\"],[0.1111111111111111,\"#46039f\"],[0.2222222222222222,\"#7201a8\"],[0.3333333333333333,\"#9c179e\"],[0.4444444444444444,\"#bd3786\"],[0.5555555555555556,\"#d8576b\"],[0.6666666666666666,\"#ed7953\"],[0.7777777777777778,\"#fb9f3a\"],[0.8888888888888888,\"#fdca26\"],[1.0,\"#f0f921\"]],\"type\":\"contour\"}],\"contourcarpet\":[{\"colorbar\":{\"outlinewidth\":0,\"ticks\":\"\"},\"type\":\"contourcarpet\"}],\"heatmap\":[{\"colorbar\":{\"outlinewidth\":0,\"ticks\":\"\"},\"colorscale\":[[0.0,\"#0d0887\"],[0.1111111111111111,\"#46039f\"],[0.2222222222222222,\"#7201a8\"],[0.3333333333333333,\"#9c179e\"],[0.4444444444444444,\"#bd3786\"],[0.5555555555555556,\"#d8576b\"],[0.6666666666666666,\"#ed7953\"],[0.7777777777777778,\"#fb9f3a\"],[0.8888888888888888,\"#fdca26\"],[1.0,\"#f0f921\"]],\"type\":\"heatmap\"}],\"heatmapgl\":[{\"colorbar\":{\"outlinewidth\":0,\"ticks\":\"\"},\"colorscale\":[[0.0,\"#0d0887\"],[0.1111111111111111,\"#46039f\"],[0.2222222222222222,\"#7201a8\"],[0.3333333333333333,\"#9c179e\"],[0.4444444444444444,\"#bd3786\"],[0.5555555555555556,\"#d8576b\"],[0.6666666666666666,\"#ed7953\"],[0.7777777777777778,\"#fb9f3a\"],[0.8888888888888888,\"#fdca26\"],[1.0,\"#f0f921\"]],\"type\":\"heatmapgl\"}],\"histogram\":[{\"marker\":{\"pattern\":{\"fillmode\":\"overlay\",\"size\":10,\"solidity\":0.2}},\"type\":\"histogram\"}],\"histogram2d\":[{\"colorbar\":{\"outlinewidth\":0,\"ticks\":\"\"},\"colorscale\":[[0.0,\"#0d0887\"],[0.1111111111111111,\"#46039f\"],[0.2222222222222222,\"#7201a8\"],[0.3333333333333333,\"#9c179e\"],[0.4444444444444444,\"#bd3786\"],[0.5555555555555556,\"#d8576b\"],[0.6666666666666666,\"#ed7953\"],[0.7777777777777778,\"#fb9f3a\"],[0.8888888888888888,\"#fdca26\"],[1.0,\"#f0f921\"]],\"type\":\"histogram2d\"}],\"histogram2dcontour\":[{\"colorbar\":{\"outlinewidth\":0,\"ticks\":\"\"},\"colorscale\":[[0.0,\"#0d0887\"],[0.1111111111111111,\"#46039f\"],[0.2222222222222222,\"#7201a8\"],[0.3333333333333333,\"#9c179e\"],[0.4444444444444444,\"#bd3786\"],[0.5555555555555556,\"#d8576b\"],[0.6666666666666666,\"#ed7953\"],[0.7777777777777778,\"#fb9f3a\"],[0.8888888888888888,\"#fdca26\"],[1.0,\"#f0f921\"]],\"type\":\"histogram2dcontour\"}],\"mesh3d\":[{\"colorbar\":{\"outlinewidth\":0,\"ticks\":\"\"},\"type\":\"mesh3d\"}],\"parcoords\":[{\"line\":{\"colorbar\":{\"outlinewidth\":0,\"ticks\":\"\"}},\"type\":\"parcoords\"}],\"pie\":[{\"automargin\":true,\"type\":\"pie\"}],\"scatter\":[{\"marker\":{\"colorbar\":{\"outlinewidth\":0,\"ticks\":\"\"}},\"type\":\"scatter\"}],\"scatter3d\":[{\"line\":{\"colorbar\":{\"outlinewidth\":0,\"ticks\":\"\"}},\"marker\":{\"colorbar\":{\"outlinewidth\":0,\"ticks\":\"\"}},\"type\":\"scatter3d\"}],\"scattercarpet\":[{\"marker\":{\"colorbar\":{\"outlinewidth\":0,\"ticks\":\"\"}},\"type\":\"scattercarpet\"}],\"scattergeo\":[{\"marker\":{\"colorbar\":{\"outlinewidth\":0,\"ticks\":\"\"}},\"type\":\"scattergeo\"}],\"scattergl\":[{\"marker\":{\"colorbar\":{\"outlinewidth\":0,\"ticks\":\"\"}},\"type\":\"scattergl\"}],\"scattermapbox\":[{\"marker\":{\"colorbar\":{\"outlinewidth\":0,\"ticks\":\"\"}},\"type\":\"scattermapbox\"}],\"scatterpolar\":[{\"marker\":{\"colorbar\":{\"outlinewidth\":0,\"ticks\":\"\"}},\"type\":\"scatterpolar\"}],\"scatterpolargl\":[{\"marker\":{\"colorbar\":{\"outlinewidth\":0,\"ticks\":\"\"}},\"type\":\"scatterpolargl\"}],\"scatterternary\":[{\"marker\":{\"colorbar\":{\"outlinewidth\":0,\"ticks\":\"\"}},\"type\":\"scatterternary\"}],\"surface\":[{\"colorbar\":{\"outlinewidth\":0,\"ticks\":\"\"},\"colorscale\":[[0.0,\"#0d0887\"],[0.1111111111111111,\"#46039f\"],[0.2222222222222222,\"#7201a8\"],[0.3333333333333333,\"#9c179e\"],[0.4444444444444444,\"#bd3786\"],[0.5555555555555556,\"#d8576b\"],[0.6666666666666666,\"#ed7953\"],[0.7777777777777778,\"#fb9f3a\"],[0.8888888888888888,\"#fdca26\"],[1.0,\"#f0f921\"]],\"type\":\"surface\"}],\"table\":[{\"cells\":{\"fill\":{\"color\":\"#EBF0F8\"},\"line\":{\"color\":\"white\"}},\"header\":{\"fill\":{\"color\":\"#C8D4E3\"},\"line\":{\"color\":\"white\"}},\"type\":\"table\"}]},\"layout\":{\"annotationdefaults\":{\"arrowcolor\":\"#2a3f5f\",\"arrowhead\":0,\"arrowwidth\":1},\"autotypenumbers\":\"strict\",\"coloraxis\":{\"colorbar\":{\"outlinewidth\":0,\"ticks\":\"\"}},\"colorscale\":{\"diverging\":[[0,\"#8e0152\"],[0.1,\"#c51b7d\"],[0.2,\"#de77ae\"],[0.3,\"#f1b6da\"],[0.4,\"#fde0ef\"],[0.5,\"#f7f7f7\"],[0.6,\"#e6f5d0\"],[0.7,\"#b8e186\"],[0.8,\"#7fbc41\"],[0.9,\"#4d9221\"],[1,\"#276419\"]],\"sequential\":[[0.0,\"#0d0887\"],[0.1111111111111111,\"#46039f\"],[0.2222222222222222,\"#7201a8\"],[0.3333333333333333,\"#9c179e\"],[0.4444444444444444,\"#bd3786\"],[0.5555555555555556,\"#d8576b\"],[0.6666666666666666,\"#ed7953\"],[0.7777777777777778,\"#fb9f3a\"],[0.8888888888888888,\"#fdca26\"],[1.0,\"#f0f921\"]],\"sequentialminus\":[[0.0,\"#0d0887\"],[0.1111111111111111,\"#46039f\"],[0.2222222222222222,\"#7201a8\"],[0.3333333333333333,\"#9c179e\"],[0.4444444444444444,\"#bd3786\"],[0.5555555555555556,\"#d8576b\"],[0.6666666666666666,\"#ed7953\"],[0.7777777777777778,\"#fb9f3a\"],[0.8888888888888888,\"#fdca26\"],[1.0,\"#f0f921\"]]},\"colorway\":[\"#636efa\",\"#EF553B\",\"#00cc96\",\"#ab63fa\",\"#FFA15A\",\"#19d3f3\",\"#FF6692\",\"#B6E880\",\"#FF97FF\",\"#FECB52\"],\"font\":{\"color\":\"#2a3f5f\"},\"geo\":{\"bgcolor\":\"white\",\"lakecolor\":\"white\",\"landcolor\":\"#E5ECF6\",\"showlakes\":true,\"showland\":true,\"subunitcolor\":\"white\"},\"hoverlabel\":{\"align\":\"left\"},\"hovermode\":\"closest\",\"mapbox\":{\"style\":\"light\"},\"paper_bgcolor\":\"white\",\"plot_bgcolor\":\"#E5ECF6\",\"polar\":{\"angularaxis\":{\"gridcolor\":\"white\",\"linecolor\":\"white\",\"ticks\":\"\"},\"bgcolor\":\"#E5ECF6\",\"radialaxis\":{\"gridcolor\":\"white\",\"linecolor\":\"white\",\"ticks\":\"\"}},\"scene\":{\"xaxis\":{\"backgroundcolor\":\"#E5ECF6\",\"gridcolor\":\"white\",\"gridwidth\":2,\"linecolor\":\"white\",\"showbackground\":true,\"ticks\":\"\",\"zerolinecolor\":\"white\"},\"yaxis\":{\"backgroundcolor\":\"#E5ECF6\",\"gridcolor\":\"white\",\"gridwidth\":2,\"linecolor\":\"white\",\"showbackground\":true,\"ticks\":\"\",\"zerolinecolor\":\"white\"},\"zaxis\":{\"backgroundcolor\":\"#E5ECF6\",\"gridcolor\":\"white\",\"gridwidth\":2,\"linecolor\":\"white\",\"showbackground\":true,\"ticks\":\"\",\"zerolinecolor\":\"white\"}},\"shapedefaults\":{\"line\":{\"color\":\"#2a3f5f\"}},\"ternary\":{\"aaxis\":{\"gridcolor\":\"white\",\"linecolor\":\"white\",\"ticks\":\"\"},\"baxis\":{\"gridcolor\":\"white\",\"linecolor\":\"white\",\"ticks\":\"\"},\"bgcolor\":\"#E5ECF6\",\"caxis\":{\"gridcolor\":\"white\",\"linecolor\":\"white\",\"ticks\":\"\"}},\"title\":{\"x\":0.05},\"xaxis\":{\"automargin\":true,\"gridcolor\":\"white\",\"linecolor\":\"white\",\"ticks\":\"\",\"title\":{\"standoff\":15},\"zerolinecolor\":\"white\",\"zerolinewidth\":2},\"yaxis\":{\"automargin\":true,\"gridcolor\":\"white\",\"linecolor\":\"white\",\"ticks\":\"\",\"title\":{\"standoff\":15},\"zerolinecolor\":\"white\",\"zerolinewidth\":2}}},\"title\":{\"text\":\"Polyphen_score through time\"}},                        {\"responsive\": true}                    ).then(function(){\n",
       "                            \n",
       "var gd = document.getElementById('0b7daf4b-0ca3-4f13-abaa-8a971ce3f7c5');\n",
       "var x = new MutationObserver(function (mutations, observer) {{\n",
       "        var display = window.getComputedStyle(gd).display;\n",
       "        if (!display || display === 'none') {{\n",
       "            console.log([gd, 'removed!']);\n",
       "            Plotly.purge(gd);\n",
       "            observer.disconnect();\n",
       "        }}\n",
       "}});\n",
       "\n",
       "// Listen for the removal of the full notebook cells\n",
       "var notebookContainer = gd.closest('#notebook-container');\n",
       "if (notebookContainer) {{\n",
       "    x.observe(notebookContainer, {childList: true});\n",
       "}}\n",
       "\n",
       "// Listen for the clearing of the current output cell\n",
       "var outputEl = gd.closest('.output');\n",
       "if (outputEl) {{\n",
       "    x.observe(outputEl, {childList: true});\n",
       "}}\n",
       "\n",
       "                        })                };                });            </script>        </div>"
      ]
     },
     "metadata": {},
     "output_type": "display_data"
    }
   ],
   "source": [
    "fig = make_subplots(2, 4, specs=[[{'type':'domain'}, {'type':'domain'}, {'type':'domain'}, {'type':'domain'}],\n",
    "                                  [{'type':'domain'}, {'type':'domain'}, {'type':'domain'}, {'type':'domain'}]],\n",
    "                    subplot_titles=['BR2 (2.8k)', 'BOT16(5.4k)','SF12(8.8k)','Ust(44k)',' ', ' ',' ', ' '])\n",
    "\n",
    "fig.add_trace(go.Pie(labels=count_poly_bwa_BR[\"ID\"], values=count_poly_bwa_BR[\"pct_poly\"], scalegroup='one',\n",
    "                     name=\"BWA\"), 1, 1)\n",
    "fig.add_trace(go.Pie(labels=count_poly_bwa_BOT[\"ID\"], values=count_poly_bwa_BOT[\"pct_poly\"], scalegroup='one',\n",
    "                     name=\"BWA\"), 1, 2)\n",
    "fig.add_trace(go.Pie(labels=count_poly_bwa_SF12[\"ID\"], values=count_poly_bwa_SF12[\"pct_poly\"], scalegroup='one',\n",
    "                     name=\"BWA\"), 1, 3)\n",
    "fig.add_trace(go.Pie(labels=count_poly_bwa_Ust[\"ID\"], values=count_poly_bwa_Ust[\"pct_poly\"], scalegroup='one',\n",
    "                     name=\"BWA\"), 1, 4)\n",
    "\n",
    "\n",
    "\n",
    "fig.add_trace(go.Pie(labels=count_poly_bwa_BR[\"ID\"], values=count_poly_bwa_BR[\"pct_ovr\"], scalegroup='one',\n",
    "                     name=\"BWA\"), 2, 1)\n",
    "fig.add_trace(go.Pie(labels=count_poly_bwa_BOT[\"ID\"], values=count_poly_bwa_BOT[\"pct_ovr\"], scalegroup='one',\n",
    "                     name=\"BWA\"), 2, 2)\n",
    "fig.add_trace(go.Pie(labels=count_poly_bwa_SF12[\"ID\"], values=count_poly_bwa_SF12[\"pct_ovr\"], scalegroup='one',\n",
    "                     name=\"BWA\"), 2, 3)\n",
    "fig.add_trace(go.Pie(labels=count_poly_bwa_Ust[\"ID\"], values=count_poly_bwa_Ust[\"pct_ovr\"], scalegroup='one',\n",
    "                     name=\"BWA\"), 2, 4)\n",
    "\n",
    "fig.update_layout(title_text='Polyphen_score through time')\n",
    "fig.show()"
   ]
  },
  {
   "cell_type": "markdown",
   "id": "0ae97924",
   "metadata": {},
   "source": [
    "Same as SIFT. The two older sample have more benign mutation that others. \n",
    "\n",
    "In detail we see that they have less probably_damaging mutation too.\n",
    "\n",
    "Still have to plot them all and see the trend."
   ]
  },
  {
   "cell_type": "markdown",
   "id": "a0d813d2",
   "metadata": {},
   "source": [
    "# GERP analysis"
   ]
  },
  {
   "cell_type": "code",
   "execution_count": 108,
   "id": "11545051",
   "metadata": {},
   "outputs": [],
   "source": [
    "gerp_avail = dataBWA[dataBWA[\"GERP++_RS\"] != \"-\"] \n",
    "count_gerp_bwa = pd.DataFrame(columns=['ID', 'vals','pct_gerp','pct_ovr'])\n",
    "\n",
    "count_gerp_bwa = count_gerp_bwa.append({'ID': \"constrained\", 'vals': sum(gerp_avail[\"GERP++_RS\"].astype(float) > 2),\n",
    "                                            'pct_gerp': sum(gerp_avail[\"GERP++_RS\"].astype(float) > 2) * 100 / len(gerp_avail[\"GERP++_RS\"]),\n",
    "                                            'pct_ovr': sum(gerp_avail[\"GERP++_RS\"].astype(float) > 2) * 100 / len(dataBWA[\"GERP++_RS\"])}, \n",
    "                                           ignore_index=True)\n",
    "\n",
    "count_gerp_bwa = count_gerp_bwa.append({'ID': \"not constrained\", 'vals': sum(gerp_avail[\"GERP++_RS\"].astype(float) <= 2),\n",
    "                                            'pct_gerp': sum(gerp_avail[\"GERP++_RS\"].astype(float) <= 2) * 100 / len(gerp_avail[\"GERP++_RS\"]),\n",
    "                                            'pct_ovr': sum(gerp_avail[\"GERP++_RS\"].astype(float) <= 2) * 100 / len(dataBWA[\"GERP++_RS\"])}, \n",
    "                                           ignore_index=True)\n",
    "\n",
    "\n",
    "\n",
    "count_gerp_bwa = count_gerp_bwa.append({'ID': \"N/A\", 'vals': 0 ,\n",
    "                                            'pct_gerp': 0,\n",
    "                                            'pct_ovr': (len(dataBWA[\"GERP++_RS\"]) - len(gerp_avail)) * 100 / len(dataBWA[\"GERP++_RS\"])}, \n",
    "                                           ignore_index=True)\n"
   ]
  },
  {
   "cell_type": "code",
   "execution_count": 109,
   "id": "8161876d",
   "metadata": {},
   "outputs": [],
   "source": [
    "gerp_avail = dataVGbam[dataVGbam[\"GERP++_RS\"] != \"-\"] \n",
    "count_gerp_VGbam = pd.DataFrame(columns=['ID', 'vals','pct_gerp','pct_ovr'])\n",
    "\n",
    "count_gerp_VGbam = count_gerp_VGbam.append({'ID': \"constrained\", 'vals': sum(gerp_avail[\"GERP++_RS\"].astype(float) > 2),\n",
    "                                            'pct_gerp': sum(gerp_avail[\"GERP++_RS\"].astype(float) > 2) * 100 / len(gerp_avail[\"GERP++_RS\"]),\n",
    "                                            'pct_ovr': sum(gerp_avail[\"GERP++_RS\"].astype(float) > 2) * 100 / len(dataVGbam[\"GERP++_RS\"])}, \n",
    "                                           ignore_index=True)\n",
    "\n",
    "count_gerp_VGbam = count_gerp_VGbam.append({'ID': \"not constrained\", 'vals': sum(gerp_avail[\"GERP++_RS\"].astype(float) <= 2),\n",
    "                                            'pct_gerp': sum(gerp_avail[\"GERP++_RS\"].astype(float) <= 2) * 100 / len(gerp_avail[\"GERP++_RS\"]),\n",
    "                                            'pct_ovr': sum(gerp_avail[\"GERP++_RS\"].astype(float) <= 2) * 100 / len(dataVGbam[\"GERP++_RS\"])}, \n",
    "                                           ignore_index=True)\n",
    "\n",
    "\n",
    "\n",
    "count_gerp_VGbam = count_gerp_VGbam.append({'ID': \"N/A\", 'vals': 0 ,\n",
    "                                            'pct_gerp': 0,\n",
    "                                            'pct_ovr': (len(dataVGbam[\"GERP++_RS\"]) - len(gerp_avail)) * 100 / len(dataVGbam[\"GERP++_RS\"])}, \n",
    "                                           ignore_index=True)\n"
   ]
  },
  {
   "cell_type": "code",
   "execution_count": 110,
   "id": "5e1e3b13",
   "metadata": {},
   "outputs": [],
   "source": [
    "gerp_avail = dataVGgam[dataVGgam[\"GERP++_RS\"] != \"-\"] \n",
    "count_gerp_VGgam = pd.DataFrame(columns=['ID', 'vals','pct_gerp','pct_ovr'])\n",
    "\n",
    "count_gerp_VGgam = count_gerp_VGgam.append({'ID': \"constrained\", 'vals': sum(gerp_avail[\"GERP++_RS\"].astype(float) > 2),\n",
    "                                            'pct_gerp': sum(gerp_avail[\"GERP++_RS\"].astype(float) > 2) * 100 / len(gerp_avail[\"GERP++_RS\"]),\n",
    "                                            'pct_ovr': sum(gerp_avail[\"GERP++_RS\"].astype(float) > 2) * 100 / len(dataVGgam[\"GERP++_RS\"])}, \n",
    "                                           ignore_index=True)\n",
    "\n",
    "count_gerp_VGgam = count_gerp_VGgam.append({'ID': \"not constrained\", 'vals': sum(gerp_avail[\"GERP++_RS\"].astype(float) <= 2),\n",
    "                                            'pct_gerp': sum(gerp_avail[\"GERP++_RS\"].astype(float) <= 2) * 100 / len(gerp_avail[\"GERP++_RS\"]),\n",
    "                                            'pct_ovr': sum(gerp_avail[\"GERP++_RS\"].astype(float) <= 2) * 100 / len(dataVGgam[\"GERP++_RS\"])}, \n",
    "                                           ignore_index=True)\n",
    "\n",
    "\n",
    "\n",
    "count_gerp_VGgam = count_gerp_VGgam.append({'ID': \"N/A\", 'vals': 0 ,\n",
    "                                            'pct_gerp': 0,\n",
    "                                            'pct_ovr': (len(dataVGgam[\"GERP++_RS\"]) - len(gerp_avail)) * 100 / len(dataVGgam[\"GERP++_RS\"])}, \n",
    "                                           ignore_index=True)\n"
   ]
  },
  {
   "cell_type": "code",
   "execution_count": 111,
   "id": "056e7f4f",
   "metadata": {},
   "outputs": [
    {
     "data": {
      "application/vnd.plotly.v1+json": {
       "config": {
        "plotlyServerURL": "https://plot.ly"
       },
       "data": [
        {
         "domain": {
          "x": [
           0,
           0.2888888888888889
          ],
          "y": [
           0.625,
           1
          ]
         },
         "labels": [
          "constrained",
          "not constrained",
          "N/A"
         ],
         "name": "BWA",
         "scalegroup": "one",
         "type": "pie",
         "values": [
          64.94314255198844,
          35.05685744801156,
          0
         ]
        },
        {
         "domain": {
          "x": [
           0.35555555555555557,
           0.6444444444444445
          ],
          "y": [
           0.625,
           1
          ]
         },
         "labels": [
          "constrained",
          "not constrained",
          "N/A"
         ],
         "name": "VGb",
         "scalegroup": "one",
         "type": "pie",
         "values": [
          62.82048545140149,
          37.17951454859851,
          0
         ]
        },
        {
         "domain": {
          "x": [
           0.7111111111111111,
           1
          ],
          "y": [
           0.625,
           1
          ]
         },
         "labels": [
          "constrained",
          "not constrained",
          "N/A"
         ],
         "name": "VGg",
         "scalegroup": "one",
         "type": "pie",
         "values": [
          46.489947581447815,
          53.510052418552185,
          0
         ]
        },
        {
         "domain": {
          "x": [
           0,
           0.2888888888888889
          ],
          "y": [
           0,
           0.375
          ]
         },
         "labels": [
          "constrained",
          "not constrained",
          "N/A"
         ],
         "name": "BWA",
         "scalegroup": "one",
         "type": "pie",
         "values": [
          0.17885372359599164,
          0.09654675221685531,
          99.72459952418716
         ]
        },
        {
         "domain": {
          "x": [
           0.35555555555555557,
           0.6444444444444445
          ],
          "y": [
           0,
           0.375
          ]
         },
         "labels": [
          "constrained",
          "not constrained",
          "N/A"
         ],
         "name": "VGb",
         "scalegroup": "one",
         "type": "pie",
         "values": [
          0.16397818305018255,
          0.09704842613932713,
          99.73897339081049
         ]
        },
        {
         "domain": {
          "x": [
           0.7111111111111111,
           1
          ],
          "y": [
           0,
           0.375
          ]
         },
         "labels": [
          "constrained",
          "not constrained",
          "N/A"
         ],
         "name": "VGg",
         "scalegroup": "one",
         "type": "pie",
         "values": [
          0.09196074845142313,
          0.1058470642812391,
          99.80219218726734
         ]
        }
       ],
       "layout": {
        "annotations": [
         {
          "font": {
           "size": 16
          },
          "showarrow": false,
          "text": "BWA",
          "x": 0.14444444444444446,
          "xanchor": "center",
          "xref": "paper",
          "y": 1,
          "yanchor": "bottom",
          "yref": "paper"
         },
         {
          "font": {
           "size": 16
          },
          "showarrow": false,
          "text": "VGbam",
          "x": 0.5,
          "xanchor": "center",
          "xref": "paper",
          "y": 1,
          "yanchor": "bottom",
          "yref": "paper"
         },
         {
          "font": {
           "size": 16
          },
          "showarrow": false,
          "text": "VGgam",
          "x": 0.8555555555555556,
          "xanchor": "center",
          "xref": "paper",
          "y": 1,
          "yanchor": "bottom",
          "yref": "paper"
         },
         {
          "font": {
           "size": 16
          },
          "showarrow": false,
          "text": " ",
          "x": 0.14444444444444446,
          "xanchor": "center",
          "xref": "paper",
          "y": 0.375,
          "yanchor": "bottom",
          "yref": "paper"
         },
         {
          "font": {
           "size": 16
          },
          "showarrow": false,
          "text": " ",
          "x": 0.5,
          "xanchor": "center",
          "xref": "paper",
          "y": 0.375,
          "yanchor": "bottom",
          "yref": "paper"
         },
         {
          "font": {
           "size": 16
          },
          "showarrow": false,
          "text": " ",
          "x": 0.8555555555555556,
          "xanchor": "center",
          "xref": "paper",
          "y": 0.375,
          "yanchor": "bottom",
          "yref": "paper"
         }
        ],
        "template": {
         "data": {
          "bar": [
           {
            "error_x": {
             "color": "#2a3f5f"
            },
            "error_y": {
             "color": "#2a3f5f"
            },
            "marker": {
             "line": {
              "color": "#E5ECF6",
              "width": 0.5
             },
             "pattern": {
              "fillmode": "overlay",
              "size": 10,
              "solidity": 0.2
             }
            },
            "type": "bar"
           }
          ],
          "barpolar": [
           {
            "marker": {
             "line": {
              "color": "#E5ECF6",
              "width": 0.5
             },
             "pattern": {
              "fillmode": "overlay",
              "size": 10,
              "solidity": 0.2
             }
            },
            "type": "barpolar"
           }
          ],
          "carpet": [
           {
            "aaxis": {
             "endlinecolor": "#2a3f5f",
             "gridcolor": "white",
             "linecolor": "white",
             "minorgridcolor": "white",
             "startlinecolor": "#2a3f5f"
            },
            "baxis": {
             "endlinecolor": "#2a3f5f",
             "gridcolor": "white",
             "linecolor": "white",
             "minorgridcolor": "white",
             "startlinecolor": "#2a3f5f"
            },
            "type": "carpet"
           }
          ],
          "choropleth": [
           {
            "colorbar": {
             "outlinewidth": 0,
             "ticks": ""
            },
            "type": "choropleth"
           }
          ],
          "contour": [
           {
            "colorbar": {
             "outlinewidth": 0,
             "ticks": ""
            },
            "colorscale": [
             [
              0,
              "#0d0887"
             ],
             [
              0.1111111111111111,
              "#46039f"
             ],
             [
              0.2222222222222222,
              "#7201a8"
             ],
             [
              0.3333333333333333,
              "#9c179e"
             ],
             [
              0.4444444444444444,
              "#bd3786"
             ],
             [
              0.5555555555555556,
              "#d8576b"
             ],
             [
              0.6666666666666666,
              "#ed7953"
             ],
             [
              0.7777777777777778,
              "#fb9f3a"
             ],
             [
              0.8888888888888888,
              "#fdca26"
             ],
             [
              1,
              "#f0f921"
             ]
            ],
            "type": "contour"
           }
          ],
          "contourcarpet": [
           {
            "colorbar": {
             "outlinewidth": 0,
             "ticks": ""
            },
            "type": "contourcarpet"
           }
          ],
          "heatmap": [
           {
            "colorbar": {
             "outlinewidth": 0,
             "ticks": ""
            },
            "colorscale": [
             [
              0,
              "#0d0887"
             ],
             [
              0.1111111111111111,
              "#46039f"
             ],
             [
              0.2222222222222222,
              "#7201a8"
             ],
             [
              0.3333333333333333,
              "#9c179e"
             ],
             [
              0.4444444444444444,
              "#bd3786"
             ],
             [
              0.5555555555555556,
              "#d8576b"
             ],
             [
              0.6666666666666666,
              "#ed7953"
             ],
             [
              0.7777777777777778,
              "#fb9f3a"
             ],
             [
              0.8888888888888888,
              "#fdca26"
             ],
             [
              1,
              "#f0f921"
             ]
            ],
            "type": "heatmap"
           }
          ],
          "heatmapgl": [
           {
            "colorbar": {
             "outlinewidth": 0,
             "ticks": ""
            },
            "colorscale": [
             [
              0,
              "#0d0887"
             ],
             [
              0.1111111111111111,
              "#46039f"
             ],
             [
              0.2222222222222222,
              "#7201a8"
             ],
             [
              0.3333333333333333,
              "#9c179e"
             ],
             [
              0.4444444444444444,
              "#bd3786"
             ],
             [
              0.5555555555555556,
              "#d8576b"
             ],
             [
              0.6666666666666666,
              "#ed7953"
             ],
             [
              0.7777777777777778,
              "#fb9f3a"
             ],
             [
              0.8888888888888888,
              "#fdca26"
             ],
             [
              1,
              "#f0f921"
             ]
            ],
            "type": "heatmapgl"
           }
          ],
          "histogram": [
           {
            "marker": {
             "pattern": {
              "fillmode": "overlay",
              "size": 10,
              "solidity": 0.2
             }
            },
            "type": "histogram"
           }
          ],
          "histogram2d": [
           {
            "colorbar": {
             "outlinewidth": 0,
             "ticks": ""
            },
            "colorscale": [
             [
              0,
              "#0d0887"
             ],
             [
              0.1111111111111111,
              "#46039f"
             ],
             [
              0.2222222222222222,
              "#7201a8"
             ],
             [
              0.3333333333333333,
              "#9c179e"
             ],
             [
              0.4444444444444444,
              "#bd3786"
             ],
             [
              0.5555555555555556,
              "#d8576b"
             ],
             [
              0.6666666666666666,
              "#ed7953"
             ],
             [
              0.7777777777777778,
              "#fb9f3a"
             ],
             [
              0.8888888888888888,
              "#fdca26"
             ],
             [
              1,
              "#f0f921"
             ]
            ],
            "type": "histogram2d"
           }
          ],
          "histogram2dcontour": [
           {
            "colorbar": {
             "outlinewidth": 0,
             "ticks": ""
            },
            "colorscale": [
             [
              0,
              "#0d0887"
             ],
             [
              0.1111111111111111,
              "#46039f"
             ],
             [
              0.2222222222222222,
              "#7201a8"
             ],
             [
              0.3333333333333333,
              "#9c179e"
             ],
             [
              0.4444444444444444,
              "#bd3786"
             ],
             [
              0.5555555555555556,
              "#d8576b"
             ],
             [
              0.6666666666666666,
              "#ed7953"
             ],
             [
              0.7777777777777778,
              "#fb9f3a"
             ],
             [
              0.8888888888888888,
              "#fdca26"
             ],
             [
              1,
              "#f0f921"
             ]
            ],
            "type": "histogram2dcontour"
           }
          ],
          "mesh3d": [
           {
            "colorbar": {
             "outlinewidth": 0,
             "ticks": ""
            },
            "type": "mesh3d"
           }
          ],
          "parcoords": [
           {
            "line": {
             "colorbar": {
              "outlinewidth": 0,
              "ticks": ""
             }
            },
            "type": "parcoords"
           }
          ],
          "pie": [
           {
            "automargin": true,
            "type": "pie"
           }
          ],
          "scatter": [
           {
            "marker": {
             "colorbar": {
              "outlinewidth": 0,
              "ticks": ""
             }
            },
            "type": "scatter"
           }
          ],
          "scatter3d": [
           {
            "line": {
             "colorbar": {
              "outlinewidth": 0,
              "ticks": ""
             }
            },
            "marker": {
             "colorbar": {
              "outlinewidth": 0,
              "ticks": ""
             }
            },
            "type": "scatter3d"
           }
          ],
          "scattercarpet": [
           {
            "marker": {
             "colorbar": {
              "outlinewidth": 0,
              "ticks": ""
             }
            },
            "type": "scattercarpet"
           }
          ],
          "scattergeo": [
           {
            "marker": {
             "colorbar": {
              "outlinewidth": 0,
              "ticks": ""
             }
            },
            "type": "scattergeo"
           }
          ],
          "scattergl": [
           {
            "marker": {
             "colorbar": {
              "outlinewidth": 0,
              "ticks": ""
             }
            },
            "type": "scattergl"
           }
          ],
          "scattermapbox": [
           {
            "marker": {
             "colorbar": {
              "outlinewidth": 0,
              "ticks": ""
             }
            },
            "type": "scattermapbox"
           }
          ],
          "scatterpolar": [
           {
            "marker": {
             "colorbar": {
              "outlinewidth": 0,
              "ticks": ""
             }
            },
            "type": "scatterpolar"
           }
          ],
          "scatterpolargl": [
           {
            "marker": {
             "colorbar": {
              "outlinewidth": 0,
              "ticks": ""
             }
            },
            "type": "scatterpolargl"
           }
          ],
          "scatterternary": [
           {
            "marker": {
             "colorbar": {
              "outlinewidth": 0,
              "ticks": ""
             }
            },
            "type": "scatterternary"
           }
          ],
          "surface": [
           {
            "colorbar": {
             "outlinewidth": 0,
             "ticks": ""
            },
            "colorscale": [
             [
              0,
              "#0d0887"
             ],
             [
              0.1111111111111111,
              "#46039f"
             ],
             [
              0.2222222222222222,
              "#7201a8"
             ],
             [
              0.3333333333333333,
              "#9c179e"
             ],
             [
              0.4444444444444444,
              "#bd3786"
             ],
             [
              0.5555555555555556,
              "#d8576b"
             ],
             [
              0.6666666666666666,
              "#ed7953"
             ],
             [
              0.7777777777777778,
              "#fb9f3a"
             ],
             [
              0.8888888888888888,
              "#fdca26"
             ],
             [
              1,
              "#f0f921"
             ]
            ],
            "type": "surface"
           }
          ],
          "table": [
           {
            "cells": {
             "fill": {
              "color": "#EBF0F8"
             },
             "line": {
              "color": "white"
             }
            },
            "header": {
             "fill": {
              "color": "#C8D4E3"
             },
             "line": {
              "color": "white"
             }
            },
            "type": "table"
           }
          ]
         },
         "layout": {
          "annotationdefaults": {
           "arrowcolor": "#2a3f5f",
           "arrowhead": 0,
           "arrowwidth": 1
          },
          "autotypenumbers": "strict",
          "coloraxis": {
           "colorbar": {
            "outlinewidth": 0,
            "ticks": ""
           }
          },
          "colorscale": {
           "diverging": [
            [
             0,
             "#8e0152"
            ],
            [
             0.1,
             "#c51b7d"
            ],
            [
             0.2,
             "#de77ae"
            ],
            [
             0.3,
             "#f1b6da"
            ],
            [
             0.4,
             "#fde0ef"
            ],
            [
             0.5,
             "#f7f7f7"
            ],
            [
             0.6,
             "#e6f5d0"
            ],
            [
             0.7,
             "#b8e186"
            ],
            [
             0.8,
             "#7fbc41"
            ],
            [
             0.9,
             "#4d9221"
            ],
            [
             1,
             "#276419"
            ]
           ],
           "sequential": [
            [
             0,
             "#0d0887"
            ],
            [
             0.1111111111111111,
             "#46039f"
            ],
            [
             0.2222222222222222,
             "#7201a8"
            ],
            [
             0.3333333333333333,
             "#9c179e"
            ],
            [
             0.4444444444444444,
             "#bd3786"
            ],
            [
             0.5555555555555556,
             "#d8576b"
            ],
            [
             0.6666666666666666,
             "#ed7953"
            ],
            [
             0.7777777777777778,
             "#fb9f3a"
            ],
            [
             0.8888888888888888,
             "#fdca26"
            ],
            [
             1,
             "#f0f921"
            ]
           ],
           "sequentialminus": [
            [
             0,
             "#0d0887"
            ],
            [
             0.1111111111111111,
             "#46039f"
            ],
            [
             0.2222222222222222,
             "#7201a8"
            ],
            [
             0.3333333333333333,
             "#9c179e"
            ],
            [
             0.4444444444444444,
             "#bd3786"
            ],
            [
             0.5555555555555556,
             "#d8576b"
            ],
            [
             0.6666666666666666,
             "#ed7953"
            ],
            [
             0.7777777777777778,
             "#fb9f3a"
            ],
            [
             0.8888888888888888,
             "#fdca26"
            ],
            [
             1,
             "#f0f921"
            ]
           ]
          },
          "colorway": [
           "#636efa",
           "#EF553B",
           "#00cc96",
           "#ab63fa",
           "#FFA15A",
           "#19d3f3",
           "#FF6692",
           "#B6E880",
           "#FF97FF",
           "#FECB52"
          ],
          "font": {
           "color": "#2a3f5f"
          },
          "geo": {
           "bgcolor": "white",
           "lakecolor": "white",
           "landcolor": "#E5ECF6",
           "showlakes": true,
           "showland": true,
           "subunitcolor": "white"
          },
          "hoverlabel": {
           "align": "left"
          },
          "hovermode": "closest",
          "mapbox": {
           "style": "light"
          },
          "paper_bgcolor": "white",
          "plot_bgcolor": "#E5ECF6",
          "polar": {
           "angularaxis": {
            "gridcolor": "white",
            "linecolor": "white",
            "ticks": ""
           },
           "bgcolor": "#E5ECF6",
           "radialaxis": {
            "gridcolor": "white",
            "linecolor": "white",
            "ticks": ""
           }
          },
          "scene": {
           "xaxis": {
            "backgroundcolor": "#E5ECF6",
            "gridcolor": "white",
            "gridwidth": 2,
            "linecolor": "white",
            "showbackground": true,
            "ticks": "",
            "zerolinecolor": "white"
           },
           "yaxis": {
            "backgroundcolor": "#E5ECF6",
            "gridcolor": "white",
            "gridwidth": 2,
            "linecolor": "white",
            "showbackground": true,
            "ticks": "",
            "zerolinecolor": "white"
           },
           "zaxis": {
            "backgroundcolor": "#E5ECF6",
            "gridcolor": "white",
            "gridwidth": 2,
            "linecolor": "white",
            "showbackground": true,
            "ticks": "",
            "zerolinecolor": "white"
           }
          },
          "shapedefaults": {
           "line": {
            "color": "#2a3f5f"
           }
          },
          "ternary": {
           "aaxis": {
            "gridcolor": "white",
            "linecolor": "white",
            "ticks": ""
           },
           "baxis": {
            "gridcolor": "white",
            "linecolor": "white",
            "ticks": ""
           },
           "bgcolor": "#E5ECF6",
           "caxis": {
            "gridcolor": "white",
            "linecolor": "white",
            "ticks": ""
           }
          },
          "title": {
           "x": 0.05
          },
          "xaxis": {
           "automargin": true,
           "gridcolor": "white",
           "linecolor": "white",
           "ticks": "",
           "title": {
            "standoff": 15
           },
           "zerolinecolor": "white",
           "zerolinewidth": 2
          },
          "yaxis": {
           "automargin": true,
           "gridcolor": "white",
           "linecolor": "white",
           "ticks": "",
           "title": {
            "standoff": 15
           },
           "zerolinecolor": "white",
           "zerolinewidth": 2
          }
         }
        },
        "title": {
         "text": "GERP_score of different mapper"
        }
       }
      },
      "text/html": [
       "<div>                            <div id=\"ec5359ec-4ba7-45e7-a40b-ba31f8a8da0c\" class=\"plotly-graph-div\" style=\"height:525px; width:100%;\"></div>            <script type=\"text/javascript\">                require([\"plotly\"], function(Plotly) {                    window.PLOTLYENV=window.PLOTLYENV || {};                                    if (document.getElementById(\"ec5359ec-4ba7-45e7-a40b-ba31f8a8da0c\")) {                    Plotly.newPlot(                        \"ec5359ec-4ba7-45e7-a40b-ba31f8a8da0c\",                        [{\"domain\":{\"x\":[0.0,0.2888888888888889],\"y\":[0.625,1.0]},\"labels\":[\"constrained\",\"not constrained\",\"N/A\"],\"name\":\"BWA\",\"scalegroup\":\"one\",\"type\":\"pie\",\"values\":[64.94314255198844,35.05685744801156,0.0]},{\"domain\":{\"x\":[0.35555555555555557,0.6444444444444445],\"y\":[0.625,1.0]},\"labels\":[\"constrained\",\"not constrained\",\"N/A\"],\"name\":\"VGb\",\"scalegroup\":\"one\",\"type\":\"pie\",\"values\":[62.82048545140149,37.17951454859851,0.0]},{\"domain\":{\"x\":[0.7111111111111111,1.0],\"y\":[0.625,1.0]},\"labels\":[\"constrained\",\"not constrained\",\"N/A\"],\"name\":\"VGg\",\"scalegroup\":\"one\",\"type\":\"pie\",\"values\":[46.489947581447815,53.510052418552185,0.0]},{\"domain\":{\"x\":[0.0,0.2888888888888889],\"y\":[0.0,0.375]},\"labels\":[\"constrained\",\"not constrained\",\"N/A\"],\"name\":\"BWA\",\"scalegroup\":\"one\",\"type\":\"pie\",\"values\":[0.17885372359599164,0.09654675221685531,99.72459952418716]},{\"domain\":{\"x\":[0.35555555555555557,0.6444444444444445],\"y\":[0.0,0.375]},\"labels\":[\"constrained\",\"not constrained\",\"N/A\"],\"name\":\"VGb\",\"scalegroup\":\"one\",\"type\":\"pie\",\"values\":[0.16397818305018255,0.09704842613932713,99.73897339081049]},{\"domain\":{\"x\":[0.7111111111111111,1.0],\"y\":[0.0,0.375]},\"labels\":[\"constrained\",\"not constrained\",\"N/A\"],\"name\":\"VGg\",\"scalegroup\":\"one\",\"type\":\"pie\",\"values\":[0.09196074845142313,0.1058470642812391,99.80219218726734]}],                        {\"annotations\":[{\"font\":{\"size\":16},\"showarrow\":false,\"text\":\"BWA\",\"x\":0.14444444444444446,\"xanchor\":\"center\",\"xref\":\"paper\",\"y\":1.0,\"yanchor\":\"bottom\",\"yref\":\"paper\"},{\"font\":{\"size\":16},\"showarrow\":false,\"text\":\"VGbam\",\"x\":0.5,\"xanchor\":\"center\",\"xref\":\"paper\",\"y\":1.0,\"yanchor\":\"bottom\",\"yref\":\"paper\"},{\"font\":{\"size\":16},\"showarrow\":false,\"text\":\"VGgam\",\"x\":0.8555555555555556,\"xanchor\":\"center\",\"xref\":\"paper\",\"y\":1.0,\"yanchor\":\"bottom\",\"yref\":\"paper\"},{\"font\":{\"size\":16},\"showarrow\":false,\"text\":\" \",\"x\":0.14444444444444446,\"xanchor\":\"center\",\"xref\":\"paper\",\"y\":0.375,\"yanchor\":\"bottom\",\"yref\":\"paper\"},{\"font\":{\"size\":16},\"showarrow\":false,\"text\":\" \",\"x\":0.5,\"xanchor\":\"center\",\"xref\":\"paper\",\"y\":0.375,\"yanchor\":\"bottom\",\"yref\":\"paper\"},{\"font\":{\"size\":16},\"showarrow\":false,\"text\":\" \",\"x\":0.8555555555555556,\"xanchor\":\"center\",\"xref\":\"paper\",\"y\":0.375,\"yanchor\":\"bottom\",\"yref\":\"paper\"}],\"template\":{\"data\":{\"bar\":[{\"error_x\":{\"color\":\"#2a3f5f\"},\"error_y\":{\"color\":\"#2a3f5f\"},\"marker\":{\"line\":{\"color\":\"#E5ECF6\",\"width\":0.5},\"pattern\":{\"fillmode\":\"overlay\",\"size\":10,\"solidity\":0.2}},\"type\":\"bar\"}],\"barpolar\":[{\"marker\":{\"line\":{\"color\":\"#E5ECF6\",\"width\":0.5},\"pattern\":{\"fillmode\":\"overlay\",\"size\":10,\"solidity\":0.2}},\"type\":\"barpolar\"}],\"carpet\":[{\"aaxis\":{\"endlinecolor\":\"#2a3f5f\",\"gridcolor\":\"white\",\"linecolor\":\"white\",\"minorgridcolor\":\"white\",\"startlinecolor\":\"#2a3f5f\"},\"baxis\":{\"endlinecolor\":\"#2a3f5f\",\"gridcolor\":\"white\",\"linecolor\":\"white\",\"minorgridcolor\":\"white\",\"startlinecolor\":\"#2a3f5f\"},\"type\":\"carpet\"}],\"choropleth\":[{\"colorbar\":{\"outlinewidth\":0,\"ticks\":\"\"},\"type\":\"choropleth\"}],\"contour\":[{\"colorbar\":{\"outlinewidth\":0,\"ticks\":\"\"},\"colorscale\":[[0.0,\"#0d0887\"],[0.1111111111111111,\"#46039f\"],[0.2222222222222222,\"#7201a8\"],[0.3333333333333333,\"#9c179e\"],[0.4444444444444444,\"#bd3786\"],[0.5555555555555556,\"#d8576b\"],[0.6666666666666666,\"#ed7953\"],[0.7777777777777778,\"#fb9f3a\"],[0.8888888888888888,\"#fdca26\"],[1.0,\"#f0f921\"]],\"type\":\"contour\"}],\"contourcarpet\":[{\"colorbar\":{\"outlinewidth\":0,\"ticks\":\"\"},\"type\":\"contourcarpet\"}],\"heatmap\":[{\"colorbar\":{\"outlinewidth\":0,\"ticks\":\"\"},\"colorscale\":[[0.0,\"#0d0887\"],[0.1111111111111111,\"#46039f\"],[0.2222222222222222,\"#7201a8\"],[0.3333333333333333,\"#9c179e\"],[0.4444444444444444,\"#bd3786\"],[0.5555555555555556,\"#d8576b\"],[0.6666666666666666,\"#ed7953\"],[0.7777777777777778,\"#fb9f3a\"],[0.8888888888888888,\"#fdca26\"],[1.0,\"#f0f921\"]],\"type\":\"heatmap\"}],\"heatmapgl\":[{\"colorbar\":{\"outlinewidth\":0,\"ticks\":\"\"},\"colorscale\":[[0.0,\"#0d0887\"],[0.1111111111111111,\"#46039f\"],[0.2222222222222222,\"#7201a8\"],[0.3333333333333333,\"#9c179e\"],[0.4444444444444444,\"#bd3786\"],[0.5555555555555556,\"#d8576b\"],[0.6666666666666666,\"#ed7953\"],[0.7777777777777778,\"#fb9f3a\"],[0.8888888888888888,\"#fdca26\"],[1.0,\"#f0f921\"]],\"type\":\"heatmapgl\"}],\"histogram\":[{\"marker\":{\"pattern\":{\"fillmode\":\"overlay\",\"size\":10,\"solidity\":0.2}},\"type\":\"histogram\"}],\"histogram2d\":[{\"colorbar\":{\"outlinewidth\":0,\"ticks\":\"\"},\"colorscale\":[[0.0,\"#0d0887\"],[0.1111111111111111,\"#46039f\"],[0.2222222222222222,\"#7201a8\"],[0.3333333333333333,\"#9c179e\"],[0.4444444444444444,\"#bd3786\"],[0.5555555555555556,\"#d8576b\"],[0.6666666666666666,\"#ed7953\"],[0.7777777777777778,\"#fb9f3a\"],[0.8888888888888888,\"#fdca26\"],[1.0,\"#f0f921\"]],\"type\":\"histogram2d\"}],\"histogram2dcontour\":[{\"colorbar\":{\"outlinewidth\":0,\"ticks\":\"\"},\"colorscale\":[[0.0,\"#0d0887\"],[0.1111111111111111,\"#46039f\"],[0.2222222222222222,\"#7201a8\"],[0.3333333333333333,\"#9c179e\"],[0.4444444444444444,\"#bd3786\"],[0.5555555555555556,\"#d8576b\"],[0.6666666666666666,\"#ed7953\"],[0.7777777777777778,\"#fb9f3a\"],[0.8888888888888888,\"#fdca26\"],[1.0,\"#f0f921\"]],\"type\":\"histogram2dcontour\"}],\"mesh3d\":[{\"colorbar\":{\"outlinewidth\":0,\"ticks\":\"\"},\"type\":\"mesh3d\"}],\"parcoords\":[{\"line\":{\"colorbar\":{\"outlinewidth\":0,\"ticks\":\"\"}},\"type\":\"parcoords\"}],\"pie\":[{\"automargin\":true,\"type\":\"pie\"}],\"scatter\":[{\"marker\":{\"colorbar\":{\"outlinewidth\":0,\"ticks\":\"\"}},\"type\":\"scatter\"}],\"scatter3d\":[{\"line\":{\"colorbar\":{\"outlinewidth\":0,\"ticks\":\"\"}},\"marker\":{\"colorbar\":{\"outlinewidth\":0,\"ticks\":\"\"}},\"type\":\"scatter3d\"}],\"scattercarpet\":[{\"marker\":{\"colorbar\":{\"outlinewidth\":0,\"ticks\":\"\"}},\"type\":\"scattercarpet\"}],\"scattergeo\":[{\"marker\":{\"colorbar\":{\"outlinewidth\":0,\"ticks\":\"\"}},\"type\":\"scattergeo\"}],\"scattergl\":[{\"marker\":{\"colorbar\":{\"outlinewidth\":0,\"ticks\":\"\"}},\"type\":\"scattergl\"}],\"scattermapbox\":[{\"marker\":{\"colorbar\":{\"outlinewidth\":0,\"ticks\":\"\"}},\"type\":\"scattermapbox\"}],\"scatterpolar\":[{\"marker\":{\"colorbar\":{\"outlinewidth\":0,\"ticks\":\"\"}},\"type\":\"scatterpolar\"}],\"scatterpolargl\":[{\"marker\":{\"colorbar\":{\"outlinewidth\":0,\"ticks\":\"\"}},\"type\":\"scatterpolargl\"}],\"scatterternary\":[{\"marker\":{\"colorbar\":{\"outlinewidth\":0,\"ticks\":\"\"}},\"type\":\"scatterternary\"}],\"surface\":[{\"colorbar\":{\"outlinewidth\":0,\"ticks\":\"\"},\"colorscale\":[[0.0,\"#0d0887\"],[0.1111111111111111,\"#46039f\"],[0.2222222222222222,\"#7201a8\"],[0.3333333333333333,\"#9c179e\"],[0.4444444444444444,\"#bd3786\"],[0.5555555555555556,\"#d8576b\"],[0.6666666666666666,\"#ed7953\"],[0.7777777777777778,\"#fb9f3a\"],[0.8888888888888888,\"#fdca26\"],[1.0,\"#f0f921\"]],\"type\":\"surface\"}],\"table\":[{\"cells\":{\"fill\":{\"color\":\"#EBF0F8\"},\"line\":{\"color\":\"white\"}},\"header\":{\"fill\":{\"color\":\"#C8D4E3\"},\"line\":{\"color\":\"white\"}},\"type\":\"table\"}]},\"layout\":{\"annotationdefaults\":{\"arrowcolor\":\"#2a3f5f\",\"arrowhead\":0,\"arrowwidth\":1},\"autotypenumbers\":\"strict\",\"coloraxis\":{\"colorbar\":{\"outlinewidth\":0,\"ticks\":\"\"}},\"colorscale\":{\"diverging\":[[0,\"#8e0152\"],[0.1,\"#c51b7d\"],[0.2,\"#de77ae\"],[0.3,\"#f1b6da\"],[0.4,\"#fde0ef\"],[0.5,\"#f7f7f7\"],[0.6,\"#e6f5d0\"],[0.7,\"#b8e186\"],[0.8,\"#7fbc41\"],[0.9,\"#4d9221\"],[1,\"#276419\"]],\"sequential\":[[0.0,\"#0d0887\"],[0.1111111111111111,\"#46039f\"],[0.2222222222222222,\"#7201a8\"],[0.3333333333333333,\"#9c179e\"],[0.4444444444444444,\"#bd3786\"],[0.5555555555555556,\"#d8576b\"],[0.6666666666666666,\"#ed7953\"],[0.7777777777777778,\"#fb9f3a\"],[0.8888888888888888,\"#fdca26\"],[1.0,\"#f0f921\"]],\"sequentialminus\":[[0.0,\"#0d0887\"],[0.1111111111111111,\"#46039f\"],[0.2222222222222222,\"#7201a8\"],[0.3333333333333333,\"#9c179e\"],[0.4444444444444444,\"#bd3786\"],[0.5555555555555556,\"#d8576b\"],[0.6666666666666666,\"#ed7953\"],[0.7777777777777778,\"#fb9f3a\"],[0.8888888888888888,\"#fdca26\"],[1.0,\"#f0f921\"]]},\"colorway\":[\"#636efa\",\"#EF553B\",\"#00cc96\",\"#ab63fa\",\"#FFA15A\",\"#19d3f3\",\"#FF6692\",\"#B6E880\",\"#FF97FF\",\"#FECB52\"],\"font\":{\"color\":\"#2a3f5f\"},\"geo\":{\"bgcolor\":\"white\",\"lakecolor\":\"white\",\"landcolor\":\"#E5ECF6\",\"showlakes\":true,\"showland\":true,\"subunitcolor\":\"white\"},\"hoverlabel\":{\"align\":\"left\"},\"hovermode\":\"closest\",\"mapbox\":{\"style\":\"light\"},\"paper_bgcolor\":\"white\",\"plot_bgcolor\":\"#E5ECF6\",\"polar\":{\"angularaxis\":{\"gridcolor\":\"white\",\"linecolor\":\"white\",\"ticks\":\"\"},\"bgcolor\":\"#E5ECF6\",\"radialaxis\":{\"gridcolor\":\"white\",\"linecolor\":\"white\",\"ticks\":\"\"}},\"scene\":{\"xaxis\":{\"backgroundcolor\":\"#E5ECF6\",\"gridcolor\":\"white\",\"gridwidth\":2,\"linecolor\":\"white\",\"showbackground\":true,\"ticks\":\"\",\"zerolinecolor\":\"white\"},\"yaxis\":{\"backgroundcolor\":\"#E5ECF6\",\"gridcolor\":\"white\",\"gridwidth\":2,\"linecolor\":\"white\",\"showbackground\":true,\"ticks\":\"\",\"zerolinecolor\":\"white\"},\"zaxis\":{\"backgroundcolor\":\"#E5ECF6\",\"gridcolor\":\"white\",\"gridwidth\":2,\"linecolor\":\"white\",\"showbackground\":true,\"ticks\":\"\",\"zerolinecolor\":\"white\"}},\"shapedefaults\":{\"line\":{\"color\":\"#2a3f5f\"}},\"ternary\":{\"aaxis\":{\"gridcolor\":\"white\",\"linecolor\":\"white\",\"ticks\":\"\"},\"baxis\":{\"gridcolor\":\"white\",\"linecolor\":\"white\",\"ticks\":\"\"},\"bgcolor\":\"#E5ECF6\",\"caxis\":{\"gridcolor\":\"white\",\"linecolor\":\"white\",\"ticks\":\"\"}},\"title\":{\"x\":0.05},\"xaxis\":{\"automargin\":true,\"gridcolor\":\"white\",\"linecolor\":\"white\",\"ticks\":\"\",\"title\":{\"standoff\":15},\"zerolinecolor\":\"white\",\"zerolinewidth\":2},\"yaxis\":{\"automargin\":true,\"gridcolor\":\"white\",\"linecolor\":\"white\",\"ticks\":\"\",\"title\":{\"standoff\":15},\"zerolinecolor\":\"white\",\"zerolinewidth\":2}}},\"title\":{\"text\":\"GERP_score of different mapper\"}},                        {\"responsive\": true}                    ).then(function(){\n",
       "                            \n",
       "var gd = document.getElementById('ec5359ec-4ba7-45e7-a40b-ba31f8a8da0c');\n",
       "var x = new MutationObserver(function (mutations, observer) {{\n",
       "        var display = window.getComputedStyle(gd).display;\n",
       "        if (!display || display === 'none') {{\n",
       "            console.log([gd, 'removed!']);\n",
       "            Plotly.purge(gd);\n",
       "            observer.disconnect();\n",
       "        }}\n",
       "}});\n",
       "\n",
       "// Listen for the removal of the full notebook cells\n",
       "var notebookContainer = gd.closest('#notebook-container');\n",
       "if (notebookContainer) {{\n",
       "    x.observe(notebookContainer, {childList: true});\n",
       "}}\n",
       "\n",
       "// Listen for the clearing of the current output cell\n",
       "var outputEl = gd.closest('.output');\n",
       "if (outputEl) {{\n",
       "    x.observe(outputEl, {childList: true});\n",
       "}}\n",
       "\n",
       "                        })                };                });            </script>        </div>"
      ]
     },
     "metadata": {},
     "output_type": "display_data"
    }
   ],
   "source": [
    "fig = make_subplots(2, 3, specs=[[{'type':'domain'}, {'type':'domain'}, {'type':'domain'}],\n",
    "                                  [{'type':'domain'}, {'type':'domain'}, {'type':'domain'}]],\n",
    "                    subplot_titles=['BWA', 'VGbam','VGgam',' ', ' ',' '])\n",
    "\n",
    "fig.add_trace(go.Pie(labels=count_gerp_bwa[\"ID\"], values=count_gerp_bwa[\"pct_gerp\"], scalegroup='one',\n",
    "                     name=\"BWA\"), 1, 1)\n",
    "fig.add_trace(go.Pie(labels=count_gerp_VGbam[\"ID\"], values=count_gerp_VGbam[\"pct_gerp\"], scalegroup='one',\n",
    "                     name=\"VGb\"), 1, 2)\n",
    "fig.add_trace(go.Pie(labels=count_gerp_VGgam[\"ID\"], values=count_gerp_VGgam[\"pct_gerp\"], scalegroup='one',\n",
    "                     name=\"VGg\"), 1, 3)\n",
    "\n",
    "\n",
    "\n",
    "fig.add_trace(go.Pie(labels=count_gerp_bwa[\"ID\"], values=count_gerp_bwa[\"pct_ovr\"], scalegroup='one',\n",
    "                     name=\"BWA\"), 2, 1)\n",
    "fig.add_trace(go.Pie(labels=count_gerp_VGbam[\"ID\"], values=count_gerp_VGbam[\"pct_ovr\"], scalegroup='one',\n",
    "                     name=\"VGb\"), 2, 2)\n",
    "fig.add_trace(go.Pie(labels=count_gerp_VGgam[\"ID\"], values=count_gerp_VGgam[\"pct_ovr\"], scalegroup='one',\n",
    "                     name=\"VGg\"), 2, 3)\n",
    "\n",
    "fig.update_layout(title_text='GERP_score of different mapper')\n",
    "fig.show()"
   ]
  },
  {
   "cell_type": "code",
   "execution_count": null,
   "id": "016d0a93",
   "metadata": {},
   "outputs": [],
   "source": [
    "how many of the snps are deletarious\n",
    "Distribution of deletarious mutation \n",
    "Check no impact vs GERP "
   ]
  },
  {
   "cell_type": "markdown",
   "id": "fa0f3107",
   "metadata": {},
   "source": [
    "VGgam have totally different results and find a majority of not constrained region (53%) where the others find most constrained region (63% & 65%)\n",
    "\n",
    "\n",
    "good thing is that with BWA or VG, calling with FreeBayes find comparable results. Now how to understand the \"why\" of VGcall."
   ]
  },
  {
   "cell_type": "markdown",
   "id": "b1151421",
   "metadata": {},
   "source": [
    "### Check over time trend\n",
    "\n",
    "Take same mapper and analyse the % on different individuals through time "
   ]
  },
  {
   "cell_type": "code",
   "execution_count": 143,
   "id": "c1757eca",
   "metadata": {},
   "outputs": [],
   "source": [
    "gerp_avail = dataBWA_BR[dataBWA_BR[\"GERP++_RS\"] != \"-\"] \n",
    "count_gerp_bwa_BR2 = pd.DataFrame(columns=['ID', 'vals','pct_gerp','pct_ovr'])\n",
    "\n",
    "count_gerp_bwa_BR2 = count_gerp_bwa_BR2.append({'ID': \"constrained\", 'vals': sum(gerp_avail[\"GERP++_RS\"].astype(float) > 2),\n",
    "                                            'pct_gerp': sum(gerp_avail[\"GERP++_RS\"].astype(float) > 2) * 100 / len(gerp_avail[\"GERP++_RS\"]),\n",
    "                                            'pct_ovr': sum(gerp_avail[\"GERP++_RS\"].astype(float) > 2) * 100 / len(dataBWA_BR[\"GERP++_RS\"])}, \n",
    "                                           ignore_index=True)\n",
    "\n",
    "count_gerp_bwa_BR2 = count_gerp_bwa_BR2.append({'ID': \"not constrained\", 'vals': sum(gerp_avail[\"GERP++_RS\"].astype(float) <= 2),\n",
    "                                            'pct_gerp': sum(gerp_avail[\"GERP++_RS\"].astype(float) <= 2) * 100 / len(gerp_avail[\"GERP++_RS\"]),\n",
    "                                            'pct_ovr': sum(gerp_avail[\"GERP++_RS\"].astype(float) <= 2) * 100 / len(dataBWA_BR[\"GERP++_RS\"])}, \n",
    "                                           ignore_index=True)\n",
    "\n",
    "\n",
    "\n",
    "count_gerp_bwa_BR2 = count_gerp_bwa_BR2.append({'ID': \"N/A\", 'vals': 0 ,\n",
    "                                            'pct_gerp': 0,\n",
    "                                            'pct_ovr': (len(dataBWA_BR[\"GERP++_RS\"]) - len(gerp_avail)) * 100 / len(dataBWA_BR[\"GERP++_RS\"])}, \n",
    "                                           ignore_index=True)\n"
   ]
  },
  {
   "cell_type": "code",
   "execution_count": 142,
   "id": "cff6321a",
   "metadata": {},
   "outputs": [],
   "source": [
    "count_gerp_bwa_BOT = count_gerp_bwa"
   ]
  },
  {
   "cell_type": "code",
   "execution_count": 144,
   "id": "60712d9c",
   "metadata": {},
   "outputs": [],
   "source": [
    "gerp_avail = dataBWA_SF12[dataBWA_SF12[\"GERP++_RS\"] != \"-\"] \n",
    "count_gerp_bwa_SF12 = pd.DataFrame(columns=['ID', 'vals','pct_gerp','pct_ovr'])\n",
    "\n",
    "count_gerp_bwa_SF12 = count_gerp_bwa_SF12.append({'ID': \"constrained\", 'vals': sum(gerp_avail[\"GERP++_RS\"].astype(float) > 2),\n",
    "                                            'pct_gerp': sum(gerp_avail[\"GERP++_RS\"].astype(float) > 2) * 100 / len(gerp_avail[\"GERP++_RS\"]),\n",
    "                                            'pct_ovr': sum(gerp_avail[\"GERP++_RS\"].astype(float) > 2) * 100 / len(dataBWA_SF12[\"GERP++_RS\"])}, \n",
    "                                           ignore_index=True)\n",
    "\n",
    "count_gerp_bwa_SF12 = count_gerp_bwa_SF12.append({'ID': \"not constrained\", 'vals': sum(gerp_avail[\"GERP++_RS\"].astype(float) <= 2),\n",
    "                                            'pct_gerp': sum(gerp_avail[\"GERP++_RS\"].astype(float) <= 2) * 100 / len(gerp_avail[\"GERP++_RS\"]),\n",
    "                                            'pct_ovr': sum(gerp_avail[\"GERP++_RS\"].astype(float) <= 2) * 100 / len(dataBWA_SF12[\"GERP++_RS\"])}, \n",
    "                                           ignore_index=True)\n",
    "\n",
    "\n",
    "\n",
    "count_gerp_bwa_SF12 = count_gerp_bwa_SF12.append({'ID': \"N/A\", 'vals': 0 ,\n",
    "                                            'pct_gerp': 0,\n",
    "                                            'pct_ovr': (len(dataBWA_SF12[\"GERP++_RS\"]) - len(gerp_avail)) * 100 / len(dataBWA_SF12[\"GERP++_RS\"])}, \n",
    "                                           ignore_index=True)\n"
   ]
  },
  {
   "cell_type": "code",
   "execution_count": 145,
   "id": "8bb3fc65",
   "metadata": {},
   "outputs": [],
   "source": [
    "gerp_avail = dataBWA_Ust[dataBWA_Ust[\"GERP++_RS\"] != \"-\"] \n",
    "count_gerp_bwa_Ust = pd.DataFrame(columns=['ID', 'vals','pct_gerp','pct_ovr'])\n",
    "\n",
    "count_gerp_bwa_Ust = count_gerp_bwa_Ust.append({'ID': \"constrained\", 'vals': sum(gerp_avail[\"GERP++_RS\"].astype(float) > 2),\n",
    "                                            'pct_gerp': sum(gerp_avail[\"GERP++_RS\"].astype(float) > 2) * 100 / len(gerp_avail[\"GERP++_RS\"]),\n",
    "                                            'pct_ovr': sum(gerp_avail[\"GERP++_RS\"].astype(float) > 2) * 100 / len(dataBWA_Ust[\"GERP++_RS\"])}, \n",
    "                                           ignore_index=True)\n",
    "\n",
    "count_gerp_bwa_Ust = count_gerp_bwa_Ust.append({'ID': \"not constrained\", 'vals': sum(gerp_avail[\"GERP++_RS\"].astype(float) <= 2),\n",
    "                                            'pct_gerp': sum(gerp_avail[\"GERP++_RS\"].astype(float) <= 2) * 100 / len(gerp_avail[\"GERP++_RS\"]),\n",
    "                                            'pct_ovr': sum(gerp_avail[\"GERP++_RS\"].astype(float) <= 2) * 100 / len(dataBWA_Ust[\"GERP++_RS\"])}, \n",
    "                                           ignore_index=True)\n",
    "\n",
    "\n",
    "\n",
    "count_gerp_bwa_Ust = count_gerp_bwa_Ust.append({'ID': \"N/A\", 'vals': 0 ,\n",
    "                                            'pct_gerp': 0,\n",
    "                                            'pct_ovr': (len(dataBWA_Ust[\"GERP++_RS\"]) - len(gerp_avail)) * 100 / len(dataBWA_Ust[\"GERP++_RS\"])}, \n",
    "                                           ignore_index=True)\n"
   ]
  },
  {
   "cell_type": "code",
   "execution_count": 146,
   "id": "23aa8896",
   "metadata": {},
   "outputs": [
    {
     "data": {
      "application/vnd.plotly.v1+json": {
       "config": {
        "plotlyServerURL": "https://plot.ly"
       },
       "data": [
        {
         "domain": {
          "x": [
           0,
           0.2125
          ],
          "y": [
           0.625,
           1
          ]
         },
         "labels": [
          "constrained",
          "not constrained",
          "N/A"
         ],
         "name": "BWA",
         "scalegroup": "one",
         "type": "pie",
         "values": [
          58.140935555109415,
          41.859064444890585,
          0
         ]
        },
        {
         "domain": {
          "x": [
           0.2625,
           0.475
          ],
          "y": [
           0.625,
           1
          ]
         },
         "labels": [
          "constrained",
          "not constrained",
          "N/A"
         ],
         "name": "BWA",
         "scalegroup": "one",
         "type": "pie",
         "values": [
          64.94314255198844,
          35.05685744801156,
          0
         ]
        },
        {
         "domain": {
          "x": [
           0.525,
           0.7375
          ],
          "y": [
           0.625,
           1
          ]
         },
         "labels": [
          "constrained",
          "not constrained",
          "N/A"
         ],
         "name": "BWA",
         "scalegroup": "one",
         "type": "pie",
         "values": [
          49.23018867924528,
          50.76981132075472,
          0
         ]
        },
        {
         "domain": {
          "x": [
           0.7875,
           1
          ],
          "y": [
           0.625,
           1
          ]
         },
         "labels": [
          "constrained",
          "not constrained",
          "N/A"
         ],
         "name": "BWA",
         "scalegroup": "one",
         "type": "pie",
         "values": [
          50.42622084186876,
          49.57377915813124,
          0
         ]
        },
        {
         "domain": {
          "x": [
           0,
           0.2125
          ],
          "y": [
           0,
           0.375
          ]
         },
         "labels": [
          "constrained",
          "not constrained",
          "N/A"
         ],
         "name": "BWA",
         "scalegroup": "one",
         "type": "pie",
         "values": [
          0.14745478516809038,
          0.10616133531611478,
          99.74638387951579
         ]
        },
        {
         "domain": {
          "x": [
           0.2625,
           0.475
          ],
          "y": [
           0,
           0.375
          ]
         },
         "labels": [
          "constrained",
          "not constrained",
          "N/A"
         ],
         "name": "BWA",
         "scalegroup": "one",
         "type": "pie",
         "values": [
          0.17885372359599164,
          0.09654675221685531,
          99.72459952418716
         ]
        },
        {
         "domain": {
          "x": [
           0.525,
           0.7375
          ],
          "y": [
           0,
           0.375
          ]
         },
         "labels": [
          "constrained",
          "not constrained",
          "N/A"
         ],
         "name": "BWA",
         "scalegroup": "one",
         "type": "pie",
         "values": [
          0.09125922551654393,
          0.09411326231025464,
          99.8146275121732
         ]
        },
        {
         "domain": {
          "x": [
           0.7875,
           1
          ],
          "y": [
           0,
           0.375
          ]
         },
         "labels": [
          "constrained",
          "not constrained",
          "N/A"
         ],
         "name": "BWA",
         "scalegroup": "one",
         "type": "pie",
         "values": [
          0.10186888895964044,
          0.10014682282469173,
          99.79798428821567
         ]
        }
       ],
       "layout": {
        "annotations": [
         {
          "font": {
           "size": 16
          },
          "showarrow": false,
          "text": "BR2 (2.8k)",
          "x": 0.10625,
          "xanchor": "center",
          "xref": "paper",
          "y": 1,
          "yanchor": "bottom",
          "yref": "paper"
         },
         {
          "font": {
           "size": 16
          },
          "showarrow": false,
          "text": "BOT16(5.4k)",
          "x": 0.36875,
          "xanchor": "center",
          "xref": "paper",
          "y": 1,
          "yanchor": "bottom",
          "yref": "paper"
         },
         {
          "font": {
           "size": 16
          },
          "showarrow": false,
          "text": "SF12(8.8k)",
          "x": 0.6312500000000001,
          "xanchor": "center",
          "xref": "paper",
          "y": 1,
          "yanchor": "bottom",
          "yref": "paper"
         },
         {
          "font": {
           "size": 16
          },
          "showarrow": false,
          "text": "Ust(44k)",
          "x": 0.89375,
          "xanchor": "center",
          "xref": "paper",
          "y": 1,
          "yanchor": "bottom",
          "yref": "paper"
         },
         {
          "font": {
           "size": 16
          },
          "showarrow": false,
          "text": " ",
          "x": 0.10625,
          "xanchor": "center",
          "xref": "paper",
          "y": 0.375,
          "yanchor": "bottom",
          "yref": "paper"
         },
         {
          "font": {
           "size": 16
          },
          "showarrow": false,
          "text": " ",
          "x": 0.36875,
          "xanchor": "center",
          "xref": "paper",
          "y": 0.375,
          "yanchor": "bottom",
          "yref": "paper"
         },
         {
          "font": {
           "size": 16
          },
          "showarrow": false,
          "text": " ",
          "x": 0.6312500000000001,
          "xanchor": "center",
          "xref": "paper",
          "y": 0.375,
          "yanchor": "bottom",
          "yref": "paper"
         },
         {
          "font": {
           "size": 16
          },
          "showarrow": false,
          "text": " ",
          "x": 0.89375,
          "xanchor": "center",
          "xref": "paper",
          "y": 0.375,
          "yanchor": "bottom",
          "yref": "paper"
         }
        ],
        "template": {
         "data": {
          "bar": [
           {
            "error_x": {
             "color": "#2a3f5f"
            },
            "error_y": {
             "color": "#2a3f5f"
            },
            "marker": {
             "line": {
              "color": "#E5ECF6",
              "width": 0.5
             },
             "pattern": {
              "fillmode": "overlay",
              "size": 10,
              "solidity": 0.2
             }
            },
            "type": "bar"
           }
          ],
          "barpolar": [
           {
            "marker": {
             "line": {
              "color": "#E5ECF6",
              "width": 0.5
             },
             "pattern": {
              "fillmode": "overlay",
              "size": 10,
              "solidity": 0.2
             }
            },
            "type": "barpolar"
           }
          ],
          "carpet": [
           {
            "aaxis": {
             "endlinecolor": "#2a3f5f",
             "gridcolor": "white",
             "linecolor": "white",
             "minorgridcolor": "white",
             "startlinecolor": "#2a3f5f"
            },
            "baxis": {
             "endlinecolor": "#2a3f5f",
             "gridcolor": "white",
             "linecolor": "white",
             "minorgridcolor": "white",
             "startlinecolor": "#2a3f5f"
            },
            "type": "carpet"
           }
          ],
          "choropleth": [
           {
            "colorbar": {
             "outlinewidth": 0,
             "ticks": ""
            },
            "type": "choropleth"
           }
          ],
          "contour": [
           {
            "colorbar": {
             "outlinewidth": 0,
             "ticks": ""
            },
            "colorscale": [
             [
              0,
              "#0d0887"
             ],
             [
              0.1111111111111111,
              "#46039f"
             ],
             [
              0.2222222222222222,
              "#7201a8"
             ],
             [
              0.3333333333333333,
              "#9c179e"
             ],
             [
              0.4444444444444444,
              "#bd3786"
             ],
             [
              0.5555555555555556,
              "#d8576b"
             ],
             [
              0.6666666666666666,
              "#ed7953"
             ],
             [
              0.7777777777777778,
              "#fb9f3a"
             ],
             [
              0.8888888888888888,
              "#fdca26"
             ],
             [
              1,
              "#f0f921"
             ]
            ],
            "type": "contour"
           }
          ],
          "contourcarpet": [
           {
            "colorbar": {
             "outlinewidth": 0,
             "ticks": ""
            },
            "type": "contourcarpet"
           }
          ],
          "heatmap": [
           {
            "colorbar": {
             "outlinewidth": 0,
             "ticks": ""
            },
            "colorscale": [
             [
              0,
              "#0d0887"
             ],
             [
              0.1111111111111111,
              "#46039f"
             ],
             [
              0.2222222222222222,
              "#7201a8"
             ],
             [
              0.3333333333333333,
              "#9c179e"
             ],
             [
              0.4444444444444444,
              "#bd3786"
             ],
             [
              0.5555555555555556,
              "#d8576b"
             ],
             [
              0.6666666666666666,
              "#ed7953"
             ],
             [
              0.7777777777777778,
              "#fb9f3a"
             ],
             [
              0.8888888888888888,
              "#fdca26"
             ],
             [
              1,
              "#f0f921"
             ]
            ],
            "type": "heatmap"
           }
          ],
          "heatmapgl": [
           {
            "colorbar": {
             "outlinewidth": 0,
             "ticks": ""
            },
            "colorscale": [
             [
              0,
              "#0d0887"
             ],
             [
              0.1111111111111111,
              "#46039f"
             ],
             [
              0.2222222222222222,
              "#7201a8"
             ],
             [
              0.3333333333333333,
              "#9c179e"
             ],
             [
              0.4444444444444444,
              "#bd3786"
             ],
             [
              0.5555555555555556,
              "#d8576b"
             ],
             [
              0.6666666666666666,
              "#ed7953"
             ],
             [
              0.7777777777777778,
              "#fb9f3a"
             ],
             [
              0.8888888888888888,
              "#fdca26"
             ],
             [
              1,
              "#f0f921"
             ]
            ],
            "type": "heatmapgl"
           }
          ],
          "histogram": [
           {
            "marker": {
             "pattern": {
              "fillmode": "overlay",
              "size": 10,
              "solidity": 0.2
             }
            },
            "type": "histogram"
           }
          ],
          "histogram2d": [
           {
            "colorbar": {
             "outlinewidth": 0,
             "ticks": ""
            },
            "colorscale": [
             [
              0,
              "#0d0887"
             ],
             [
              0.1111111111111111,
              "#46039f"
             ],
             [
              0.2222222222222222,
              "#7201a8"
             ],
             [
              0.3333333333333333,
              "#9c179e"
             ],
             [
              0.4444444444444444,
              "#bd3786"
             ],
             [
              0.5555555555555556,
              "#d8576b"
             ],
             [
              0.6666666666666666,
              "#ed7953"
             ],
             [
              0.7777777777777778,
              "#fb9f3a"
             ],
             [
              0.8888888888888888,
              "#fdca26"
             ],
             [
              1,
              "#f0f921"
             ]
            ],
            "type": "histogram2d"
           }
          ],
          "histogram2dcontour": [
           {
            "colorbar": {
             "outlinewidth": 0,
             "ticks": ""
            },
            "colorscale": [
             [
              0,
              "#0d0887"
             ],
             [
              0.1111111111111111,
              "#46039f"
             ],
             [
              0.2222222222222222,
              "#7201a8"
             ],
             [
              0.3333333333333333,
              "#9c179e"
             ],
             [
              0.4444444444444444,
              "#bd3786"
             ],
             [
              0.5555555555555556,
              "#d8576b"
             ],
             [
              0.6666666666666666,
              "#ed7953"
             ],
             [
              0.7777777777777778,
              "#fb9f3a"
             ],
             [
              0.8888888888888888,
              "#fdca26"
             ],
             [
              1,
              "#f0f921"
             ]
            ],
            "type": "histogram2dcontour"
           }
          ],
          "mesh3d": [
           {
            "colorbar": {
             "outlinewidth": 0,
             "ticks": ""
            },
            "type": "mesh3d"
           }
          ],
          "parcoords": [
           {
            "line": {
             "colorbar": {
              "outlinewidth": 0,
              "ticks": ""
             }
            },
            "type": "parcoords"
           }
          ],
          "pie": [
           {
            "automargin": true,
            "type": "pie"
           }
          ],
          "scatter": [
           {
            "marker": {
             "colorbar": {
              "outlinewidth": 0,
              "ticks": ""
             }
            },
            "type": "scatter"
           }
          ],
          "scatter3d": [
           {
            "line": {
             "colorbar": {
              "outlinewidth": 0,
              "ticks": ""
             }
            },
            "marker": {
             "colorbar": {
              "outlinewidth": 0,
              "ticks": ""
             }
            },
            "type": "scatter3d"
           }
          ],
          "scattercarpet": [
           {
            "marker": {
             "colorbar": {
              "outlinewidth": 0,
              "ticks": ""
             }
            },
            "type": "scattercarpet"
           }
          ],
          "scattergeo": [
           {
            "marker": {
             "colorbar": {
              "outlinewidth": 0,
              "ticks": ""
             }
            },
            "type": "scattergeo"
           }
          ],
          "scattergl": [
           {
            "marker": {
             "colorbar": {
              "outlinewidth": 0,
              "ticks": ""
             }
            },
            "type": "scattergl"
           }
          ],
          "scattermapbox": [
           {
            "marker": {
             "colorbar": {
              "outlinewidth": 0,
              "ticks": ""
             }
            },
            "type": "scattermapbox"
           }
          ],
          "scatterpolar": [
           {
            "marker": {
             "colorbar": {
              "outlinewidth": 0,
              "ticks": ""
             }
            },
            "type": "scatterpolar"
           }
          ],
          "scatterpolargl": [
           {
            "marker": {
             "colorbar": {
              "outlinewidth": 0,
              "ticks": ""
             }
            },
            "type": "scatterpolargl"
           }
          ],
          "scatterternary": [
           {
            "marker": {
             "colorbar": {
              "outlinewidth": 0,
              "ticks": ""
             }
            },
            "type": "scatterternary"
           }
          ],
          "surface": [
           {
            "colorbar": {
             "outlinewidth": 0,
             "ticks": ""
            },
            "colorscale": [
             [
              0,
              "#0d0887"
             ],
             [
              0.1111111111111111,
              "#46039f"
             ],
             [
              0.2222222222222222,
              "#7201a8"
             ],
             [
              0.3333333333333333,
              "#9c179e"
             ],
             [
              0.4444444444444444,
              "#bd3786"
             ],
             [
              0.5555555555555556,
              "#d8576b"
             ],
             [
              0.6666666666666666,
              "#ed7953"
             ],
             [
              0.7777777777777778,
              "#fb9f3a"
             ],
             [
              0.8888888888888888,
              "#fdca26"
             ],
             [
              1,
              "#f0f921"
             ]
            ],
            "type": "surface"
           }
          ],
          "table": [
           {
            "cells": {
             "fill": {
              "color": "#EBF0F8"
             },
             "line": {
              "color": "white"
             }
            },
            "header": {
             "fill": {
              "color": "#C8D4E3"
             },
             "line": {
              "color": "white"
             }
            },
            "type": "table"
           }
          ]
         },
         "layout": {
          "annotationdefaults": {
           "arrowcolor": "#2a3f5f",
           "arrowhead": 0,
           "arrowwidth": 1
          },
          "autotypenumbers": "strict",
          "coloraxis": {
           "colorbar": {
            "outlinewidth": 0,
            "ticks": ""
           }
          },
          "colorscale": {
           "diverging": [
            [
             0,
             "#8e0152"
            ],
            [
             0.1,
             "#c51b7d"
            ],
            [
             0.2,
             "#de77ae"
            ],
            [
             0.3,
             "#f1b6da"
            ],
            [
             0.4,
             "#fde0ef"
            ],
            [
             0.5,
             "#f7f7f7"
            ],
            [
             0.6,
             "#e6f5d0"
            ],
            [
             0.7,
             "#b8e186"
            ],
            [
             0.8,
             "#7fbc41"
            ],
            [
             0.9,
             "#4d9221"
            ],
            [
             1,
             "#276419"
            ]
           ],
           "sequential": [
            [
             0,
             "#0d0887"
            ],
            [
             0.1111111111111111,
             "#46039f"
            ],
            [
             0.2222222222222222,
             "#7201a8"
            ],
            [
             0.3333333333333333,
             "#9c179e"
            ],
            [
             0.4444444444444444,
             "#bd3786"
            ],
            [
             0.5555555555555556,
             "#d8576b"
            ],
            [
             0.6666666666666666,
             "#ed7953"
            ],
            [
             0.7777777777777778,
             "#fb9f3a"
            ],
            [
             0.8888888888888888,
             "#fdca26"
            ],
            [
             1,
             "#f0f921"
            ]
           ],
           "sequentialminus": [
            [
             0,
             "#0d0887"
            ],
            [
             0.1111111111111111,
             "#46039f"
            ],
            [
             0.2222222222222222,
             "#7201a8"
            ],
            [
             0.3333333333333333,
             "#9c179e"
            ],
            [
             0.4444444444444444,
             "#bd3786"
            ],
            [
             0.5555555555555556,
             "#d8576b"
            ],
            [
             0.6666666666666666,
             "#ed7953"
            ],
            [
             0.7777777777777778,
             "#fb9f3a"
            ],
            [
             0.8888888888888888,
             "#fdca26"
            ],
            [
             1,
             "#f0f921"
            ]
           ]
          },
          "colorway": [
           "#636efa",
           "#EF553B",
           "#00cc96",
           "#ab63fa",
           "#FFA15A",
           "#19d3f3",
           "#FF6692",
           "#B6E880",
           "#FF97FF",
           "#FECB52"
          ],
          "font": {
           "color": "#2a3f5f"
          },
          "geo": {
           "bgcolor": "white",
           "lakecolor": "white",
           "landcolor": "#E5ECF6",
           "showlakes": true,
           "showland": true,
           "subunitcolor": "white"
          },
          "hoverlabel": {
           "align": "left"
          },
          "hovermode": "closest",
          "mapbox": {
           "style": "light"
          },
          "paper_bgcolor": "white",
          "plot_bgcolor": "#E5ECF6",
          "polar": {
           "angularaxis": {
            "gridcolor": "white",
            "linecolor": "white",
            "ticks": ""
           },
           "bgcolor": "#E5ECF6",
           "radialaxis": {
            "gridcolor": "white",
            "linecolor": "white",
            "ticks": ""
           }
          },
          "scene": {
           "xaxis": {
            "backgroundcolor": "#E5ECF6",
            "gridcolor": "white",
            "gridwidth": 2,
            "linecolor": "white",
            "showbackground": true,
            "ticks": "",
            "zerolinecolor": "white"
           },
           "yaxis": {
            "backgroundcolor": "#E5ECF6",
            "gridcolor": "white",
            "gridwidth": 2,
            "linecolor": "white",
            "showbackground": true,
            "ticks": "",
            "zerolinecolor": "white"
           },
           "zaxis": {
            "backgroundcolor": "#E5ECF6",
            "gridcolor": "white",
            "gridwidth": 2,
            "linecolor": "white",
            "showbackground": true,
            "ticks": "",
            "zerolinecolor": "white"
           }
          },
          "shapedefaults": {
           "line": {
            "color": "#2a3f5f"
           }
          },
          "ternary": {
           "aaxis": {
            "gridcolor": "white",
            "linecolor": "white",
            "ticks": ""
           },
           "baxis": {
            "gridcolor": "white",
            "linecolor": "white",
            "ticks": ""
           },
           "bgcolor": "#E5ECF6",
           "caxis": {
            "gridcolor": "white",
            "linecolor": "white",
            "ticks": ""
           }
          },
          "title": {
           "x": 0.05
          },
          "xaxis": {
           "automargin": true,
           "gridcolor": "white",
           "linecolor": "white",
           "ticks": "",
           "title": {
            "standoff": 15
           },
           "zerolinecolor": "white",
           "zerolinewidth": 2
          },
          "yaxis": {
           "automargin": true,
           "gridcolor": "white",
           "linecolor": "white",
           "ticks": "",
           "title": {
            "standoff": 15
           },
           "zerolinecolor": "white",
           "zerolinewidth": 2
          }
         }
        },
        "title": {
         "text": "GERP_score through time"
        }
       }
      },
      "text/html": [
       "<div>                            <div id=\"40fd14fd-8439-4593-8697-054af33a8073\" class=\"plotly-graph-div\" style=\"height:525px; width:100%;\"></div>            <script type=\"text/javascript\">                require([\"plotly\"], function(Plotly) {                    window.PLOTLYENV=window.PLOTLYENV || {};                                    if (document.getElementById(\"40fd14fd-8439-4593-8697-054af33a8073\")) {                    Plotly.newPlot(                        \"40fd14fd-8439-4593-8697-054af33a8073\",                        [{\"domain\":{\"x\":[0.0,0.2125],\"y\":[0.625,1.0]},\"labels\":[\"constrained\",\"not constrained\",\"N/A\"],\"name\":\"BWA\",\"scalegroup\":\"one\",\"type\":\"pie\",\"values\":[58.140935555109415,41.859064444890585,0.0]},{\"domain\":{\"x\":[0.2625,0.475],\"y\":[0.625,1.0]},\"labels\":[\"constrained\",\"not constrained\",\"N/A\"],\"name\":\"BWA\",\"scalegroup\":\"one\",\"type\":\"pie\",\"values\":[64.94314255198844,35.05685744801156,0.0]},{\"domain\":{\"x\":[0.525,0.7375],\"y\":[0.625,1.0]},\"labels\":[\"constrained\",\"not constrained\",\"N/A\"],\"name\":\"BWA\",\"scalegroup\":\"one\",\"type\":\"pie\",\"values\":[49.23018867924528,50.76981132075472,0.0]},{\"domain\":{\"x\":[0.7875,1.0],\"y\":[0.625,1.0]},\"labels\":[\"constrained\",\"not constrained\",\"N/A\"],\"name\":\"BWA\",\"scalegroup\":\"one\",\"type\":\"pie\",\"values\":[50.42622084186876,49.57377915813124,0.0]},{\"domain\":{\"x\":[0.0,0.2125],\"y\":[0.0,0.375]},\"labels\":[\"constrained\",\"not constrained\",\"N/A\"],\"name\":\"BWA\",\"scalegroup\":\"one\",\"type\":\"pie\",\"values\":[0.14745478516809038,0.10616133531611478,99.74638387951579]},{\"domain\":{\"x\":[0.2625,0.475],\"y\":[0.0,0.375]},\"labels\":[\"constrained\",\"not constrained\",\"N/A\"],\"name\":\"BWA\",\"scalegroup\":\"one\",\"type\":\"pie\",\"values\":[0.17885372359599164,0.09654675221685531,99.72459952418716]},{\"domain\":{\"x\":[0.525,0.7375],\"y\":[0.0,0.375]},\"labels\":[\"constrained\",\"not constrained\",\"N/A\"],\"name\":\"BWA\",\"scalegroup\":\"one\",\"type\":\"pie\",\"values\":[0.09125922551654393,0.09411326231025464,99.8146275121732]},{\"domain\":{\"x\":[0.7875,1.0],\"y\":[0.0,0.375]},\"labels\":[\"constrained\",\"not constrained\",\"N/A\"],\"name\":\"BWA\",\"scalegroup\":\"one\",\"type\":\"pie\",\"values\":[0.10186888895964044,0.10014682282469173,99.79798428821567]}],                        {\"annotations\":[{\"font\":{\"size\":16},\"showarrow\":false,\"text\":\"BR2 (2.8k)\",\"x\":0.10625,\"xanchor\":\"center\",\"xref\":\"paper\",\"y\":1.0,\"yanchor\":\"bottom\",\"yref\":\"paper\"},{\"font\":{\"size\":16},\"showarrow\":false,\"text\":\"BOT16(5.4k)\",\"x\":0.36875,\"xanchor\":\"center\",\"xref\":\"paper\",\"y\":1.0,\"yanchor\":\"bottom\",\"yref\":\"paper\"},{\"font\":{\"size\":16},\"showarrow\":false,\"text\":\"SF12(8.8k)\",\"x\":0.6312500000000001,\"xanchor\":\"center\",\"xref\":\"paper\",\"y\":1.0,\"yanchor\":\"bottom\",\"yref\":\"paper\"},{\"font\":{\"size\":16},\"showarrow\":false,\"text\":\"Ust(44k)\",\"x\":0.89375,\"xanchor\":\"center\",\"xref\":\"paper\",\"y\":1.0,\"yanchor\":\"bottom\",\"yref\":\"paper\"},{\"font\":{\"size\":16},\"showarrow\":false,\"text\":\" \",\"x\":0.10625,\"xanchor\":\"center\",\"xref\":\"paper\",\"y\":0.375,\"yanchor\":\"bottom\",\"yref\":\"paper\"},{\"font\":{\"size\":16},\"showarrow\":false,\"text\":\" \",\"x\":0.36875,\"xanchor\":\"center\",\"xref\":\"paper\",\"y\":0.375,\"yanchor\":\"bottom\",\"yref\":\"paper\"},{\"font\":{\"size\":16},\"showarrow\":false,\"text\":\" \",\"x\":0.6312500000000001,\"xanchor\":\"center\",\"xref\":\"paper\",\"y\":0.375,\"yanchor\":\"bottom\",\"yref\":\"paper\"},{\"font\":{\"size\":16},\"showarrow\":false,\"text\":\" \",\"x\":0.89375,\"xanchor\":\"center\",\"xref\":\"paper\",\"y\":0.375,\"yanchor\":\"bottom\",\"yref\":\"paper\"}],\"template\":{\"data\":{\"bar\":[{\"error_x\":{\"color\":\"#2a3f5f\"},\"error_y\":{\"color\":\"#2a3f5f\"},\"marker\":{\"line\":{\"color\":\"#E5ECF6\",\"width\":0.5},\"pattern\":{\"fillmode\":\"overlay\",\"size\":10,\"solidity\":0.2}},\"type\":\"bar\"}],\"barpolar\":[{\"marker\":{\"line\":{\"color\":\"#E5ECF6\",\"width\":0.5},\"pattern\":{\"fillmode\":\"overlay\",\"size\":10,\"solidity\":0.2}},\"type\":\"barpolar\"}],\"carpet\":[{\"aaxis\":{\"endlinecolor\":\"#2a3f5f\",\"gridcolor\":\"white\",\"linecolor\":\"white\",\"minorgridcolor\":\"white\",\"startlinecolor\":\"#2a3f5f\"},\"baxis\":{\"endlinecolor\":\"#2a3f5f\",\"gridcolor\":\"white\",\"linecolor\":\"white\",\"minorgridcolor\":\"white\",\"startlinecolor\":\"#2a3f5f\"},\"type\":\"carpet\"}],\"choropleth\":[{\"colorbar\":{\"outlinewidth\":0,\"ticks\":\"\"},\"type\":\"choropleth\"}],\"contour\":[{\"colorbar\":{\"outlinewidth\":0,\"ticks\":\"\"},\"colorscale\":[[0.0,\"#0d0887\"],[0.1111111111111111,\"#46039f\"],[0.2222222222222222,\"#7201a8\"],[0.3333333333333333,\"#9c179e\"],[0.4444444444444444,\"#bd3786\"],[0.5555555555555556,\"#d8576b\"],[0.6666666666666666,\"#ed7953\"],[0.7777777777777778,\"#fb9f3a\"],[0.8888888888888888,\"#fdca26\"],[1.0,\"#f0f921\"]],\"type\":\"contour\"}],\"contourcarpet\":[{\"colorbar\":{\"outlinewidth\":0,\"ticks\":\"\"},\"type\":\"contourcarpet\"}],\"heatmap\":[{\"colorbar\":{\"outlinewidth\":0,\"ticks\":\"\"},\"colorscale\":[[0.0,\"#0d0887\"],[0.1111111111111111,\"#46039f\"],[0.2222222222222222,\"#7201a8\"],[0.3333333333333333,\"#9c179e\"],[0.4444444444444444,\"#bd3786\"],[0.5555555555555556,\"#d8576b\"],[0.6666666666666666,\"#ed7953\"],[0.7777777777777778,\"#fb9f3a\"],[0.8888888888888888,\"#fdca26\"],[1.0,\"#f0f921\"]],\"type\":\"heatmap\"}],\"heatmapgl\":[{\"colorbar\":{\"outlinewidth\":0,\"ticks\":\"\"},\"colorscale\":[[0.0,\"#0d0887\"],[0.1111111111111111,\"#46039f\"],[0.2222222222222222,\"#7201a8\"],[0.3333333333333333,\"#9c179e\"],[0.4444444444444444,\"#bd3786\"],[0.5555555555555556,\"#d8576b\"],[0.6666666666666666,\"#ed7953\"],[0.7777777777777778,\"#fb9f3a\"],[0.8888888888888888,\"#fdca26\"],[1.0,\"#f0f921\"]],\"type\":\"heatmapgl\"}],\"histogram\":[{\"marker\":{\"pattern\":{\"fillmode\":\"overlay\",\"size\":10,\"solidity\":0.2}},\"type\":\"histogram\"}],\"histogram2d\":[{\"colorbar\":{\"outlinewidth\":0,\"ticks\":\"\"},\"colorscale\":[[0.0,\"#0d0887\"],[0.1111111111111111,\"#46039f\"],[0.2222222222222222,\"#7201a8\"],[0.3333333333333333,\"#9c179e\"],[0.4444444444444444,\"#bd3786\"],[0.5555555555555556,\"#d8576b\"],[0.6666666666666666,\"#ed7953\"],[0.7777777777777778,\"#fb9f3a\"],[0.8888888888888888,\"#fdca26\"],[1.0,\"#f0f921\"]],\"type\":\"histogram2d\"}],\"histogram2dcontour\":[{\"colorbar\":{\"outlinewidth\":0,\"ticks\":\"\"},\"colorscale\":[[0.0,\"#0d0887\"],[0.1111111111111111,\"#46039f\"],[0.2222222222222222,\"#7201a8\"],[0.3333333333333333,\"#9c179e\"],[0.4444444444444444,\"#bd3786\"],[0.5555555555555556,\"#d8576b\"],[0.6666666666666666,\"#ed7953\"],[0.7777777777777778,\"#fb9f3a\"],[0.8888888888888888,\"#fdca26\"],[1.0,\"#f0f921\"]],\"type\":\"histogram2dcontour\"}],\"mesh3d\":[{\"colorbar\":{\"outlinewidth\":0,\"ticks\":\"\"},\"type\":\"mesh3d\"}],\"parcoords\":[{\"line\":{\"colorbar\":{\"outlinewidth\":0,\"ticks\":\"\"}},\"type\":\"parcoords\"}],\"pie\":[{\"automargin\":true,\"type\":\"pie\"}],\"scatter\":[{\"marker\":{\"colorbar\":{\"outlinewidth\":0,\"ticks\":\"\"}},\"type\":\"scatter\"}],\"scatter3d\":[{\"line\":{\"colorbar\":{\"outlinewidth\":0,\"ticks\":\"\"}},\"marker\":{\"colorbar\":{\"outlinewidth\":0,\"ticks\":\"\"}},\"type\":\"scatter3d\"}],\"scattercarpet\":[{\"marker\":{\"colorbar\":{\"outlinewidth\":0,\"ticks\":\"\"}},\"type\":\"scattercarpet\"}],\"scattergeo\":[{\"marker\":{\"colorbar\":{\"outlinewidth\":0,\"ticks\":\"\"}},\"type\":\"scattergeo\"}],\"scattergl\":[{\"marker\":{\"colorbar\":{\"outlinewidth\":0,\"ticks\":\"\"}},\"type\":\"scattergl\"}],\"scattermapbox\":[{\"marker\":{\"colorbar\":{\"outlinewidth\":0,\"ticks\":\"\"}},\"type\":\"scattermapbox\"}],\"scatterpolar\":[{\"marker\":{\"colorbar\":{\"outlinewidth\":0,\"ticks\":\"\"}},\"type\":\"scatterpolar\"}],\"scatterpolargl\":[{\"marker\":{\"colorbar\":{\"outlinewidth\":0,\"ticks\":\"\"}},\"type\":\"scatterpolargl\"}],\"scatterternary\":[{\"marker\":{\"colorbar\":{\"outlinewidth\":0,\"ticks\":\"\"}},\"type\":\"scatterternary\"}],\"surface\":[{\"colorbar\":{\"outlinewidth\":0,\"ticks\":\"\"},\"colorscale\":[[0.0,\"#0d0887\"],[0.1111111111111111,\"#46039f\"],[0.2222222222222222,\"#7201a8\"],[0.3333333333333333,\"#9c179e\"],[0.4444444444444444,\"#bd3786\"],[0.5555555555555556,\"#d8576b\"],[0.6666666666666666,\"#ed7953\"],[0.7777777777777778,\"#fb9f3a\"],[0.8888888888888888,\"#fdca26\"],[1.0,\"#f0f921\"]],\"type\":\"surface\"}],\"table\":[{\"cells\":{\"fill\":{\"color\":\"#EBF0F8\"},\"line\":{\"color\":\"white\"}},\"header\":{\"fill\":{\"color\":\"#C8D4E3\"},\"line\":{\"color\":\"white\"}},\"type\":\"table\"}]},\"layout\":{\"annotationdefaults\":{\"arrowcolor\":\"#2a3f5f\",\"arrowhead\":0,\"arrowwidth\":1},\"autotypenumbers\":\"strict\",\"coloraxis\":{\"colorbar\":{\"outlinewidth\":0,\"ticks\":\"\"}},\"colorscale\":{\"diverging\":[[0,\"#8e0152\"],[0.1,\"#c51b7d\"],[0.2,\"#de77ae\"],[0.3,\"#f1b6da\"],[0.4,\"#fde0ef\"],[0.5,\"#f7f7f7\"],[0.6,\"#e6f5d0\"],[0.7,\"#b8e186\"],[0.8,\"#7fbc41\"],[0.9,\"#4d9221\"],[1,\"#276419\"]],\"sequential\":[[0.0,\"#0d0887\"],[0.1111111111111111,\"#46039f\"],[0.2222222222222222,\"#7201a8\"],[0.3333333333333333,\"#9c179e\"],[0.4444444444444444,\"#bd3786\"],[0.5555555555555556,\"#d8576b\"],[0.6666666666666666,\"#ed7953\"],[0.7777777777777778,\"#fb9f3a\"],[0.8888888888888888,\"#fdca26\"],[1.0,\"#f0f921\"]],\"sequentialminus\":[[0.0,\"#0d0887\"],[0.1111111111111111,\"#46039f\"],[0.2222222222222222,\"#7201a8\"],[0.3333333333333333,\"#9c179e\"],[0.4444444444444444,\"#bd3786\"],[0.5555555555555556,\"#d8576b\"],[0.6666666666666666,\"#ed7953\"],[0.7777777777777778,\"#fb9f3a\"],[0.8888888888888888,\"#fdca26\"],[1.0,\"#f0f921\"]]},\"colorway\":[\"#636efa\",\"#EF553B\",\"#00cc96\",\"#ab63fa\",\"#FFA15A\",\"#19d3f3\",\"#FF6692\",\"#B6E880\",\"#FF97FF\",\"#FECB52\"],\"font\":{\"color\":\"#2a3f5f\"},\"geo\":{\"bgcolor\":\"white\",\"lakecolor\":\"white\",\"landcolor\":\"#E5ECF6\",\"showlakes\":true,\"showland\":true,\"subunitcolor\":\"white\"},\"hoverlabel\":{\"align\":\"left\"},\"hovermode\":\"closest\",\"mapbox\":{\"style\":\"light\"},\"paper_bgcolor\":\"white\",\"plot_bgcolor\":\"#E5ECF6\",\"polar\":{\"angularaxis\":{\"gridcolor\":\"white\",\"linecolor\":\"white\",\"ticks\":\"\"},\"bgcolor\":\"#E5ECF6\",\"radialaxis\":{\"gridcolor\":\"white\",\"linecolor\":\"white\",\"ticks\":\"\"}},\"scene\":{\"xaxis\":{\"backgroundcolor\":\"#E5ECF6\",\"gridcolor\":\"white\",\"gridwidth\":2,\"linecolor\":\"white\",\"showbackground\":true,\"ticks\":\"\",\"zerolinecolor\":\"white\"},\"yaxis\":{\"backgroundcolor\":\"#E5ECF6\",\"gridcolor\":\"white\",\"gridwidth\":2,\"linecolor\":\"white\",\"showbackground\":true,\"ticks\":\"\",\"zerolinecolor\":\"white\"},\"zaxis\":{\"backgroundcolor\":\"#E5ECF6\",\"gridcolor\":\"white\",\"gridwidth\":2,\"linecolor\":\"white\",\"showbackground\":true,\"ticks\":\"\",\"zerolinecolor\":\"white\"}},\"shapedefaults\":{\"line\":{\"color\":\"#2a3f5f\"}},\"ternary\":{\"aaxis\":{\"gridcolor\":\"white\",\"linecolor\":\"white\",\"ticks\":\"\"},\"baxis\":{\"gridcolor\":\"white\",\"linecolor\":\"white\",\"ticks\":\"\"},\"bgcolor\":\"#E5ECF6\",\"caxis\":{\"gridcolor\":\"white\",\"linecolor\":\"white\",\"ticks\":\"\"}},\"title\":{\"x\":0.05},\"xaxis\":{\"automargin\":true,\"gridcolor\":\"white\",\"linecolor\":\"white\",\"ticks\":\"\",\"title\":{\"standoff\":15},\"zerolinecolor\":\"white\",\"zerolinewidth\":2},\"yaxis\":{\"automargin\":true,\"gridcolor\":\"white\",\"linecolor\":\"white\",\"ticks\":\"\",\"title\":{\"standoff\":15},\"zerolinecolor\":\"white\",\"zerolinewidth\":2}}},\"title\":{\"text\":\"GERP_score through time\"}},                        {\"responsive\": true}                    ).then(function(){\n",
       "                            \n",
       "var gd = document.getElementById('40fd14fd-8439-4593-8697-054af33a8073');\n",
       "var x = new MutationObserver(function (mutations, observer) {{\n",
       "        var display = window.getComputedStyle(gd).display;\n",
       "        if (!display || display === 'none') {{\n",
       "            console.log([gd, 'removed!']);\n",
       "            Plotly.purge(gd);\n",
       "            observer.disconnect();\n",
       "        }}\n",
       "}});\n",
       "\n",
       "// Listen for the removal of the full notebook cells\n",
       "var notebookContainer = gd.closest('#notebook-container');\n",
       "if (notebookContainer) {{\n",
       "    x.observe(notebookContainer, {childList: true});\n",
       "}}\n",
       "\n",
       "// Listen for the clearing of the current output cell\n",
       "var outputEl = gd.closest('.output');\n",
       "if (outputEl) {{\n",
       "    x.observe(outputEl, {childList: true});\n",
       "}}\n",
       "\n",
       "                        })                };                });            </script>        </div>"
      ]
     },
     "metadata": {},
     "output_type": "display_data"
    }
   ],
   "source": [
    "fig = make_subplots(2, 4, specs=[[{'type':'domain'}, {'type':'domain'}, {'type':'domain'}, {'type':'domain'}],\n",
    "                                  [{'type':'domain'}, {'type':'domain'}, {'type':'domain'}, {'type':'domain'}]],\n",
    "                    subplot_titles=['BR2 (2.8k)', 'BOT16(5.4k)','SF12(8.8k)','Ust(44k)',' ', ' ',' ', ' '])\n",
    "\n",
    "\n",
    "fig.add_trace(go.Pie(labels=count_gerp_bwa_BR2[\"ID\"], values=count_gerp_bwa_BR2[\"pct_gerp\"], scalegroup='one',\n",
    "                     name=\"BWA\"), 1, 1)\n",
    "fig.add_trace(go.Pie(labels=count_gerp_bwa_BOT[\"ID\"], values=count_gerp_bwa_BOT[\"pct_gerp\"], scalegroup='one',\n",
    "                     name=\"BWA\"), 1, 2)\n",
    "fig.add_trace(go.Pie(labels=count_gerp_bwa_SF12[\"ID\"], values=count_gerp_bwa_SF12[\"pct_gerp\"], scalegroup='one',\n",
    "                     name=\"BWA\"), 1, 3)\n",
    "fig.add_trace(go.Pie(labels=count_gerp_bwa_Ust[\"ID\"], values=count_gerp_bwa_Ust[\"pct_gerp\"], scalegroup='one',\n",
    "                     name=\"BWA\"), 1, 4)\n",
    "\n",
    "\n",
    "fig.add_trace(go.Pie(labels=count_gerp_bwa_BR2[\"ID\"], values=count_gerp_bwa_BR2[\"pct_ovr\"], scalegroup='one',\n",
    "                     name=\"BWA\"), 2, 1)\n",
    "fig.add_trace(go.Pie(labels=count_gerp_bwa_BOT[\"ID\"], values=count_gerp_bwa_BOT[\"pct_ovr\"], scalegroup='one',\n",
    "                     name=\"BWA\"), 2, 2)\n",
    "fig.add_trace(go.Pie(labels=count_gerp_bwa_SF12[\"ID\"], values=count_gerp_bwa_SF12[\"pct_ovr\"], scalegroup='one',\n",
    "                     name=\"BWA\"), 2, 3)\n",
    "fig.add_trace(go.Pie(labels=count_gerp_bwa_Ust[\"ID\"], values=count_gerp_bwa_Ust[\"pct_ovr\"], scalegroup='one',\n",
    "                     name=\"BWA\"), 2, 4)\n",
    "\n",
    "fig.update_layout(title_text='GERP_score through time')\n",
    "fig.show()"
   ]
  },
  {
   "cell_type": "code",
   "execution_count": 56,
   "id": "902a0d26",
   "metadata": {
    "scrolled": true
   },
   "outputs": [
    {
     "data": {
      "text/html": [
       "<div>\n",
       "<style scoped>\n",
       "    .dataframe tbody tr th:only-of-type {\n",
       "        vertical-align: middle;\n",
       "    }\n",
       "\n",
       "    .dataframe tbody tr th {\n",
       "        vertical-align: top;\n",
       "    }\n",
       "\n",
       "    .dataframe thead th {\n",
       "        text-align: right;\n",
       "    }\n",
       "</style>\n",
       "<table border=\"1\" class=\"dataframe\">\n",
       "  <thead>\n",
       "    <tr style=\"text-align: right;\">\n",
       "      <th></th>\n",
       "      <th>CADD_phred</th>\n",
       "      <th>CADD_raw</th>\n",
       "      <th>#Uploaded_variation</th>\n",
       "      <th>Location</th>\n",
       "      <th>Allele</th>\n",
       "      <th>Gene</th>\n",
       "      <th>Feature</th>\n",
       "      <th>Feature_type</th>\n",
       "      <th>Consequence</th>\n",
       "      <th>cDNA_position</th>\n",
       "    </tr>\n",
       "  </thead>\n",
       "  <tbody>\n",
       "    <tr>\n",
       "      <th>21490</th>\n",
       "      <td>-</td>\n",
       "      <td>-</td>\n",
       "      <td>1_1649105_A/G</td>\n",
       "      <td>1:1649105</td>\n",
       "      <td>G</td>\n",
       "      <td>ENSG00000008128</td>\n",
       "      <td>ENST00000378635</td>\n",
       "      <td>Transcript</td>\n",
       "      <td>intron_variant</td>\n",
       "      <td>-</td>\n",
       "    </tr>\n",
       "    <tr>\n",
       "      <th>21491</th>\n",
       "      <td>-</td>\n",
       "      <td>-</td>\n",
       "      <td>1_1649105_A/G</td>\n",
       "      <td>1:1649105</td>\n",
       "      <td>G</td>\n",
       "      <td>ENSG00000008128</td>\n",
       "      <td>ENST00000378638</td>\n",
       "      <td>Transcript</td>\n",
       "      <td>intron_variant</td>\n",
       "      <td>-</td>\n",
       "    </tr>\n",
       "  </tbody>\n",
       "</table>\n",
       "</div>"
      ],
      "text/plain": [
       "      CADD_phred CADD_raw #Uploaded_variation   Location Allele  \\\n",
       "21490          -        -       1_1649105_A/G  1:1649105      G   \n",
       "21491          -        -       1_1649105_A/G  1:1649105      G   \n",
       "\n",
       "                  Gene          Feature Feature_type     Consequence  \\\n",
       "21490  ENSG00000008128  ENST00000378635   Transcript  intron_variant   \n",
       "21491  ENSG00000008128  ENST00000378638   Transcript  intron_variant   \n",
       "\n",
       "      cDNA_position  \n",
       "21490             -  \n",
       "21491             -  "
      ]
     },
     "execution_count": 56,
     "metadata": {},
     "output_type": "execute_result"
    }
   ],
   "source": [
    "#514\n",
    "#538\n",
    "#552\n",
    "#897 sub\n",
    "#1064 indel\n",
    "#21491 insertion\n",
    "dataVGbam[21490:21492][[\"CADD_phred\",\"CADD_raw\",\"#Uploaded_variation\",\"Location\",\"Allele\",\"Gene\",\"Feature\",\"Feature_type\",\"Consequence\",\"cDNA_position\"]]"
   ]
  },
  {
   "cell_type": "code",
   "execution_count": 75,
   "id": "40d17567",
   "metadata": {
    "scrolled": false
   },
   "outputs": [
    {
     "name": "stdout",
     "output_type": "stream",
     "text": [
      "#Uploaded_variation\n",
      "Location\n",
      "Allele\n",
      "Gene\n",
      "Feature\n",
      "Feature_type\n",
      "Consequence\n",
      "cDNA_position\n",
      "CDS_position\n",
      "Protein_position\n",
      "Amino_acids\n",
      "Codons\n",
      "Existing_variation\n",
      "IMPACT\n",
      "DISTANCE\n",
      "STRAND\n",
      "FLAGS\n",
      "VARIANT_CLASS\n",
      "SYMBOL\n",
      "SYMBOL_SOURCE\n",
      "HGNC_ID\n",
      "BIOTYPE\n",
      "CANONICAL\n",
      "MANE_SELECT\n",
      "MANE_PLUS_CLINICAL\n",
      "TSL\n",
      "APPRIS\n",
      "CCDS\n",
      "ENSP\n",
      "SWISSPROT\n",
      "TREMBL\n",
      "UNIPARC\n",
      "UNIPROT_ISOFORM\n",
      "GENE_PHENO\n",
      "SIFT\n",
      "PolyPhen\n",
      "EXON\n",
      "INTRON\n",
      "DOMAINS\n",
      "miRNA\n",
      "HGVSc\n",
      "HGVSp\n",
      "HGVS_OFFSET\n",
      "AF\n",
      "AFR_AF\n",
      "AMR_AF\n",
      "EAS_AF\n",
      "EUR_AF\n",
      "SAS_AF\n",
      "AA_AF\n",
      "EA_AF\n",
      "gnomAD_AF\n",
      "gnomAD_AFR_AF\n",
      "gnomAD_AMR_AF\n",
      "gnomAD_ASJ_AF\n",
      "gnomAD_EAS_AF\n",
      "gnomAD_FIN_AF\n",
      "gnomAD_NFE_AF\n",
      "gnomAD_OTH_AF\n",
      "gnomAD_SAS_AF\n",
      "MAX_AF\n",
      "MAX_AF_POPS\n",
      "CLIN_SIG\n",
      "SOMATIC\n",
      "PHENO\n",
      "PUBMED\n",
      "MOTIF_NAME\n",
      "MOTIF_POS\n",
      "HIGH_INF_POS\n",
      "MOTIF_SCORE_CHANGE\n",
      "TRANSCRIPTION_FACTORS\n",
      "REVEL\n",
      "CADD_PHRED\n",
      "CADD_RAW\n",
      "1000Gp3_AC\n",
      "1000Gp3_AF\n",
      "1000Gp3_AFR_AC\n",
      "1000Gp3_AFR_AF\n",
      "1000Gp3_AMR_AC\n",
      "1000Gp3_AMR_AF\n",
      "1000Gp3_EAS_AC\n",
      "1000Gp3_EAS_AF\n",
      "1000Gp3_EUR_AC\n",
      "1000Gp3_EUR_AF\n",
      "1000Gp3_SAS_AC\n",
      "1000Gp3_SAS_AF\n",
      "ALSPAC_AC\n",
      "ALSPAC_AF\n",
      "APPRIS.1\n",
      "Aloft_Confidence\n",
      "Aloft_Fraction_transcripts_affected\n",
      "Aloft_pred\n",
      "Aloft_prob_Dominant\n",
      "Aloft_prob_Recessive\n",
      "Aloft_prob_Tolerant\n",
      "AltaiNeandertal\n",
      "Ancestral_allele\n",
      "BayesDel_addAF_pred\n",
      "BayesDel_addAF_rankscore\n",
      "BayesDel_addAF_score\n",
      "BayesDel_noAF_pred\n",
      "BayesDel_noAF_rankscore\n",
      "BayesDel_noAF_score\n",
      "CADD_phred\n",
      "CADD_phred_hg19\n",
      "CADD_raw\n",
      "CADD_raw_hg19\n",
      "CADD_raw_rankscore\n",
      "CADD_raw_rankscore_hg19\n",
      "ClinPred_pred\n",
      "ClinPred_rankscore\n",
      "ClinPred_score\n",
      "DANN_rankscore\n",
      "DANN_score\n",
      "DEOGEN2_pred\n",
      "DEOGEN2_rankscore\n",
      "DEOGEN2_score\n",
      "Denisova\n",
      "ESP6500_AA_AC\n",
      "ESP6500_AA_AF\n",
      "ESP6500_EA_AC\n",
      "ESP6500_EA_AF\n",
      "Eigen-PC-phred_coding\n",
      "Eigen-PC-raw_coding\n",
      "Eigen-PC-raw_coding_rankscore\n",
      "Eigen-phred_coding\n",
      "Eigen-raw_coding\n",
      "Eigen-raw_coding_rankscore\n",
      "Ensembl_geneid\n",
      "Ensembl_proteinid\n",
      "Ensembl_transcriptid\n",
      "ExAC_AC\n",
      "ExAC_AF\n",
      "ExAC_AFR_AC\n",
      "ExAC_AFR_AF\n",
      "ExAC_AMR_AC\n",
      "ExAC_AMR_AF\n",
      "ExAC_Adj_AC\n",
      "ExAC_Adj_AF\n",
      "ExAC_EAS_AC\n",
      "ExAC_EAS_AF\n",
      "ExAC_FIN_AC\n",
      "ExAC_FIN_AF\n",
      "ExAC_NFE_AC\n",
      "ExAC_NFE_AF\n",
      "ExAC_SAS_AC\n",
      "ExAC_SAS_AF\n",
      "ExAC_nonTCGA_AC\n",
      "ExAC_nonTCGA_AF\n",
      "ExAC_nonTCGA_AFR_AC\n",
      "ExAC_nonTCGA_AFR_AF\n",
      "ExAC_nonTCGA_AMR_AC\n",
      "ExAC_nonTCGA_AMR_AF\n",
      "ExAC_nonTCGA_Adj_AC\n",
      "ExAC_nonTCGA_Adj_AF\n",
      "ExAC_nonTCGA_EAS_AC\n",
      "ExAC_nonTCGA_EAS_AF\n",
      "ExAC_nonTCGA_FIN_AC\n",
      "ExAC_nonTCGA_FIN_AF\n",
      "ExAC_nonTCGA_NFE_AC\n",
      "ExAC_nonTCGA_NFE_AF\n",
      "ExAC_nonTCGA_SAS_AC\n",
      "ExAC_nonTCGA_SAS_AF\n",
      "ExAC_nonpsych_AC\n",
      "ExAC_nonpsych_AF\n",
      "ExAC_nonpsych_AFR_AC\n",
      "ExAC_nonpsych_AFR_AF\n",
      "ExAC_nonpsych_AMR_AC\n",
      "ExAC_nonpsych_AMR_AF\n",
      "ExAC_nonpsych_Adj_AC\n",
      "ExAC_nonpsych_Adj_AF\n",
      "ExAC_nonpsych_EAS_AC\n",
      "ExAC_nonpsych_EAS_AF\n",
      "ExAC_nonpsych_FIN_AC\n",
      "ExAC_nonpsych_FIN_AF\n",
      "ExAC_nonpsych_NFE_AC\n",
      "ExAC_nonpsych_NFE_AF\n",
      "ExAC_nonpsych_SAS_AC\n",
      "ExAC_nonpsych_SAS_AF\n",
      "FATHMM_converted_rankscore\n",
      "FATHMM_pred\n",
      "FATHMM_score\n",
      "GENCODE_basic\n",
      "GERP++_NR\n",
      "GERP++_RS\n",
      "GERP++_RS_rankscore\n",
      "GM12878_confidence_value\n",
      "GM12878_fitCons_rankscore\n",
      "GM12878_fitCons_score\n",
      "GTEx_V8_gene\n",
      "GTEx_V8_tissue\n",
      "GenoCanyon_rankscore\n",
      "GenoCanyon_score\n",
      "Geuvadis_eQTL_target_gene\n",
      "H1-hESC_confidence_value\n",
      "H1-hESC_fitCons_rankscore\n",
      "H1-hESC_fitCons_score\n",
      "HGVSc_ANNOVAR\n",
      "HGVSc_VEP\n",
      "HGVSc_snpEff\n",
      "HGVSp_ANNOVAR\n",
      "HGVSp_VEP\n",
      "HGVSp_snpEff\n",
      "HUVEC_confidence_value\n",
      "HUVEC_fitCons_rankscore\n",
      "HUVEC_fitCons_score\n",
      "Interpro_domain\n",
      "LINSIGHT\n",
      "LINSIGHT_rankscore\n",
      "LIST-S2_pred\n",
      "LIST-S2_rankscore\n",
      "LIST-S2_score\n",
      "LRT_Omega\n",
      "LRT_converted_rankscore\n",
      "LRT_pred\n",
      "LRT_score\n",
      "M-CAP_pred\n",
      "M-CAP_rankscore\n",
      "M-CAP_score\n",
      "MPC_rankscore\n",
      "MPC_score\n",
      "MVP_rankscore\n",
      "MVP_score\n",
      "MetaLR_pred\n",
      "MetaLR_rankscore\n",
      "MetaLR_score\n",
      "MetaSVM_pred\n",
      "MetaSVM_rankscore\n",
      "MetaSVM_score\n",
      "MutPred_AAchange\n",
      "MutPred_Top5features\n",
      "MutPred_protID\n",
      "MutPred_rankscore\n",
      "MutPred_score\n",
      "MutationAssessor_pred\n",
      "MutationAssessor_rankscore\n",
      "MutationAssessor_score\n",
      "MutationTaster_AAE\n",
      "MutationTaster_converted_rankscore\n",
      "MutationTaster_model\n",
      "MutationTaster_pred\n",
      "MutationTaster_score\n",
      "PROVEAN_converted_rankscore\n",
      "PROVEAN_pred\n",
      "PROVEAN_score\n",
      "Polyphen2_HDIV_pred\n",
      "Polyphen2_HDIV_rankscore\n",
      "Polyphen2_HDIV_score\n",
      "Polyphen2_HVAR_pred\n",
      "Polyphen2_HVAR_rankscore\n",
      "Polyphen2_HVAR_score\n",
      "PrimateAI_pred\n",
      "PrimateAI_rankscore\n",
      "PrimateAI_score\n",
      "REVEL_rankscore\n",
      "REVEL_score\n",
      "Reliability_index\n",
      "SIFT4G_converted_rankscore\n",
      "SIFT4G_pred\n",
      "SIFT4G_score\n",
      "SIFT_converted_rankscore\n",
      "SIFT_pred\n",
      "SIFT_score\n",
      "SiPhy_29way_logOdds\n",
      "SiPhy_29way_logOdds_rankscore\n",
      "SiPhy_29way_pi\n",
      "TSL.1\n",
      "TWINSUK_AC\n",
      "TWINSUK_AF\n",
      "UK10K_AC\n",
      "UK10K_AF\n",
      "Uniprot_acc\n",
      "Uniprot_entry\n",
      "VEP_canonical\n",
      "VEST4_rankscore\n",
      "VEST4_score\n",
      "VindijiaNeandertal\n",
      "aaalt\n",
      "aapos\n",
      "aaref\n",
      "alt\n",
      "bStatistic\n",
      "bStatistic_converted_rankscore\n",
      "cds_strand\n",
      "chr\n",
      "clinvar_MedGen_id\n",
      "clinvar_OMIM_id\n",
      "clinvar_Orphanet_id\n",
      "clinvar_clnsig\n",
      "clinvar_hgvs\n",
      "clinvar_id\n",
      "clinvar_review\n",
      "clinvar_trait\n",
      "clinvar_var_source\n",
      "codon_degeneracy\n",
      "codonpos\n",
      "fathmm-MKL_coding_group\n",
      "fathmm-MKL_coding_pred\n",
      "fathmm-MKL_coding_rankscore\n",
      "fathmm-MKL_coding_score\n",
      "fathmm-XF_coding_pred\n",
      "fathmm-XF_coding_rankscore\n",
      "fathmm-XF_coding_score\n",
      "genename\n",
      "gnomAD_exomes_AC\n",
      "gnomAD_exomes_AF\n",
      "gnomAD_exomes_AFR_AC\n",
      "gnomAD_exomes_AFR_AF\n",
      "gnomAD_exomes_AFR_AN\n",
      "gnomAD_exomes_AFR_nhomalt\n",
      "gnomAD_exomes_AMR_AC\n",
      "gnomAD_exomes_AMR_AF\n",
      "gnomAD_exomes_AMR_AN\n",
      "gnomAD_exomes_AMR_nhomalt\n",
      "gnomAD_exomes_AN\n",
      "gnomAD_exomes_ASJ_AC\n",
      "gnomAD_exomes_ASJ_AF\n",
      "gnomAD_exomes_ASJ_AN\n",
      "gnomAD_exomes_ASJ_nhomalt\n",
      "gnomAD_exomes_EAS_AC\n",
      "gnomAD_exomes_EAS_AF\n",
      "gnomAD_exomes_EAS_AN\n",
      "gnomAD_exomes_EAS_nhomalt\n",
      "gnomAD_exomes_FIN_AC\n",
      "gnomAD_exomes_FIN_AF\n",
      "gnomAD_exomes_FIN_AN\n",
      "gnomAD_exomes_FIN_nhomalt\n",
      "gnomAD_exomes_NFE_AC\n",
      "gnomAD_exomes_NFE_AF\n",
      "gnomAD_exomes_NFE_AN\n",
      "gnomAD_exomes_NFE_nhomalt\n",
      "gnomAD_exomes_POPMAX_AC\n",
      "gnomAD_exomes_POPMAX_AF\n",
      "gnomAD_exomes_POPMAX_AN\n",
      "gnomAD_exomes_POPMAX_nhomalt\n",
      "gnomAD_exomes_SAS_AC\n",
      "gnomAD_exomes_SAS_AF\n",
      "gnomAD_exomes_SAS_AN\n",
      "gnomAD_exomes_SAS_nhomalt\n",
      "gnomAD_exomes_controls_AC\n",
      "gnomAD_exomes_controls_AF\n",
      "gnomAD_exomes_controls_AFR_AC\n",
      "gnomAD_exomes_controls_AFR_AF\n",
      "gnomAD_exomes_controls_AFR_AN\n",
      "gnomAD_exomes_controls_AFR_nhomalt\n",
      "gnomAD_exomes_controls_AMR_AC\n",
      "gnomAD_exomes_controls_AMR_AF\n",
      "gnomAD_exomes_controls_AMR_AN\n",
      "gnomAD_exomes_controls_AMR_nhomalt\n",
      "gnomAD_exomes_controls_AN\n",
      "gnomAD_exomes_controls_ASJ_AC\n",
      "gnomAD_exomes_controls_ASJ_AF\n",
      "gnomAD_exomes_controls_ASJ_AN\n",
      "gnomAD_exomes_controls_ASJ_nhomalt\n",
      "gnomAD_exomes_controls_EAS_AC\n",
      "gnomAD_exomes_controls_EAS_AF\n",
      "gnomAD_exomes_controls_EAS_AN\n",
      "gnomAD_exomes_controls_EAS_nhomalt\n",
      "gnomAD_exomes_controls_FIN_AC\n",
      "gnomAD_exomes_controls_FIN_AF\n",
      "gnomAD_exomes_controls_FIN_AN\n",
      "gnomAD_exomes_controls_FIN_nhomalt\n",
      "gnomAD_exomes_controls_NFE_AC\n",
      "gnomAD_exomes_controls_NFE_AF\n",
      "gnomAD_exomes_controls_NFE_AN\n",
      "gnomAD_exomes_controls_NFE_nhomalt\n",
      "gnomAD_exomes_controls_POPMAX_AC\n",
      "gnomAD_exomes_controls_POPMAX_AF\n",
      "gnomAD_exomes_controls_POPMAX_AN\n",
      "gnomAD_exomes_controls_POPMAX_nhomalt\n",
      "gnomAD_exomes_controls_SAS_AC\n",
      "gnomAD_exomes_controls_SAS_AF\n",
      "gnomAD_exomes_controls_SAS_AN\n",
      "gnomAD_exomes_controls_SAS_nhomalt\n",
      "gnomAD_exomes_controls_nhomalt\n",
      "gnomAD_exomes_flag\n",
      "gnomAD_exomes_nhomalt\n",
      "gnomAD_genomes_AC\n",
      "gnomAD_genomes_AF\n",
      "gnomAD_genomes_AFR_AC\n",
      "gnomAD_genomes_AFR_AF\n",
      "gnomAD_genomes_AFR_AN\n",
      "gnomAD_genomes_AFR_nhomalt\n",
      "gnomAD_genomes_AMI_AC\n",
      "gnomAD_genomes_AMI_AF\n",
      "gnomAD_genomes_AMI_AN\n",
      "gnomAD_genomes_AMI_nhomalt\n",
      "gnomAD_genomes_AMR_AC\n",
      "gnomAD_genomes_AMR_AF\n",
      "gnomAD_genomes_AMR_AN\n",
      "gnomAD_genomes_AMR_nhomalt\n",
      "gnomAD_genomes_AN\n",
      "gnomAD_genomes_ASJ_AC\n",
      "gnomAD_genomes_ASJ_AF\n",
      "gnomAD_genomes_ASJ_AN\n",
      "gnomAD_genomes_ASJ_nhomalt\n",
      "gnomAD_genomes_EAS_AC\n",
      "gnomAD_genomes_EAS_AF\n",
      "gnomAD_genomes_EAS_AN\n",
      "gnomAD_genomes_EAS_nhomalt\n",
      "gnomAD_genomes_FIN_AC\n",
      "gnomAD_genomes_FIN_AF\n",
      "gnomAD_genomes_FIN_AN\n",
      "gnomAD_genomes_FIN_nhomalt\n",
      "gnomAD_genomes_NFE_AC\n",
      "gnomAD_genomes_NFE_AF\n",
      "gnomAD_genomes_NFE_AN\n",
      "gnomAD_genomes_NFE_nhomalt\n",
      "gnomAD_genomes_POPMAX_AC\n",
      "gnomAD_genomes_POPMAX_AF\n",
      "gnomAD_genomes_POPMAX_AN\n",
      "gnomAD_genomes_POPMAX_nhomalt\n",
      "gnomAD_genomes_SAS_AC\n",
      "gnomAD_genomes_SAS_AF\n",
      "gnomAD_genomes_SAS_AN\n",
      "gnomAD_genomes_SAS_nhomalt\n",
      "gnomAD_genomes_flag\n",
      "gnomAD_genomes_nhomalt\n",
      "hg18_chr\n",
      "hg18_pos(1-based)\n",
      "hg19_chr\n",
      "hg19_pos(1-based)\n",
      "integrated_confidence_value\n",
      "integrated_fitCons_rankscore\n",
      "integrated_fitCons_score\n",
      "phastCons100way_vertebrate\n",
      "phastCons100way_vertebrate_rankscore\n",
      "phastCons17way_primate\n",
      "phastCons17way_primate_rankscore\n",
      "phastCons30way_mammalian\n",
      "phastCons30way_mammalian_rankscore\n",
      "phyloP100way_vertebrate\n",
      "phyloP100way_vertebrate_rankscore\n",
      "phyloP17way_primate\n",
      "phyloP17way_primate_rankscore\n",
      "phyloP30way_mammalian\n",
      "phyloP30way_mammalian_rankscore\n",
      "pos(1-based)\n",
      "ref\n",
      "refcodon\n",
      "rs_dbSNP151\n"
     ]
    }
   ],
   "source": [
    "for i in x:\n",
    "    print(i)"
   ]
  },
  {
   "cell_type": "code",
   "execution_count": null,
   "id": "5ae1be8b",
   "metadata": {},
   "outputs": [],
   "source": [
    "Run VEP\n",
    "\n",
    "Create the subfiles\n",
    "Create figures from same indiv but diff map\n",
    "Create figure from same map but diff indiv through time\n",
    "Create figure from same indiv difff coverage"
   ]
  }
 ],
 "metadata": {
  "kernelspec": {
   "display_name": "Python 3",
   "language": "python",
   "name": "python3"
  },
  "language_info": {
   "codemirror_mode": {
    "name": "ipython",
    "version": 3
   },
   "file_extension": ".py",
   "mimetype": "text/x-python",
   "name": "python",
   "nbconvert_exporter": "python",
   "pygments_lexer": "ipython3",
   "version": "3.6.13"
  }
 },
 "nbformat": 4,
 "nbformat_minor": 5
}
