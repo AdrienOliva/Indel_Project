{
 "cells": [
  {
   "cell_type": "code",
   "execution_count": 251,
   "id": "f5993177",
   "metadata": {},
   "outputs": [],
   "source": [
    "import pandas as pd\n",
    "import plotly.express as px\n",
    "import plotly as plt"
   ]
  },
  {
   "cell_type": "code",
   "execution_count": 252,
   "id": "b6305d86",
   "metadata": {},
   "outputs": [],
   "source": [
    "df = pd.read_csv(\"Final_DF.csv\")"
   ]
  },
  {
   "cell_type": "code",
   "execution_count": 282,
   "id": "a1e8e8e7",
   "metadata": {},
   "outputs": [],
   "source": [
    "df[\"PCT_SNV\"] = df[\"VARIANT_SNV\"] * 100 / df[\"NB_total_variant\"] \n",
    "df[\"PCT_INDEL\"] = df[\"VARIANT_INDEL\"] * 100 / df[\"NB_total_variant\"] \n",
    "df[\"PCT_Substitution\"] = df[\"VARIANT_Substitution\"] * 100 / df[\"NB_total_variant\"] \n",
    "df[\"PCT_Insertion\"] = df[\"VARIANT_Insertion\"] * 100 / df[\"NB_total_variant\"] \n",
    "df[\"PCT_Deletion\"] = df[\"VARIANT_Deletion\"] * 100 / df[\"NB_total_variant\"] \n",
    "df[\"PCT_Others\"] = df[\"VARIANT_Others\"] * 100 / df[\"NB_total_variant\"] \n",
    "\n",
    "\n",
    "df[\"TOTIMPAC\"] = df['IMPACT_Modifier'] +  df['IMPACT_Low']+ df['IMPACT_Moderate']+ df['IMPACT_HIGH']\n",
    "df[\"PCT_IMPACT_Modifier\"] = df[\"IMPACT_Modifier\"] * 100 / df[\"TOTIMPAC\"] \n",
    "df[\"PCT_IMPACT_Low\"] = df[\"IMPACT_Low\"] * 100 / df[\"TOTIMPAC\"]\n",
    "df[\"PCT_IMPACT_Moderate\"] = df[\"IMPACT_Moderate\"] * 100 / df[\"TOTIMPAC\"] \n",
    "df[\"PCT_IMPACT_HIGH\"] = df[\"IMPACT_HIGH\"] * 100 / df[\"TOTIMPAC\"]\n",
    "\n",
    "df[\"TOTSIFT\"] = df['SIFT_deletarious'] +  df['SIFT_not_deletarious']\n",
    "df[\"PCT_SIFT_DELETARIOUS\"] = df[\"SIFT_deletarious\"] * 100 / df[\"TOTSIFT\"]\n",
    "df[\"PCT_SIFT_NOT-DELETARIOUS\"] = df[\"SIFT_not_deletarious\"] * 100 / df[\"TOTSIFT\"]\n",
    "\n",
    "df[\"TOTPOLY\"] = df['POLYPHEN_benign'] +  df['POLYPHEN_possibly_damaging'] +  df['POLYPHEN_probably_damaging']\n",
    "df[\"PCT_POLY_benign\"] = df[\"POLYPHEN_benign\"] * 100 / df[\"TOTPOLY\"]\n",
    "df[\"PCT_POLY_possibly-damaging\"] = df[\"POLYPHEN_possibly_damaging\"] * 100 / df[\"TOTPOLY\"]\n",
    "df[\"PCT_POLYP_probably-damaging\"] = df[\"POLYPHEN_probably_damaging\"] * 100 / df[\"TOTPOLY\"]\n",
    "\n",
    "\n",
    "df[\"TOTGERP\"] = df['GERP_constrained'] +  df['GERP_not_constrained']\n",
    "df[\"PCT_GERP_constrained\"] = df[\"GERP_constrained\"] * 100 / df[\"TOTGERP\"]\n",
    "df[\"PCT_GERP_not-constrained\"] = df[\"GERP_not_constrained\"] * 100 / df[\"TOTGERP\"]\n",
    "\n",
    "df[\"TOTCADD\"] = df['CADD_deletarious'] +  df['CADD_not_deletarious']\n",
    "df[\"PCT_CADD_deletarious\"] = df[\"CADD_deletarious\"] * 100 / df[\"TOTCADD\"]\n",
    "df[\"PCT_CADD_not-deletarious\"] = df[\"CADD_not_deletarious\"] * 100 / df[\"TOTCADD\"]"
   ]
  },
  {
   "cell_type": "code",
   "execution_count": 283,
   "id": "d296150a",
   "metadata": {},
   "outputs": [
    {
     "data": {
      "text/plain": [
       "Index(['Sample', 'Method', 'Coverage', 'Age', 'NB_total_variant',\n",
       "       'VARIANT_SNV', 'VARIANT_INDEL', 'VARIANT_Substitution',\n",
       "       'VARIANT_Insertion', 'VARIANT_Deletion', 'VARIANT_Others',\n",
       "       'IMPACT_Modifier', 'IMPACT_Low', 'IMPACT_Moderate', 'IMPACT_HIGH',\n",
       "       'SIFT_deletarious', 'SIFT_not_deletarious', 'POLYPHEN_unknown',\n",
       "       'POLYPHEN_benign', 'POLYPHEN_possibly_damaging',\n",
       "       'POLYPHEN_probably_damaging', 'GERP_constrained',\n",
       "       'GERP_not_constrained', 'CADD_deletarious', 'CADD_not_deletarious',\n",
       "       'PCT_SNV', 'PCT_INDEL', 'PCT_Substitution', 'PCT_Insertion',\n",
       "       'PCT_Deletion', 'PCT_Others', 'TOTIMPAC', 'PCT_IMPACT_Modifier',\n",
       "       'PCT_IMPACT_Low', 'PCT_IMPACT_Moderate', 'PCT_IMPACT_HIGH', 'TOTSIFT',\n",
       "       'PCT_SIFT_DELETARIOUS', 'PCT_SIFT_NOTDELETARIOUS', 'TOTPOLY',\n",
       "       'PCT_POLY_benign', 'PCT_POLY_possibly-damaging',\n",
       "       'PCT_POLYP_probably-damaging', 'PCT_SIFT_NOT-DELETARIOUS'],\n",
       "      dtype='object')"
      ]
     },
     "execution_count": 283,
     "metadata": {},
     "output_type": "execute_result"
    }
   ],
   "source": [
    "dfsort_age.columns"
   ]
  },
  {
   "cell_type": "code",
   "execution_count": 284,
   "id": "81beb534",
   "metadata": {},
   "outputs": [],
   "source": [
    "dfsort_age = df[(df[\"Sample\"]!=\"S_SF12\") & (df[\"Sample\"]!=\"L1583\")].sort_values([\"Age\"], ascending=True)\n",
    "dfsort_cov = df[(df[\"Sample\"]==\"SF12\") | (df[\"Sample\"]==\"S_SF12\")].sort_values(['Coverage'], ascending=True)"
   ]
  },
  {
   "cell_type": "markdown",
   "id": "84c3ec9b",
   "metadata": {},
   "source": [
    "# Insight on the total number of Variant"
   ]
  },
  {
   "cell_type": "code",
   "execution_count": 256,
   "id": "f247b431",
   "metadata": {},
   "outputs": [
    {
     "data": {
      "application/vnd.plotly.v1+json": {
       "config": {
        "plotlyServerURL": "https://plot.ly"
       },
       "data": [
        {
         "hovertemplate": "Method=BWA1-bam<br>Sample=%{x}<br>NB_total_variant=%{y}<br>Coverage=%{marker.size}<extra></extra>",
         "legendgroup": "BWA1-bam",
         "marker": {
          "color": "#636efa",
          "line": {
           "width": 2
          },
          "size": 20,
          "sizemode": "area",
          "sizeref": 0.1625,
          "symbol": "circle"
         },
         "mode": "lines+markers",
         "name": "BWA1-bam",
         "orientation": "v",
         "showlegend": true,
         "type": "scatter",
         "x": [
          "SZ43",
          "SZ45",
          "SZ4",
          "SZ15",
          "BR2",
          "ATP016",
          "NG10",
          "PB675",
          "BOT2016",
          "JP14",
          "NE1",
          "Stutgart",
          "Loschbour",
          "SF12",
          "KK1",
          "Sunghir3",
          "UstIshim"
         ],
         "xaxis": "x",
         "y": [
          16103868,
          17017346,
          19810277,
          15483791,
          15711935,
          28509934,
          14185457,
          15484594,
          17338750,
          15416521,
          16097362,
          15096143,
          14003076,
          14295541,
          37787898,
          13201351,
          14982003
         ],
         "yaxis": "y"
        },
        {
         "hovertemplate": "Method=VG-gam<br>Sample=%{x}<br>NB_total_variant=%{y}<br>Coverage=%{marker.size}<extra></extra>",
         "legendgroup": "VG-gam",
         "marker": {
          "color": "#EF553B",
          "line": {
           "width": 2
          },
          "size": 20,
          "sizemode": "area",
          "sizeref": 0.1625,
          "symbol": "circle"
         },
         "mode": "lines+markers",
         "name": "VG-gam",
         "orientation": "v",
         "showlegend": true,
         "type": "scatter",
         "x": [
          "SZ43",
          "SZ45",
          "SZ4",
          "SZ15",
          "BR2",
          "ATP016",
          "NG10",
          "PB675",
          "BOT2016",
          "JP14",
          "NE1",
          "Stutgart",
          "Loschbour",
          "SF12",
          "KK1",
          "Sunghir3",
          "UstIshim"
         ],
         "xaxis": "x",
         "y": [
          22710942,
          22978354,
          22504694,
          21902183,
          18639327,
          22763210,
          18597301,
          21422312,
          15238023,
          19979459,
          19512819,
          17876509,
          17135918,
          18679492,
          24463532,
          15516043,
          20394698
         ],
         "yaxis": "y"
        },
        {
         "hovertemplate": "Method=VG-bam<br>Sample=%{x}<br>NB_total_variant=%{y}<br>Coverage=%{marker.size}<extra></extra>",
         "legendgroup": "VG-bam",
         "marker": {
          "color": "#00cc96",
          "line": {
           "width": 2
          },
          "size": 20,
          "sizemode": "area",
          "sizeref": 0.1625,
          "symbol": "circle"
         },
         "mode": "lines+markers",
         "name": "VG-bam",
         "orientation": "v",
         "showlegend": true,
         "type": "scatter",
         "x": [
          "SZ43",
          "SZ45",
          "SZ4",
          "SZ15",
          "BR2",
          "ATP016",
          "NG10",
          "PB675",
          "BOT2016",
          "JP14",
          "NE1",
          "Stutgart",
          "Loschbour",
          "SF12",
          "KK1",
          "Sunghir3",
          "UstIshim"
         ],
         "xaxis": "x",
         "y": [
          17998353,
          19039616,
          22993447,
          18403187,
          16489220,
          27492877,
          17633059,
          17966749,
          17945680,
          16918052,
          16949810,
          15975717,
          15123612,
          15211377,
          33022311,
          13606806,
          16189779
         ],
         "yaxis": "y"
        }
       ],
       "layout": {
        "legend": {
         "itemsizing": "constant",
         "title": {
          "text": "Method"
         },
         "tracegroupgap": 0
        },
        "template": {
         "data": {
          "bar": [
           {
            "error_x": {
             "color": "#2a3f5f"
            },
            "error_y": {
             "color": "#2a3f5f"
            },
            "marker": {
             "line": {
              "color": "#E5ECF6",
              "width": 0.5
             },
             "pattern": {
              "fillmode": "overlay",
              "size": 10,
              "solidity": 0.2
             }
            },
            "type": "bar"
           }
          ],
          "barpolar": [
           {
            "marker": {
             "line": {
              "color": "#E5ECF6",
              "width": 0.5
             },
             "pattern": {
              "fillmode": "overlay",
              "size": 10,
              "solidity": 0.2
             }
            },
            "type": "barpolar"
           }
          ],
          "carpet": [
           {
            "aaxis": {
             "endlinecolor": "#2a3f5f",
             "gridcolor": "white",
             "linecolor": "white",
             "minorgridcolor": "white",
             "startlinecolor": "#2a3f5f"
            },
            "baxis": {
             "endlinecolor": "#2a3f5f",
             "gridcolor": "white",
             "linecolor": "white",
             "minorgridcolor": "white",
             "startlinecolor": "#2a3f5f"
            },
            "type": "carpet"
           }
          ],
          "choropleth": [
           {
            "colorbar": {
             "outlinewidth": 0,
             "ticks": ""
            },
            "type": "choropleth"
           }
          ],
          "contour": [
           {
            "colorbar": {
             "outlinewidth": 0,
             "ticks": ""
            },
            "colorscale": [
             [
              0,
              "#0d0887"
             ],
             [
              0.1111111111111111,
              "#46039f"
             ],
             [
              0.2222222222222222,
              "#7201a8"
             ],
             [
              0.3333333333333333,
              "#9c179e"
             ],
             [
              0.4444444444444444,
              "#bd3786"
             ],
             [
              0.5555555555555556,
              "#d8576b"
             ],
             [
              0.6666666666666666,
              "#ed7953"
             ],
             [
              0.7777777777777778,
              "#fb9f3a"
             ],
             [
              0.8888888888888888,
              "#fdca26"
             ],
             [
              1,
              "#f0f921"
             ]
            ],
            "type": "contour"
           }
          ],
          "contourcarpet": [
           {
            "colorbar": {
             "outlinewidth": 0,
             "ticks": ""
            },
            "type": "contourcarpet"
           }
          ],
          "heatmap": [
           {
            "colorbar": {
             "outlinewidth": 0,
             "ticks": ""
            },
            "colorscale": [
             [
              0,
              "#0d0887"
             ],
             [
              0.1111111111111111,
              "#46039f"
             ],
             [
              0.2222222222222222,
              "#7201a8"
             ],
             [
              0.3333333333333333,
              "#9c179e"
             ],
             [
              0.4444444444444444,
              "#bd3786"
             ],
             [
              0.5555555555555556,
              "#d8576b"
             ],
             [
              0.6666666666666666,
              "#ed7953"
             ],
             [
              0.7777777777777778,
              "#fb9f3a"
             ],
             [
              0.8888888888888888,
              "#fdca26"
             ],
             [
              1,
              "#f0f921"
             ]
            ],
            "type": "heatmap"
           }
          ],
          "heatmapgl": [
           {
            "colorbar": {
             "outlinewidth": 0,
             "ticks": ""
            },
            "colorscale": [
             [
              0,
              "#0d0887"
             ],
             [
              0.1111111111111111,
              "#46039f"
             ],
             [
              0.2222222222222222,
              "#7201a8"
             ],
             [
              0.3333333333333333,
              "#9c179e"
             ],
             [
              0.4444444444444444,
              "#bd3786"
             ],
             [
              0.5555555555555556,
              "#d8576b"
             ],
             [
              0.6666666666666666,
              "#ed7953"
             ],
             [
              0.7777777777777778,
              "#fb9f3a"
             ],
             [
              0.8888888888888888,
              "#fdca26"
             ],
             [
              1,
              "#f0f921"
             ]
            ],
            "type": "heatmapgl"
           }
          ],
          "histogram": [
           {
            "marker": {
             "pattern": {
              "fillmode": "overlay",
              "size": 10,
              "solidity": 0.2
             }
            },
            "type": "histogram"
           }
          ],
          "histogram2d": [
           {
            "colorbar": {
             "outlinewidth": 0,
             "ticks": ""
            },
            "colorscale": [
             [
              0,
              "#0d0887"
             ],
             [
              0.1111111111111111,
              "#46039f"
             ],
             [
              0.2222222222222222,
              "#7201a8"
             ],
             [
              0.3333333333333333,
              "#9c179e"
             ],
             [
              0.4444444444444444,
              "#bd3786"
             ],
             [
              0.5555555555555556,
              "#d8576b"
             ],
             [
              0.6666666666666666,
              "#ed7953"
             ],
             [
              0.7777777777777778,
              "#fb9f3a"
             ],
             [
              0.8888888888888888,
              "#fdca26"
             ],
             [
              1,
              "#f0f921"
             ]
            ],
            "type": "histogram2d"
           }
          ],
          "histogram2dcontour": [
           {
            "colorbar": {
             "outlinewidth": 0,
             "ticks": ""
            },
            "colorscale": [
             [
              0,
              "#0d0887"
             ],
             [
              0.1111111111111111,
              "#46039f"
             ],
             [
              0.2222222222222222,
              "#7201a8"
             ],
             [
              0.3333333333333333,
              "#9c179e"
             ],
             [
              0.4444444444444444,
              "#bd3786"
             ],
             [
              0.5555555555555556,
              "#d8576b"
             ],
             [
              0.6666666666666666,
              "#ed7953"
             ],
             [
              0.7777777777777778,
              "#fb9f3a"
             ],
             [
              0.8888888888888888,
              "#fdca26"
             ],
             [
              1,
              "#f0f921"
             ]
            ],
            "type": "histogram2dcontour"
           }
          ],
          "mesh3d": [
           {
            "colorbar": {
             "outlinewidth": 0,
             "ticks": ""
            },
            "type": "mesh3d"
           }
          ],
          "parcoords": [
           {
            "line": {
             "colorbar": {
              "outlinewidth": 0,
              "ticks": ""
             }
            },
            "type": "parcoords"
           }
          ],
          "pie": [
           {
            "automargin": true,
            "type": "pie"
           }
          ],
          "scatter": [
           {
            "marker": {
             "colorbar": {
              "outlinewidth": 0,
              "ticks": ""
             }
            },
            "type": "scatter"
           }
          ],
          "scatter3d": [
           {
            "line": {
             "colorbar": {
              "outlinewidth": 0,
              "ticks": ""
             }
            },
            "marker": {
             "colorbar": {
              "outlinewidth": 0,
              "ticks": ""
             }
            },
            "type": "scatter3d"
           }
          ],
          "scattercarpet": [
           {
            "marker": {
             "colorbar": {
              "outlinewidth": 0,
              "ticks": ""
             }
            },
            "type": "scattercarpet"
           }
          ],
          "scattergeo": [
           {
            "marker": {
             "colorbar": {
              "outlinewidth": 0,
              "ticks": ""
             }
            },
            "type": "scattergeo"
           }
          ],
          "scattergl": [
           {
            "marker": {
             "colorbar": {
              "outlinewidth": 0,
              "ticks": ""
             }
            },
            "type": "scattergl"
           }
          ],
          "scattermapbox": [
           {
            "marker": {
             "colorbar": {
              "outlinewidth": 0,
              "ticks": ""
             }
            },
            "type": "scattermapbox"
           }
          ],
          "scatterpolar": [
           {
            "marker": {
             "colorbar": {
              "outlinewidth": 0,
              "ticks": ""
             }
            },
            "type": "scatterpolar"
           }
          ],
          "scatterpolargl": [
           {
            "marker": {
             "colorbar": {
              "outlinewidth": 0,
              "ticks": ""
             }
            },
            "type": "scatterpolargl"
           }
          ],
          "scatterternary": [
           {
            "marker": {
             "colorbar": {
              "outlinewidth": 0,
              "ticks": ""
             }
            },
            "type": "scatterternary"
           }
          ],
          "surface": [
           {
            "colorbar": {
             "outlinewidth": 0,
             "ticks": ""
            },
            "colorscale": [
             [
              0,
              "#0d0887"
             ],
             [
              0.1111111111111111,
              "#46039f"
             ],
             [
              0.2222222222222222,
              "#7201a8"
             ],
             [
              0.3333333333333333,
              "#9c179e"
             ],
             [
              0.4444444444444444,
              "#bd3786"
             ],
             [
              0.5555555555555556,
              "#d8576b"
             ],
             [
              0.6666666666666666,
              "#ed7953"
             ],
             [
              0.7777777777777778,
              "#fb9f3a"
             ],
             [
              0.8888888888888888,
              "#fdca26"
             ],
             [
              1,
              "#f0f921"
             ]
            ],
            "type": "surface"
           }
          ],
          "table": [
           {
            "cells": {
             "fill": {
              "color": "#EBF0F8"
             },
             "line": {
              "color": "white"
             }
            },
            "header": {
             "fill": {
              "color": "#C8D4E3"
             },
             "line": {
              "color": "white"
             }
            },
            "type": "table"
           }
          ]
         },
         "layout": {
          "annotationdefaults": {
           "arrowcolor": "#2a3f5f",
           "arrowhead": 0,
           "arrowwidth": 1
          },
          "autotypenumbers": "strict",
          "coloraxis": {
           "colorbar": {
            "outlinewidth": 0,
            "ticks": ""
           }
          },
          "colorscale": {
           "diverging": [
            [
             0,
             "#8e0152"
            ],
            [
             0.1,
             "#c51b7d"
            ],
            [
             0.2,
             "#de77ae"
            ],
            [
             0.3,
             "#f1b6da"
            ],
            [
             0.4,
             "#fde0ef"
            ],
            [
             0.5,
             "#f7f7f7"
            ],
            [
             0.6,
             "#e6f5d0"
            ],
            [
             0.7,
             "#b8e186"
            ],
            [
             0.8,
             "#7fbc41"
            ],
            [
             0.9,
             "#4d9221"
            ],
            [
             1,
             "#276419"
            ]
           ],
           "sequential": [
            [
             0,
             "#0d0887"
            ],
            [
             0.1111111111111111,
             "#46039f"
            ],
            [
             0.2222222222222222,
             "#7201a8"
            ],
            [
             0.3333333333333333,
             "#9c179e"
            ],
            [
             0.4444444444444444,
             "#bd3786"
            ],
            [
             0.5555555555555556,
             "#d8576b"
            ],
            [
             0.6666666666666666,
             "#ed7953"
            ],
            [
             0.7777777777777778,
             "#fb9f3a"
            ],
            [
             0.8888888888888888,
             "#fdca26"
            ],
            [
             1,
             "#f0f921"
            ]
           ],
           "sequentialminus": [
            [
             0,
             "#0d0887"
            ],
            [
             0.1111111111111111,
             "#46039f"
            ],
            [
             0.2222222222222222,
             "#7201a8"
            ],
            [
             0.3333333333333333,
             "#9c179e"
            ],
            [
             0.4444444444444444,
             "#bd3786"
            ],
            [
             0.5555555555555556,
             "#d8576b"
            ],
            [
             0.6666666666666666,
             "#ed7953"
            ],
            [
             0.7777777777777778,
             "#fb9f3a"
            ],
            [
             0.8888888888888888,
             "#fdca26"
            ],
            [
             1,
             "#f0f921"
            ]
           ]
          },
          "colorway": [
           "#636efa",
           "#EF553B",
           "#00cc96",
           "#ab63fa",
           "#FFA15A",
           "#19d3f3",
           "#FF6692",
           "#B6E880",
           "#FF97FF",
           "#FECB52"
          ],
          "font": {
           "color": "#2a3f5f"
          },
          "geo": {
           "bgcolor": "white",
           "lakecolor": "white",
           "landcolor": "#E5ECF6",
           "showlakes": true,
           "showland": true,
           "subunitcolor": "white"
          },
          "hoverlabel": {
           "align": "left"
          },
          "hovermode": "closest",
          "mapbox": {
           "style": "light"
          },
          "paper_bgcolor": "white",
          "plot_bgcolor": "#E5ECF6",
          "polar": {
           "angularaxis": {
            "gridcolor": "white",
            "linecolor": "white",
            "ticks": ""
           },
           "bgcolor": "#E5ECF6",
           "radialaxis": {
            "gridcolor": "white",
            "linecolor": "white",
            "ticks": ""
           }
          },
          "scene": {
           "xaxis": {
            "backgroundcolor": "#E5ECF6",
            "gridcolor": "white",
            "gridwidth": 2,
            "linecolor": "white",
            "showbackground": true,
            "ticks": "",
            "zerolinecolor": "white"
           },
           "yaxis": {
            "backgroundcolor": "#E5ECF6",
            "gridcolor": "white",
            "gridwidth": 2,
            "linecolor": "white",
            "showbackground": true,
            "ticks": "",
            "zerolinecolor": "white"
           },
           "zaxis": {
            "backgroundcolor": "#E5ECF6",
            "gridcolor": "white",
            "gridwidth": 2,
            "linecolor": "white",
            "showbackground": true,
            "ticks": "",
            "zerolinecolor": "white"
           }
          },
          "shapedefaults": {
           "line": {
            "color": "#2a3f5f"
           }
          },
          "ternary": {
           "aaxis": {
            "gridcolor": "white",
            "linecolor": "white",
            "ticks": ""
           },
           "baxis": {
            "gridcolor": "white",
            "linecolor": "white",
            "ticks": ""
           },
           "bgcolor": "#E5ECF6",
           "caxis": {
            "gridcolor": "white",
            "linecolor": "white",
            "ticks": ""
           }
          },
          "title": {
           "x": 0.05
          },
          "xaxis": {
           "automargin": true,
           "gridcolor": "white",
           "linecolor": "white",
           "ticks": "",
           "title": {
            "standoff": 15
           },
           "zerolinecolor": "white",
           "zerolinewidth": 2
          },
          "yaxis": {
           "automargin": true,
           "gridcolor": "white",
           "linecolor": "white",
           "ticks": "",
           "title": {
            "standoff": 15
           },
           "zerolinecolor": "white",
           "zerolinewidth": 2
          }
         }
        },
        "title": {
         "text": "NB of Variant through Age"
        },
        "xaxis": {
         "anchor": "y",
         "domain": [
          0,
          1
         ],
         "title": {
          "text": "Sample"
         }
        },
        "yaxis": {
         "anchor": "x",
         "domain": [
          0,
          1
         ],
         "title": {
          "text": "NB_total_variant"
         }
        }
       }
      },
      "text/html": [
       "<div>                            <div id=\"cdd7041b-7027-4415-8576-8b45816e2ac3\" class=\"plotly-graph-div\" style=\"height:525px; width:100%;\"></div>            <script type=\"text/javascript\">                require([\"plotly\"], function(Plotly) {                    window.PLOTLYENV=window.PLOTLYENV || {};                                    if (document.getElementById(\"cdd7041b-7027-4415-8576-8b45816e2ac3\")) {                    Plotly.newPlot(                        \"cdd7041b-7027-4415-8576-8b45816e2ac3\",                        [{\"hovertemplate\":\"Method=BWA1-bam<br>Sample=%{x}<br>NB_total_variant=%{y}<br>Coverage=%{marker.size}<extra></extra>\",\"legendgroup\":\"BWA1-bam\",\"marker\":{\"color\":\"#636efa\",\"line\":{\"width\":2},\"size\":20,\"sizemode\":\"area\",\"sizeref\":0.1625,\"symbol\":\"circle\"},\"mode\":\"lines+markers\",\"name\":\"BWA1-bam\",\"orientation\":\"v\",\"showlegend\":true,\"type\":\"scatter\",\"x\":[\"SZ43\",\"SZ45\",\"SZ4\",\"SZ15\",\"BR2\",\"ATP016\",\"NG10\",\"PB675\",\"BOT2016\",\"JP14\",\"NE1\",\"Stutgart\",\"Loschbour\",\"SF12\",\"KK1\",\"Sunghir3\",\"UstIshim\"],\"xaxis\":\"x\",\"y\":[16103868,17017346,19810277,15483791,15711935,28509934,14185457,15484594,17338750,15416521,16097362,15096143,14003076,14295541,37787898,13201351,14982003],\"yaxis\":\"y\"},{\"hovertemplate\":\"Method=VG-gam<br>Sample=%{x}<br>NB_total_variant=%{y}<br>Coverage=%{marker.size}<extra></extra>\",\"legendgroup\":\"VG-gam\",\"marker\":{\"color\":\"#EF553B\",\"line\":{\"width\":2},\"size\":20,\"sizemode\":\"area\",\"sizeref\":0.1625,\"symbol\":\"circle\"},\"mode\":\"lines+markers\",\"name\":\"VG-gam\",\"orientation\":\"v\",\"showlegend\":true,\"type\":\"scatter\",\"x\":[\"SZ43\",\"SZ45\",\"SZ4\",\"SZ15\",\"BR2\",\"ATP016\",\"NG10\",\"PB675\",\"BOT2016\",\"JP14\",\"NE1\",\"Stutgart\",\"Loschbour\",\"SF12\",\"KK1\",\"Sunghir3\",\"UstIshim\"],\"xaxis\":\"x\",\"y\":[22710942,22978354,22504694,21902183,18639327,22763210,18597301,21422312,15238023,19979459,19512819,17876509,17135918,18679492,24463532,15516043,20394698],\"yaxis\":\"y\"},{\"hovertemplate\":\"Method=VG-bam<br>Sample=%{x}<br>NB_total_variant=%{y}<br>Coverage=%{marker.size}<extra></extra>\",\"legendgroup\":\"VG-bam\",\"marker\":{\"color\":\"#00cc96\",\"line\":{\"width\":2},\"size\":20,\"sizemode\":\"area\",\"sizeref\":0.1625,\"symbol\":\"circle\"},\"mode\":\"lines+markers\",\"name\":\"VG-bam\",\"orientation\":\"v\",\"showlegend\":true,\"type\":\"scatter\",\"x\":[\"SZ43\",\"SZ45\",\"SZ4\",\"SZ15\",\"BR2\",\"ATP016\",\"NG10\",\"PB675\",\"BOT2016\",\"JP14\",\"NE1\",\"Stutgart\",\"Loschbour\",\"SF12\",\"KK1\",\"Sunghir3\",\"UstIshim\"],\"xaxis\":\"x\",\"y\":[17998353,19039616,22993447,18403187,16489220,27492877,17633059,17966749,17945680,16918052,16949810,15975717,15123612,15211377,33022311,13606806,16189779],\"yaxis\":\"y\"}],                        {\"legend\":{\"itemsizing\":\"constant\",\"title\":{\"text\":\"Method\"},\"tracegroupgap\":0},\"template\":{\"data\":{\"bar\":[{\"error_x\":{\"color\":\"#2a3f5f\"},\"error_y\":{\"color\":\"#2a3f5f\"},\"marker\":{\"line\":{\"color\":\"#E5ECF6\",\"width\":0.5},\"pattern\":{\"fillmode\":\"overlay\",\"size\":10,\"solidity\":0.2}},\"type\":\"bar\"}],\"barpolar\":[{\"marker\":{\"line\":{\"color\":\"#E5ECF6\",\"width\":0.5},\"pattern\":{\"fillmode\":\"overlay\",\"size\":10,\"solidity\":0.2}},\"type\":\"barpolar\"}],\"carpet\":[{\"aaxis\":{\"endlinecolor\":\"#2a3f5f\",\"gridcolor\":\"white\",\"linecolor\":\"white\",\"minorgridcolor\":\"white\",\"startlinecolor\":\"#2a3f5f\"},\"baxis\":{\"endlinecolor\":\"#2a3f5f\",\"gridcolor\":\"white\",\"linecolor\":\"white\",\"minorgridcolor\":\"white\",\"startlinecolor\":\"#2a3f5f\"},\"type\":\"carpet\"}],\"choropleth\":[{\"colorbar\":{\"outlinewidth\":0,\"ticks\":\"\"},\"type\":\"choropleth\"}],\"contour\":[{\"colorbar\":{\"outlinewidth\":0,\"ticks\":\"\"},\"colorscale\":[[0.0,\"#0d0887\"],[0.1111111111111111,\"#46039f\"],[0.2222222222222222,\"#7201a8\"],[0.3333333333333333,\"#9c179e\"],[0.4444444444444444,\"#bd3786\"],[0.5555555555555556,\"#d8576b\"],[0.6666666666666666,\"#ed7953\"],[0.7777777777777778,\"#fb9f3a\"],[0.8888888888888888,\"#fdca26\"],[1.0,\"#f0f921\"]],\"type\":\"contour\"}],\"contourcarpet\":[{\"colorbar\":{\"outlinewidth\":0,\"ticks\":\"\"},\"type\":\"contourcarpet\"}],\"heatmap\":[{\"colorbar\":{\"outlinewidth\":0,\"ticks\":\"\"},\"colorscale\":[[0.0,\"#0d0887\"],[0.1111111111111111,\"#46039f\"],[0.2222222222222222,\"#7201a8\"],[0.3333333333333333,\"#9c179e\"],[0.4444444444444444,\"#bd3786\"],[0.5555555555555556,\"#d8576b\"],[0.6666666666666666,\"#ed7953\"],[0.7777777777777778,\"#fb9f3a\"],[0.8888888888888888,\"#fdca26\"],[1.0,\"#f0f921\"]],\"type\":\"heatmap\"}],\"heatmapgl\":[{\"colorbar\":{\"outlinewidth\":0,\"ticks\":\"\"},\"colorscale\":[[0.0,\"#0d0887\"],[0.1111111111111111,\"#46039f\"],[0.2222222222222222,\"#7201a8\"],[0.3333333333333333,\"#9c179e\"],[0.4444444444444444,\"#bd3786\"],[0.5555555555555556,\"#d8576b\"],[0.6666666666666666,\"#ed7953\"],[0.7777777777777778,\"#fb9f3a\"],[0.8888888888888888,\"#fdca26\"],[1.0,\"#f0f921\"]],\"type\":\"heatmapgl\"}],\"histogram\":[{\"marker\":{\"pattern\":{\"fillmode\":\"overlay\",\"size\":10,\"solidity\":0.2}},\"type\":\"histogram\"}],\"histogram2d\":[{\"colorbar\":{\"outlinewidth\":0,\"ticks\":\"\"},\"colorscale\":[[0.0,\"#0d0887\"],[0.1111111111111111,\"#46039f\"],[0.2222222222222222,\"#7201a8\"],[0.3333333333333333,\"#9c179e\"],[0.4444444444444444,\"#bd3786\"],[0.5555555555555556,\"#d8576b\"],[0.6666666666666666,\"#ed7953\"],[0.7777777777777778,\"#fb9f3a\"],[0.8888888888888888,\"#fdca26\"],[1.0,\"#f0f921\"]],\"type\":\"histogram2d\"}],\"histogram2dcontour\":[{\"colorbar\":{\"outlinewidth\":0,\"ticks\":\"\"},\"colorscale\":[[0.0,\"#0d0887\"],[0.1111111111111111,\"#46039f\"],[0.2222222222222222,\"#7201a8\"],[0.3333333333333333,\"#9c179e\"],[0.4444444444444444,\"#bd3786\"],[0.5555555555555556,\"#d8576b\"],[0.6666666666666666,\"#ed7953\"],[0.7777777777777778,\"#fb9f3a\"],[0.8888888888888888,\"#fdca26\"],[1.0,\"#f0f921\"]],\"type\":\"histogram2dcontour\"}],\"mesh3d\":[{\"colorbar\":{\"outlinewidth\":0,\"ticks\":\"\"},\"type\":\"mesh3d\"}],\"parcoords\":[{\"line\":{\"colorbar\":{\"outlinewidth\":0,\"ticks\":\"\"}},\"type\":\"parcoords\"}],\"pie\":[{\"automargin\":true,\"type\":\"pie\"}],\"scatter\":[{\"marker\":{\"colorbar\":{\"outlinewidth\":0,\"ticks\":\"\"}},\"type\":\"scatter\"}],\"scatter3d\":[{\"line\":{\"colorbar\":{\"outlinewidth\":0,\"ticks\":\"\"}},\"marker\":{\"colorbar\":{\"outlinewidth\":0,\"ticks\":\"\"}},\"type\":\"scatter3d\"}],\"scattercarpet\":[{\"marker\":{\"colorbar\":{\"outlinewidth\":0,\"ticks\":\"\"}},\"type\":\"scattercarpet\"}],\"scattergeo\":[{\"marker\":{\"colorbar\":{\"outlinewidth\":0,\"ticks\":\"\"}},\"type\":\"scattergeo\"}],\"scattergl\":[{\"marker\":{\"colorbar\":{\"outlinewidth\":0,\"ticks\":\"\"}},\"type\":\"scattergl\"}],\"scattermapbox\":[{\"marker\":{\"colorbar\":{\"outlinewidth\":0,\"ticks\":\"\"}},\"type\":\"scattermapbox\"}],\"scatterpolar\":[{\"marker\":{\"colorbar\":{\"outlinewidth\":0,\"ticks\":\"\"}},\"type\":\"scatterpolar\"}],\"scatterpolargl\":[{\"marker\":{\"colorbar\":{\"outlinewidth\":0,\"ticks\":\"\"}},\"type\":\"scatterpolargl\"}],\"scatterternary\":[{\"marker\":{\"colorbar\":{\"outlinewidth\":0,\"ticks\":\"\"}},\"type\":\"scatterternary\"}],\"surface\":[{\"colorbar\":{\"outlinewidth\":0,\"ticks\":\"\"},\"colorscale\":[[0.0,\"#0d0887\"],[0.1111111111111111,\"#46039f\"],[0.2222222222222222,\"#7201a8\"],[0.3333333333333333,\"#9c179e\"],[0.4444444444444444,\"#bd3786\"],[0.5555555555555556,\"#d8576b\"],[0.6666666666666666,\"#ed7953\"],[0.7777777777777778,\"#fb9f3a\"],[0.8888888888888888,\"#fdca26\"],[1.0,\"#f0f921\"]],\"type\":\"surface\"}],\"table\":[{\"cells\":{\"fill\":{\"color\":\"#EBF0F8\"},\"line\":{\"color\":\"white\"}},\"header\":{\"fill\":{\"color\":\"#C8D4E3\"},\"line\":{\"color\":\"white\"}},\"type\":\"table\"}]},\"layout\":{\"annotationdefaults\":{\"arrowcolor\":\"#2a3f5f\",\"arrowhead\":0,\"arrowwidth\":1},\"autotypenumbers\":\"strict\",\"coloraxis\":{\"colorbar\":{\"outlinewidth\":0,\"ticks\":\"\"}},\"colorscale\":{\"diverging\":[[0,\"#8e0152\"],[0.1,\"#c51b7d\"],[0.2,\"#de77ae\"],[0.3,\"#f1b6da\"],[0.4,\"#fde0ef\"],[0.5,\"#f7f7f7\"],[0.6,\"#e6f5d0\"],[0.7,\"#b8e186\"],[0.8,\"#7fbc41\"],[0.9,\"#4d9221\"],[1,\"#276419\"]],\"sequential\":[[0.0,\"#0d0887\"],[0.1111111111111111,\"#46039f\"],[0.2222222222222222,\"#7201a8\"],[0.3333333333333333,\"#9c179e\"],[0.4444444444444444,\"#bd3786\"],[0.5555555555555556,\"#d8576b\"],[0.6666666666666666,\"#ed7953\"],[0.7777777777777778,\"#fb9f3a\"],[0.8888888888888888,\"#fdca26\"],[1.0,\"#f0f921\"]],\"sequentialminus\":[[0.0,\"#0d0887\"],[0.1111111111111111,\"#46039f\"],[0.2222222222222222,\"#7201a8\"],[0.3333333333333333,\"#9c179e\"],[0.4444444444444444,\"#bd3786\"],[0.5555555555555556,\"#d8576b\"],[0.6666666666666666,\"#ed7953\"],[0.7777777777777778,\"#fb9f3a\"],[0.8888888888888888,\"#fdca26\"],[1.0,\"#f0f921\"]]},\"colorway\":[\"#636efa\",\"#EF553B\",\"#00cc96\",\"#ab63fa\",\"#FFA15A\",\"#19d3f3\",\"#FF6692\",\"#B6E880\",\"#FF97FF\",\"#FECB52\"],\"font\":{\"color\":\"#2a3f5f\"},\"geo\":{\"bgcolor\":\"white\",\"lakecolor\":\"white\",\"landcolor\":\"#E5ECF6\",\"showlakes\":true,\"showland\":true,\"subunitcolor\":\"white\"},\"hoverlabel\":{\"align\":\"left\"},\"hovermode\":\"closest\",\"mapbox\":{\"style\":\"light\"},\"paper_bgcolor\":\"white\",\"plot_bgcolor\":\"#E5ECF6\",\"polar\":{\"angularaxis\":{\"gridcolor\":\"white\",\"linecolor\":\"white\",\"ticks\":\"\"},\"bgcolor\":\"#E5ECF6\",\"radialaxis\":{\"gridcolor\":\"white\",\"linecolor\":\"white\",\"ticks\":\"\"}},\"scene\":{\"xaxis\":{\"backgroundcolor\":\"#E5ECF6\",\"gridcolor\":\"white\",\"gridwidth\":2,\"linecolor\":\"white\",\"showbackground\":true,\"ticks\":\"\",\"zerolinecolor\":\"white\"},\"yaxis\":{\"backgroundcolor\":\"#E5ECF6\",\"gridcolor\":\"white\",\"gridwidth\":2,\"linecolor\":\"white\",\"showbackground\":true,\"ticks\":\"\",\"zerolinecolor\":\"white\"},\"zaxis\":{\"backgroundcolor\":\"#E5ECF6\",\"gridcolor\":\"white\",\"gridwidth\":2,\"linecolor\":\"white\",\"showbackground\":true,\"ticks\":\"\",\"zerolinecolor\":\"white\"}},\"shapedefaults\":{\"line\":{\"color\":\"#2a3f5f\"}},\"ternary\":{\"aaxis\":{\"gridcolor\":\"white\",\"linecolor\":\"white\",\"ticks\":\"\"},\"baxis\":{\"gridcolor\":\"white\",\"linecolor\":\"white\",\"ticks\":\"\"},\"bgcolor\":\"#E5ECF6\",\"caxis\":{\"gridcolor\":\"white\",\"linecolor\":\"white\",\"ticks\":\"\"}},\"title\":{\"x\":0.05},\"xaxis\":{\"automargin\":true,\"gridcolor\":\"white\",\"linecolor\":\"white\",\"ticks\":\"\",\"title\":{\"standoff\":15},\"zerolinecolor\":\"white\",\"zerolinewidth\":2},\"yaxis\":{\"automargin\":true,\"gridcolor\":\"white\",\"linecolor\":\"white\",\"ticks\":\"\",\"title\":{\"standoff\":15},\"zerolinecolor\":\"white\",\"zerolinewidth\":2}}},\"title\":{\"text\":\"NB of Variant through Age\"},\"xaxis\":{\"anchor\":\"y\",\"domain\":[0.0,1.0],\"title\":{\"text\":\"Sample\"}},\"yaxis\":{\"anchor\":\"x\",\"domain\":[0.0,1.0],\"title\":{\"text\":\"NB_total_variant\"}}},                        {\"responsive\": true}                    ).then(function(){\n",
       "                            \n",
       "var gd = document.getElementById('cdd7041b-7027-4415-8576-8b45816e2ac3');\n",
       "var x = new MutationObserver(function (mutations, observer) {{\n",
       "        var display = window.getComputedStyle(gd).display;\n",
       "        if (!display || display === 'none') {{\n",
       "            console.log([gd, 'removed!']);\n",
       "            Plotly.purge(gd);\n",
       "            observer.disconnect();\n",
       "        }}\n",
       "}});\n",
       "\n",
       "// Listen for the removal of the full notebook cells\n",
       "var notebookContainer = gd.closest('#notebook-container');\n",
       "if (notebookContainer) {{\n",
       "    x.observe(notebookContainer, {childList: true});\n",
       "}}\n",
       "\n",
       "// Listen for the clearing of the current output cell\n",
       "var outputEl = gd.closest('.output');\n",
       "if (outputEl) {{\n",
       "    x.observe(outputEl, {childList: true});\n",
       "}}\n",
       "\n",
       "                        })                };                });            </script>        </div>"
      ]
     },
     "metadata": {},
     "output_type": "display_data"
    }
   ],
   "source": [
    "fig = px.scatter(dfsort_age, x=\"Sample\", y=\"NB_total_variant\", color = \"Method\",\n",
    "                 size='Coverage', title=\"NB of Variant through Age\")\n",
    "\n",
    "fig.update_traces(mode='lines+markers', marker_line_width=2, marker_size=20)\n",
    "\n",
    "fig.show()"
   ]
  },
  {
   "cell_type": "code",
   "execution_count": 257,
   "id": "8e4566a8",
   "metadata": {},
   "outputs": [
    {
     "data": {
      "application/vnd.plotly.v1+json": {
       "config": {
        "plotlyServerURL": "https://plot.ly"
       },
       "data": [
        {
         "hovertemplate": "Method=BWA1-bam<br>Coverage=%{x}<br>NB_total_variant=%{y}<extra></extra>",
         "legendgroup": "BWA1-bam",
         "marker": {
          "color": "#636efa",
          "line": {
           "width": 2
          },
          "size": 20,
          "symbol": "circle"
         },
         "mode": "lines+markers",
         "name": "BWA1-bam",
         "orientation": "v",
         "showlegend": true,
         "type": "scatter",
         "x": [
          5,
          10,
          20,
          30,
          65
         ],
         "xaxis": "x",
         "y": [
          11543787,
          15010602,
          14373544,
          14312845,
          14295541
         ],
         "yaxis": "y"
        },
        {
         "hovertemplate": "Method=VG-bam<br>Coverage=%{x}<br>NB_total_variant=%{y}<extra></extra>",
         "legendgroup": "VG-bam",
         "marker": {
          "color": "#EF553B",
          "line": {
           "width": 2
          },
          "size": 20,
          "symbol": "circle"
         },
         "mode": "lines+markers",
         "name": "VG-bam",
         "orientation": "v",
         "showlegend": true,
         "type": "scatter",
         "x": [
          5,
          10,
          20,
          30,
          65
         ],
         "xaxis": "x",
         "y": [
          12493312,
          15995670,
          15363667,
          15250892,
          15211377
         ],
         "yaxis": "y"
        },
        {
         "hovertemplate": "Method=VG-gam<br>Coverage=%{x}<br>NB_total_variant=%{y}<extra></extra>",
         "legendgroup": "VG-gam",
         "marker": {
          "color": "#00cc96",
          "line": {
           "width": 2
          },
          "size": 20,
          "symbol": "circle"
         },
         "mode": "lines+markers",
         "name": "VG-gam",
         "orientation": "v",
         "showlegend": true,
         "type": "scatter",
         "x": [
          65
         ],
         "xaxis": "x",
         "y": [
          18679492
         ],
         "yaxis": "y"
        }
       ],
       "layout": {
        "legend": {
         "title": {
          "text": "Method"
         },
         "tracegroupgap": 0
        },
        "template": {
         "data": {
          "bar": [
           {
            "error_x": {
             "color": "#2a3f5f"
            },
            "error_y": {
             "color": "#2a3f5f"
            },
            "marker": {
             "line": {
              "color": "#E5ECF6",
              "width": 0.5
             },
             "pattern": {
              "fillmode": "overlay",
              "size": 10,
              "solidity": 0.2
             }
            },
            "type": "bar"
           }
          ],
          "barpolar": [
           {
            "marker": {
             "line": {
              "color": "#E5ECF6",
              "width": 0.5
             },
             "pattern": {
              "fillmode": "overlay",
              "size": 10,
              "solidity": 0.2
             }
            },
            "type": "barpolar"
           }
          ],
          "carpet": [
           {
            "aaxis": {
             "endlinecolor": "#2a3f5f",
             "gridcolor": "white",
             "linecolor": "white",
             "minorgridcolor": "white",
             "startlinecolor": "#2a3f5f"
            },
            "baxis": {
             "endlinecolor": "#2a3f5f",
             "gridcolor": "white",
             "linecolor": "white",
             "minorgridcolor": "white",
             "startlinecolor": "#2a3f5f"
            },
            "type": "carpet"
           }
          ],
          "choropleth": [
           {
            "colorbar": {
             "outlinewidth": 0,
             "ticks": ""
            },
            "type": "choropleth"
           }
          ],
          "contour": [
           {
            "colorbar": {
             "outlinewidth": 0,
             "ticks": ""
            },
            "colorscale": [
             [
              0,
              "#0d0887"
             ],
             [
              0.1111111111111111,
              "#46039f"
             ],
             [
              0.2222222222222222,
              "#7201a8"
             ],
             [
              0.3333333333333333,
              "#9c179e"
             ],
             [
              0.4444444444444444,
              "#bd3786"
             ],
             [
              0.5555555555555556,
              "#d8576b"
             ],
             [
              0.6666666666666666,
              "#ed7953"
             ],
             [
              0.7777777777777778,
              "#fb9f3a"
             ],
             [
              0.8888888888888888,
              "#fdca26"
             ],
             [
              1,
              "#f0f921"
             ]
            ],
            "type": "contour"
           }
          ],
          "contourcarpet": [
           {
            "colorbar": {
             "outlinewidth": 0,
             "ticks": ""
            },
            "type": "contourcarpet"
           }
          ],
          "heatmap": [
           {
            "colorbar": {
             "outlinewidth": 0,
             "ticks": ""
            },
            "colorscale": [
             [
              0,
              "#0d0887"
             ],
             [
              0.1111111111111111,
              "#46039f"
             ],
             [
              0.2222222222222222,
              "#7201a8"
             ],
             [
              0.3333333333333333,
              "#9c179e"
             ],
             [
              0.4444444444444444,
              "#bd3786"
             ],
             [
              0.5555555555555556,
              "#d8576b"
             ],
             [
              0.6666666666666666,
              "#ed7953"
             ],
             [
              0.7777777777777778,
              "#fb9f3a"
             ],
             [
              0.8888888888888888,
              "#fdca26"
             ],
             [
              1,
              "#f0f921"
             ]
            ],
            "type": "heatmap"
           }
          ],
          "heatmapgl": [
           {
            "colorbar": {
             "outlinewidth": 0,
             "ticks": ""
            },
            "colorscale": [
             [
              0,
              "#0d0887"
             ],
             [
              0.1111111111111111,
              "#46039f"
             ],
             [
              0.2222222222222222,
              "#7201a8"
             ],
             [
              0.3333333333333333,
              "#9c179e"
             ],
             [
              0.4444444444444444,
              "#bd3786"
             ],
             [
              0.5555555555555556,
              "#d8576b"
             ],
             [
              0.6666666666666666,
              "#ed7953"
             ],
             [
              0.7777777777777778,
              "#fb9f3a"
             ],
             [
              0.8888888888888888,
              "#fdca26"
             ],
             [
              1,
              "#f0f921"
             ]
            ],
            "type": "heatmapgl"
           }
          ],
          "histogram": [
           {
            "marker": {
             "pattern": {
              "fillmode": "overlay",
              "size": 10,
              "solidity": 0.2
             }
            },
            "type": "histogram"
           }
          ],
          "histogram2d": [
           {
            "colorbar": {
             "outlinewidth": 0,
             "ticks": ""
            },
            "colorscale": [
             [
              0,
              "#0d0887"
             ],
             [
              0.1111111111111111,
              "#46039f"
             ],
             [
              0.2222222222222222,
              "#7201a8"
             ],
             [
              0.3333333333333333,
              "#9c179e"
             ],
             [
              0.4444444444444444,
              "#bd3786"
             ],
             [
              0.5555555555555556,
              "#d8576b"
             ],
             [
              0.6666666666666666,
              "#ed7953"
             ],
             [
              0.7777777777777778,
              "#fb9f3a"
             ],
             [
              0.8888888888888888,
              "#fdca26"
             ],
             [
              1,
              "#f0f921"
             ]
            ],
            "type": "histogram2d"
           }
          ],
          "histogram2dcontour": [
           {
            "colorbar": {
             "outlinewidth": 0,
             "ticks": ""
            },
            "colorscale": [
             [
              0,
              "#0d0887"
             ],
             [
              0.1111111111111111,
              "#46039f"
             ],
             [
              0.2222222222222222,
              "#7201a8"
             ],
             [
              0.3333333333333333,
              "#9c179e"
             ],
             [
              0.4444444444444444,
              "#bd3786"
             ],
             [
              0.5555555555555556,
              "#d8576b"
             ],
             [
              0.6666666666666666,
              "#ed7953"
             ],
             [
              0.7777777777777778,
              "#fb9f3a"
             ],
             [
              0.8888888888888888,
              "#fdca26"
             ],
             [
              1,
              "#f0f921"
             ]
            ],
            "type": "histogram2dcontour"
           }
          ],
          "mesh3d": [
           {
            "colorbar": {
             "outlinewidth": 0,
             "ticks": ""
            },
            "type": "mesh3d"
           }
          ],
          "parcoords": [
           {
            "line": {
             "colorbar": {
              "outlinewidth": 0,
              "ticks": ""
             }
            },
            "type": "parcoords"
           }
          ],
          "pie": [
           {
            "automargin": true,
            "type": "pie"
           }
          ],
          "scatter": [
           {
            "marker": {
             "colorbar": {
              "outlinewidth": 0,
              "ticks": ""
             }
            },
            "type": "scatter"
           }
          ],
          "scatter3d": [
           {
            "line": {
             "colorbar": {
              "outlinewidth": 0,
              "ticks": ""
             }
            },
            "marker": {
             "colorbar": {
              "outlinewidth": 0,
              "ticks": ""
             }
            },
            "type": "scatter3d"
           }
          ],
          "scattercarpet": [
           {
            "marker": {
             "colorbar": {
              "outlinewidth": 0,
              "ticks": ""
             }
            },
            "type": "scattercarpet"
           }
          ],
          "scattergeo": [
           {
            "marker": {
             "colorbar": {
              "outlinewidth": 0,
              "ticks": ""
             }
            },
            "type": "scattergeo"
           }
          ],
          "scattergl": [
           {
            "marker": {
             "colorbar": {
              "outlinewidth": 0,
              "ticks": ""
             }
            },
            "type": "scattergl"
           }
          ],
          "scattermapbox": [
           {
            "marker": {
             "colorbar": {
              "outlinewidth": 0,
              "ticks": ""
             }
            },
            "type": "scattermapbox"
           }
          ],
          "scatterpolar": [
           {
            "marker": {
             "colorbar": {
              "outlinewidth": 0,
              "ticks": ""
             }
            },
            "type": "scatterpolar"
           }
          ],
          "scatterpolargl": [
           {
            "marker": {
             "colorbar": {
              "outlinewidth": 0,
              "ticks": ""
             }
            },
            "type": "scatterpolargl"
           }
          ],
          "scatterternary": [
           {
            "marker": {
             "colorbar": {
              "outlinewidth": 0,
              "ticks": ""
             }
            },
            "type": "scatterternary"
           }
          ],
          "surface": [
           {
            "colorbar": {
             "outlinewidth": 0,
             "ticks": ""
            },
            "colorscale": [
             [
              0,
              "#0d0887"
             ],
             [
              0.1111111111111111,
              "#46039f"
             ],
             [
              0.2222222222222222,
              "#7201a8"
             ],
             [
              0.3333333333333333,
              "#9c179e"
             ],
             [
              0.4444444444444444,
              "#bd3786"
             ],
             [
              0.5555555555555556,
              "#d8576b"
             ],
             [
              0.6666666666666666,
              "#ed7953"
             ],
             [
              0.7777777777777778,
              "#fb9f3a"
             ],
             [
              0.8888888888888888,
              "#fdca26"
             ],
             [
              1,
              "#f0f921"
             ]
            ],
            "type": "surface"
           }
          ],
          "table": [
           {
            "cells": {
             "fill": {
              "color": "#EBF0F8"
             },
             "line": {
              "color": "white"
             }
            },
            "header": {
             "fill": {
              "color": "#C8D4E3"
             },
             "line": {
              "color": "white"
             }
            },
            "type": "table"
           }
          ]
         },
         "layout": {
          "annotationdefaults": {
           "arrowcolor": "#2a3f5f",
           "arrowhead": 0,
           "arrowwidth": 1
          },
          "autotypenumbers": "strict",
          "coloraxis": {
           "colorbar": {
            "outlinewidth": 0,
            "ticks": ""
           }
          },
          "colorscale": {
           "diverging": [
            [
             0,
             "#8e0152"
            ],
            [
             0.1,
             "#c51b7d"
            ],
            [
             0.2,
             "#de77ae"
            ],
            [
             0.3,
             "#f1b6da"
            ],
            [
             0.4,
             "#fde0ef"
            ],
            [
             0.5,
             "#f7f7f7"
            ],
            [
             0.6,
             "#e6f5d0"
            ],
            [
             0.7,
             "#b8e186"
            ],
            [
             0.8,
             "#7fbc41"
            ],
            [
             0.9,
             "#4d9221"
            ],
            [
             1,
             "#276419"
            ]
           ],
           "sequential": [
            [
             0,
             "#0d0887"
            ],
            [
             0.1111111111111111,
             "#46039f"
            ],
            [
             0.2222222222222222,
             "#7201a8"
            ],
            [
             0.3333333333333333,
             "#9c179e"
            ],
            [
             0.4444444444444444,
             "#bd3786"
            ],
            [
             0.5555555555555556,
             "#d8576b"
            ],
            [
             0.6666666666666666,
             "#ed7953"
            ],
            [
             0.7777777777777778,
             "#fb9f3a"
            ],
            [
             0.8888888888888888,
             "#fdca26"
            ],
            [
             1,
             "#f0f921"
            ]
           ],
           "sequentialminus": [
            [
             0,
             "#0d0887"
            ],
            [
             0.1111111111111111,
             "#46039f"
            ],
            [
             0.2222222222222222,
             "#7201a8"
            ],
            [
             0.3333333333333333,
             "#9c179e"
            ],
            [
             0.4444444444444444,
             "#bd3786"
            ],
            [
             0.5555555555555556,
             "#d8576b"
            ],
            [
             0.6666666666666666,
             "#ed7953"
            ],
            [
             0.7777777777777778,
             "#fb9f3a"
            ],
            [
             0.8888888888888888,
             "#fdca26"
            ],
            [
             1,
             "#f0f921"
            ]
           ]
          },
          "colorway": [
           "#636efa",
           "#EF553B",
           "#00cc96",
           "#ab63fa",
           "#FFA15A",
           "#19d3f3",
           "#FF6692",
           "#B6E880",
           "#FF97FF",
           "#FECB52"
          ],
          "font": {
           "color": "#2a3f5f"
          },
          "geo": {
           "bgcolor": "white",
           "lakecolor": "white",
           "landcolor": "#E5ECF6",
           "showlakes": true,
           "showland": true,
           "subunitcolor": "white"
          },
          "hoverlabel": {
           "align": "left"
          },
          "hovermode": "closest",
          "mapbox": {
           "style": "light"
          },
          "paper_bgcolor": "white",
          "plot_bgcolor": "#E5ECF6",
          "polar": {
           "angularaxis": {
            "gridcolor": "white",
            "linecolor": "white",
            "ticks": ""
           },
           "bgcolor": "#E5ECF6",
           "radialaxis": {
            "gridcolor": "white",
            "linecolor": "white",
            "ticks": ""
           }
          },
          "scene": {
           "xaxis": {
            "backgroundcolor": "#E5ECF6",
            "gridcolor": "white",
            "gridwidth": 2,
            "linecolor": "white",
            "showbackground": true,
            "ticks": "",
            "zerolinecolor": "white"
           },
           "yaxis": {
            "backgroundcolor": "#E5ECF6",
            "gridcolor": "white",
            "gridwidth": 2,
            "linecolor": "white",
            "showbackground": true,
            "ticks": "",
            "zerolinecolor": "white"
           },
           "zaxis": {
            "backgroundcolor": "#E5ECF6",
            "gridcolor": "white",
            "gridwidth": 2,
            "linecolor": "white",
            "showbackground": true,
            "ticks": "",
            "zerolinecolor": "white"
           }
          },
          "shapedefaults": {
           "line": {
            "color": "#2a3f5f"
           }
          },
          "ternary": {
           "aaxis": {
            "gridcolor": "white",
            "linecolor": "white",
            "ticks": ""
           },
           "baxis": {
            "gridcolor": "white",
            "linecolor": "white",
            "ticks": ""
           },
           "bgcolor": "#E5ECF6",
           "caxis": {
            "gridcolor": "white",
            "linecolor": "white",
            "ticks": ""
           }
          },
          "title": {
           "x": 0.05
          },
          "xaxis": {
           "automargin": true,
           "gridcolor": "white",
           "linecolor": "white",
           "ticks": "",
           "title": {
            "standoff": 15
           },
           "zerolinecolor": "white",
           "zerolinewidth": 2
          },
          "yaxis": {
           "automargin": true,
           "gridcolor": "white",
           "linecolor": "white",
           "ticks": "",
           "title": {
            "standoff": 15
           },
           "zerolinecolor": "white",
           "zerolinewidth": 2
          }
         }
        },
        "title": {
         "text": "NB of Variant through Coverage"
        },
        "xaxis": {
         "anchor": "y",
         "domain": [
          0,
          1
         ],
         "tickmode": "array",
         "ticktext": [
          "0",
          "5",
          "10",
          "20",
          "30",
          "60"
         ],
         "tickvals": [
          0,
          5,
          10,
          20,
          30,
          60
         ],
         "title": {
          "text": "Coverage"
         }
        },
        "yaxis": {
         "anchor": "x",
         "domain": [
          0,
          1
         ],
         "title": {
          "text": "NB_total_variant"
         }
        }
       }
      },
      "text/html": [
       "<div>                            <div id=\"7ef0636a-5c4d-413c-a40c-b779eddbc3b6\" class=\"plotly-graph-div\" style=\"height:525px; width:100%;\"></div>            <script type=\"text/javascript\">                require([\"plotly\"], function(Plotly) {                    window.PLOTLYENV=window.PLOTLYENV || {};                                    if (document.getElementById(\"7ef0636a-5c4d-413c-a40c-b779eddbc3b6\")) {                    Plotly.newPlot(                        \"7ef0636a-5c4d-413c-a40c-b779eddbc3b6\",                        [{\"hovertemplate\":\"Method=BWA1-bam<br>Coverage=%{x}<br>NB_total_variant=%{y}<extra></extra>\",\"legendgroup\":\"BWA1-bam\",\"marker\":{\"color\":\"#636efa\",\"line\":{\"width\":2},\"size\":20,\"symbol\":\"circle\"},\"mode\":\"lines+markers\",\"name\":\"BWA1-bam\",\"orientation\":\"v\",\"showlegend\":true,\"type\":\"scatter\",\"x\":[5,10,20,30,65],\"xaxis\":\"x\",\"y\":[11543787,15010602,14373544,14312845,14295541],\"yaxis\":\"y\"},{\"hovertemplate\":\"Method=VG-bam<br>Coverage=%{x}<br>NB_total_variant=%{y}<extra></extra>\",\"legendgroup\":\"VG-bam\",\"marker\":{\"color\":\"#EF553B\",\"line\":{\"width\":2},\"size\":20,\"symbol\":\"circle\"},\"mode\":\"lines+markers\",\"name\":\"VG-bam\",\"orientation\":\"v\",\"showlegend\":true,\"type\":\"scatter\",\"x\":[5,10,20,30,65],\"xaxis\":\"x\",\"y\":[12493312,15995670,15363667,15250892,15211377],\"yaxis\":\"y\"},{\"hovertemplate\":\"Method=VG-gam<br>Coverage=%{x}<br>NB_total_variant=%{y}<extra></extra>\",\"legendgroup\":\"VG-gam\",\"marker\":{\"color\":\"#00cc96\",\"line\":{\"width\":2},\"size\":20,\"symbol\":\"circle\"},\"mode\":\"lines+markers\",\"name\":\"VG-gam\",\"orientation\":\"v\",\"showlegend\":true,\"type\":\"scatter\",\"x\":[65],\"xaxis\":\"x\",\"y\":[18679492],\"yaxis\":\"y\"}],                        {\"legend\":{\"title\":{\"text\":\"Method\"},\"tracegroupgap\":0},\"template\":{\"data\":{\"bar\":[{\"error_x\":{\"color\":\"#2a3f5f\"},\"error_y\":{\"color\":\"#2a3f5f\"},\"marker\":{\"line\":{\"color\":\"#E5ECF6\",\"width\":0.5},\"pattern\":{\"fillmode\":\"overlay\",\"size\":10,\"solidity\":0.2}},\"type\":\"bar\"}],\"barpolar\":[{\"marker\":{\"line\":{\"color\":\"#E5ECF6\",\"width\":0.5},\"pattern\":{\"fillmode\":\"overlay\",\"size\":10,\"solidity\":0.2}},\"type\":\"barpolar\"}],\"carpet\":[{\"aaxis\":{\"endlinecolor\":\"#2a3f5f\",\"gridcolor\":\"white\",\"linecolor\":\"white\",\"minorgridcolor\":\"white\",\"startlinecolor\":\"#2a3f5f\"},\"baxis\":{\"endlinecolor\":\"#2a3f5f\",\"gridcolor\":\"white\",\"linecolor\":\"white\",\"minorgridcolor\":\"white\",\"startlinecolor\":\"#2a3f5f\"},\"type\":\"carpet\"}],\"choropleth\":[{\"colorbar\":{\"outlinewidth\":0,\"ticks\":\"\"},\"type\":\"choropleth\"}],\"contour\":[{\"colorbar\":{\"outlinewidth\":0,\"ticks\":\"\"},\"colorscale\":[[0.0,\"#0d0887\"],[0.1111111111111111,\"#46039f\"],[0.2222222222222222,\"#7201a8\"],[0.3333333333333333,\"#9c179e\"],[0.4444444444444444,\"#bd3786\"],[0.5555555555555556,\"#d8576b\"],[0.6666666666666666,\"#ed7953\"],[0.7777777777777778,\"#fb9f3a\"],[0.8888888888888888,\"#fdca26\"],[1.0,\"#f0f921\"]],\"type\":\"contour\"}],\"contourcarpet\":[{\"colorbar\":{\"outlinewidth\":0,\"ticks\":\"\"},\"type\":\"contourcarpet\"}],\"heatmap\":[{\"colorbar\":{\"outlinewidth\":0,\"ticks\":\"\"},\"colorscale\":[[0.0,\"#0d0887\"],[0.1111111111111111,\"#46039f\"],[0.2222222222222222,\"#7201a8\"],[0.3333333333333333,\"#9c179e\"],[0.4444444444444444,\"#bd3786\"],[0.5555555555555556,\"#d8576b\"],[0.6666666666666666,\"#ed7953\"],[0.7777777777777778,\"#fb9f3a\"],[0.8888888888888888,\"#fdca26\"],[1.0,\"#f0f921\"]],\"type\":\"heatmap\"}],\"heatmapgl\":[{\"colorbar\":{\"outlinewidth\":0,\"ticks\":\"\"},\"colorscale\":[[0.0,\"#0d0887\"],[0.1111111111111111,\"#46039f\"],[0.2222222222222222,\"#7201a8\"],[0.3333333333333333,\"#9c179e\"],[0.4444444444444444,\"#bd3786\"],[0.5555555555555556,\"#d8576b\"],[0.6666666666666666,\"#ed7953\"],[0.7777777777777778,\"#fb9f3a\"],[0.8888888888888888,\"#fdca26\"],[1.0,\"#f0f921\"]],\"type\":\"heatmapgl\"}],\"histogram\":[{\"marker\":{\"pattern\":{\"fillmode\":\"overlay\",\"size\":10,\"solidity\":0.2}},\"type\":\"histogram\"}],\"histogram2d\":[{\"colorbar\":{\"outlinewidth\":0,\"ticks\":\"\"},\"colorscale\":[[0.0,\"#0d0887\"],[0.1111111111111111,\"#46039f\"],[0.2222222222222222,\"#7201a8\"],[0.3333333333333333,\"#9c179e\"],[0.4444444444444444,\"#bd3786\"],[0.5555555555555556,\"#d8576b\"],[0.6666666666666666,\"#ed7953\"],[0.7777777777777778,\"#fb9f3a\"],[0.8888888888888888,\"#fdca26\"],[1.0,\"#f0f921\"]],\"type\":\"histogram2d\"}],\"histogram2dcontour\":[{\"colorbar\":{\"outlinewidth\":0,\"ticks\":\"\"},\"colorscale\":[[0.0,\"#0d0887\"],[0.1111111111111111,\"#46039f\"],[0.2222222222222222,\"#7201a8\"],[0.3333333333333333,\"#9c179e\"],[0.4444444444444444,\"#bd3786\"],[0.5555555555555556,\"#d8576b\"],[0.6666666666666666,\"#ed7953\"],[0.7777777777777778,\"#fb9f3a\"],[0.8888888888888888,\"#fdca26\"],[1.0,\"#f0f921\"]],\"type\":\"histogram2dcontour\"}],\"mesh3d\":[{\"colorbar\":{\"outlinewidth\":0,\"ticks\":\"\"},\"type\":\"mesh3d\"}],\"parcoords\":[{\"line\":{\"colorbar\":{\"outlinewidth\":0,\"ticks\":\"\"}},\"type\":\"parcoords\"}],\"pie\":[{\"automargin\":true,\"type\":\"pie\"}],\"scatter\":[{\"marker\":{\"colorbar\":{\"outlinewidth\":0,\"ticks\":\"\"}},\"type\":\"scatter\"}],\"scatter3d\":[{\"line\":{\"colorbar\":{\"outlinewidth\":0,\"ticks\":\"\"}},\"marker\":{\"colorbar\":{\"outlinewidth\":0,\"ticks\":\"\"}},\"type\":\"scatter3d\"}],\"scattercarpet\":[{\"marker\":{\"colorbar\":{\"outlinewidth\":0,\"ticks\":\"\"}},\"type\":\"scattercarpet\"}],\"scattergeo\":[{\"marker\":{\"colorbar\":{\"outlinewidth\":0,\"ticks\":\"\"}},\"type\":\"scattergeo\"}],\"scattergl\":[{\"marker\":{\"colorbar\":{\"outlinewidth\":0,\"ticks\":\"\"}},\"type\":\"scattergl\"}],\"scattermapbox\":[{\"marker\":{\"colorbar\":{\"outlinewidth\":0,\"ticks\":\"\"}},\"type\":\"scattermapbox\"}],\"scatterpolar\":[{\"marker\":{\"colorbar\":{\"outlinewidth\":0,\"ticks\":\"\"}},\"type\":\"scatterpolar\"}],\"scatterpolargl\":[{\"marker\":{\"colorbar\":{\"outlinewidth\":0,\"ticks\":\"\"}},\"type\":\"scatterpolargl\"}],\"scatterternary\":[{\"marker\":{\"colorbar\":{\"outlinewidth\":0,\"ticks\":\"\"}},\"type\":\"scatterternary\"}],\"surface\":[{\"colorbar\":{\"outlinewidth\":0,\"ticks\":\"\"},\"colorscale\":[[0.0,\"#0d0887\"],[0.1111111111111111,\"#46039f\"],[0.2222222222222222,\"#7201a8\"],[0.3333333333333333,\"#9c179e\"],[0.4444444444444444,\"#bd3786\"],[0.5555555555555556,\"#d8576b\"],[0.6666666666666666,\"#ed7953\"],[0.7777777777777778,\"#fb9f3a\"],[0.8888888888888888,\"#fdca26\"],[1.0,\"#f0f921\"]],\"type\":\"surface\"}],\"table\":[{\"cells\":{\"fill\":{\"color\":\"#EBF0F8\"},\"line\":{\"color\":\"white\"}},\"header\":{\"fill\":{\"color\":\"#C8D4E3\"},\"line\":{\"color\":\"white\"}},\"type\":\"table\"}]},\"layout\":{\"annotationdefaults\":{\"arrowcolor\":\"#2a3f5f\",\"arrowhead\":0,\"arrowwidth\":1},\"autotypenumbers\":\"strict\",\"coloraxis\":{\"colorbar\":{\"outlinewidth\":0,\"ticks\":\"\"}},\"colorscale\":{\"diverging\":[[0,\"#8e0152\"],[0.1,\"#c51b7d\"],[0.2,\"#de77ae\"],[0.3,\"#f1b6da\"],[0.4,\"#fde0ef\"],[0.5,\"#f7f7f7\"],[0.6,\"#e6f5d0\"],[0.7,\"#b8e186\"],[0.8,\"#7fbc41\"],[0.9,\"#4d9221\"],[1,\"#276419\"]],\"sequential\":[[0.0,\"#0d0887\"],[0.1111111111111111,\"#46039f\"],[0.2222222222222222,\"#7201a8\"],[0.3333333333333333,\"#9c179e\"],[0.4444444444444444,\"#bd3786\"],[0.5555555555555556,\"#d8576b\"],[0.6666666666666666,\"#ed7953\"],[0.7777777777777778,\"#fb9f3a\"],[0.8888888888888888,\"#fdca26\"],[1.0,\"#f0f921\"]],\"sequentialminus\":[[0.0,\"#0d0887\"],[0.1111111111111111,\"#46039f\"],[0.2222222222222222,\"#7201a8\"],[0.3333333333333333,\"#9c179e\"],[0.4444444444444444,\"#bd3786\"],[0.5555555555555556,\"#d8576b\"],[0.6666666666666666,\"#ed7953\"],[0.7777777777777778,\"#fb9f3a\"],[0.8888888888888888,\"#fdca26\"],[1.0,\"#f0f921\"]]},\"colorway\":[\"#636efa\",\"#EF553B\",\"#00cc96\",\"#ab63fa\",\"#FFA15A\",\"#19d3f3\",\"#FF6692\",\"#B6E880\",\"#FF97FF\",\"#FECB52\"],\"font\":{\"color\":\"#2a3f5f\"},\"geo\":{\"bgcolor\":\"white\",\"lakecolor\":\"white\",\"landcolor\":\"#E5ECF6\",\"showlakes\":true,\"showland\":true,\"subunitcolor\":\"white\"},\"hoverlabel\":{\"align\":\"left\"},\"hovermode\":\"closest\",\"mapbox\":{\"style\":\"light\"},\"paper_bgcolor\":\"white\",\"plot_bgcolor\":\"#E5ECF6\",\"polar\":{\"angularaxis\":{\"gridcolor\":\"white\",\"linecolor\":\"white\",\"ticks\":\"\"},\"bgcolor\":\"#E5ECF6\",\"radialaxis\":{\"gridcolor\":\"white\",\"linecolor\":\"white\",\"ticks\":\"\"}},\"scene\":{\"xaxis\":{\"backgroundcolor\":\"#E5ECF6\",\"gridcolor\":\"white\",\"gridwidth\":2,\"linecolor\":\"white\",\"showbackground\":true,\"ticks\":\"\",\"zerolinecolor\":\"white\"},\"yaxis\":{\"backgroundcolor\":\"#E5ECF6\",\"gridcolor\":\"white\",\"gridwidth\":2,\"linecolor\":\"white\",\"showbackground\":true,\"ticks\":\"\",\"zerolinecolor\":\"white\"},\"zaxis\":{\"backgroundcolor\":\"#E5ECF6\",\"gridcolor\":\"white\",\"gridwidth\":2,\"linecolor\":\"white\",\"showbackground\":true,\"ticks\":\"\",\"zerolinecolor\":\"white\"}},\"shapedefaults\":{\"line\":{\"color\":\"#2a3f5f\"}},\"ternary\":{\"aaxis\":{\"gridcolor\":\"white\",\"linecolor\":\"white\",\"ticks\":\"\"},\"baxis\":{\"gridcolor\":\"white\",\"linecolor\":\"white\",\"ticks\":\"\"},\"bgcolor\":\"#E5ECF6\",\"caxis\":{\"gridcolor\":\"white\",\"linecolor\":\"white\",\"ticks\":\"\"}},\"title\":{\"x\":0.05},\"xaxis\":{\"automargin\":true,\"gridcolor\":\"white\",\"linecolor\":\"white\",\"ticks\":\"\",\"title\":{\"standoff\":15},\"zerolinecolor\":\"white\",\"zerolinewidth\":2},\"yaxis\":{\"automargin\":true,\"gridcolor\":\"white\",\"linecolor\":\"white\",\"ticks\":\"\",\"title\":{\"standoff\":15},\"zerolinecolor\":\"white\",\"zerolinewidth\":2}}},\"title\":{\"text\":\"NB of Variant through Coverage\"},\"xaxis\":{\"anchor\":\"y\",\"domain\":[0.0,1.0],\"tickmode\":\"array\",\"ticktext\":[\"0\",\"5\",\"10\",\"20\",\"30\",\"60\"],\"tickvals\":[0,5,10,20,30,60],\"title\":{\"text\":\"Coverage\"}},\"yaxis\":{\"anchor\":\"x\",\"domain\":[0.0,1.0],\"title\":{\"text\":\"NB_total_variant\"}}},                        {\"responsive\": true}                    ).then(function(){\n",
       "                            \n",
       "var gd = document.getElementById('7ef0636a-5c4d-413c-a40c-b779eddbc3b6');\n",
       "var x = new MutationObserver(function (mutations, observer) {{\n",
       "        var display = window.getComputedStyle(gd).display;\n",
       "        if (!display || display === 'none') {{\n",
       "            console.log([gd, 'removed!']);\n",
       "            Plotly.purge(gd);\n",
       "            observer.disconnect();\n",
       "        }}\n",
       "}});\n",
       "\n",
       "// Listen for the removal of the full notebook cells\n",
       "var notebookContainer = gd.closest('#notebook-container');\n",
       "if (notebookContainer) {{\n",
       "    x.observe(notebookContainer, {childList: true});\n",
       "}}\n",
       "\n",
       "// Listen for the clearing of the current output cell\n",
       "var outputEl = gd.closest('.output');\n",
       "if (outputEl) {{\n",
       "    x.observe(outputEl, {childList: true});\n",
       "}}\n",
       "\n",
       "                        })                };                });            </script>        </div>"
      ]
     },
     "metadata": {},
     "output_type": "display_data"
    }
   ],
   "source": [
    "fig = px.scatter(dfsort_cov, x=\"Coverage\", y=\"NB_total_variant\", color = \"Method\",\n",
    "                title=\"NB of Variant through Coverage\")\n",
    "\n",
    "fig.update_layout(\n",
    "    xaxis = dict(\n",
    "        tickmode = 'array',\n",
    "        tickvals = [0, 5, 10, 20, 30, 60],\n",
    "        ticktext = ['0', '5', '10', '20', '30', '60']\n",
    "    )\n",
    ")\n",
    "fig.update_traces(mode='lines+markers', marker_line_width=2, marker_size=20)\n",
    "\n",
    "\n",
    "fig.show()"
   ]
  },
  {
   "cell_type": "markdown",
   "id": "9844552d",
   "metadata": {},
   "source": [
    "# Insight on the proporition for each TYPE OF VARIANTS"
   ]
  },
  {
   "cell_type": "code",
   "execution_count": 258,
   "id": "4182bee5",
   "metadata": {},
   "outputs": [],
   "source": [
    "df_age = dfsort_age.melt(id_vars=['Sample','Method'], value_vars=['PCT_SNV','PCT_INDEL','PCT_Substitution','PCT_Insertion','PCT_Deletion','PCT_Others'])\n",
    "df_cov = dfsort_cov.melt(id_vars=['Sample','Method','Coverage'], value_vars=['PCT_SNV','PCT_INDEL','PCT_Substitution','PCT_Insertion','PCT_Deletion','PCT_Others'])"
   ]
  },
  {
   "cell_type": "code",
   "execution_count": 260,
   "id": "a074343b",
   "metadata": {},
   "outputs": [
    {
     "data": {
      "application/vnd.plotly.v1+json": {
       "config": {
        "plotlyServerURL": "https://plot.ly"
       },
       "data": [
        {
         "hovertemplate": "Method=BWA1-bam<br>variable=PCT_SNV<br>Sample=%{x}<br>value=%{y}<extra></extra>",
         "legendgroup": "BWA1-bam",
         "marker": {
          "color": "#636efa",
          "line": {
           "width": 2
          },
          "size": 5,
          "symbol": "circle"
         },
         "mode": "lines+markers",
         "name": "BWA1-bam",
         "orientation": "v",
         "showlegend": true,
         "type": "scatter",
         "x": [
          "SZ43",
          "SZ45",
          "SZ4",
          "SZ15",
          "BR2",
          "ATP016",
          "NG10",
          "PB675",
          "BOT2016",
          "JP14",
          "NE1",
          "Stutgart",
          "Loschbour",
          "SF12",
          "KK1",
          "Sunghir3",
          "UstIshim"
         ],
         "xaxis": "x6",
         "y": [
          89.36754821885027,
          89.75018196139398,
          89.52631000566019,
          89.40797508827134,
          88.42546764609197,
          90.59315254816093,
          84.98611641486066,
          86.50573595923794,
          87.72361329392257,
          85.98822004004664,
          88.8341891050223,
          85.20846682493668,
          83.93461550876393,
          86.9057281567728,
          90.2171033699731,
          87.39063145885599,
          84.88345650444737
         ],
         "yaxis": "y6"
        },
        {
         "hovertemplate": "Method=BWA1-bam<br>variable=PCT_INDEL<br>Sample=%{x}<br>value=%{y}<extra></extra>",
         "legendgroup": "BWA1-bam",
         "marker": {
          "color": "#636efa",
          "line": {
           "width": 2
          },
          "size": 5,
          "symbol": "circle"
         },
         "mode": "lines+markers",
         "name": "BWA1-bam",
         "orientation": "v",
         "showlegend": false,
         "type": "scatter",
         "x": [
          "SZ43",
          "SZ45",
          "SZ4",
          "SZ15",
          "BR2",
          "ATP016",
          "NG10",
          "PB675",
          "BOT2016",
          "JP14",
          "NE1",
          "Stutgart",
          "Loschbour",
          "SF12",
          "KK1",
          "Sunghir3",
          "UstIshim"
         ],
         "xaxis": "x5",
         "y": [
          7.6927294734407905,
          7.2848257301696755,
          6.854608847720807,
          7.646499490983829,
          8.669428685900241,
          6.200558023038566,
          11.038565764923893,
          10.195430374215817,
          10.169741186648404,
          10.18960762937371,
          8.262583645693002,
          11.773305274069012,
          12.880891312737287,
          9.774334528507875,
          3.365905666412035,
          10.360750198975847,
          11.98445227917789
         ],
         "yaxis": "y5"
        },
        {
         "hovertemplate": "Method=BWA1-bam<br>variable=PCT_Substitution<br>Sample=%{x}<br>value=%{y}<extra></extra>",
         "legendgroup": "BWA1-bam",
         "marker": {
          "color": "#636efa",
          "line": {
           "width": 2
          },
          "size": 5,
          "symbol": "circle"
         },
         "mode": "lines+markers",
         "name": "BWA1-bam",
         "orientation": "v",
         "showlegend": false,
         "type": "scatter",
         "x": [
          "SZ43",
          "SZ45",
          "SZ4",
          "SZ15",
          "BR2",
          "ATP016",
          "NG10",
          "PB675",
          "BOT2016",
          "JP14",
          "NE1",
          "Stutgart",
          "Loschbour",
          "SF12",
          "KK1",
          "Sunghir3",
          "UstIshim"
         ],
         "xaxis": "x4",
         "y": [
          2.9397223077089305,
          2.964992308436345,
          3.619081146619,
          2.945525420744829,
          2.9051036680077917,
          3.2062894288005017,
          3.97531782021545,
          3.298833666546246,
          2.1066455194290246,
          3.8221723305796425,
          2.9032272492846967,
          3.0182279009943134,
          3.1844931784987813,
          3.319937314719324,
          6.4169856709150634,
          2.2486183421681614,
          3.13209121637474
         ],
         "yaxis": "y4"
        },
        {
         "hovertemplate": "Method=BWA1-bam<br>variable=PCT_Insertion<br>Sample=%{x}<br>value=%{y}<extra></extra>",
         "legendgroup": "BWA1-bam",
         "marker": {
          "color": "#636efa",
          "line": {
           "width": 2
          },
          "size": 5,
          "symbol": "circle"
         },
         "mode": "lines+markers",
         "name": "BWA1-bam",
         "orientation": "v",
         "showlegend": false,
         "type": "scatter",
         "x": [
          "SZ43",
          "SZ45",
          "SZ4",
          "SZ15",
          "BR2",
          "ATP016",
          "NG10",
          "PB675",
          "BOT2016",
          "JP14",
          "NE1",
          "Stutgart",
          "Loschbour",
          "SF12",
          "KK1",
          "Sunghir3",
          "UstIshim"
         ],
         "xaxis": "x3",
         "y": [
          0,
          0,
          0,
          0,
          0,
          0,
          0,
          0,
          0,
          0,
          0,
          0,
          0,
          0,
          0,
          0,
          0
         ],
         "yaxis": "y3"
        },
        {
         "hovertemplate": "Method=BWA1-bam<br>variable=PCT_Deletion<br>Sample=%{x}<br>value=%{y}<extra></extra>",
         "legendgroup": "BWA1-bam",
         "marker": {
          "color": "#636efa",
          "line": {
           "width": 2
          },
          "size": 5,
          "symbol": "circle"
         },
         "mode": "lines+markers",
         "name": "BWA1-bam",
         "orientation": "v",
         "showlegend": false,
         "type": "scatter",
         "x": [
          "SZ43",
          "SZ45",
          "SZ4",
          "SZ15",
          "BR2",
          "ATP016",
          "NG10",
          "PB675",
          "BOT2016",
          "JP14",
          "NE1",
          "Stutgart",
          "Loschbour",
          "SF12",
          "KK1",
          "Sunghir3",
          "UstIshim"
         ],
         "xaxis": "x2",
         "y": [
          0,
          0,
          0,
          0,
          0,
          0,
          0,
          0,
          0,
          0,
          0,
          0,
          0,
          0,
          5.292699795050786e-06,
          0,
          0
         ],
         "yaxis": "y2"
        },
        {
         "hovertemplate": "Method=BWA1-bam<br>variable=PCT_Others<br>Sample=%{x}<br>value=%{y}<extra></extra>",
         "legendgroup": "BWA1-bam",
         "marker": {
          "color": "#636efa",
          "line": {
           "width": 2
          },
          "size": 5,
          "symbol": "circle"
         },
         "mode": "lines+markers",
         "name": "BWA1-bam",
         "orientation": "v",
         "showlegend": false,
         "type": "scatter",
         "x": [
          "SZ43",
          "SZ45",
          "SZ4",
          "SZ15",
          "BR2",
          "ATP016",
          "NG10",
          "PB675",
          "BOT2016",
          "JP14",
          "NE1",
          "Stutgart",
          "Loschbour",
          "SF12",
          "KK1",
          "Sunghir3",
          "UstIshim"
         ],
         "xaxis": "x",
         "y": [
          0,
          0,
          0,
          0,
          0,
          0,
          0,
          0,
          0,
          0,
          0,
          0,
          0,
          0,
          0,
          0,
          0
         ],
         "yaxis": "y"
        },
        {
         "hovertemplate": "Method=VG-gam<br>variable=PCT_SNV<br>Sample=%{x}<br>value=%{y}<extra></extra>",
         "legendgroup": "VG-gam",
         "marker": {
          "color": "#EF553B",
          "line": {
           "width": 2
          },
          "size": 5,
          "symbol": "circle"
         },
         "mode": "lines+markers",
         "name": "VG-gam",
         "orientation": "v",
         "showlegend": true,
         "type": "scatter",
         "x": [
          "SZ43",
          "SZ45",
          "SZ4",
          "SZ15",
          "BR2",
          "ATP016",
          "NG10",
          "PB675",
          "BOT2016",
          "JP14",
          "NE1",
          "Stutgart",
          "Loschbour",
          "SF12",
          "KK1",
          "Sunghir3",
          "UstIshim"
         ],
         "xaxis": "x6",
         "y": [
          87.85695459043487,
          87.91017842270165,
          87.70088142500404,
          87.55349637979009,
          86.93362694908458,
          87.17013549494996,
          86.58804844853563,
          87.33379011565138,
          85.08887274943737,
          86.63950810680109,
          87.12505866015566,
          85.73796483418546,
          85.3101246166094,
          86.45934268447985,
          88.20390694197387,
          85.16246055775947,
          86.249690973605
         ],
         "yaxis": "y6"
        },
        {
         "hovertemplate": "Method=VG-gam<br>variable=PCT_INDEL<br>Sample=%{x}<br>value=%{y}<extra></extra>",
         "legendgroup": "VG-gam",
         "marker": {
          "color": "#EF553B",
          "line": {
           "width": 2
          },
          "size": 5,
          "symbol": "circle"
         },
         "mode": "lines+markers",
         "name": "VG-gam",
         "orientation": "v",
         "showlegend": false,
         "type": "scatter",
         "x": [
          "SZ43",
          "SZ45",
          "SZ4",
          "SZ15",
          "BR2",
          "ATP016",
          "NG10",
          "PB675",
          "BOT2016",
          "JP14",
          "NE1",
          "Stutgart",
          "Loschbour",
          "SF12",
          "KK1",
          "Sunghir3",
          "UstIshim"
         ],
         "xaxis": "x5",
         "y": [
          0.17112456189619965,
          0.17389409180483512,
          0.17119983946460235,
          0.17303298031981562,
          0.15837481685899926,
          0.14838856207011225,
          0.17004618035703137,
          0.1640672584733151,
          0.16353171274252573,
          0.16908866251083174,
          0.15722484793201844,
          0.16712994690406274,
          0.17360610619168462,
          0.16364470725435146,
          0.16096203933266873,
          0.16378531562460868,
          0.17153477830365518
         ],
         "yaxis": "y5"
        },
        {
         "hovertemplate": "Method=VG-gam<br>variable=PCT_Substitution<br>Sample=%{x}<br>value=%{y}<extra></extra>",
         "legendgroup": "VG-gam",
         "marker": {
          "color": "#EF553B",
          "line": {
           "width": 2
          },
          "size": 5,
          "symbol": "circle"
         },
         "mode": "lines+markers",
         "name": "VG-gam",
         "orientation": "v",
         "showlegend": false,
         "type": "scatter",
         "x": [
          "SZ43",
          "SZ45",
          "SZ4",
          "SZ15",
          "BR2",
          "ATP016",
          "NG10",
          "PB675",
          "BOT2016",
          "JP14",
          "NE1",
          "Stutgart",
          "Loschbour",
          "SF12",
          "KK1",
          "Sunghir3",
          "UstIshim"
         ],
         "xaxis": "x4",
         "y": [
          1.2269460245198107,
          1.220304987902963,
          1.27480515842606,
          1.1976660043430374,
          1.0841915054121858,
          1.248193905868285,
          1.0931962654150729,
          1.1268811695021528,
          0.9915065753608588,
          1.1100650923531012,
          1.118213621517219,
          1.0500707940235983,
          1.0827024265638994,
          1.0376674055161672,
          1.3455661267555314,
          1.120453198022202,
          1.0652229319600615
         ],
         "yaxis": "y4"
        },
        {
         "hovertemplate": "Method=VG-gam<br>variable=PCT_Insertion<br>Sample=%{x}<br>value=%{y}<extra></extra>",
         "legendgroup": "VG-gam",
         "marker": {
          "color": "#EF553B",
          "line": {
           "width": 2
          },
          "size": 5,
          "symbol": "circle"
         },
         "mode": "lines+markers",
         "name": "VG-gam",
         "orientation": "v",
         "showlegend": false,
         "type": "scatter",
         "x": [
          "SZ43",
          "SZ45",
          "SZ4",
          "SZ15",
          "BR2",
          "ATP016",
          "NG10",
          "PB675",
          "BOT2016",
          "JP14",
          "NE1",
          "Stutgart",
          "Loschbour",
          "SF12",
          "KK1",
          "Sunghir3",
          "UstIshim"
         ],
         "xaxis": "x3",
         "y": [
          4.412758396371229,
          4.425665128146255,
          4.468241158933332,
          4.437155876197363,
          5.022423824637016,
          4.276624430385697,
          5.143144158391586,
          4.8823628374005565,
          5.991138089239004,
          5.229285737917127,
          4.9257055067235544,
          5.491223146532692,
          5.664190269818051,
          5.1648192573973635,
          4.2784745882156345,
          5.215588794127472,
          5.25772923923659
         ],
         "yaxis": "y3"
        },
        {
         "hovertemplate": "Method=VG-gam<br>variable=PCT_Deletion<br>Sample=%{x}<br>value=%{y}<extra></extra>",
         "legendgroup": "VG-gam",
         "marker": {
          "color": "#EF553B",
          "line": {
           "width": 2
          },
          "size": 5,
          "symbol": "circle"
         },
         "mode": "lines+markers",
         "name": "VG-gam",
         "orientation": "v",
         "showlegend": false,
         "type": "scatter",
         "x": [
          "SZ43",
          "SZ45",
          "SZ4",
          "SZ15",
          "BR2",
          "ATP016",
          "NG10",
          "PB675",
          "BOT2016",
          "JP14",
          "NE1",
          "Stutgart",
          "Loschbour",
          "SF12",
          "KK1",
          "Sunghir3",
          "UstIshim"
         ],
         "xaxis": "x2",
         "y": [
          6.16991580534176,
          6.109850165943131,
          6.227349725350631,
          6.479413490426959,
          6.627910975541123,
          6.988210362246801,
          6.82466773001093,
          6.309641088226145,
          7.577761235824359,
          6.658984109629795,
          6.492255168256314,
          7.347183949617904,
          7.52803555665941,
          6.949487705554305,
          5.83988035742345,
          8.151285736962704,
          7.004727405132452
         ],
         "yaxis": "y2"
        },
        {
         "hovertemplate": "Method=VG-gam<br>variable=PCT_Others<br>Sample=%{x}<br>value=%{y}<extra></extra>",
         "legendgroup": "VG-gam",
         "marker": {
          "color": "#EF553B",
          "line": {
           "width": 2
          },
          "size": 5,
          "symbol": "circle"
         },
         "mode": "lines+markers",
         "name": "VG-gam",
         "orientation": "v",
         "showlegend": false,
         "type": "scatter",
         "x": [
          "SZ43",
          "SZ45",
          "SZ4",
          "SZ15",
          "BR2",
          "ATP016",
          "NG10",
          "PB675",
          "BOT2016",
          "JP14",
          "NE1",
          "Stutgart",
          "Loschbour",
          "SF12",
          "KK1",
          "Sunghir3",
          "UstIshim"
         ],
         "xaxis": "x",
         "y": [
          0.1623006214361342,
          0.16010720350117333,
          0.15752269282132875,
          0.15923526892273707,
          0.17347192846608678,
          0.1684472444791398,
          0.1808972172897562,
          0.1832575307464479,
          0.18718963739587477,
          0.19306829078805388,
          0.18154219541522934,
          0.2064273287362762,
          0.24134102415756192,
          0.22503823979795595,
          0.1712099462988419,
          0.18642639750353876,
          0.2510946717622394
         ],
         "yaxis": "y"
        },
        {
         "hovertemplate": "Method=VG-bam<br>variable=PCT_SNV<br>Sample=%{x}<br>value=%{y}<extra></extra>",
         "legendgroup": "VG-bam",
         "marker": {
          "color": "#00cc96",
          "line": {
           "width": 2
          },
          "size": 5,
          "symbol": "circle"
         },
         "mode": "lines+markers",
         "name": "VG-bam",
         "orientation": "v",
         "showlegend": true,
         "type": "scatter",
         "x": [
          "SZ43",
          "SZ45",
          "SZ4",
          "SZ15",
          "BR2",
          "ATP016",
          "NG10",
          "PB675",
          "BOT2016",
          "JP14",
          "NE1",
          "Stutgart",
          "Loschbour",
          "SF12",
          "KK1",
          "Sunghir3",
          "UstIshim"
         ],
         "xaxis": "x6",
         "y": [
          86.09479434034881,
          86.56922492554472,
          87.28847832167139,
          86.5117547303084,
          84.85519630400952,
          88.38901799909846,
          82.261523652816,
          82.76142222502246,
          83.79920404242135,
          81.91251569625156,
          85.29320387662163,
          81.56887105599078,
          79.49845579217451,
          83.29541763378819,
          89.61946364080939,
          84.21220968388907,
          79.81611731698129
         ],
         "yaxis": "y6"
        },
        {
         "hovertemplate": "Method=VG-bam<br>variable=PCT_INDEL<br>Sample=%{x}<br>value=%{y}<extra></extra>",
         "legendgroup": "VG-bam",
         "marker": {
          "color": "#00cc96",
          "line": {
           "width": 2
          },
          "size": 5,
          "symbol": "circle"
         },
         "mode": "lines+markers",
         "name": "VG-bam",
         "orientation": "v",
         "showlegend": false,
         "type": "scatter",
         "x": [
          "SZ43",
          "SZ45",
          "SZ4",
          "SZ15",
          "BR2",
          "ATP016",
          "NG10",
          "PB675",
          "BOT2016",
          "JP14",
          "NE1",
          "Stutgart",
          "Loschbour",
          "SF12",
          "KK1",
          "Sunghir3",
          "UstIshim"
         ],
         "xaxis": "x5",
         "y": [
          11.236739272754567,
          10.741345833865557,
          9.974615811191772,
          10.71064484646056,
          12.798028044989394,
          8.779470406098278,
          14.551649830015315,
          14.3378860582958,
          14.074752252352654,
          15.314895591998416,
          12.282721753223193,
          16.0848617936835,
          17.968472081933864,
          13.756992545776756,
          6.827580904316479,
          14.095372565758636,
          17.868489742818603
         ],
         "yaxis": "y5"
        },
        {
         "hovertemplate": "Method=VG-bam<br>variable=PCT_Substitution<br>Sample=%{x}<br>value=%{y}<extra></extra>",
         "legendgroup": "VG-bam",
         "marker": {
          "color": "#00cc96",
          "line": {
           "width": 2
          },
          "size": 5,
          "symbol": "circle"
         },
         "mode": "lines+markers",
         "name": "VG-bam",
         "orientation": "v",
         "showlegend": false,
         "type": "scatter",
         "x": [
          "SZ43",
          "SZ45",
          "SZ4",
          "SZ15",
          "BR2",
          "ATP016",
          "NG10",
          "PB675",
          "BOT2016",
          "JP14",
          "NE1",
          "Stutgart",
          "Loschbour",
          "SF12",
          "KK1",
          "Sunghir3",
          "UstIshim"
         ],
         "xaxis": "x4",
         "y": [
          2.668466386896623,
          2.689429240589726,
          2.736905867136841,
          2.7776004232310414,
          2.3467756510010784,
          2.8315115948032648,
          3.186820846002954,
          2.9006917166817434,
          2.1260437052259933,
          2.772588711750029,
          2.4240743701551817,
          2.3462671503257098,
          2.533072125891619,
          2.9475898204350597,
          3.552903974528009,
          1.692417750352287,
          2.315386763463541
         ],
         "yaxis": "y4"
        },
        {
         "hovertemplate": "Method=VG-bam<br>variable=PCT_Insertion<br>Sample=%{x}<br>value=%{y}<extra></extra>",
         "legendgroup": "VG-bam",
         "marker": {
          "color": "#00cc96",
          "line": {
           "width": 2
          },
          "size": 5,
          "symbol": "circle"
         },
         "mode": "lines+markers",
         "name": "VG-bam",
         "orientation": "v",
         "showlegend": false,
         "type": "scatter",
         "x": [
          "SZ43",
          "SZ45",
          "SZ4",
          "SZ15",
          "BR2",
          "ATP016",
          "NG10",
          "PB675",
          "BOT2016",
          "JP14",
          "NE1",
          "Stutgart",
          "Loschbour",
          "SF12",
          "KK1",
          "Sunghir3",
          "UstIshim"
         ],
         "xaxis": "x3",
         "y": [
          0,
          0,
          0,
          0,
          0,
          0,
          0,
          0,
          0,
          0,
          0,
          0,
          0,
          0,
          0,
          0,
          0
         ],
         "yaxis": "y3"
        },
        {
         "hovertemplate": "Method=VG-bam<br>variable=PCT_Deletion<br>Sample=%{x}<br>value=%{y}<extra></extra>",
         "legendgroup": "VG-bam",
         "marker": {
          "color": "#00cc96",
          "line": {
           "width": 2
          },
          "size": 5,
          "symbol": "circle"
         },
         "mode": "lines+markers",
         "name": "VG-bam",
         "orientation": "v",
         "showlegend": false,
         "type": "scatter",
         "x": [
          "SZ43",
          "SZ45",
          "SZ4",
          "SZ15",
          "BR2",
          "ATP016",
          "NG10",
          "PB675",
          "BOT2016",
          "JP14",
          "NE1",
          "Stutgart",
          "Loschbour",
          "SF12",
          "KK1",
          "Sunghir3",
          "UstIshim"
         ],
         "xaxis": "x2",
         "y": [
          0,
          0,
          0,
          0,
          0,
          0,
          5.671165734771261e-06,
          0,
          0,
          0,
          0,
          0,
          0,
          0,
          4.5423834812772494e-05,
          0,
          6.1767365694120964e-06
         ],
         "yaxis": "y2"
        },
        {
         "hovertemplate": "Method=VG-bam<br>variable=PCT_Others<br>Sample=%{x}<br>value=%{y}<extra></extra>",
         "legendgroup": "VG-bam",
         "marker": {
          "color": "#00cc96",
          "line": {
           "width": 2
          },
          "size": 5,
          "symbol": "circle"
         },
         "mode": "lines+markers",
         "name": "VG-bam",
         "orientation": "v",
         "showlegend": false,
         "type": "scatter",
         "x": [
          "SZ43",
          "SZ45",
          "SZ4",
          "SZ15",
          "BR2",
          "ATP016",
          "NG10",
          "PB675",
          "BOT2016",
          "JP14",
          "NE1",
          "Stutgart",
          "Loschbour",
          "SF12",
          "KK1",
          "Sunghir3",
          "UstIshim"
         ],
         "xaxis": "x",
         "y": [
          0,
          0,
          0,
          0,
          0,
          0,
          0,
          0,
          0,
          0,
          0,
          0,
          0,
          0,
          6.056511308369666e-06,
          0,
          0
         ],
         "yaxis": "y"
        }
       ],
       "layout": {
        "annotations": [
         {
          "font": {},
          "showarrow": false,
          "text": "Others",
          "textangle": 90,
          "x": 0.98,
          "xanchor": "left",
          "xref": "paper",
          "y": 0.07083333333333333,
          "yanchor": "middle",
          "yref": "paper"
         },
         {
          "font": {},
          "showarrow": false,
          "text": "Deletion",
          "textangle": 90,
          "x": 0.98,
          "xanchor": "left",
          "xref": "paper",
          "y": 0.2425,
          "yanchor": "middle",
          "yref": "paper"
         },
         {
          "font": {},
          "showarrow": false,
          "text": "Insertion",
          "textangle": 90,
          "x": 0.98,
          "xanchor": "left",
          "xref": "paper",
          "y": 0.4141666666666667,
          "yanchor": "middle",
          "yref": "paper"
         },
         {
          "font": {},
          "showarrow": false,
          "text": "Substitution",
          "textangle": 90,
          "x": 0.98,
          "xanchor": "left",
          "xref": "paper",
          "y": 0.5858333333333334,
          "yanchor": "middle",
          "yref": "paper"
         },
         {
          "font": {},
          "showarrow": false,
          "text": "INDEL",
          "textangle": 90,
          "x": 0.98,
          "xanchor": "left",
          "xref": "paper",
          "y": 0.7575000000000001,
          "yanchor": "middle",
          "yref": "paper"
         },
         {
          "font": {},
          "showarrow": false,
          "text": "SNV",
          "textangle": 90,
          "x": 0.98,
          "xanchor": "left",
          "xref": "paper",
          "y": 0.9291666666666667,
          "yanchor": "middle",
          "yref": "paper"
         }
        ],
        "height": 1000,
        "legend": {
         "title": {
          "text": "Method"
         },
         "tracegroupgap": 0
        },
        "template": {
         "data": {
          "bar": [
           {
            "error_x": {
             "color": "#2a3f5f"
            },
            "error_y": {
             "color": "#2a3f5f"
            },
            "marker": {
             "line": {
              "color": "#E5ECF6",
              "width": 0.5
             },
             "pattern": {
              "fillmode": "overlay",
              "size": 10,
              "solidity": 0.2
             }
            },
            "type": "bar"
           }
          ],
          "barpolar": [
           {
            "marker": {
             "line": {
              "color": "#E5ECF6",
              "width": 0.5
             },
             "pattern": {
              "fillmode": "overlay",
              "size": 10,
              "solidity": 0.2
             }
            },
            "type": "barpolar"
           }
          ],
          "carpet": [
           {
            "aaxis": {
             "endlinecolor": "#2a3f5f",
             "gridcolor": "white",
             "linecolor": "white",
             "minorgridcolor": "white",
             "startlinecolor": "#2a3f5f"
            },
            "baxis": {
             "endlinecolor": "#2a3f5f",
             "gridcolor": "white",
             "linecolor": "white",
             "minorgridcolor": "white",
             "startlinecolor": "#2a3f5f"
            },
            "type": "carpet"
           }
          ],
          "choropleth": [
           {
            "colorbar": {
             "outlinewidth": 0,
             "ticks": ""
            },
            "type": "choropleth"
           }
          ],
          "contour": [
           {
            "colorbar": {
             "outlinewidth": 0,
             "ticks": ""
            },
            "colorscale": [
             [
              0,
              "#0d0887"
             ],
             [
              0.1111111111111111,
              "#46039f"
             ],
             [
              0.2222222222222222,
              "#7201a8"
             ],
             [
              0.3333333333333333,
              "#9c179e"
             ],
             [
              0.4444444444444444,
              "#bd3786"
             ],
             [
              0.5555555555555556,
              "#d8576b"
             ],
             [
              0.6666666666666666,
              "#ed7953"
             ],
             [
              0.7777777777777778,
              "#fb9f3a"
             ],
             [
              0.8888888888888888,
              "#fdca26"
             ],
             [
              1,
              "#f0f921"
             ]
            ],
            "type": "contour"
           }
          ],
          "contourcarpet": [
           {
            "colorbar": {
             "outlinewidth": 0,
             "ticks": ""
            },
            "type": "contourcarpet"
           }
          ],
          "heatmap": [
           {
            "colorbar": {
             "outlinewidth": 0,
             "ticks": ""
            },
            "colorscale": [
             [
              0,
              "#0d0887"
             ],
             [
              0.1111111111111111,
              "#46039f"
             ],
             [
              0.2222222222222222,
              "#7201a8"
             ],
             [
              0.3333333333333333,
              "#9c179e"
             ],
             [
              0.4444444444444444,
              "#bd3786"
             ],
             [
              0.5555555555555556,
              "#d8576b"
             ],
             [
              0.6666666666666666,
              "#ed7953"
             ],
             [
              0.7777777777777778,
              "#fb9f3a"
             ],
             [
              0.8888888888888888,
              "#fdca26"
             ],
             [
              1,
              "#f0f921"
             ]
            ],
            "type": "heatmap"
           }
          ],
          "heatmapgl": [
           {
            "colorbar": {
             "outlinewidth": 0,
             "ticks": ""
            },
            "colorscale": [
             [
              0,
              "#0d0887"
             ],
             [
              0.1111111111111111,
              "#46039f"
             ],
             [
              0.2222222222222222,
              "#7201a8"
             ],
             [
              0.3333333333333333,
              "#9c179e"
             ],
             [
              0.4444444444444444,
              "#bd3786"
             ],
             [
              0.5555555555555556,
              "#d8576b"
             ],
             [
              0.6666666666666666,
              "#ed7953"
             ],
             [
              0.7777777777777778,
              "#fb9f3a"
             ],
             [
              0.8888888888888888,
              "#fdca26"
             ],
             [
              1,
              "#f0f921"
             ]
            ],
            "type": "heatmapgl"
           }
          ],
          "histogram": [
           {
            "marker": {
             "pattern": {
              "fillmode": "overlay",
              "size": 10,
              "solidity": 0.2
             }
            },
            "type": "histogram"
           }
          ],
          "histogram2d": [
           {
            "colorbar": {
             "outlinewidth": 0,
             "ticks": ""
            },
            "colorscale": [
             [
              0,
              "#0d0887"
             ],
             [
              0.1111111111111111,
              "#46039f"
             ],
             [
              0.2222222222222222,
              "#7201a8"
             ],
             [
              0.3333333333333333,
              "#9c179e"
             ],
             [
              0.4444444444444444,
              "#bd3786"
             ],
             [
              0.5555555555555556,
              "#d8576b"
             ],
             [
              0.6666666666666666,
              "#ed7953"
             ],
             [
              0.7777777777777778,
              "#fb9f3a"
             ],
             [
              0.8888888888888888,
              "#fdca26"
             ],
             [
              1,
              "#f0f921"
             ]
            ],
            "type": "histogram2d"
           }
          ],
          "histogram2dcontour": [
           {
            "colorbar": {
             "outlinewidth": 0,
             "ticks": ""
            },
            "colorscale": [
             [
              0,
              "#0d0887"
             ],
             [
              0.1111111111111111,
              "#46039f"
             ],
             [
              0.2222222222222222,
              "#7201a8"
             ],
             [
              0.3333333333333333,
              "#9c179e"
             ],
             [
              0.4444444444444444,
              "#bd3786"
             ],
             [
              0.5555555555555556,
              "#d8576b"
             ],
             [
              0.6666666666666666,
              "#ed7953"
             ],
             [
              0.7777777777777778,
              "#fb9f3a"
             ],
             [
              0.8888888888888888,
              "#fdca26"
             ],
             [
              1,
              "#f0f921"
             ]
            ],
            "type": "histogram2dcontour"
           }
          ],
          "mesh3d": [
           {
            "colorbar": {
             "outlinewidth": 0,
             "ticks": ""
            },
            "type": "mesh3d"
           }
          ],
          "parcoords": [
           {
            "line": {
             "colorbar": {
              "outlinewidth": 0,
              "ticks": ""
             }
            },
            "type": "parcoords"
           }
          ],
          "pie": [
           {
            "automargin": true,
            "type": "pie"
           }
          ],
          "scatter": [
           {
            "marker": {
             "colorbar": {
              "outlinewidth": 0,
              "ticks": ""
             }
            },
            "type": "scatter"
           }
          ],
          "scatter3d": [
           {
            "line": {
             "colorbar": {
              "outlinewidth": 0,
              "ticks": ""
             }
            },
            "marker": {
             "colorbar": {
              "outlinewidth": 0,
              "ticks": ""
             }
            },
            "type": "scatter3d"
           }
          ],
          "scattercarpet": [
           {
            "marker": {
             "colorbar": {
              "outlinewidth": 0,
              "ticks": ""
             }
            },
            "type": "scattercarpet"
           }
          ],
          "scattergeo": [
           {
            "marker": {
             "colorbar": {
              "outlinewidth": 0,
              "ticks": ""
             }
            },
            "type": "scattergeo"
           }
          ],
          "scattergl": [
           {
            "marker": {
             "colorbar": {
              "outlinewidth": 0,
              "ticks": ""
             }
            },
            "type": "scattergl"
           }
          ],
          "scattermapbox": [
           {
            "marker": {
             "colorbar": {
              "outlinewidth": 0,
              "ticks": ""
             }
            },
            "type": "scattermapbox"
           }
          ],
          "scatterpolar": [
           {
            "marker": {
             "colorbar": {
              "outlinewidth": 0,
              "ticks": ""
             }
            },
            "type": "scatterpolar"
           }
          ],
          "scatterpolargl": [
           {
            "marker": {
             "colorbar": {
              "outlinewidth": 0,
              "ticks": ""
             }
            },
            "type": "scatterpolargl"
           }
          ],
          "scatterternary": [
           {
            "marker": {
             "colorbar": {
              "outlinewidth": 0,
              "ticks": ""
             }
            },
            "type": "scatterternary"
           }
          ],
          "surface": [
           {
            "colorbar": {
             "outlinewidth": 0,
             "ticks": ""
            },
            "colorscale": [
             [
              0,
              "#0d0887"
             ],
             [
              0.1111111111111111,
              "#46039f"
             ],
             [
              0.2222222222222222,
              "#7201a8"
             ],
             [
              0.3333333333333333,
              "#9c179e"
             ],
             [
              0.4444444444444444,
              "#bd3786"
             ],
             [
              0.5555555555555556,
              "#d8576b"
             ],
             [
              0.6666666666666666,
              "#ed7953"
             ],
             [
              0.7777777777777778,
              "#fb9f3a"
             ],
             [
              0.8888888888888888,
              "#fdca26"
             ],
             [
              1,
              "#f0f921"
             ]
            ],
            "type": "surface"
           }
          ],
          "table": [
           {
            "cells": {
             "fill": {
              "color": "#EBF0F8"
             },
             "line": {
              "color": "white"
             }
            },
            "header": {
             "fill": {
              "color": "#C8D4E3"
             },
             "line": {
              "color": "white"
             }
            },
            "type": "table"
           }
          ]
         },
         "layout": {
          "annotationdefaults": {
           "arrowcolor": "#2a3f5f",
           "arrowhead": 0,
           "arrowwidth": 1
          },
          "autotypenumbers": "strict",
          "coloraxis": {
           "colorbar": {
            "outlinewidth": 0,
            "ticks": ""
           }
          },
          "colorscale": {
           "diverging": [
            [
             0,
             "#8e0152"
            ],
            [
             0.1,
             "#c51b7d"
            ],
            [
             0.2,
             "#de77ae"
            ],
            [
             0.3,
             "#f1b6da"
            ],
            [
             0.4,
             "#fde0ef"
            ],
            [
             0.5,
             "#f7f7f7"
            ],
            [
             0.6,
             "#e6f5d0"
            ],
            [
             0.7,
             "#b8e186"
            ],
            [
             0.8,
             "#7fbc41"
            ],
            [
             0.9,
             "#4d9221"
            ],
            [
             1,
             "#276419"
            ]
           ],
           "sequential": [
            [
             0,
             "#0d0887"
            ],
            [
             0.1111111111111111,
             "#46039f"
            ],
            [
             0.2222222222222222,
             "#7201a8"
            ],
            [
             0.3333333333333333,
             "#9c179e"
            ],
            [
             0.4444444444444444,
             "#bd3786"
            ],
            [
             0.5555555555555556,
             "#d8576b"
            ],
            [
             0.6666666666666666,
             "#ed7953"
            ],
            [
             0.7777777777777778,
             "#fb9f3a"
            ],
            [
             0.8888888888888888,
             "#fdca26"
            ],
            [
             1,
             "#f0f921"
            ]
           ],
           "sequentialminus": [
            [
             0,
             "#0d0887"
            ],
            [
             0.1111111111111111,
             "#46039f"
            ],
            [
             0.2222222222222222,
             "#7201a8"
            ],
            [
             0.3333333333333333,
             "#9c179e"
            ],
            [
             0.4444444444444444,
             "#bd3786"
            ],
            [
             0.5555555555555556,
             "#d8576b"
            ],
            [
             0.6666666666666666,
             "#ed7953"
            ],
            [
             0.7777777777777778,
             "#fb9f3a"
            ],
            [
             0.8888888888888888,
             "#fdca26"
            ],
            [
             1,
             "#f0f921"
            ]
           ]
          },
          "colorway": [
           "#636efa",
           "#EF553B",
           "#00cc96",
           "#ab63fa",
           "#FFA15A",
           "#19d3f3",
           "#FF6692",
           "#B6E880",
           "#FF97FF",
           "#FECB52"
          ],
          "font": {
           "color": "#2a3f5f"
          },
          "geo": {
           "bgcolor": "white",
           "lakecolor": "white",
           "landcolor": "#E5ECF6",
           "showlakes": true,
           "showland": true,
           "subunitcolor": "white"
          },
          "hoverlabel": {
           "align": "left"
          },
          "hovermode": "closest",
          "mapbox": {
           "style": "light"
          },
          "paper_bgcolor": "white",
          "plot_bgcolor": "#E5ECF6",
          "polar": {
           "angularaxis": {
            "gridcolor": "white",
            "linecolor": "white",
            "ticks": ""
           },
           "bgcolor": "#E5ECF6",
           "radialaxis": {
            "gridcolor": "white",
            "linecolor": "white",
            "ticks": ""
           }
          },
          "scene": {
           "xaxis": {
            "backgroundcolor": "#E5ECF6",
            "gridcolor": "white",
            "gridwidth": 2,
            "linecolor": "white",
            "showbackground": true,
            "ticks": "",
            "zerolinecolor": "white"
           },
           "yaxis": {
            "backgroundcolor": "#E5ECF6",
            "gridcolor": "white",
            "gridwidth": 2,
            "linecolor": "white",
            "showbackground": true,
            "ticks": "",
            "zerolinecolor": "white"
           },
           "zaxis": {
            "backgroundcolor": "#E5ECF6",
            "gridcolor": "white",
            "gridwidth": 2,
            "linecolor": "white",
            "showbackground": true,
            "ticks": "",
            "zerolinecolor": "white"
           }
          },
          "shapedefaults": {
           "line": {
            "color": "#2a3f5f"
           }
          },
          "ternary": {
           "aaxis": {
            "gridcolor": "white",
            "linecolor": "white",
            "ticks": ""
           },
           "baxis": {
            "gridcolor": "white",
            "linecolor": "white",
            "ticks": ""
           },
           "bgcolor": "#E5ECF6",
           "caxis": {
            "gridcolor": "white",
            "linecolor": "white",
            "ticks": ""
           }
          },
          "title": {
           "x": 0.05
          },
          "xaxis": {
           "automargin": true,
           "gridcolor": "white",
           "linecolor": "white",
           "ticks": "",
           "title": {
            "standoff": 15
           },
           "zerolinecolor": "white",
           "zerolinewidth": 2
          },
          "yaxis": {
           "automargin": true,
           "gridcolor": "white",
           "linecolor": "white",
           "ticks": "",
           "title": {
            "standoff": 15
           },
           "zerolinecolor": "white",
           "zerolinewidth": 2
          }
         }
        },
        "title": {
         "text": "TYPE of variant through AGE"
        },
        "width": 1000,
        "xaxis": {
         "anchor": "y",
         "domain": [
          0,
          0.98
         ],
         "title": {
          "text": "Sample"
         }
        },
        "xaxis2": {
         "anchor": "y2",
         "domain": [
          0,
          0.98
         ],
         "matches": "x",
         "showticklabels": false
        },
        "xaxis3": {
         "anchor": "y3",
         "domain": [
          0,
          0.98
         ],
         "matches": "x",
         "showticklabels": false
        },
        "xaxis4": {
         "anchor": "y4",
         "domain": [
          0,
          0.98
         ],
         "matches": "x",
         "showticklabels": false
        },
        "xaxis5": {
         "anchor": "y5",
         "domain": [
          0,
          0.98
         ],
         "matches": "x",
         "showticklabels": false
        },
        "xaxis6": {
         "anchor": "y6",
         "domain": [
          0,
          0.98
         ],
         "matches": "x",
         "showticklabels": false
        },
        "yaxis": {
         "anchor": "x",
         "domain": [
          0,
          0.14166666666666666
         ],
         "title": {
          "text": "value"
         }
        },
        "yaxis2": {
         "anchor": "x2",
         "domain": [
          0.17166666666666666,
          0.31333333333333335
         ],
         "title": {
          "text": "value"
         }
        },
        "yaxis3": {
         "anchor": "x3",
         "domain": [
          0.3433333333333333,
          0.485
         ],
         "title": {
          "text": "value"
         }
        },
        "yaxis4": {
         "anchor": "x4",
         "domain": [
          0.515,
          0.6566666666666667
         ],
         "title": {
          "text": "value"
         }
        },
        "yaxis5": {
         "anchor": "x5",
         "domain": [
          0.6866666666666666,
          0.8283333333333334
         ],
         "title": {
          "text": "value"
         }
        },
        "yaxis6": {
         "anchor": "x6",
         "domain": [
          0.8583333333333333,
          1
         ],
         "title": {
          "text": "value"
         }
        }
       }
      },
      "text/html": [
       "<div>                            <div id=\"6fa8e376-2c6b-4b05-9e26-3cabfd327285\" class=\"plotly-graph-div\" style=\"height:1000px; width:1000px;\"></div>            <script type=\"text/javascript\">                require([\"plotly\"], function(Plotly) {                    window.PLOTLYENV=window.PLOTLYENV || {};                                    if (document.getElementById(\"6fa8e376-2c6b-4b05-9e26-3cabfd327285\")) {                    Plotly.newPlot(                        \"6fa8e376-2c6b-4b05-9e26-3cabfd327285\",                        [{\"hovertemplate\":\"Method=BWA1-bam<br>variable=PCT_SNV<br>Sample=%{x}<br>value=%{y}<extra></extra>\",\"legendgroup\":\"BWA1-bam\",\"marker\":{\"color\":\"#636efa\",\"line\":{\"width\":2},\"size\":5,\"symbol\":\"circle\"},\"mode\":\"lines+markers\",\"name\":\"BWA1-bam\",\"orientation\":\"v\",\"showlegend\":true,\"type\":\"scatter\",\"x\":[\"SZ43\",\"SZ45\",\"SZ4\",\"SZ15\",\"BR2\",\"ATP016\",\"NG10\",\"PB675\",\"BOT2016\",\"JP14\",\"NE1\",\"Stutgart\",\"Loschbour\",\"SF12\",\"KK1\",\"Sunghir3\",\"UstIshim\"],\"xaxis\":\"x6\",\"y\":[89.36754821885027,89.75018196139398,89.52631000566019,89.40797508827134,88.42546764609197,90.59315254816093,84.98611641486066,86.50573595923794,87.72361329392257,85.98822004004664,88.8341891050223,85.20846682493668,83.93461550876393,86.9057281567728,90.2171033699731,87.39063145885599,84.88345650444737],\"yaxis\":\"y6\"},{\"hovertemplate\":\"Method=BWA1-bam<br>variable=PCT_INDEL<br>Sample=%{x}<br>value=%{y}<extra></extra>\",\"legendgroup\":\"BWA1-bam\",\"marker\":{\"color\":\"#636efa\",\"line\":{\"width\":2},\"size\":5,\"symbol\":\"circle\"},\"mode\":\"lines+markers\",\"name\":\"BWA1-bam\",\"orientation\":\"v\",\"showlegend\":false,\"type\":\"scatter\",\"x\":[\"SZ43\",\"SZ45\",\"SZ4\",\"SZ15\",\"BR2\",\"ATP016\",\"NG10\",\"PB675\",\"BOT2016\",\"JP14\",\"NE1\",\"Stutgart\",\"Loschbour\",\"SF12\",\"KK1\",\"Sunghir3\",\"UstIshim\"],\"xaxis\":\"x5\",\"y\":[7.6927294734407905,7.2848257301696755,6.854608847720807,7.646499490983829,8.669428685900241,6.200558023038566,11.038565764923893,10.195430374215817,10.169741186648404,10.18960762937371,8.262583645693002,11.773305274069012,12.880891312737287,9.774334528507875,3.365905666412035,10.360750198975847,11.98445227917789],\"yaxis\":\"y5\"},{\"hovertemplate\":\"Method=BWA1-bam<br>variable=PCT_Substitution<br>Sample=%{x}<br>value=%{y}<extra></extra>\",\"legendgroup\":\"BWA1-bam\",\"marker\":{\"color\":\"#636efa\",\"line\":{\"width\":2},\"size\":5,\"symbol\":\"circle\"},\"mode\":\"lines+markers\",\"name\":\"BWA1-bam\",\"orientation\":\"v\",\"showlegend\":false,\"type\":\"scatter\",\"x\":[\"SZ43\",\"SZ45\",\"SZ4\",\"SZ15\",\"BR2\",\"ATP016\",\"NG10\",\"PB675\",\"BOT2016\",\"JP14\",\"NE1\",\"Stutgart\",\"Loschbour\",\"SF12\",\"KK1\",\"Sunghir3\",\"UstIshim\"],\"xaxis\":\"x4\",\"y\":[2.9397223077089305,2.964992308436345,3.619081146619,2.945525420744829,2.9051036680077917,3.2062894288005017,3.97531782021545,3.298833666546246,2.1066455194290246,3.8221723305796425,2.9032272492846967,3.0182279009943134,3.1844931784987813,3.319937314719324,6.4169856709150634,2.2486183421681614,3.13209121637474],\"yaxis\":\"y4\"},{\"hovertemplate\":\"Method=BWA1-bam<br>variable=PCT_Insertion<br>Sample=%{x}<br>value=%{y}<extra></extra>\",\"legendgroup\":\"BWA1-bam\",\"marker\":{\"color\":\"#636efa\",\"line\":{\"width\":2},\"size\":5,\"symbol\":\"circle\"},\"mode\":\"lines+markers\",\"name\":\"BWA1-bam\",\"orientation\":\"v\",\"showlegend\":false,\"type\":\"scatter\",\"x\":[\"SZ43\",\"SZ45\",\"SZ4\",\"SZ15\",\"BR2\",\"ATP016\",\"NG10\",\"PB675\",\"BOT2016\",\"JP14\",\"NE1\",\"Stutgart\",\"Loschbour\",\"SF12\",\"KK1\",\"Sunghir3\",\"UstIshim\"],\"xaxis\":\"x3\",\"y\":[0.0,0.0,0.0,0.0,0.0,0.0,0.0,0.0,0.0,0.0,0.0,0.0,0.0,0.0,0.0,0.0,0.0],\"yaxis\":\"y3\"},{\"hovertemplate\":\"Method=BWA1-bam<br>variable=PCT_Deletion<br>Sample=%{x}<br>value=%{y}<extra></extra>\",\"legendgroup\":\"BWA1-bam\",\"marker\":{\"color\":\"#636efa\",\"line\":{\"width\":2},\"size\":5,\"symbol\":\"circle\"},\"mode\":\"lines+markers\",\"name\":\"BWA1-bam\",\"orientation\":\"v\",\"showlegend\":false,\"type\":\"scatter\",\"x\":[\"SZ43\",\"SZ45\",\"SZ4\",\"SZ15\",\"BR2\",\"ATP016\",\"NG10\",\"PB675\",\"BOT2016\",\"JP14\",\"NE1\",\"Stutgart\",\"Loschbour\",\"SF12\",\"KK1\",\"Sunghir3\",\"UstIshim\"],\"xaxis\":\"x2\",\"y\":[0.0,0.0,0.0,0.0,0.0,0.0,0.0,0.0,0.0,0.0,0.0,0.0,0.0,0.0,5.292699795050786e-06,0.0,0.0],\"yaxis\":\"y2\"},{\"hovertemplate\":\"Method=BWA1-bam<br>variable=PCT_Others<br>Sample=%{x}<br>value=%{y}<extra></extra>\",\"legendgroup\":\"BWA1-bam\",\"marker\":{\"color\":\"#636efa\",\"line\":{\"width\":2},\"size\":5,\"symbol\":\"circle\"},\"mode\":\"lines+markers\",\"name\":\"BWA1-bam\",\"orientation\":\"v\",\"showlegend\":false,\"type\":\"scatter\",\"x\":[\"SZ43\",\"SZ45\",\"SZ4\",\"SZ15\",\"BR2\",\"ATP016\",\"NG10\",\"PB675\",\"BOT2016\",\"JP14\",\"NE1\",\"Stutgart\",\"Loschbour\",\"SF12\",\"KK1\",\"Sunghir3\",\"UstIshim\"],\"xaxis\":\"x\",\"y\":[0.0,0.0,0.0,0.0,0.0,0.0,0.0,0.0,0.0,0.0,0.0,0.0,0.0,0.0,0.0,0.0,0.0],\"yaxis\":\"y\"},{\"hovertemplate\":\"Method=VG-gam<br>variable=PCT_SNV<br>Sample=%{x}<br>value=%{y}<extra></extra>\",\"legendgroup\":\"VG-gam\",\"marker\":{\"color\":\"#EF553B\",\"line\":{\"width\":2},\"size\":5,\"symbol\":\"circle\"},\"mode\":\"lines+markers\",\"name\":\"VG-gam\",\"orientation\":\"v\",\"showlegend\":true,\"type\":\"scatter\",\"x\":[\"SZ43\",\"SZ45\",\"SZ4\",\"SZ15\",\"BR2\",\"ATP016\",\"NG10\",\"PB675\",\"BOT2016\",\"JP14\",\"NE1\",\"Stutgart\",\"Loschbour\",\"SF12\",\"KK1\",\"Sunghir3\",\"UstIshim\"],\"xaxis\":\"x6\",\"y\":[87.85695459043487,87.91017842270165,87.70088142500404,87.55349637979009,86.93362694908458,87.17013549494996,86.58804844853563,87.33379011565138,85.08887274943737,86.63950810680109,87.12505866015566,85.73796483418546,85.3101246166094,86.45934268447985,88.20390694197387,85.16246055775947,86.249690973605],\"yaxis\":\"y6\"},{\"hovertemplate\":\"Method=VG-gam<br>variable=PCT_INDEL<br>Sample=%{x}<br>value=%{y}<extra></extra>\",\"legendgroup\":\"VG-gam\",\"marker\":{\"color\":\"#EF553B\",\"line\":{\"width\":2},\"size\":5,\"symbol\":\"circle\"},\"mode\":\"lines+markers\",\"name\":\"VG-gam\",\"orientation\":\"v\",\"showlegend\":false,\"type\":\"scatter\",\"x\":[\"SZ43\",\"SZ45\",\"SZ4\",\"SZ15\",\"BR2\",\"ATP016\",\"NG10\",\"PB675\",\"BOT2016\",\"JP14\",\"NE1\",\"Stutgart\",\"Loschbour\",\"SF12\",\"KK1\",\"Sunghir3\",\"UstIshim\"],\"xaxis\":\"x5\",\"y\":[0.17112456189619965,0.17389409180483512,0.17119983946460235,0.17303298031981562,0.15837481685899926,0.14838856207011225,0.17004618035703137,0.1640672584733151,0.16353171274252573,0.16908866251083174,0.15722484793201844,0.16712994690406274,0.17360610619168462,0.16364470725435146,0.16096203933266873,0.16378531562460868,0.17153477830365518],\"yaxis\":\"y5\"},{\"hovertemplate\":\"Method=VG-gam<br>variable=PCT_Substitution<br>Sample=%{x}<br>value=%{y}<extra></extra>\",\"legendgroup\":\"VG-gam\",\"marker\":{\"color\":\"#EF553B\",\"line\":{\"width\":2},\"size\":5,\"symbol\":\"circle\"},\"mode\":\"lines+markers\",\"name\":\"VG-gam\",\"orientation\":\"v\",\"showlegend\":false,\"type\":\"scatter\",\"x\":[\"SZ43\",\"SZ45\",\"SZ4\",\"SZ15\",\"BR2\",\"ATP016\",\"NG10\",\"PB675\",\"BOT2016\",\"JP14\",\"NE1\",\"Stutgart\",\"Loschbour\",\"SF12\",\"KK1\",\"Sunghir3\",\"UstIshim\"],\"xaxis\":\"x4\",\"y\":[1.2269460245198107,1.220304987902963,1.27480515842606,1.1976660043430374,1.0841915054121858,1.248193905868285,1.0931962654150729,1.1268811695021528,0.9915065753608588,1.1100650923531012,1.118213621517219,1.0500707940235983,1.0827024265638994,1.0376674055161672,1.3455661267555314,1.120453198022202,1.0652229319600615],\"yaxis\":\"y4\"},{\"hovertemplate\":\"Method=VG-gam<br>variable=PCT_Insertion<br>Sample=%{x}<br>value=%{y}<extra></extra>\",\"legendgroup\":\"VG-gam\",\"marker\":{\"color\":\"#EF553B\",\"line\":{\"width\":2},\"size\":5,\"symbol\":\"circle\"},\"mode\":\"lines+markers\",\"name\":\"VG-gam\",\"orientation\":\"v\",\"showlegend\":false,\"type\":\"scatter\",\"x\":[\"SZ43\",\"SZ45\",\"SZ4\",\"SZ15\",\"BR2\",\"ATP016\",\"NG10\",\"PB675\",\"BOT2016\",\"JP14\",\"NE1\",\"Stutgart\",\"Loschbour\",\"SF12\",\"KK1\",\"Sunghir3\",\"UstIshim\"],\"xaxis\":\"x3\",\"y\":[4.412758396371229,4.425665128146255,4.468241158933332,4.437155876197363,5.022423824637016,4.276624430385697,5.143144158391586,4.8823628374005565,5.991138089239004,5.229285737917127,4.9257055067235544,5.491223146532692,5.664190269818051,5.1648192573973635,4.2784745882156345,5.215588794127472,5.25772923923659],\"yaxis\":\"y3\"},{\"hovertemplate\":\"Method=VG-gam<br>variable=PCT_Deletion<br>Sample=%{x}<br>value=%{y}<extra></extra>\",\"legendgroup\":\"VG-gam\",\"marker\":{\"color\":\"#EF553B\",\"line\":{\"width\":2},\"size\":5,\"symbol\":\"circle\"},\"mode\":\"lines+markers\",\"name\":\"VG-gam\",\"orientation\":\"v\",\"showlegend\":false,\"type\":\"scatter\",\"x\":[\"SZ43\",\"SZ45\",\"SZ4\",\"SZ15\",\"BR2\",\"ATP016\",\"NG10\",\"PB675\",\"BOT2016\",\"JP14\",\"NE1\",\"Stutgart\",\"Loschbour\",\"SF12\",\"KK1\",\"Sunghir3\",\"UstIshim\"],\"xaxis\":\"x2\",\"y\":[6.16991580534176,6.109850165943131,6.227349725350631,6.479413490426959,6.627910975541123,6.988210362246801,6.82466773001093,6.309641088226145,7.577761235824359,6.658984109629795,6.492255168256314,7.347183949617904,7.52803555665941,6.949487705554305,5.83988035742345,8.151285736962704,7.004727405132452],\"yaxis\":\"y2\"},{\"hovertemplate\":\"Method=VG-gam<br>variable=PCT_Others<br>Sample=%{x}<br>value=%{y}<extra></extra>\",\"legendgroup\":\"VG-gam\",\"marker\":{\"color\":\"#EF553B\",\"line\":{\"width\":2},\"size\":5,\"symbol\":\"circle\"},\"mode\":\"lines+markers\",\"name\":\"VG-gam\",\"orientation\":\"v\",\"showlegend\":false,\"type\":\"scatter\",\"x\":[\"SZ43\",\"SZ45\",\"SZ4\",\"SZ15\",\"BR2\",\"ATP016\",\"NG10\",\"PB675\",\"BOT2016\",\"JP14\",\"NE1\",\"Stutgart\",\"Loschbour\",\"SF12\",\"KK1\",\"Sunghir3\",\"UstIshim\"],\"xaxis\":\"x\",\"y\":[0.1623006214361342,0.16010720350117333,0.15752269282132875,0.15923526892273707,0.17347192846608678,0.1684472444791398,0.1808972172897562,0.1832575307464479,0.18718963739587477,0.19306829078805388,0.18154219541522934,0.2064273287362762,0.24134102415756192,0.22503823979795595,0.1712099462988419,0.18642639750353876,0.2510946717622394],\"yaxis\":\"y\"},{\"hovertemplate\":\"Method=VG-bam<br>variable=PCT_SNV<br>Sample=%{x}<br>value=%{y}<extra></extra>\",\"legendgroup\":\"VG-bam\",\"marker\":{\"color\":\"#00cc96\",\"line\":{\"width\":2},\"size\":5,\"symbol\":\"circle\"},\"mode\":\"lines+markers\",\"name\":\"VG-bam\",\"orientation\":\"v\",\"showlegend\":true,\"type\":\"scatter\",\"x\":[\"SZ43\",\"SZ45\",\"SZ4\",\"SZ15\",\"BR2\",\"ATP016\",\"NG10\",\"PB675\",\"BOT2016\",\"JP14\",\"NE1\",\"Stutgart\",\"Loschbour\",\"SF12\",\"KK1\",\"Sunghir3\",\"UstIshim\"],\"xaxis\":\"x6\",\"y\":[86.09479434034881,86.56922492554472,87.28847832167139,86.5117547303084,84.85519630400952,88.38901799909846,82.261523652816,82.76142222502246,83.79920404242135,81.91251569625156,85.29320387662163,81.56887105599078,79.49845579217451,83.29541763378819,89.61946364080939,84.21220968388907,79.81611731698129],\"yaxis\":\"y6\"},{\"hovertemplate\":\"Method=VG-bam<br>variable=PCT_INDEL<br>Sample=%{x}<br>value=%{y}<extra></extra>\",\"legendgroup\":\"VG-bam\",\"marker\":{\"color\":\"#00cc96\",\"line\":{\"width\":2},\"size\":5,\"symbol\":\"circle\"},\"mode\":\"lines+markers\",\"name\":\"VG-bam\",\"orientation\":\"v\",\"showlegend\":false,\"type\":\"scatter\",\"x\":[\"SZ43\",\"SZ45\",\"SZ4\",\"SZ15\",\"BR2\",\"ATP016\",\"NG10\",\"PB675\",\"BOT2016\",\"JP14\",\"NE1\",\"Stutgart\",\"Loschbour\",\"SF12\",\"KK1\",\"Sunghir3\",\"UstIshim\"],\"xaxis\":\"x5\",\"y\":[11.236739272754567,10.741345833865557,9.974615811191772,10.71064484646056,12.798028044989394,8.779470406098278,14.551649830015315,14.3378860582958,14.074752252352654,15.314895591998416,12.282721753223193,16.0848617936835,17.968472081933864,13.756992545776756,6.827580904316479,14.095372565758636,17.868489742818603],\"yaxis\":\"y5\"},{\"hovertemplate\":\"Method=VG-bam<br>variable=PCT_Substitution<br>Sample=%{x}<br>value=%{y}<extra></extra>\",\"legendgroup\":\"VG-bam\",\"marker\":{\"color\":\"#00cc96\",\"line\":{\"width\":2},\"size\":5,\"symbol\":\"circle\"},\"mode\":\"lines+markers\",\"name\":\"VG-bam\",\"orientation\":\"v\",\"showlegend\":false,\"type\":\"scatter\",\"x\":[\"SZ43\",\"SZ45\",\"SZ4\",\"SZ15\",\"BR2\",\"ATP016\",\"NG10\",\"PB675\",\"BOT2016\",\"JP14\",\"NE1\",\"Stutgart\",\"Loschbour\",\"SF12\",\"KK1\",\"Sunghir3\",\"UstIshim\"],\"xaxis\":\"x4\",\"y\":[2.668466386896623,2.689429240589726,2.736905867136841,2.7776004232310414,2.3467756510010784,2.8315115948032648,3.186820846002954,2.9006917166817434,2.1260437052259933,2.772588711750029,2.4240743701551817,2.3462671503257098,2.533072125891619,2.9475898204350597,3.552903974528009,1.692417750352287,2.315386763463541],\"yaxis\":\"y4\"},{\"hovertemplate\":\"Method=VG-bam<br>variable=PCT_Insertion<br>Sample=%{x}<br>value=%{y}<extra></extra>\",\"legendgroup\":\"VG-bam\",\"marker\":{\"color\":\"#00cc96\",\"line\":{\"width\":2},\"size\":5,\"symbol\":\"circle\"},\"mode\":\"lines+markers\",\"name\":\"VG-bam\",\"orientation\":\"v\",\"showlegend\":false,\"type\":\"scatter\",\"x\":[\"SZ43\",\"SZ45\",\"SZ4\",\"SZ15\",\"BR2\",\"ATP016\",\"NG10\",\"PB675\",\"BOT2016\",\"JP14\",\"NE1\",\"Stutgart\",\"Loschbour\",\"SF12\",\"KK1\",\"Sunghir3\",\"UstIshim\"],\"xaxis\":\"x3\",\"y\":[0.0,0.0,0.0,0.0,0.0,0.0,0.0,0.0,0.0,0.0,0.0,0.0,0.0,0.0,0.0,0.0,0.0],\"yaxis\":\"y3\"},{\"hovertemplate\":\"Method=VG-bam<br>variable=PCT_Deletion<br>Sample=%{x}<br>value=%{y}<extra></extra>\",\"legendgroup\":\"VG-bam\",\"marker\":{\"color\":\"#00cc96\",\"line\":{\"width\":2},\"size\":5,\"symbol\":\"circle\"},\"mode\":\"lines+markers\",\"name\":\"VG-bam\",\"orientation\":\"v\",\"showlegend\":false,\"type\":\"scatter\",\"x\":[\"SZ43\",\"SZ45\",\"SZ4\",\"SZ15\",\"BR2\",\"ATP016\",\"NG10\",\"PB675\",\"BOT2016\",\"JP14\",\"NE1\",\"Stutgart\",\"Loschbour\",\"SF12\",\"KK1\",\"Sunghir3\",\"UstIshim\"],\"xaxis\":\"x2\",\"y\":[0.0,0.0,0.0,0.0,0.0,0.0,5.671165734771261e-06,0.0,0.0,0.0,0.0,0.0,0.0,0.0,4.5423834812772494e-05,0.0,6.1767365694120964e-06],\"yaxis\":\"y2\"},{\"hovertemplate\":\"Method=VG-bam<br>variable=PCT_Others<br>Sample=%{x}<br>value=%{y}<extra></extra>\",\"legendgroup\":\"VG-bam\",\"marker\":{\"color\":\"#00cc96\",\"line\":{\"width\":2},\"size\":5,\"symbol\":\"circle\"},\"mode\":\"lines+markers\",\"name\":\"VG-bam\",\"orientation\":\"v\",\"showlegend\":false,\"type\":\"scatter\",\"x\":[\"SZ43\",\"SZ45\",\"SZ4\",\"SZ15\",\"BR2\",\"ATP016\",\"NG10\",\"PB675\",\"BOT2016\",\"JP14\",\"NE1\",\"Stutgart\",\"Loschbour\",\"SF12\",\"KK1\",\"Sunghir3\",\"UstIshim\"],\"xaxis\":\"x\",\"y\":[0.0,0.0,0.0,0.0,0.0,0.0,0.0,0.0,0.0,0.0,0.0,0.0,0.0,0.0,6.056511308369666e-06,0.0,0.0],\"yaxis\":\"y\"}],                        {\"annotations\":[{\"font\":{},\"showarrow\":false,\"text\":\"Others\",\"textangle\":90,\"x\":0.98,\"xanchor\":\"left\",\"xref\":\"paper\",\"y\":0.07083333333333333,\"yanchor\":\"middle\",\"yref\":\"paper\"},{\"font\":{},\"showarrow\":false,\"text\":\"Deletion\",\"textangle\":90,\"x\":0.98,\"xanchor\":\"left\",\"xref\":\"paper\",\"y\":0.2425,\"yanchor\":\"middle\",\"yref\":\"paper\"},{\"font\":{},\"showarrow\":false,\"text\":\"Insertion\",\"textangle\":90,\"x\":0.98,\"xanchor\":\"left\",\"xref\":\"paper\",\"y\":0.4141666666666667,\"yanchor\":\"middle\",\"yref\":\"paper\"},{\"font\":{},\"showarrow\":false,\"text\":\"Substitution\",\"textangle\":90,\"x\":0.98,\"xanchor\":\"left\",\"xref\":\"paper\",\"y\":0.5858333333333334,\"yanchor\":\"middle\",\"yref\":\"paper\"},{\"font\":{},\"showarrow\":false,\"text\":\"INDEL\",\"textangle\":90,\"x\":0.98,\"xanchor\":\"left\",\"xref\":\"paper\",\"y\":0.7575000000000001,\"yanchor\":\"middle\",\"yref\":\"paper\"},{\"font\":{},\"showarrow\":false,\"text\":\"SNV\",\"textangle\":90,\"x\":0.98,\"xanchor\":\"left\",\"xref\":\"paper\",\"y\":0.9291666666666667,\"yanchor\":\"middle\",\"yref\":\"paper\"}],\"height\":1000,\"legend\":{\"title\":{\"text\":\"Method\"},\"tracegroupgap\":0},\"template\":{\"data\":{\"bar\":[{\"error_x\":{\"color\":\"#2a3f5f\"},\"error_y\":{\"color\":\"#2a3f5f\"},\"marker\":{\"line\":{\"color\":\"#E5ECF6\",\"width\":0.5},\"pattern\":{\"fillmode\":\"overlay\",\"size\":10,\"solidity\":0.2}},\"type\":\"bar\"}],\"barpolar\":[{\"marker\":{\"line\":{\"color\":\"#E5ECF6\",\"width\":0.5},\"pattern\":{\"fillmode\":\"overlay\",\"size\":10,\"solidity\":0.2}},\"type\":\"barpolar\"}],\"carpet\":[{\"aaxis\":{\"endlinecolor\":\"#2a3f5f\",\"gridcolor\":\"white\",\"linecolor\":\"white\",\"minorgridcolor\":\"white\",\"startlinecolor\":\"#2a3f5f\"},\"baxis\":{\"endlinecolor\":\"#2a3f5f\",\"gridcolor\":\"white\",\"linecolor\":\"white\",\"minorgridcolor\":\"white\",\"startlinecolor\":\"#2a3f5f\"},\"type\":\"carpet\"}],\"choropleth\":[{\"colorbar\":{\"outlinewidth\":0,\"ticks\":\"\"},\"type\":\"choropleth\"}],\"contour\":[{\"colorbar\":{\"outlinewidth\":0,\"ticks\":\"\"},\"colorscale\":[[0.0,\"#0d0887\"],[0.1111111111111111,\"#46039f\"],[0.2222222222222222,\"#7201a8\"],[0.3333333333333333,\"#9c179e\"],[0.4444444444444444,\"#bd3786\"],[0.5555555555555556,\"#d8576b\"],[0.6666666666666666,\"#ed7953\"],[0.7777777777777778,\"#fb9f3a\"],[0.8888888888888888,\"#fdca26\"],[1.0,\"#f0f921\"]],\"type\":\"contour\"}],\"contourcarpet\":[{\"colorbar\":{\"outlinewidth\":0,\"ticks\":\"\"},\"type\":\"contourcarpet\"}],\"heatmap\":[{\"colorbar\":{\"outlinewidth\":0,\"ticks\":\"\"},\"colorscale\":[[0.0,\"#0d0887\"],[0.1111111111111111,\"#46039f\"],[0.2222222222222222,\"#7201a8\"],[0.3333333333333333,\"#9c179e\"],[0.4444444444444444,\"#bd3786\"],[0.5555555555555556,\"#d8576b\"],[0.6666666666666666,\"#ed7953\"],[0.7777777777777778,\"#fb9f3a\"],[0.8888888888888888,\"#fdca26\"],[1.0,\"#f0f921\"]],\"type\":\"heatmap\"}],\"heatmapgl\":[{\"colorbar\":{\"outlinewidth\":0,\"ticks\":\"\"},\"colorscale\":[[0.0,\"#0d0887\"],[0.1111111111111111,\"#46039f\"],[0.2222222222222222,\"#7201a8\"],[0.3333333333333333,\"#9c179e\"],[0.4444444444444444,\"#bd3786\"],[0.5555555555555556,\"#d8576b\"],[0.6666666666666666,\"#ed7953\"],[0.7777777777777778,\"#fb9f3a\"],[0.8888888888888888,\"#fdca26\"],[1.0,\"#f0f921\"]],\"type\":\"heatmapgl\"}],\"histogram\":[{\"marker\":{\"pattern\":{\"fillmode\":\"overlay\",\"size\":10,\"solidity\":0.2}},\"type\":\"histogram\"}],\"histogram2d\":[{\"colorbar\":{\"outlinewidth\":0,\"ticks\":\"\"},\"colorscale\":[[0.0,\"#0d0887\"],[0.1111111111111111,\"#46039f\"],[0.2222222222222222,\"#7201a8\"],[0.3333333333333333,\"#9c179e\"],[0.4444444444444444,\"#bd3786\"],[0.5555555555555556,\"#d8576b\"],[0.6666666666666666,\"#ed7953\"],[0.7777777777777778,\"#fb9f3a\"],[0.8888888888888888,\"#fdca26\"],[1.0,\"#f0f921\"]],\"type\":\"histogram2d\"}],\"histogram2dcontour\":[{\"colorbar\":{\"outlinewidth\":0,\"ticks\":\"\"},\"colorscale\":[[0.0,\"#0d0887\"],[0.1111111111111111,\"#46039f\"],[0.2222222222222222,\"#7201a8\"],[0.3333333333333333,\"#9c179e\"],[0.4444444444444444,\"#bd3786\"],[0.5555555555555556,\"#d8576b\"],[0.6666666666666666,\"#ed7953\"],[0.7777777777777778,\"#fb9f3a\"],[0.8888888888888888,\"#fdca26\"],[1.0,\"#f0f921\"]],\"type\":\"histogram2dcontour\"}],\"mesh3d\":[{\"colorbar\":{\"outlinewidth\":0,\"ticks\":\"\"},\"type\":\"mesh3d\"}],\"parcoords\":[{\"line\":{\"colorbar\":{\"outlinewidth\":0,\"ticks\":\"\"}},\"type\":\"parcoords\"}],\"pie\":[{\"automargin\":true,\"type\":\"pie\"}],\"scatter\":[{\"marker\":{\"colorbar\":{\"outlinewidth\":0,\"ticks\":\"\"}},\"type\":\"scatter\"}],\"scatter3d\":[{\"line\":{\"colorbar\":{\"outlinewidth\":0,\"ticks\":\"\"}},\"marker\":{\"colorbar\":{\"outlinewidth\":0,\"ticks\":\"\"}},\"type\":\"scatter3d\"}],\"scattercarpet\":[{\"marker\":{\"colorbar\":{\"outlinewidth\":0,\"ticks\":\"\"}},\"type\":\"scattercarpet\"}],\"scattergeo\":[{\"marker\":{\"colorbar\":{\"outlinewidth\":0,\"ticks\":\"\"}},\"type\":\"scattergeo\"}],\"scattergl\":[{\"marker\":{\"colorbar\":{\"outlinewidth\":0,\"ticks\":\"\"}},\"type\":\"scattergl\"}],\"scattermapbox\":[{\"marker\":{\"colorbar\":{\"outlinewidth\":0,\"ticks\":\"\"}},\"type\":\"scattermapbox\"}],\"scatterpolar\":[{\"marker\":{\"colorbar\":{\"outlinewidth\":0,\"ticks\":\"\"}},\"type\":\"scatterpolar\"}],\"scatterpolargl\":[{\"marker\":{\"colorbar\":{\"outlinewidth\":0,\"ticks\":\"\"}},\"type\":\"scatterpolargl\"}],\"scatterternary\":[{\"marker\":{\"colorbar\":{\"outlinewidth\":0,\"ticks\":\"\"}},\"type\":\"scatterternary\"}],\"surface\":[{\"colorbar\":{\"outlinewidth\":0,\"ticks\":\"\"},\"colorscale\":[[0.0,\"#0d0887\"],[0.1111111111111111,\"#46039f\"],[0.2222222222222222,\"#7201a8\"],[0.3333333333333333,\"#9c179e\"],[0.4444444444444444,\"#bd3786\"],[0.5555555555555556,\"#d8576b\"],[0.6666666666666666,\"#ed7953\"],[0.7777777777777778,\"#fb9f3a\"],[0.8888888888888888,\"#fdca26\"],[1.0,\"#f0f921\"]],\"type\":\"surface\"}],\"table\":[{\"cells\":{\"fill\":{\"color\":\"#EBF0F8\"},\"line\":{\"color\":\"white\"}},\"header\":{\"fill\":{\"color\":\"#C8D4E3\"},\"line\":{\"color\":\"white\"}},\"type\":\"table\"}]},\"layout\":{\"annotationdefaults\":{\"arrowcolor\":\"#2a3f5f\",\"arrowhead\":0,\"arrowwidth\":1},\"autotypenumbers\":\"strict\",\"coloraxis\":{\"colorbar\":{\"outlinewidth\":0,\"ticks\":\"\"}},\"colorscale\":{\"diverging\":[[0,\"#8e0152\"],[0.1,\"#c51b7d\"],[0.2,\"#de77ae\"],[0.3,\"#f1b6da\"],[0.4,\"#fde0ef\"],[0.5,\"#f7f7f7\"],[0.6,\"#e6f5d0\"],[0.7,\"#b8e186\"],[0.8,\"#7fbc41\"],[0.9,\"#4d9221\"],[1,\"#276419\"]],\"sequential\":[[0.0,\"#0d0887\"],[0.1111111111111111,\"#46039f\"],[0.2222222222222222,\"#7201a8\"],[0.3333333333333333,\"#9c179e\"],[0.4444444444444444,\"#bd3786\"],[0.5555555555555556,\"#d8576b\"],[0.6666666666666666,\"#ed7953\"],[0.7777777777777778,\"#fb9f3a\"],[0.8888888888888888,\"#fdca26\"],[1.0,\"#f0f921\"]],\"sequentialminus\":[[0.0,\"#0d0887\"],[0.1111111111111111,\"#46039f\"],[0.2222222222222222,\"#7201a8\"],[0.3333333333333333,\"#9c179e\"],[0.4444444444444444,\"#bd3786\"],[0.5555555555555556,\"#d8576b\"],[0.6666666666666666,\"#ed7953\"],[0.7777777777777778,\"#fb9f3a\"],[0.8888888888888888,\"#fdca26\"],[1.0,\"#f0f921\"]]},\"colorway\":[\"#636efa\",\"#EF553B\",\"#00cc96\",\"#ab63fa\",\"#FFA15A\",\"#19d3f3\",\"#FF6692\",\"#B6E880\",\"#FF97FF\",\"#FECB52\"],\"font\":{\"color\":\"#2a3f5f\"},\"geo\":{\"bgcolor\":\"white\",\"lakecolor\":\"white\",\"landcolor\":\"#E5ECF6\",\"showlakes\":true,\"showland\":true,\"subunitcolor\":\"white\"},\"hoverlabel\":{\"align\":\"left\"},\"hovermode\":\"closest\",\"mapbox\":{\"style\":\"light\"},\"paper_bgcolor\":\"white\",\"plot_bgcolor\":\"#E5ECF6\",\"polar\":{\"angularaxis\":{\"gridcolor\":\"white\",\"linecolor\":\"white\",\"ticks\":\"\"},\"bgcolor\":\"#E5ECF6\",\"radialaxis\":{\"gridcolor\":\"white\",\"linecolor\":\"white\",\"ticks\":\"\"}},\"scene\":{\"xaxis\":{\"backgroundcolor\":\"#E5ECF6\",\"gridcolor\":\"white\",\"gridwidth\":2,\"linecolor\":\"white\",\"showbackground\":true,\"ticks\":\"\",\"zerolinecolor\":\"white\"},\"yaxis\":{\"backgroundcolor\":\"#E5ECF6\",\"gridcolor\":\"white\",\"gridwidth\":2,\"linecolor\":\"white\",\"showbackground\":true,\"ticks\":\"\",\"zerolinecolor\":\"white\"},\"zaxis\":{\"backgroundcolor\":\"#E5ECF6\",\"gridcolor\":\"white\",\"gridwidth\":2,\"linecolor\":\"white\",\"showbackground\":true,\"ticks\":\"\",\"zerolinecolor\":\"white\"}},\"shapedefaults\":{\"line\":{\"color\":\"#2a3f5f\"}},\"ternary\":{\"aaxis\":{\"gridcolor\":\"white\",\"linecolor\":\"white\",\"ticks\":\"\"},\"baxis\":{\"gridcolor\":\"white\",\"linecolor\":\"white\",\"ticks\":\"\"},\"bgcolor\":\"#E5ECF6\",\"caxis\":{\"gridcolor\":\"white\",\"linecolor\":\"white\",\"ticks\":\"\"}},\"title\":{\"x\":0.05},\"xaxis\":{\"automargin\":true,\"gridcolor\":\"white\",\"linecolor\":\"white\",\"ticks\":\"\",\"title\":{\"standoff\":15},\"zerolinecolor\":\"white\",\"zerolinewidth\":2},\"yaxis\":{\"automargin\":true,\"gridcolor\":\"white\",\"linecolor\":\"white\",\"ticks\":\"\",\"title\":{\"standoff\":15},\"zerolinecolor\":\"white\",\"zerolinewidth\":2}}},\"title\":{\"text\":\"TYPE of variant through AGE\"},\"width\":1000,\"xaxis\":{\"anchor\":\"y\",\"domain\":[0.0,0.98],\"title\":{\"text\":\"Sample\"}},\"xaxis2\":{\"anchor\":\"y2\",\"domain\":[0.0,0.98],\"matches\":\"x\",\"showticklabels\":false},\"xaxis3\":{\"anchor\":\"y3\",\"domain\":[0.0,0.98],\"matches\":\"x\",\"showticklabels\":false},\"xaxis4\":{\"anchor\":\"y4\",\"domain\":[0.0,0.98],\"matches\":\"x\",\"showticklabels\":false},\"xaxis5\":{\"anchor\":\"y5\",\"domain\":[0.0,0.98],\"matches\":\"x\",\"showticklabels\":false},\"xaxis6\":{\"anchor\":\"y6\",\"domain\":[0.0,0.98],\"matches\":\"x\",\"showticklabels\":false},\"yaxis\":{\"anchor\":\"x\",\"domain\":[0.0,0.14166666666666666],\"title\":{\"text\":\"value\"}},\"yaxis2\":{\"anchor\":\"x2\",\"domain\":[0.17166666666666666,0.31333333333333335],\"title\":{\"text\":\"value\"}},\"yaxis3\":{\"anchor\":\"x3\",\"domain\":[0.3433333333333333,0.485],\"title\":{\"text\":\"value\"}},\"yaxis4\":{\"anchor\":\"x4\",\"domain\":[0.515,0.6566666666666667],\"title\":{\"text\":\"value\"}},\"yaxis5\":{\"anchor\":\"x5\",\"domain\":[0.6866666666666666,0.8283333333333334],\"title\":{\"text\":\"value\"}},\"yaxis6\":{\"anchor\":\"x6\",\"domain\":[0.8583333333333333,1.0],\"title\":{\"text\":\"value\"}}},                        {\"responsive\": true}                    ).then(function(){\n",
       "                            \n",
       "var gd = document.getElementById('6fa8e376-2c6b-4b05-9e26-3cabfd327285');\n",
       "var x = new MutationObserver(function (mutations, observer) {{\n",
       "        var display = window.getComputedStyle(gd).display;\n",
       "        if (!display || display === 'none') {{\n",
       "            console.log([gd, 'removed!']);\n",
       "            Plotly.purge(gd);\n",
       "            observer.disconnect();\n",
       "        }}\n",
       "}});\n",
       "\n",
       "// Listen for the removal of the full notebook cells\n",
       "var notebookContainer = gd.closest('#notebook-container');\n",
       "if (notebookContainer) {{\n",
       "    x.observe(notebookContainer, {childList: true});\n",
       "}}\n",
       "\n",
       "// Listen for the clearing of the current output cell\n",
       "var outputEl = gd.closest('.output');\n",
       "if (outputEl) {{\n",
       "    x.observe(outputEl, {childList: true});\n",
       "}}\n",
       "\n",
       "                        })                };                });            </script>        </div>"
      ]
     },
     "metadata": {},
     "output_type": "display_data"
    }
   ],
   "source": [
    "fig = px.scatter(df_age, y=\"value\", x=\"Sample\", color = \"Method\",facet_row=\"variable\",\n",
    "                 width=1000, height=1000, title=\"TYPE of variant through AGE\")\n",
    "\n",
    "fig.for_each_annotation(lambda a: a.update(text=a.text.split(\"=\")[-1].split('_')[-1]))\n",
    "fig.update_yaxes(matches=None)\n",
    "fig.update_traces(mode='lines+markers', marker_line_width=2, marker_size=5)\n",
    "fig.show()"
   ]
  },
  {
   "cell_type": "code",
   "execution_count": 261,
   "id": "ea718794",
   "metadata": {},
   "outputs": [
    {
     "data": {
      "application/vnd.plotly.v1+json": {
       "config": {
        "plotlyServerURL": "https://plot.ly"
       },
       "data": [
        {
         "hovertemplate": "Method=BWA1-bam<br>variable=PCT_SNV<br>Coverage=%{x}<br>value=%{y}<extra></extra>",
         "legendgroup": "BWA1-bam",
         "marker": {
          "color": "#636efa",
          "line": {
           "width": 2
          },
          "size": 5,
          "symbol": "circle"
         },
         "mode": "lines+markers",
         "name": "BWA1-bam",
         "orientation": "v",
         "showlegend": true,
         "type": "scatter",
         "x": [
          5,
          10,
          20,
          30,
          65
         ],
         "xaxis": "x6",
         "y": [
          92.96810483422814,
          90.55933266367332,
          87.3777337029754,
          86.84281846131918,
          86.9057281567728
         ],
         "yaxis": "y6"
        },
        {
         "hovertemplate": "Method=BWA1-bam<br>variable=PCT_INDEL<br>Coverage=%{x}<br>value=%{y}<extra></extra>",
         "legendgroup": "BWA1-bam",
         "marker": {
          "color": "#636efa",
          "line": {
           "width": 2
          },
          "size": 5,
          "symbol": "circle"
         },
         "mode": "lines+markers",
         "name": "BWA1-bam",
         "orientation": "v",
         "showlegend": false,
         "type": "scatter",
         "x": [
          5,
          10,
          20,
          30,
          65
         ],
         "xaxis": "x5",
         "y": [
          5.139942377661681,
          7.106736958317861,
          9.640830403413382,
          9.98967011799541,
          9.774334528507875
         ],
         "yaxis": "y5"
        },
        {
         "hovertemplate": "Method=BWA1-bam<br>variable=PCT_Substitution<br>Coverage=%{x}<br>value=%{y}<extra></extra>",
         "legendgroup": "BWA1-bam",
         "marker": {
          "color": "#636efa",
          "line": {
           "width": 2
          },
          "size": 5,
          "symbol": "circle"
         },
         "mode": "lines+markers",
         "name": "BWA1-bam",
         "orientation": "v",
         "showlegend": false,
         "type": "scatter",
         "x": [
          5,
          10,
          20,
          30,
          65
         ],
         "xaxis": "x4",
         "y": [
          1.8919527881101756,
          2.3339303780088234,
          2.9814358936112066,
          3.1675114206854054,
          3.319937314719324
         ],
         "yaxis": "y4"
        },
        {
         "hovertemplate": "Method=BWA1-bam<br>variable=PCT_Insertion<br>Coverage=%{x}<br>value=%{y}<extra></extra>",
         "legendgroup": "BWA1-bam",
         "marker": {
          "color": "#636efa",
          "line": {
           "width": 2
          },
          "size": 5,
          "symbol": "circle"
         },
         "mode": "lines+markers",
         "name": "BWA1-bam",
         "orientation": "v",
         "showlegend": false,
         "type": "scatter",
         "x": [
          5,
          10,
          20,
          30,
          65
         ],
         "xaxis": "x3",
         "y": [
          0,
          0,
          0,
          0,
          0
         ],
         "yaxis": "y3"
        },
        {
         "hovertemplate": "Method=BWA1-bam<br>variable=PCT_Deletion<br>Coverage=%{x}<br>value=%{y}<extra></extra>",
         "legendgroup": "BWA1-bam",
         "marker": {
          "color": "#636efa",
          "line": {
           "width": 2
          },
          "size": 5,
          "symbol": "circle"
         },
         "mode": "lines+markers",
         "name": "BWA1-bam",
         "orientation": "v",
         "showlegend": false,
         "type": "scatter",
         "x": [
          5,
          10,
          20,
          30,
          65
         ],
         "xaxis": "x2",
         "y": [
          0,
          0,
          0,
          0,
          0
         ],
         "yaxis": "y2"
        },
        {
         "hovertemplate": "Method=BWA1-bam<br>variable=PCT_Others<br>Coverage=%{x}<br>value=%{y}<extra></extra>",
         "legendgroup": "BWA1-bam",
         "marker": {
          "color": "#636efa",
          "line": {
           "width": 2
          },
          "size": 5,
          "symbol": "circle"
         },
         "mode": "lines+markers",
         "name": "BWA1-bam",
         "orientation": "v",
         "showlegend": false,
         "type": "scatter",
         "x": [
          5,
          10,
          20,
          30,
          65
         ],
         "xaxis": "x",
         "y": [
          0,
          0,
          0,
          0,
          0
         ],
         "yaxis": "y"
        },
        {
         "hovertemplate": "Method=VG-bam<br>variable=PCT_SNV<br>Coverage=%{x}<br>value=%{y}<extra></extra>",
         "legendgroup": "VG-bam",
         "marker": {
          "color": "#EF553B",
          "line": {
           "width": 2
          },
          "size": 5,
          "symbol": "circle"
         },
         "mode": "lines+markers",
         "name": "VG-bam",
         "orientation": "v",
         "showlegend": true,
         "type": "scatter",
         "x": [
          5,
          10,
          20,
          30,
          65
         ],
         "xaxis": "x6",
         "y": [
          90.09695747612803,
          87.46778972059313,
          83.90895871408824,
          83.25464503977865,
          83.29541763378819
         ],
         "yaxis": "y6"
        },
        {
         "hovertemplate": "Method=VG-bam<br>variable=PCT_INDEL<br>Coverage=%{x}<br>value=%{y}<extra></extra>",
         "legendgroup": "VG-bam",
         "marker": {
          "color": "#EF553B",
          "line": {
           "width": 2
          },
          "size": 5,
          "symbol": "circle"
         },
         "mode": "lines+markers",
         "name": "VG-bam",
         "orientation": "v",
         "showlegend": false,
         "type": "scatter",
         "x": [
          5,
          10,
          20,
          30,
          65
         ],
         "xaxis": "x5",
         "y": [
          7.414046811606082,
          9.975274558677443,
          13.27975931787639,
          13.871372244980819,
          13.756992545776756
         ],
         "yaxis": "y5"
        },
        {
         "hovertemplate": "Method=VG-bam<br>variable=PCT_Substitution<br>Coverage=%{x}<br>value=%{y}<extra></extra>",
         "legendgroup": "VG-bam",
         "marker": {
          "color": "#EF553B",
          "line": {
           "width": 2
          },
          "size": 5,
          "symbol": "circle"
         },
         "mode": "lines+markers",
         "name": "VG-bam",
         "orientation": "v",
         "showlegend": false,
         "type": "scatter",
         "x": [
          5,
          10,
          20,
          30,
          65
         ],
         "xaxis": "x4",
         "y": [
          2.488995712265891,
          2.5569357207294225,
          2.8112819680353653,
          2.873982715240525,
          2.9475898204350597
         ],
         "yaxis": "y4"
        },
        {
         "hovertemplate": "Method=VG-bam<br>variable=PCT_Insertion<br>Coverage=%{x}<br>value=%{y}<extra></extra>",
         "legendgroup": "VG-bam",
         "marker": {
          "color": "#EF553B",
          "line": {
           "width": 2
          },
          "size": 5,
          "symbol": "circle"
         },
         "mode": "lines+markers",
         "name": "VG-bam",
         "orientation": "v",
         "showlegend": false,
         "type": "scatter",
         "x": [
          5,
          10,
          20,
          30,
          65
         ],
         "xaxis": "x3",
         "y": [
          0,
          0,
          0,
          0,
          0
         ],
         "yaxis": "y3"
        },
        {
         "hovertemplate": "Method=VG-bam<br>variable=PCT_Deletion<br>Coverage=%{x}<br>value=%{y}<extra></extra>",
         "legendgroup": "VG-bam",
         "marker": {
          "color": "#EF553B",
          "line": {
           "width": 2
          },
          "size": 5,
          "symbol": "circle"
         },
         "mode": "lines+markers",
         "name": "VG-bam",
         "orientation": "v",
         "showlegend": false,
         "type": "scatter",
         "x": [
          5,
          10,
          20,
          30,
          65
         ],
         "xaxis": "x2",
         "y": [
          0,
          0,
          0,
          0,
          0
         ],
         "yaxis": "y2"
        },
        {
         "hovertemplate": "Method=VG-bam<br>variable=PCT_Others<br>Coverage=%{x}<br>value=%{y}<extra></extra>",
         "legendgroup": "VG-bam",
         "marker": {
          "color": "#EF553B",
          "line": {
           "width": 2
          },
          "size": 5,
          "symbol": "circle"
         },
         "mode": "lines+markers",
         "name": "VG-bam",
         "orientation": "v",
         "showlegend": false,
         "type": "scatter",
         "x": [
          5,
          10,
          20,
          30,
          65
         ],
         "xaxis": "x",
         "y": [
          0,
          0,
          0,
          0,
          0
         ],
         "yaxis": "y"
        },
        {
         "hovertemplate": "Method=VG-gam<br>variable=PCT_SNV<br>Coverage=%{x}<br>value=%{y}<extra></extra>",
         "legendgroup": "VG-gam",
         "marker": {
          "color": "#00cc96",
          "line": {
           "width": 2
          },
          "size": 5,
          "symbol": "circle"
         },
         "mode": "lines+markers",
         "name": "VG-gam",
         "orientation": "v",
         "showlegend": true,
         "type": "scatter",
         "x": [
          65
         ],
         "xaxis": "x6",
         "y": [
          86.45934268447985
         ],
         "yaxis": "y6"
        },
        {
         "hovertemplate": "Method=VG-gam<br>variable=PCT_INDEL<br>Coverage=%{x}<br>value=%{y}<extra></extra>",
         "legendgroup": "VG-gam",
         "marker": {
          "color": "#00cc96",
          "line": {
           "width": 2
          },
          "size": 5,
          "symbol": "circle"
         },
         "mode": "lines+markers",
         "name": "VG-gam",
         "orientation": "v",
         "showlegend": false,
         "type": "scatter",
         "x": [
          65
         ],
         "xaxis": "x5",
         "y": [
          0.16364470725435146
         ],
         "yaxis": "y5"
        },
        {
         "hovertemplate": "Method=VG-gam<br>variable=PCT_Substitution<br>Coverage=%{x}<br>value=%{y}<extra></extra>",
         "legendgroup": "VG-gam",
         "marker": {
          "color": "#00cc96",
          "line": {
           "width": 2
          },
          "size": 5,
          "symbol": "circle"
         },
         "mode": "lines+markers",
         "name": "VG-gam",
         "orientation": "v",
         "showlegend": false,
         "type": "scatter",
         "x": [
          65
         ],
         "xaxis": "x4",
         "y": [
          1.0376674055161672
         ],
         "yaxis": "y4"
        },
        {
         "hovertemplate": "Method=VG-gam<br>variable=PCT_Insertion<br>Coverage=%{x}<br>value=%{y}<extra></extra>",
         "legendgroup": "VG-gam",
         "marker": {
          "color": "#00cc96",
          "line": {
           "width": 2
          },
          "size": 5,
          "symbol": "circle"
         },
         "mode": "lines+markers",
         "name": "VG-gam",
         "orientation": "v",
         "showlegend": false,
         "type": "scatter",
         "x": [
          65
         ],
         "xaxis": "x3",
         "y": [
          5.1648192573973635
         ],
         "yaxis": "y3"
        },
        {
         "hovertemplate": "Method=VG-gam<br>variable=PCT_Deletion<br>Coverage=%{x}<br>value=%{y}<extra></extra>",
         "legendgroup": "VG-gam",
         "marker": {
          "color": "#00cc96",
          "line": {
           "width": 2
          },
          "size": 5,
          "symbol": "circle"
         },
         "mode": "lines+markers",
         "name": "VG-gam",
         "orientation": "v",
         "showlegend": false,
         "type": "scatter",
         "x": [
          65
         ],
         "xaxis": "x2",
         "y": [
          6.949487705554305
         ],
         "yaxis": "y2"
        },
        {
         "hovertemplate": "Method=VG-gam<br>variable=PCT_Others<br>Coverage=%{x}<br>value=%{y}<extra></extra>",
         "legendgroup": "VG-gam",
         "marker": {
          "color": "#00cc96",
          "line": {
           "width": 2
          },
          "size": 5,
          "symbol": "circle"
         },
         "mode": "lines+markers",
         "name": "VG-gam",
         "orientation": "v",
         "showlegend": false,
         "type": "scatter",
         "x": [
          65
         ],
         "xaxis": "x",
         "y": [
          0.22503823979795595
         ],
         "yaxis": "y"
        }
       ],
       "layout": {
        "annotations": [
         {
          "font": {},
          "showarrow": false,
          "text": "PCT_Others",
          "textangle": 90,
          "x": 0.98,
          "xanchor": "left",
          "xref": "paper",
          "y": 0.07083333333333333,
          "yanchor": "middle",
          "yref": "paper"
         },
         {
          "font": {},
          "showarrow": false,
          "text": "PCT_Deletion",
          "textangle": 90,
          "x": 0.98,
          "xanchor": "left",
          "xref": "paper",
          "y": 0.2425,
          "yanchor": "middle",
          "yref": "paper"
         },
         {
          "font": {},
          "showarrow": false,
          "text": "PCT_Insertion",
          "textangle": 90,
          "x": 0.98,
          "xanchor": "left",
          "xref": "paper",
          "y": 0.4141666666666667,
          "yanchor": "middle",
          "yref": "paper"
         },
         {
          "font": {},
          "showarrow": false,
          "text": "PCT_Substitution",
          "textangle": 90,
          "x": 0.98,
          "xanchor": "left",
          "xref": "paper",
          "y": 0.5858333333333334,
          "yanchor": "middle",
          "yref": "paper"
         },
         {
          "font": {},
          "showarrow": false,
          "text": "PCT_INDEL",
          "textangle": 90,
          "x": 0.98,
          "xanchor": "left",
          "xref": "paper",
          "y": 0.7575000000000001,
          "yanchor": "middle",
          "yref": "paper"
         },
         {
          "font": {},
          "showarrow": false,
          "text": "PCT_SNV",
          "textangle": 90,
          "x": 0.98,
          "xanchor": "left",
          "xref": "paper",
          "y": 0.9291666666666667,
          "yanchor": "middle",
          "yref": "paper"
         }
        ],
        "height": 1000,
        "legend": {
         "title": {
          "text": "Method"
         },
         "tracegroupgap": 0
        },
        "template": {
         "data": {
          "bar": [
           {
            "error_x": {
             "color": "#2a3f5f"
            },
            "error_y": {
             "color": "#2a3f5f"
            },
            "marker": {
             "line": {
              "color": "#E5ECF6",
              "width": 0.5
             },
             "pattern": {
              "fillmode": "overlay",
              "size": 10,
              "solidity": 0.2
             }
            },
            "type": "bar"
           }
          ],
          "barpolar": [
           {
            "marker": {
             "line": {
              "color": "#E5ECF6",
              "width": 0.5
             },
             "pattern": {
              "fillmode": "overlay",
              "size": 10,
              "solidity": 0.2
             }
            },
            "type": "barpolar"
           }
          ],
          "carpet": [
           {
            "aaxis": {
             "endlinecolor": "#2a3f5f",
             "gridcolor": "white",
             "linecolor": "white",
             "minorgridcolor": "white",
             "startlinecolor": "#2a3f5f"
            },
            "baxis": {
             "endlinecolor": "#2a3f5f",
             "gridcolor": "white",
             "linecolor": "white",
             "minorgridcolor": "white",
             "startlinecolor": "#2a3f5f"
            },
            "type": "carpet"
           }
          ],
          "choropleth": [
           {
            "colorbar": {
             "outlinewidth": 0,
             "ticks": ""
            },
            "type": "choropleth"
           }
          ],
          "contour": [
           {
            "colorbar": {
             "outlinewidth": 0,
             "ticks": ""
            },
            "colorscale": [
             [
              0,
              "#0d0887"
             ],
             [
              0.1111111111111111,
              "#46039f"
             ],
             [
              0.2222222222222222,
              "#7201a8"
             ],
             [
              0.3333333333333333,
              "#9c179e"
             ],
             [
              0.4444444444444444,
              "#bd3786"
             ],
             [
              0.5555555555555556,
              "#d8576b"
             ],
             [
              0.6666666666666666,
              "#ed7953"
             ],
             [
              0.7777777777777778,
              "#fb9f3a"
             ],
             [
              0.8888888888888888,
              "#fdca26"
             ],
             [
              1,
              "#f0f921"
             ]
            ],
            "type": "contour"
           }
          ],
          "contourcarpet": [
           {
            "colorbar": {
             "outlinewidth": 0,
             "ticks": ""
            },
            "type": "contourcarpet"
           }
          ],
          "heatmap": [
           {
            "colorbar": {
             "outlinewidth": 0,
             "ticks": ""
            },
            "colorscale": [
             [
              0,
              "#0d0887"
             ],
             [
              0.1111111111111111,
              "#46039f"
             ],
             [
              0.2222222222222222,
              "#7201a8"
             ],
             [
              0.3333333333333333,
              "#9c179e"
             ],
             [
              0.4444444444444444,
              "#bd3786"
             ],
             [
              0.5555555555555556,
              "#d8576b"
             ],
             [
              0.6666666666666666,
              "#ed7953"
             ],
             [
              0.7777777777777778,
              "#fb9f3a"
             ],
             [
              0.8888888888888888,
              "#fdca26"
             ],
             [
              1,
              "#f0f921"
             ]
            ],
            "type": "heatmap"
           }
          ],
          "heatmapgl": [
           {
            "colorbar": {
             "outlinewidth": 0,
             "ticks": ""
            },
            "colorscale": [
             [
              0,
              "#0d0887"
             ],
             [
              0.1111111111111111,
              "#46039f"
             ],
             [
              0.2222222222222222,
              "#7201a8"
             ],
             [
              0.3333333333333333,
              "#9c179e"
             ],
             [
              0.4444444444444444,
              "#bd3786"
             ],
             [
              0.5555555555555556,
              "#d8576b"
             ],
             [
              0.6666666666666666,
              "#ed7953"
             ],
             [
              0.7777777777777778,
              "#fb9f3a"
             ],
             [
              0.8888888888888888,
              "#fdca26"
             ],
             [
              1,
              "#f0f921"
             ]
            ],
            "type": "heatmapgl"
           }
          ],
          "histogram": [
           {
            "marker": {
             "pattern": {
              "fillmode": "overlay",
              "size": 10,
              "solidity": 0.2
             }
            },
            "type": "histogram"
           }
          ],
          "histogram2d": [
           {
            "colorbar": {
             "outlinewidth": 0,
             "ticks": ""
            },
            "colorscale": [
             [
              0,
              "#0d0887"
             ],
             [
              0.1111111111111111,
              "#46039f"
             ],
             [
              0.2222222222222222,
              "#7201a8"
             ],
             [
              0.3333333333333333,
              "#9c179e"
             ],
             [
              0.4444444444444444,
              "#bd3786"
             ],
             [
              0.5555555555555556,
              "#d8576b"
             ],
             [
              0.6666666666666666,
              "#ed7953"
             ],
             [
              0.7777777777777778,
              "#fb9f3a"
             ],
             [
              0.8888888888888888,
              "#fdca26"
             ],
             [
              1,
              "#f0f921"
             ]
            ],
            "type": "histogram2d"
           }
          ],
          "histogram2dcontour": [
           {
            "colorbar": {
             "outlinewidth": 0,
             "ticks": ""
            },
            "colorscale": [
             [
              0,
              "#0d0887"
             ],
             [
              0.1111111111111111,
              "#46039f"
             ],
             [
              0.2222222222222222,
              "#7201a8"
             ],
             [
              0.3333333333333333,
              "#9c179e"
             ],
             [
              0.4444444444444444,
              "#bd3786"
             ],
             [
              0.5555555555555556,
              "#d8576b"
             ],
             [
              0.6666666666666666,
              "#ed7953"
             ],
             [
              0.7777777777777778,
              "#fb9f3a"
             ],
             [
              0.8888888888888888,
              "#fdca26"
             ],
             [
              1,
              "#f0f921"
             ]
            ],
            "type": "histogram2dcontour"
           }
          ],
          "mesh3d": [
           {
            "colorbar": {
             "outlinewidth": 0,
             "ticks": ""
            },
            "type": "mesh3d"
           }
          ],
          "parcoords": [
           {
            "line": {
             "colorbar": {
              "outlinewidth": 0,
              "ticks": ""
             }
            },
            "type": "parcoords"
           }
          ],
          "pie": [
           {
            "automargin": true,
            "type": "pie"
           }
          ],
          "scatter": [
           {
            "marker": {
             "colorbar": {
              "outlinewidth": 0,
              "ticks": ""
             }
            },
            "type": "scatter"
           }
          ],
          "scatter3d": [
           {
            "line": {
             "colorbar": {
              "outlinewidth": 0,
              "ticks": ""
             }
            },
            "marker": {
             "colorbar": {
              "outlinewidth": 0,
              "ticks": ""
             }
            },
            "type": "scatter3d"
           }
          ],
          "scattercarpet": [
           {
            "marker": {
             "colorbar": {
              "outlinewidth": 0,
              "ticks": ""
             }
            },
            "type": "scattercarpet"
           }
          ],
          "scattergeo": [
           {
            "marker": {
             "colorbar": {
              "outlinewidth": 0,
              "ticks": ""
             }
            },
            "type": "scattergeo"
           }
          ],
          "scattergl": [
           {
            "marker": {
             "colorbar": {
              "outlinewidth": 0,
              "ticks": ""
             }
            },
            "type": "scattergl"
           }
          ],
          "scattermapbox": [
           {
            "marker": {
             "colorbar": {
              "outlinewidth": 0,
              "ticks": ""
             }
            },
            "type": "scattermapbox"
           }
          ],
          "scatterpolar": [
           {
            "marker": {
             "colorbar": {
              "outlinewidth": 0,
              "ticks": ""
             }
            },
            "type": "scatterpolar"
           }
          ],
          "scatterpolargl": [
           {
            "marker": {
             "colorbar": {
              "outlinewidth": 0,
              "ticks": ""
             }
            },
            "type": "scatterpolargl"
           }
          ],
          "scatterternary": [
           {
            "marker": {
             "colorbar": {
              "outlinewidth": 0,
              "ticks": ""
             }
            },
            "type": "scatterternary"
           }
          ],
          "surface": [
           {
            "colorbar": {
             "outlinewidth": 0,
             "ticks": ""
            },
            "colorscale": [
             [
              0,
              "#0d0887"
             ],
             [
              0.1111111111111111,
              "#46039f"
             ],
             [
              0.2222222222222222,
              "#7201a8"
             ],
             [
              0.3333333333333333,
              "#9c179e"
             ],
             [
              0.4444444444444444,
              "#bd3786"
             ],
             [
              0.5555555555555556,
              "#d8576b"
             ],
             [
              0.6666666666666666,
              "#ed7953"
             ],
             [
              0.7777777777777778,
              "#fb9f3a"
             ],
             [
              0.8888888888888888,
              "#fdca26"
             ],
             [
              1,
              "#f0f921"
             ]
            ],
            "type": "surface"
           }
          ],
          "table": [
           {
            "cells": {
             "fill": {
              "color": "#EBF0F8"
             },
             "line": {
              "color": "white"
             }
            },
            "header": {
             "fill": {
              "color": "#C8D4E3"
             },
             "line": {
              "color": "white"
             }
            },
            "type": "table"
           }
          ]
         },
         "layout": {
          "annotationdefaults": {
           "arrowcolor": "#2a3f5f",
           "arrowhead": 0,
           "arrowwidth": 1
          },
          "autotypenumbers": "strict",
          "coloraxis": {
           "colorbar": {
            "outlinewidth": 0,
            "ticks": ""
           }
          },
          "colorscale": {
           "diverging": [
            [
             0,
             "#8e0152"
            ],
            [
             0.1,
             "#c51b7d"
            ],
            [
             0.2,
             "#de77ae"
            ],
            [
             0.3,
             "#f1b6da"
            ],
            [
             0.4,
             "#fde0ef"
            ],
            [
             0.5,
             "#f7f7f7"
            ],
            [
             0.6,
             "#e6f5d0"
            ],
            [
             0.7,
             "#b8e186"
            ],
            [
             0.8,
             "#7fbc41"
            ],
            [
             0.9,
             "#4d9221"
            ],
            [
             1,
             "#276419"
            ]
           ],
           "sequential": [
            [
             0,
             "#0d0887"
            ],
            [
             0.1111111111111111,
             "#46039f"
            ],
            [
             0.2222222222222222,
             "#7201a8"
            ],
            [
             0.3333333333333333,
             "#9c179e"
            ],
            [
             0.4444444444444444,
             "#bd3786"
            ],
            [
             0.5555555555555556,
             "#d8576b"
            ],
            [
             0.6666666666666666,
             "#ed7953"
            ],
            [
             0.7777777777777778,
             "#fb9f3a"
            ],
            [
             0.8888888888888888,
             "#fdca26"
            ],
            [
             1,
             "#f0f921"
            ]
           ],
           "sequentialminus": [
            [
             0,
             "#0d0887"
            ],
            [
             0.1111111111111111,
             "#46039f"
            ],
            [
             0.2222222222222222,
             "#7201a8"
            ],
            [
             0.3333333333333333,
             "#9c179e"
            ],
            [
             0.4444444444444444,
             "#bd3786"
            ],
            [
             0.5555555555555556,
             "#d8576b"
            ],
            [
             0.6666666666666666,
             "#ed7953"
            ],
            [
             0.7777777777777778,
             "#fb9f3a"
            ],
            [
             0.8888888888888888,
             "#fdca26"
            ],
            [
             1,
             "#f0f921"
            ]
           ]
          },
          "colorway": [
           "#636efa",
           "#EF553B",
           "#00cc96",
           "#ab63fa",
           "#FFA15A",
           "#19d3f3",
           "#FF6692",
           "#B6E880",
           "#FF97FF",
           "#FECB52"
          ],
          "font": {
           "color": "#2a3f5f"
          },
          "geo": {
           "bgcolor": "white",
           "lakecolor": "white",
           "landcolor": "#E5ECF6",
           "showlakes": true,
           "showland": true,
           "subunitcolor": "white"
          },
          "hoverlabel": {
           "align": "left"
          },
          "hovermode": "closest",
          "mapbox": {
           "style": "light"
          },
          "paper_bgcolor": "white",
          "plot_bgcolor": "#E5ECF6",
          "polar": {
           "angularaxis": {
            "gridcolor": "white",
            "linecolor": "white",
            "ticks": ""
           },
           "bgcolor": "#E5ECF6",
           "radialaxis": {
            "gridcolor": "white",
            "linecolor": "white",
            "ticks": ""
           }
          },
          "scene": {
           "xaxis": {
            "backgroundcolor": "#E5ECF6",
            "gridcolor": "white",
            "gridwidth": 2,
            "linecolor": "white",
            "showbackground": true,
            "ticks": "",
            "zerolinecolor": "white"
           },
           "yaxis": {
            "backgroundcolor": "#E5ECF6",
            "gridcolor": "white",
            "gridwidth": 2,
            "linecolor": "white",
            "showbackground": true,
            "ticks": "",
            "zerolinecolor": "white"
           },
           "zaxis": {
            "backgroundcolor": "#E5ECF6",
            "gridcolor": "white",
            "gridwidth": 2,
            "linecolor": "white",
            "showbackground": true,
            "ticks": "",
            "zerolinecolor": "white"
           }
          },
          "shapedefaults": {
           "line": {
            "color": "#2a3f5f"
           }
          },
          "ternary": {
           "aaxis": {
            "gridcolor": "white",
            "linecolor": "white",
            "ticks": ""
           },
           "baxis": {
            "gridcolor": "white",
            "linecolor": "white",
            "ticks": ""
           },
           "bgcolor": "#E5ECF6",
           "caxis": {
            "gridcolor": "white",
            "linecolor": "white",
            "ticks": ""
           }
          },
          "title": {
           "x": 0.05
          },
          "xaxis": {
           "automargin": true,
           "gridcolor": "white",
           "linecolor": "white",
           "ticks": "",
           "title": {
            "standoff": 15
           },
           "zerolinecolor": "white",
           "zerolinewidth": 2
          },
          "yaxis": {
           "automargin": true,
           "gridcolor": "white",
           "linecolor": "white",
           "ticks": "",
           "title": {
            "standoff": 15
           },
           "zerolinecolor": "white",
           "zerolinewidth": 2
          }
         }
        },
        "title": {
         "text": "TYPE of variant through COVERAGE"
        },
        "width": 1000,
        "xaxis": {
         "anchor": "y",
         "domain": [
          0,
          0.98
         ],
         "title": {
          "text": "Coverage"
         }
        },
        "xaxis2": {
         "anchor": "y2",
         "domain": [
          0,
          0.98
         ],
         "matches": "x",
         "showticklabels": false
        },
        "xaxis3": {
         "anchor": "y3",
         "domain": [
          0,
          0.98
         ],
         "matches": "x",
         "showticklabels": false
        },
        "xaxis4": {
         "anchor": "y4",
         "domain": [
          0,
          0.98
         ],
         "matches": "x",
         "showticklabels": false
        },
        "xaxis5": {
         "anchor": "y5",
         "domain": [
          0,
          0.98
         ],
         "matches": "x",
         "showticklabels": false
        },
        "xaxis6": {
         "anchor": "y6",
         "domain": [
          0,
          0.98
         ],
         "matches": "x",
         "showticklabels": false
        },
        "yaxis": {
         "anchor": "x",
         "domain": [
          0,
          0.14166666666666666
         ],
         "title": {
          "text": "value"
         }
        },
        "yaxis2": {
         "anchor": "x2",
         "domain": [
          0.17166666666666666,
          0.31333333333333335
         ],
         "title": {
          "text": "value"
         }
        },
        "yaxis3": {
         "anchor": "x3",
         "domain": [
          0.3433333333333333,
          0.485
         ],
         "title": {
          "text": "value"
         }
        },
        "yaxis4": {
         "anchor": "x4",
         "domain": [
          0.515,
          0.6566666666666667
         ],
         "title": {
          "text": "value"
         }
        },
        "yaxis5": {
         "anchor": "x5",
         "domain": [
          0.6866666666666666,
          0.8283333333333334
         ],
         "title": {
          "text": "value"
         }
        },
        "yaxis6": {
         "anchor": "x6",
         "domain": [
          0.8583333333333333,
          1
         ],
         "title": {
          "text": "value"
         }
        }
       }
      },
      "text/html": [
       "<div>                            <div id=\"c6e9ec79-70f6-45b2-84e6-7b1cdb753efe\" class=\"plotly-graph-div\" style=\"height:1000px; width:1000px;\"></div>            <script type=\"text/javascript\">                require([\"plotly\"], function(Plotly) {                    window.PLOTLYENV=window.PLOTLYENV || {};                                    if (document.getElementById(\"c6e9ec79-70f6-45b2-84e6-7b1cdb753efe\")) {                    Plotly.newPlot(                        \"c6e9ec79-70f6-45b2-84e6-7b1cdb753efe\",                        [{\"hovertemplate\":\"Method=BWA1-bam<br>variable=PCT_SNV<br>Coverage=%{x}<br>value=%{y}<extra></extra>\",\"legendgroup\":\"BWA1-bam\",\"marker\":{\"color\":\"#636efa\",\"line\":{\"width\":2},\"size\":5,\"symbol\":\"circle\"},\"mode\":\"lines+markers\",\"name\":\"BWA1-bam\",\"orientation\":\"v\",\"showlegend\":true,\"type\":\"scatter\",\"x\":[5,10,20,30,65],\"xaxis\":\"x6\",\"y\":[92.96810483422814,90.55933266367332,87.3777337029754,86.84281846131918,86.9057281567728],\"yaxis\":\"y6\"},{\"hovertemplate\":\"Method=BWA1-bam<br>variable=PCT_INDEL<br>Coverage=%{x}<br>value=%{y}<extra></extra>\",\"legendgroup\":\"BWA1-bam\",\"marker\":{\"color\":\"#636efa\",\"line\":{\"width\":2},\"size\":5,\"symbol\":\"circle\"},\"mode\":\"lines+markers\",\"name\":\"BWA1-bam\",\"orientation\":\"v\",\"showlegend\":false,\"type\":\"scatter\",\"x\":[5,10,20,30,65],\"xaxis\":\"x5\",\"y\":[5.139942377661681,7.106736958317861,9.640830403413382,9.98967011799541,9.774334528507875],\"yaxis\":\"y5\"},{\"hovertemplate\":\"Method=BWA1-bam<br>variable=PCT_Substitution<br>Coverage=%{x}<br>value=%{y}<extra></extra>\",\"legendgroup\":\"BWA1-bam\",\"marker\":{\"color\":\"#636efa\",\"line\":{\"width\":2},\"size\":5,\"symbol\":\"circle\"},\"mode\":\"lines+markers\",\"name\":\"BWA1-bam\",\"orientation\":\"v\",\"showlegend\":false,\"type\":\"scatter\",\"x\":[5,10,20,30,65],\"xaxis\":\"x4\",\"y\":[1.8919527881101756,2.3339303780088234,2.9814358936112066,3.1675114206854054,3.319937314719324],\"yaxis\":\"y4\"},{\"hovertemplate\":\"Method=BWA1-bam<br>variable=PCT_Insertion<br>Coverage=%{x}<br>value=%{y}<extra></extra>\",\"legendgroup\":\"BWA1-bam\",\"marker\":{\"color\":\"#636efa\",\"line\":{\"width\":2},\"size\":5,\"symbol\":\"circle\"},\"mode\":\"lines+markers\",\"name\":\"BWA1-bam\",\"orientation\":\"v\",\"showlegend\":false,\"type\":\"scatter\",\"x\":[5,10,20,30,65],\"xaxis\":\"x3\",\"y\":[0.0,0.0,0.0,0.0,0.0],\"yaxis\":\"y3\"},{\"hovertemplate\":\"Method=BWA1-bam<br>variable=PCT_Deletion<br>Coverage=%{x}<br>value=%{y}<extra></extra>\",\"legendgroup\":\"BWA1-bam\",\"marker\":{\"color\":\"#636efa\",\"line\":{\"width\":2},\"size\":5,\"symbol\":\"circle\"},\"mode\":\"lines+markers\",\"name\":\"BWA1-bam\",\"orientation\":\"v\",\"showlegend\":false,\"type\":\"scatter\",\"x\":[5,10,20,30,65],\"xaxis\":\"x2\",\"y\":[0.0,0.0,0.0,0.0,0.0],\"yaxis\":\"y2\"},{\"hovertemplate\":\"Method=BWA1-bam<br>variable=PCT_Others<br>Coverage=%{x}<br>value=%{y}<extra></extra>\",\"legendgroup\":\"BWA1-bam\",\"marker\":{\"color\":\"#636efa\",\"line\":{\"width\":2},\"size\":5,\"symbol\":\"circle\"},\"mode\":\"lines+markers\",\"name\":\"BWA1-bam\",\"orientation\":\"v\",\"showlegend\":false,\"type\":\"scatter\",\"x\":[5,10,20,30,65],\"xaxis\":\"x\",\"y\":[0.0,0.0,0.0,0.0,0.0],\"yaxis\":\"y\"},{\"hovertemplate\":\"Method=VG-bam<br>variable=PCT_SNV<br>Coverage=%{x}<br>value=%{y}<extra></extra>\",\"legendgroup\":\"VG-bam\",\"marker\":{\"color\":\"#EF553B\",\"line\":{\"width\":2},\"size\":5,\"symbol\":\"circle\"},\"mode\":\"lines+markers\",\"name\":\"VG-bam\",\"orientation\":\"v\",\"showlegend\":true,\"type\":\"scatter\",\"x\":[5,10,20,30,65],\"xaxis\":\"x6\",\"y\":[90.09695747612803,87.46778972059313,83.90895871408824,83.25464503977865,83.29541763378819],\"yaxis\":\"y6\"},{\"hovertemplate\":\"Method=VG-bam<br>variable=PCT_INDEL<br>Coverage=%{x}<br>value=%{y}<extra></extra>\",\"legendgroup\":\"VG-bam\",\"marker\":{\"color\":\"#EF553B\",\"line\":{\"width\":2},\"size\":5,\"symbol\":\"circle\"},\"mode\":\"lines+markers\",\"name\":\"VG-bam\",\"orientation\":\"v\",\"showlegend\":false,\"type\":\"scatter\",\"x\":[5,10,20,30,65],\"xaxis\":\"x5\",\"y\":[7.414046811606082,9.975274558677443,13.27975931787639,13.871372244980819,13.756992545776756],\"yaxis\":\"y5\"},{\"hovertemplate\":\"Method=VG-bam<br>variable=PCT_Substitution<br>Coverage=%{x}<br>value=%{y}<extra></extra>\",\"legendgroup\":\"VG-bam\",\"marker\":{\"color\":\"#EF553B\",\"line\":{\"width\":2},\"size\":5,\"symbol\":\"circle\"},\"mode\":\"lines+markers\",\"name\":\"VG-bam\",\"orientation\":\"v\",\"showlegend\":false,\"type\":\"scatter\",\"x\":[5,10,20,30,65],\"xaxis\":\"x4\",\"y\":[2.488995712265891,2.5569357207294225,2.8112819680353653,2.873982715240525,2.9475898204350597],\"yaxis\":\"y4\"},{\"hovertemplate\":\"Method=VG-bam<br>variable=PCT_Insertion<br>Coverage=%{x}<br>value=%{y}<extra></extra>\",\"legendgroup\":\"VG-bam\",\"marker\":{\"color\":\"#EF553B\",\"line\":{\"width\":2},\"size\":5,\"symbol\":\"circle\"},\"mode\":\"lines+markers\",\"name\":\"VG-bam\",\"orientation\":\"v\",\"showlegend\":false,\"type\":\"scatter\",\"x\":[5,10,20,30,65],\"xaxis\":\"x3\",\"y\":[0.0,0.0,0.0,0.0,0.0],\"yaxis\":\"y3\"},{\"hovertemplate\":\"Method=VG-bam<br>variable=PCT_Deletion<br>Coverage=%{x}<br>value=%{y}<extra></extra>\",\"legendgroup\":\"VG-bam\",\"marker\":{\"color\":\"#EF553B\",\"line\":{\"width\":2},\"size\":5,\"symbol\":\"circle\"},\"mode\":\"lines+markers\",\"name\":\"VG-bam\",\"orientation\":\"v\",\"showlegend\":false,\"type\":\"scatter\",\"x\":[5,10,20,30,65],\"xaxis\":\"x2\",\"y\":[0.0,0.0,0.0,0.0,0.0],\"yaxis\":\"y2\"},{\"hovertemplate\":\"Method=VG-bam<br>variable=PCT_Others<br>Coverage=%{x}<br>value=%{y}<extra></extra>\",\"legendgroup\":\"VG-bam\",\"marker\":{\"color\":\"#EF553B\",\"line\":{\"width\":2},\"size\":5,\"symbol\":\"circle\"},\"mode\":\"lines+markers\",\"name\":\"VG-bam\",\"orientation\":\"v\",\"showlegend\":false,\"type\":\"scatter\",\"x\":[5,10,20,30,65],\"xaxis\":\"x\",\"y\":[0.0,0.0,0.0,0.0,0.0],\"yaxis\":\"y\"},{\"hovertemplate\":\"Method=VG-gam<br>variable=PCT_SNV<br>Coverage=%{x}<br>value=%{y}<extra></extra>\",\"legendgroup\":\"VG-gam\",\"marker\":{\"color\":\"#00cc96\",\"line\":{\"width\":2},\"size\":5,\"symbol\":\"circle\"},\"mode\":\"lines+markers\",\"name\":\"VG-gam\",\"orientation\":\"v\",\"showlegend\":true,\"type\":\"scatter\",\"x\":[65],\"xaxis\":\"x6\",\"y\":[86.45934268447985],\"yaxis\":\"y6\"},{\"hovertemplate\":\"Method=VG-gam<br>variable=PCT_INDEL<br>Coverage=%{x}<br>value=%{y}<extra></extra>\",\"legendgroup\":\"VG-gam\",\"marker\":{\"color\":\"#00cc96\",\"line\":{\"width\":2},\"size\":5,\"symbol\":\"circle\"},\"mode\":\"lines+markers\",\"name\":\"VG-gam\",\"orientation\":\"v\",\"showlegend\":false,\"type\":\"scatter\",\"x\":[65],\"xaxis\":\"x5\",\"y\":[0.16364470725435146],\"yaxis\":\"y5\"},{\"hovertemplate\":\"Method=VG-gam<br>variable=PCT_Substitution<br>Coverage=%{x}<br>value=%{y}<extra></extra>\",\"legendgroup\":\"VG-gam\",\"marker\":{\"color\":\"#00cc96\",\"line\":{\"width\":2},\"size\":5,\"symbol\":\"circle\"},\"mode\":\"lines+markers\",\"name\":\"VG-gam\",\"orientation\":\"v\",\"showlegend\":false,\"type\":\"scatter\",\"x\":[65],\"xaxis\":\"x4\",\"y\":[1.0376674055161672],\"yaxis\":\"y4\"},{\"hovertemplate\":\"Method=VG-gam<br>variable=PCT_Insertion<br>Coverage=%{x}<br>value=%{y}<extra></extra>\",\"legendgroup\":\"VG-gam\",\"marker\":{\"color\":\"#00cc96\",\"line\":{\"width\":2},\"size\":5,\"symbol\":\"circle\"},\"mode\":\"lines+markers\",\"name\":\"VG-gam\",\"orientation\":\"v\",\"showlegend\":false,\"type\":\"scatter\",\"x\":[65],\"xaxis\":\"x3\",\"y\":[5.1648192573973635],\"yaxis\":\"y3\"},{\"hovertemplate\":\"Method=VG-gam<br>variable=PCT_Deletion<br>Coverage=%{x}<br>value=%{y}<extra></extra>\",\"legendgroup\":\"VG-gam\",\"marker\":{\"color\":\"#00cc96\",\"line\":{\"width\":2},\"size\":5,\"symbol\":\"circle\"},\"mode\":\"lines+markers\",\"name\":\"VG-gam\",\"orientation\":\"v\",\"showlegend\":false,\"type\":\"scatter\",\"x\":[65],\"xaxis\":\"x2\",\"y\":[6.949487705554305],\"yaxis\":\"y2\"},{\"hovertemplate\":\"Method=VG-gam<br>variable=PCT_Others<br>Coverage=%{x}<br>value=%{y}<extra></extra>\",\"legendgroup\":\"VG-gam\",\"marker\":{\"color\":\"#00cc96\",\"line\":{\"width\":2},\"size\":5,\"symbol\":\"circle\"},\"mode\":\"lines+markers\",\"name\":\"VG-gam\",\"orientation\":\"v\",\"showlegend\":false,\"type\":\"scatter\",\"x\":[65],\"xaxis\":\"x\",\"y\":[0.22503823979795595],\"yaxis\":\"y\"}],                        {\"annotations\":[{\"font\":{},\"showarrow\":false,\"text\":\"PCT_Others\",\"textangle\":90,\"x\":0.98,\"xanchor\":\"left\",\"xref\":\"paper\",\"y\":0.07083333333333333,\"yanchor\":\"middle\",\"yref\":\"paper\"},{\"font\":{},\"showarrow\":false,\"text\":\"PCT_Deletion\",\"textangle\":90,\"x\":0.98,\"xanchor\":\"left\",\"xref\":\"paper\",\"y\":0.2425,\"yanchor\":\"middle\",\"yref\":\"paper\"},{\"font\":{},\"showarrow\":false,\"text\":\"PCT_Insertion\",\"textangle\":90,\"x\":0.98,\"xanchor\":\"left\",\"xref\":\"paper\",\"y\":0.4141666666666667,\"yanchor\":\"middle\",\"yref\":\"paper\"},{\"font\":{},\"showarrow\":false,\"text\":\"PCT_Substitution\",\"textangle\":90,\"x\":0.98,\"xanchor\":\"left\",\"xref\":\"paper\",\"y\":0.5858333333333334,\"yanchor\":\"middle\",\"yref\":\"paper\"},{\"font\":{},\"showarrow\":false,\"text\":\"PCT_INDEL\",\"textangle\":90,\"x\":0.98,\"xanchor\":\"left\",\"xref\":\"paper\",\"y\":0.7575000000000001,\"yanchor\":\"middle\",\"yref\":\"paper\"},{\"font\":{},\"showarrow\":false,\"text\":\"PCT_SNV\",\"textangle\":90,\"x\":0.98,\"xanchor\":\"left\",\"xref\":\"paper\",\"y\":0.9291666666666667,\"yanchor\":\"middle\",\"yref\":\"paper\"}],\"height\":1000,\"legend\":{\"title\":{\"text\":\"Method\"},\"tracegroupgap\":0},\"template\":{\"data\":{\"bar\":[{\"error_x\":{\"color\":\"#2a3f5f\"},\"error_y\":{\"color\":\"#2a3f5f\"},\"marker\":{\"line\":{\"color\":\"#E5ECF6\",\"width\":0.5},\"pattern\":{\"fillmode\":\"overlay\",\"size\":10,\"solidity\":0.2}},\"type\":\"bar\"}],\"barpolar\":[{\"marker\":{\"line\":{\"color\":\"#E5ECF6\",\"width\":0.5},\"pattern\":{\"fillmode\":\"overlay\",\"size\":10,\"solidity\":0.2}},\"type\":\"barpolar\"}],\"carpet\":[{\"aaxis\":{\"endlinecolor\":\"#2a3f5f\",\"gridcolor\":\"white\",\"linecolor\":\"white\",\"minorgridcolor\":\"white\",\"startlinecolor\":\"#2a3f5f\"},\"baxis\":{\"endlinecolor\":\"#2a3f5f\",\"gridcolor\":\"white\",\"linecolor\":\"white\",\"minorgridcolor\":\"white\",\"startlinecolor\":\"#2a3f5f\"},\"type\":\"carpet\"}],\"choropleth\":[{\"colorbar\":{\"outlinewidth\":0,\"ticks\":\"\"},\"type\":\"choropleth\"}],\"contour\":[{\"colorbar\":{\"outlinewidth\":0,\"ticks\":\"\"},\"colorscale\":[[0.0,\"#0d0887\"],[0.1111111111111111,\"#46039f\"],[0.2222222222222222,\"#7201a8\"],[0.3333333333333333,\"#9c179e\"],[0.4444444444444444,\"#bd3786\"],[0.5555555555555556,\"#d8576b\"],[0.6666666666666666,\"#ed7953\"],[0.7777777777777778,\"#fb9f3a\"],[0.8888888888888888,\"#fdca26\"],[1.0,\"#f0f921\"]],\"type\":\"contour\"}],\"contourcarpet\":[{\"colorbar\":{\"outlinewidth\":0,\"ticks\":\"\"},\"type\":\"contourcarpet\"}],\"heatmap\":[{\"colorbar\":{\"outlinewidth\":0,\"ticks\":\"\"},\"colorscale\":[[0.0,\"#0d0887\"],[0.1111111111111111,\"#46039f\"],[0.2222222222222222,\"#7201a8\"],[0.3333333333333333,\"#9c179e\"],[0.4444444444444444,\"#bd3786\"],[0.5555555555555556,\"#d8576b\"],[0.6666666666666666,\"#ed7953\"],[0.7777777777777778,\"#fb9f3a\"],[0.8888888888888888,\"#fdca26\"],[1.0,\"#f0f921\"]],\"type\":\"heatmap\"}],\"heatmapgl\":[{\"colorbar\":{\"outlinewidth\":0,\"ticks\":\"\"},\"colorscale\":[[0.0,\"#0d0887\"],[0.1111111111111111,\"#46039f\"],[0.2222222222222222,\"#7201a8\"],[0.3333333333333333,\"#9c179e\"],[0.4444444444444444,\"#bd3786\"],[0.5555555555555556,\"#d8576b\"],[0.6666666666666666,\"#ed7953\"],[0.7777777777777778,\"#fb9f3a\"],[0.8888888888888888,\"#fdca26\"],[1.0,\"#f0f921\"]],\"type\":\"heatmapgl\"}],\"histogram\":[{\"marker\":{\"pattern\":{\"fillmode\":\"overlay\",\"size\":10,\"solidity\":0.2}},\"type\":\"histogram\"}],\"histogram2d\":[{\"colorbar\":{\"outlinewidth\":0,\"ticks\":\"\"},\"colorscale\":[[0.0,\"#0d0887\"],[0.1111111111111111,\"#46039f\"],[0.2222222222222222,\"#7201a8\"],[0.3333333333333333,\"#9c179e\"],[0.4444444444444444,\"#bd3786\"],[0.5555555555555556,\"#d8576b\"],[0.6666666666666666,\"#ed7953\"],[0.7777777777777778,\"#fb9f3a\"],[0.8888888888888888,\"#fdca26\"],[1.0,\"#f0f921\"]],\"type\":\"histogram2d\"}],\"histogram2dcontour\":[{\"colorbar\":{\"outlinewidth\":0,\"ticks\":\"\"},\"colorscale\":[[0.0,\"#0d0887\"],[0.1111111111111111,\"#46039f\"],[0.2222222222222222,\"#7201a8\"],[0.3333333333333333,\"#9c179e\"],[0.4444444444444444,\"#bd3786\"],[0.5555555555555556,\"#d8576b\"],[0.6666666666666666,\"#ed7953\"],[0.7777777777777778,\"#fb9f3a\"],[0.8888888888888888,\"#fdca26\"],[1.0,\"#f0f921\"]],\"type\":\"histogram2dcontour\"}],\"mesh3d\":[{\"colorbar\":{\"outlinewidth\":0,\"ticks\":\"\"},\"type\":\"mesh3d\"}],\"parcoords\":[{\"line\":{\"colorbar\":{\"outlinewidth\":0,\"ticks\":\"\"}},\"type\":\"parcoords\"}],\"pie\":[{\"automargin\":true,\"type\":\"pie\"}],\"scatter\":[{\"marker\":{\"colorbar\":{\"outlinewidth\":0,\"ticks\":\"\"}},\"type\":\"scatter\"}],\"scatter3d\":[{\"line\":{\"colorbar\":{\"outlinewidth\":0,\"ticks\":\"\"}},\"marker\":{\"colorbar\":{\"outlinewidth\":0,\"ticks\":\"\"}},\"type\":\"scatter3d\"}],\"scattercarpet\":[{\"marker\":{\"colorbar\":{\"outlinewidth\":0,\"ticks\":\"\"}},\"type\":\"scattercarpet\"}],\"scattergeo\":[{\"marker\":{\"colorbar\":{\"outlinewidth\":0,\"ticks\":\"\"}},\"type\":\"scattergeo\"}],\"scattergl\":[{\"marker\":{\"colorbar\":{\"outlinewidth\":0,\"ticks\":\"\"}},\"type\":\"scattergl\"}],\"scattermapbox\":[{\"marker\":{\"colorbar\":{\"outlinewidth\":0,\"ticks\":\"\"}},\"type\":\"scattermapbox\"}],\"scatterpolar\":[{\"marker\":{\"colorbar\":{\"outlinewidth\":0,\"ticks\":\"\"}},\"type\":\"scatterpolar\"}],\"scatterpolargl\":[{\"marker\":{\"colorbar\":{\"outlinewidth\":0,\"ticks\":\"\"}},\"type\":\"scatterpolargl\"}],\"scatterternary\":[{\"marker\":{\"colorbar\":{\"outlinewidth\":0,\"ticks\":\"\"}},\"type\":\"scatterternary\"}],\"surface\":[{\"colorbar\":{\"outlinewidth\":0,\"ticks\":\"\"},\"colorscale\":[[0.0,\"#0d0887\"],[0.1111111111111111,\"#46039f\"],[0.2222222222222222,\"#7201a8\"],[0.3333333333333333,\"#9c179e\"],[0.4444444444444444,\"#bd3786\"],[0.5555555555555556,\"#d8576b\"],[0.6666666666666666,\"#ed7953\"],[0.7777777777777778,\"#fb9f3a\"],[0.8888888888888888,\"#fdca26\"],[1.0,\"#f0f921\"]],\"type\":\"surface\"}],\"table\":[{\"cells\":{\"fill\":{\"color\":\"#EBF0F8\"},\"line\":{\"color\":\"white\"}},\"header\":{\"fill\":{\"color\":\"#C8D4E3\"},\"line\":{\"color\":\"white\"}},\"type\":\"table\"}]},\"layout\":{\"annotationdefaults\":{\"arrowcolor\":\"#2a3f5f\",\"arrowhead\":0,\"arrowwidth\":1},\"autotypenumbers\":\"strict\",\"coloraxis\":{\"colorbar\":{\"outlinewidth\":0,\"ticks\":\"\"}},\"colorscale\":{\"diverging\":[[0,\"#8e0152\"],[0.1,\"#c51b7d\"],[0.2,\"#de77ae\"],[0.3,\"#f1b6da\"],[0.4,\"#fde0ef\"],[0.5,\"#f7f7f7\"],[0.6,\"#e6f5d0\"],[0.7,\"#b8e186\"],[0.8,\"#7fbc41\"],[0.9,\"#4d9221\"],[1,\"#276419\"]],\"sequential\":[[0.0,\"#0d0887\"],[0.1111111111111111,\"#46039f\"],[0.2222222222222222,\"#7201a8\"],[0.3333333333333333,\"#9c179e\"],[0.4444444444444444,\"#bd3786\"],[0.5555555555555556,\"#d8576b\"],[0.6666666666666666,\"#ed7953\"],[0.7777777777777778,\"#fb9f3a\"],[0.8888888888888888,\"#fdca26\"],[1.0,\"#f0f921\"]],\"sequentialminus\":[[0.0,\"#0d0887\"],[0.1111111111111111,\"#46039f\"],[0.2222222222222222,\"#7201a8\"],[0.3333333333333333,\"#9c179e\"],[0.4444444444444444,\"#bd3786\"],[0.5555555555555556,\"#d8576b\"],[0.6666666666666666,\"#ed7953\"],[0.7777777777777778,\"#fb9f3a\"],[0.8888888888888888,\"#fdca26\"],[1.0,\"#f0f921\"]]},\"colorway\":[\"#636efa\",\"#EF553B\",\"#00cc96\",\"#ab63fa\",\"#FFA15A\",\"#19d3f3\",\"#FF6692\",\"#B6E880\",\"#FF97FF\",\"#FECB52\"],\"font\":{\"color\":\"#2a3f5f\"},\"geo\":{\"bgcolor\":\"white\",\"lakecolor\":\"white\",\"landcolor\":\"#E5ECF6\",\"showlakes\":true,\"showland\":true,\"subunitcolor\":\"white\"},\"hoverlabel\":{\"align\":\"left\"},\"hovermode\":\"closest\",\"mapbox\":{\"style\":\"light\"},\"paper_bgcolor\":\"white\",\"plot_bgcolor\":\"#E5ECF6\",\"polar\":{\"angularaxis\":{\"gridcolor\":\"white\",\"linecolor\":\"white\",\"ticks\":\"\"},\"bgcolor\":\"#E5ECF6\",\"radialaxis\":{\"gridcolor\":\"white\",\"linecolor\":\"white\",\"ticks\":\"\"}},\"scene\":{\"xaxis\":{\"backgroundcolor\":\"#E5ECF6\",\"gridcolor\":\"white\",\"gridwidth\":2,\"linecolor\":\"white\",\"showbackground\":true,\"ticks\":\"\",\"zerolinecolor\":\"white\"},\"yaxis\":{\"backgroundcolor\":\"#E5ECF6\",\"gridcolor\":\"white\",\"gridwidth\":2,\"linecolor\":\"white\",\"showbackground\":true,\"ticks\":\"\",\"zerolinecolor\":\"white\"},\"zaxis\":{\"backgroundcolor\":\"#E5ECF6\",\"gridcolor\":\"white\",\"gridwidth\":2,\"linecolor\":\"white\",\"showbackground\":true,\"ticks\":\"\",\"zerolinecolor\":\"white\"}},\"shapedefaults\":{\"line\":{\"color\":\"#2a3f5f\"}},\"ternary\":{\"aaxis\":{\"gridcolor\":\"white\",\"linecolor\":\"white\",\"ticks\":\"\"},\"baxis\":{\"gridcolor\":\"white\",\"linecolor\":\"white\",\"ticks\":\"\"},\"bgcolor\":\"#E5ECF6\",\"caxis\":{\"gridcolor\":\"white\",\"linecolor\":\"white\",\"ticks\":\"\"}},\"title\":{\"x\":0.05},\"xaxis\":{\"automargin\":true,\"gridcolor\":\"white\",\"linecolor\":\"white\",\"ticks\":\"\",\"title\":{\"standoff\":15},\"zerolinecolor\":\"white\",\"zerolinewidth\":2},\"yaxis\":{\"automargin\":true,\"gridcolor\":\"white\",\"linecolor\":\"white\",\"ticks\":\"\",\"title\":{\"standoff\":15},\"zerolinecolor\":\"white\",\"zerolinewidth\":2}}},\"title\":{\"text\":\"TYPE of variant through COVERAGE\"},\"width\":1000,\"xaxis\":{\"anchor\":\"y\",\"domain\":[0.0,0.98],\"title\":{\"text\":\"Coverage\"}},\"xaxis2\":{\"anchor\":\"y2\",\"domain\":[0.0,0.98],\"matches\":\"x\",\"showticklabels\":false},\"xaxis3\":{\"anchor\":\"y3\",\"domain\":[0.0,0.98],\"matches\":\"x\",\"showticklabels\":false},\"xaxis4\":{\"anchor\":\"y4\",\"domain\":[0.0,0.98],\"matches\":\"x\",\"showticklabels\":false},\"xaxis5\":{\"anchor\":\"y5\",\"domain\":[0.0,0.98],\"matches\":\"x\",\"showticklabels\":false},\"xaxis6\":{\"anchor\":\"y6\",\"domain\":[0.0,0.98],\"matches\":\"x\",\"showticklabels\":false},\"yaxis\":{\"anchor\":\"x\",\"domain\":[0.0,0.14166666666666666],\"title\":{\"text\":\"value\"}},\"yaxis2\":{\"anchor\":\"x2\",\"domain\":[0.17166666666666666,0.31333333333333335],\"title\":{\"text\":\"value\"}},\"yaxis3\":{\"anchor\":\"x3\",\"domain\":[0.3433333333333333,0.485],\"title\":{\"text\":\"value\"}},\"yaxis4\":{\"anchor\":\"x4\",\"domain\":[0.515,0.6566666666666667],\"title\":{\"text\":\"value\"}},\"yaxis5\":{\"anchor\":\"x5\",\"domain\":[0.6866666666666666,0.8283333333333334],\"title\":{\"text\":\"value\"}},\"yaxis6\":{\"anchor\":\"x6\",\"domain\":[0.8583333333333333,1.0],\"title\":{\"text\":\"value\"}}},                        {\"responsive\": true}                    ).then(function(){\n",
       "                            \n",
       "var gd = document.getElementById('c6e9ec79-70f6-45b2-84e6-7b1cdb753efe');\n",
       "var x = new MutationObserver(function (mutations, observer) {{\n",
       "        var display = window.getComputedStyle(gd).display;\n",
       "        if (!display || display === 'none') {{\n",
       "            console.log([gd, 'removed!']);\n",
       "            Plotly.purge(gd);\n",
       "            observer.disconnect();\n",
       "        }}\n",
       "}});\n",
       "\n",
       "// Listen for the removal of the full notebook cells\n",
       "var notebookContainer = gd.closest('#notebook-container');\n",
       "if (notebookContainer) {{\n",
       "    x.observe(notebookContainer, {childList: true});\n",
       "}}\n",
       "\n",
       "// Listen for the clearing of the current output cell\n",
       "var outputEl = gd.closest('.output');\n",
       "if (outputEl) {{\n",
       "    x.observe(outputEl, {childList: true});\n",
       "}}\n",
       "\n",
       "                        })                };                });            </script>        </div>"
      ]
     },
     "metadata": {},
     "output_type": "display_data"
    }
   ],
   "source": [
    "fig = px.scatter(df_cov, y=\"value\", x=\"Coverage\", color = \"Method\",facet_row=\"variable\",\n",
    "                 width=1000, height=1000, title=\"TYPE of variant through COVERAGE\")\n",
    "\n",
    "fig.for_each_annotation(lambda a: a.update(text=a.text.split(\"=\")[-1]))\n",
    "fig.update_yaxes(matches=None)\n",
    "fig.update_traces(mode='lines+markers', marker_line_width=2, marker_size=5)\n",
    "fig.show()"
   ]
  },
  {
   "cell_type": "markdown",
   "id": "f8badc83",
   "metadata": {},
   "source": [
    "# Insight on IMPACT"
   ]
  },
  {
   "cell_type": "code",
   "execution_count": 262,
   "id": "5d0ea2a6",
   "metadata": {},
   "outputs": [],
   "source": [
    "df_age = dfsort_age.melt(id_vars=['Sample','Method'], value_vars=['PCT_IMPACT_Modifier','PCT_IMPACT_Low','PCT_IMPACT_Moderate','PCT_IMPACT_HIGH'])\n",
    "df_cov = dfsort_cov.melt(id_vars=['Sample','Method','Coverage'], value_vars=['PCT_IMPACT_Modifier','PCT_IMPACT_Low','PCT_IMPACT_Moderate','PCT_IMPACT_HIGH'])"
   ]
  },
  {
   "cell_type": "code",
   "execution_count": 265,
   "id": "7898d3af",
   "metadata": {},
   "outputs": [
    {
     "data": {
      "application/vnd.plotly.v1+json": {
       "config": {
        "plotlyServerURL": "https://plot.ly"
       },
       "data": [
        {
         "hovertemplate": "Method=BWA1-bam<br>variable=PCT_IMPACT_Modifier<br>Sample=%{x}<br>value=%{y}<extra></extra>",
         "legendgroup": "BWA1-bam",
         "marker": {
          "color": "#636efa",
          "line": {
           "width": 2
          },
          "size": 5,
          "symbol": "circle"
         },
         "mode": "lines+markers",
         "name": "BWA1-bam",
         "orientation": "v",
         "showlegend": true,
         "type": "scatter",
         "x": [
          "SZ43",
          "SZ45",
          "SZ4",
          "SZ15",
          "BR2",
          "ATP016",
          "NG10",
          "PB675",
          "BOT2016",
          "JP14",
          "NE1",
          "Stutgart",
          "Loschbour",
          "SF12",
          "KK1",
          "Sunghir3",
          "UstIshim"
         ],
         "xaxis": "x4",
         "y": [
          99.2007448148482,
          99.18376813869801,
          98.86062168641054,
          99.30661037726485,
          99.32838953317972,
          98.96721612894649,
          99.37454958271701,
          99.28011028251693,
          99.30137985725615,
          99.29895337605676,
          99.22476117515404,
          99.34207697953046,
          99.38714893784766,
          99.42887086259974,
          98.92179501490133,
          99.29289812838095,
          99.40196914925194
         ],
         "yaxis": "y4"
        },
        {
         "hovertemplate": "Method=BWA1-bam<br>variable=PCT_IMPACT_Low<br>Sample=%{x}<br>value=%{y}<extra></extra>",
         "legendgroup": "BWA1-bam",
         "marker": {
          "color": "#636efa",
          "line": {
           "width": 2
          },
          "size": 5,
          "symbol": "circle"
         },
         "mode": "lines+markers",
         "name": "BWA1-bam",
         "orientation": "v",
         "showlegend": false,
         "type": "scatter",
         "x": [
          "SZ43",
          "SZ45",
          "SZ4",
          "SZ15",
          "BR2",
          "ATP016",
          "NG10",
          "PB675",
          "BOT2016",
          "JP14",
          "NE1",
          "Stutgart",
          "Loschbour",
          "SF12",
          "KK1",
          "Sunghir3",
          "UstIshim"
         ],
         "xaxis": "x3",
         "y": [
          0.41014369963787584,
          0.4074195823485049,
          0.5046269671039936,
          0.37098149929820157,
          0.3647163764361296,
          0.47785098345018967,
          0.3503588217143797,
          0.38470495254832,
          0.37323336457357076,
          0.3697851155912543,
          0.4111232635508849,
          0.3648216633877938,
          0.34845915283184925,
          0.3411833102363877,
          0.4770283861780298,
          0.39208108321640717,
          0.35288338949071096
         ],
         "yaxis": "y3"
        },
        {
         "hovertemplate": "Method=BWA1-bam<br>variable=PCT_IMPACT_Moderate<br>Sample=%{x}<br>value=%{y}<extra></extra>",
         "legendgroup": "BWA1-bam",
         "marker": {
          "color": "#636efa",
          "line": {
           "width": 2
          },
          "size": 5,
          "symbol": "circle"
         },
         "mode": "lines+markers",
         "name": "BWA1-bam",
         "orientation": "v",
         "showlegend": false,
         "type": "scatter",
         "x": [
          "SZ43",
          "SZ45",
          "SZ4",
          "SZ15",
          "BR2",
          "ATP016",
          "NG10",
          "PB675",
          "BOT2016",
          "JP14",
          "NE1",
          "Stutgart",
          "Loschbour",
          "SF12",
          "KK1",
          "Sunghir3",
          "UstIshim"
         ],
         "xaxis": "x2",
         "y": [
          0.3601060316689133,
          0.375481582145653,
          0.5850246314072236,
          0.29588361144890163,
          0.27622950324068934,
          0.48249848631708514,
          0.2531818326332384,
          0.31304017399487516,
          0.2889308629514815,
          0.30464071628093004,
          0.32578629964338257,
          0.27419586579167937,
          0.24700287279737682,
          0.21464035533877313,
          0.5257556268411648,
          0.2939471876779884,
          0.2289346758240537
         ],
         "yaxis": "y2"
        },
        {
         "hovertemplate": "Method=BWA1-bam<br>variable=PCT_IMPACT_HIGH<br>Sample=%{x}<br>value=%{y}<extra></extra>",
         "legendgroup": "BWA1-bam",
         "marker": {
          "color": "#636efa",
          "line": {
           "width": 2
          },
          "size": 5,
          "symbol": "circle"
         },
         "mode": "lines+markers",
         "name": "BWA1-bam",
         "orientation": "v",
         "showlegend": false,
         "type": "scatter",
         "x": [
          "SZ43",
          "SZ45",
          "SZ4",
          "SZ15",
          "BR2",
          "ATP016",
          "NG10",
          "PB675",
          "BOT2016",
          "JP14",
          "NE1",
          "Stutgart",
          "Loschbour",
          "SF12",
          "KK1",
          "Sunghir3",
          "UstIshim"
         ],
         "xaxis": "x",
         "y": [
          0.02900545384500171,
          0.033330696807833605,
          0.04972671507823944,
          0.02652451198805254,
          0.03066458714346769,
          0.07243440128623237,
          0.021909762935378115,
          0.022144590939872238,
          0.036455915218801815,
          0.026620792071051568,
          0.03832926165169175,
          0.018905491290059983,
          0.017389036523118205,
          0.015305471825095672,
          0.0754209720794737,
          0.021073600724653106,
          0.0162127854332962
         ],
         "yaxis": "y"
        },
        {
         "hovertemplate": "Method=VG-gam<br>variable=PCT_IMPACT_Modifier<br>Sample=%{x}<br>value=%{y}<extra></extra>",
         "legendgroup": "VG-gam",
         "marker": {
          "color": "#EF553B",
          "line": {
           "width": 2
          },
          "size": 5,
          "symbol": "circle"
         },
         "mode": "lines+markers",
         "name": "VG-gam",
         "orientation": "v",
         "showlegend": true,
         "type": "scatter",
         "x": [
          "SZ43",
          "SZ45",
          "SZ4",
          "SZ15",
          "BR2",
          "ATP016",
          "NG10",
          "PB675",
          "BOT2016",
          "JP14",
          "NE1",
          "Stutgart",
          "Loschbour",
          "SF12",
          "KK1",
          "Sunghir3",
          "UstIshim"
         ],
         "xaxis": "x4",
         "y": [
          99.55710335573046,
          99.5561736058205,
          99.53031576434677,
          99.56647700368498,
          99.51292232815058,
          99.41596110566128,
          99.53423886616666,
          99.54014300603968,
          99.41198408743706,
          99.53025254587725,
          99.50580692620579,
          99.47809720566806,
          99.4944303538334,
          99.54719860690001,
          99.49201121080962,
          99.41060359268145,
          99.54238596717637
         ],
         "yaxis": "y4"
        },
        {
         "hovertemplate": "Method=VG-gam<br>variable=PCT_IMPACT_Low<br>Sample=%{x}<br>value=%{y}<extra></extra>",
         "legendgroup": "VG-gam",
         "marker": {
          "color": "#EF553B",
          "line": {
           "width": 2
          },
          "size": 5,
          "symbol": "circle"
         },
         "mode": "lines+markers",
         "name": "VG-gam",
         "orientation": "v",
         "showlegend": false,
         "type": "scatter",
         "x": [
          "SZ43",
          "SZ45",
          "SZ4",
          "SZ15",
          "BR2",
          "ATP016",
          "NG10",
          "PB675",
          "BOT2016",
          "JP14",
          "NE1",
          "Stutgart",
          "Loschbour",
          "SF12",
          "KK1",
          "Sunghir3",
          "UstIshim"
         ],
         "xaxis": "x3",
         "y": [
          0.26000242526267736,
          0.260192701357112,
          0.27347628010405295,
          0.25320307112765883,
          0.28976904584591495,
          0.33901194075879454,
          0.2750883044803114,
          0.26962542605111905,
          0.3479257118853279,
          0.27697947176647775,
          0.2894302458296774,
          0.30771668002964114,
          0.2987817752162446,
          0.26871180436812736,
          0.2966211093312282,
          0.3478657541745663,
          0.2720805181817353
         ],
         "yaxis": "y3"
        },
        {
         "hovertemplate": "Method=VG-gam<br>variable=PCT_IMPACT_Moderate<br>Sample=%{x}<br>value=%{y}<extra></extra>",
         "legendgroup": "VG-gam",
         "marker": {
          "color": "#EF553B",
          "line": {
           "width": 2
          },
          "size": 5,
          "symbol": "circle"
         },
         "mode": "lines+markers",
         "name": "VG-gam",
         "orientation": "v",
         "showlegend": false,
         "type": "scatter",
         "x": [
          "SZ43",
          "SZ45",
          "SZ4",
          "SZ15",
          "BR2",
          "ATP016",
          "NG10",
          "PB675",
          "BOT2016",
          "JP14",
          "NE1",
          "Stutgart",
          "Loschbour",
          "SF12",
          "KK1",
          "Sunghir3",
          "UstIshim"
         ],
         "xaxis": "x2",
         "y": [
          0.1743873063477508,
          0.17502994339803452,
          0.18731203365840032,
          0.17150345241841874,
          0.18758724496866222,
          0.23288016057489255,
          0.18197801928355087,
          0.18144633501743415,
          0.22838920770758778,
          0.18323318964742738,
          0.19470277462215993,
          0.20445826419464785,
          0.19748577228252376,
          0.17533667403803058,
          0.20199454436914507,
          0.23016822008033877,
          0.17658511050273948
         ],
         "yaxis": "y2"
        },
        {
         "hovertemplate": "Method=VG-gam<br>variable=PCT_IMPACT_HIGH<br>Sample=%{x}<br>value=%{y}<extra></extra>",
         "legendgroup": "VG-gam",
         "marker": {
          "color": "#EF553B",
          "line": {
           "width": 2
          },
          "size": 5,
          "symbol": "circle"
         },
         "mode": "lines+markers",
         "name": "VG-gam",
         "orientation": "v",
         "showlegend": false,
         "type": "scatter",
         "x": [
          "SZ43",
          "SZ45",
          "SZ4",
          "SZ15",
          "BR2",
          "ATP016",
          "NG10",
          "PB675",
          "BOT2016",
          "JP14",
          "NE1",
          "Stutgart",
          "Loschbour",
          "SF12",
          "KK1",
          "Sunghir3",
          "UstIshim"
         ],
         "xaxis": "x",
         "y": [
          0.008506912659105026,
          0.008603749424349542,
          0.008895921890784208,
          0.008816472768947278,
          0.009721381034841011,
          0.012146793005028729,
          0.008694810069482663,
          0.00878523289176257,
          0.0117009929700198,
          0.009534792708851625,
          0.010060053342369445,
          0.009727850107646856,
          0.009302098667839096,
          0.008752914693825721,
          0.009373135490002016,
          0.011362433063636134,
          0.008948404139154206
         ],
         "yaxis": "y"
        },
        {
         "hovertemplate": "Method=VG-bam<br>variable=PCT_IMPACT_Modifier<br>Sample=%{x}<br>value=%{y}<extra></extra>",
         "legendgroup": "VG-bam",
         "marker": {
          "color": "#00cc96",
          "line": {
           "width": 2
          },
          "size": 5,
          "symbol": "circle"
         },
         "mode": "lines+markers",
         "name": "VG-bam",
         "orientation": "v",
         "showlegend": true,
         "type": "scatter",
         "x": [
          "SZ43",
          "SZ45",
          "SZ4",
          "SZ15",
          "BR2",
          "ATP016",
          "NG10",
          "PB675",
          "BOT2016",
          "JP14",
          "NE1",
          "Stutgart",
          "Loschbour",
          "SF12",
          "KK1",
          "Sunghir3",
          "UstIshim"
         ],
         "xaxis": "x4",
         "y": [
          99.1594564235961,
          99.15037152009788,
          98.83280658180567,
          99.12368982611544,
          99.34172143982553,
          99.04851718501487,
          98.91813439744062,
          99.16780715309153,
          99.31895587127376,
          99.29084034024721,
          99.25990320835454,
          99.32910679376707,
          99.37980424253148,
          99.4004947744047,
          99.09307377063949,
          99.29938003084632,
          99.40442052976758
         ],
         "yaxis": "y4"
        },
        {
         "hovertemplate": "Method=VG-bam<br>variable=PCT_IMPACT_Low<br>Sample=%{x}<br>value=%{y}<extra></extra>",
         "legendgroup": "VG-bam",
         "marker": {
          "color": "#00cc96",
          "line": {
           "width": 2
          },
          "size": 5,
          "symbol": "circle"
         },
         "mode": "lines+markers",
         "name": "VG-bam",
         "orientation": "v",
         "showlegend": false,
         "type": "scatter",
         "x": [
          "SZ43",
          "SZ45",
          "SZ4",
          "SZ15",
          "BR2",
          "ATP016",
          "NG10",
          "PB675",
          "BOT2016",
          "JP14",
          "NE1",
          "Stutgart",
          "Loschbour",
          "SF12",
          "KK1",
          "Sunghir3",
          "UstIshim"
         ],
         "xaxis": "x3",
         "y": [
          0.43095054308580344,
          0.4286273420640416,
          0.540058217456478,
          0.4508784266551223,
          0.3521452197253721,
          0.44471882662552925,
          0.48764652803577646,
          0.41666970468613995,
          0.362165156182435,
          0.3677787489954517,
          0.3897093831730267,
          0.36132337597116926,
          0.3401502233725647,
          0.34106051016946065,
          0.4266872781859513,
          0.3856672903251505,
          0.3425556334030255
         ],
         "yaxis": "y3"
        },
        {
         "hovertemplate": "Method=VG-bam<br>variable=PCT_IMPACT_Moderate<br>Sample=%{x}<br>value=%{y}<extra></extra>",
         "legendgroup": "VG-bam",
         "marker": {
          "color": "#00cc96",
          "line": {
           "width": 2
          },
          "size": 5,
          "symbol": "circle"
         },
         "mode": "lines+markers",
         "name": "VG-bam",
         "orientation": "v",
         "showlegend": false,
         "type": "scatter",
         "x": [
          "SZ43",
          "SZ45",
          "SZ4",
          "SZ15",
          "BR2",
          "ATP016",
          "NG10",
          "PB675",
          "BOT2016",
          "JP14",
          "NE1",
          "Stutgart",
          "Loschbour",
          "SF12",
          "KK1",
          "Sunghir3",
          "UstIshim"
         ],
         "xaxis": "x2",
         "y": [
          0.38123488299179376,
          0.3907064092048915,
          0.5787040107557601,
          0.3965671815430664,
          0.2757316598359413,
          0.4419362877155417,
          0.5401388380768193,
          0.3862691018837075,
          0.28319350395192605,
          0.31331030310108987,
          0.3153073692271477,
          0.28801837188277685,
          0.2595147243925591,
          0.23995197804906157,
          0.4282861971713609,
          0.29341198808890195,
          0.2347406965839373
         ],
         "yaxis": "y2"
        },
        {
         "hovertemplate": "Method=VG-bam<br>variable=PCT_IMPACT_HIGH<br>Sample=%{x}<br>value=%{y}<extra></extra>",
         "legendgroup": "VG-bam",
         "marker": {
          "color": "#00cc96",
          "line": {
           "width": 2
          },
          "size": 5,
          "symbol": "circle"
         },
         "mode": "lines+markers",
         "name": "VG-bam",
         "orientation": "v",
         "showlegend": false,
         "type": "scatter",
         "x": [
          "SZ43",
          "SZ45",
          "SZ4",
          "SZ15",
          "BR2",
          "ATP016",
          "NG10",
          "PB675",
          "BOT2016",
          "JP14",
          "NE1",
          "Stutgart",
          "Loschbour",
          "SF12",
          "KK1",
          "Sunghir3",
          "UstIshim"
         ],
         "xaxis": "x",
         "y": [
          0.02835815032631041,
          0.030294728633182517,
          0.0484311899820849,
          0.028864565686367256,
          0.03040168061315211,
          0.06482770064406138,
          0.05408023644677875,
          0.029254040338627763,
          0.03568546859188395,
          0.028070607656247894,
          0.035080039245277674,
          0.021551458378988562,
          0.02053080970339625,
          0.018492737376767404,
          0.05195275400319499,
          0.021540690739619568,
          0.018283140245459805
         ],
         "yaxis": "y"
        }
       ],
       "layout": {
        "annotations": [
         {
          "font": {},
          "showarrow": false,
          "text": "HIGH",
          "textangle": 90,
          "x": 0.98,
          "xanchor": "left",
          "xref": "paper",
          "y": 0.11375,
          "yanchor": "middle",
          "yref": "paper"
         },
         {
          "font": {},
          "showarrow": false,
          "text": "Moderate",
          "textangle": 90,
          "x": 0.98,
          "xanchor": "left",
          "xref": "paper",
          "y": 0.37124999999999997,
          "yanchor": "middle",
          "yref": "paper"
         },
         {
          "font": {},
          "showarrow": false,
          "text": "Low",
          "textangle": 90,
          "x": 0.98,
          "xanchor": "left",
          "xref": "paper",
          "y": 0.62875,
          "yanchor": "middle",
          "yref": "paper"
         },
         {
          "font": {},
          "showarrow": false,
          "text": "Modifier",
          "textangle": 90,
          "x": 0.98,
          "xanchor": "left",
          "xref": "paper",
          "y": 0.88625,
          "yanchor": "middle",
          "yref": "paper"
         }
        ],
        "height": 1000,
        "legend": {
         "title": {
          "text": "Method"
         },
         "tracegroupgap": 0
        },
        "template": {
         "data": {
          "bar": [
           {
            "error_x": {
             "color": "#2a3f5f"
            },
            "error_y": {
             "color": "#2a3f5f"
            },
            "marker": {
             "line": {
              "color": "#E5ECF6",
              "width": 0.5
             },
             "pattern": {
              "fillmode": "overlay",
              "size": 10,
              "solidity": 0.2
             }
            },
            "type": "bar"
           }
          ],
          "barpolar": [
           {
            "marker": {
             "line": {
              "color": "#E5ECF6",
              "width": 0.5
             },
             "pattern": {
              "fillmode": "overlay",
              "size": 10,
              "solidity": 0.2
             }
            },
            "type": "barpolar"
           }
          ],
          "carpet": [
           {
            "aaxis": {
             "endlinecolor": "#2a3f5f",
             "gridcolor": "white",
             "linecolor": "white",
             "minorgridcolor": "white",
             "startlinecolor": "#2a3f5f"
            },
            "baxis": {
             "endlinecolor": "#2a3f5f",
             "gridcolor": "white",
             "linecolor": "white",
             "minorgridcolor": "white",
             "startlinecolor": "#2a3f5f"
            },
            "type": "carpet"
           }
          ],
          "choropleth": [
           {
            "colorbar": {
             "outlinewidth": 0,
             "ticks": ""
            },
            "type": "choropleth"
           }
          ],
          "contour": [
           {
            "colorbar": {
             "outlinewidth": 0,
             "ticks": ""
            },
            "colorscale": [
             [
              0,
              "#0d0887"
             ],
             [
              0.1111111111111111,
              "#46039f"
             ],
             [
              0.2222222222222222,
              "#7201a8"
             ],
             [
              0.3333333333333333,
              "#9c179e"
             ],
             [
              0.4444444444444444,
              "#bd3786"
             ],
             [
              0.5555555555555556,
              "#d8576b"
             ],
             [
              0.6666666666666666,
              "#ed7953"
             ],
             [
              0.7777777777777778,
              "#fb9f3a"
             ],
             [
              0.8888888888888888,
              "#fdca26"
             ],
             [
              1,
              "#f0f921"
             ]
            ],
            "type": "contour"
           }
          ],
          "contourcarpet": [
           {
            "colorbar": {
             "outlinewidth": 0,
             "ticks": ""
            },
            "type": "contourcarpet"
           }
          ],
          "heatmap": [
           {
            "colorbar": {
             "outlinewidth": 0,
             "ticks": ""
            },
            "colorscale": [
             [
              0,
              "#0d0887"
             ],
             [
              0.1111111111111111,
              "#46039f"
             ],
             [
              0.2222222222222222,
              "#7201a8"
             ],
             [
              0.3333333333333333,
              "#9c179e"
             ],
             [
              0.4444444444444444,
              "#bd3786"
             ],
             [
              0.5555555555555556,
              "#d8576b"
             ],
             [
              0.6666666666666666,
              "#ed7953"
             ],
             [
              0.7777777777777778,
              "#fb9f3a"
             ],
             [
              0.8888888888888888,
              "#fdca26"
             ],
             [
              1,
              "#f0f921"
             ]
            ],
            "type": "heatmap"
           }
          ],
          "heatmapgl": [
           {
            "colorbar": {
             "outlinewidth": 0,
             "ticks": ""
            },
            "colorscale": [
             [
              0,
              "#0d0887"
             ],
             [
              0.1111111111111111,
              "#46039f"
             ],
             [
              0.2222222222222222,
              "#7201a8"
             ],
             [
              0.3333333333333333,
              "#9c179e"
             ],
             [
              0.4444444444444444,
              "#bd3786"
             ],
             [
              0.5555555555555556,
              "#d8576b"
             ],
             [
              0.6666666666666666,
              "#ed7953"
             ],
             [
              0.7777777777777778,
              "#fb9f3a"
             ],
             [
              0.8888888888888888,
              "#fdca26"
             ],
             [
              1,
              "#f0f921"
             ]
            ],
            "type": "heatmapgl"
           }
          ],
          "histogram": [
           {
            "marker": {
             "pattern": {
              "fillmode": "overlay",
              "size": 10,
              "solidity": 0.2
             }
            },
            "type": "histogram"
           }
          ],
          "histogram2d": [
           {
            "colorbar": {
             "outlinewidth": 0,
             "ticks": ""
            },
            "colorscale": [
             [
              0,
              "#0d0887"
             ],
             [
              0.1111111111111111,
              "#46039f"
             ],
             [
              0.2222222222222222,
              "#7201a8"
             ],
             [
              0.3333333333333333,
              "#9c179e"
             ],
             [
              0.4444444444444444,
              "#bd3786"
             ],
             [
              0.5555555555555556,
              "#d8576b"
             ],
             [
              0.6666666666666666,
              "#ed7953"
             ],
             [
              0.7777777777777778,
              "#fb9f3a"
             ],
             [
              0.8888888888888888,
              "#fdca26"
             ],
             [
              1,
              "#f0f921"
             ]
            ],
            "type": "histogram2d"
           }
          ],
          "histogram2dcontour": [
           {
            "colorbar": {
             "outlinewidth": 0,
             "ticks": ""
            },
            "colorscale": [
             [
              0,
              "#0d0887"
             ],
             [
              0.1111111111111111,
              "#46039f"
             ],
             [
              0.2222222222222222,
              "#7201a8"
             ],
             [
              0.3333333333333333,
              "#9c179e"
             ],
             [
              0.4444444444444444,
              "#bd3786"
             ],
             [
              0.5555555555555556,
              "#d8576b"
             ],
             [
              0.6666666666666666,
              "#ed7953"
             ],
             [
              0.7777777777777778,
              "#fb9f3a"
             ],
             [
              0.8888888888888888,
              "#fdca26"
             ],
             [
              1,
              "#f0f921"
             ]
            ],
            "type": "histogram2dcontour"
           }
          ],
          "mesh3d": [
           {
            "colorbar": {
             "outlinewidth": 0,
             "ticks": ""
            },
            "type": "mesh3d"
           }
          ],
          "parcoords": [
           {
            "line": {
             "colorbar": {
              "outlinewidth": 0,
              "ticks": ""
             }
            },
            "type": "parcoords"
           }
          ],
          "pie": [
           {
            "automargin": true,
            "type": "pie"
           }
          ],
          "scatter": [
           {
            "marker": {
             "colorbar": {
              "outlinewidth": 0,
              "ticks": ""
             }
            },
            "type": "scatter"
           }
          ],
          "scatter3d": [
           {
            "line": {
             "colorbar": {
              "outlinewidth": 0,
              "ticks": ""
             }
            },
            "marker": {
             "colorbar": {
              "outlinewidth": 0,
              "ticks": ""
             }
            },
            "type": "scatter3d"
           }
          ],
          "scattercarpet": [
           {
            "marker": {
             "colorbar": {
              "outlinewidth": 0,
              "ticks": ""
             }
            },
            "type": "scattercarpet"
           }
          ],
          "scattergeo": [
           {
            "marker": {
             "colorbar": {
              "outlinewidth": 0,
              "ticks": ""
             }
            },
            "type": "scattergeo"
           }
          ],
          "scattergl": [
           {
            "marker": {
             "colorbar": {
              "outlinewidth": 0,
              "ticks": ""
             }
            },
            "type": "scattergl"
           }
          ],
          "scattermapbox": [
           {
            "marker": {
             "colorbar": {
              "outlinewidth": 0,
              "ticks": ""
             }
            },
            "type": "scattermapbox"
           }
          ],
          "scatterpolar": [
           {
            "marker": {
             "colorbar": {
              "outlinewidth": 0,
              "ticks": ""
             }
            },
            "type": "scatterpolar"
           }
          ],
          "scatterpolargl": [
           {
            "marker": {
             "colorbar": {
              "outlinewidth": 0,
              "ticks": ""
             }
            },
            "type": "scatterpolargl"
           }
          ],
          "scatterternary": [
           {
            "marker": {
             "colorbar": {
              "outlinewidth": 0,
              "ticks": ""
             }
            },
            "type": "scatterternary"
           }
          ],
          "surface": [
           {
            "colorbar": {
             "outlinewidth": 0,
             "ticks": ""
            },
            "colorscale": [
             [
              0,
              "#0d0887"
             ],
             [
              0.1111111111111111,
              "#46039f"
             ],
             [
              0.2222222222222222,
              "#7201a8"
             ],
             [
              0.3333333333333333,
              "#9c179e"
             ],
             [
              0.4444444444444444,
              "#bd3786"
             ],
             [
              0.5555555555555556,
              "#d8576b"
             ],
             [
              0.6666666666666666,
              "#ed7953"
             ],
             [
              0.7777777777777778,
              "#fb9f3a"
             ],
             [
              0.8888888888888888,
              "#fdca26"
             ],
             [
              1,
              "#f0f921"
             ]
            ],
            "type": "surface"
           }
          ],
          "table": [
           {
            "cells": {
             "fill": {
              "color": "#EBF0F8"
             },
             "line": {
              "color": "white"
             }
            },
            "header": {
             "fill": {
              "color": "#C8D4E3"
             },
             "line": {
              "color": "white"
             }
            },
            "type": "table"
           }
          ]
         },
         "layout": {
          "annotationdefaults": {
           "arrowcolor": "#2a3f5f",
           "arrowhead": 0,
           "arrowwidth": 1
          },
          "autotypenumbers": "strict",
          "coloraxis": {
           "colorbar": {
            "outlinewidth": 0,
            "ticks": ""
           }
          },
          "colorscale": {
           "diverging": [
            [
             0,
             "#8e0152"
            ],
            [
             0.1,
             "#c51b7d"
            ],
            [
             0.2,
             "#de77ae"
            ],
            [
             0.3,
             "#f1b6da"
            ],
            [
             0.4,
             "#fde0ef"
            ],
            [
             0.5,
             "#f7f7f7"
            ],
            [
             0.6,
             "#e6f5d0"
            ],
            [
             0.7,
             "#b8e186"
            ],
            [
             0.8,
             "#7fbc41"
            ],
            [
             0.9,
             "#4d9221"
            ],
            [
             1,
             "#276419"
            ]
           ],
           "sequential": [
            [
             0,
             "#0d0887"
            ],
            [
             0.1111111111111111,
             "#46039f"
            ],
            [
             0.2222222222222222,
             "#7201a8"
            ],
            [
             0.3333333333333333,
             "#9c179e"
            ],
            [
             0.4444444444444444,
             "#bd3786"
            ],
            [
             0.5555555555555556,
             "#d8576b"
            ],
            [
             0.6666666666666666,
             "#ed7953"
            ],
            [
             0.7777777777777778,
             "#fb9f3a"
            ],
            [
             0.8888888888888888,
             "#fdca26"
            ],
            [
             1,
             "#f0f921"
            ]
           ],
           "sequentialminus": [
            [
             0,
             "#0d0887"
            ],
            [
             0.1111111111111111,
             "#46039f"
            ],
            [
             0.2222222222222222,
             "#7201a8"
            ],
            [
             0.3333333333333333,
             "#9c179e"
            ],
            [
             0.4444444444444444,
             "#bd3786"
            ],
            [
             0.5555555555555556,
             "#d8576b"
            ],
            [
             0.6666666666666666,
             "#ed7953"
            ],
            [
             0.7777777777777778,
             "#fb9f3a"
            ],
            [
             0.8888888888888888,
             "#fdca26"
            ],
            [
             1,
             "#f0f921"
            ]
           ]
          },
          "colorway": [
           "#636efa",
           "#EF553B",
           "#00cc96",
           "#ab63fa",
           "#FFA15A",
           "#19d3f3",
           "#FF6692",
           "#B6E880",
           "#FF97FF",
           "#FECB52"
          ],
          "font": {
           "color": "#2a3f5f"
          },
          "geo": {
           "bgcolor": "white",
           "lakecolor": "white",
           "landcolor": "#E5ECF6",
           "showlakes": true,
           "showland": true,
           "subunitcolor": "white"
          },
          "hoverlabel": {
           "align": "left"
          },
          "hovermode": "closest",
          "mapbox": {
           "style": "light"
          },
          "paper_bgcolor": "white",
          "plot_bgcolor": "#E5ECF6",
          "polar": {
           "angularaxis": {
            "gridcolor": "white",
            "linecolor": "white",
            "ticks": ""
           },
           "bgcolor": "#E5ECF6",
           "radialaxis": {
            "gridcolor": "white",
            "linecolor": "white",
            "ticks": ""
           }
          },
          "scene": {
           "xaxis": {
            "backgroundcolor": "#E5ECF6",
            "gridcolor": "white",
            "gridwidth": 2,
            "linecolor": "white",
            "showbackground": true,
            "ticks": "",
            "zerolinecolor": "white"
           },
           "yaxis": {
            "backgroundcolor": "#E5ECF6",
            "gridcolor": "white",
            "gridwidth": 2,
            "linecolor": "white",
            "showbackground": true,
            "ticks": "",
            "zerolinecolor": "white"
           },
           "zaxis": {
            "backgroundcolor": "#E5ECF6",
            "gridcolor": "white",
            "gridwidth": 2,
            "linecolor": "white",
            "showbackground": true,
            "ticks": "",
            "zerolinecolor": "white"
           }
          },
          "shapedefaults": {
           "line": {
            "color": "#2a3f5f"
           }
          },
          "ternary": {
           "aaxis": {
            "gridcolor": "white",
            "linecolor": "white",
            "ticks": ""
           },
           "baxis": {
            "gridcolor": "white",
            "linecolor": "white",
            "ticks": ""
           },
           "bgcolor": "#E5ECF6",
           "caxis": {
            "gridcolor": "white",
            "linecolor": "white",
            "ticks": ""
           }
          },
          "title": {
           "x": 0.05
          },
          "xaxis": {
           "automargin": true,
           "gridcolor": "white",
           "linecolor": "white",
           "ticks": "",
           "title": {
            "standoff": 15
           },
           "zerolinecolor": "white",
           "zerolinewidth": 2
          },
          "yaxis": {
           "automargin": true,
           "gridcolor": "white",
           "linecolor": "white",
           "ticks": "",
           "title": {
            "standoff": 15
           },
           "zerolinecolor": "white",
           "zerolinewidth": 2
          }
         }
        },
        "title": {
         "text": "IMPACT through AGE"
        },
        "width": 1000,
        "xaxis": {
         "anchor": "y",
         "domain": [
          0,
          0.98
         ],
         "title": {
          "text": "Sample"
         }
        },
        "xaxis2": {
         "anchor": "y2",
         "domain": [
          0,
          0.98
         ],
         "matches": "x",
         "showticklabels": false
        },
        "xaxis3": {
         "anchor": "y3",
         "domain": [
          0,
          0.98
         ],
         "matches": "x",
         "showticklabels": false
        },
        "xaxis4": {
         "anchor": "y4",
         "domain": [
          0,
          0.98
         ],
         "matches": "x",
         "showticklabels": false
        },
        "yaxis": {
         "anchor": "x",
         "domain": [
          0,
          0.2275
         ],
         "title": {
          "text": "value"
         }
        },
        "yaxis2": {
         "anchor": "x2",
         "domain": [
          0.2575,
          0.485
         ],
         "title": {
          "text": "value"
         }
        },
        "yaxis3": {
         "anchor": "x3",
         "domain": [
          0.515,
          0.7425
         ],
         "title": {
          "text": "value"
         }
        },
        "yaxis4": {
         "anchor": "x4",
         "domain": [
          0.7725,
          1
         ],
         "title": {
          "text": "value"
         }
        }
       }
      },
      "text/html": [
       "<div>                            <div id=\"dcaf3e24-670d-4140-b742-748c0ff66798\" class=\"plotly-graph-div\" style=\"height:1000px; width:1000px;\"></div>            <script type=\"text/javascript\">                require([\"plotly\"], function(Plotly) {                    window.PLOTLYENV=window.PLOTLYENV || {};                                    if (document.getElementById(\"dcaf3e24-670d-4140-b742-748c0ff66798\")) {                    Plotly.newPlot(                        \"dcaf3e24-670d-4140-b742-748c0ff66798\",                        [{\"hovertemplate\":\"Method=BWA1-bam<br>variable=PCT_IMPACT_Modifier<br>Sample=%{x}<br>value=%{y}<extra></extra>\",\"legendgroup\":\"BWA1-bam\",\"marker\":{\"color\":\"#636efa\",\"line\":{\"width\":2},\"size\":5,\"symbol\":\"circle\"},\"mode\":\"lines+markers\",\"name\":\"BWA1-bam\",\"orientation\":\"v\",\"showlegend\":true,\"type\":\"scatter\",\"x\":[\"SZ43\",\"SZ45\",\"SZ4\",\"SZ15\",\"BR2\",\"ATP016\",\"NG10\",\"PB675\",\"BOT2016\",\"JP14\",\"NE1\",\"Stutgart\",\"Loschbour\",\"SF12\",\"KK1\",\"Sunghir3\",\"UstIshim\"],\"xaxis\":\"x4\",\"y\":[99.2007448148482,99.18376813869801,98.86062168641054,99.30661037726485,99.32838953317972,98.96721612894649,99.37454958271701,99.28011028251693,99.30137985725615,99.29895337605676,99.22476117515404,99.34207697953046,99.38714893784766,99.42887086259974,98.92179501490133,99.29289812838095,99.40196914925194],\"yaxis\":\"y4\"},{\"hovertemplate\":\"Method=BWA1-bam<br>variable=PCT_IMPACT_Low<br>Sample=%{x}<br>value=%{y}<extra></extra>\",\"legendgroup\":\"BWA1-bam\",\"marker\":{\"color\":\"#636efa\",\"line\":{\"width\":2},\"size\":5,\"symbol\":\"circle\"},\"mode\":\"lines+markers\",\"name\":\"BWA1-bam\",\"orientation\":\"v\",\"showlegend\":false,\"type\":\"scatter\",\"x\":[\"SZ43\",\"SZ45\",\"SZ4\",\"SZ15\",\"BR2\",\"ATP016\",\"NG10\",\"PB675\",\"BOT2016\",\"JP14\",\"NE1\",\"Stutgart\",\"Loschbour\",\"SF12\",\"KK1\",\"Sunghir3\",\"UstIshim\"],\"xaxis\":\"x3\",\"y\":[0.41014369963787584,0.4074195823485049,0.5046269671039936,0.37098149929820157,0.3647163764361296,0.47785098345018967,0.3503588217143797,0.38470495254832,0.37323336457357076,0.3697851155912543,0.4111232635508849,0.3648216633877938,0.34845915283184925,0.3411833102363877,0.4770283861780298,0.39208108321640717,0.35288338949071096],\"yaxis\":\"y3\"},{\"hovertemplate\":\"Method=BWA1-bam<br>variable=PCT_IMPACT_Moderate<br>Sample=%{x}<br>value=%{y}<extra></extra>\",\"legendgroup\":\"BWA1-bam\",\"marker\":{\"color\":\"#636efa\",\"line\":{\"width\":2},\"size\":5,\"symbol\":\"circle\"},\"mode\":\"lines+markers\",\"name\":\"BWA1-bam\",\"orientation\":\"v\",\"showlegend\":false,\"type\":\"scatter\",\"x\":[\"SZ43\",\"SZ45\",\"SZ4\",\"SZ15\",\"BR2\",\"ATP016\",\"NG10\",\"PB675\",\"BOT2016\",\"JP14\",\"NE1\",\"Stutgart\",\"Loschbour\",\"SF12\",\"KK1\",\"Sunghir3\",\"UstIshim\"],\"xaxis\":\"x2\",\"y\":[0.3601060316689133,0.375481582145653,0.5850246314072236,0.29588361144890163,0.27622950324068934,0.48249848631708514,0.2531818326332384,0.31304017399487516,0.2889308629514815,0.30464071628093004,0.32578629964338257,0.27419586579167937,0.24700287279737682,0.21464035533877313,0.5257556268411648,0.2939471876779884,0.2289346758240537],\"yaxis\":\"y2\"},{\"hovertemplate\":\"Method=BWA1-bam<br>variable=PCT_IMPACT_HIGH<br>Sample=%{x}<br>value=%{y}<extra></extra>\",\"legendgroup\":\"BWA1-bam\",\"marker\":{\"color\":\"#636efa\",\"line\":{\"width\":2},\"size\":5,\"symbol\":\"circle\"},\"mode\":\"lines+markers\",\"name\":\"BWA1-bam\",\"orientation\":\"v\",\"showlegend\":false,\"type\":\"scatter\",\"x\":[\"SZ43\",\"SZ45\",\"SZ4\",\"SZ15\",\"BR2\",\"ATP016\",\"NG10\",\"PB675\",\"BOT2016\",\"JP14\",\"NE1\",\"Stutgart\",\"Loschbour\",\"SF12\",\"KK1\",\"Sunghir3\",\"UstIshim\"],\"xaxis\":\"x\",\"y\":[0.02900545384500171,0.033330696807833605,0.04972671507823944,0.02652451198805254,0.03066458714346769,0.07243440128623237,0.021909762935378115,0.022144590939872238,0.036455915218801815,0.026620792071051568,0.03832926165169175,0.018905491290059983,0.017389036523118205,0.015305471825095672,0.0754209720794737,0.021073600724653106,0.0162127854332962],\"yaxis\":\"y\"},{\"hovertemplate\":\"Method=VG-gam<br>variable=PCT_IMPACT_Modifier<br>Sample=%{x}<br>value=%{y}<extra></extra>\",\"legendgroup\":\"VG-gam\",\"marker\":{\"color\":\"#EF553B\",\"line\":{\"width\":2},\"size\":5,\"symbol\":\"circle\"},\"mode\":\"lines+markers\",\"name\":\"VG-gam\",\"orientation\":\"v\",\"showlegend\":true,\"type\":\"scatter\",\"x\":[\"SZ43\",\"SZ45\",\"SZ4\",\"SZ15\",\"BR2\",\"ATP016\",\"NG10\",\"PB675\",\"BOT2016\",\"JP14\",\"NE1\",\"Stutgart\",\"Loschbour\",\"SF12\",\"KK1\",\"Sunghir3\",\"UstIshim\"],\"xaxis\":\"x4\",\"y\":[99.55710335573046,99.5561736058205,99.53031576434677,99.56647700368498,99.51292232815058,99.41596110566128,99.53423886616666,99.54014300603968,99.41198408743706,99.53025254587725,99.50580692620579,99.47809720566806,99.4944303538334,99.54719860690001,99.49201121080962,99.41060359268145,99.54238596717637],\"yaxis\":\"y4\"},{\"hovertemplate\":\"Method=VG-gam<br>variable=PCT_IMPACT_Low<br>Sample=%{x}<br>value=%{y}<extra></extra>\",\"legendgroup\":\"VG-gam\",\"marker\":{\"color\":\"#EF553B\",\"line\":{\"width\":2},\"size\":5,\"symbol\":\"circle\"},\"mode\":\"lines+markers\",\"name\":\"VG-gam\",\"orientation\":\"v\",\"showlegend\":false,\"type\":\"scatter\",\"x\":[\"SZ43\",\"SZ45\",\"SZ4\",\"SZ15\",\"BR2\",\"ATP016\",\"NG10\",\"PB675\",\"BOT2016\",\"JP14\",\"NE1\",\"Stutgart\",\"Loschbour\",\"SF12\",\"KK1\",\"Sunghir3\",\"UstIshim\"],\"xaxis\":\"x3\",\"y\":[0.26000242526267736,0.260192701357112,0.27347628010405295,0.25320307112765883,0.28976904584591495,0.33901194075879454,0.2750883044803114,0.26962542605111905,0.3479257118853279,0.27697947176647775,0.2894302458296774,0.30771668002964114,0.2987817752162446,0.26871180436812736,0.2966211093312282,0.3478657541745663,0.2720805181817353],\"yaxis\":\"y3\"},{\"hovertemplate\":\"Method=VG-gam<br>variable=PCT_IMPACT_Moderate<br>Sample=%{x}<br>value=%{y}<extra></extra>\",\"legendgroup\":\"VG-gam\",\"marker\":{\"color\":\"#EF553B\",\"line\":{\"width\":2},\"size\":5,\"symbol\":\"circle\"},\"mode\":\"lines+markers\",\"name\":\"VG-gam\",\"orientation\":\"v\",\"showlegend\":false,\"type\":\"scatter\",\"x\":[\"SZ43\",\"SZ45\",\"SZ4\",\"SZ15\",\"BR2\",\"ATP016\",\"NG10\",\"PB675\",\"BOT2016\",\"JP14\",\"NE1\",\"Stutgart\",\"Loschbour\",\"SF12\",\"KK1\",\"Sunghir3\",\"UstIshim\"],\"xaxis\":\"x2\",\"y\":[0.1743873063477508,0.17502994339803452,0.18731203365840032,0.17150345241841874,0.18758724496866222,0.23288016057489255,0.18197801928355087,0.18144633501743415,0.22838920770758778,0.18323318964742738,0.19470277462215993,0.20445826419464785,0.19748577228252376,0.17533667403803058,0.20199454436914507,0.23016822008033877,0.17658511050273948],\"yaxis\":\"y2\"},{\"hovertemplate\":\"Method=VG-gam<br>variable=PCT_IMPACT_HIGH<br>Sample=%{x}<br>value=%{y}<extra></extra>\",\"legendgroup\":\"VG-gam\",\"marker\":{\"color\":\"#EF553B\",\"line\":{\"width\":2},\"size\":5,\"symbol\":\"circle\"},\"mode\":\"lines+markers\",\"name\":\"VG-gam\",\"orientation\":\"v\",\"showlegend\":false,\"type\":\"scatter\",\"x\":[\"SZ43\",\"SZ45\",\"SZ4\",\"SZ15\",\"BR2\",\"ATP016\",\"NG10\",\"PB675\",\"BOT2016\",\"JP14\",\"NE1\",\"Stutgart\",\"Loschbour\",\"SF12\",\"KK1\",\"Sunghir3\",\"UstIshim\"],\"xaxis\":\"x\",\"y\":[0.008506912659105026,0.008603749424349542,0.008895921890784208,0.008816472768947278,0.009721381034841011,0.012146793005028729,0.008694810069482663,0.00878523289176257,0.0117009929700198,0.009534792708851625,0.010060053342369445,0.009727850107646856,0.009302098667839096,0.008752914693825721,0.009373135490002016,0.011362433063636134,0.008948404139154206],\"yaxis\":\"y\"},{\"hovertemplate\":\"Method=VG-bam<br>variable=PCT_IMPACT_Modifier<br>Sample=%{x}<br>value=%{y}<extra></extra>\",\"legendgroup\":\"VG-bam\",\"marker\":{\"color\":\"#00cc96\",\"line\":{\"width\":2},\"size\":5,\"symbol\":\"circle\"},\"mode\":\"lines+markers\",\"name\":\"VG-bam\",\"orientation\":\"v\",\"showlegend\":true,\"type\":\"scatter\",\"x\":[\"SZ43\",\"SZ45\",\"SZ4\",\"SZ15\",\"BR2\",\"ATP016\",\"NG10\",\"PB675\",\"BOT2016\",\"JP14\",\"NE1\",\"Stutgart\",\"Loschbour\",\"SF12\",\"KK1\",\"Sunghir3\",\"UstIshim\"],\"xaxis\":\"x4\",\"y\":[99.1594564235961,99.15037152009788,98.83280658180567,99.12368982611544,99.34172143982553,99.04851718501487,98.91813439744062,99.16780715309153,99.31895587127376,99.29084034024721,99.25990320835454,99.32910679376707,99.37980424253148,99.4004947744047,99.09307377063949,99.29938003084632,99.40442052976758],\"yaxis\":\"y4\"},{\"hovertemplate\":\"Method=VG-bam<br>variable=PCT_IMPACT_Low<br>Sample=%{x}<br>value=%{y}<extra></extra>\",\"legendgroup\":\"VG-bam\",\"marker\":{\"color\":\"#00cc96\",\"line\":{\"width\":2},\"size\":5,\"symbol\":\"circle\"},\"mode\":\"lines+markers\",\"name\":\"VG-bam\",\"orientation\":\"v\",\"showlegend\":false,\"type\":\"scatter\",\"x\":[\"SZ43\",\"SZ45\",\"SZ4\",\"SZ15\",\"BR2\",\"ATP016\",\"NG10\",\"PB675\",\"BOT2016\",\"JP14\",\"NE1\",\"Stutgart\",\"Loschbour\",\"SF12\",\"KK1\",\"Sunghir3\",\"UstIshim\"],\"xaxis\":\"x3\",\"y\":[0.43095054308580344,0.4286273420640416,0.540058217456478,0.4508784266551223,0.3521452197253721,0.44471882662552925,0.48764652803577646,0.41666970468613995,0.362165156182435,0.3677787489954517,0.3897093831730267,0.36132337597116926,0.3401502233725647,0.34106051016946065,0.4266872781859513,0.3856672903251505,0.3425556334030255],\"yaxis\":\"y3\"},{\"hovertemplate\":\"Method=VG-bam<br>variable=PCT_IMPACT_Moderate<br>Sample=%{x}<br>value=%{y}<extra></extra>\",\"legendgroup\":\"VG-bam\",\"marker\":{\"color\":\"#00cc96\",\"line\":{\"width\":2},\"size\":5,\"symbol\":\"circle\"},\"mode\":\"lines+markers\",\"name\":\"VG-bam\",\"orientation\":\"v\",\"showlegend\":false,\"type\":\"scatter\",\"x\":[\"SZ43\",\"SZ45\",\"SZ4\",\"SZ15\",\"BR2\",\"ATP016\",\"NG10\",\"PB675\",\"BOT2016\",\"JP14\",\"NE1\",\"Stutgart\",\"Loschbour\",\"SF12\",\"KK1\",\"Sunghir3\",\"UstIshim\"],\"xaxis\":\"x2\",\"y\":[0.38123488299179376,0.3907064092048915,0.5787040107557601,0.3965671815430664,0.2757316598359413,0.4419362877155417,0.5401388380768193,0.3862691018837075,0.28319350395192605,0.31331030310108987,0.3153073692271477,0.28801837188277685,0.2595147243925591,0.23995197804906157,0.4282861971713609,0.29341198808890195,0.2347406965839373],\"yaxis\":\"y2\"},{\"hovertemplate\":\"Method=VG-bam<br>variable=PCT_IMPACT_HIGH<br>Sample=%{x}<br>value=%{y}<extra></extra>\",\"legendgroup\":\"VG-bam\",\"marker\":{\"color\":\"#00cc96\",\"line\":{\"width\":2},\"size\":5,\"symbol\":\"circle\"},\"mode\":\"lines+markers\",\"name\":\"VG-bam\",\"orientation\":\"v\",\"showlegend\":false,\"type\":\"scatter\",\"x\":[\"SZ43\",\"SZ45\",\"SZ4\",\"SZ15\",\"BR2\",\"ATP016\",\"NG10\",\"PB675\",\"BOT2016\",\"JP14\",\"NE1\",\"Stutgart\",\"Loschbour\",\"SF12\",\"KK1\",\"Sunghir3\",\"UstIshim\"],\"xaxis\":\"x\",\"y\":[0.02835815032631041,0.030294728633182517,0.0484311899820849,0.028864565686367256,0.03040168061315211,0.06482770064406138,0.05408023644677875,0.029254040338627763,0.03568546859188395,0.028070607656247894,0.035080039245277674,0.021551458378988562,0.02053080970339625,0.018492737376767404,0.05195275400319499,0.021540690739619568,0.018283140245459805],\"yaxis\":\"y\"}],                        {\"annotations\":[{\"font\":{},\"showarrow\":false,\"text\":\"HIGH\",\"textangle\":90,\"x\":0.98,\"xanchor\":\"left\",\"xref\":\"paper\",\"y\":0.11375,\"yanchor\":\"middle\",\"yref\":\"paper\"},{\"font\":{},\"showarrow\":false,\"text\":\"Moderate\",\"textangle\":90,\"x\":0.98,\"xanchor\":\"left\",\"xref\":\"paper\",\"y\":0.37124999999999997,\"yanchor\":\"middle\",\"yref\":\"paper\"},{\"font\":{},\"showarrow\":false,\"text\":\"Low\",\"textangle\":90,\"x\":0.98,\"xanchor\":\"left\",\"xref\":\"paper\",\"y\":0.62875,\"yanchor\":\"middle\",\"yref\":\"paper\"},{\"font\":{},\"showarrow\":false,\"text\":\"Modifier\",\"textangle\":90,\"x\":0.98,\"xanchor\":\"left\",\"xref\":\"paper\",\"y\":0.88625,\"yanchor\":\"middle\",\"yref\":\"paper\"}],\"height\":1000,\"legend\":{\"title\":{\"text\":\"Method\"},\"tracegroupgap\":0},\"template\":{\"data\":{\"bar\":[{\"error_x\":{\"color\":\"#2a3f5f\"},\"error_y\":{\"color\":\"#2a3f5f\"},\"marker\":{\"line\":{\"color\":\"#E5ECF6\",\"width\":0.5},\"pattern\":{\"fillmode\":\"overlay\",\"size\":10,\"solidity\":0.2}},\"type\":\"bar\"}],\"barpolar\":[{\"marker\":{\"line\":{\"color\":\"#E5ECF6\",\"width\":0.5},\"pattern\":{\"fillmode\":\"overlay\",\"size\":10,\"solidity\":0.2}},\"type\":\"barpolar\"}],\"carpet\":[{\"aaxis\":{\"endlinecolor\":\"#2a3f5f\",\"gridcolor\":\"white\",\"linecolor\":\"white\",\"minorgridcolor\":\"white\",\"startlinecolor\":\"#2a3f5f\"},\"baxis\":{\"endlinecolor\":\"#2a3f5f\",\"gridcolor\":\"white\",\"linecolor\":\"white\",\"minorgridcolor\":\"white\",\"startlinecolor\":\"#2a3f5f\"},\"type\":\"carpet\"}],\"choropleth\":[{\"colorbar\":{\"outlinewidth\":0,\"ticks\":\"\"},\"type\":\"choropleth\"}],\"contour\":[{\"colorbar\":{\"outlinewidth\":0,\"ticks\":\"\"},\"colorscale\":[[0.0,\"#0d0887\"],[0.1111111111111111,\"#46039f\"],[0.2222222222222222,\"#7201a8\"],[0.3333333333333333,\"#9c179e\"],[0.4444444444444444,\"#bd3786\"],[0.5555555555555556,\"#d8576b\"],[0.6666666666666666,\"#ed7953\"],[0.7777777777777778,\"#fb9f3a\"],[0.8888888888888888,\"#fdca26\"],[1.0,\"#f0f921\"]],\"type\":\"contour\"}],\"contourcarpet\":[{\"colorbar\":{\"outlinewidth\":0,\"ticks\":\"\"},\"type\":\"contourcarpet\"}],\"heatmap\":[{\"colorbar\":{\"outlinewidth\":0,\"ticks\":\"\"},\"colorscale\":[[0.0,\"#0d0887\"],[0.1111111111111111,\"#46039f\"],[0.2222222222222222,\"#7201a8\"],[0.3333333333333333,\"#9c179e\"],[0.4444444444444444,\"#bd3786\"],[0.5555555555555556,\"#d8576b\"],[0.6666666666666666,\"#ed7953\"],[0.7777777777777778,\"#fb9f3a\"],[0.8888888888888888,\"#fdca26\"],[1.0,\"#f0f921\"]],\"type\":\"heatmap\"}],\"heatmapgl\":[{\"colorbar\":{\"outlinewidth\":0,\"ticks\":\"\"},\"colorscale\":[[0.0,\"#0d0887\"],[0.1111111111111111,\"#46039f\"],[0.2222222222222222,\"#7201a8\"],[0.3333333333333333,\"#9c179e\"],[0.4444444444444444,\"#bd3786\"],[0.5555555555555556,\"#d8576b\"],[0.6666666666666666,\"#ed7953\"],[0.7777777777777778,\"#fb9f3a\"],[0.8888888888888888,\"#fdca26\"],[1.0,\"#f0f921\"]],\"type\":\"heatmapgl\"}],\"histogram\":[{\"marker\":{\"pattern\":{\"fillmode\":\"overlay\",\"size\":10,\"solidity\":0.2}},\"type\":\"histogram\"}],\"histogram2d\":[{\"colorbar\":{\"outlinewidth\":0,\"ticks\":\"\"},\"colorscale\":[[0.0,\"#0d0887\"],[0.1111111111111111,\"#46039f\"],[0.2222222222222222,\"#7201a8\"],[0.3333333333333333,\"#9c179e\"],[0.4444444444444444,\"#bd3786\"],[0.5555555555555556,\"#d8576b\"],[0.6666666666666666,\"#ed7953\"],[0.7777777777777778,\"#fb9f3a\"],[0.8888888888888888,\"#fdca26\"],[1.0,\"#f0f921\"]],\"type\":\"histogram2d\"}],\"histogram2dcontour\":[{\"colorbar\":{\"outlinewidth\":0,\"ticks\":\"\"},\"colorscale\":[[0.0,\"#0d0887\"],[0.1111111111111111,\"#46039f\"],[0.2222222222222222,\"#7201a8\"],[0.3333333333333333,\"#9c179e\"],[0.4444444444444444,\"#bd3786\"],[0.5555555555555556,\"#d8576b\"],[0.6666666666666666,\"#ed7953\"],[0.7777777777777778,\"#fb9f3a\"],[0.8888888888888888,\"#fdca26\"],[1.0,\"#f0f921\"]],\"type\":\"histogram2dcontour\"}],\"mesh3d\":[{\"colorbar\":{\"outlinewidth\":0,\"ticks\":\"\"},\"type\":\"mesh3d\"}],\"parcoords\":[{\"line\":{\"colorbar\":{\"outlinewidth\":0,\"ticks\":\"\"}},\"type\":\"parcoords\"}],\"pie\":[{\"automargin\":true,\"type\":\"pie\"}],\"scatter\":[{\"marker\":{\"colorbar\":{\"outlinewidth\":0,\"ticks\":\"\"}},\"type\":\"scatter\"}],\"scatter3d\":[{\"line\":{\"colorbar\":{\"outlinewidth\":0,\"ticks\":\"\"}},\"marker\":{\"colorbar\":{\"outlinewidth\":0,\"ticks\":\"\"}},\"type\":\"scatter3d\"}],\"scattercarpet\":[{\"marker\":{\"colorbar\":{\"outlinewidth\":0,\"ticks\":\"\"}},\"type\":\"scattercarpet\"}],\"scattergeo\":[{\"marker\":{\"colorbar\":{\"outlinewidth\":0,\"ticks\":\"\"}},\"type\":\"scattergeo\"}],\"scattergl\":[{\"marker\":{\"colorbar\":{\"outlinewidth\":0,\"ticks\":\"\"}},\"type\":\"scattergl\"}],\"scattermapbox\":[{\"marker\":{\"colorbar\":{\"outlinewidth\":0,\"ticks\":\"\"}},\"type\":\"scattermapbox\"}],\"scatterpolar\":[{\"marker\":{\"colorbar\":{\"outlinewidth\":0,\"ticks\":\"\"}},\"type\":\"scatterpolar\"}],\"scatterpolargl\":[{\"marker\":{\"colorbar\":{\"outlinewidth\":0,\"ticks\":\"\"}},\"type\":\"scatterpolargl\"}],\"scatterternary\":[{\"marker\":{\"colorbar\":{\"outlinewidth\":0,\"ticks\":\"\"}},\"type\":\"scatterternary\"}],\"surface\":[{\"colorbar\":{\"outlinewidth\":0,\"ticks\":\"\"},\"colorscale\":[[0.0,\"#0d0887\"],[0.1111111111111111,\"#46039f\"],[0.2222222222222222,\"#7201a8\"],[0.3333333333333333,\"#9c179e\"],[0.4444444444444444,\"#bd3786\"],[0.5555555555555556,\"#d8576b\"],[0.6666666666666666,\"#ed7953\"],[0.7777777777777778,\"#fb9f3a\"],[0.8888888888888888,\"#fdca26\"],[1.0,\"#f0f921\"]],\"type\":\"surface\"}],\"table\":[{\"cells\":{\"fill\":{\"color\":\"#EBF0F8\"},\"line\":{\"color\":\"white\"}},\"header\":{\"fill\":{\"color\":\"#C8D4E3\"},\"line\":{\"color\":\"white\"}},\"type\":\"table\"}]},\"layout\":{\"annotationdefaults\":{\"arrowcolor\":\"#2a3f5f\",\"arrowhead\":0,\"arrowwidth\":1},\"autotypenumbers\":\"strict\",\"coloraxis\":{\"colorbar\":{\"outlinewidth\":0,\"ticks\":\"\"}},\"colorscale\":{\"diverging\":[[0,\"#8e0152\"],[0.1,\"#c51b7d\"],[0.2,\"#de77ae\"],[0.3,\"#f1b6da\"],[0.4,\"#fde0ef\"],[0.5,\"#f7f7f7\"],[0.6,\"#e6f5d0\"],[0.7,\"#b8e186\"],[0.8,\"#7fbc41\"],[0.9,\"#4d9221\"],[1,\"#276419\"]],\"sequential\":[[0.0,\"#0d0887\"],[0.1111111111111111,\"#46039f\"],[0.2222222222222222,\"#7201a8\"],[0.3333333333333333,\"#9c179e\"],[0.4444444444444444,\"#bd3786\"],[0.5555555555555556,\"#d8576b\"],[0.6666666666666666,\"#ed7953\"],[0.7777777777777778,\"#fb9f3a\"],[0.8888888888888888,\"#fdca26\"],[1.0,\"#f0f921\"]],\"sequentialminus\":[[0.0,\"#0d0887\"],[0.1111111111111111,\"#46039f\"],[0.2222222222222222,\"#7201a8\"],[0.3333333333333333,\"#9c179e\"],[0.4444444444444444,\"#bd3786\"],[0.5555555555555556,\"#d8576b\"],[0.6666666666666666,\"#ed7953\"],[0.7777777777777778,\"#fb9f3a\"],[0.8888888888888888,\"#fdca26\"],[1.0,\"#f0f921\"]]},\"colorway\":[\"#636efa\",\"#EF553B\",\"#00cc96\",\"#ab63fa\",\"#FFA15A\",\"#19d3f3\",\"#FF6692\",\"#B6E880\",\"#FF97FF\",\"#FECB52\"],\"font\":{\"color\":\"#2a3f5f\"},\"geo\":{\"bgcolor\":\"white\",\"lakecolor\":\"white\",\"landcolor\":\"#E5ECF6\",\"showlakes\":true,\"showland\":true,\"subunitcolor\":\"white\"},\"hoverlabel\":{\"align\":\"left\"},\"hovermode\":\"closest\",\"mapbox\":{\"style\":\"light\"},\"paper_bgcolor\":\"white\",\"plot_bgcolor\":\"#E5ECF6\",\"polar\":{\"angularaxis\":{\"gridcolor\":\"white\",\"linecolor\":\"white\",\"ticks\":\"\"},\"bgcolor\":\"#E5ECF6\",\"radialaxis\":{\"gridcolor\":\"white\",\"linecolor\":\"white\",\"ticks\":\"\"}},\"scene\":{\"xaxis\":{\"backgroundcolor\":\"#E5ECF6\",\"gridcolor\":\"white\",\"gridwidth\":2,\"linecolor\":\"white\",\"showbackground\":true,\"ticks\":\"\",\"zerolinecolor\":\"white\"},\"yaxis\":{\"backgroundcolor\":\"#E5ECF6\",\"gridcolor\":\"white\",\"gridwidth\":2,\"linecolor\":\"white\",\"showbackground\":true,\"ticks\":\"\",\"zerolinecolor\":\"white\"},\"zaxis\":{\"backgroundcolor\":\"#E5ECF6\",\"gridcolor\":\"white\",\"gridwidth\":2,\"linecolor\":\"white\",\"showbackground\":true,\"ticks\":\"\",\"zerolinecolor\":\"white\"}},\"shapedefaults\":{\"line\":{\"color\":\"#2a3f5f\"}},\"ternary\":{\"aaxis\":{\"gridcolor\":\"white\",\"linecolor\":\"white\",\"ticks\":\"\"},\"baxis\":{\"gridcolor\":\"white\",\"linecolor\":\"white\",\"ticks\":\"\"},\"bgcolor\":\"#E5ECF6\",\"caxis\":{\"gridcolor\":\"white\",\"linecolor\":\"white\",\"ticks\":\"\"}},\"title\":{\"x\":0.05},\"xaxis\":{\"automargin\":true,\"gridcolor\":\"white\",\"linecolor\":\"white\",\"ticks\":\"\",\"title\":{\"standoff\":15},\"zerolinecolor\":\"white\",\"zerolinewidth\":2},\"yaxis\":{\"automargin\":true,\"gridcolor\":\"white\",\"linecolor\":\"white\",\"ticks\":\"\",\"title\":{\"standoff\":15},\"zerolinecolor\":\"white\",\"zerolinewidth\":2}}},\"title\":{\"text\":\"IMPACT through AGE\"},\"width\":1000,\"xaxis\":{\"anchor\":\"y\",\"domain\":[0.0,0.98],\"title\":{\"text\":\"Sample\"}},\"xaxis2\":{\"anchor\":\"y2\",\"domain\":[0.0,0.98],\"matches\":\"x\",\"showticklabels\":false},\"xaxis3\":{\"anchor\":\"y3\",\"domain\":[0.0,0.98],\"matches\":\"x\",\"showticklabels\":false},\"xaxis4\":{\"anchor\":\"y4\",\"domain\":[0.0,0.98],\"matches\":\"x\",\"showticklabels\":false},\"yaxis\":{\"anchor\":\"x\",\"domain\":[0.0,0.2275],\"title\":{\"text\":\"value\"}},\"yaxis2\":{\"anchor\":\"x2\",\"domain\":[0.2575,0.485],\"title\":{\"text\":\"value\"}},\"yaxis3\":{\"anchor\":\"x3\",\"domain\":[0.515,0.7425],\"title\":{\"text\":\"value\"}},\"yaxis4\":{\"anchor\":\"x4\",\"domain\":[0.7725,1.0],\"title\":{\"text\":\"value\"}}},                        {\"responsive\": true}                    ).then(function(){\n",
       "                            \n",
       "var gd = document.getElementById('dcaf3e24-670d-4140-b742-748c0ff66798');\n",
       "var x = new MutationObserver(function (mutations, observer) {{\n",
       "        var display = window.getComputedStyle(gd).display;\n",
       "        if (!display || display === 'none') {{\n",
       "            console.log([gd, 'removed!']);\n",
       "            Plotly.purge(gd);\n",
       "            observer.disconnect();\n",
       "        }}\n",
       "}});\n",
       "\n",
       "// Listen for the removal of the full notebook cells\n",
       "var notebookContainer = gd.closest('#notebook-container');\n",
       "if (notebookContainer) {{\n",
       "    x.observe(notebookContainer, {childList: true});\n",
       "}}\n",
       "\n",
       "// Listen for the clearing of the current output cell\n",
       "var outputEl = gd.closest('.output');\n",
       "if (outputEl) {{\n",
       "    x.observe(outputEl, {childList: true});\n",
       "}}\n",
       "\n",
       "                        })                };                });            </script>        </div>"
      ]
     },
     "metadata": {},
     "output_type": "display_data"
    }
   ],
   "source": [
    "fig = px.scatter(df_age, y=\"value\", x=\"Sample\", color = \"Method\",facet_row=\"variable\",\n",
    "                 width=1000, height=1000, title=\"IMPACT through AGE\")\n",
    "\n",
    "fig.for_each_annotation(lambda a: a.update(text=a.text.split(\"=\")[-1].split('_')[-1]))\n",
    "fig.update_yaxes(matches=None)\n",
    "fig.update_traces(mode='lines+markers', marker_line_width=2, marker_size=5)\n",
    "fig.show()"
   ]
  },
  {
   "cell_type": "code",
   "execution_count": 267,
   "id": "644e7d52",
   "metadata": {},
   "outputs": [
    {
     "data": {
      "application/vnd.plotly.v1+json": {
       "config": {
        "plotlyServerURL": "https://plot.ly"
       },
       "data": [
        {
         "hovertemplate": "Method=BWA1-bam<br>variable=PCT_IMPACT_Modifier<br>Coverage=%{x}<br>value=%{y}<extra></extra>",
         "legendgroup": "BWA1-bam",
         "marker": {
          "color": "#636efa",
          "line": {
           "width": 2
          },
          "size": 5,
          "symbol": "circle"
         },
         "mode": "lines+markers",
         "name": "BWA1-bam",
         "orientation": "v",
         "showlegend": true,
         "type": "scatter",
         "x": [
          5,
          10,
          20,
          30,
          65
         ],
         "xaxis": "x4",
         "y": [
          99.01943790196407,
          99.23008417650405,
          99.41886983474639,
          99.42905131719095,
          99.42887086259974
         ],
         "yaxis": "y4"
        },
        {
         "hovertemplate": "Method=BWA1-bam<br>variable=PCT_IMPACT_Low<br>Coverage=%{x}<br>value=%{y}<extra></extra>",
         "legendgroup": "BWA1-bam",
         "marker": {
          "color": "#636efa",
          "line": {
           "width": 2
          },
          "size": 5,
          "symbol": "circle"
         },
         "mode": "lines+markers",
         "name": "BWA1-bam",
         "orientation": "v",
         "showlegend": false,
         "type": "scatter",
         "x": [
          5,
          10,
          20,
          30,
          65
         ],
         "xaxis": "x3",
         "y": [
          0.4865387762265537,
          0.39952428290351044,
          0.34397918843118996,
          0.34152539205168503,
          0.3411833102363877
         ],
         "yaxis": "y3"
        },
        {
         "hovertemplate": "Method=BWA1-bam<br>variable=PCT_IMPACT_Moderate<br>Coverage=%{x}<br>value=%{y}<extra></extra>",
         "legendgroup": "BWA1-bam",
         "marker": {
          "color": "#636efa",
          "line": {
           "width": 2
          },
          "size": 5,
          "symbol": "circle"
         },
         "mode": "lines+markers",
         "name": "BWA1-bam",
         "orientation": "v",
         "showlegend": false,
         "type": "scatter",
         "x": [
          5,
          10,
          20,
          30,
          65
         ],
         "xaxis": "x2",
         "y": [
          0.4515762461660112,
          0.33692852558478337,
          0.21970921019895998,
          0.21388480068078708,
          0.21464035533877313
         ],
         "yaxis": "y2"
        },
        {
         "hovertemplate": "Method=BWA1-bam<br>variable=PCT_IMPACT_HIGH<br>Coverage=%{x}<br>value=%{y}<extra></extra>",
         "legendgroup": "BWA1-bam",
         "marker": {
          "color": "#636efa",
          "line": {
           "width": 2
          },
          "size": 5,
          "symbol": "circle"
         },
         "mode": "lines+markers",
         "name": "BWA1-bam",
         "orientation": "v",
         "showlegend": false,
         "type": "scatter",
         "x": [
          5,
          10,
          20,
          30,
          65
         ],
         "xaxis": "x",
         "y": [
          0.04244707564337422,
          0.033463015007659254,
          0.01744176662345765,
          0.01553849007657108,
          0.015305471825095672
         ],
         "yaxis": "y"
        },
        {
         "hovertemplate": "Method=VG-bam<br>variable=PCT_IMPACT_Modifier<br>Coverage=%{x}<br>value=%{y}<extra></extra>",
         "legendgroup": "VG-bam",
         "marker": {
          "color": "#EF553B",
          "line": {
           "width": 2
          },
          "size": 5,
          "symbol": "circle"
         },
         "mode": "lines+markers",
         "name": "VG-bam",
         "orientation": "v",
         "showlegend": true,
         "type": "scatter",
         "x": [
          5,
          10,
          20,
          30,
          65
         ],
         "xaxis": "x4",
         "y": [
          99.0680773841236,
          99.24735256478785,
          99.40065089929377,
          99.40583147529993,
          99.4004947744047
         ],
         "yaxis": "y4"
        },
        {
         "hovertemplate": "Method=VG-bam<br>variable=PCT_IMPACT_Low<br>Coverage=%{x}<br>value=%{y}<extra></extra>",
         "legendgroup": "VG-bam",
         "marker": {
          "color": "#EF553B",
          "line": {
           "width": 2
          },
          "size": 5,
          "symbol": "circle"
         },
         "mode": "lines+markers",
         "name": "VG-bam",
         "orientation": "v",
         "showlegend": false,
         "type": "scatter",
         "x": [
          5,
          10,
          20,
          30,
          65
         ],
         "xaxis": "x3",
         "y": [
          0.45753279834842836,
          0.3839038939913114,
          0.33954784362353074,
          0.3390162359027918,
          0.34106051016946065
         ],
         "yaxis": "y3"
        },
        {
         "hovertemplate": "Method=VG-bam<br>variable=PCT_IMPACT_Moderate<br>Coverage=%{x}<br>value=%{y}<extra></extra>",
         "legendgroup": "VG-bam",
         "marker": {
          "color": "#EF553B",
          "line": {
           "width": 2
          },
          "size": 5,
          "symbol": "circle"
         },
         "mode": "lines+markers",
         "name": "VG-bam",
         "orientation": "v",
         "showlegend": false,
         "type": "scatter",
         "x": [
          5,
          10,
          20,
          30,
          65
         ],
         "xaxis": "x2",
         "y": [
          0.43287160362280236,
          0.3353595066664916,
          0.24013798268343098,
          0.23683860589924838,
          0.23995197804906157
         ],
         "yaxis": "y2"
        },
        {
         "hovertemplate": "Method=VG-bam<br>variable=PCT_IMPACT_HIGH<br>Coverage=%{x}<br>value=%{y}<extra></extra>",
         "legendgroup": "VG-bam",
         "marker": {
          "color": "#EF553B",
          "line": {
           "width": 2
          },
          "size": 5,
          "symbol": "circle"
         },
         "mode": "lines+markers",
         "name": "VG-bam",
         "orientation": "v",
         "showlegend": false,
         "type": "scatter",
         "x": [
          5,
          10,
          20,
          30,
          65
         ],
         "xaxis": "x",
         "y": [
          0.04151821390516782,
          0.03338403455435127,
          0.019663274399269393,
          0.018313682898023275,
          0.018492737376767404
         ],
         "yaxis": "y"
        },
        {
         "hovertemplate": "Method=VG-gam<br>variable=PCT_IMPACT_Modifier<br>Coverage=%{x}<br>value=%{y}<extra></extra>",
         "legendgroup": "VG-gam",
         "marker": {
          "color": "#00cc96",
          "line": {
           "width": 2
          },
          "size": 5,
          "symbol": "circle"
         },
         "mode": "lines+markers",
         "name": "VG-gam",
         "orientation": "v",
         "showlegend": true,
         "type": "scatter",
         "x": [
          65
         ],
         "xaxis": "x4",
         "y": [
          99.54719860690001
         ],
         "yaxis": "y4"
        },
        {
         "hovertemplate": "Method=VG-gam<br>variable=PCT_IMPACT_Low<br>Coverage=%{x}<br>value=%{y}<extra></extra>",
         "legendgroup": "VG-gam",
         "marker": {
          "color": "#00cc96",
          "line": {
           "width": 2
          },
          "size": 5,
          "symbol": "circle"
         },
         "mode": "lines+markers",
         "name": "VG-gam",
         "orientation": "v",
         "showlegend": false,
         "type": "scatter",
         "x": [
          65
         ],
         "xaxis": "x3",
         "y": [
          0.26871180436812736
         ],
         "yaxis": "y3"
        },
        {
         "hovertemplate": "Method=VG-gam<br>variable=PCT_IMPACT_Moderate<br>Coverage=%{x}<br>value=%{y}<extra></extra>",
         "legendgroup": "VG-gam",
         "marker": {
          "color": "#00cc96",
          "line": {
           "width": 2
          },
          "size": 5,
          "symbol": "circle"
         },
         "mode": "lines+markers",
         "name": "VG-gam",
         "orientation": "v",
         "showlegend": false,
         "type": "scatter",
         "x": [
          65
         ],
         "xaxis": "x2",
         "y": [
          0.17533667403803058
         ],
         "yaxis": "y2"
        },
        {
         "hovertemplate": "Method=VG-gam<br>variable=PCT_IMPACT_HIGH<br>Coverage=%{x}<br>value=%{y}<extra></extra>",
         "legendgroup": "VG-gam",
         "marker": {
          "color": "#00cc96",
          "line": {
           "width": 2
          },
          "size": 5,
          "symbol": "circle"
         },
         "mode": "lines+markers",
         "name": "VG-gam",
         "orientation": "v",
         "showlegend": false,
         "type": "scatter",
         "x": [
          65
         ],
         "xaxis": "x",
         "y": [
          0.008752914693825721
         ],
         "yaxis": "y"
        }
       ],
       "layout": {
        "annotations": [
         {
          "font": {},
          "showarrow": false,
          "text": "HIGH",
          "textangle": 90,
          "x": 0.98,
          "xanchor": "left",
          "xref": "paper",
          "y": 0.11375,
          "yanchor": "middle",
          "yref": "paper"
         },
         {
          "font": {},
          "showarrow": false,
          "text": "Moderate",
          "textangle": 90,
          "x": 0.98,
          "xanchor": "left",
          "xref": "paper",
          "y": 0.37124999999999997,
          "yanchor": "middle",
          "yref": "paper"
         },
         {
          "font": {},
          "showarrow": false,
          "text": "Low",
          "textangle": 90,
          "x": 0.98,
          "xanchor": "left",
          "xref": "paper",
          "y": 0.62875,
          "yanchor": "middle",
          "yref": "paper"
         },
         {
          "font": {},
          "showarrow": false,
          "text": "Modifier",
          "textangle": 90,
          "x": 0.98,
          "xanchor": "left",
          "xref": "paper",
          "y": 0.88625,
          "yanchor": "middle",
          "yref": "paper"
         }
        ],
        "height": 1000,
        "legend": {
         "title": {
          "text": "Method"
         },
         "tracegroupgap": 0
        },
        "template": {
         "data": {
          "bar": [
           {
            "error_x": {
             "color": "#2a3f5f"
            },
            "error_y": {
             "color": "#2a3f5f"
            },
            "marker": {
             "line": {
              "color": "#E5ECF6",
              "width": 0.5
             },
             "pattern": {
              "fillmode": "overlay",
              "size": 10,
              "solidity": 0.2
             }
            },
            "type": "bar"
           }
          ],
          "barpolar": [
           {
            "marker": {
             "line": {
              "color": "#E5ECF6",
              "width": 0.5
             },
             "pattern": {
              "fillmode": "overlay",
              "size": 10,
              "solidity": 0.2
             }
            },
            "type": "barpolar"
           }
          ],
          "carpet": [
           {
            "aaxis": {
             "endlinecolor": "#2a3f5f",
             "gridcolor": "white",
             "linecolor": "white",
             "minorgridcolor": "white",
             "startlinecolor": "#2a3f5f"
            },
            "baxis": {
             "endlinecolor": "#2a3f5f",
             "gridcolor": "white",
             "linecolor": "white",
             "minorgridcolor": "white",
             "startlinecolor": "#2a3f5f"
            },
            "type": "carpet"
           }
          ],
          "choropleth": [
           {
            "colorbar": {
             "outlinewidth": 0,
             "ticks": ""
            },
            "type": "choropleth"
           }
          ],
          "contour": [
           {
            "colorbar": {
             "outlinewidth": 0,
             "ticks": ""
            },
            "colorscale": [
             [
              0,
              "#0d0887"
             ],
             [
              0.1111111111111111,
              "#46039f"
             ],
             [
              0.2222222222222222,
              "#7201a8"
             ],
             [
              0.3333333333333333,
              "#9c179e"
             ],
             [
              0.4444444444444444,
              "#bd3786"
             ],
             [
              0.5555555555555556,
              "#d8576b"
             ],
             [
              0.6666666666666666,
              "#ed7953"
             ],
             [
              0.7777777777777778,
              "#fb9f3a"
             ],
             [
              0.8888888888888888,
              "#fdca26"
             ],
             [
              1,
              "#f0f921"
             ]
            ],
            "type": "contour"
           }
          ],
          "contourcarpet": [
           {
            "colorbar": {
             "outlinewidth": 0,
             "ticks": ""
            },
            "type": "contourcarpet"
           }
          ],
          "heatmap": [
           {
            "colorbar": {
             "outlinewidth": 0,
             "ticks": ""
            },
            "colorscale": [
             [
              0,
              "#0d0887"
             ],
             [
              0.1111111111111111,
              "#46039f"
             ],
             [
              0.2222222222222222,
              "#7201a8"
             ],
             [
              0.3333333333333333,
              "#9c179e"
             ],
             [
              0.4444444444444444,
              "#bd3786"
             ],
             [
              0.5555555555555556,
              "#d8576b"
             ],
             [
              0.6666666666666666,
              "#ed7953"
             ],
             [
              0.7777777777777778,
              "#fb9f3a"
             ],
             [
              0.8888888888888888,
              "#fdca26"
             ],
             [
              1,
              "#f0f921"
             ]
            ],
            "type": "heatmap"
           }
          ],
          "heatmapgl": [
           {
            "colorbar": {
             "outlinewidth": 0,
             "ticks": ""
            },
            "colorscale": [
             [
              0,
              "#0d0887"
             ],
             [
              0.1111111111111111,
              "#46039f"
             ],
             [
              0.2222222222222222,
              "#7201a8"
             ],
             [
              0.3333333333333333,
              "#9c179e"
             ],
             [
              0.4444444444444444,
              "#bd3786"
             ],
             [
              0.5555555555555556,
              "#d8576b"
             ],
             [
              0.6666666666666666,
              "#ed7953"
             ],
             [
              0.7777777777777778,
              "#fb9f3a"
             ],
             [
              0.8888888888888888,
              "#fdca26"
             ],
             [
              1,
              "#f0f921"
             ]
            ],
            "type": "heatmapgl"
           }
          ],
          "histogram": [
           {
            "marker": {
             "pattern": {
              "fillmode": "overlay",
              "size": 10,
              "solidity": 0.2
             }
            },
            "type": "histogram"
           }
          ],
          "histogram2d": [
           {
            "colorbar": {
             "outlinewidth": 0,
             "ticks": ""
            },
            "colorscale": [
             [
              0,
              "#0d0887"
             ],
             [
              0.1111111111111111,
              "#46039f"
             ],
             [
              0.2222222222222222,
              "#7201a8"
             ],
             [
              0.3333333333333333,
              "#9c179e"
             ],
             [
              0.4444444444444444,
              "#bd3786"
             ],
             [
              0.5555555555555556,
              "#d8576b"
             ],
             [
              0.6666666666666666,
              "#ed7953"
             ],
             [
              0.7777777777777778,
              "#fb9f3a"
             ],
             [
              0.8888888888888888,
              "#fdca26"
             ],
             [
              1,
              "#f0f921"
             ]
            ],
            "type": "histogram2d"
           }
          ],
          "histogram2dcontour": [
           {
            "colorbar": {
             "outlinewidth": 0,
             "ticks": ""
            },
            "colorscale": [
             [
              0,
              "#0d0887"
             ],
             [
              0.1111111111111111,
              "#46039f"
             ],
             [
              0.2222222222222222,
              "#7201a8"
             ],
             [
              0.3333333333333333,
              "#9c179e"
             ],
             [
              0.4444444444444444,
              "#bd3786"
             ],
             [
              0.5555555555555556,
              "#d8576b"
             ],
             [
              0.6666666666666666,
              "#ed7953"
             ],
             [
              0.7777777777777778,
              "#fb9f3a"
             ],
             [
              0.8888888888888888,
              "#fdca26"
             ],
             [
              1,
              "#f0f921"
             ]
            ],
            "type": "histogram2dcontour"
           }
          ],
          "mesh3d": [
           {
            "colorbar": {
             "outlinewidth": 0,
             "ticks": ""
            },
            "type": "mesh3d"
           }
          ],
          "parcoords": [
           {
            "line": {
             "colorbar": {
              "outlinewidth": 0,
              "ticks": ""
             }
            },
            "type": "parcoords"
           }
          ],
          "pie": [
           {
            "automargin": true,
            "type": "pie"
           }
          ],
          "scatter": [
           {
            "marker": {
             "colorbar": {
              "outlinewidth": 0,
              "ticks": ""
             }
            },
            "type": "scatter"
           }
          ],
          "scatter3d": [
           {
            "line": {
             "colorbar": {
              "outlinewidth": 0,
              "ticks": ""
             }
            },
            "marker": {
             "colorbar": {
              "outlinewidth": 0,
              "ticks": ""
             }
            },
            "type": "scatter3d"
           }
          ],
          "scattercarpet": [
           {
            "marker": {
             "colorbar": {
              "outlinewidth": 0,
              "ticks": ""
             }
            },
            "type": "scattercarpet"
           }
          ],
          "scattergeo": [
           {
            "marker": {
             "colorbar": {
              "outlinewidth": 0,
              "ticks": ""
             }
            },
            "type": "scattergeo"
           }
          ],
          "scattergl": [
           {
            "marker": {
             "colorbar": {
              "outlinewidth": 0,
              "ticks": ""
             }
            },
            "type": "scattergl"
           }
          ],
          "scattermapbox": [
           {
            "marker": {
             "colorbar": {
              "outlinewidth": 0,
              "ticks": ""
             }
            },
            "type": "scattermapbox"
           }
          ],
          "scatterpolar": [
           {
            "marker": {
             "colorbar": {
              "outlinewidth": 0,
              "ticks": ""
             }
            },
            "type": "scatterpolar"
           }
          ],
          "scatterpolargl": [
           {
            "marker": {
             "colorbar": {
              "outlinewidth": 0,
              "ticks": ""
             }
            },
            "type": "scatterpolargl"
           }
          ],
          "scatterternary": [
           {
            "marker": {
             "colorbar": {
              "outlinewidth": 0,
              "ticks": ""
             }
            },
            "type": "scatterternary"
           }
          ],
          "surface": [
           {
            "colorbar": {
             "outlinewidth": 0,
             "ticks": ""
            },
            "colorscale": [
             [
              0,
              "#0d0887"
             ],
             [
              0.1111111111111111,
              "#46039f"
             ],
             [
              0.2222222222222222,
              "#7201a8"
             ],
             [
              0.3333333333333333,
              "#9c179e"
             ],
             [
              0.4444444444444444,
              "#bd3786"
             ],
             [
              0.5555555555555556,
              "#d8576b"
             ],
             [
              0.6666666666666666,
              "#ed7953"
             ],
             [
              0.7777777777777778,
              "#fb9f3a"
             ],
             [
              0.8888888888888888,
              "#fdca26"
             ],
             [
              1,
              "#f0f921"
             ]
            ],
            "type": "surface"
           }
          ],
          "table": [
           {
            "cells": {
             "fill": {
              "color": "#EBF0F8"
             },
             "line": {
              "color": "white"
             }
            },
            "header": {
             "fill": {
              "color": "#C8D4E3"
             },
             "line": {
              "color": "white"
             }
            },
            "type": "table"
           }
          ]
         },
         "layout": {
          "annotationdefaults": {
           "arrowcolor": "#2a3f5f",
           "arrowhead": 0,
           "arrowwidth": 1
          },
          "autotypenumbers": "strict",
          "coloraxis": {
           "colorbar": {
            "outlinewidth": 0,
            "ticks": ""
           }
          },
          "colorscale": {
           "diverging": [
            [
             0,
             "#8e0152"
            ],
            [
             0.1,
             "#c51b7d"
            ],
            [
             0.2,
             "#de77ae"
            ],
            [
             0.3,
             "#f1b6da"
            ],
            [
             0.4,
             "#fde0ef"
            ],
            [
             0.5,
             "#f7f7f7"
            ],
            [
             0.6,
             "#e6f5d0"
            ],
            [
             0.7,
             "#b8e186"
            ],
            [
             0.8,
             "#7fbc41"
            ],
            [
             0.9,
             "#4d9221"
            ],
            [
             1,
             "#276419"
            ]
           ],
           "sequential": [
            [
             0,
             "#0d0887"
            ],
            [
             0.1111111111111111,
             "#46039f"
            ],
            [
             0.2222222222222222,
             "#7201a8"
            ],
            [
             0.3333333333333333,
             "#9c179e"
            ],
            [
             0.4444444444444444,
             "#bd3786"
            ],
            [
             0.5555555555555556,
             "#d8576b"
            ],
            [
             0.6666666666666666,
             "#ed7953"
            ],
            [
             0.7777777777777778,
             "#fb9f3a"
            ],
            [
             0.8888888888888888,
             "#fdca26"
            ],
            [
             1,
             "#f0f921"
            ]
           ],
           "sequentialminus": [
            [
             0,
             "#0d0887"
            ],
            [
             0.1111111111111111,
             "#46039f"
            ],
            [
             0.2222222222222222,
             "#7201a8"
            ],
            [
             0.3333333333333333,
             "#9c179e"
            ],
            [
             0.4444444444444444,
             "#bd3786"
            ],
            [
             0.5555555555555556,
             "#d8576b"
            ],
            [
             0.6666666666666666,
             "#ed7953"
            ],
            [
             0.7777777777777778,
             "#fb9f3a"
            ],
            [
             0.8888888888888888,
             "#fdca26"
            ],
            [
             1,
             "#f0f921"
            ]
           ]
          },
          "colorway": [
           "#636efa",
           "#EF553B",
           "#00cc96",
           "#ab63fa",
           "#FFA15A",
           "#19d3f3",
           "#FF6692",
           "#B6E880",
           "#FF97FF",
           "#FECB52"
          ],
          "font": {
           "color": "#2a3f5f"
          },
          "geo": {
           "bgcolor": "white",
           "lakecolor": "white",
           "landcolor": "#E5ECF6",
           "showlakes": true,
           "showland": true,
           "subunitcolor": "white"
          },
          "hoverlabel": {
           "align": "left"
          },
          "hovermode": "closest",
          "mapbox": {
           "style": "light"
          },
          "paper_bgcolor": "white",
          "plot_bgcolor": "#E5ECF6",
          "polar": {
           "angularaxis": {
            "gridcolor": "white",
            "linecolor": "white",
            "ticks": ""
           },
           "bgcolor": "#E5ECF6",
           "radialaxis": {
            "gridcolor": "white",
            "linecolor": "white",
            "ticks": ""
           }
          },
          "scene": {
           "xaxis": {
            "backgroundcolor": "#E5ECF6",
            "gridcolor": "white",
            "gridwidth": 2,
            "linecolor": "white",
            "showbackground": true,
            "ticks": "",
            "zerolinecolor": "white"
           },
           "yaxis": {
            "backgroundcolor": "#E5ECF6",
            "gridcolor": "white",
            "gridwidth": 2,
            "linecolor": "white",
            "showbackground": true,
            "ticks": "",
            "zerolinecolor": "white"
           },
           "zaxis": {
            "backgroundcolor": "#E5ECF6",
            "gridcolor": "white",
            "gridwidth": 2,
            "linecolor": "white",
            "showbackground": true,
            "ticks": "",
            "zerolinecolor": "white"
           }
          },
          "shapedefaults": {
           "line": {
            "color": "#2a3f5f"
           }
          },
          "ternary": {
           "aaxis": {
            "gridcolor": "white",
            "linecolor": "white",
            "ticks": ""
           },
           "baxis": {
            "gridcolor": "white",
            "linecolor": "white",
            "ticks": ""
           },
           "bgcolor": "#E5ECF6",
           "caxis": {
            "gridcolor": "white",
            "linecolor": "white",
            "ticks": ""
           }
          },
          "title": {
           "x": 0.05
          },
          "xaxis": {
           "automargin": true,
           "gridcolor": "white",
           "linecolor": "white",
           "ticks": "",
           "title": {
            "standoff": 15
           },
           "zerolinecolor": "white",
           "zerolinewidth": 2
          },
          "yaxis": {
           "automargin": true,
           "gridcolor": "white",
           "linecolor": "white",
           "ticks": "",
           "title": {
            "standoff": 15
           },
           "zerolinecolor": "white",
           "zerolinewidth": 2
          }
         }
        },
        "title": {
         "text": "IMPACT through COVERAGE"
        },
        "width": 1000,
        "xaxis": {
         "anchor": "y",
         "domain": [
          0,
          0.98
         ],
         "title": {
          "text": "Coverage"
         }
        },
        "xaxis2": {
         "anchor": "y2",
         "domain": [
          0,
          0.98
         ],
         "matches": "x",
         "showticklabels": false
        },
        "xaxis3": {
         "anchor": "y3",
         "domain": [
          0,
          0.98
         ],
         "matches": "x",
         "showticklabels": false
        },
        "xaxis4": {
         "anchor": "y4",
         "domain": [
          0,
          0.98
         ],
         "matches": "x",
         "showticklabels": false
        },
        "yaxis": {
         "anchor": "x",
         "domain": [
          0,
          0.2275
         ],
         "title": {
          "text": "value"
         }
        },
        "yaxis2": {
         "anchor": "x2",
         "domain": [
          0.2575,
          0.485
         ],
         "title": {
          "text": "value"
         }
        },
        "yaxis3": {
         "anchor": "x3",
         "domain": [
          0.515,
          0.7425
         ],
         "title": {
          "text": "value"
         }
        },
        "yaxis4": {
         "anchor": "x4",
         "domain": [
          0.7725,
          1
         ],
         "title": {
          "text": "value"
         }
        }
       }
      },
      "text/html": [
       "<div>                            <div id=\"357a48f0-80a1-46e0-a4aa-1e75ed6283b3\" class=\"plotly-graph-div\" style=\"height:1000px; width:1000px;\"></div>            <script type=\"text/javascript\">                require([\"plotly\"], function(Plotly) {                    window.PLOTLYENV=window.PLOTLYENV || {};                                    if (document.getElementById(\"357a48f0-80a1-46e0-a4aa-1e75ed6283b3\")) {                    Plotly.newPlot(                        \"357a48f0-80a1-46e0-a4aa-1e75ed6283b3\",                        [{\"hovertemplate\":\"Method=BWA1-bam<br>variable=PCT_IMPACT_Modifier<br>Coverage=%{x}<br>value=%{y}<extra></extra>\",\"legendgroup\":\"BWA1-bam\",\"marker\":{\"color\":\"#636efa\",\"line\":{\"width\":2},\"size\":5,\"symbol\":\"circle\"},\"mode\":\"lines+markers\",\"name\":\"BWA1-bam\",\"orientation\":\"v\",\"showlegend\":true,\"type\":\"scatter\",\"x\":[5,10,20,30,65],\"xaxis\":\"x4\",\"y\":[99.01943790196407,99.23008417650405,99.41886983474639,99.42905131719095,99.42887086259974],\"yaxis\":\"y4\"},{\"hovertemplate\":\"Method=BWA1-bam<br>variable=PCT_IMPACT_Low<br>Coverage=%{x}<br>value=%{y}<extra></extra>\",\"legendgroup\":\"BWA1-bam\",\"marker\":{\"color\":\"#636efa\",\"line\":{\"width\":2},\"size\":5,\"symbol\":\"circle\"},\"mode\":\"lines+markers\",\"name\":\"BWA1-bam\",\"orientation\":\"v\",\"showlegend\":false,\"type\":\"scatter\",\"x\":[5,10,20,30,65],\"xaxis\":\"x3\",\"y\":[0.4865387762265537,0.39952428290351044,0.34397918843118996,0.34152539205168503,0.3411833102363877],\"yaxis\":\"y3\"},{\"hovertemplate\":\"Method=BWA1-bam<br>variable=PCT_IMPACT_Moderate<br>Coverage=%{x}<br>value=%{y}<extra></extra>\",\"legendgroup\":\"BWA1-bam\",\"marker\":{\"color\":\"#636efa\",\"line\":{\"width\":2},\"size\":5,\"symbol\":\"circle\"},\"mode\":\"lines+markers\",\"name\":\"BWA1-bam\",\"orientation\":\"v\",\"showlegend\":false,\"type\":\"scatter\",\"x\":[5,10,20,30,65],\"xaxis\":\"x2\",\"y\":[0.4515762461660112,0.33692852558478337,0.21970921019895998,0.21388480068078708,0.21464035533877313],\"yaxis\":\"y2\"},{\"hovertemplate\":\"Method=BWA1-bam<br>variable=PCT_IMPACT_HIGH<br>Coverage=%{x}<br>value=%{y}<extra></extra>\",\"legendgroup\":\"BWA1-bam\",\"marker\":{\"color\":\"#636efa\",\"line\":{\"width\":2},\"size\":5,\"symbol\":\"circle\"},\"mode\":\"lines+markers\",\"name\":\"BWA1-bam\",\"orientation\":\"v\",\"showlegend\":false,\"type\":\"scatter\",\"x\":[5,10,20,30,65],\"xaxis\":\"x\",\"y\":[0.04244707564337422,0.033463015007659254,0.01744176662345765,0.01553849007657108,0.015305471825095672],\"yaxis\":\"y\"},{\"hovertemplate\":\"Method=VG-bam<br>variable=PCT_IMPACT_Modifier<br>Coverage=%{x}<br>value=%{y}<extra></extra>\",\"legendgroup\":\"VG-bam\",\"marker\":{\"color\":\"#EF553B\",\"line\":{\"width\":2},\"size\":5,\"symbol\":\"circle\"},\"mode\":\"lines+markers\",\"name\":\"VG-bam\",\"orientation\":\"v\",\"showlegend\":true,\"type\":\"scatter\",\"x\":[5,10,20,30,65],\"xaxis\":\"x4\",\"y\":[99.0680773841236,99.24735256478785,99.40065089929377,99.40583147529993,99.4004947744047],\"yaxis\":\"y4\"},{\"hovertemplate\":\"Method=VG-bam<br>variable=PCT_IMPACT_Low<br>Coverage=%{x}<br>value=%{y}<extra></extra>\",\"legendgroup\":\"VG-bam\",\"marker\":{\"color\":\"#EF553B\",\"line\":{\"width\":2},\"size\":5,\"symbol\":\"circle\"},\"mode\":\"lines+markers\",\"name\":\"VG-bam\",\"orientation\":\"v\",\"showlegend\":false,\"type\":\"scatter\",\"x\":[5,10,20,30,65],\"xaxis\":\"x3\",\"y\":[0.45753279834842836,0.3839038939913114,0.33954784362353074,0.3390162359027918,0.34106051016946065],\"yaxis\":\"y3\"},{\"hovertemplate\":\"Method=VG-bam<br>variable=PCT_IMPACT_Moderate<br>Coverage=%{x}<br>value=%{y}<extra></extra>\",\"legendgroup\":\"VG-bam\",\"marker\":{\"color\":\"#EF553B\",\"line\":{\"width\":2},\"size\":5,\"symbol\":\"circle\"},\"mode\":\"lines+markers\",\"name\":\"VG-bam\",\"orientation\":\"v\",\"showlegend\":false,\"type\":\"scatter\",\"x\":[5,10,20,30,65],\"xaxis\":\"x2\",\"y\":[0.43287160362280236,0.3353595066664916,0.24013798268343098,0.23683860589924838,0.23995197804906157],\"yaxis\":\"y2\"},{\"hovertemplate\":\"Method=VG-bam<br>variable=PCT_IMPACT_HIGH<br>Coverage=%{x}<br>value=%{y}<extra></extra>\",\"legendgroup\":\"VG-bam\",\"marker\":{\"color\":\"#EF553B\",\"line\":{\"width\":2},\"size\":5,\"symbol\":\"circle\"},\"mode\":\"lines+markers\",\"name\":\"VG-bam\",\"orientation\":\"v\",\"showlegend\":false,\"type\":\"scatter\",\"x\":[5,10,20,30,65],\"xaxis\":\"x\",\"y\":[0.04151821390516782,0.03338403455435127,0.019663274399269393,0.018313682898023275,0.018492737376767404],\"yaxis\":\"y\"},{\"hovertemplate\":\"Method=VG-gam<br>variable=PCT_IMPACT_Modifier<br>Coverage=%{x}<br>value=%{y}<extra></extra>\",\"legendgroup\":\"VG-gam\",\"marker\":{\"color\":\"#00cc96\",\"line\":{\"width\":2},\"size\":5,\"symbol\":\"circle\"},\"mode\":\"lines+markers\",\"name\":\"VG-gam\",\"orientation\":\"v\",\"showlegend\":true,\"type\":\"scatter\",\"x\":[65],\"xaxis\":\"x4\",\"y\":[99.54719860690001],\"yaxis\":\"y4\"},{\"hovertemplate\":\"Method=VG-gam<br>variable=PCT_IMPACT_Low<br>Coverage=%{x}<br>value=%{y}<extra></extra>\",\"legendgroup\":\"VG-gam\",\"marker\":{\"color\":\"#00cc96\",\"line\":{\"width\":2},\"size\":5,\"symbol\":\"circle\"},\"mode\":\"lines+markers\",\"name\":\"VG-gam\",\"orientation\":\"v\",\"showlegend\":false,\"type\":\"scatter\",\"x\":[65],\"xaxis\":\"x3\",\"y\":[0.26871180436812736],\"yaxis\":\"y3\"},{\"hovertemplate\":\"Method=VG-gam<br>variable=PCT_IMPACT_Moderate<br>Coverage=%{x}<br>value=%{y}<extra></extra>\",\"legendgroup\":\"VG-gam\",\"marker\":{\"color\":\"#00cc96\",\"line\":{\"width\":2},\"size\":5,\"symbol\":\"circle\"},\"mode\":\"lines+markers\",\"name\":\"VG-gam\",\"orientation\":\"v\",\"showlegend\":false,\"type\":\"scatter\",\"x\":[65],\"xaxis\":\"x2\",\"y\":[0.17533667403803058],\"yaxis\":\"y2\"},{\"hovertemplate\":\"Method=VG-gam<br>variable=PCT_IMPACT_HIGH<br>Coverage=%{x}<br>value=%{y}<extra></extra>\",\"legendgroup\":\"VG-gam\",\"marker\":{\"color\":\"#00cc96\",\"line\":{\"width\":2},\"size\":5,\"symbol\":\"circle\"},\"mode\":\"lines+markers\",\"name\":\"VG-gam\",\"orientation\":\"v\",\"showlegend\":false,\"type\":\"scatter\",\"x\":[65],\"xaxis\":\"x\",\"y\":[0.008752914693825721],\"yaxis\":\"y\"}],                        {\"annotations\":[{\"font\":{},\"showarrow\":false,\"text\":\"HIGH\",\"textangle\":90,\"x\":0.98,\"xanchor\":\"left\",\"xref\":\"paper\",\"y\":0.11375,\"yanchor\":\"middle\",\"yref\":\"paper\"},{\"font\":{},\"showarrow\":false,\"text\":\"Moderate\",\"textangle\":90,\"x\":0.98,\"xanchor\":\"left\",\"xref\":\"paper\",\"y\":0.37124999999999997,\"yanchor\":\"middle\",\"yref\":\"paper\"},{\"font\":{},\"showarrow\":false,\"text\":\"Low\",\"textangle\":90,\"x\":0.98,\"xanchor\":\"left\",\"xref\":\"paper\",\"y\":0.62875,\"yanchor\":\"middle\",\"yref\":\"paper\"},{\"font\":{},\"showarrow\":false,\"text\":\"Modifier\",\"textangle\":90,\"x\":0.98,\"xanchor\":\"left\",\"xref\":\"paper\",\"y\":0.88625,\"yanchor\":\"middle\",\"yref\":\"paper\"}],\"height\":1000,\"legend\":{\"title\":{\"text\":\"Method\"},\"tracegroupgap\":0},\"template\":{\"data\":{\"bar\":[{\"error_x\":{\"color\":\"#2a3f5f\"},\"error_y\":{\"color\":\"#2a3f5f\"},\"marker\":{\"line\":{\"color\":\"#E5ECF6\",\"width\":0.5},\"pattern\":{\"fillmode\":\"overlay\",\"size\":10,\"solidity\":0.2}},\"type\":\"bar\"}],\"barpolar\":[{\"marker\":{\"line\":{\"color\":\"#E5ECF6\",\"width\":0.5},\"pattern\":{\"fillmode\":\"overlay\",\"size\":10,\"solidity\":0.2}},\"type\":\"barpolar\"}],\"carpet\":[{\"aaxis\":{\"endlinecolor\":\"#2a3f5f\",\"gridcolor\":\"white\",\"linecolor\":\"white\",\"minorgridcolor\":\"white\",\"startlinecolor\":\"#2a3f5f\"},\"baxis\":{\"endlinecolor\":\"#2a3f5f\",\"gridcolor\":\"white\",\"linecolor\":\"white\",\"minorgridcolor\":\"white\",\"startlinecolor\":\"#2a3f5f\"},\"type\":\"carpet\"}],\"choropleth\":[{\"colorbar\":{\"outlinewidth\":0,\"ticks\":\"\"},\"type\":\"choropleth\"}],\"contour\":[{\"colorbar\":{\"outlinewidth\":0,\"ticks\":\"\"},\"colorscale\":[[0.0,\"#0d0887\"],[0.1111111111111111,\"#46039f\"],[0.2222222222222222,\"#7201a8\"],[0.3333333333333333,\"#9c179e\"],[0.4444444444444444,\"#bd3786\"],[0.5555555555555556,\"#d8576b\"],[0.6666666666666666,\"#ed7953\"],[0.7777777777777778,\"#fb9f3a\"],[0.8888888888888888,\"#fdca26\"],[1.0,\"#f0f921\"]],\"type\":\"contour\"}],\"contourcarpet\":[{\"colorbar\":{\"outlinewidth\":0,\"ticks\":\"\"},\"type\":\"contourcarpet\"}],\"heatmap\":[{\"colorbar\":{\"outlinewidth\":0,\"ticks\":\"\"},\"colorscale\":[[0.0,\"#0d0887\"],[0.1111111111111111,\"#46039f\"],[0.2222222222222222,\"#7201a8\"],[0.3333333333333333,\"#9c179e\"],[0.4444444444444444,\"#bd3786\"],[0.5555555555555556,\"#d8576b\"],[0.6666666666666666,\"#ed7953\"],[0.7777777777777778,\"#fb9f3a\"],[0.8888888888888888,\"#fdca26\"],[1.0,\"#f0f921\"]],\"type\":\"heatmap\"}],\"heatmapgl\":[{\"colorbar\":{\"outlinewidth\":0,\"ticks\":\"\"},\"colorscale\":[[0.0,\"#0d0887\"],[0.1111111111111111,\"#46039f\"],[0.2222222222222222,\"#7201a8\"],[0.3333333333333333,\"#9c179e\"],[0.4444444444444444,\"#bd3786\"],[0.5555555555555556,\"#d8576b\"],[0.6666666666666666,\"#ed7953\"],[0.7777777777777778,\"#fb9f3a\"],[0.8888888888888888,\"#fdca26\"],[1.0,\"#f0f921\"]],\"type\":\"heatmapgl\"}],\"histogram\":[{\"marker\":{\"pattern\":{\"fillmode\":\"overlay\",\"size\":10,\"solidity\":0.2}},\"type\":\"histogram\"}],\"histogram2d\":[{\"colorbar\":{\"outlinewidth\":0,\"ticks\":\"\"},\"colorscale\":[[0.0,\"#0d0887\"],[0.1111111111111111,\"#46039f\"],[0.2222222222222222,\"#7201a8\"],[0.3333333333333333,\"#9c179e\"],[0.4444444444444444,\"#bd3786\"],[0.5555555555555556,\"#d8576b\"],[0.6666666666666666,\"#ed7953\"],[0.7777777777777778,\"#fb9f3a\"],[0.8888888888888888,\"#fdca26\"],[1.0,\"#f0f921\"]],\"type\":\"histogram2d\"}],\"histogram2dcontour\":[{\"colorbar\":{\"outlinewidth\":0,\"ticks\":\"\"},\"colorscale\":[[0.0,\"#0d0887\"],[0.1111111111111111,\"#46039f\"],[0.2222222222222222,\"#7201a8\"],[0.3333333333333333,\"#9c179e\"],[0.4444444444444444,\"#bd3786\"],[0.5555555555555556,\"#d8576b\"],[0.6666666666666666,\"#ed7953\"],[0.7777777777777778,\"#fb9f3a\"],[0.8888888888888888,\"#fdca26\"],[1.0,\"#f0f921\"]],\"type\":\"histogram2dcontour\"}],\"mesh3d\":[{\"colorbar\":{\"outlinewidth\":0,\"ticks\":\"\"},\"type\":\"mesh3d\"}],\"parcoords\":[{\"line\":{\"colorbar\":{\"outlinewidth\":0,\"ticks\":\"\"}},\"type\":\"parcoords\"}],\"pie\":[{\"automargin\":true,\"type\":\"pie\"}],\"scatter\":[{\"marker\":{\"colorbar\":{\"outlinewidth\":0,\"ticks\":\"\"}},\"type\":\"scatter\"}],\"scatter3d\":[{\"line\":{\"colorbar\":{\"outlinewidth\":0,\"ticks\":\"\"}},\"marker\":{\"colorbar\":{\"outlinewidth\":0,\"ticks\":\"\"}},\"type\":\"scatter3d\"}],\"scattercarpet\":[{\"marker\":{\"colorbar\":{\"outlinewidth\":0,\"ticks\":\"\"}},\"type\":\"scattercarpet\"}],\"scattergeo\":[{\"marker\":{\"colorbar\":{\"outlinewidth\":0,\"ticks\":\"\"}},\"type\":\"scattergeo\"}],\"scattergl\":[{\"marker\":{\"colorbar\":{\"outlinewidth\":0,\"ticks\":\"\"}},\"type\":\"scattergl\"}],\"scattermapbox\":[{\"marker\":{\"colorbar\":{\"outlinewidth\":0,\"ticks\":\"\"}},\"type\":\"scattermapbox\"}],\"scatterpolar\":[{\"marker\":{\"colorbar\":{\"outlinewidth\":0,\"ticks\":\"\"}},\"type\":\"scatterpolar\"}],\"scatterpolargl\":[{\"marker\":{\"colorbar\":{\"outlinewidth\":0,\"ticks\":\"\"}},\"type\":\"scatterpolargl\"}],\"scatterternary\":[{\"marker\":{\"colorbar\":{\"outlinewidth\":0,\"ticks\":\"\"}},\"type\":\"scatterternary\"}],\"surface\":[{\"colorbar\":{\"outlinewidth\":0,\"ticks\":\"\"},\"colorscale\":[[0.0,\"#0d0887\"],[0.1111111111111111,\"#46039f\"],[0.2222222222222222,\"#7201a8\"],[0.3333333333333333,\"#9c179e\"],[0.4444444444444444,\"#bd3786\"],[0.5555555555555556,\"#d8576b\"],[0.6666666666666666,\"#ed7953\"],[0.7777777777777778,\"#fb9f3a\"],[0.8888888888888888,\"#fdca26\"],[1.0,\"#f0f921\"]],\"type\":\"surface\"}],\"table\":[{\"cells\":{\"fill\":{\"color\":\"#EBF0F8\"},\"line\":{\"color\":\"white\"}},\"header\":{\"fill\":{\"color\":\"#C8D4E3\"},\"line\":{\"color\":\"white\"}},\"type\":\"table\"}]},\"layout\":{\"annotationdefaults\":{\"arrowcolor\":\"#2a3f5f\",\"arrowhead\":0,\"arrowwidth\":1},\"autotypenumbers\":\"strict\",\"coloraxis\":{\"colorbar\":{\"outlinewidth\":0,\"ticks\":\"\"}},\"colorscale\":{\"diverging\":[[0,\"#8e0152\"],[0.1,\"#c51b7d\"],[0.2,\"#de77ae\"],[0.3,\"#f1b6da\"],[0.4,\"#fde0ef\"],[0.5,\"#f7f7f7\"],[0.6,\"#e6f5d0\"],[0.7,\"#b8e186\"],[0.8,\"#7fbc41\"],[0.9,\"#4d9221\"],[1,\"#276419\"]],\"sequential\":[[0.0,\"#0d0887\"],[0.1111111111111111,\"#46039f\"],[0.2222222222222222,\"#7201a8\"],[0.3333333333333333,\"#9c179e\"],[0.4444444444444444,\"#bd3786\"],[0.5555555555555556,\"#d8576b\"],[0.6666666666666666,\"#ed7953\"],[0.7777777777777778,\"#fb9f3a\"],[0.8888888888888888,\"#fdca26\"],[1.0,\"#f0f921\"]],\"sequentialminus\":[[0.0,\"#0d0887\"],[0.1111111111111111,\"#46039f\"],[0.2222222222222222,\"#7201a8\"],[0.3333333333333333,\"#9c179e\"],[0.4444444444444444,\"#bd3786\"],[0.5555555555555556,\"#d8576b\"],[0.6666666666666666,\"#ed7953\"],[0.7777777777777778,\"#fb9f3a\"],[0.8888888888888888,\"#fdca26\"],[1.0,\"#f0f921\"]]},\"colorway\":[\"#636efa\",\"#EF553B\",\"#00cc96\",\"#ab63fa\",\"#FFA15A\",\"#19d3f3\",\"#FF6692\",\"#B6E880\",\"#FF97FF\",\"#FECB52\"],\"font\":{\"color\":\"#2a3f5f\"},\"geo\":{\"bgcolor\":\"white\",\"lakecolor\":\"white\",\"landcolor\":\"#E5ECF6\",\"showlakes\":true,\"showland\":true,\"subunitcolor\":\"white\"},\"hoverlabel\":{\"align\":\"left\"},\"hovermode\":\"closest\",\"mapbox\":{\"style\":\"light\"},\"paper_bgcolor\":\"white\",\"plot_bgcolor\":\"#E5ECF6\",\"polar\":{\"angularaxis\":{\"gridcolor\":\"white\",\"linecolor\":\"white\",\"ticks\":\"\"},\"bgcolor\":\"#E5ECF6\",\"radialaxis\":{\"gridcolor\":\"white\",\"linecolor\":\"white\",\"ticks\":\"\"}},\"scene\":{\"xaxis\":{\"backgroundcolor\":\"#E5ECF6\",\"gridcolor\":\"white\",\"gridwidth\":2,\"linecolor\":\"white\",\"showbackground\":true,\"ticks\":\"\",\"zerolinecolor\":\"white\"},\"yaxis\":{\"backgroundcolor\":\"#E5ECF6\",\"gridcolor\":\"white\",\"gridwidth\":2,\"linecolor\":\"white\",\"showbackground\":true,\"ticks\":\"\",\"zerolinecolor\":\"white\"},\"zaxis\":{\"backgroundcolor\":\"#E5ECF6\",\"gridcolor\":\"white\",\"gridwidth\":2,\"linecolor\":\"white\",\"showbackground\":true,\"ticks\":\"\",\"zerolinecolor\":\"white\"}},\"shapedefaults\":{\"line\":{\"color\":\"#2a3f5f\"}},\"ternary\":{\"aaxis\":{\"gridcolor\":\"white\",\"linecolor\":\"white\",\"ticks\":\"\"},\"baxis\":{\"gridcolor\":\"white\",\"linecolor\":\"white\",\"ticks\":\"\"},\"bgcolor\":\"#E5ECF6\",\"caxis\":{\"gridcolor\":\"white\",\"linecolor\":\"white\",\"ticks\":\"\"}},\"title\":{\"x\":0.05},\"xaxis\":{\"automargin\":true,\"gridcolor\":\"white\",\"linecolor\":\"white\",\"ticks\":\"\",\"title\":{\"standoff\":15},\"zerolinecolor\":\"white\",\"zerolinewidth\":2},\"yaxis\":{\"automargin\":true,\"gridcolor\":\"white\",\"linecolor\":\"white\",\"ticks\":\"\",\"title\":{\"standoff\":15},\"zerolinecolor\":\"white\",\"zerolinewidth\":2}}},\"title\":{\"text\":\"IMPACT through COVERAGE\"},\"width\":1000,\"xaxis\":{\"anchor\":\"y\",\"domain\":[0.0,0.98],\"title\":{\"text\":\"Coverage\"}},\"xaxis2\":{\"anchor\":\"y2\",\"domain\":[0.0,0.98],\"matches\":\"x\",\"showticklabels\":false},\"xaxis3\":{\"anchor\":\"y3\",\"domain\":[0.0,0.98],\"matches\":\"x\",\"showticklabels\":false},\"xaxis4\":{\"anchor\":\"y4\",\"domain\":[0.0,0.98],\"matches\":\"x\",\"showticklabels\":false},\"yaxis\":{\"anchor\":\"x\",\"domain\":[0.0,0.2275],\"title\":{\"text\":\"value\"}},\"yaxis2\":{\"anchor\":\"x2\",\"domain\":[0.2575,0.485],\"title\":{\"text\":\"value\"}},\"yaxis3\":{\"anchor\":\"x3\",\"domain\":[0.515,0.7425],\"title\":{\"text\":\"value\"}},\"yaxis4\":{\"anchor\":\"x4\",\"domain\":[0.7725,1.0],\"title\":{\"text\":\"value\"}}},                        {\"responsive\": true}                    ).then(function(){\n",
       "                            \n",
       "var gd = document.getElementById('357a48f0-80a1-46e0-a4aa-1e75ed6283b3');\n",
       "var x = new MutationObserver(function (mutations, observer) {{\n",
       "        var display = window.getComputedStyle(gd).display;\n",
       "        if (!display || display === 'none') {{\n",
       "            console.log([gd, 'removed!']);\n",
       "            Plotly.purge(gd);\n",
       "            observer.disconnect();\n",
       "        }}\n",
       "}});\n",
       "\n",
       "// Listen for the removal of the full notebook cells\n",
       "var notebookContainer = gd.closest('#notebook-container');\n",
       "if (notebookContainer) {{\n",
       "    x.observe(notebookContainer, {childList: true});\n",
       "}}\n",
       "\n",
       "// Listen for the clearing of the current output cell\n",
       "var outputEl = gd.closest('.output');\n",
       "if (outputEl) {{\n",
       "    x.observe(outputEl, {childList: true});\n",
       "}}\n",
       "\n",
       "                        })                };                });            </script>        </div>"
      ]
     },
     "metadata": {},
     "output_type": "display_data"
    }
   ],
   "source": [
    "fig = px.scatter(df_cov, y=\"value\", x=\"Coverage\", color = \"Method\",facet_row=\"variable\",\n",
    "                 width=1000, height=1000, title=\"IMPACT through COVERAGE\")\n",
    "\n",
    "fig.for_each_annotation(lambda a: a.update(text=a.text.split(\"=\")[-1].split('_')[-1]))\n",
    "fig.update_yaxes(matches=None)\n",
    "fig.update_traces(mode='lines+markers', marker_line_width=2, marker_size=5)\n",
    "fig.show()"
   ]
  },
  {
   "cell_type": "markdown",
   "id": "d2967a41",
   "metadata": {},
   "source": [
    "# Insight SIFT"
   ]
  },
  {
   "cell_type": "code",
   "execution_count": 274,
   "id": "a588543e",
   "metadata": {},
   "outputs": [],
   "source": [
    "df_age = dfsort_age.melt(id_vars=['Sample','Method'], value_vars=['PCT_SIFT_DELETARIOUS','PCT_SIFT_NOT-DELETARIOUS'])\n",
    "df_cov = dfsort_cov.melt(id_vars=['Sample','Method','Coverage'], value_vars=['PCT_SIFT_DELETARIOUS','PCT_SIFT_NOT-DELETARIOUS'])"
   ]
  },
  {
   "cell_type": "code",
   "execution_count": 276,
   "id": "5677ed18",
   "metadata": {},
   "outputs": [
    {
     "data": {
      "application/vnd.plotly.v1+json": {
       "config": {
        "plotlyServerURL": "https://plot.ly"
       },
       "data": [
        {
         "hovertemplate": "Method=BWA1-bam<br>variable=PCT_SIFT_DELETARIOUS<br>Sample=%{x}<br>value=%{y}<extra></extra>",
         "legendgroup": "BWA1-bam",
         "marker": {
          "color": "#636efa",
          "line": {
           "width": 2
          },
          "size": 5,
          "symbol": "circle"
         },
         "mode": "lines+markers",
         "name": "BWA1-bam",
         "orientation": "v",
         "showlegend": true,
         "type": "scatter",
         "x": [
          "SZ43",
          "SZ45",
          "SZ4",
          "SZ15",
          "BR2",
          "ATP016",
          "NG10",
          "PB675",
          "BOT2016",
          "JP14",
          "NE1",
          "Stutgart",
          "Loschbour",
          "SF12",
          "KK1",
          "Sunghir3",
          "UstIshim"
         ],
         "xaxis": "x2",
         "y": [
          38.72842707681302,
          40.19500919701138,
          47.87389368567154,
          33.86949369402303,
          31.66802904265038,
          45.94326295292276,
          28.43021540277368,
          34.984586863265,
          33.43665487830248,
          35.187711021174785,
          34.80244366867661,
          30.48182415693412,
          26.97675829844044,
          20.17057273609763,
          47.02984767616841,
          31.814284948829233,
          21.944967727988637
         ],
         "yaxis": "y2"
        },
        {
         "hovertemplate": "Method=BWA1-bam<br>variable=PCT_SIFT_NOT-DELETARIOUS<br>Sample=%{x}<br>value=%{y}<extra></extra>",
         "legendgroup": "BWA1-bam",
         "marker": {
          "color": "#636efa",
          "line": {
           "width": 2
          },
          "size": 5,
          "symbol": "circle"
         },
         "mode": "lines+markers",
         "name": "BWA1-bam",
         "orientation": "v",
         "showlegend": false,
         "type": "scatter",
         "x": [
          "SZ43",
          "SZ45",
          "SZ4",
          "SZ15",
          "BR2",
          "ATP016",
          "NG10",
          "PB675",
          "BOT2016",
          "JP14",
          "NE1",
          "Stutgart",
          "Loschbour",
          "SF12",
          "KK1",
          "Sunghir3",
          "UstIshim"
         ],
         "xaxis": "x",
         "y": [
          61.27157292318698,
          59.80499080298862,
          52.12610631432846,
          66.13050630597697,
          68.33197095734961,
          54.05673704707724,
          71.56978459722632,
          65.015413136735,
          66.56334512169752,
          64.81228897882521,
          65.19755633132338,
          69.51817584306588,
          73.02324170155956,
          79.82942726390237,
          52.97015232383159,
          68.18571505117076,
          78.05503227201136
         ],
         "yaxis": "y"
        },
        {
         "hovertemplate": "Method=VG-gam<br>variable=PCT_SIFT_DELETARIOUS<br>Sample=%{x}<br>value=%{y}<extra></extra>",
         "legendgroup": "VG-gam",
         "marker": {
          "color": "#EF553B",
          "line": {
           "width": 2
          },
          "size": 5,
          "symbol": "circle"
         },
         "mode": "lines+markers",
         "name": "VG-gam",
         "orientation": "v",
         "showlegend": true,
         "type": "scatter",
         "x": [
          "SZ43",
          "SZ45",
          "SZ4",
          "SZ15",
          "BR2",
          "ATP016",
          "NG10",
          "PB675",
          "BOT2016",
          "JP14",
          "NE1",
          "Stutgart",
          "Loschbour",
          "SF12",
          "KK1",
          "Sunghir3",
          "UstIshim"
         ],
         "xaxis": "x2",
         "y": [
          20.62932393087053,
          21.328828234300346,
          21.88986232790989,
          20.788885430519795,
          20.16567904220583,
          25.78879008891997,
          19.671771743556015,
          20.81491184978986,
          20.590827584110873,
          19.84377260234341,
          20.58414851044909,
          20.32235661785983,
          19.225323306378023,
          18.343907597201888,
          23.853662713533417,
          21.939473214816577,
          18.57767018952589
         ],
         "yaxis": "y2"
        },
        {
         "hovertemplate": "Method=VG-gam<br>variable=PCT_SIFT_NOT-DELETARIOUS<br>Sample=%{x}<br>value=%{y}<extra></extra>",
         "legendgroup": "VG-gam",
         "marker": {
          "color": "#EF553B",
          "line": {
           "width": 2
          },
          "size": 5,
          "symbol": "circle"
         },
         "mode": "lines+markers",
         "name": "VG-gam",
         "orientation": "v",
         "showlegend": false,
         "type": "scatter",
         "x": [
          "SZ43",
          "SZ45",
          "SZ4",
          "SZ15",
          "BR2",
          "ATP016",
          "NG10",
          "PB675",
          "BOT2016",
          "JP14",
          "NE1",
          "Stutgart",
          "Loschbour",
          "SF12",
          "KK1",
          "Sunghir3",
          "UstIshim"
         ],
         "xaxis": "x",
         "y": [
          79.37067606912947,
          78.67117176569965,
          78.11013767209012,
          79.2111145694802,
          79.83432095779418,
          74.21120991108003,
          80.32822825644398,
          79.18508815021013,
          79.40917241588913,
          80.1562273976566,
          79.41585148955092,
          79.67764338214018,
          80.77467669362197,
          81.65609240279811,
          76.14633728646659,
          78.06052678518343,
          81.42232981047411
         ],
         "yaxis": "y"
        },
        {
         "hovertemplate": "Method=VG-bam<br>variable=PCT_SIFT_DELETARIOUS<br>Sample=%{x}<br>value=%{y}<extra></extra>",
         "legendgroup": "VG-bam",
         "marker": {
          "color": "#00cc96",
          "line": {
           "width": 2
          },
          "size": 5,
          "symbol": "circle"
         },
         "mode": "lines+markers",
         "name": "VG-bam",
         "orientation": "v",
         "showlegend": true,
         "type": "scatter",
         "x": [
          "SZ43",
          "SZ45",
          "SZ4",
          "SZ15",
          "BR2",
          "ATP016",
          "NG10",
          "PB675",
          "BOT2016",
          "JP14",
          "NE1",
          "Stutgart",
          "Loschbour",
          "SF12",
          "KK1",
          "Sunghir3",
          "UstIshim"
         ],
         "xaxis": "x2",
         "y": [
          34.11604137909642,
          35.95899225027882,
          42.22830732216911,
          32.95676286330492,
          30.706825811264455,
          44.06697150407705,
          41.2521017823114,
          34.826707834812815,
          32.056734616915634,
          33.21046662346079,
          33.332674285262364,
          30.187360178970916,
          27.100203823059548,
          21.672729459158827,
          40.63702870005628,
          31.676233608931486,
          22.246022905777853
         ],
         "yaxis": "y2"
        },
        {
         "hovertemplate": "Method=VG-bam<br>variable=PCT_SIFT_NOT-DELETARIOUS<br>Sample=%{x}<br>value=%{y}<extra></extra>",
         "legendgroup": "VG-bam",
         "marker": {
          "color": "#00cc96",
          "line": {
           "width": 2
          },
          "size": 5,
          "symbol": "circle"
         },
         "mode": "lines+markers",
         "name": "VG-bam",
         "orientation": "v",
         "showlegend": false,
         "type": "scatter",
         "x": [
          "SZ43",
          "SZ45",
          "SZ4",
          "SZ15",
          "BR2",
          "ATP016",
          "NG10",
          "PB675",
          "BOT2016",
          "JP14",
          "NE1",
          "Stutgart",
          "Loschbour",
          "SF12",
          "KK1",
          "Sunghir3",
          "UstIshim"
         ],
         "xaxis": "x",
         "y": [
          65.88395862090358,
          64.04100774972119,
          57.77169267783089,
          67.04323713669508,
          69.29317418873555,
          55.93302849592295,
          58.7478982176886,
          65.17329216518719,
          67.94326538308437,
          66.78953337653921,
          66.66732571473763,
          69.81263982102908,
          72.89979617694046,
          78.32727054084117,
          59.36297129994372,
          68.32376639106852,
          77.75397709422215
         ],
         "yaxis": "y"
        }
       ],
       "layout": {
        "annotations": [
         {
          "font": {},
          "showarrow": false,
          "text": "NOT-DELETARIOUS",
          "textangle": 90,
          "x": 0.98,
          "xanchor": "left",
          "xref": "paper",
          "y": 0.2425,
          "yanchor": "middle",
          "yref": "paper"
         },
         {
          "font": {},
          "showarrow": false,
          "text": "DELETARIOUS",
          "textangle": 90,
          "x": 0.98,
          "xanchor": "left",
          "xref": "paper",
          "y": 0.7575000000000001,
          "yanchor": "middle",
          "yref": "paper"
         }
        ],
        "height": 1000,
        "legend": {
         "title": {
          "text": "Method"
         },
         "tracegroupgap": 0
        },
        "template": {
         "data": {
          "bar": [
           {
            "error_x": {
             "color": "#2a3f5f"
            },
            "error_y": {
             "color": "#2a3f5f"
            },
            "marker": {
             "line": {
              "color": "#E5ECF6",
              "width": 0.5
             },
             "pattern": {
              "fillmode": "overlay",
              "size": 10,
              "solidity": 0.2
             }
            },
            "type": "bar"
           }
          ],
          "barpolar": [
           {
            "marker": {
             "line": {
              "color": "#E5ECF6",
              "width": 0.5
             },
             "pattern": {
              "fillmode": "overlay",
              "size": 10,
              "solidity": 0.2
             }
            },
            "type": "barpolar"
           }
          ],
          "carpet": [
           {
            "aaxis": {
             "endlinecolor": "#2a3f5f",
             "gridcolor": "white",
             "linecolor": "white",
             "minorgridcolor": "white",
             "startlinecolor": "#2a3f5f"
            },
            "baxis": {
             "endlinecolor": "#2a3f5f",
             "gridcolor": "white",
             "linecolor": "white",
             "minorgridcolor": "white",
             "startlinecolor": "#2a3f5f"
            },
            "type": "carpet"
           }
          ],
          "choropleth": [
           {
            "colorbar": {
             "outlinewidth": 0,
             "ticks": ""
            },
            "type": "choropleth"
           }
          ],
          "contour": [
           {
            "colorbar": {
             "outlinewidth": 0,
             "ticks": ""
            },
            "colorscale": [
             [
              0,
              "#0d0887"
             ],
             [
              0.1111111111111111,
              "#46039f"
             ],
             [
              0.2222222222222222,
              "#7201a8"
             ],
             [
              0.3333333333333333,
              "#9c179e"
             ],
             [
              0.4444444444444444,
              "#bd3786"
             ],
             [
              0.5555555555555556,
              "#d8576b"
             ],
             [
              0.6666666666666666,
              "#ed7953"
             ],
             [
              0.7777777777777778,
              "#fb9f3a"
             ],
             [
              0.8888888888888888,
              "#fdca26"
             ],
             [
              1,
              "#f0f921"
             ]
            ],
            "type": "contour"
           }
          ],
          "contourcarpet": [
           {
            "colorbar": {
             "outlinewidth": 0,
             "ticks": ""
            },
            "type": "contourcarpet"
           }
          ],
          "heatmap": [
           {
            "colorbar": {
             "outlinewidth": 0,
             "ticks": ""
            },
            "colorscale": [
             [
              0,
              "#0d0887"
             ],
             [
              0.1111111111111111,
              "#46039f"
             ],
             [
              0.2222222222222222,
              "#7201a8"
             ],
             [
              0.3333333333333333,
              "#9c179e"
             ],
             [
              0.4444444444444444,
              "#bd3786"
             ],
             [
              0.5555555555555556,
              "#d8576b"
             ],
             [
              0.6666666666666666,
              "#ed7953"
             ],
             [
              0.7777777777777778,
              "#fb9f3a"
             ],
             [
              0.8888888888888888,
              "#fdca26"
             ],
             [
              1,
              "#f0f921"
             ]
            ],
            "type": "heatmap"
           }
          ],
          "heatmapgl": [
           {
            "colorbar": {
             "outlinewidth": 0,
             "ticks": ""
            },
            "colorscale": [
             [
              0,
              "#0d0887"
             ],
             [
              0.1111111111111111,
              "#46039f"
             ],
             [
              0.2222222222222222,
              "#7201a8"
             ],
             [
              0.3333333333333333,
              "#9c179e"
             ],
             [
              0.4444444444444444,
              "#bd3786"
             ],
             [
              0.5555555555555556,
              "#d8576b"
             ],
             [
              0.6666666666666666,
              "#ed7953"
             ],
             [
              0.7777777777777778,
              "#fb9f3a"
             ],
             [
              0.8888888888888888,
              "#fdca26"
             ],
             [
              1,
              "#f0f921"
             ]
            ],
            "type": "heatmapgl"
           }
          ],
          "histogram": [
           {
            "marker": {
             "pattern": {
              "fillmode": "overlay",
              "size": 10,
              "solidity": 0.2
             }
            },
            "type": "histogram"
           }
          ],
          "histogram2d": [
           {
            "colorbar": {
             "outlinewidth": 0,
             "ticks": ""
            },
            "colorscale": [
             [
              0,
              "#0d0887"
             ],
             [
              0.1111111111111111,
              "#46039f"
             ],
             [
              0.2222222222222222,
              "#7201a8"
             ],
             [
              0.3333333333333333,
              "#9c179e"
             ],
             [
              0.4444444444444444,
              "#bd3786"
             ],
             [
              0.5555555555555556,
              "#d8576b"
             ],
             [
              0.6666666666666666,
              "#ed7953"
             ],
             [
              0.7777777777777778,
              "#fb9f3a"
             ],
             [
              0.8888888888888888,
              "#fdca26"
             ],
             [
              1,
              "#f0f921"
             ]
            ],
            "type": "histogram2d"
           }
          ],
          "histogram2dcontour": [
           {
            "colorbar": {
             "outlinewidth": 0,
             "ticks": ""
            },
            "colorscale": [
             [
              0,
              "#0d0887"
             ],
             [
              0.1111111111111111,
              "#46039f"
             ],
             [
              0.2222222222222222,
              "#7201a8"
             ],
             [
              0.3333333333333333,
              "#9c179e"
             ],
             [
              0.4444444444444444,
              "#bd3786"
             ],
             [
              0.5555555555555556,
              "#d8576b"
             ],
             [
              0.6666666666666666,
              "#ed7953"
             ],
             [
              0.7777777777777778,
              "#fb9f3a"
             ],
             [
              0.8888888888888888,
              "#fdca26"
             ],
             [
              1,
              "#f0f921"
             ]
            ],
            "type": "histogram2dcontour"
           }
          ],
          "mesh3d": [
           {
            "colorbar": {
             "outlinewidth": 0,
             "ticks": ""
            },
            "type": "mesh3d"
           }
          ],
          "parcoords": [
           {
            "line": {
             "colorbar": {
              "outlinewidth": 0,
              "ticks": ""
             }
            },
            "type": "parcoords"
           }
          ],
          "pie": [
           {
            "automargin": true,
            "type": "pie"
           }
          ],
          "scatter": [
           {
            "marker": {
             "colorbar": {
              "outlinewidth": 0,
              "ticks": ""
             }
            },
            "type": "scatter"
           }
          ],
          "scatter3d": [
           {
            "line": {
             "colorbar": {
              "outlinewidth": 0,
              "ticks": ""
             }
            },
            "marker": {
             "colorbar": {
              "outlinewidth": 0,
              "ticks": ""
             }
            },
            "type": "scatter3d"
           }
          ],
          "scattercarpet": [
           {
            "marker": {
             "colorbar": {
              "outlinewidth": 0,
              "ticks": ""
             }
            },
            "type": "scattercarpet"
           }
          ],
          "scattergeo": [
           {
            "marker": {
             "colorbar": {
              "outlinewidth": 0,
              "ticks": ""
             }
            },
            "type": "scattergeo"
           }
          ],
          "scattergl": [
           {
            "marker": {
             "colorbar": {
              "outlinewidth": 0,
              "ticks": ""
             }
            },
            "type": "scattergl"
           }
          ],
          "scattermapbox": [
           {
            "marker": {
             "colorbar": {
              "outlinewidth": 0,
              "ticks": ""
             }
            },
            "type": "scattermapbox"
           }
          ],
          "scatterpolar": [
           {
            "marker": {
             "colorbar": {
              "outlinewidth": 0,
              "ticks": ""
             }
            },
            "type": "scatterpolar"
           }
          ],
          "scatterpolargl": [
           {
            "marker": {
             "colorbar": {
              "outlinewidth": 0,
              "ticks": ""
             }
            },
            "type": "scatterpolargl"
           }
          ],
          "scatterternary": [
           {
            "marker": {
             "colorbar": {
              "outlinewidth": 0,
              "ticks": ""
             }
            },
            "type": "scatterternary"
           }
          ],
          "surface": [
           {
            "colorbar": {
             "outlinewidth": 0,
             "ticks": ""
            },
            "colorscale": [
             [
              0,
              "#0d0887"
             ],
             [
              0.1111111111111111,
              "#46039f"
             ],
             [
              0.2222222222222222,
              "#7201a8"
             ],
             [
              0.3333333333333333,
              "#9c179e"
             ],
             [
              0.4444444444444444,
              "#bd3786"
             ],
             [
              0.5555555555555556,
              "#d8576b"
             ],
             [
              0.6666666666666666,
              "#ed7953"
             ],
             [
              0.7777777777777778,
              "#fb9f3a"
             ],
             [
              0.8888888888888888,
              "#fdca26"
             ],
             [
              1,
              "#f0f921"
             ]
            ],
            "type": "surface"
           }
          ],
          "table": [
           {
            "cells": {
             "fill": {
              "color": "#EBF0F8"
             },
             "line": {
              "color": "white"
             }
            },
            "header": {
             "fill": {
              "color": "#C8D4E3"
             },
             "line": {
              "color": "white"
             }
            },
            "type": "table"
           }
          ]
         },
         "layout": {
          "annotationdefaults": {
           "arrowcolor": "#2a3f5f",
           "arrowhead": 0,
           "arrowwidth": 1
          },
          "autotypenumbers": "strict",
          "coloraxis": {
           "colorbar": {
            "outlinewidth": 0,
            "ticks": ""
           }
          },
          "colorscale": {
           "diverging": [
            [
             0,
             "#8e0152"
            ],
            [
             0.1,
             "#c51b7d"
            ],
            [
             0.2,
             "#de77ae"
            ],
            [
             0.3,
             "#f1b6da"
            ],
            [
             0.4,
             "#fde0ef"
            ],
            [
             0.5,
             "#f7f7f7"
            ],
            [
             0.6,
             "#e6f5d0"
            ],
            [
             0.7,
             "#b8e186"
            ],
            [
             0.8,
             "#7fbc41"
            ],
            [
             0.9,
             "#4d9221"
            ],
            [
             1,
             "#276419"
            ]
           ],
           "sequential": [
            [
             0,
             "#0d0887"
            ],
            [
             0.1111111111111111,
             "#46039f"
            ],
            [
             0.2222222222222222,
             "#7201a8"
            ],
            [
             0.3333333333333333,
             "#9c179e"
            ],
            [
             0.4444444444444444,
             "#bd3786"
            ],
            [
             0.5555555555555556,
             "#d8576b"
            ],
            [
             0.6666666666666666,
             "#ed7953"
            ],
            [
             0.7777777777777778,
             "#fb9f3a"
            ],
            [
             0.8888888888888888,
             "#fdca26"
            ],
            [
             1,
             "#f0f921"
            ]
           ],
           "sequentialminus": [
            [
             0,
             "#0d0887"
            ],
            [
             0.1111111111111111,
             "#46039f"
            ],
            [
             0.2222222222222222,
             "#7201a8"
            ],
            [
             0.3333333333333333,
             "#9c179e"
            ],
            [
             0.4444444444444444,
             "#bd3786"
            ],
            [
             0.5555555555555556,
             "#d8576b"
            ],
            [
             0.6666666666666666,
             "#ed7953"
            ],
            [
             0.7777777777777778,
             "#fb9f3a"
            ],
            [
             0.8888888888888888,
             "#fdca26"
            ],
            [
             1,
             "#f0f921"
            ]
           ]
          },
          "colorway": [
           "#636efa",
           "#EF553B",
           "#00cc96",
           "#ab63fa",
           "#FFA15A",
           "#19d3f3",
           "#FF6692",
           "#B6E880",
           "#FF97FF",
           "#FECB52"
          ],
          "font": {
           "color": "#2a3f5f"
          },
          "geo": {
           "bgcolor": "white",
           "lakecolor": "white",
           "landcolor": "#E5ECF6",
           "showlakes": true,
           "showland": true,
           "subunitcolor": "white"
          },
          "hoverlabel": {
           "align": "left"
          },
          "hovermode": "closest",
          "mapbox": {
           "style": "light"
          },
          "paper_bgcolor": "white",
          "plot_bgcolor": "#E5ECF6",
          "polar": {
           "angularaxis": {
            "gridcolor": "white",
            "linecolor": "white",
            "ticks": ""
           },
           "bgcolor": "#E5ECF6",
           "radialaxis": {
            "gridcolor": "white",
            "linecolor": "white",
            "ticks": ""
           }
          },
          "scene": {
           "xaxis": {
            "backgroundcolor": "#E5ECF6",
            "gridcolor": "white",
            "gridwidth": 2,
            "linecolor": "white",
            "showbackground": true,
            "ticks": "",
            "zerolinecolor": "white"
           },
           "yaxis": {
            "backgroundcolor": "#E5ECF6",
            "gridcolor": "white",
            "gridwidth": 2,
            "linecolor": "white",
            "showbackground": true,
            "ticks": "",
            "zerolinecolor": "white"
           },
           "zaxis": {
            "backgroundcolor": "#E5ECF6",
            "gridcolor": "white",
            "gridwidth": 2,
            "linecolor": "white",
            "showbackground": true,
            "ticks": "",
            "zerolinecolor": "white"
           }
          },
          "shapedefaults": {
           "line": {
            "color": "#2a3f5f"
           }
          },
          "ternary": {
           "aaxis": {
            "gridcolor": "white",
            "linecolor": "white",
            "ticks": ""
           },
           "baxis": {
            "gridcolor": "white",
            "linecolor": "white",
            "ticks": ""
           },
           "bgcolor": "#E5ECF6",
           "caxis": {
            "gridcolor": "white",
            "linecolor": "white",
            "ticks": ""
           }
          },
          "title": {
           "x": 0.05
          },
          "xaxis": {
           "automargin": true,
           "gridcolor": "white",
           "linecolor": "white",
           "ticks": "",
           "title": {
            "standoff": 15
           },
           "zerolinecolor": "white",
           "zerolinewidth": 2
          },
          "yaxis": {
           "automargin": true,
           "gridcolor": "white",
           "linecolor": "white",
           "ticks": "",
           "title": {
            "standoff": 15
           },
           "zerolinecolor": "white",
           "zerolinewidth": 2
          }
         }
        },
        "title": {
         "text": "SIFT through AGE"
        },
        "width": 1000,
        "xaxis": {
         "anchor": "y",
         "domain": [
          0,
          0.98
         ],
         "title": {
          "text": "Sample"
         }
        },
        "xaxis2": {
         "anchor": "y2",
         "domain": [
          0,
          0.98
         ],
         "matches": "x",
         "showticklabels": false
        },
        "yaxis": {
         "anchor": "x",
         "domain": [
          0,
          0.485
         ],
         "title": {
          "text": "value"
         }
        },
        "yaxis2": {
         "anchor": "x2",
         "domain": [
          0.515,
          1
         ],
         "title": {
          "text": "value"
         }
        }
       }
      },
      "text/html": [
       "<div>                            <div id=\"51515cf5-d41a-4af9-96a1-57e9d9a8a9bd\" class=\"plotly-graph-div\" style=\"height:1000px; width:1000px;\"></div>            <script type=\"text/javascript\">                require([\"plotly\"], function(Plotly) {                    window.PLOTLYENV=window.PLOTLYENV || {};                                    if (document.getElementById(\"51515cf5-d41a-4af9-96a1-57e9d9a8a9bd\")) {                    Plotly.newPlot(                        \"51515cf5-d41a-4af9-96a1-57e9d9a8a9bd\",                        [{\"hovertemplate\":\"Method=BWA1-bam<br>variable=PCT_SIFT_DELETARIOUS<br>Sample=%{x}<br>value=%{y}<extra></extra>\",\"legendgroup\":\"BWA1-bam\",\"marker\":{\"color\":\"#636efa\",\"line\":{\"width\":2},\"size\":5,\"symbol\":\"circle\"},\"mode\":\"lines+markers\",\"name\":\"BWA1-bam\",\"orientation\":\"v\",\"showlegend\":true,\"type\":\"scatter\",\"x\":[\"SZ43\",\"SZ45\",\"SZ4\",\"SZ15\",\"BR2\",\"ATP016\",\"NG10\",\"PB675\",\"BOT2016\",\"JP14\",\"NE1\",\"Stutgart\",\"Loschbour\",\"SF12\",\"KK1\",\"Sunghir3\",\"UstIshim\"],\"xaxis\":\"x2\",\"y\":[38.72842707681302,40.19500919701138,47.87389368567154,33.86949369402303,31.66802904265038,45.94326295292276,28.43021540277368,34.984586863265,33.43665487830248,35.187711021174785,34.80244366867661,30.48182415693412,26.97675829844044,20.17057273609763,47.02984767616841,31.814284948829233,21.944967727988637],\"yaxis\":\"y2\"},{\"hovertemplate\":\"Method=BWA1-bam<br>variable=PCT_SIFT_NOT-DELETARIOUS<br>Sample=%{x}<br>value=%{y}<extra></extra>\",\"legendgroup\":\"BWA1-bam\",\"marker\":{\"color\":\"#636efa\",\"line\":{\"width\":2},\"size\":5,\"symbol\":\"circle\"},\"mode\":\"lines+markers\",\"name\":\"BWA1-bam\",\"orientation\":\"v\",\"showlegend\":false,\"type\":\"scatter\",\"x\":[\"SZ43\",\"SZ45\",\"SZ4\",\"SZ15\",\"BR2\",\"ATP016\",\"NG10\",\"PB675\",\"BOT2016\",\"JP14\",\"NE1\",\"Stutgart\",\"Loschbour\",\"SF12\",\"KK1\",\"Sunghir3\",\"UstIshim\"],\"xaxis\":\"x\",\"y\":[61.27157292318698,59.80499080298862,52.12610631432846,66.13050630597697,68.33197095734961,54.05673704707724,71.56978459722632,65.015413136735,66.56334512169752,64.81228897882521,65.19755633132338,69.51817584306588,73.02324170155956,79.82942726390237,52.97015232383159,68.18571505117076,78.05503227201136],\"yaxis\":\"y\"},{\"hovertemplate\":\"Method=VG-gam<br>variable=PCT_SIFT_DELETARIOUS<br>Sample=%{x}<br>value=%{y}<extra></extra>\",\"legendgroup\":\"VG-gam\",\"marker\":{\"color\":\"#EF553B\",\"line\":{\"width\":2},\"size\":5,\"symbol\":\"circle\"},\"mode\":\"lines+markers\",\"name\":\"VG-gam\",\"orientation\":\"v\",\"showlegend\":true,\"type\":\"scatter\",\"x\":[\"SZ43\",\"SZ45\",\"SZ4\",\"SZ15\",\"BR2\",\"ATP016\",\"NG10\",\"PB675\",\"BOT2016\",\"JP14\",\"NE1\",\"Stutgart\",\"Loschbour\",\"SF12\",\"KK1\",\"Sunghir3\",\"UstIshim\"],\"xaxis\":\"x2\",\"y\":[20.62932393087053,21.328828234300346,21.88986232790989,20.788885430519795,20.16567904220583,25.78879008891997,19.671771743556015,20.81491184978986,20.590827584110873,19.84377260234341,20.58414851044909,20.32235661785983,19.225323306378023,18.343907597201888,23.853662713533417,21.939473214816577,18.57767018952589],\"yaxis\":\"y2\"},{\"hovertemplate\":\"Method=VG-gam<br>variable=PCT_SIFT_NOT-DELETARIOUS<br>Sample=%{x}<br>value=%{y}<extra></extra>\",\"legendgroup\":\"VG-gam\",\"marker\":{\"color\":\"#EF553B\",\"line\":{\"width\":2},\"size\":5,\"symbol\":\"circle\"},\"mode\":\"lines+markers\",\"name\":\"VG-gam\",\"orientation\":\"v\",\"showlegend\":false,\"type\":\"scatter\",\"x\":[\"SZ43\",\"SZ45\",\"SZ4\",\"SZ15\",\"BR2\",\"ATP016\",\"NG10\",\"PB675\",\"BOT2016\",\"JP14\",\"NE1\",\"Stutgart\",\"Loschbour\",\"SF12\",\"KK1\",\"Sunghir3\",\"UstIshim\"],\"xaxis\":\"x\",\"y\":[79.37067606912947,78.67117176569965,78.11013767209012,79.2111145694802,79.83432095779418,74.21120991108003,80.32822825644398,79.18508815021013,79.40917241588913,80.1562273976566,79.41585148955092,79.67764338214018,80.77467669362197,81.65609240279811,76.14633728646659,78.06052678518343,81.42232981047411],\"yaxis\":\"y\"},{\"hovertemplate\":\"Method=VG-bam<br>variable=PCT_SIFT_DELETARIOUS<br>Sample=%{x}<br>value=%{y}<extra></extra>\",\"legendgroup\":\"VG-bam\",\"marker\":{\"color\":\"#00cc96\",\"line\":{\"width\":2},\"size\":5,\"symbol\":\"circle\"},\"mode\":\"lines+markers\",\"name\":\"VG-bam\",\"orientation\":\"v\",\"showlegend\":true,\"type\":\"scatter\",\"x\":[\"SZ43\",\"SZ45\",\"SZ4\",\"SZ15\",\"BR2\",\"ATP016\",\"NG10\",\"PB675\",\"BOT2016\",\"JP14\",\"NE1\",\"Stutgart\",\"Loschbour\",\"SF12\",\"KK1\",\"Sunghir3\",\"UstIshim\"],\"xaxis\":\"x2\",\"y\":[34.11604137909642,35.95899225027882,42.22830732216911,32.95676286330492,30.706825811264455,44.06697150407705,41.2521017823114,34.826707834812815,32.056734616915634,33.21046662346079,33.332674285262364,30.187360178970916,27.100203823059548,21.672729459158827,40.63702870005628,31.676233608931486,22.246022905777853],\"yaxis\":\"y2\"},{\"hovertemplate\":\"Method=VG-bam<br>variable=PCT_SIFT_NOT-DELETARIOUS<br>Sample=%{x}<br>value=%{y}<extra></extra>\",\"legendgroup\":\"VG-bam\",\"marker\":{\"color\":\"#00cc96\",\"line\":{\"width\":2},\"size\":5,\"symbol\":\"circle\"},\"mode\":\"lines+markers\",\"name\":\"VG-bam\",\"orientation\":\"v\",\"showlegend\":false,\"type\":\"scatter\",\"x\":[\"SZ43\",\"SZ45\",\"SZ4\",\"SZ15\",\"BR2\",\"ATP016\",\"NG10\",\"PB675\",\"BOT2016\",\"JP14\",\"NE1\",\"Stutgart\",\"Loschbour\",\"SF12\",\"KK1\",\"Sunghir3\",\"UstIshim\"],\"xaxis\":\"x\",\"y\":[65.88395862090358,64.04100774972119,57.77169267783089,67.04323713669508,69.29317418873555,55.93302849592295,58.7478982176886,65.17329216518719,67.94326538308437,66.78953337653921,66.66732571473763,69.81263982102908,72.89979617694046,78.32727054084117,59.36297129994372,68.32376639106852,77.75397709422215],\"yaxis\":\"y\"}],                        {\"annotations\":[{\"font\":{},\"showarrow\":false,\"text\":\"NOT-DELETARIOUS\",\"textangle\":90,\"x\":0.98,\"xanchor\":\"left\",\"xref\":\"paper\",\"y\":0.2425,\"yanchor\":\"middle\",\"yref\":\"paper\"},{\"font\":{},\"showarrow\":false,\"text\":\"DELETARIOUS\",\"textangle\":90,\"x\":0.98,\"xanchor\":\"left\",\"xref\":\"paper\",\"y\":0.7575000000000001,\"yanchor\":\"middle\",\"yref\":\"paper\"}],\"height\":1000,\"legend\":{\"title\":{\"text\":\"Method\"},\"tracegroupgap\":0},\"template\":{\"data\":{\"bar\":[{\"error_x\":{\"color\":\"#2a3f5f\"},\"error_y\":{\"color\":\"#2a3f5f\"},\"marker\":{\"line\":{\"color\":\"#E5ECF6\",\"width\":0.5},\"pattern\":{\"fillmode\":\"overlay\",\"size\":10,\"solidity\":0.2}},\"type\":\"bar\"}],\"barpolar\":[{\"marker\":{\"line\":{\"color\":\"#E5ECF6\",\"width\":0.5},\"pattern\":{\"fillmode\":\"overlay\",\"size\":10,\"solidity\":0.2}},\"type\":\"barpolar\"}],\"carpet\":[{\"aaxis\":{\"endlinecolor\":\"#2a3f5f\",\"gridcolor\":\"white\",\"linecolor\":\"white\",\"minorgridcolor\":\"white\",\"startlinecolor\":\"#2a3f5f\"},\"baxis\":{\"endlinecolor\":\"#2a3f5f\",\"gridcolor\":\"white\",\"linecolor\":\"white\",\"minorgridcolor\":\"white\",\"startlinecolor\":\"#2a3f5f\"},\"type\":\"carpet\"}],\"choropleth\":[{\"colorbar\":{\"outlinewidth\":0,\"ticks\":\"\"},\"type\":\"choropleth\"}],\"contour\":[{\"colorbar\":{\"outlinewidth\":0,\"ticks\":\"\"},\"colorscale\":[[0.0,\"#0d0887\"],[0.1111111111111111,\"#46039f\"],[0.2222222222222222,\"#7201a8\"],[0.3333333333333333,\"#9c179e\"],[0.4444444444444444,\"#bd3786\"],[0.5555555555555556,\"#d8576b\"],[0.6666666666666666,\"#ed7953\"],[0.7777777777777778,\"#fb9f3a\"],[0.8888888888888888,\"#fdca26\"],[1.0,\"#f0f921\"]],\"type\":\"contour\"}],\"contourcarpet\":[{\"colorbar\":{\"outlinewidth\":0,\"ticks\":\"\"},\"type\":\"contourcarpet\"}],\"heatmap\":[{\"colorbar\":{\"outlinewidth\":0,\"ticks\":\"\"},\"colorscale\":[[0.0,\"#0d0887\"],[0.1111111111111111,\"#46039f\"],[0.2222222222222222,\"#7201a8\"],[0.3333333333333333,\"#9c179e\"],[0.4444444444444444,\"#bd3786\"],[0.5555555555555556,\"#d8576b\"],[0.6666666666666666,\"#ed7953\"],[0.7777777777777778,\"#fb9f3a\"],[0.8888888888888888,\"#fdca26\"],[1.0,\"#f0f921\"]],\"type\":\"heatmap\"}],\"heatmapgl\":[{\"colorbar\":{\"outlinewidth\":0,\"ticks\":\"\"},\"colorscale\":[[0.0,\"#0d0887\"],[0.1111111111111111,\"#46039f\"],[0.2222222222222222,\"#7201a8\"],[0.3333333333333333,\"#9c179e\"],[0.4444444444444444,\"#bd3786\"],[0.5555555555555556,\"#d8576b\"],[0.6666666666666666,\"#ed7953\"],[0.7777777777777778,\"#fb9f3a\"],[0.8888888888888888,\"#fdca26\"],[1.0,\"#f0f921\"]],\"type\":\"heatmapgl\"}],\"histogram\":[{\"marker\":{\"pattern\":{\"fillmode\":\"overlay\",\"size\":10,\"solidity\":0.2}},\"type\":\"histogram\"}],\"histogram2d\":[{\"colorbar\":{\"outlinewidth\":0,\"ticks\":\"\"},\"colorscale\":[[0.0,\"#0d0887\"],[0.1111111111111111,\"#46039f\"],[0.2222222222222222,\"#7201a8\"],[0.3333333333333333,\"#9c179e\"],[0.4444444444444444,\"#bd3786\"],[0.5555555555555556,\"#d8576b\"],[0.6666666666666666,\"#ed7953\"],[0.7777777777777778,\"#fb9f3a\"],[0.8888888888888888,\"#fdca26\"],[1.0,\"#f0f921\"]],\"type\":\"histogram2d\"}],\"histogram2dcontour\":[{\"colorbar\":{\"outlinewidth\":0,\"ticks\":\"\"},\"colorscale\":[[0.0,\"#0d0887\"],[0.1111111111111111,\"#46039f\"],[0.2222222222222222,\"#7201a8\"],[0.3333333333333333,\"#9c179e\"],[0.4444444444444444,\"#bd3786\"],[0.5555555555555556,\"#d8576b\"],[0.6666666666666666,\"#ed7953\"],[0.7777777777777778,\"#fb9f3a\"],[0.8888888888888888,\"#fdca26\"],[1.0,\"#f0f921\"]],\"type\":\"histogram2dcontour\"}],\"mesh3d\":[{\"colorbar\":{\"outlinewidth\":0,\"ticks\":\"\"},\"type\":\"mesh3d\"}],\"parcoords\":[{\"line\":{\"colorbar\":{\"outlinewidth\":0,\"ticks\":\"\"}},\"type\":\"parcoords\"}],\"pie\":[{\"automargin\":true,\"type\":\"pie\"}],\"scatter\":[{\"marker\":{\"colorbar\":{\"outlinewidth\":0,\"ticks\":\"\"}},\"type\":\"scatter\"}],\"scatter3d\":[{\"line\":{\"colorbar\":{\"outlinewidth\":0,\"ticks\":\"\"}},\"marker\":{\"colorbar\":{\"outlinewidth\":0,\"ticks\":\"\"}},\"type\":\"scatter3d\"}],\"scattercarpet\":[{\"marker\":{\"colorbar\":{\"outlinewidth\":0,\"ticks\":\"\"}},\"type\":\"scattercarpet\"}],\"scattergeo\":[{\"marker\":{\"colorbar\":{\"outlinewidth\":0,\"ticks\":\"\"}},\"type\":\"scattergeo\"}],\"scattergl\":[{\"marker\":{\"colorbar\":{\"outlinewidth\":0,\"ticks\":\"\"}},\"type\":\"scattergl\"}],\"scattermapbox\":[{\"marker\":{\"colorbar\":{\"outlinewidth\":0,\"ticks\":\"\"}},\"type\":\"scattermapbox\"}],\"scatterpolar\":[{\"marker\":{\"colorbar\":{\"outlinewidth\":0,\"ticks\":\"\"}},\"type\":\"scatterpolar\"}],\"scatterpolargl\":[{\"marker\":{\"colorbar\":{\"outlinewidth\":0,\"ticks\":\"\"}},\"type\":\"scatterpolargl\"}],\"scatterternary\":[{\"marker\":{\"colorbar\":{\"outlinewidth\":0,\"ticks\":\"\"}},\"type\":\"scatterternary\"}],\"surface\":[{\"colorbar\":{\"outlinewidth\":0,\"ticks\":\"\"},\"colorscale\":[[0.0,\"#0d0887\"],[0.1111111111111111,\"#46039f\"],[0.2222222222222222,\"#7201a8\"],[0.3333333333333333,\"#9c179e\"],[0.4444444444444444,\"#bd3786\"],[0.5555555555555556,\"#d8576b\"],[0.6666666666666666,\"#ed7953\"],[0.7777777777777778,\"#fb9f3a\"],[0.8888888888888888,\"#fdca26\"],[1.0,\"#f0f921\"]],\"type\":\"surface\"}],\"table\":[{\"cells\":{\"fill\":{\"color\":\"#EBF0F8\"},\"line\":{\"color\":\"white\"}},\"header\":{\"fill\":{\"color\":\"#C8D4E3\"},\"line\":{\"color\":\"white\"}},\"type\":\"table\"}]},\"layout\":{\"annotationdefaults\":{\"arrowcolor\":\"#2a3f5f\",\"arrowhead\":0,\"arrowwidth\":1},\"autotypenumbers\":\"strict\",\"coloraxis\":{\"colorbar\":{\"outlinewidth\":0,\"ticks\":\"\"}},\"colorscale\":{\"diverging\":[[0,\"#8e0152\"],[0.1,\"#c51b7d\"],[0.2,\"#de77ae\"],[0.3,\"#f1b6da\"],[0.4,\"#fde0ef\"],[0.5,\"#f7f7f7\"],[0.6,\"#e6f5d0\"],[0.7,\"#b8e186\"],[0.8,\"#7fbc41\"],[0.9,\"#4d9221\"],[1,\"#276419\"]],\"sequential\":[[0.0,\"#0d0887\"],[0.1111111111111111,\"#46039f\"],[0.2222222222222222,\"#7201a8\"],[0.3333333333333333,\"#9c179e\"],[0.4444444444444444,\"#bd3786\"],[0.5555555555555556,\"#d8576b\"],[0.6666666666666666,\"#ed7953\"],[0.7777777777777778,\"#fb9f3a\"],[0.8888888888888888,\"#fdca26\"],[1.0,\"#f0f921\"]],\"sequentialminus\":[[0.0,\"#0d0887\"],[0.1111111111111111,\"#46039f\"],[0.2222222222222222,\"#7201a8\"],[0.3333333333333333,\"#9c179e\"],[0.4444444444444444,\"#bd3786\"],[0.5555555555555556,\"#d8576b\"],[0.6666666666666666,\"#ed7953\"],[0.7777777777777778,\"#fb9f3a\"],[0.8888888888888888,\"#fdca26\"],[1.0,\"#f0f921\"]]},\"colorway\":[\"#636efa\",\"#EF553B\",\"#00cc96\",\"#ab63fa\",\"#FFA15A\",\"#19d3f3\",\"#FF6692\",\"#B6E880\",\"#FF97FF\",\"#FECB52\"],\"font\":{\"color\":\"#2a3f5f\"},\"geo\":{\"bgcolor\":\"white\",\"lakecolor\":\"white\",\"landcolor\":\"#E5ECF6\",\"showlakes\":true,\"showland\":true,\"subunitcolor\":\"white\"},\"hoverlabel\":{\"align\":\"left\"},\"hovermode\":\"closest\",\"mapbox\":{\"style\":\"light\"},\"paper_bgcolor\":\"white\",\"plot_bgcolor\":\"#E5ECF6\",\"polar\":{\"angularaxis\":{\"gridcolor\":\"white\",\"linecolor\":\"white\",\"ticks\":\"\"},\"bgcolor\":\"#E5ECF6\",\"radialaxis\":{\"gridcolor\":\"white\",\"linecolor\":\"white\",\"ticks\":\"\"}},\"scene\":{\"xaxis\":{\"backgroundcolor\":\"#E5ECF6\",\"gridcolor\":\"white\",\"gridwidth\":2,\"linecolor\":\"white\",\"showbackground\":true,\"ticks\":\"\",\"zerolinecolor\":\"white\"},\"yaxis\":{\"backgroundcolor\":\"#E5ECF6\",\"gridcolor\":\"white\",\"gridwidth\":2,\"linecolor\":\"white\",\"showbackground\":true,\"ticks\":\"\",\"zerolinecolor\":\"white\"},\"zaxis\":{\"backgroundcolor\":\"#E5ECF6\",\"gridcolor\":\"white\",\"gridwidth\":2,\"linecolor\":\"white\",\"showbackground\":true,\"ticks\":\"\",\"zerolinecolor\":\"white\"}},\"shapedefaults\":{\"line\":{\"color\":\"#2a3f5f\"}},\"ternary\":{\"aaxis\":{\"gridcolor\":\"white\",\"linecolor\":\"white\",\"ticks\":\"\"},\"baxis\":{\"gridcolor\":\"white\",\"linecolor\":\"white\",\"ticks\":\"\"},\"bgcolor\":\"#E5ECF6\",\"caxis\":{\"gridcolor\":\"white\",\"linecolor\":\"white\",\"ticks\":\"\"}},\"title\":{\"x\":0.05},\"xaxis\":{\"automargin\":true,\"gridcolor\":\"white\",\"linecolor\":\"white\",\"ticks\":\"\",\"title\":{\"standoff\":15},\"zerolinecolor\":\"white\",\"zerolinewidth\":2},\"yaxis\":{\"automargin\":true,\"gridcolor\":\"white\",\"linecolor\":\"white\",\"ticks\":\"\",\"title\":{\"standoff\":15},\"zerolinecolor\":\"white\",\"zerolinewidth\":2}}},\"title\":{\"text\":\"SIFT through AGE\"},\"width\":1000,\"xaxis\":{\"anchor\":\"y\",\"domain\":[0.0,0.98],\"title\":{\"text\":\"Sample\"}},\"xaxis2\":{\"anchor\":\"y2\",\"domain\":[0.0,0.98],\"matches\":\"x\",\"showticklabels\":false},\"yaxis\":{\"anchor\":\"x\",\"domain\":[0.0,0.485],\"title\":{\"text\":\"value\"}},\"yaxis2\":{\"anchor\":\"x2\",\"domain\":[0.515,1.0],\"title\":{\"text\":\"value\"}}},                        {\"responsive\": true}                    ).then(function(){\n",
       "                            \n",
       "var gd = document.getElementById('51515cf5-d41a-4af9-96a1-57e9d9a8a9bd');\n",
       "var x = new MutationObserver(function (mutations, observer) {{\n",
       "        var display = window.getComputedStyle(gd).display;\n",
       "        if (!display || display === 'none') {{\n",
       "            console.log([gd, 'removed!']);\n",
       "            Plotly.purge(gd);\n",
       "            observer.disconnect();\n",
       "        }}\n",
       "}});\n",
       "\n",
       "// Listen for the removal of the full notebook cells\n",
       "var notebookContainer = gd.closest('#notebook-container');\n",
       "if (notebookContainer) {{\n",
       "    x.observe(notebookContainer, {childList: true});\n",
       "}}\n",
       "\n",
       "// Listen for the clearing of the current output cell\n",
       "var outputEl = gd.closest('.output');\n",
       "if (outputEl) {{\n",
       "    x.observe(outputEl, {childList: true});\n",
       "}}\n",
       "\n",
       "                        })                };                });            </script>        </div>"
      ]
     },
     "metadata": {},
     "output_type": "display_data"
    }
   ],
   "source": [
    "fig = px.scatter(df_age, y=\"value\", x=\"Sample\", color = \"Method\",facet_row=\"variable\",\n",
    "                 width=1000, height=1000, title=\"SIFT through AGE\")\n",
    "\n",
    "fig.for_each_annotation(lambda a: a.update(text=a.text.split(\"=\")[-1].split(\"_\")[-1]))\n",
    "fig.update_yaxes(matches=None)\n",
    "fig.update_traces(mode='lines+markers', marker_line_width=2, marker_size=5)\n",
    "fig.show()"
   ]
  },
  {
   "cell_type": "code",
   "execution_count": 277,
   "id": "5778ea6d",
   "metadata": {},
   "outputs": [
    {
     "data": {
      "application/vnd.plotly.v1+json": {
       "config": {
        "plotlyServerURL": "https://plot.ly"
       },
       "data": [
        {
         "hovertemplate": "Method=BWA1-bam<br>variable=PCT_SIFT_DELETARIOUS<br>Coverage=%{x}<br>value=%{y}<extra></extra>",
         "legendgroup": "BWA1-bam",
         "marker": {
          "color": "#636efa",
          "line": {
           "width": 2
          },
          "size": 5,
          "symbol": "circle"
         },
         "mode": "lines+markers",
         "name": "BWA1-bam",
         "orientation": "v",
         "showlegend": true,
         "type": "scatter",
         "x": [
          5,
          10,
          20,
          30,
          65
         ],
         "xaxis": "x2",
         "y": [
          39.78041212506962,
          36.474164133738604,
          21.75346521329565,
          20.351401090315637,
          20.17057273609763
         ],
         "yaxis": "y2"
        },
        {
         "hovertemplate": "Method=BWA1-bam<br>variable=PCT_SIFT_NOT-DELETARIOUS<br>Coverage=%{x}<br>value=%{y}<extra></extra>",
         "legendgroup": "BWA1-bam",
         "marker": {
          "color": "#636efa",
          "line": {
           "width": 2
          },
          "size": 5,
          "symbol": "circle"
         },
         "mode": "lines+markers",
         "name": "BWA1-bam",
         "orientation": "v",
         "showlegend": false,
         "type": "scatter",
         "x": [
          5,
          10,
          20,
          30,
          65
         ],
         "xaxis": "x",
         "y": [
          60.21958787493038,
          63.525835866261396,
          78.24653478670434,
          79.64859890968437,
          79.82942726390237
         ],
         "yaxis": "y"
        },
        {
         "hovertemplate": "Method=VG-bam<br>variable=PCT_SIFT_DELETARIOUS<br>Coverage=%{x}<br>value=%{y}<extra></extra>",
         "legendgroup": "VG-bam",
         "marker": {
          "color": "#EF553B",
          "line": {
           "width": 2
          },
          "size": 5,
          "symbol": "circle"
         },
         "mode": "lines+markers",
         "name": "VG-bam",
         "orientation": "v",
         "showlegend": true,
         "type": "scatter",
         "x": [
          5,
          10,
          20,
          30,
          65
         ],
         "xaxis": "x2",
         "y": [
          38.08294714612542,
          35.03838867284874,
          22.767459799442236,
          21.81216208006804,
          21.672729459158827
         ],
         "yaxis": "y2"
        },
        {
         "hovertemplate": "Method=VG-bam<br>variable=PCT_SIFT_NOT-DELETARIOUS<br>Coverage=%{x}<br>value=%{y}<extra></extra>",
         "legendgroup": "VG-bam",
         "marker": {
          "color": "#EF553B",
          "line": {
           "width": 2
          },
          "size": 5,
          "symbol": "circle"
         },
         "mode": "lines+markers",
         "name": "VG-bam",
         "orientation": "v",
         "showlegend": false,
         "type": "scatter",
         "x": [
          5,
          10,
          20,
          30,
          65
         ],
         "xaxis": "x",
         "y": [
          61.91705285387458,
          64.96161132715126,
          77.23254020055776,
          78.18783791993197,
          78.32727054084117
         ],
         "yaxis": "y"
        },
        {
         "hovertemplate": "Method=VG-gam<br>variable=PCT_SIFT_DELETARIOUS<br>Coverage=%{x}<br>value=%{y}<extra></extra>",
         "legendgroup": "VG-gam",
         "marker": {
          "color": "#00cc96",
          "line": {
           "width": 2
          },
          "size": 5,
          "symbol": "circle"
         },
         "mode": "lines+markers",
         "name": "VG-gam",
         "orientation": "v",
         "showlegend": true,
         "type": "scatter",
         "x": [
          65
         ],
         "xaxis": "x2",
         "y": [
          18.343907597201888
         ],
         "yaxis": "y2"
        },
        {
         "hovertemplate": "Method=VG-gam<br>variable=PCT_SIFT_NOT-DELETARIOUS<br>Coverage=%{x}<br>value=%{y}<extra></extra>",
         "legendgroup": "VG-gam",
         "marker": {
          "color": "#00cc96",
          "line": {
           "width": 2
          },
          "size": 5,
          "symbol": "circle"
         },
         "mode": "lines+markers",
         "name": "VG-gam",
         "orientation": "v",
         "showlegend": false,
         "type": "scatter",
         "x": [
          65
         ],
         "xaxis": "x",
         "y": [
          81.65609240279811
         ],
         "yaxis": "y"
        }
       ],
       "layout": {
        "annotations": [
         {
          "font": {},
          "showarrow": false,
          "text": "NOT-DELETARIOUS",
          "textangle": 90,
          "x": 0.98,
          "xanchor": "left",
          "xref": "paper",
          "y": 0.2425,
          "yanchor": "middle",
          "yref": "paper"
         },
         {
          "font": {},
          "showarrow": false,
          "text": "DELETARIOUS",
          "textangle": 90,
          "x": 0.98,
          "xanchor": "left",
          "xref": "paper",
          "y": 0.7575000000000001,
          "yanchor": "middle",
          "yref": "paper"
         }
        ],
        "height": 1000,
        "legend": {
         "title": {
          "text": "Method"
         },
         "tracegroupgap": 0
        },
        "template": {
         "data": {
          "bar": [
           {
            "error_x": {
             "color": "#2a3f5f"
            },
            "error_y": {
             "color": "#2a3f5f"
            },
            "marker": {
             "line": {
              "color": "#E5ECF6",
              "width": 0.5
             },
             "pattern": {
              "fillmode": "overlay",
              "size": 10,
              "solidity": 0.2
             }
            },
            "type": "bar"
           }
          ],
          "barpolar": [
           {
            "marker": {
             "line": {
              "color": "#E5ECF6",
              "width": 0.5
             },
             "pattern": {
              "fillmode": "overlay",
              "size": 10,
              "solidity": 0.2
             }
            },
            "type": "barpolar"
           }
          ],
          "carpet": [
           {
            "aaxis": {
             "endlinecolor": "#2a3f5f",
             "gridcolor": "white",
             "linecolor": "white",
             "minorgridcolor": "white",
             "startlinecolor": "#2a3f5f"
            },
            "baxis": {
             "endlinecolor": "#2a3f5f",
             "gridcolor": "white",
             "linecolor": "white",
             "minorgridcolor": "white",
             "startlinecolor": "#2a3f5f"
            },
            "type": "carpet"
           }
          ],
          "choropleth": [
           {
            "colorbar": {
             "outlinewidth": 0,
             "ticks": ""
            },
            "type": "choropleth"
           }
          ],
          "contour": [
           {
            "colorbar": {
             "outlinewidth": 0,
             "ticks": ""
            },
            "colorscale": [
             [
              0,
              "#0d0887"
             ],
             [
              0.1111111111111111,
              "#46039f"
             ],
             [
              0.2222222222222222,
              "#7201a8"
             ],
             [
              0.3333333333333333,
              "#9c179e"
             ],
             [
              0.4444444444444444,
              "#bd3786"
             ],
             [
              0.5555555555555556,
              "#d8576b"
             ],
             [
              0.6666666666666666,
              "#ed7953"
             ],
             [
              0.7777777777777778,
              "#fb9f3a"
             ],
             [
              0.8888888888888888,
              "#fdca26"
             ],
             [
              1,
              "#f0f921"
             ]
            ],
            "type": "contour"
           }
          ],
          "contourcarpet": [
           {
            "colorbar": {
             "outlinewidth": 0,
             "ticks": ""
            },
            "type": "contourcarpet"
           }
          ],
          "heatmap": [
           {
            "colorbar": {
             "outlinewidth": 0,
             "ticks": ""
            },
            "colorscale": [
             [
              0,
              "#0d0887"
             ],
             [
              0.1111111111111111,
              "#46039f"
             ],
             [
              0.2222222222222222,
              "#7201a8"
             ],
             [
              0.3333333333333333,
              "#9c179e"
             ],
             [
              0.4444444444444444,
              "#bd3786"
             ],
             [
              0.5555555555555556,
              "#d8576b"
             ],
             [
              0.6666666666666666,
              "#ed7953"
             ],
             [
              0.7777777777777778,
              "#fb9f3a"
             ],
             [
              0.8888888888888888,
              "#fdca26"
             ],
             [
              1,
              "#f0f921"
             ]
            ],
            "type": "heatmap"
           }
          ],
          "heatmapgl": [
           {
            "colorbar": {
             "outlinewidth": 0,
             "ticks": ""
            },
            "colorscale": [
             [
              0,
              "#0d0887"
             ],
             [
              0.1111111111111111,
              "#46039f"
             ],
             [
              0.2222222222222222,
              "#7201a8"
             ],
             [
              0.3333333333333333,
              "#9c179e"
             ],
             [
              0.4444444444444444,
              "#bd3786"
             ],
             [
              0.5555555555555556,
              "#d8576b"
             ],
             [
              0.6666666666666666,
              "#ed7953"
             ],
             [
              0.7777777777777778,
              "#fb9f3a"
             ],
             [
              0.8888888888888888,
              "#fdca26"
             ],
             [
              1,
              "#f0f921"
             ]
            ],
            "type": "heatmapgl"
           }
          ],
          "histogram": [
           {
            "marker": {
             "pattern": {
              "fillmode": "overlay",
              "size": 10,
              "solidity": 0.2
             }
            },
            "type": "histogram"
           }
          ],
          "histogram2d": [
           {
            "colorbar": {
             "outlinewidth": 0,
             "ticks": ""
            },
            "colorscale": [
             [
              0,
              "#0d0887"
             ],
             [
              0.1111111111111111,
              "#46039f"
             ],
             [
              0.2222222222222222,
              "#7201a8"
             ],
             [
              0.3333333333333333,
              "#9c179e"
             ],
             [
              0.4444444444444444,
              "#bd3786"
             ],
             [
              0.5555555555555556,
              "#d8576b"
             ],
             [
              0.6666666666666666,
              "#ed7953"
             ],
             [
              0.7777777777777778,
              "#fb9f3a"
             ],
             [
              0.8888888888888888,
              "#fdca26"
             ],
             [
              1,
              "#f0f921"
             ]
            ],
            "type": "histogram2d"
           }
          ],
          "histogram2dcontour": [
           {
            "colorbar": {
             "outlinewidth": 0,
             "ticks": ""
            },
            "colorscale": [
             [
              0,
              "#0d0887"
             ],
             [
              0.1111111111111111,
              "#46039f"
             ],
             [
              0.2222222222222222,
              "#7201a8"
             ],
             [
              0.3333333333333333,
              "#9c179e"
             ],
             [
              0.4444444444444444,
              "#bd3786"
             ],
             [
              0.5555555555555556,
              "#d8576b"
             ],
             [
              0.6666666666666666,
              "#ed7953"
             ],
             [
              0.7777777777777778,
              "#fb9f3a"
             ],
             [
              0.8888888888888888,
              "#fdca26"
             ],
             [
              1,
              "#f0f921"
             ]
            ],
            "type": "histogram2dcontour"
           }
          ],
          "mesh3d": [
           {
            "colorbar": {
             "outlinewidth": 0,
             "ticks": ""
            },
            "type": "mesh3d"
           }
          ],
          "parcoords": [
           {
            "line": {
             "colorbar": {
              "outlinewidth": 0,
              "ticks": ""
             }
            },
            "type": "parcoords"
           }
          ],
          "pie": [
           {
            "automargin": true,
            "type": "pie"
           }
          ],
          "scatter": [
           {
            "marker": {
             "colorbar": {
              "outlinewidth": 0,
              "ticks": ""
             }
            },
            "type": "scatter"
           }
          ],
          "scatter3d": [
           {
            "line": {
             "colorbar": {
              "outlinewidth": 0,
              "ticks": ""
             }
            },
            "marker": {
             "colorbar": {
              "outlinewidth": 0,
              "ticks": ""
             }
            },
            "type": "scatter3d"
           }
          ],
          "scattercarpet": [
           {
            "marker": {
             "colorbar": {
              "outlinewidth": 0,
              "ticks": ""
             }
            },
            "type": "scattercarpet"
           }
          ],
          "scattergeo": [
           {
            "marker": {
             "colorbar": {
              "outlinewidth": 0,
              "ticks": ""
             }
            },
            "type": "scattergeo"
           }
          ],
          "scattergl": [
           {
            "marker": {
             "colorbar": {
              "outlinewidth": 0,
              "ticks": ""
             }
            },
            "type": "scattergl"
           }
          ],
          "scattermapbox": [
           {
            "marker": {
             "colorbar": {
              "outlinewidth": 0,
              "ticks": ""
             }
            },
            "type": "scattermapbox"
           }
          ],
          "scatterpolar": [
           {
            "marker": {
             "colorbar": {
              "outlinewidth": 0,
              "ticks": ""
             }
            },
            "type": "scatterpolar"
           }
          ],
          "scatterpolargl": [
           {
            "marker": {
             "colorbar": {
              "outlinewidth": 0,
              "ticks": ""
             }
            },
            "type": "scatterpolargl"
           }
          ],
          "scatterternary": [
           {
            "marker": {
             "colorbar": {
              "outlinewidth": 0,
              "ticks": ""
             }
            },
            "type": "scatterternary"
           }
          ],
          "surface": [
           {
            "colorbar": {
             "outlinewidth": 0,
             "ticks": ""
            },
            "colorscale": [
             [
              0,
              "#0d0887"
             ],
             [
              0.1111111111111111,
              "#46039f"
             ],
             [
              0.2222222222222222,
              "#7201a8"
             ],
             [
              0.3333333333333333,
              "#9c179e"
             ],
             [
              0.4444444444444444,
              "#bd3786"
             ],
             [
              0.5555555555555556,
              "#d8576b"
             ],
             [
              0.6666666666666666,
              "#ed7953"
             ],
             [
              0.7777777777777778,
              "#fb9f3a"
             ],
             [
              0.8888888888888888,
              "#fdca26"
             ],
             [
              1,
              "#f0f921"
             ]
            ],
            "type": "surface"
           }
          ],
          "table": [
           {
            "cells": {
             "fill": {
              "color": "#EBF0F8"
             },
             "line": {
              "color": "white"
             }
            },
            "header": {
             "fill": {
              "color": "#C8D4E3"
             },
             "line": {
              "color": "white"
             }
            },
            "type": "table"
           }
          ]
         },
         "layout": {
          "annotationdefaults": {
           "arrowcolor": "#2a3f5f",
           "arrowhead": 0,
           "arrowwidth": 1
          },
          "autotypenumbers": "strict",
          "coloraxis": {
           "colorbar": {
            "outlinewidth": 0,
            "ticks": ""
           }
          },
          "colorscale": {
           "diverging": [
            [
             0,
             "#8e0152"
            ],
            [
             0.1,
             "#c51b7d"
            ],
            [
             0.2,
             "#de77ae"
            ],
            [
             0.3,
             "#f1b6da"
            ],
            [
             0.4,
             "#fde0ef"
            ],
            [
             0.5,
             "#f7f7f7"
            ],
            [
             0.6,
             "#e6f5d0"
            ],
            [
             0.7,
             "#b8e186"
            ],
            [
             0.8,
             "#7fbc41"
            ],
            [
             0.9,
             "#4d9221"
            ],
            [
             1,
             "#276419"
            ]
           ],
           "sequential": [
            [
             0,
             "#0d0887"
            ],
            [
             0.1111111111111111,
             "#46039f"
            ],
            [
             0.2222222222222222,
             "#7201a8"
            ],
            [
             0.3333333333333333,
             "#9c179e"
            ],
            [
             0.4444444444444444,
             "#bd3786"
            ],
            [
             0.5555555555555556,
             "#d8576b"
            ],
            [
             0.6666666666666666,
             "#ed7953"
            ],
            [
             0.7777777777777778,
             "#fb9f3a"
            ],
            [
             0.8888888888888888,
             "#fdca26"
            ],
            [
             1,
             "#f0f921"
            ]
           ],
           "sequentialminus": [
            [
             0,
             "#0d0887"
            ],
            [
             0.1111111111111111,
             "#46039f"
            ],
            [
             0.2222222222222222,
             "#7201a8"
            ],
            [
             0.3333333333333333,
             "#9c179e"
            ],
            [
             0.4444444444444444,
             "#bd3786"
            ],
            [
             0.5555555555555556,
             "#d8576b"
            ],
            [
             0.6666666666666666,
             "#ed7953"
            ],
            [
             0.7777777777777778,
             "#fb9f3a"
            ],
            [
             0.8888888888888888,
             "#fdca26"
            ],
            [
             1,
             "#f0f921"
            ]
           ]
          },
          "colorway": [
           "#636efa",
           "#EF553B",
           "#00cc96",
           "#ab63fa",
           "#FFA15A",
           "#19d3f3",
           "#FF6692",
           "#B6E880",
           "#FF97FF",
           "#FECB52"
          ],
          "font": {
           "color": "#2a3f5f"
          },
          "geo": {
           "bgcolor": "white",
           "lakecolor": "white",
           "landcolor": "#E5ECF6",
           "showlakes": true,
           "showland": true,
           "subunitcolor": "white"
          },
          "hoverlabel": {
           "align": "left"
          },
          "hovermode": "closest",
          "mapbox": {
           "style": "light"
          },
          "paper_bgcolor": "white",
          "plot_bgcolor": "#E5ECF6",
          "polar": {
           "angularaxis": {
            "gridcolor": "white",
            "linecolor": "white",
            "ticks": ""
           },
           "bgcolor": "#E5ECF6",
           "radialaxis": {
            "gridcolor": "white",
            "linecolor": "white",
            "ticks": ""
           }
          },
          "scene": {
           "xaxis": {
            "backgroundcolor": "#E5ECF6",
            "gridcolor": "white",
            "gridwidth": 2,
            "linecolor": "white",
            "showbackground": true,
            "ticks": "",
            "zerolinecolor": "white"
           },
           "yaxis": {
            "backgroundcolor": "#E5ECF6",
            "gridcolor": "white",
            "gridwidth": 2,
            "linecolor": "white",
            "showbackground": true,
            "ticks": "",
            "zerolinecolor": "white"
           },
           "zaxis": {
            "backgroundcolor": "#E5ECF6",
            "gridcolor": "white",
            "gridwidth": 2,
            "linecolor": "white",
            "showbackground": true,
            "ticks": "",
            "zerolinecolor": "white"
           }
          },
          "shapedefaults": {
           "line": {
            "color": "#2a3f5f"
           }
          },
          "ternary": {
           "aaxis": {
            "gridcolor": "white",
            "linecolor": "white",
            "ticks": ""
           },
           "baxis": {
            "gridcolor": "white",
            "linecolor": "white",
            "ticks": ""
           },
           "bgcolor": "#E5ECF6",
           "caxis": {
            "gridcolor": "white",
            "linecolor": "white",
            "ticks": ""
           }
          },
          "title": {
           "x": 0.05
          },
          "xaxis": {
           "automargin": true,
           "gridcolor": "white",
           "linecolor": "white",
           "ticks": "",
           "title": {
            "standoff": 15
           },
           "zerolinecolor": "white",
           "zerolinewidth": 2
          },
          "yaxis": {
           "automargin": true,
           "gridcolor": "white",
           "linecolor": "white",
           "ticks": "",
           "title": {
            "standoff": 15
           },
           "zerolinecolor": "white",
           "zerolinewidth": 2
          }
         }
        },
        "title": {
         "text": "SIFT through COVERAGE"
        },
        "width": 1000,
        "xaxis": {
         "anchor": "y",
         "domain": [
          0,
          0.98
         ],
         "title": {
          "text": "Coverage"
         }
        },
        "xaxis2": {
         "anchor": "y2",
         "domain": [
          0,
          0.98
         ],
         "matches": "x",
         "showticklabels": false
        },
        "yaxis": {
         "anchor": "x",
         "domain": [
          0,
          0.485
         ],
         "title": {
          "text": "value"
         }
        },
        "yaxis2": {
         "anchor": "x2",
         "domain": [
          0.515,
          1
         ],
         "title": {
          "text": "value"
         }
        }
       }
      },
      "text/html": [
       "<div>                            <div id=\"d7d9b192-68d3-418f-adc9-79679f59efed\" class=\"plotly-graph-div\" style=\"height:1000px; width:1000px;\"></div>            <script type=\"text/javascript\">                require([\"plotly\"], function(Plotly) {                    window.PLOTLYENV=window.PLOTLYENV || {};                                    if (document.getElementById(\"d7d9b192-68d3-418f-adc9-79679f59efed\")) {                    Plotly.newPlot(                        \"d7d9b192-68d3-418f-adc9-79679f59efed\",                        [{\"hovertemplate\":\"Method=BWA1-bam<br>variable=PCT_SIFT_DELETARIOUS<br>Coverage=%{x}<br>value=%{y}<extra></extra>\",\"legendgroup\":\"BWA1-bam\",\"marker\":{\"color\":\"#636efa\",\"line\":{\"width\":2},\"size\":5,\"symbol\":\"circle\"},\"mode\":\"lines+markers\",\"name\":\"BWA1-bam\",\"orientation\":\"v\",\"showlegend\":true,\"type\":\"scatter\",\"x\":[5,10,20,30,65],\"xaxis\":\"x2\",\"y\":[39.78041212506962,36.474164133738604,21.75346521329565,20.351401090315637,20.17057273609763],\"yaxis\":\"y2\"},{\"hovertemplate\":\"Method=BWA1-bam<br>variable=PCT_SIFT_NOT-DELETARIOUS<br>Coverage=%{x}<br>value=%{y}<extra></extra>\",\"legendgroup\":\"BWA1-bam\",\"marker\":{\"color\":\"#636efa\",\"line\":{\"width\":2},\"size\":5,\"symbol\":\"circle\"},\"mode\":\"lines+markers\",\"name\":\"BWA1-bam\",\"orientation\":\"v\",\"showlegend\":false,\"type\":\"scatter\",\"x\":[5,10,20,30,65],\"xaxis\":\"x\",\"y\":[60.21958787493038,63.525835866261396,78.24653478670434,79.64859890968437,79.82942726390237],\"yaxis\":\"y\"},{\"hovertemplate\":\"Method=VG-bam<br>variable=PCT_SIFT_DELETARIOUS<br>Coverage=%{x}<br>value=%{y}<extra></extra>\",\"legendgroup\":\"VG-bam\",\"marker\":{\"color\":\"#EF553B\",\"line\":{\"width\":2},\"size\":5,\"symbol\":\"circle\"},\"mode\":\"lines+markers\",\"name\":\"VG-bam\",\"orientation\":\"v\",\"showlegend\":true,\"type\":\"scatter\",\"x\":[5,10,20,30,65],\"xaxis\":\"x2\",\"y\":[38.08294714612542,35.03838867284874,22.767459799442236,21.81216208006804,21.672729459158827],\"yaxis\":\"y2\"},{\"hovertemplate\":\"Method=VG-bam<br>variable=PCT_SIFT_NOT-DELETARIOUS<br>Coverage=%{x}<br>value=%{y}<extra></extra>\",\"legendgroup\":\"VG-bam\",\"marker\":{\"color\":\"#EF553B\",\"line\":{\"width\":2},\"size\":5,\"symbol\":\"circle\"},\"mode\":\"lines+markers\",\"name\":\"VG-bam\",\"orientation\":\"v\",\"showlegend\":false,\"type\":\"scatter\",\"x\":[5,10,20,30,65],\"xaxis\":\"x\",\"y\":[61.91705285387458,64.96161132715126,77.23254020055776,78.18783791993197,78.32727054084117],\"yaxis\":\"y\"},{\"hovertemplate\":\"Method=VG-gam<br>variable=PCT_SIFT_DELETARIOUS<br>Coverage=%{x}<br>value=%{y}<extra></extra>\",\"legendgroup\":\"VG-gam\",\"marker\":{\"color\":\"#00cc96\",\"line\":{\"width\":2},\"size\":5,\"symbol\":\"circle\"},\"mode\":\"lines+markers\",\"name\":\"VG-gam\",\"orientation\":\"v\",\"showlegend\":true,\"type\":\"scatter\",\"x\":[65],\"xaxis\":\"x2\",\"y\":[18.343907597201888],\"yaxis\":\"y2\"},{\"hovertemplate\":\"Method=VG-gam<br>variable=PCT_SIFT_NOT-DELETARIOUS<br>Coverage=%{x}<br>value=%{y}<extra></extra>\",\"legendgroup\":\"VG-gam\",\"marker\":{\"color\":\"#00cc96\",\"line\":{\"width\":2},\"size\":5,\"symbol\":\"circle\"},\"mode\":\"lines+markers\",\"name\":\"VG-gam\",\"orientation\":\"v\",\"showlegend\":false,\"type\":\"scatter\",\"x\":[65],\"xaxis\":\"x\",\"y\":[81.65609240279811],\"yaxis\":\"y\"}],                        {\"annotations\":[{\"font\":{},\"showarrow\":false,\"text\":\"NOT-DELETARIOUS\",\"textangle\":90,\"x\":0.98,\"xanchor\":\"left\",\"xref\":\"paper\",\"y\":0.2425,\"yanchor\":\"middle\",\"yref\":\"paper\"},{\"font\":{},\"showarrow\":false,\"text\":\"DELETARIOUS\",\"textangle\":90,\"x\":0.98,\"xanchor\":\"left\",\"xref\":\"paper\",\"y\":0.7575000000000001,\"yanchor\":\"middle\",\"yref\":\"paper\"}],\"height\":1000,\"legend\":{\"title\":{\"text\":\"Method\"},\"tracegroupgap\":0},\"template\":{\"data\":{\"bar\":[{\"error_x\":{\"color\":\"#2a3f5f\"},\"error_y\":{\"color\":\"#2a3f5f\"},\"marker\":{\"line\":{\"color\":\"#E5ECF6\",\"width\":0.5},\"pattern\":{\"fillmode\":\"overlay\",\"size\":10,\"solidity\":0.2}},\"type\":\"bar\"}],\"barpolar\":[{\"marker\":{\"line\":{\"color\":\"#E5ECF6\",\"width\":0.5},\"pattern\":{\"fillmode\":\"overlay\",\"size\":10,\"solidity\":0.2}},\"type\":\"barpolar\"}],\"carpet\":[{\"aaxis\":{\"endlinecolor\":\"#2a3f5f\",\"gridcolor\":\"white\",\"linecolor\":\"white\",\"minorgridcolor\":\"white\",\"startlinecolor\":\"#2a3f5f\"},\"baxis\":{\"endlinecolor\":\"#2a3f5f\",\"gridcolor\":\"white\",\"linecolor\":\"white\",\"minorgridcolor\":\"white\",\"startlinecolor\":\"#2a3f5f\"},\"type\":\"carpet\"}],\"choropleth\":[{\"colorbar\":{\"outlinewidth\":0,\"ticks\":\"\"},\"type\":\"choropleth\"}],\"contour\":[{\"colorbar\":{\"outlinewidth\":0,\"ticks\":\"\"},\"colorscale\":[[0.0,\"#0d0887\"],[0.1111111111111111,\"#46039f\"],[0.2222222222222222,\"#7201a8\"],[0.3333333333333333,\"#9c179e\"],[0.4444444444444444,\"#bd3786\"],[0.5555555555555556,\"#d8576b\"],[0.6666666666666666,\"#ed7953\"],[0.7777777777777778,\"#fb9f3a\"],[0.8888888888888888,\"#fdca26\"],[1.0,\"#f0f921\"]],\"type\":\"contour\"}],\"contourcarpet\":[{\"colorbar\":{\"outlinewidth\":0,\"ticks\":\"\"},\"type\":\"contourcarpet\"}],\"heatmap\":[{\"colorbar\":{\"outlinewidth\":0,\"ticks\":\"\"},\"colorscale\":[[0.0,\"#0d0887\"],[0.1111111111111111,\"#46039f\"],[0.2222222222222222,\"#7201a8\"],[0.3333333333333333,\"#9c179e\"],[0.4444444444444444,\"#bd3786\"],[0.5555555555555556,\"#d8576b\"],[0.6666666666666666,\"#ed7953\"],[0.7777777777777778,\"#fb9f3a\"],[0.8888888888888888,\"#fdca26\"],[1.0,\"#f0f921\"]],\"type\":\"heatmap\"}],\"heatmapgl\":[{\"colorbar\":{\"outlinewidth\":0,\"ticks\":\"\"},\"colorscale\":[[0.0,\"#0d0887\"],[0.1111111111111111,\"#46039f\"],[0.2222222222222222,\"#7201a8\"],[0.3333333333333333,\"#9c179e\"],[0.4444444444444444,\"#bd3786\"],[0.5555555555555556,\"#d8576b\"],[0.6666666666666666,\"#ed7953\"],[0.7777777777777778,\"#fb9f3a\"],[0.8888888888888888,\"#fdca26\"],[1.0,\"#f0f921\"]],\"type\":\"heatmapgl\"}],\"histogram\":[{\"marker\":{\"pattern\":{\"fillmode\":\"overlay\",\"size\":10,\"solidity\":0.2}},\"type\":\"histogram\"}],\"histogram2d\":[{\"colorbar\":{\"outlinewidth\":0,\"ticks\":\"\"},\"colorscale\":[[0.0,\"#0d0887\"],[0.1111111111111111,\"#46039f\"],[0.2222222222222222,\"#7201a8\"],[0.3333333333333333,\"#9c179e\"],[0.4444444444444444,\"#bd3786\"],[0.5555555555555556,\"#d8576b\"],[0.6666666666666666,\"#ed7953\"],[0.7777777777777778,\"#fb9f3a\"],[0.8888888888888888,\"#fdca26\"],[1.0,\"#f0f921\"]],\"type\":\"histogram2d\"}],\"histogram2dcontour\":[{\"colorbar\":{\"outlinewidth\":0,\"ticks\":\"\"},\"colorscale\":[[0.0,\"#0d0887\"],[0.1111111111111111,\"#46039f\"],[0.2222222222222222,\"#7201a8\"],[0.3333333333333333,\"#9c179e\"],[0.4444444444444444,\"#bd3786\"],[0.5555555555555556,\"#d8576b\"],[0.6666666666666666,\"#ed7953\"],[0.7777777777777778,\"#fb9f3a\"],[0.8888888888888888,\"#fdca26\"],[1.0,\"#f0f921\"]],\"type\":\"histogram2dcontour\"}],\"mesh3d\":[{\"colorbar\":{\"outlinewidth\":0,\"ticks\":\"\"},\"type\":\"mesh3d\"}],\"parcoords\":[{\"line\":{\"colorbar\":{\"outlinewidth\":0,\"ticks\":\"\"}},\"type\":\"parcoords\"}],\"pie\":[{\"automargin\":true,\"type\":\"pie\"}],\"scatter\":[{\"marker\":{\"colorbar\":{\"outlinewidth\":0,\"ticks\":\"\"}},\"type\":\"scatter\"}],\"scatter3d\":[{\"line\":{\"colorbar\":{\"outlinewidth\":0,\"ticks\":\"\"}},\"marker\":{\"colorbar\":{\"outlinewidth\":0,\"ticks\":\"\"}},\"type\":\"scatter3d\"}],\"scattercarpet\":[{\"marker\":{\"colorbar\":{\"outlinewidth\":0,\"ticks\":\"\"}},\"type\":\"scattercarpet\"}],\"scattergeo\":[{\"marker\":{\"colorbar\":{\"outlinewidth\":0,\"ticks\":\"\"}},\"type\":\"scattergeo\"}],\"scattergl\":[{\"marker\":{\"colorbar\":{\"outlinewidth\":0,\"ticks\":\"\"}},\"type\":\"scattergl\"}],\"scattermapbox\":[{\"marker\":{\"colorbar\":{\"outlinewidth\":0,\"ticks\":\"\"}},\"type\":\"scattermapbox\"}],\"scatterpolar\":[{\"marker\":{\"colorbar\":{\"outlinewidth\":0,\"ticks\":\"\"}},\"type\":\"scatterpolar\"}],\"scatterpolargl\":[{\"marker\":{\"colorbar\":{\"outlinewidth\":0,\"ticks\":\"\"}},\"type\":\"scatterpolargl\"}],\"scatterternary\":[{\"marker\":{\"colorbar\":{\"outlinewidth\":0,\"ticks\":\"\"}},\"type\":\"scatterternary\"}],\"surface\":[{\"colorbar\":{\"outlinewidth\":0,\"ticks\":\"\"},\"colorscale\":[[0.0,\"#0d0887\"],[0.1111111111111111,\"#46039f\"],[0.2222222222222222,\"#7201a8\"],[0.3333333333333333,\"#9c179e\"],[0.4444444444444444,\"#bd3786\"],[0.5555555555555556,\"#d8576b\"],[0.6666666666666666,\"#ed7953\"],[0.7777777777777778,\"#fb9f3a\"],[0.8888888888888888,\"#fdca26\"],[1.0,\"#f0f921\"]],\"type\":\"surface\"}],\"table\":[{\"cells\":{\"fill\":{\"color\":\"#EBF0F8\"},\"line\":{\"color\":\"white\"}},\"header\":{\"fill\":{\"color\":\"#C8D4E3\"},\"line\":{\"color\":\"white\"}},\"type\":\"table\"}]},\"layout\":{\"annotationdefaults\":{\"arrowcolor\":\"#2a3f5f\",\"arrowhead\":0,\"arrowwidth\":1},\"autotypenumbers\":\"strict\",\"coloraxis\":{\"colorbar\":{\"outlinewidth\":0,\"ticks\":\"\"}},\"colorscale\":{\"diverging\":[[0,\"#8e0152\"],[0.1,\"#c51b7d\"],[0.2,\"#de77ae\"],[0.3,\"#f1b6da\"],[0.4,\"#fde0ef\"],[0.5,\"#f7f7f7\"],[0.6,\"#e6f5d0\"],[0.7,\"#b8e186\"],[0.8,\"#7fbc41\"],[0.9,\"#4d9221\"],[1,\"#276419\"]],\"sequential\":[[0.0,\"#0d0887\"],[0.1111111111111111,\"#46039f\"],[0.2222222222222222,\"#7201a8\"],[0.3333333333333333,\"#9c179e\"],[0.4444444444444444,\"#bd3786\"],[0.5555555555555556,\"#d8576b\"],[0.6666666666666666,\"#ed7953\"],[0.7777777777777778,\"#fb9f3a\"],[0.8888888888888888,\"#fdca26\"],[1.0,\"#f0f921\"]],\"sequentialminus\":[[0.0,\"#0d0887\"],[0.1111111111111111,\"#46039f\"],[0.2222222222222222,\"#7201a8\"],[0.3333333333333333,\"#9c179e\"],[0.4444444444444444,\"#bd3786\"],[0.5555555555555556,\"#d8576b\"],[0.6666666666666666,\"#ed7953\"],[0.7777777777777778,\"#fb9f3a\"],[0.8888888888888888,\"#fdca26\"],[1.0,\"#f0f921\"]]},\"colorway\":[\"#636efa\",\"#EF553B\",\"#00cc96\",\"#ab63fa\",\"#FFA15A\",\"#19d3f3\",\"#FF6692\",\"#B6E880\",\"#FF97FF\",\"#FECB52\"],\"font\":{\"color\":\"#2a3f5f\"},\"geo\":{\"bgcolor\":\"white\",\"lakecolor\":\"white\",\"landcolor\":\"#E5ECF6\",\"showlakes\":true,\"showland\":true,\"subunitcolor\":\"white\"},\"hoverlabel\":{\"align\":\"left\"},\"hovermode\":\"closest\",\"mapbox\":{\"style\":\"light\"},\"paper_bgcolor\":\"white\",\"plot_bgcolor\":\"#E5ECF6\",\"polar\":{\"angularaxis\":{\"gridcolor\":\"white\",\"linecolor\":\"white\",\"ticks\":\"\"},\"bgcolor\":\"#E5ECF6\",\"radialaxis\":{\"gridcolor\":\"white\",\"linecolor\":\"white\",\"ticks\":\"\"}},\"scene\":{\"xaxis\":{\"backgroundcolor\":\"#E5ECF6\",\"gridcolor\":\"white\",\"gridwidth\":2,\"linecolor\":\"white\",\"showbackground\":true,\"ticks\":\"\",\"zerolinecolor\":\"white\"},\"yaxis\":{\"backgroundcolor\":\"#E5ECF6\",\"gridcolor\":\"white\",\"gridwidth\":2,\"linecolor\":\"white\",\"showbackground\":true,\"ticks\":\"\",\"zerolinecolor\":\"white\"},\"zaxis\":{\"backgroundcolor\":\"#E5ECF6\",\"gridcolor\":\"white\",\"gridwidth\":2,\"linecolor\":\"white\",\"showbackground\":true,\"ticks\":\"\",\"zerolinecolor\":\"white\"}},\"shapedefaults\":{\"line\":{\"color\":\"#2a3f5f\"}},\"ternary\":{\"aaxis\":{\"gridcolor\":\"white\",\"linecolor\":\"white\",\"ticks\":\"\"},\"baxis\":{\"gridcolor\":\"white\",\"linecolor\":\"white\",\"ticks\":\"\"},\"bgcolor\":\"#E5ECF6\",\"caxis\":{\"gridcolor\":\"white\",\"linecolor\":\"white\",\"ticks\":\"\"}},\"title\":{\"x\":0.05},\"xaxis\":{\"automargin\":true,\"gridcolor\":\"white\",\"linecolor\":\"white\",\"ticks\":\"\",\"title\":{\"standoff\":15},\"zerolinecolor\":\"white\",\"zerolinewidth\":2},\"yaxis\":{\"automargin\":true,\"gridcolor\":\"white\",\"linecolor\":\"white\",\"ticks\":\"\",\"title\":{\"standoff\":15},\"zerolinecolor\":\"white\",\"zerolinewidth\":2}}},\"title\":{\"text\":\"SIFT through COVERAGE\"},\"width\":1000,\"xaxis\":{\"anchor\":\"y\",\"domain\":[0.0,0.98],\"title\":{\"text\":\"Coverage\"}},\"xaxis2\":{\"anchor\":\"y2\",\"domain\":[0.0,0.98],\"matches\":\"x\",\"showticklabels\":false},\"yaxis\":{\"anchor\":\"x\",\"domain\":[0.0,0.485],\"title\":{\"text\":\"value\"}},\"yaxis2\":{\"anchor\":\"x2\",\"domain\":[0.515,1.0],\"title\":{\"text\":\"value\"}}},                        {\"responsive\": true}                    ).then(function(){\n",
       "                            \n",
       "var gd = document.getElementById('d7d9b192-68d3-418f-adc9-79679f59efed');\n",
       "var x = new MutationObserver(function (mutations, observer) {{\n",
       "        var display = window.getComputedStyle(gd).display;\n",
       "        if (!display || display === 'none') {{\n",
       "            console.log([gd, 'removed!']);\n",
       "            Plotly.purge(gd);\n",
       "            observer.disconnect();\n",
       "        }}\n",
       "}});\n",
       "\n",
       "// Listen for the removal of the full notebook cells\n",
       "var notebookContainer = gd.closest('#notebook-container');\n",
       "if (notebookContainer) {{\n",
       "    x.observe(notebookContainer, {childList: true});\n",
       "}}\n",
       "\n",
       "// Listen for the clearing of the current output cell\n",
       "var outputEl = gd.closest('.output');\n",
       "if (outputEl) {{\n",
       "    x.observe(outputEl, {childList: true});\n",
       "}}\n",
       "\n",
       "                        })                };                });            </script>        </div>"
      ]
     },
     "metadata": {},
     "output_type": "display_data"
    }
   ],
   "source": [
    "fig = px.scatter(df_cov, y=\"value\", x=\"Coverage\", color = \"Method\",facet_row=\"variable\",\n",
    "                 width=1000, height=1000, title=\"SIFT through COVERAGE\")\n",
    "\n",
    "fig.for_each_annotation(lambda a: a.update(text=a.text.split(\"=\")[-1].split(\"_\")[-1]))\n",
    "fig.update_yaxes(matches=None)\n",
    "fig.update_traces(mode='lines+markers', marker_line_width=2, marker_size=5)\n",
    "fig.show()"
   ]
  },
  {
   "cell_type": "markdown",
   "id": "874007e4",
   "metadata": {},
   "source": [
    "# Insight on POLYPHEN"
   ]
  },
  {
   "cell_type": "code",
   "execution_count": 278,
   "id": "ed31d3ab",
   "metadata": {},
   "outputs": [],
   "source": [
    "df_age = dfsort_age.melt(id_vars=['Sample','Method'], value_vars=['PCT_POLY_benign','PCT_POLY_possibly-damaging','PCT_POLYP_probably-damaging'])\n",
    "df_cov = dfsort_cov.melt(id_vars=['Sample','Method','Coverage'], value_vars=['PCT_POLY_benign','PCT_POLY_possibly-damaging','PCT_POLYP_probably-damaging'])"
   ]
  },
  {
   "cell_type": "code",
   "execution_count": 280,
   "id": "bcd2f17f",
   "metadata": {},
   "outputs": [
    {
     "data": {
      "application/vnd.plotly.v1+json": {
       "config": {
        "plotlyServerURL": "https://plot.ly"
       },
       "data": [
        {
         "hovertemplate": "Method=BWA1-bam<br>variable=PCT_POLY_benign<br>Sample=%{x}<br>value=%{y}<extra></extra>",
         "legendgroup": "BWA1-bam",
         "marker": {
          "color": "#636efa",
          "line": {
           "width": 2
          },
          "size": 5,
          "symbol": "circle"
         },
         "mode": "lines+markers",
         "name": "BWA1-bam",
         "orientation": "v",
         "showlegend": true,
         "type": "scatter",
         "x": [
          "SZ43",
          "SZ45",
          "SZ4",
          "SZ15",
          "BR2",
          "ATP016",
          "NG10",
          "PB675",
          "BOT2016",
          "JP14",
          "NE1",
          "Stutgart",
          "Loschbour",
          "SF12",
          "KK1",
          "Sunghir3",
          "UstIshim"
         ],
         "xaxis": "x3",
         "y": [
          65.49297032709863,
          63.374845949276775,
          54.96911696053435,
          70.45428669019697,
          73.44639554156957,
          57.77390271389845,
          76.38991517157804,
          68.86855420389708,
          69.55991231335567,
          68.44266869043102,
          70.18295828868516,
          73.23808562197092,
          77.30380589338658,
          84.40789473684211,
          56.31407973407585,
          72.06718829278714,
          82.49475890985325
         ],
         "yaxis": "y3"
        },
        {
         "hovertemplate": "Method=BWA1-bam<br>variable=PCT_POLY_possibly-damaging<br>Sample=%{x}<br>value=%{y}<extra></extra>",
         "legendgroup": "BWA1-bam",
         "marker": {
          "color": "#636efa",
          "line": {
           "width": 2
          },
          "size": 5,
          "symbol": "circle"
         },
         "mode": "lines+markers",
         "name": "BWA1-bam",
         "orientation": "v",
         "showlegend": false,
         "type": "scatter",
         "x": [
          "SZ43",
          "SZ45",
          "SZ4",
          "SZ15",
          "BR2",
          "ATP016",
          "NG10",
          "PB675",
          "BOT2016",
          "JP14",
          "NE1",
          "Stutgart",
          "Loschbour",
          "SF12",
          "KK1",
          "Sunghir3",
          "UstIshim"
         ],
         "xaxis": "x2",
         "y": [
          13.037497543633993,
          13.653758837646754,
          15.769203145760764,
          11.353751565524309,
          11.477575728458527,
          15.648320185190826,
          10.099606892678745,
          12.726881257401228,
          11.874922446953716,
          12.18276377759425,
          12.473707187363575,
          10.710319063004846,
          9.69322926120893,
          8.10595567867036,
          15.662975673983897,
          11.181136005554517,
          8.573806881243064
         ],
         "yaxis": "y2"
        },
        {
         "hovertemplate": "Method=BWA1-bam<br>variable=PCT_POLYP_probably-damaging<br>Sample=%{x}<br>value=%{y}<extra></extra>",
         "legendgroup": "BWA1-bam",
         "marker": {
          "color": "#636efa",
          "line": {
           "width": 2
          },
          "size": 5,
          "symbol": "circle"
         },
         "mode": "lines+markers",
         "name": "BWA1-bam",
         "orientation": "v",
         "showlegend": false,
         "type": "scatter",
         "x": [
          "SZ43",
          "SZ45",
          "SZ4",
          "SZ15",
          "BR2",
          "ATP016",
          "NG10",
          "PB675",
          "BOT2016",
          "JP14",
          "NE1",
          "Stutgart",
          "Loschbour",
          "SF12",
          "KK1",
          "Sunghir3",
          "UstIshim"
         ],
         "xaxis": "x",
         "y": [
          21.469532129267378,
          22.971395213076473,
          29.261679893704887,
          18.19196174427872,
          15.076028729971895,
          26.577777100910726,
          13.510477935743209,
          18.404564538701692,
          18.565165239690614,
          19.374567531974733,
          17.343334523951263,
          16.051595315024233,
          13.00296484540449,
          7.486149584487535,
          28.022944591940252,
          16.751675701658343,
          8.931434208903687
         ],
         "yaxis": "y"
        },
        {
         "hovertemplate": "Method=VG-gam<br>variable=PCT_POLY_benign<br>Sample=%{x}<br>value=%{y}<extra></extra>",
         "legendgroup": "VG-gam",
         "marker": {
          "color": "#EF553B",
          "line": {
           "width": 2
          },
          "size": 5,
          "symbol": "circle"
         },
         "mode": "lines+markers",
         "name": "VG-gam",
         "orientation": "v",
         "showlegend": true,
         "type": "scatter",
         "x": [
          "SZ43",
          "SZ45",
          "SZ4",
          "SZ15",
          "BR2",
          "ATP016",
          "NG10",
          "PB675",
          "BOT2016",
          "JP14",
          "NE1",
          "Stutgart",
          "Loschbour",
          "SF12",
          "KK1",
          "Sunghir3",
          "UstIshim"
         ],
         "xaxis": "x3",
         "y": [
          82.44043630906118,
          82.54875499457543,
          81.48818047077147,
          82.68549233081,
          83.16555488174652,
          79.11102212433677,
          83.28930817610063,
          82.36211851649104,
          82.08665595342774,
          83.41707083321232,
          82.73331100692118,
          82.89165001303328,
          83.66159073747798,
          85.00928974216892,
          79.8204260060858,
          81.74135571028982,
          84.53077878304063
         ],
         "yaxis": "y3"
        },
        {
         "hovertemplate": "Method=VG-gam<br>variable=PCT_POLY_possibly-damaging<br>Sample=%{x}<br>value=%{y}<extra></extra>",
         "legendgroup": "VG-gam",
         "marker": {
          "color": "#EF553B",
          "line": {
           "width": 2
          },
          "size": 5,
          "symbol": "circle"
         },
         "mode": "lines+markers",
         "name": "VG-gam",
         "orientation": "v",
         "showlegend": false,
         "type": "scatter",
         "x": [
          "SZ43",
          "SZ45",
          "SZ4",
          "SZ15",
          "BR2",
          "ATP016",
          "NG10",
          "PB675",
          "BOT2016",
          "JP14",
          "NE1",
          "Stutgart",
          "Loschbour",
          "SF12",
          "KK1",
          "Sunghir3",
          "UstIshim"
         ],
         "xaxis": "x2",
         "y": [
          10.197518291212178,
          9.785398639887804,
          10.277086944507248,
          9.704856681126138,
          9.754396604002427,
          11.344478926819502,
          9.748427672955975,
          10.116326809908307,
          10.169491525423728,
          9.763889292248715,
          9.87385577137754,
          9.731514466938917,
          9.366347847973824,
          8.843182633071482,
          11.110873012471608,
          9.962506695232994,
          9.02075572112826
         ],
         "yaxis": "y2"
        },
        {
         "hovertemplate": "Method=VG-gam<br>variable=PCT_POLYP_probably-damaging<br>Sample=%{x}<br>value=%{y}<extra></extra>",
         "legendgroup": "VG-gam",
         "marker": {
          "color": "#EF553B",
          "line": {
           "width": 2
          },
          "size": 5,
          "symbol": "circle"
         },
         "mode": "lines+markers",
         "name": "VG-gam",
         "orientation": "v",
         "showlegend": false,
         "type": "scatter",
         "x": [
          "SZ43",
          "SZ45",
          "SZ4",
          "SZ15",
          "BR2",
          "ATP016",
          "NG10",
          "PB675",
          "BOT2016",
          "JP14",
          "NE1",
          "Stutgart",
          "Loschbour",
          "SF12",
          "KK1",
          "Sunghir3",
          "UstIshim"
         ],
         "xaxis": "x",
         "y": [
          7.362045399726637,
          7.665846365536768,
          8.23473258472128,
          7.609650988063849,
          7.080048514251061,
          9.544498948843728,
          6.962264150943396,
          7.521554673600657,
          7.74385252114854,
          6.8190398745389595,
          7.392833221701273,
          7.376835520027805,
          6.9720614145482,
          6.147527624759608,
          9.068700981442593,
          8.296137594477177,
          6.448465495831116
         ],
         "yaxis": "y"
        },
        {
         "hovertemplate": "Method=VG-bam<br>variable=PCT_POLY_benign<br>Sample=%{x}<br>value=%{y}<extra></extra>",
         "legendgroup": "VG-bam",
         "marker": {
          "color": "#00cc96",
          "line": {
           "width": 2
          },
          "size": 5,
          "symbol": "circle"
         },
         "mode": "lines+markers",
         "name": "VG-bam",
         "orientation": "v",
         "showlegend": true,
         "type": "scatter",
         "x": [
          "SZ43",
          "SZ45",
          "SZ4",
          "SZ15",
          "BR2",
          "ATP016",
          "NG10",
          "PB675",
          "BOT2016",
          "JP14",
          "NE1",
          "Stutgart",
          "Loschbour",
          "SF12",
          "KK1",
          "Sunghir3",
          "UstIshim"
         ],
         "xaxis": "x3",
         "y": [
          69.84498890561237,
          68.1807803179496,
          61.693812617932906,
          71.85704233610883,
          73.55903749300504,
          59.20254712970755,
          63.75576217768257,
          69.43886847225225,
          70.86484571952414,
          70.39363059905594,
          70.60162279833762,
          72.43531521460677,
          75.86406005114246,
          81.68132000481754,
          63.236571702465476,
          72.00472627018512,
          80.88957405504168
         ],
         "yaxis": "y3"
        },
        {
         "hovertemplate": "Method=VG-bam<br>variable=PCT_POLY_possibly-damaging<br>Sample=%{x}<br>value=%{y}<extra></extra>",
         "legendgroup": "VG-bam",
         "marker": {
          "color": "#00cc96",
          "line": {
           "width": 2
          },
          "size": 5,
          "symbol": "circle"
         },
         "mode": "lines+markers",
         "name": "VG-bam",
         "orientation": "v",
         "showlegend": false,
         "type": "scatter",
         "x": [
          "SZ43",
          "SZ45",
          "SZ4",
          "SZ15",
          "BR2",
          "ATP016",
          "NG10",
          "PB675",
          "BOT2016",
          "JP14",
          "NE1",
          "Stutgart",
          "Loschbour",
          "SF12",
          "KK1",
          "Sunghir3",
          "UstIshim"
         ],
         "xaxis": "x2",
         "y": [
          13.092929073502258,
          13.200331078574079,
          15.161730919541137,
          12.711094171455377,
          12.040664055213579,
          15.743447821145688,
          14.770241927343285,
          13.254686390167073,
          11.815321790945267,
          12.351856728996577,
          12.897288739362756,
          11.7841589231235,
          10.992878550413813,
          9.81572925448633,
          14.705221533207514,
          11.350925561244585,
          9.937764074454721
         ],
         "yaxis": "y2"
        },
        {
         "hovertemplate": "Method=VG-bam<br>variable=PCT_POLYP_probably-damaging<br>Sample=%{x}<br>value=%{y}<extra></extra>",
         "legendgroup": "VG-bam",
         "marker": {
          "color": "#00cc96",
          "line": {
           "width": 2
          },
          "size": 5,
          "symbol": "circle"
         },
         "mode": "lines+markers",
         "name": "VG-bam",
         "orientation": "v",
         "showlegend": false,
         "type": "scatter",
         "x": [
          "SZ43",
          "SZ45",
          "SZ4",
          "SZ15",
          "BR2",
          "ATP016",
          "NG10",
          "PB675",
          "BOT2016",
          "JP14",
          "NE1",
          "Stutgart",
          "Loschbour",
          "SF12",
          "KK1",
          "Sunghir3",
          "UstIshim"
         ],
         "xaxis": "x",
         "y": [
          17.062082020885377,
          18.618888603476325,
          23.144456462525955,
          15.431863492435792,
          14.400298451781383,
          25.054005049146763,
          21.47399589497415,
          17.30644513758068,
          17.319832489530597,
          17.254512671947488,
          16.501088462299624,
          15.780525862269732,
          13.143061398443729,
          8.502950740696134,
          22.05820676432701,
          16.644348168570303,
          9.172661870503598
         ],
         "yaxis": "y"
        }
       ],
       "layout": {
        "annotations": [
         {
          "font": {},
          "showarrow": false,
          "text": "probably-damaging",
          "textangle": 90,
          "x": 0.98,
          "xanchor": "left",
          "xref": "paper",
          "y": 0.15666666666666665,
          "yanchor": "middle",
          "yref": "paper"
         },
         {
          "font": {},
          "showarrow": false,
          "text": "possibly-damaging",
          "textangle": 90,
          "x": 0.98,
          "xanchor": "left",
          "xref": "paper",
          "y": 0.4999999999999999,
          "yanchor": "middle",
          "yref": "paper"
         },
         {
          "font": {},
          "showarrow": false,
          "text": "benign",
          "textangle": 90,
          "x": 0.98,
          "xanchor": "left",
          "xref": "paper",
          "y": 0.8433333333333332,
          "yanchor": "middle",
          "yref": "paper"
         }
        ],
        "height": 1000,
        "legend": {
         "title": {
          "text": "Method"
         },
         "tracegroupgap": 0
        },
        "template": {
         "data": {
          "bar": [
           {
            "error_x": {
             "color": "#2a3f5f"
            },
            "error_y": {
             "color": "#2a3f5f"
            },
            "marker": {
             "line": {
              "color": "#E5ECF6",
              "width": 0.5
             },
             "pattern": {
              "fillmode": "overlay",
              "size": 10,
              "solidity": 0.2
             }
            },
            "type": "bar"
           }
          ],
          "barpolar": [
           {
            "marker": {
             "line": {
              "color": "#E5ECF6",
              "width": 0.5
             },
             "pattern": {
              "fillmode": "overlay",
              "size": 10,
              "solidity": 0.2
             }
            },
            "type": "barpolar"
           }
          ],
          "carpet": [
           {
            "aaxis": {
             "endlinecolor": "#2a3f5f",
             "gridcolor": "white",
             "linecolor": "white",
             "minorgridcolor": "white",
             "startlinecolor": "#2a3f5f"
            },
            "baxis": {
             "endlinecolor": "#2a3f5f",
             "gridcolor": "white",
             "linecolor": "white",
             "minorgridcolor": "white",
             "startlinecolor": "#2a3f5f"
            },
            "type": "carpet"
           }
          ],
          "choropleth": [
           {
            "colorbar": {
             "outlinewidth": 0,
             "ticks": ""
            },
            "type": "choropleth"
           }
          ],
          "contour": [
           {
            "colorbar": {
             "outlinewidth": 0,
             "ticks": ""
            },
            "colorscale": [
             [
              0,
              "#0d0887"
             ],
             [
              0.1111111111111111,
              "#46039f"
             ],
             [
              0.2222222222222222,
              "#7201a8"
             ],
             [
              0.3333333333333333,
              "#9c179e"
             ],
             [
              0.4444444444444444,
              "#bd3786"
             ],
             [
              0.5555555555555556,
              "#d8576b"
             ],
             [
              0.6666666666666666,
              "#ed7953"
             ],
             [
              0.7777777777777778,
              "#fb9f3a"
             ],
             [
              0.8888888888888888,
              "#fdca26"
             ],
             [
              1,
              "#f0f921"
             ]
            ],
            "type": "contour"
           }
          ],
          "contourcarpet": [
           {
            "colorbar": {
             "outlinewidth": 0,
             "ticks": ""
            },
            "type": "contourcarpet"
           }
          ],
          "heatmap": [
           {
            "colorbar": {
             "outlinewidth": 0,
             "ticks": ""
            },
            "colorscale": [
             [
              0,
              "#0d0887"
             ],
             [
              0.1111111111111111,
              "#46039f"
             ],
             [
              0.2222222222222222,
              "#7201a8"
             ],
             [
              0.3333333333333333,
              "#9c179e"
             ],
             [
              0.4444444444444444,
              "#bd3786"
             ],
             [
              0.5555555555555556,
              "#d8576b"
             ],
             [
              0.6666666666666666,
              "#ed7953"
             ],
             [
              0.7777777777777778,
              "#fb9f3a"
             ],
             [
              0.8888888888888888,
              "#fdca26"
             ],
             [
              1,
              "#f0f921"
             ]
            ],
            "type": "heatmap"
           }
          ],
          "heatmapgl": [
           {
            "colorbar": {
             "outlinewidth": 0,
             "ticks": ""
            },
            "colorscale": [
             [
              0,
              "#0d0887"
             ],
             [
              0.1111111111111111,
              "#46039f"
             ],
             [
              0.2222222222222222,
              "#7201a8"
             ],
             [
              0.3333333333333333,
              "#9c179e"
             ],
             [
              0.4444444444444444,
              "#bd3786"
             ],
             [
              0.5555555555555556,
              "#d8576b"
             ],
             [
              0.6666666666666666,
              "#ed7953"
             ],
             [
              0.7777777777777778,
              "#fb9f3a"
             ],
             [
              0.8888888888888888,
              "#fdca26"
             ],
             [
              1,
              "#f0f921"
             ]
            ],
            "type": "heatmapgl"
           }
          ],
          "histogram": [
           {
            "marker": {
             "pattern": {
              "fillmode": "overlay",
              "size": 10,
              "solidity": 0.2
             }
            },
            "type": "histogram"
           }
          ],
          "histogram2d": [
           {
            "colorbar": {
             "outlinewidth": 0,
             "ticks": ""
            },
            "colorscale": [
             [
              0,
              "#0d0887"
             ],
             [
              0.1111111111111111,
              "#46039f"
             ],
             [
              0.2222222222222222,
              "#7201a8"
             ],
             [
              0.3333333333333333,
              "#9c179e"
             ],
             [
              0.4444444444444444,
              "#bd3786"
             ],
             [
              0.5555555555555556,
              "#d8576b"
             ],
             [
              0.6666666666666666,
              "#ed7953"
             ],
             [
              0.7777777777777778,
              "#fb9f3a"
             ],
             [
              0.8888888888888888,
              "#fdca26"
             ],
             [
              1,
              "#f0f921"
             ]
            ],
            "type": "histogram2d"
           }
          ],
          "histogram2dcontour": [
           {
            "colorbar": {
             "outlinewidth": 0,
             "ticks": ""
            },
            "colorscale": [
             [
              0,
              "#0d0887"
             ],
             [
              0.1111111111111111,
              "#46039f"
             ],
             [
              0.2222222222222222,
              "#7201a8"
             ],
             [
              0.3333333333333333,
              "#9c179e"
             ],
             [
              0.4444444444444444,
              "#bd3786"
             ],
             [
              0.5555555555555556,
              "#d8576b"
             ],
             [
              0.6666666666666666,
              "#ed7953"
             ],
             [
              0.7777777777777778,
              "#fb9f3a"
             ],
             [
              0.8888888888888888,
              "#fdca26"
             ],
             [
              1,
              "#f0f921"
             ]
            ],
            "type": "histogram2dcontour"
           }
          ],
          "mesh3d": [
           {
            "colorbar": {
             "outlinewidth": 0,
             "ticks": ""
            },
            "type": "mesh3d"
           }
          ],
          "parcoords": [
           {
            "line": {
             "colorbar": {
              "outlinewidth": 0,
              "ticks": ""
             }
            },
            "type": "parcoords"
           }
          ],
          "pie": [
           {
            "automargin": true,
            "type": "pie"
           }
          ],
          "scatter": [
           {
            "marker": {
             "colorbar": {
              "outlinewidth": 0,
              "ticks": ""
             }
            },
            "type": "scatter"
           }
          ],
          "scatter3d": [
           {
            "line": {
             "colorbar": {
              "outlinewidth": 0,
              "ticks": ""
             }
            },
            "marker": {
             "colorbar": {
              "outlinewidth": 0,
              "ticks": ""
             }
            },
            "type": "scatter3d"
           }
          ],
          "scattercarpet": [
           {
            "marker": {
             "colorbar": {
              "outlinewidth": 0,
              "ticks": ""
             }
            },
            "type": "scattercarpet"
           }
          ],
          "scattergeo": [
           {
            "marker": {
             "colorbar": {
              "outlinewidth": 0,
              "ticks": ""
             }
            },
            "type": "scattergeo"
           }
          ],
          "scattergl": [
           {
            "marker": {
             "colorbar": {
              "outlinewidth": 0,
              "ticks": ""
             }
            },
            "type": "scattergl"
           }
          ],
          "scattermapbox": [
           {
            "marker": {
             "colorbar": {
              "outlinewidth": 0,
              "ticks": ""
             }
            },
            "type": "scattermapbox"
           }
          ],
          "scatterpolar": [
           {
            "marker": {
             "colorbar": {
              "outlinewidth": 0,
              "ticks": ""
             }
            },
            "type": "scatterpolar"
           }
          ],
          "scatterpolargl": [
           {
            "marker": {
             "colorbar": {
              "outlinewidth": 0,
              "ticks": ""
             }
            },
            "type": "scatterpolargl"
           }
          ],
          "scatterternary": [
           {
            "marker": {
             "colorbar": {
              "outlinewidth": 0,
              "ticks": ""
             }
            },
            "type": "scatterternary"
           }
          ],
          "surface": [
           {
            "colorbar": {
             "outlinewidth": 0,
             "ticks": ""
            },
            "colorscale": [
             [
              0,
              "#0d0887"
             ],
             [
              0.1111111111111111,
              "#46039f"
             ],
             [
              0.2222222222222222,
              "#7201a8"
             ],
             [
              0.3333333333333333,
              "#9c179e"
             ],
             [
              0.4444444444444444,
              "#bd3786"
             ],
             [
              0.5555555555555556,
              "#d8576b"
             ],
             [
              0.6666666666666666,
              "#ed7953"
             ],
             [
              0.7777777777777778,
              "#fb9f3a"
             ],
             [
              0.8888888888888888,
              "#fdca26"
             ],
             [
              1,
              "#f0f921"
             ]
            ],
            "type": "surface"
           }
          ],
          "table": [
           {
            "cells": {
             "fill": {
              "color": "#EBF0F8"
             },
             "line": {
              "color": "white"
             }
            },
            "header": {
             "fill": {
              "color": "#C8D4E3"
             },
             "line": {
              "color": "white"
             }
            },
            "type": "table"
           }
          ]
         },
         "layout": {
          "annotationdefaults": {
           "arrowcolor": "#2a3f5f",
           "arrowhead": 0,
           "arrowwidth": 1
          },
          "autotypenumbers": "strict",
          "coloraxis": {
           "colorbar": {
            "outlinewidth": 0,
            "ticks": ""
           }
          },
          "colorscale": {
           "diverging": [
            [
             0,
             "#8e0152"
            ],
            [
             0.1,
             "#c51b7d"
            ],
            [
             0.2,
             "#de77ae"
            ],
            [
             0.3,
             "#f1b6da"
            ],
            [
             0.4,
             "#fde0ef"
            ],
            [
             0.5,
             "#f7f7f7"
            ],
            [
             0.6,
             "#e6f5d0"
            ],
            [
             0.7,
             "#b8e186"
            ],
            [
             0.8,
             "#7fbc41"
            ],
            [
             0.9,
             "#4d9221"
            ],
            [
             1,
             "#276419"
            ]
           ],
           "sequential": [
            [
             0,
             "#0d0887"
            ],
            [
             0.1111111111111111,
             "#46039f"
            ],
            [
             0.2222222222222222,
             "#7201a8"
            ],
            [
             0.3333333333333333,
             "#9c179e"
            ],
            [
             0.4444444444444444,
             "#bd3786"
            ],
            [
             0.5555555555555556,
             "#d8576b"
            ],
            [
             0.6666666666666666,
             "#ed7953"
            ],
            [
             0.7777777777777778,
             "#fb9f3a"
            ],
            [
             0.8888888888888888,
             "#fdca26"
            ],
            [
             1,
             "#f0f921"
            ]
           ],
           "sequentialminus": [
            [
             0,
             "#0d0887"
            ],
            [
             0.1111111111111111,
             "#46039f"
            ],
            [
             0.2222222222222222,
             "#7201a8"
            ],
            [
             0.3333333333333333,
             "#9c179e"
            ],
            [
             0.4444444444444444,
             "#bd3786"
            ],
            [
             0.5555555555555556,
             "#d8576b"
            ],
            [
             0.6666666666666666,
             "#ed7953"
            ],
            [
             0.7777777777777778,
             "#fb9f3a"
            ],
            [
             0.8888888888888888,
             "#fdca26"
            ],
            [
             1,
             "#f0f921"
            ]
           ]
          },
          "colorway": [
           "#636efa",
           "#EF553B",
           "#00cc96",
           "#ab63fa",
           "#FFA15A",
           "#19d3f3",
           "#FF6692",
           "#B6E880",
           "#FF97FF",
           "#FECB52"
          ],
          "font": {
           "color": "#2a3f5f"
          },
          "geo": {
           "bgcolor": "white",
           "lakecolor": "white",
           "landcolor": "#E5ECF6",
           "showlakes": true,
           "showland": true,
           "subunitcolor": "white"
          },
          "hoverlabel": {
           "align": "left"
          },
          "hovermode": "closest",
          "mapbox": {
           "style": "light"
          },
          "paper_bgcolor": "white",
          "plot_bgcolor": "#E5ECF6",
          "polar": {
           "angularaxis": {
            "gridcolor": "white",
            "linecolor": "white",
            "ticks": ""
           },
           "bgcolor": "#E5ECF6",
           "radialaxis": {
            "gridcolor": "white",
            "linecolor": "white",
            "ticks": ""
           }
          },
          "scene": {
           "xaxis": {
            "backgroundcolor": "#E5ECF6",
            "gridcolor": "white",
            "gridwidth": 2,
            "linecolor": "white",
            "showbackground": true,
            "ticks": "",
            "zerolinecolor": "white"
           },
           "yaxis": {
            "backgroundcolor": "#E5ECF6",
            "gridcolor": "white",
            "gridwidth": 2,
            "linecolor": "white",
            "showbackground": true,
            "ticks": "",
            "zerolinecolor": "white"
           },
           "zaxis": {
            "backgroundcolor": "#E5ECF6",
            "gridcolor": "white",
            "gridwidth": 2,
            "linecolor": "white",
            "showbackground": true,
            "ticks": "",
            "zerolinecolor": "white"
           }
          },
          "shapedefaults": {
           "line": {
            "color": "#2a3f5f"
           }
          },
          "ternary": {
           "aaxis": {
            "gridcolor": "white",
            "linecolor": "white",
            "ticks": ""
           },
           "baxis": {
            "gridcolor": "white",
            "linecolor": "white",
            "ticks": ""
           },
           "bgcolor": "#E5ECF6",
           "caxis": {
            "gridcolor": "white",
            "linecolor": "white",
            "ticks": ""
           }
          },
          "title": {
           "x": 0.05
          },
          "xaxis": {
           "automargin": true,
           "gridcolor": "white",
           "linecolor": "white",
           "ticks": "",
           "title": {
            "standoff": 15
           },
           "zerolinecolor": "white",
           "zerolinewidth": 2
          },
          "yaxis": {
           "automargin": true,
           "gridcolor": "white",
           "linecolor": "white",
           "ticks": "",
           "title": {
            "standoff": 15
           },
           "zerolinecolor": "white",
           "zerolinewidth": 2
          }
         }
        },
        "title": {
         "text": "POLYPHEN through AGE"
        },
        "width": 1000,
        "xaxis": {
         "anchor": "y",
         "domain": [
          0,
          0.98
         ],
         "title": {
          "text": "Sample"
         }
        },
        "xaxis2": {
         "anchor": "y2",
         "domain": [
          0,
          0.98
         ],
         "matches": "x",
         "showticklabels": false
        },
        "xaxis3": {
         "anchor": "y3",
         "domain": [
          0,
          0.98
         ],
         "matches": "x",
         "showticklabels": false
        },
        "yaxis": {
         "anchor": "x",
         "domain": [
          0,
          0.3133333333333333
         ],
         "title": {
          "text": "value"
         }
        },
        "yaxis2": {
         "anchor": "x2",
         "domain": [
          0.34333333333333327,
          0.6566666666666665
         ],
         "title": {
          "text": "value"
         }
        },
        "yaxis3": {
         "anchor": "x3",
         "domain": [
          0.6866666666666665,
          0.9999999999999998
         ],
         "title": {
          "text": "value"
         }
        }
       }
      },
      "text/html": [
       "<div>                            <div id=\"2c81c853-2ec3-4868-b452-7d1db6ff427a\" class=\"plotly-graph-div\" style=\"height:1000px; width:1000px;\"></div>            <script type=\"text/javascript\">                require([\"plotly\"], function(Plotly) {                    window.PLOTLYENV=window.PLOTLYENV || {};                                    if (document.getElementById(\"2c81c853-2ec3-4868-b452-7d1db6ff427a\")) {                    Plotly.newPlot(                        \"2c81c853-2ec3-4868-b452-7d1db6ff427a\",                        [{\"hovertemplate\":\"Method=BWA1-bam<br>variable=PCT_POLY_benign<br>Sample=%{x}<br>value=%{y}<extra></extra>\",\"legendgroup\":\"BWA1-bam\",\"marker\":{\"color\":\"#636efa\",\"line\":{\"width\":2},\"size\":5,\"symbol\":\"circle\"},\"mode\":\"lines+markers\",\"name\":\"BWA1-bam\",\"orientation\":\"v\",\"showlegend\":true,\"type\":\"scatter\",\"x\":[\"SZ43\",\"SZ45\",\"SZ4\",\"SZ15\",\"BR2\",\"ATP016\",\"NG10\",\"PB675\",\"BOT2016\",\"JP14\",\"NE1\",\"Stutgart\",\"Loschbour\",\"SF12\",\"KK1\",\"Sunghir3\",\"UstIshim\"],\"xaxis\":\"x3\",\"y\":[65.49297032709863,63.374845949276775,54.96911696053435,70.45428669019697,73.44639554156957,57.77390271389845,76.38991517157804,68.86855420389708,69.55991231335567,68.44266869043102,70.18295828868516,73.23808562197092,77.30380589338658,84.40789473684211,56.31407973407585,72.06718829278714,82.49475890985325],\"yaxis\":\"y3\"},{\"hovertemplate\":\"Method=BWA1-bam<br>variable=PCT_POLY_possibly-damaging<br>Sample=%{x}<br>value=%{y}<extra></extra>\",\"legendgroup\":\"BWA1-bam\",\"marker\":{\"color\":\"#636efa\",\"line\":{\"width\":2},\"size\":5,\"symbol\":\"circle\"},\"mode\":\"lines+markers\",\"name\":\"BWA1-bam\",\"orientation\":\"v\",\"showlegend\":false,\"type\":\"scatter\",\"x\":[\"SZ43\",\"SZ45\",\"SZ4\",\"SZ15\",\"BR2\",\"ATP016\",\"NG10\",\"PB675\",\"BOT2016\",\"JP14\",\"NE1\",\"Stutgart\",\"Loschbour\",\"SF12\",\"KK1\",\"Sunghir3\",\"UstIshim\"],\"xaxis\":\"x2\",\"y\":[13.037497543633993,13.653758837646754,15.769203145760764,11.353751565524309,11.477575728458527,15.648320185190826,10.099606892678745,12.726881257401228,11.874922446953716,12.18276377759425,12.473707187363575,10.710319063004846,9.69322926120893,8.10595567867036,15.662975673983897,11.181136005554517,8.573806881243064],\"yaxis\":\"y2\"},{\"hovertemplate\":\"Method=BWA1-bam<br>variable=PCT_POLYP_probably-damaging<br>Sample=%{x}<br>value=%{y}<extra></extra>\",\"legendgroup\":\"BWA1-bam\",\"marker\":{\"color\":\"#636efa\",\"line\":{\"width\":2},\"size\":5,\"symbol\":\"circle\"},\"mode\":\"lines+markers\",\"name\":\"BWA1-bam\",\"orientation\":\"v\",\"showlegend\":false,\"type\":\"scatter\",\"x\":[\"SZ43\",\"SZ45\",\"SZ4\",\"SZ15\",\"BR2\",\"ATP016\",\"NG10\",\"PB675\",\"BOT2016\",\"JP14\",\"NE1\",\"Stutgart\",\"Loschbour\",\"SF12\",\"KK1\",\"Sunghir3\",\"UstIshim\"],\"xaxis\":\"x\",\"y\":[21.469532129267378,22.971395213076473,29.261679893704887,18.19196174427872,15.076028729971895,26.577777100910726,13.510477935743209,18.404564538701692,18.565165239690614,19.374567531974733,17.343334523951263,16.051595315024233,13.00296484540449,7.486149584487535,28.022944591940252,16.751675701658343,8.931434208903687],\"yaxis\":\"y\"},{\"hovertemplate\":\"Method=VG-gam<br>variable=PCT_POLY_benign<br>Sample=%{x}<br>value=%{y}<extra></extra>\",\"legendgroup\":\"VG-gam\",\"marker\":{\"color\":\"#EF553B\",\"line\":{\"width\":2},\"size\":5,\"symbol\":\"circle\"},\"mode\":\"lines+markers\",\"name\":\"VG-gam\",\"orientation\":\"v\",\"showlegend\":true,\"type\":\"scatter\",\"x\":[\"SZ43\",\"SZ45\",\"SZ4\",\"SZ15\",\"BR2\",\"ATP016\",\"NG10\",\"PB675\",\"BOT2016\",\"JP14\",\"NE1\",\"Stutgart\",\"Loschbour\",\"SF12\",\"KK1\",\"Sunghir3\",\"UstIshim\"],\"xaxis\":\"x3\",\"y\":[82.44043630906118,82.54875499457543,81.48818047077147,82.68549233081,83.16555488174652,79.11102212433677,83.28930817610063,82.36211851649104,82.08665595342774,83.41707083321232,82.73331100692118,82.89165001303328,83.66159073747798,85.00928974216892,79.8204260060858,81.74135571028982,84.53077878304063],\"yaxis\":\"y3\"},{\"hovertemplate\":\"Method=VG-gam<br>variable=PCT_POLY_possibly-damaging<br>Sample=%{x}<br>value=%{y}<extra></extra>\",\"legendgroup\":\"VG-gam\",\"marker\":{\"color\":\"#EF553B\",\"line\":{\"width\":2},\"size\":5,\"symbol\":\"circle\"},\"mode\":\"lines+markers\",\"name\":\"VG-gam\",\"orientation\":\"v\",\"showlegend\":false,\"type\":\"scatter\",\"x\":[\"SZ43\",\"SZ45\",\"SZ4\",\"SZ15\",\"BR2\",\"ATP016\",\"NG10\",\"PB675\",\"BOT2016\",\"JP14\",\"NE1\",\"Stutgart\",\"Loschbour\",\"SF12\",\"KK1\",\"Sunghir3\",\"UstIshim\"],\"xaxis\":\"x2\",\"y\":[10.197518291212178,9.785398639887804,10.277086944507248,9.704856681126138,9.754396604002427,11.344478926819502,9.748427672955975,10.116326809908307,10.169491525423728,9.763889292248715,9.87385577137754,9.731514466938917,9.366347847973824,8.843182633071482,11.110873012471608,9.962506695232994,9.02075572112826],\"yaxis\":\"y2\"},{\"hovertemplate\":\"Method=VG-gam<br>variable=PCT_POLYP_probably-damaging<br>Sample=%{x}<br>value=%{y}<extra></extra>\",\"legendgroup\":\"VG-gam\",\"marker\":{\"color\":\"#EF553B\",\"line\":{\"width\":2},\"size\":5,\"symbol\":\"circle\"},\"mode\":\"lines+markers\",\"name\":\"VG-gam\",\"orientation\":\"v\",\"showlegend\":false,\"type\":\"scatter\",\"x\":[\"SZ43\",\"SZ45\",\"SZ4\",\"SZ15\",\"BR2\",\"ATP016\",\"NG10\",\"PB675\",\"BOT2016\",\"JP14\",\"NE1\",\"Stutgart\",\"Loschbour\",\"SF12\",\"KK1\",\"Sunghir3\",\"UstIshim\"],\"xaxis\":\"x\",\"y\":[7.362045399726637,7.665846365536768,8.23473258472128,7.609650988063849,7.080048514251061,9.544498948843728,6.962264150943396,7.521554673600657,7.74385252114854,6.8190398745389595,7.392833221701273,7.376835520027805,6.9720614145482,6.147527624759608,9.068700981442593,8.296137594477177,6.448465495831116],\"yaxis\":\"y\"},{\"hovertemplate\":\"Method=VG-bam<br>variable=PCT_POLY_benign<br>Sample=%{x}<br>value=%{y}<extra></extra>\",\"legendgroup\":\"VG-bam\",\"marker\":{\"color\":\"#00cc96\",\"line\":{\"width\":2},\"size\":5,\"symbol\":\"circle\"},\"mode\":\"lines+markers\",\"name\":\"VG-bam\",\"orientation\":\"v\",\"showlegend\":true,\"type\":\"scatter\",\"x\":[\"SZ43\",\"SZ45\",\"SZ4\",\"SZ15\",\"BR2\",\"ATP016\",\"NG10\",\"PB675\",\"BOT2016\",\"JP14\",\"NE1\",\"Stutgart\",\"Loschbour\",\"SF12\",\"KK1\",\"Sunghir3\",\"UstIshim\"],\"xaxis\":\"x3\",\"y\":[69.84498890561237,68.1807803179496,61.693812617932906,71.85704233610883,73.55903749300504,59.20254712970755,63.75576217768257,69.43886847225225,70.86484571952414,70.39363059905594,70.60162279833762,72.43531521460677,75.86406005114246,81.68132000481754,63.236571702465476,72.00472627018512,80.88957405504168],\"yaxis\":\"y3\"},{\"hovertemplate\":\"Method=VG-bam<br>variable=PCT_POLY_possibly-damaging<br>Sample=%{x}<br>value=%{y}<extra></extra>\",\"legendgroup\":\"VG-bam\",\"marker\":{\"color\":\"#00cc96\",\"line\":{\"width\":2},\"size\":5,\"symbol\":\"circle\"},\"mode\":\"lines+markers\",\"name\":\"VG-bam\",\"orientation\":\"v\",\"showlegend\":false,\"type\":\"scatter\",\"x\":[\"SZ43\",\"SZ45\",\"SZ4\",\"SZ15\",\"BR2\",\"ATP016\",\"NG10\",\"PB675\",\"BOT2016\",\"JP14\",\"NE1\",\"Stutgart\",\"Loschbour\",\"SF12\",\"KK1\",\"Sunghir3\",\"UstIshim\"],\"xaxis\":\"x2\",\"y\":[13.092929073502258,13.200331078574079,15.161730919541137,12.711094171455377,12.040664055213579,15.743447821145688,14.770241927343285,13.254686390167073,11.815321790945267,12.351856728996577,12.897288739362756,11.7841589231235,10.992878550413813,9.81572925448633,14.705221533207514,11.350925561244585,9.937764074454721],\"yaxis\":\"y2\"},{\"hovertemplate\":\"Method=VG-bam<br>variable=PCT_POLYP_probably-damaging<br>Sample=%{x}<br>value=%{y}<extra></extra>\",\"legendgroup\":\"VG-bam\",\"marker\":{\"color\":\"#00cc96\",\"line\":{\"width\":2},\"size\":5,\"symbol\":\"circle\"},\"mode\":\"lines+markers\",\"name\":\"VG-bam\",\"orientation\":\"v\",\"showlegend\":false,\"type\":\"scatter\",\"x\":[\"SZ43\",\"SZ45\",\"SZ4\",\"SZ15\",\"BR2\",\"ATP016\",\"NG10\",\"PB675\",\"BOT2016\",\"JP14\",\"NE1\",\"Stutgart\",\"Loschbour\",\"SF12\",\"KK1\",\"Sunghir3\",\"UstIshim\"],\"xaxis\":\"x\",\"y\":[17.062082020885377,18.618888603476325,23.144456462525955,15.431863492435792,14.400298451781383,25.054005049146763,21.47399589497415,17.30644513758068,17.319832489530597,17.254512671947488,16.501088462299624,15.780525862269732,13.143061398443729,8.502950740696134,22.05820676432701,16.644348168570303,9.172661870503598],\"yaxis\":\"y\"}],                        {\"annotations\":[{\"font\":{},\"showarrow\":false,\"text\":\"probably-damaging\",\"textangle\":90,\"x\":0.98,\"xanchor\":\"left\",\"xref\":\"paper\",\"y\":0.15666666666666665,\"yanchor\":\"middle\",\"yref\":\"paper\"},{\"font\":{},\"showarrow\":false,\"text\":\"possibly-damaging\",\"textangle\":90,\"x\":0.98,\"xanchor\":\"left\",\"xref\":\"paper\",\"y\":0.4999999999999999,\"yanchor\":\"middle\",\"yref\":\"paper\"},{\"font\":{},\"showarrow\":false,\"text\":\"benign\",\"textangle\":90,\"x\":0.98,\"xanchor\":\"left\",\"xref\":\"paper\",\"y\":0.8433333333333332,\"yanchor\":\"middle\",\"yref\":\"paper\"}],\"height\":1000,\"legend\":{\"title\":{\"text\":\"Method\"},\"tracegroupgap\":0},\"template\":{\"data\":{\"bar\":[{\"error_x\":{\"color\":\"#2a3f5f\"},\"error_y\":{\"color\":\"#2a3f5f\"},\"marker\":{\"line\":{\"color\":\"#E5ECF6\",\"width\":0.5},\"pattern\":{\"fillmode\":\"overlay\",\"size\":10,\"solidity\":0.2}},\"type\":\"bar\"}],\"barpolar\":[{\"marker\":{\"line\":{\"color\":\"#E5ECF6\",\"width\":0.5},\"pattern\":{\"fillmode\":\"overlay\",\"size\":10,\"solidity\":0.2}},\"type\":\"barpolar\"}],\"carpet\":[{\"aaxis\":{\"endlinecolor\":\"#2a3f5f\",\"gridcolor\":\"white\",\"linecolor\":\"white\",\"minorgridcolor\":\"white\",\"startlinecolor\":\"#2a3f5f\"},\"baxis\":{\"endlinecolor\":\"#2a3f5f\",\"gridcolor\":\"white\",\"linecolor\":\"white\",\"minorgridcolor\":\"white\",\"startlinecolor\":\"#2a3f5f\"},\"type\":\"carpet\"}],\"choropleth\":[{\"colorbar\":{\"outlinewidth\":0,\"ticks\":\"\"},\"type\":\"choropleth\"}],\"contour\":[{\"colorbar\":{\"outlinewidth\":0,\"ticks\":\"\"},\"colorscale\":[[0.0,\"#0d0887\"],[0.1111111111111111,\"#46039f\"],[0.2222222222222222,\"#7201a8\"],[0.3333333333333333,\"#9c179e\"],[0.4444444444444444,\"#bd3786\"],[0.5555555555555556,\"#d8576b\"],[0.6666666666666666,\"#ed7953\"],[0.7777777777777778,\"#fb9f3a\"],[0.8888888888888888,\"#fdca26\"],[1.0,\"#f0f921\"]],\"type\":\"contour\"}],\"contourcarpet\":[{\"colorbar\":{\"outlinewidth\":0,\"ticks\":\"\"},\"type\":\"contourcarpet\"}],\"heatmap\":[{\"colorbar\":{\"outlinewidth\":0,\"ticks\":\"\"},\"colorscale\":[[0.0,\"#0d0887\"],[0.1111111111111111,\"#46039f\"],[0.2222222222222222,\"#7201a8\"],[0.3333333333333333,\"#9c179e\"],[0.4444444444444444,\"#bd3786\"],[0.5555555555555556,\"#d8576b\"],[0.6666666666666666,\"#ed7953\"],[0.7777777777777778,\"#fb9f3a\"],[0.8888888888888888,\"#fdca26\"],[1.0,\"#f0f921\"]],\"type\":\"heatmap\"}],\"heatmapgl\":[{\"colorbar\":{\"outlinewidth\":0,\"ticks\":\"\"},\"colorscale\":[[0.0,\"#0d0887\"],[0.1111111111111111,\"#46039f\"],[0.2222222222222222,\"#7201a8\"],[0.3333333333333333,\"#9c179e\"],[0.4444444444444444,\"#bd3786\"],[0.5555555555555556,\"#d8576b\"],[0.6666666666666666,\"#ed7953\"],[0.7777777777777778,\"#fb9f3a\"],[0.8888888888888888,\"#fdca26\"],[1.0,\"#f0f921\"]],\"type\":\"heatmapgl\"}],\"histogram\":[{\"marker\":{\"pattern\":{\"fillmode\":\"overlay\",\"size\":10,\"solidity\":0.2}},\"type\":\"histogram\"}],\"histogram2d\":[{\"colorbar\":{\"outlinewidth\":0,\"ticks\":\"\"},\"colorscale\":[[0.0,\"#0d0887\"],[0.1111111111111111,\"#46039f\"],[0.2222222222222222,\"#7201a8\"],[0.3333333333333333,\"#9c179e\"],[0.4444444444444444,\"#bd3786\"],[0.5555555555555556,\"#d8576b\"],[0.6666666666666666,\"#ed7953\"],[0.7777777777777778,\"#fb9f3a\"],[0.8888888888888888,\"#fdca26\"],[1.0,\"#f0f921\"]],\"type\":\"histogram2d\"}],\"histogram2dcontour\":[{\"colorbar\":{\"outlinewidth\":0,\"ticks\":\"\"},\"colorscale\":[[0.0,\"#0d0887\"],[0.1111111111111111,\"#46039f\"],[0.2222222222222222,\"#7201a8\"],[0.3333333333333333,\"#9c179e\"],[0.4444444444444444,\"#bd3786\"],[0.5555555555555556,\"#d8576b\"],[0.6666666666666666,\"#ed7953\"],[0.7777777777777778,\"#fb9f3a\"],[0.8888888888888888,\"#fdca26\"],[1.0,\"#f0f921\"]],\"type\":\"histogram2dcontour\"}],\"mesh3d\":[{\"colorbar\":{\"outlinewidth\":0,\"ticks\":\"\"},\"type\":\"mesh3d\"}],\"parcoords\":[{\"line\":{\"colorbar\":{\"outlinewidth\":0,\"ticks\":\"\"}},\"type\":\"parcoords\"}],\"pie\":[{\"automargin\":true,\"type\":\"pie\"}],\"scatter\":[{\"marker\":{\"colorbar\":{\"outlinewidth\":0,\"ticks\":\"\"}},\"type\":\"scatter\"}],\"scatter3d\":[{\"line\":{\"colorbar\":{\"outlinewidth\":0,\"ticks\":\"\"}},\"marker\":{\"colorbar\":{\"outlinewidth\":0,\"ticks\":\"\"}},\"type\":\"scatter3d\"}],\"scattercarpet\":[{\"marker\":{\"colorbar\":{\"outlinewidth\":0,\"ticks\":\"\"}},\"type\":\"scattercarpet\"}],\"scattergeo\":[{\"marker\":{\"colorbar\":{\"outlinewidth\":0,\"ticks\":\"\"}},\"type\":\"scattergeo\"}],\"scattergl\":[{\"marker\":{\"colorbar\":{\"outlinewidth\":0,\"ticks\":\"\"}},\"type\":\"scattergl\"}],\"scattermapbox\":[{\"marker\":{\"colorbar\":{\"outlinewidth\":0,\"ticks\":\"\"}},\"type\":\"scattermapbox\"}],\"scatterpolar\":[{\"marker\":{\"colorbar\":{\"outlinewidth\":0,\"ticks\":\"\"}},\"type\":\"scatterpolar\"}],\"scatterpolargl\":[{\"marker\":{\"colorbar\":{\"outlinewidth\":0,\"ticks\":\"\"}},\"type\":\"scatterpolargl\"}],\"scatterternary\":[{\"marker\":{\"colorbar\":{\"outlinewidth\":0,\"ticks\":\"\"}},\"type\":\"scatterternary\"}],\"surface\":[{\"colorbar\":{\"outlinewidth\":0,\"ticks\":\"\"},\"colorscale\":[[0.0,\"#0d0887\"],[0.1111111111111111,\"#46039f\"],[0.2222222222222222,\"#7201a8\"],[0.3333333333333333,\"#9c179e\"],[0.4444444444444444,\"#bd3786\"],[0.5555555555555556,\"#d8576b\"],[0.6666666666666666,\"#ed7953\"],[0.7777777777777778,\"#fb9f3a\"],[0.8888888888888888,\"#fdca26\"],[1.0,\"#f0f921\"]],\"type\":\"surface\"}],\"table\":[{\"cells\":{\"fill\":{\"color\":\"#EBF0F8\"},\"line\":{\"color\":\"white\"}},\"header\":{\"fill\":{\"color\":\"#C8D4E3\"},\"line\":{\"color\":\"white\"}},\"type\":\"table\"}]},\"layout\":{\"annotationdefaults\":{\"arrowcolor\":\"#2a3f5f\",\"arrowhead\":0,\"arrowwidth\":1},\"autotypenumbers\":\"strict\",\"coloraxis\":{\"colorbar\":{\"outlinewidth\":0,\"ticks\":\"\"}},\"colorscale\":{\"diverging\":[[0,\"#8e0152\"],[0.1,\"#c51b7d\"],[0.2,\"#de77ae\"],[0.3,\"#f1b6da\"],[0.4,\"#fde0ef\"],[0.5,\"#f7f7f7\"],[0.6,\"#e6f5d0\"],[0.7,\"#b8e186\"],[0.8,\"#7fbc41\"],[0.9,\"#4d9221\"],[1,\"#276419\"]],\"sequential\":[[0.0,\"#0d0887\"],[0.1111111111111111,\"#46039f\"],[0.2222222222222222,\"#7201a8\"],[0.3333333333333333,\"#9c179e\"],[0.4444444444444444,\"#bd3786\"],[0.5555555555555556,\"#d8576b\"],[0.6666666666666666,\"#ed7953\"],[0.7777777777777778,\"#fb9f3a\"],[0.8888888888888888,\"#fdca26\"],[1.0,\"#f0f921\"]],\"sequentialminus\":[[0.0,\"#0d0887\"],[0.1111111111111111,\"#46039f\"],[0.2222222222222222,\"#7201a8\"],[0.3333333333333333,\"#9c179e\"],[0.4444444444444444,\"#bd3786\"],[0.5555555555555556,\"#d8576b\"],[0.6666666666666666,\"#ed7953\"],[0.7777777777777778,\"#fb9f3a\"],[0.8888888888888888,\"#fdca26\"],[1.0,\"#f0f921\"]]},\"colorway\":[\"#636efa\",\"#EF553B\",\"#00cc96\",\"#ab63fa\",\"#FFA15A\",\"#19d3f3\",\"#FF6692\",\"#B6E880\",\"#FF97FF\",\"#FECB52\"],\"font\":{\"color\":\"#2a3f5f\"},\"geo\":{\"bgcolor\":\"white\",\"lakecolor\":\"white\",\"landcolor\":\"#E5ECF6\",\"showlakes\":true,\"showland\":true,\"subunitcolor\":\"white\"},\"hoverlabel\":{\"align\":\"left\"},\"hovermode\":\"closest\",\"mapbox\":{\"style\":\"light\"},\"paper_bgcolor\":\"white\",\"plot_bgcolor\":\"#E5ECF6\",\"polar\":{\"angularaxis\":{\"gridcolor\":\"white\",\"linecolor\":\"white\",\"ticks\":\"\"},\"bgcolor\":\"#E5ECF6\",\"radialaxis\":{\"gridcolor\":\"white\",\"linecolor\":\"white\",\"ticks\":\"\"}},\"scene\":{\"xaxis\":{\"backgroundcolor\":\"#E5ECF6\",\"gridcolor\":\"white\",\"gridwidth\":2,\"linecolor\":\"white\",\"showbackground\":true,\"ticks\":\"\",\"zerolinecolor\":\"white\"},\"yaxis\":{\"backgroundcolor\":\"#E5ECF6\",\"gridcolor\":\"white\",\"gridwidth\":2,\"linecolor\":\"white\",\"showbackground\":true,\"ticks\":\"\",\"zerolinecolor\":\"white\"},\"zaxis\":{\"backgroundcolor\":\"#E5ECF6\",\"gridcolor\":\"white\",\"gridwidth\":2,\"linecolor\":\"white\",\"showbackground\":true,\"ticks\":\"\",\"zerolinecolor\":\"white\"}},\"shapedefaults\":{\"line\":{\"color\":\"#2a3f5f\"}},\"ternary\":{\"aaxis\":{\"gridcolor\":\"white\",\"linecolor\":\"white\",\"ticks\":\"\"},\"baxis\":{\"gridcolor\":\"white\",\"linecolor\":\"white\",\"ticks\":\"\"},\"bgcolor\":\"#E5ECF6\",\"caxis\":{\"gridcolor\":\"white\",\"linecolor\":\"white\",\"ticks\":\"\"}},\"title\":{\"x\":0.05},\"xaxis\":{\"automargin\":true,\"gridcolor\":\"white\",\"linecolor\":\"white\",\"ticks\":\"\",\"title\":{\"standoff\":15},\"zerolinecolor\":\"white\",\"zerolinewidth\":2},\"yaxis\":{\"automargin\":true,\"gridcolor\":\"white\",\"linecolor\":\"white\",\"ticks\":\"\",\"title\":{\"standoff\":15},\"zerolinecolor\":\"white\",\"zerolinewidth\":2}}},\"title\":{\"text\":\"POLYPHEN through AGE\"},\"width\":1000,\"xaxis\":{\"anchor\":\"y\",\"domain\":[0.0,0.98],\"title\":{\"text\":\"Sample\"}},\"xaxis2\":{\"anchor\":\"y2\",\"domain\":[0.0,0.98],\"matches\":\"x\",\"showticklabels\":false},\"xaxis3\":{\"anchor\":\"y3\",\"domain\":[0.0,0.98],\"matches\":\"x\",\"showticklabels\":false},\"yaxis\":{\"anchor\":\"x\",\"domain\":[0.0,0.3133333333333333],\"title\":{\"text\":\"value\"}},\"yaxis2\":{\"anchor\":\"x2\",\"domain\":[0.34333333333333327,0.6566666666666665],\"title\":{\"text\":\"value\"}},\"yaxis3\":{\"anchor\":\"x3\",\"domain\":[0.6866666666666665,0.9999999999999998],\"title\":{\"text\":\"value\"}}},                        {\"responsive\": true}                    ).then(function(){\n",
       "                            \n",
       "var gd = document.getElementById('2c81c853-2ec3-4868-b452-7d1db6ff427a');\n",
       "var x = new MutationObserver(function (mutations, observer) {{\n",
       "        var display = window.getComputedStyle(gd).display;\n",
       "        if (!display || display === 'none') {{\n",
       "            console.log([gd, 'removed!']);\n",
       "            Plotly.purge(gd);\n",
       "            observer.disconnect();\n",
       "        }}\n",
       "}});\n",
       "\n",
       "// Listen for the removal of the full notebook cells\n",
       "var notebookContainer = gd.closest('#notebook-container');\n",
       "if (notebookContainer) {{\n",
       "    x.observe(notebookContainer, {childList: true});\n",
       "}}\n",
       "\n",
       "// Listen for the clearing of the current output cell\n",
       "var outputEl = gd.closest('.output');\n",
       "if (outputEl) {{\n",
       "    x.observe(outputEl, {childList: true});\n",
       "}}\n",
       "\n",
       "                        })                };                });            </script>        </div>"
      ]
     },
     "metadata": {},
     "output_type": "display_data"
    }
   ],
   "source": [
    "fig = px.scatter(df_age, y=\"value\", x=\"Sample\", color = \"Method\",facet_row=\"variable\",\n",
    "                 width=1000, height=1000, title=\"POLYPHEN through AGE\")\n",
    "\n",
    "fig.for_each_annotation(lambda a: a.update(text=a.text.split(\"=\")[-1].split(\"_\")[-1]))\n",
    "fig.update_yaxes(matches=None)\n",
    "fig.update_traces(mode='lines+markers', marker_line_width=2, marker_size=5)\n",
    "fig.show()"
   ]
  },
  {
   "cell_type": "code",
   "execution_count": 281,
   "id": "d42fb542",
   "metadata": {},
   "outputs": [
    {
     "data": {
      "application/vnd.plotly.v1+json": {
       "config": {
        "plotlyServerURL": "https://plot.ly"
       },
       "data": [
        {
         "hovertemplate": "Method=BWA1-bam<br>variable=PCT_POLY_benign<br>Coverage=%{x}<br>value=%{y}<extra></extra>",
         "legendgroup": "BWA1-bam",
         "marker": {
          "color": "#636efa",
          "line": {
           "width": 2
          },
          "size": 5,
          "symbol": "circle"
         },
         "mode": "lines+markers",
         "name": "BWA1-bam",
         "orientation": "v",
         "showlegend": true,
         "type": "scatter",
         "x": [
          5,
          10,
          20,
          30,
          65
         ],
         "xaxis": "x3",
         "y": [
          64.33293745051465,
          67.70471234341898,
          83.03997312730937,
          84.5225293974817,
          84.40789473684211
         ],
         "yaxis": "y3"
        },
        {
         "hovertemplate": "Method=BWA1-bam<br>variable=PCT_POLY_possibly-damaging<br>Coverage=%{x}<br>value=%{y}<extra></extra>",
         "legendgroup": "BWA1-bam",
         "marker": {
          "color": "#636efa",
          "line": {
           "width": 2
          },
          "size": 5,
          "symbol": "circle"
         },
         "mode": "lines+markers",
         "name": "BWA1-bam",
         "orientation": "v",
         "showlegend": false,
         "type": "scatter",
         "x": [
          5,
          10,
          20,
          30,
          65
         ],
         "xaxis": "x2",
         "y": [
          13.762866191607284,
          12.4339222905568,
          8.364124958011422,
          7.998890006590586,
          8.10595567867036
         ],
         "yaxis": "y2"
        },
        {
         "hovertemplate": "Method=BWA1-bam<br>variable=PCT_POLYP_probably-damaging<br>Coverage=%{x}<br>value=%{y}<extra></extra>",
         "legendgroup": "BWA1-bam",
         "marker": {
          "color": "#636efa",
          "line": {
           "width": 2
          },
          "size": 5,
          "symbol": "circle"
         },
         "mode": "lines+markers",
         "name": "BWA1-bam",
         "orientation": "v",
         "showlegend": false,
         "type": "scatter",
         "x": [
          5,
          10,
          20,
          30,
          65
         ],
         "xaxis": "x",
         "y": [
          21.904196357878067,
          19.86136536602423,
          8.595901914679207,
          7.478580595927712,
          7.486149584487535
         ],
         "yaxis": "y"
        },
        {
         "hovertemplate": "Method=VG-bam<br>variable=PCT_POLY_benign<br>Coverage=%{x}<br>value=%{y}<extra></extra>",
         "legendgroup": "VG-bam",
         "marker": {
          "color": "#EF553B",
          "line": {
           "width": 2
          },
          "size": 5,
          "symbol": "circle"
         },
         "mode": "lines+markers",
         "name": "VG-bam",
         "orientation": "v",
         "showlegend": true,
         "type": "scatter",
         "x": [
          5,
          10,
          20,
          30,
          65
         ],
         "xaxis": "x3",
         "y": [
          65.49567453822773,
          68.43224549827086,
          80.70013955283709,
          81.69099756690997,
          81.68132000481754
         ],
         "yaxis": "y3"
        },
        {
         "hovertemplate": "Method=VG-bam<br>variable=PCT_POLY_possibly-damaging<br>Coverage=%{x}<br>value=%{y}<extra></extra>",
         "legendgroup": "VG-bam",
         "marker": {
          "color": "#EF553B",
          "line": {
           "width": 2
          },
          "size": 5,
          "symbol": "circle"
         },
         "mode": "lines+markers",
         "name": "VG-bam",
         "orientation": "v",
         "showlegend": false,
         "type": "scatter",
         "x": [
          5,
          10,
          20,
          30,
          65
         ],
         "xaxis": "x2",
         "y": [
          13.952536824877251,
          12.664467146321103,
          10.009204548828647,
          9.87530413625304,
          9.81572925448633
         ],
         "yaxis": "y2"
        },
        {
         "hovertemplate": "Method=VG-bam<br>variable=PCT_POLYP_probably-damaging<br>Coverage=%{x}<br>value=%{y}<extra></extra>",
         "legendgroup": "VG-bam",
         "marker": {
          "color": "#EF553B",
          "line": {
           "width": 2
          },
          "size": 5,
          "symbol": "circle"
         },
         "mode": "lines+markers",
         "name": "VG-bam",
         "orientation": "v",
         "showlegend": false,
         "type": "scatter",
         "x": [
          5,
          10,
          20,
          30,
          65
         ],
         "xaxis": "x",
         "y": [
          20.55178863689502,
          18.903287355408036,
          9.290655898334274,
          8.433698296836983,
          8.502950740696134
         ],
         "yaxis": "y"
        },
        {
         "hovertemplate": "Method=VG-gam<br>variable=PCT_POLY_benign<br>Coverage=%{x}<br>value=%{y}<extra></extra>",
         "legendgroup": "VG-gam",
         "marker": {
          "color": "#00cc96",
          "line": {
           "width": 2
          },
          "size": 5,
          "symbol": "circle"
         },
         "mode": "lines+markers",
         "name": "VG-gam",
         "orientation": "v",
         "showlegend": true,
         "type": "scatter",
         "x": [
          65
         ],
         "xaxis": "x3",
         "y": [
          85.00928974216892
         ],
         "yaxis": "y3"
        },
        {
         "hovertemplate": "Method=VG-gam<br>variable=PCT_POLY_possibly-damaging<br>Coverage=%{x}<br>value=%{y}<extra></extra>",
         "legendgroup": "VG-gam",
         "marker": {
          "color": "#00cc96",
          "line": {
           "width": 2
          },
          "size": 5,
          "symbol": "circle"
         },
         "mode": "lines+markers",
         "name": "VG-gam",
         "orientation": "v",
         "showlegend": false,
         "type": "scatter",
         "x": [
          65
         ],
         "xaxis": "x2",
         "y": [
          8.843182633071482
         ],
         "yaxis": "y2"
        },
        {
         "hovertemplate": "Method=VG-gam<br>variable=PCT_POLYP_probably-damaging<br>Coverage=%{x}<br>value=%{y}<extra></extra>",
         "legendgroup": "VG-gam",
         "marker": {
          "color": "#00cc96",
          "line": {
           "width": 2
          },
          "size": 5,
          "symbol": "circle"
         },
         "mode": "lines+markers",
         "name": "VG-gam",
         "orientation": "v",
         "showlegend": false,
         "type": "scatter",
         "x": [
          65
         ],
         "xaxis": "x",
         "y": [
          6.147527624759608
         ],
         "yaxis": "y"
        }
       ],
       "layout": {
        "annotations": [
         {
          "font": {},
          "showarrow": false,
          "text": "probably-damaging",
          "textangle": 90,
          "x": 0.98,
          "xanchor": "left",
          "xref": "paper",
          "y": 0.15666666666666665,
          "yanchor": "middle",
          "yref": "paper"
         },
         {
          "font": {},
          "showarrow": false,
          "text": "possibly-damaging",
          "textangle": 90,
          "x": 0.98,
          "xanchor": "left",
          "xref": "paper",
          "y": 0.4999999999999999,
          "yanchor": "middle",
          "yref": "paper"
         },
         {
          "font": {},
          "showarrow": false,
          "text": "benign",
          "textangle": 90,
          "x": 0.98,
          "xanchor": "left",
          "xref": "paper",
          "y": 0.8433333333333332,
          "yanchor": "middle",
          "yref": "paper"
         }
        ],
        "height": 1000,
        "legend": {
         "title": {
          "text": "Method"
         },
         "tracegroupgap": 0
        },
        "template": {
         "data": {
          "bar": [
           {
            "error_x": {
             "color": "#2a3f5f"
            },
            "error_y": {
             "color": "#2a3f5f"
            },
            "marker": {
             "line": {
              "color": "#E5ECF6",
              "width": 0.5
             },
             "pattern": {
              "fillmode": "overlay",
              "size": 10,
              "solidity": 0.2
             }
            },
            "type": "bar"
           }
          ],
          "barpolar": [
           {
            "marker": {
             "line": {
              "color": "#E5ECF6",
              "width": 0.5
             },
             "pattern": {
              "fillmode": "overlay",
              "size": 10,
              "solidity": 0.2
             }
            },
            "type": "barpolar"
           }
          ],
          "carpet": [
           {
            "aaxis": {
             "endlinecolor": "#2a3f5f",
             "gridcolor": "white",
             "linecolor": "white",
             "minorgridcolor": "white",
             "startlinecolor": "#2a3f5f"
            },
            "baxis": {
             "endlinecolor": "#2a3f5f",
             "gridcolor": "white",
             "linecolor": "white",
             "minorgridcolor": "white",
             "startlinecolor": "#2a3f5f"
            },
            "type": "carpet"
           }
          ],
          "choropleth": [
           {
            "colorbar": {
             "outlinewidth": 0,
             "ticks": ""
            },
            "type": "choropleth"
           }
          ],
          "contour": [
           {
            "colorbar": {
             "outlinewidth": 0,
             "ticks": ""
            },
            "colorscale": [
             [
              0,
              "#0d0887"
             ],
             [
              0.1111111111111111,
              "#46039f"
             ],
             [
              0.2222222222222222,
              "#7201a8"
             ],
             [
              0.3333333333333333,
              "#9c179e"
             ],
             [
              0.4444444444444444,
              "#bd3786"
             ],
             [
              0.5555555555555556,
              "#d8576b"
             ],
             [
              0.6666666666666666,
              "#ed7953"
             ],
             [
              0.7777777777777778,
              "#fb9f3a"
             ],
             [
              0.8888888888888888,
              "#fdca26"
             ],
             [
              1,
              "#f0f921"
             ]
            ],
            "type": "contour"
           }
          ],
          "contourcarpet": [
           {
            "colorbar": {
             "outlinewidth": 0,
             "ticks": ""
            },
            "type": "contourcarpet"
           }
          ],
          "heatmap": [
           {
            "colorbar": {
             "outlinewidth": 0,
             "ticks": ""
            },
            "colorscale": [
             [
              0,
              "#0d0887"
             ],
             [
              0.1111111111111111,
              "#46039f"
             ],
             [
              0.2222222222222222,
              "#7201a8"
             ],
             [
              0.3333333333333333,
              "#9c179e"
             ],
             [
              0.4444444444444444,
              "#bd3786"
             ],
             [
              0.5555555555555556,
              "#d8576b"
             ],
             [
              0.6666666666666666,
              "#ed7953"
             ],
             [
              0.7777777777777778,
              "#fb9f3a"
             ],
             [
              0.8888888888888888,
              "#fdca26"
             ],
             [
              1,
              "#f0f921"
             ]
            ],
            "type": "heatmap"
           }
          ],
          "heatmapgl": [
           {
            "colorbar": {
             "outlinewidth": 0,
             "ticks": ""
            },
            "colorscale": [
             [
              0,
              "#0d0887"
             ],
             [
              0.1111111111111111,
              "#46039f"
             ],
             [
              0.2222222222222222,
              "#7201a8"
             ],
             [
              0.3333333333333333,
              "#9c179e"
             ],
             [
              0.4444444444444444,
              "#bd3786"
             ],
             [
              0.5555555555555556,
              "#d8576b"
             ],
             [
              0.6666666666666666,
              "#ed7953"
             ],
             [
              0.7777777777777778,
              "#fb9f3a"
             ],
             [
              0.8888888888888888,
              "#fdca26"
             ],
             [
              1,
              "#f0f921"
             ]
            ],
            "type": "heatmapgl"
           }
          ],
          "histogram": [
           {
            "marker": {
             "pattern": {
              "fillmode": "overlay",
              "size": 10,
              "solidity": 0.2
             }
            },
            "type": "histogram"
           }
          ],
          "histogram2d": [
           {
            "colorbar": {
             "outlinewidth": 0,
             "ticks": ""
            },
            "colorscale": [
             [
              0,
              "#0d0887"
             ],
             [
              0.1111111111111111,
              "#46039f"
             ],
             [
              0.2222222222222222,
              "#7201a8"
             ],
             [
              0.3333333333333333,
              "#9c179e"
             ],
             [
              0.4444444444444444,
              "#bd3786"
             ],
             [
              0.5555555555555556,
              "#d8576b"
             ],
             [
              0.6666666666666666,
              "#ed7953"
             ],
             [
              0.7777777777777778,
              "#fb9f3a"
             ],
             [
              0.8888888888888888,
              "#fdca26"
             ],
             [
              1,
              "#f0f921"
             ]
            ],
            "type": "histogram2d"
           }
          ],
          "histogram2dcontour": [
           {
            "colorbar": {
             "outlinewidth": 0,
             "ticks": ""
            },
            "colorscale": [
             [
              0,
              "#0d0887"
             ],
             [
              0.1111111111111111,
              "#46039f"
             ],
             [
              0.2222222222222222,
              "#7201a8"
             ],
             [
              0.3333333333333333,
              "#9c179e"
             ],
             [
              0.4444444444444444,
              "#bd3786"
             ],
             [
              0.5555555555555556,
              "#d8576b"
             ],
             [
              0.6666666666666666,
              "#ed7953"
             ],
             [
              0.7777777777777778,
              "#fb9f3a"
             ],
             [
              0.8888888888888888,
              "#fdca26"
             ],
             [
              1,
              "#f0f921"
             ]
            ],
            "type": "histogram2dcontour"
           }
          ],
          "mesh3d": [
           {
            "colorbar": {
             "outlinewidth": 0,
             "ticks": ""
            },
            "type": "mesh3d"
           }
          ],
          "parcoords": [
           {
            "line": {
             "colorbar": {
              "outlinewidth": 0,
              "ticks": ""
             }
            },
            "type": "parcoords"
           }
          ],
          "pie": [
           {
            "automargin": true,
            "type": "pie"
           }
          ],
          "scatter": [
           {
            "marker": {
             "colorbar": {
              "outlinewidth": 0,
              "ticks": ""
             }
            },
            "type": "scatter"
           }
          ],
          "scatter3d": [
           {
            "line": {
             "colorbar": {
              "outlinewidth": 0,
              "ticks": ""
             }
            },
            "marker": {
             "colorbar": {
              "outlinewidth": 0,
              "ticks": ""
             }
            },
            "type": "scatter3d"
           }
          ],
          "scattercarpet": [
           {
            "marker": {
             "colorbar": {
              "outlinewidth": 0,
              "ticks": ""
             }
            },
            "type": "scattercarpet"
           }
          ],
          "scattergeo": [
           {
            "marker": {
             "colorbar": {
              "outlinewidth": 0,
              "ticks": ""
             }
            },
            "type": "scattergeo"
           }
          ],
          "scattergl": [
           {
            "marker": {
             "colorbar": {
              "outlinewidth": 0,
              "ticks": ""
             }
            },
            "type": "scattergl"
           }
          ],
          "scattermapbox": [
           {
            "marker": {
             "colorbar": {
              "outlinewidth": 0,
              "ticks": ""
             }
            },
            "type": "scattermapbox"
           }
          ],
          "scatterpolar": [
           {
            "marker": {
             "colorbar": {
              "outlinewidth": 0,
              "ticks": ""
             }
            },
            "type": "scatterpolar"
           }
          ],
          "scatterpolargl": [
           {
            "marker": {
             "colorbar": {
              "outlinewidth": 0,
              "ticks": ""
             }
            },
            "type": "scatterpolargl"
           }
          ],
          "scatterternary": [
           {
            "marker": {
             "colorbar": {
              "outlinewidth": 0,
              "ticks": ""
             }
            },
            "type": "scatterternary"
           }
          ],
          "surface": [
           {
            "colorbar": {
             "outlinewidth": 0,
             "ticks": ""
            },
            "colorscale": [
             [
              0,
              "#0d0887"
             ],
             [
              0.1111111111111111,
              "#46039f"
             ],
             [
              0.2222222222222222,
              "#7201a8"
             ],
             [
              0.3333333333333333,
              "#9c179e"
             ],
             [
              0.4444444444444444,
              "#bd3786"
             ],
             [
              0.5555555555555556,
              "#d8576b"
             ],
             [
              0.6666666666666666,
              "#ed7953"
             ],
             [
              0.7777777777777778,
              "#fb9f3a"
             ],
             [
              0.8888888888888888,
              "#fdca26"
             ],
             [
              1,
              "#f0f921"
             ]
            ],
            "type": "surface"
           }
          ],
          "table": [
           {
            "cells": {
             "fill": {
              "color": "#EBF0F8"
             },
             "line": {
              "color": "white"
             }
            },
            "header": {
             "fill": {
              "color": "#C8D4E3"
             },
             "line": {
              "color": "white"
             }
            },
            "type": "table"
           }
          ]
         },
         "layout": {
          "annotationdefaults": {
           "arrowcolor": "#2a3f5f",
           "arrowhead": 0,
           "arrowwidth": 1
          },
          "autotypenumbers": "strict",
          "coloraxis": {
           "colorbar": {
            "outlinewidth": 0,
            "ticks": ""
           }
          },
          "colorscale": {
           "diverging": [
            [
             0,
             "#8e0152"
            ],
            [
             0.1,
             "#c51b7d"
            ],
            [
             0.2,
             "#de77ae"
            ],
            [
             0.3,
             "#f1b6da"
            ],
            [
             0.4,
             "#fde0ef"
            ],
            [
             0.5,
             "#f7f7f7"
            ],
            [
             0.6,
             "#e6f5d0"
            ],
            [
             0.7,
             "#b8e186"
            ],
            [
             0.8,
             "#7fbc41"
            ],
            [
             0.9,
             "#4d9221"
            ],
            [
             1,
             "#276419"
            ]
           ],
           "sequential": [
            [
             0,
             "#0d0887"
            ],
            [
             0.1111111111111111,
             "#46039f"
            ],
            [
             0.2222222222222222,
             "#7201a8"
            ],
            [
             0.3333333333333333,
             "#9c179e"
            ],
            [
             0.4444444444444444,
             "#bd3786"
            ],
            [
             0.5555555555555556,
             "#d8576b"
            ],
            [
             0.6666666666666666,
             "#ed7953"
            ],
            [
             0.7777777777777778,
             "#fb9f3a"
            ],
            [
             0.8888888888888888,
             "#fdca26"
            ],
            [
             1,
             "#f0f921"
            ]
           ],
           "sequentialminus": [
            [
             0,
             "#0d0887"
            ],
            [
             0.1111111111111111,
             "#46039f"
            ],
            [
             0.2222222222222222,
             "#7201a8"
            ],
            [
             0.3333333333333333,
             "#9c179e"
            ],
            [
             0.4444444444444444,
             "#bd3786"
            ],
            [
             0.5555555555555556,
             "#d8576b"
            ],
            [
             0.6666666666666666,
             "#ed7953"
            ],
            [
             0.7777777777777778,
             "#fb9f3a"
            ],
            [
             0.8888888888888888,
             "#fdca26"
            ],
            [
             1,
             "#f0f921"
            ]
           ]
          },
          "colorway": [
           "#636efa",
           "#EF553B",
           "#00cc96",
           "#ab63fa",
           "#FFA15A",
           "#19d3f3",
           "#FF6692",
           "#B6E880",
           "#FF97FF",
           "#FECB52"
          ],
          "font": {
           "color": "#2a3f5f"
          },
          "geo": {
           "bgcolor": "white",
           "lakecolor": "white",
           "landcolor": "#E5ECF6",
           "showlakes": true,
           "showland": true,
           "subunitcolor": "white"
          },
          "hoverlabel": {
           "align": "left"
          },
          "hovermode": "closest",
          "mapbox": {
           "style": "light"
          },
          "paper_bgcolor": "white",
          "plot_bgcolor": "#E5ECF6",
          "polar": {
           "angularaxis": {
            "gridcolor": "white",
            "linecolor": "white",
            "ticks": ""
           },
           "bgcolor": "#E5ECF6",
           "radialaxis": {
            "gridcolor": "white",
            "linecolor": "white",
            "ticks": ""
           }
          },
          "scene": {
           "xaxis": {
            "backgroundcolor": "#E5ECF6",
            "gridcolor": "white",
            "gridwidth": 2,
            "linecolor": "white",
            "showbackground": true,
            "ticks": "",
            "zerolinecolor": "white"
           },
           "yaxis": {
            "backgroundcolor": "#E5ECF6",
            "gridcolor": "white",
            "gridwidth": 2,
            "linecolor": "white",
            "showbackground": true,
            "ticks": "",
            "zerolinecolor": "white"
           },
           "zaxis": {
            "backgroundcolor": "#E5ECF6",
            "gridcolor": "white",
            "gridwidth": 2,
            "linecolor": "white",
            "showbackground": true,
            "ticks": "",
            "zerolinecolor": "white"
           }
          },
          "shapedefaults": {
           "line": {
            "color": "#2a3f5f"
           }
          },
          "ternary": {
           "aaxis": {
            "gridcolor": "white",
            "linecolor": "white",
            "ticks": ""
           },
           "baxis": {
            "gridcolor": "white",
            "linecolor": "white",
            "ticks": ""
           },
           "bgcolor": "#E5ECF6",
           "caxis": {
            "gridcolor": "white",
            "linecolor": "white",
            "ticks": ""
           }
          },
          "title": {
           "x": 0.05
          },
          "xaxis": {
           "automargin": true,
           "gridcolor": "white",
           "linecolor": "white",
           "ticks": "",
           "title": {
            "standoff": 15
           },
           "zerolinecolor": "white",
           "zerolinewidth": 2
          },
          "yaxis": {
           "automargin": true,
           "gridcolor": "white",
           "linecolor": "white",
           "ticks": "",
           "title": {
            "standoff": 15
           },
           "zerolinecolor": "white",
           "zerolinewidth": 2
          }
         }
        },
        "title": {
         "text": "POLYPHEN through COVERAGE"
        },
        "width": 1000,
        "xaxis": {
         "anchor": "y",
         "domain": [
          0,
          0.98
         ],
         "title": {
          "text": "Coverage"
         }
        },
        "xaxis2": {
         "anchor": "y2",
         "domain": [
          0,
          0.98
         ],
         "matches": "x",
         "showticklabels": false
        },
        "xaxis3": {
         "anchor": "y3",
         "domain": [
          0,
          0.98
         ],
         "matches": "x",
         "showticklabels": false
        },
        "yaxis": {
         "anchor": "x",
         "domain": [
          0,
          0.3133333333333333
         ],
         "title": {
          "text": "value"
         }
        },
        "yaxis2": {
         "anchor": "x2",
         "domain": [
          0.34333333333333327,
          0.6566666666666665
         ],
         "title": {
          "text": "value"
         }
        },
        "yaxis3": {
         "anchor": "x3",
         "domain": [
          0.6866666666666665,
          0.9999999999999998
         ],
         "title": {
          "text": "value"
         }
        }
       }
      },
      "text/html": [
       "<div>                            <div id=\"81985482-b8dc-4e2e-a92e-1d3c030a5f88\" class=\"plotly-graph-div\" style=\"height:1000px; width:1000px;\"></div>            <script type=\"text/javascript\">                require([\"plotly\"], function(Plotly) {                    window.PLOTLYENV=window.PLOTLYENV || {};                                    if (document.getElementById(\"81985482-b8dc-4e2e-a92e-1d3c030a5f88\")) {                    Plotly.newPlot(                        \"81985482-b8dc-4e2e-a92e-1d3c030a5f88\",                        [{\"hovertemplate\":\"Method=BWA1-bam<br>variable=PCT_POLY_benign<br>Coverage=%{x}<br>value=%{y}<extra></extra>\",\"legendgroup\":\"BWA1-bam\",\"marker\":{\"color\":\"#636efa\",\"line\":{\"width\":2},\"size\":5,\"symbol\":\"circle\"},\"mode\":\"lines+markers\",\"name\":\"BWA1-bam\",\"orientation\":\"v\",\"showlegend\":true,\"type\":\"scatter\",\"x\":[5,10,20,30,65],\"xaxis\":\"x3\",\"y\":[64.33293745051465,67.70471234341898,83.03997312730937,84.5225293974817,84.40789473684211],\"yaxis\":\"y3\"},{\"hovertemplate\":\"Method=BWA1-bam<br>variable=PCT_POLY_possibly-damaging<br>Coverage=%{x}<br>value=%{y}<extra></extra>\",\"legendgroup\":\"BWA1-bam\",\"marker\":{\"color\":\"#636efa\",\"line\":{\"width\":2},\"size\":5,\"symbol\":\"circle\"},\"mode\":\"lines+markers\",\"name\":\"BWA1-bam\",\"orientation\":\"v\",\"showlegend\":false,\"type\":\"scatter\",\"x\":[5,10,20,30,65],\"xaxis\":\"x2\",\"y\":[13.762866191607284,12.4339222905568,8.364124958011422,7.998890006590586,8.10595567867036],\"yaxis\":\"y2\"},{\"hovertemplate\":\"Method=BWA1-bam<br>variable=PCT_POLYP_probably-damaging<br>Coverage=%{x}<br>value=%{y}<extra></extra>\",\"legendgroup\":\"BWA1-bam\",\"marker\":{\"color\":\"#636efa\",\"line\":{\"width\":2},\"size\":5,\"symbol\":\"circle\"},\"mode\":\"lines+markers\",\"name\":\"BWA1-bam\",\"orientation\":\"v\",\"showlegend\":false,\"type\":\"scatter\",\"x\":[5,10,20,30,65],\"xaxis\":\"x\",\"y\":[21.904196357878067,19.86136536602423,8.595901914679207,7.478580595927712,7.486149584487535],\"yaxis\":\"y\"},{\"hovertemplate\":\"Method=VG-bam<br>variable=PCT_POLY_benign<br>Coverage=%{x}<br>value=%{y}<extra></extra>\",\"legendgroup\":\"VG-bam\",\"marker\":{\"color\":\"#EF553B\",\"line\":{\"width\":2},\"size\":5,\"symbol\":\"circle\"},\"mode\":\"lines+markers\",\"name\":\"VG-bam\",\"orientation\":\"v\",\"showlegend\":true,\"type\":\"scatter\",\"x\":[5,10,20,30,65],\"xaxis\":\"x3\",\"y\":[65.49567453822773,68.43224549827086,80.70013955283709,81.69099756690997,81.68132000481754],\"yaxis\":\"y3\"},{\"hovertemplate\":\"Method=VG-bam<br>variable=PCT_POLY_possibly-damaging<br>Coverage=%{x}<br>value=%{y}<extra></extra>\",\"legendgroup\":\"VG-bam\",\"marker\":{\"color\":\"#EF553B\",\"line\":{\"width\":2},\"size\":5,\"symbol\":\"circle\"},\"mode\":\"lines+markers\",\"name\":\"VG-bam\",\"orientation\":\"v\",\"showlegend\":false,\"type\":\"scatter\",\"x\":[5,10,20,30,65],\"xaxis\":\"x2\",\"y\":[13.952536824877251,12.664467146321103,10.009204548828647,9.87530413625304,9.81572925448633],\"yaxis\":\"y2\"},{\"hovertemplate\":\"Method=VG-bam<br>variable=PCT_POLYP_probably-damaging<br>Coverage=%{x}<br>value=%{y}<extra></extra>\",\"legendgroup\":\"VG-bam\",\"marker\":{\"color\":\"#EF553B\",\"line\":{\"width\":2},\"size\":5,\"symbol\":\"circle\"},\"mode\":\"lines+markers\",\"name\":\"VG-bam\",\"orientation\":\"v\",\"showlegend\":false,\"type\":\"scatter\",\"x\":[5,10,20,30,65],\"xaxis\":\"x\",\"y\":[20.55178863689502,18.903287355408036,9.290655898334274,8.433698296836983,8.502950740696134],\"yaxis\":\"y\"},{\"hovertemplate\":\"Method=VG-gam<br>variable=PCT_POLY_benign<br>Coverage=%{x}<br>value=%{y}<extra></extra>\",\"legendgroup\":\"VG-gam\",\"marker\":{\"color\":\"#00cc96\",\"line\":{\"width\":2},\"size\":5,\"symbol\":\"circle\"},\"mode\":\"lines+markers\",\"name\":\"VG-gam\",\"orientation\":\"v\",\"showlegend\":true,\"type\":\"scatter\",\"x\":[65],\"xaxis\":\"x3\",\"y\":[85.00928974216892],\"yaxis\":\"y3\"},{\"hovertemplate\":\"Method=VG-gam<br>variable=PCT_POLY_possibly-damaging<br>Coverage=%{x}<br>value=%{y}<extra></extra>\",\"legendgroup\":\"VG-gam\",\"marker\":{\"color\":\"#00cc96\",\"line\":{\"width\":2},\"size\":5,\"symbol\":\"circle\"},\"mode\":\"lines+markers\",\"name\":\"VG-gam\",\"orientation\":\"v\",\"showlegend\":false,\"type\":\"scatter\",\"x\":[65],\"xaxis\":\"x2\",\"y\":[8.843182633071482],\"yaxis\":\"y2\"},{\"hovertemplate\":\"Method=VG-gam<br>variable=PCT_POLYP_probably-damaging<br>Coverage=%{x}<br>value=%{y}<extra></extra>\",\"legendgroup\":\"VG-gam\",\"marker\":{\"color\":\"#00cc96\",\"line\":{\"width\":2},\"size\":5,\"symbol\":\"circle\"},\"mode\":\"lines+markers\",\"name\":\"VG-gam\",\"orientation\":\"v\",\"showlegend\":false,\"type\":\"scatter\",\"x\":[65],\"xaxis\":\"x\",\"y\":[6.147527624759608],\"yaxis\":\"y\"}],                        {\"annotations\":[{\"font\":{},\"showarrow\":false,\"text\":\"probably-damaging\",\"textangle\":90,\"x\":0.98,\"xanchor\":\"left\",\"xref\":\"paper\",\"y\":0.15666666666666665,\"yanchor\":\"middle\",\"yref\":\"paper\"},{\"font\":{},\"showarrow\":false,\"text\":\"possibly-damaging\",\"textangle\":90,\"x\":0.98,\"xanchor\":\"left\",\"xref\":\"paper\",\"y\":0.4999999999999999,\"yanchor\":\"middle\",\"yref\":\"paper\"},{\"font\":{},\"showarrow\":false,\"text\":\"benign\",\"textangle\":90,\"x\":0.98,\"xanchor\":\"left\",\"xref\":\"paper\",\"y\":0.8433333333333332,\"yanchor\":\"middle\",\"yref\":\"paper\"}],\"height\":1000,\"legend\":{\"title\":{\"text\":\"Method\"},\"tracegroupgap\":0},\"template\":{\"data\":{\"bar\":[{\"error_x\":{\"color\":\"#2a3f5f\"},\"error_y\":{\"color\":\"#2a3f5f\"},\"marker\":{\"line\":{\"color\":\"#E5ECF6\",\"width\":0.5},\"pattern\":{\"fillmode\":\"overlay\",\"size\":10,\"solidity\":0.2}},\"type\":\"bar\"}],\"barpolar\":[{\"marker\":{\"line\":{\"color\":\"#E5ECF6\",\"width\":0.5},\"pattern\":{\"fillmode\":\"overlay\",\"size\":10,\"solidity\":0.2}},\"type\":\"barpolar\"}],\"carpet\":[{\"aaxis\":{\"endlinecolor\":\"#2a3f5f\",\"gridcolor\":\"white\",\"linecolor\":\"white\",\"minorgridcolor\":\"white\",\"startlinecolor\":\"#2a3f5f\"},\"baxis\":{\"endlinecolor\":\"#2a3f5f\",\"gridcolor\":\"white\",\"linecolor\":\"white\",\"minorgridcolor\":\"white\",\"startlinecolor\":\"#2a3f5f\"},\"type\":\"carpet\"}],\"choropleth\":[{\"colorbar\":{\"outlinewidth\":0,\"ticks\":\"\"},\"type\":\"choropleth\"}],\"contour\":[{\"colorbar\":{\"outlinewidth\":0,\"ticks\":\"\"},\"colorscale\":[[0.0,\"#0d0887\"],[0.1111111111111111,\"#46039f\"],[0.2222222222222222,\"#7201a8\"],[0.3333333333333333,\"#9c179e\"],[0.4444444444444444,\"#bd3786\"],[0.5555555555555556,\"#d8576b\"],[0.6666666666666666,\"#ed7953\"],[0.7777777777777778,\"#fb9f3a\"],[0.8888888888888888,\"#fdca26\"],[1.0,\"#f0f921\"]],\"type\":\"contour\"}],\"contourcarpet\":[{\"colorbar\":{\"outlinewidth\":0,\"ticks\":\"\"},\"type\":\"contourcarpet\"}],\"heatmap\":[{\"colorbar\":{\"outlinewidth\":0,\"ticks\":\"\"},\"colorscale\":[[0.0,\"#0d0887\"],[0.1111111111111111,\"#46039f\"],[0.2222222222222222,\"#7201a8\"],[0.3333333333333333,\"#9c179e\"],[0.4444444444444444,\"#bd3786\"],[0.5555555555555556,\"#d8576b\"],[0.6666666666666666,\"#ed7953\"],[0.7777777777777778,\"#fb9f3a\"],[0.8888888888888888,\"#fdca26\"],[1.0,\"#f0f921\"]],\"type\":\"heatmap\"}],\"heatmapgl\":[{\"colorbar\":{\"outlinewidth\":0,\"ticks\":\"\"},\"colorscale\":[[0.0,\"#0d0887\"],[0.1111111111111111,\"#46039f\"],[0.2222222222222222,\"#7201a8\"],[0.3333333333333333,\"#9c179e\"],[0.4444444444444444,\"#bd3786\"],[0.5555555555555556,\"#d8576b\"],[0.6666666666666666,\"#ed7953\"],[0.7777777777777778,\"#fb9f3a\"],[0.8888888888888888,\"#fdca26\"],[1.0,\"#f0f921\"]],\"type\":\"heatmapgl\"}],\"histogram\":[{\"marker\":{\"pattern\":{\"fillmode\":\"overlay\",\"size\":10,\"solidity\":0.2}},\"type\":\"histogram\"}],\"histogram2d\":[{\"colorbar\":{\"outlinewidth\":0,\"ticks\":\"\"},\"colorscale\":[[0.0,\"#0d0887\"],[0.1111111111111111,\"#46039f\"],[0.2222222222222222,\"#7201a8\"],[0.3333333333333333,\"#9c179e\"],[0.4444444444444444,\"#bd3786\"],[0.5555555555555556,\"#d8576b\"],[0.6666666666666666,\"#ed7953\"],[0.7777777777777778,\"#fb9f3a\"],[0.8888888888888888,\"#fdca26\"],[1.0,\"#f0f921\"]],\"type\":\"histogram2d\"}],\"histogram2dcontour\":[{\"colorbar\":{\"outlinewidth\":0,\"ticks\":\"\"},\"colorscale\":[[0.0,\"#0d0887\"],[0.1111111111111111,\"#46039f\"],[0.2222222222222222,\"#7201a8\"],[0.3333333333333333,\"#9c179e\"],[0.4444444444444444,\"#bd3786\"],[0.5555555555555556,\"#d8576b\"],[0.6666666666666666,\"#ed7953\"],[0.7777777777777778,\"#fb9f3a\"],[0.8888888888888888,\"#fdca26\"],[1.0,\"#f0f921\"]],\"type\":\"histogram2dcontour\"}],\"mesh3d\":[{\"colorbar\":{\"outlinewidth\":0,\"ticks\":\"\"},\"type\":\"mesh3d\"}],\"parcoords\":[{\"line\":{\"colorbar\":{\"outlinewidth\":0,\"ticks\":\"\"}},\"type\":\"parcoords\"}],\"pie\":[{\"automargin\":true,\"type\":\"pie\"}],\"scatter\":[{\"marker\":{\"colorbar\":{\"outlinewidth\":0,\"ticks\":\"\"}},\"type\":\"scatter\"}],\"scatter3d\":[{\"line\":{\"colorbar\":{\"outlinewidth\":0,\"ticks\":\"\"}},\"marker\":{\"colorbar\":{\"outlinewidth\":0,\"ticks\":\"\"}},\"type\":\"scatter3d\"}],\"scattercarpet\":[{\"marker\":{\"colorbar\":{\"outlinewidth\":0,\"ticks\":\"\"}},\"type\":\"scattercarpet\"}],\"scattergeo\":[{\"marker\":{\"colorbar\":{\"outlinewidth\":0,\"ticks\":\"\"}},\"type\":\"scattergeo\"}],\"scattergl\":[{\"marker\":{\"colorbar\":{\"outlinewidth\":0,\"ticks\":\"\"}},\"type\":\"scattergl\"}],\"scattermapbox\":[{\"marker\":{\"colorbar\":{\"outlinewidth\":0,\"ticks\":\"\"}},\"type\":\"scattermapbox\"}],\"scatterpolar\":[{\"marker\":{\"colorbar\":{\"outlinewidth\":0,\"ticks\":\"\"}},\"type\":\"scatterpolar\"}],\"scatterpolargl\":[{\"marker\":{\"colorbar\":{\"outlinewidth\":0,\"ticks\":\"\"}},\"type\":\"scatterpolargl\"}],\"scatterternary\":[{\"marker\":{\"colorbar\":{\"outlinewidth\":0,\"ticks\":\"\"}},\"type\":\"scatterternary\"}],\"surface\":[{\"colorbar\":{\"outlinewidth\":0,\"ticks\":\"\"},\"colorscale\":[[0.0,\"#0d0887\"],[0.1111111111111111,\"#46039f\"],[0.2222222222222222,\"#7201a8\"],[0.3333333333333333,\"#9c179e\"],[0.4444444444444444,\"#bd3786\"],[0.5555555555555556,\"#d8576b\"],[0.6666666666666666,\"#ed7953\"],[0.7777777777777778,\"#fb9f3a\"],[0.8888888888888888,\"#fdca26\"],[1.0,\"#f0f921\"]],\"type\":\"surface\"}],\"table\":[{\"cells\":{\"fill\":{\"color\":\"#EBF0F8\"},\"line\":{\"color\":\"white\"}},\"header\":{\"fill\":{\"color\":\"#C8D4E3\"},\"line\":{\"color\":\"white\"}},\"type\":\"table\"}]},\"layout\":{\"annotationdefaults\":{\"arrowcolor\":\"#2a3f5f\",\"arrowhead\":0,\"arrowwidth\":1},\"autotypenumbers\":\"strict\",\"coloraxis\":{\"colorbar\":{\"outlinewidth\":0,\"ticks\":\"\"}},\"colorscale\":{\"diverging\":[[0,\"#8e0152\"],[0.1,\"#c51b7d\"],[0.2,\"#de77ae\"],[0.3,\"#f1b6da\"],[0.4,\"#fde0ef\"],[0.5,\"#f7f7f7\"],[0.6,\"#e6f5d0\"],[0.7,\"#b8e186\"],[0.8,\"#7fbc41\"],[0.9,\"#4d9221\"],[1,\"#276419\"]],\"sequential\":[[0.0,\"#0d0887\"],[0.1111111111111111,\"#46039f\"],[0.2222222222222222,\"#7201a8\"],[0.3333333333333333,\"#9c179e\"],[0.4444444444444444,\"#bd3786\"],[0.5555555555555556,\"#d8576b\"],[0.6666666666666666,\"#ed7953\"],[0.7777777777777778,\"#fb9f3a\"],[0.8888888888888888,\"#fdca26\"],[1.0,\"#f0f921\"]],\"sequentialminus\":[[0.0,\"#0d0887\"],[0.1111111111111111,\"#46039f\"],[0.2222222222222222,\"#7201a8\"],[0.3333333333333333,\"#9c179e\"],[0.4444444444444444,\"#bd3786\"],[0.5555555555555556,\"#d8576b\"],[0.6666666666666666,\"#ed7953\"],[0.7777777777777778,\"#fb9f3a\"],[0.8888888888888888,\"#fdca26\"],[1.0,\"#f0f921\"]]},\"colorway\":[\"#636efa\",\"#EF553B\",\"#00cc96\",\"#ab63fa\",\"#FFA15A\",\"#19d3f3\",\"#FF6692\",\"#B6E880\",\"#FF97FF\",\"#FECB52\"],\"font\":{\"color\":\"#2a3f5f\"},\"geo\":{\"bgcolor\":\"white\",\"lakecolor\":\"white\",\"landcolor\":\"#E5ECF6\",\"showlakes\":true,\"showland\":true,\"subunitcolor\":\"white\"},\"hoverlabel\":{\"align\":\"left\"},\"hovermode\":\"closest\",\"mapbox\":{\"style\":\"light\"},\"paper_bgcolor\":\"white\",\"plot_bgcolor\":\"#E5ECF6\",\"polar\":{\"angularaxis\":{\"gridcolor\":\"white\",\"linecolor\":\"white\",\"ticks\":\"\"},\"bgcolor\":\"#E5ECF6\",\"radialaxis\":{\"gridcolor\":\"white\",\"linecolor\":\"white\",\"ticks\":\"\"}},\"scene\":{\"xaxis\":{\"backgroundcolor\":\"#E5ECF6\",\"gridcolor\":\"white\",\"gridwidth\":2,\"linecolor\":\"white\",\"showbackground\":true,\"ticks\":\"\",\"zerolinecolor\":\"white\"},\"yaxis\":{\"backgroundcolor\":\"#E5ECF6\",\"gridcolor\":\"white\",\"gridwidth\":2,\"linecolor\":\"white\",\"showbackground\":true,\"ticks\":\"\",\"zerolinecolor\":\"white\"},\"zaxis\":{\"backgroundcolor\":\"#E5ECF6\",\"gridcolor\":\"white\",\"gridwidth\":2,\"linecolor\":\"white\",\"showbackground\":true,\"ticks\":\"\",\"zerolinecolor\":\"white\"}},\"shapedefaults\":{\"line\":{\"color\":\"#2a3f5f\"}},\"ternary\":{\"aaxis\":{\"gridcolor\":\"white\",\"linecolor\":\"white\",\"ticks\":\"\"},\"baxis\":{\"gridcolor\":\"white\",\"linecolor\":\"white\",\"ticks\":\"\"},\"bgcolor\":\"#E5ECF6\",\"caxis\":{\"gridcolor\":\"white\",\"linecolor\":\"white\",\"ticks\":\"\"}},\"title\":{\"x\":0.05},\"xaxis\":{\"automargin\":true,\"gridcolor\":\"white\",\"linecolor\":\"white\",\"ticks\":\"\",\"title\":{\"standoff\":15},\"zerolinecolor\":\"white\",\"zerolinewidth\":2},\"yaxis\":{\"automargin\":true,\"gridcolor\":\"white\",\"linecolor\":\"white\",\"ticks\":\"\",\"title\":{\"standoff\":15},\"zerolinecolor\":\"white\",\"zerolinewidth\":2}}},\"title\":{\"text\":\"POLYPHEN through COVERAGE\"},\"width\":1000,\"xaxis\":{\"anchor\":\"y\",\"domain\":[0.0,0.98],\"title\":{\"text\":\"Coverage\"}},\"xaxis2\":{\"anchor\":\"y2\",\"domain\":[0.0,0.98],\"matches\":\"x\",\"showticklabels\":false},\"xaxis3\":{\"anchor\":\"y3\",\"domain\":[0.0,0.98],\"matches\":\"x\",\"showticklabels\":false},\"yaxis\":{\"anchor\":\"x\",\"domain\":[0.0,0.3133333333333333],\"title\":{\"text\":\"value\"}},\"yaxis2\":{\"anchor\":\"x2\",\"domain\":[0.34333333333333327,0.6566666666666665],\"title\":{\"text\":\"value\"}},\"yaxis3\":{\"anchor\":\"x3\",\"domain\":[0.6866666666666665,0.9999999999999998],\"title\":{\"text\":\"value\"}}},                        {\"responsive\": true}                    ).then(function(){\n",
       "                            \n",
       "var gd = document.getElementById('81985482-b8dc-4e2e-a92e-1d3c030a5f88');\n",
       "var x = new MutationObserver(function (mutations, observer) {{\n",
       "        var display = window.getComputedStyle(gd).display;\n",
       "        if (!display || display === 'none') {{\n",
       "            console.log([gd, 'removed!']);\n",
       "            Plotly.purge(gd);\n",
       "            observer.disconnect();\n",
       "        }}\n",
       "}});\n",
       "\n",
       "// Listen for the removal of the full notebook cells\n",
       "var notebookContainer = gd.closest('#notebook-container');\n",
       "if (notebookContainer) {{\n",
       "    x.observe(notebookContainer, {childList: true});\n",
       "}}\n",
       "\n",
       "// Listen for the clearing of the current output cell\n",
       "var outputEl = gd.closest('.output');\n",
       "if (outputEl) {{\n",
       "    x.observe(outputEl, {childList: true});\n",
       "}}\n",
       "\n",
       "                        })                };                });            </script>        </div>"
      ]
     },
     "metadata": {},
     "output_type": "display_data"
    }
   ],
   "source": [
    "fig = px.scatter(df_cov, y=\"value\", x=\"Coverage\", color = \"Method\",facet_row=\"variable\",\n",
    "                 width=1000, height=1000, title=\"POLYPHEN through COVERAGE\")\n",
    "\n",
    "fig.for_each_annotation(lambda a: a.update(text=a.text.split(\"=\")[-1].split(\"_\")[-1]))\n",
    "fig.update_yaxes(matches=None)\n",
    "fig.update_traces(mode='lines+markers', marker_line_width=2, marker_size=5)\n",
    "fig.show()"
   ]
  },
  {
   "cell_type": "markdown",
   "id": "82bfe788",
   "metadata": {},
   "source": [
    "# Insight on GERP"
   ]
  },
  {
   "cell_type": "code",
   "execution_count": 285,
   "id": "0ace63ef",
   "metadata": {},
   "outputs": [],
   "source": [
    "df_age = dfsort_age.melt(id_vars=['Sample','Method'], value_vars=['PCT_GERP_constrained','PCT_GERP_not-constrained'])\n",
    "df_cov = dfsort_cov.melt(id_vars=['Sample','Method','Coverage'], value_vars=['PCT_GERP_constrained','PCT_GERP_not-constrained'])"
   ]
  },
  {
   "cell_type": "code",
   "execution_count": 286,
   "id": "c977d103",
   "metadata": {},
   "outputs": [
    {
     "data": {
      "application/vnd.plotly.v1+json": {
       "config": {
        "plotlyServerURL": "https://plot.ly"
       },
       "data": [
        {
         "hovertemplate": "Method=BWA1-bam<br>variable=PCT_GERP_constrained<br>Sample=%{x}<br>value=%{y}<extra></extra>",
         "legendgroup": "BWA1-bam",
         "marker": {
          "color": "#636efa",
          "line": {
           "width": 2
          },
          "size": 5,
          "symbol": "circle"
         },
         "mode": "lines+markers",
         "name": "BWA1-bam",
         "orientation": "v",
         "showlegend": true,
         "type": "scatter",
         "x": [
          "SZ43",
          "SZ45",
          "SZ4",
          "SZ15",
          "BR2",
          "ATP016",
          "NG10",
          "PB675",
          "BOT2016",
          "JP14",
          "NE1",
          "Stutgart",
          "Loschbour",
          "SF12",
          "KK1",
          "Sunghir3",
          "UstIshim"
         ],
         "xaxis": "x2",
         "y": [
          65.57489651681941,
          66.58058857922433,
          73.55745241998717,
          61.67584983190138,
          58.246336077092955,
          74.73128771729667,
          55.36951682187314,
          61.382230992660915,
          65.01643944629431,
          61.84505771588517,
          62.34158486561499,
          57.45450731553831,
          55.6199083503055,
          49.3811320754717,
          75.60686087666757,
          60.55308941520307,
          50.51542985528316
         ],
         "yaxis": "y2"
        },
        {
         "hovertemplate": "Method=BWA1-bam<br>variable=PCT_GERP_not-constrained<br>Sample=%{x}<br>value=%{y}<extra></extra>",
         "legendgroup": "BWA1-bam",
         "marker": {
          "color": "#636efa",
          "line": {
           "width": 2
          },
          "size": 5,
          "symbol": "circle"
         },
         "mode": "lines+markers",
         "name": "BWA1-bam",
         "orientation": "v",
         "showlegend": false,
         "type": "scatter",
         "x": [
          "SZ43",
          "SZ45",
          "SZ4",
          "SZ15",
          "BR2",
          "ATP016",
          "NG10",
          "PB675",
          "BOT2016",
          "JP14",
          "NE1",
          "Stutgart",
          "Loschbour",
          "SF12",
          "KK1",
          "Sunghir3",
          "UstIshim"
         ],
         "xaxis": "x",
         "y": [
          34.42510348318059,
          33.419411420775674,
          26.442547580012832,
          38.32415016809862,
          41.753663922907045,
          25.268712282703337,
          44.63048317812686,
          38.617769007339085,
          34.98356055370568,
          38.15494228411483,
          37.65841513438501,
          42.54549268446169,
          44.3800916496945,
          50.6188679245283,
          24.393139123332425,
          39.44691058479693,
          49.48457014471684
         ],
         "yaxis": "y"
        },
        {
         "hovertemplate": "Method=VG-gam<br>variable=PCT_GERP_constrained<br>Sample=%{x}<br>value=%{y}<extra></extra>",
         "legendgroup": "VG-gam",
         "marker": {
          "color": "#EF553B",
          "line": {
           "width": 2
          },
          "size": 5,
          "symbol": "circle"
         },
         "mode": "lines+markers",
         "name": "VG-gam",
         "orientation": "v",
         "showlegend": true,
         "type": "scatter",
         "x": [
          "SZ43",
          "SZ45",
          "SZ4",
          "SZ15",
          "BR2",
          "ATP016",
          "NG10",
          "PB675",
          "BOT2016",
          "JP14",
          "NE1",
          "Stutgart",
          "Loschbour",
          "SF12",
          "KK1",
          "Sunghir3",
          "UstIshim"
         ],
         "xaxis": "x2",
         "y": [
          43.90954005411128,
          44.4566220581449,
          45.98786427580202,
          44.71481711097334,
          45.17334921265052,
          49.26420260095825,
          44.05990479168838,
          44.2922649933631,
          46.582841218233696,
          44.01120412515517,
          45.32883539995137,
          44.78556584167769,
          44.79095035070829,
          44.24740639695588,
          46.84331423002854,
          46.69617552463141,
          43.786580436540014
         ],
         "yaxis": "y2"
        },
        {
         "hovertemplate": "Method=VG-gam<br>variable=PCT_GERP_not-constrained<br>Sample=%{x}<br>value=%{y}<extra></extra>",
         "legendgroup": "VG-gam",
         "marker": {
          "color": "#EF553B",
          "line": {
           "width": 2
          },
          "size": 5,
          "symbol": "circle"
         },
         "mode": "lines+markers",
         "name": "VG-gam",
         "orientation": "v",
         "showlegend": false,
         "type": "scatter",
         "x": [
          "SZ43",
          "SZ45",
          "SZ4",
          "SZ15",
          "BR2",
          "ATP016",
          "NG10",
          "PB675",
          "BOT2016",
          "JP14",
          "NE1",
          "Stutgart",
          "Loschbour",
          "SF12",
          "KK1",
          "Sunghir3",
          "UstIshim"
         ],
         "xaxis": "x",
         "y": [
          56.09045994588872,
          55.5433779418551,
          54.01213572419798,
          55.28518288902666,
          54.82665078734948,
          50.73579739904175,
          55.94009520831162,
          55.7077350066369,
          53.417158781766304,
          55.98879587484483,
          54.67116460004863,
          55.21443415832231,
          55.20904964929171,
          55.75259360304412,
          53.15668576997146,
          53.30382447536859,
          56.213419563459986
         ],
         "yaxis": "y"
        },
        {
         "hovertemplate": "Method=VG-bam<br>variable=PCT_GERP_constrained<br>Sample=%{x}<br>value=%{y}<extra></extra>",
         "legendgroup": "VG-bam",
         "marker": {
          "color": "#00cc96",
          "line": {
           "width": 2
          },
          "size": 5,
          "symbol": "circle"
         },
         "mode": "lines+markers",
         "name": "VG-bam",
         "orientation": "v",
         "showlegend": true,
         "type": "scatter",
         "x": [
          "SZ43",
          "SZ45",
          "SZ4",
          "SZ15",
          "BR2",
          "ATP016",
          "NG10",
          "PB675",
          "BOT2016",
          "JP14",
          "NE1",
          "Stutgart",
          "Loschbour",
          "SF12",
          "KK1",
          "Sunghir3",
          "UstIshim"
         ],
         "xaxis": "x2",
         "y": [
          60.015539260913904,
          61.40022408302866,
          67.1180486246956,
          58.690257352941174,
          56.15006455457344,
          72.54169607050035,
          64.674536809313,
          60.18164125851443,
          62.88666396259847,
          58.77642536835362,
          59.82018645792238,
          55.777552483865385,
          54.05589840968431,
          47.79671271553897,
          67.95102574034831,
          60.170758898224435,
          49.1050681404258
         ],
         "yaxis": "y2"
        },
        {
         "hovertemplate": "Method=VG-bam<br>variable=PCT_GERP_not-constrained<br>Sample=%{x}<br>value=%{y}<extra></extra>",
         "legendgroup": "VG-bam",
         "marker": {
          "color": "#00cc96",
          "line": {
           "width": 2
          },
          "size": 5,
          "symbol": "circle"
         },
         "mode": "lines+markers",
         "name": "VG-bam",
         "orientation": "v",
         "showlegend": false,
         "type": "scatter",
         "x": [
          "SZ43",
          "SZ45",
          "SZ4",
          "SZ15",
          "BR2",
          "ATP016",
          "NG10",
          "PB675",
          "BOT2016",
          "JP14",
          "NE1",
          "Stutgart",
          "Loschbour",
          "SF12",
          "KK1",
          "Sunghir3",
          "UstIshim"
         ],
         "xaxis": "x",
         "y": [
          39.984460739086096,
          38.59977591697134,
          32.8819513753044,
          41.309742647058826,
          43.84993544542656,
          27.458303929499646,
          35.325463190686996,
          39.81835874148557,
          37.11333603740153,
          41.22357463164638,
          40.17981354207762,
          44.222447516134615,
          45.94410159031569,
          52.20328728446103,
          32.04897425965168,
          39.829241101775565,
          50.8949318595742
         ],
         "yaxis": "y"
        }
       ],
       "layout": {
        "annotations": [
         {
          "font": {},
          "showarrow": false,
          "text": "not-constrained",
          "textangle": 90,
          "x": 0.98,
          "xanchor": "left",
          "xref": "paper",
          "y": 0.2425,
          "yanchor": "middle",
          "yref": "paper"
         },
         {
          "font": {},
          "showarrow": false,
          "text": "constrained",
          "textangle": 90,
          "x": 0.98,
          "xanchor": "left",
          "xref": "paper",
          "y": 0.7575000000000001,
          "yanchor": "middle",
          "yref": "paper"
         }
        ],
        "height": 1000,
        "legend": {
         "title": {
          "text": "Method"
         },
         "tracegroupgap": 0
        },
        "template": {
         "data": {
          "bar": [
           {
            "error_x": {
             "color": "#2a3f5f"
            },
            "error_y": {
             "color": "#2a3f5f"
            },
            "marker": {
             "line": {
              "color": "#E5ECF6",
              "width": 0.5
             },
             "pattern": {
              "fillmode": "overlay",
              "size": 10,
              "solidity": 0.2
             }
            },
            "type": "bar"
           }
          ],
          "barpolar": [
           {
            "marker": {
             "line": {
              "color": "#E5ECF6",
              "width": 0.5
             },
             "pattern": {
              "fillmode": "overlay",
              "size": 10,
              "solidity": 0.2
             }
            },
            "type": "barpolar"
           }
          ],
          "carpet": [
           {
            "aaxis": {
             "endlinecolor": "#2a3f5f",
             "gridcolor": "white",
             "linecolor": "white",
             "minorgridcolor": "white",
             "startlinecolor": "#2a3f5f"
            },
            "baxis": {
             "endlinecolor": "#2a3f5f",
             "gridcolor": "white",
             "linecolor": "white",
             "minorgridcolor": "white",
             "startlinecolor": "#2a3f5f"
            },
            "type": "carpet"
           }
          ],
          "choropleth": [
           {
            "colorbar": {
             "outlinewidth": 0,
             "ticks": ""
            },
            "type": "choropleth"
           }
          ],
          "contour": [
           {
            "colorbar": {
             "outlinewidth": 0,
             "ticks": ""
            },
            "colorscale": [
             [
              0,
              "#0d0887"
             ],
             [
              0.1111111111111111,
              "#46039f"
             ],
             [
              0.2222222222222222,
              "#7201a8"
             ],
             [
              0.3333333333333333,
              "#9c179e"
             ],
             [
              0.4444444444444444,
              "#bd3786"
             ],
             [
              0.5555555555555556,
              "#d8576b"
             ],
             [
              0.6666666666666666,
              "#ed7953"
             ],
             [
              0.7777777777777778,
              "#fb9f3a"
             ],
             [
              0.8888888888888888,
              "#fdca26"
             ],
             [
              1,
              "#f0f921"
             ]
            ],
            "type": "contour"
           }
          ],
          "contourcarpet": [
           {
            "colorbar": {
             "outlinewidth": 0,
             "ticks": ""
            },
            "type": "contourcarpet"
           }
          ],
          "heatmap": [
           {
            "colorbar": {
             "outlinewidth": 0,
             "ticks": ""
            },
            "colorscale": [
             [
              0,
              "#0d0887"
             ],
             [
              0.1111111111111111,
              "#46039f"
             ],
             [
              0.2222222222222222,
              "#7201a8"
             ],
             [
              0.3333333333333333,
              "#9c179e"
             ],
             [
              0.4444444444444444,
              "#bd3786"
             ],
             [
              0.5555555555555556,
              "#d8576b"
             ],
             [
              0.6666666666666666,
              "#ed7953"
             ],
             [
              0.7777777777777778,
              "#fb9f3a"
             ],
             [
              0.8888888888888888,
              "#fdca26"
             ],
             [
              1,
              "#f0f921"
             ]
            ],
            "type": "heatmap"
           }
          ],
          "heatmapgl": [
           {
            "colorbar": {
             "outlinewidth": 0,
             "ticks": ""
            },
            "colorscale": [
             [
              0,
              "#0d0887"
             ],
             [
              0.1111111111111111,
              "#46039f"
             ],
             [
              0.2222222222222222,
              "#7201a8"
             ],
             [
              0.3333333333333333,
              "#9c179e"
             ],
             [
              0.4444444444444444,
              "#bd3786"
             ],
             [
              0.5555555555555556,
              "#d8576b"
             ],
             [
              0.6666666666666666,
              "#ed7953"
             ],
             [
              0.7777777777777778,
              "#fb9f3a"
             ],
             [
              0.8888888888888888,
              "#fdca26"
             ],
             [
              1,
              "#f0f921"
             ]
            ],
            "type": "heatmapgl"
           }
          ],
          "histogram": [
           {
            "marker": {
             "pattern": {
              "fillmode": "overlay",
              "size": 10,
              "solidity": 0.2
             }
            },
            "type": "histogram"
           }
          ],
          "histogram2d": [
           {
            "colorbar": {
             "outlinewidth": 0,
             "ticks": ""
            },
            "colorscale": [
             [
              0,
              "#0d0887"
             ],
             [
              0.1111111111111111,
              "#46039f"
             ],
             [
              0.2222222222222222,
              "#7201a8"
             ],
             [
              0.3333333333333333,
              "#9c179e"
             ],
             [
              0.4444444444444444,
              "#bd3786"
             ],
             [
              0.5555555555555556,
              "#d8576b"
             ],
             [
              0.6666666666666666,
              "#ed7953"
             ],
             [
              0.7777777777777778,
              "#fb9f3a"
             ],
             [
              0.8888888888888888,
              "#fdca26"
             ],
             [
              1,
              "#f0f921"
             ]
            ],
            "type": "histogram2d"
           }
          ],
          "histogram2dcontour": [
           {
            "colorbar": {
             "outlinewidth": 0,
             "ticks": ""
            },
            "colorscale": [
             [
              0,
              "#0d0887"
             ],
             [
              0.1111111111111111,
              "#46039f"
             ],
             [
              0.2222222222222222,
              "#7201a8"
             ],
             [
              0.3333333333333333,
              "#9c179e"
             ],
             [
              0.4444444444444444,
              "#bd3786"
             ],
             [
              0.5555555555555556,
              "#d8576b"
             ],
             [
              0.6666666666666666,
              "#ed7953"
             ],
             [
              0.7777777777777778,
              "#fb9f3a"
             ],
             [
              0.8888888888888888,
              "#fdca26"
             ],
             [
              1,
              "#f0f921"
             ]
            ],
            "type": "histogram2dcontour"
           }
          ],
          "mesh3d": [
           {
            "colorbar": {
             "outlinewidth": 0,
             "ticks": ""
            },
            "type": "mesh3d"
           }
          ],
          "parcoords": [
           {
            "line": {
             "colorbar": {
              "outlinewidth": 0,
              "ticks": ""
             }
            },
            "type": "parcoords"
           }
          ],
          "pie": [
           {
            "automargin": true,
            "type": "pie"
           }
          ],
          "scatter": [
           {
            "marker": {
             "colorbar": {
              "outlinewidth": 0,
              "ticks": ""
             }
            },
            "type": "scatter"
           }
          ],
          "scatter3d": [
           {
            "line": {
             "colorbar": {
              "outlinewidth": 0,
              "ticks": ""
             }
            },
            "marker": {
             "colorbar": {
              "outlinewidth": 0,
              "ticks": ""
             }
            },
            "type": "scatter3d"
           }
          ],
          "scattercarpet": [
           {
            "marker": {
             "colorbar": {
              "outlinewidth": 0,
              "ticks": ""
             }
            },
            "type": "scattercarpet"
           }
          ],
          "scattergeo": [
           {
            "marker": {
             "colorbar": {
              "outlinewidth": 0,
              "ticks": ""
             }
            },
            "type": "scattergeo"
           }
          ],
          "scattergl": [
           {
            "marker": {
             "colorbar": {
              "outlinewidth": 0,
              "ticks": ""
             }
            },
            "type": "scattergl"
           }
          ],
          "scattermapbox": [
           {
            "marker": {
             "colorbar": {
              "outlinewidth": 0,
              "ticks": ""
             }
            },
            "type": "scattermapbox"
           }
          ],
          "scatterpolar": [
           {
            "marker": {
             "colorbar": {
              "outlinewidth": 0,
              "ticks": ""
             }
            },
            "type": "scatterpolar"
           }
          ],
          "scatterpolargl": [
           {
            "marker": {
             "colorbar": {
              "outlinewidth": 0,
              "ticks": ""
             }
            },
            "type": "scatterpolargl"
           }
          ],
          "scatterternary": [
           {
            "marker": {
             "colorbar": {
              "outlinewidth": 0,
              "ticks": ""
             }
            },
            "type": "scatterternary"
           }
          ],
          "surface": [
           {
            "colorbar": {
             "outlinewidth": 0,
             "ticks": ""
            },
            "colorscale": [
             [
              0,
              "#0d0887"
             ],
             [
              0.1111111111111111,
              "#46039f"
             ],
             [
              0.2222222222222222,
              "#7201a8"
             ],
             [
              0.3333333333333333,
              "#9c179e"
             ],
             [
              0.4444444444444444,
              "#bd3786"
             ],
             [
              0.5555555555555556,
              "#d8576b"
             ],
             [
              0.6666666666666666,
              "#ed7953"
             ],
             [
              0.7777777777777778,
              "#fb9f3a"
             ],
             [
              0.8888888888888888,
              "#fdca26"
             ],
             [
              1,
              "#f0f921"
             ]
            ],
            "type": "surface"
           }
          ],
          "table": [
           {
            "cells": {
             "fill": {
              "color": "#EBF0F8"
             },
             "line": {
              "color": "white"
             }
            },
            "header": {
             "fill": {
              "color": "#C8D4E3"
             },
             "line": {
              "color": "white"
             }
            },
            "type": "table"
           }
          ]
         },
         "layout": {
          "annotationdefaults": {
           "arrowcolor": "#2a3f5f",
           "arrowhead": 0,
           "arrowwidth": 1
          },
          "autotypenumbers": "strict",
          "coloraxis": {
           "colorbar": {
            "outlinewidth": 0,
            "ticks": ""
           }
          },
          "colorscale": {
           "diverging": [
            [
             0,
             "#8e0152"
            ],
            [
             0.1,
             "#c51b7d"
            ],
            [
             0.2,
             "#de77ae"
            ],
            [
             0.3,
             "#f1b6da"
            ],
            [
             0.4,
             "#fde0ef"
            ],
            [
             0.5,
             "#f7f7f7"
            ],
            [
             0.6,
             "#e6f5d0"
            ],
            [
             0.7,
             "#b8e186"
            ],
            [
             0.8,
             "#7fbc41"
            ],
            [
             0.9,
             "#4d9221"
            ],
            [
             1,
             "#276419"
            ]
           ],
           "sequential": [
            [
             0,
             "#0d0887"
            ],
            [
             0.1111111111111111,
             "#46039f"
            ],
            [
             0.2222222222222222,
             "#7201a8"
            ],
            [
             0.3333333333333333,
             "#9c179e"
            ],
            [
             0.4444444444444444,
             "#bd3786"
            ],
            [
             0.5555555555555556,
             "#d8576b"
            ],
            [
             0.6666666666666666,
             "#ed7953"
            ],
            [
             0.7777777777777778,
             "#fb9f3a"
            ],
            [
             0.8888888888888888,
             "#fdca26"
            ],
            [
             1,
             "#f0f921"
            ]
           ],
           "sequentialminus": [
            [
             0,
             "#0d0887"
            ],
            [
             0.1111111111111111,
             "#46039f"
            ],
            [
             0.2222222222222222,
             "#7201a8"
            ],
            [
             0.3333333333333333,
             "#9c179e"
            ],
            [
             0.4444444444444444,
             "#bd3786"
            ],
            [
             0.5555555555555556,
             "#d8576b"
            ],
            [
             0.6666666666666666,
             "#ed7953"
            ],
            [
             0.7777777777777778,
             "#fb9f3a"
            ],
            [
             0.8888888888888888,
             "#fdca26"
            ],
            [
             1,
             "#f0f921"
            ]
           ]
          },
          "colorway": [
           "#636efa",
           "#EF553B",
           "#00cc96",
           "#ab63fa",
           "#FFA15A",
           "#19d3f3",
           "#FF6692",
           "#B6E880",
           "#FF97FF",
           "#FECB52"
          ],
          "font": {
           "color": "#2a3f5f"
          },
          "geo": {
           "bgcolor": "white",
           "lakecolor": "white",
           "landcolor": "#E5ECF6",
           "showlakes": true,
           "showland": true,
           "subunitcolor": "white"
          },
          "hoverlabel": {
           "align": "left"
          },
          "hovermode": "closest",
          "mapbox": {
           "style": "light"
          },
          "paper_bgcolor": "white",
          "plot_bgcolor": "#E5ECF6",
          "polar": {
           "angularaxis": {
            "gridcolor": "white",
            "linecolor": "white",
            "ticks": ""
           },
           "bgcolor": "#E5ECF6",
           "radialaxis": {
            "gridcolor": "white",
            "linecolor": "white",
            "ticks": ""
           }
          },
          "scene": {
           "xaxis": {
            "backgroundcolor": "#E5ECF6",
            "gridcolor": "white",
            "gridwidth": 2,
            "linecolor": "white",
            "showbackground": true,
            "ticks": "",
            "zerolinecolor": "white"
           },
           "yaxis": {
            "backgroundcolor": "#E5ECF6",
            "gridcolor": "white",
            "gridwidth": 2,
            "linecolor": "white",
            "showbackground": true,
            "ticks": "",
            "zerolinecolor": "white"
           },
           "zaxis": {
            "backgroundcolor": "#E5ECF6",
            "gridcolor": "white",
            "gridwidth": 2,
            "linecolor": "white",
            "showbackground": true,
            "ticks": "",
            "zerolinecolor": "white"
           }
          },
          "shapedefaults": {
           "line": {
            "color": "#2a3f5f"
           }
          },
          "ternary": {
           "aaxis": {
            "gridcolor": "white",
            "linecolor": "white",
            "ticks": ""
           },
           "baxis": {
            "gridcolor": "white",
            "linecolor": "white",
            "ticks": ""
           },
           "bgcolor": "#E5ECF6",
           "caxis": {
            "gridcolor": "white",
            "linecolor": "white",
            "ticks": ""
           }
          },
          "title": {
           "x": 0.05
          },
          "xaxis": {
           "automargin": true,
           "gridcolor": "white",
           "linecolor": "white",
           "ticks": "",
           "title": {
            "standoff": 15
           },
           "zerolinecolor": "white",
           "zerolinewidth": 2
          },
          "yaxis": {
           "automargin": true,
           "gridcolor": "white",
           "linecolor": "white",
           "ticks": "",
           "title": {
            "standoff": 15
           },
           "zerolinecolor": "white",
           "zerolinewidth": 2
          }
         }
        },
        "title": {
         "text": "GERP through AGE"
        },
        "width": 1000,
        "xaxis": {
         "anchor": "y",
         "domain": [
          0,
          0.98
         ],
         "title": {
          "text": "Sample"
         }
        },
        "xaxis2": {
         "anchor": "y2",
         "domain": [
          0,
          0.98
         ],
         "matches": "x",
         "showticklabels": false
        },
        "yaxis": {
         "anchor": "x",
         "domain": [
          0,
          0.485
         ],
         "title": {
          "text": "value"
         }
        },
        "yaxis2": {
         "anchor": "x2",
         "domain": [
          0.515,
          1
         ],
         "title": {
          "text": "value"
         }
        }
       }
      },
      "text/html": [
       "<div>                            <div id=\"08cef8a4-654f-4f99-ba96-a4223baa4d98\" class=\"plotly-graph-div\" style=\"height:1000px; width:1000px;\"></div>            <script type=\"text/javascript\">                require([\"plotly\"], function(Plotly) {                    window.PLOTLYENV=window.PLOTLYENV || {};                                    if (document.getElementById(\"08cef8a4-654f-4f99-ba96-a4223baa4d98\")) {                    Plotly.newPlot(                        \"08cef8a4-654f-4f99-ba96-a4223baa4d98\",                        [{\"hovertemplate\":\"Method=BWA1-bam<br>variable=PCT_GERP_constrained<br>Sample=%{x}<br>value=%{y}<extra></extra>\",\"legendgroup\":\"BWA1-bam\",\"marker\":{\"color\":\"#636efa\",\"line\":{\"width\":2},\"size\":5,\"symbol\":\"circle\"},\"mode\":\"lines+markers\",\"name\":\"BWA1-bam\",\"orientation\":\"v\",\"showlegend\":true,\"type\":\"scatter\",\"x\":[\"SZ43\",\"SZ45\",\"SZ4\",\"SZ15\",\"BR2\",\"ATP016\",\"NG10\",\"PB675\",\"BOT2016\",\"JP14\",\"NE1\",\"Stutgart\",\"Loschbour\",\"SF12\",\"KK1\",\"Sunghir3\",\"UstIshim\"],\"xaxis\":\"x2\",\"y\":[65.57489651681941,66.58058857922433,73.55745241998717,61.67584983190138,58.246336077092955,74.73128771729667,55.36951682187314,61.382230992660915,65.01643944629431,61.84505771588517,62.34158486561499,57.45450731553831,55.6199083503055,49.3811320754717,75.60686087666757,60.55308941520307,50.51542985528316],\"yaxis\":\"y2\"},{\"hovertemplate\":\"Method=BWA1-bam<br>variable=PCT_GERP_not-constrained<br>Sample=%{x}<br>value=%{y}<extra></extra>\",\"legendgroup\":\"BWA1-bam\",\"marker\":{\"color\":\"#636efa\",\"line\":{\"width\":2},\"size\":5,\"symbol\":\"circle\"},\"mode\":\"lines+markers\",\"name\":\"BWA1-bam\",\"orientation\":\"v\",\"showlegend\":false,\"type\":\"scatter\",\"x\":[\"SZ43\",\"SZ45\",\"SZ4\",\"SZ15\",\"BR2\",\"ATP016\",\"NG10\",\"PB675\",\"BOT2016\",\"JP14\",\"NE1\",\"Stutgart\",\"Loschbour\",\"SF12\",\"KK1\",\"Sunghir3\",\"UstIshim\"],\"xaxis\":\"x\",\"y\":[34.42510348318059,33.419411420775674,26.442547580012832,38.32415016809862,41.753663922907045,25.268712282703337,44.63048317812686,38.617769007339085,34.98356055370568,38.15494228411483,37.65841513438501,42.54549268446169,44.3800916496945,50.6188679245283,24.393139123332425,39.44691058479693,49.48457014471684],\"yaxis\":\"y\"},{\"hovertemplate\":\"Method=VG-gam<br>variable=PCT_GERP_constrained<br>Sample=%{x}<br>value=%{y}<extra></extra>\",\"legendgroup\":\"VG-gam\",\"marker\":{\"color\":\"#EF553B\",\"line\":{\"width\":2},\"size\":5,\"symbol\":\"circle\"},\"mode\":\"lines+markers\",\"name\":\"VG-gam\",\"orientation\":\"v\",\"showlegend\":true,\"type\":\"scatter\",\"x\":[\"SZ43\",\"SZ45\",\"SZ4\",\"SZ15\",\"BR2\",\"ATP016\",\"NG10\",\"PB675\",\"BOT2016\",\"JP14\",\"NE1\",\"Stutgart\",\"Loschbour\",\"SF12\",\"KK1\",\"Sunghir3\",\"UstIshim\"],\"xaxis\":\"x2\",\"y\":[43.90954005411128,44.4566220581449,45.98786427580202,44.71481711097334,45.17334921265052,49.26420260095825,44.05990479168838,44.2922649933631,46.582841218233696,44.01120412515517,45.32883539995137,44.78556584167769,44.79095035070829,44.24740639695588,46.84331423002854,46.69617552463141,43.786580436540014],\"yaxis\":\"y2\"},{\"hovertemplate\":\"Method=VG-gam<br>variable=PCT_GERP_not-constrained<br>Sample=%{x}<br>value=%{y}<extra></extra>\",\"legendgroup\":\"VG-gam\",\"marker\":{\"color\":\"#EF553B\",\"line\":{\"width\":2},\"size\":5,\"symbol\":\"circle\"},\"mode\":\"lines+markers\",\"name\":\"VG-gam\",\"orientation\":\"v\",\"showlegend\":false,\"type\":\"scatter\",\"x\":[\"SZ43\",\"SZ45\",\"SZ4\",\"SZ15\",\"BR2\",\"ATP016\",\"NG10\",\"PB675\",\"BOT2016\",\"JP14\",\"NE1\",\"Stutgart\",\"Loschbour\",\"SF12\",\"KK1\",\"Sunghir3\",\"UstIshim\"],\"xaxis\":\"x\",\"y\":[56.09045994588872,55.5433779418551,54.01213572419798,55.28518288902666,54.82665078734948,50.73579739904175,55.94009520831162,55.7077350066369,53.417158781766304,55.98879587484483,54.67116460004863,55.21443415832231,55.20904964929171,55.75259360304412,53.15668576997146,53.30382447536859,56.213419563459986],\"yaxis\":\"y\"},{\"hovertemplate\":\"Method=VG-bam<br>variable=PCT_GERP_constrained<br>Sample=%{x}<br>value=%{y}<extra></extra>\",\"legendgroup\":\"VG-bam\",\"marker\":{\"color\":\"#00cc96\",\"line\":{\"width\":2},\"size\":5,\"symbol\":\"circle\"},\"mode\":\"lines+markers\",\"name\":\"VG-bam\",\"orientation\":\"v\",\"showlegend\":true,\"type\":\"scatter\",\"x\":[\"SZ43\",\"SZ45\",\"SZ4\",\"SZ15\",\"BR2\",\"ATP016\",\"NG10\",\"PB675\",\"BOT2016\",\"JP14\",\"NE1\",\"Stutgart\",\"Loschbour\",\"SF12\",\"KK1\",\"Sunghir3\",\"UstIshim\"],\"xaxis\":\"x2\",\"y\":[60.015539260913904,61.40022408302866,67.1180486246956,58.690257352941174,56.15006455457344,72.54169607050035,64.674536809313,60.18164125851443,62.88666396259847,58.77642536835362,59.82018645792238,55.777552483865385,54.05589840968431,47.79671271553897,67.95102574034831,60.170758898224435,49.1050681404258],\"yaxis\":\"y2\"},{\"hovertemplate\":\"Method=VG-bam<br>variable=PCT_GERP_not-constrained<br>Sample=%{x}<br>value=%{y}<extra></extra>\",\"legendgroup\":\"VG-bam\",\"marker\":{\"color\":\"#00cc96\",\"line\":{\"width\":2},\"size\":5,\"symbol\":\"circle\"},\"mode\":\"lines+markers\",\"name\":\"VG-bam\",\"orientation\":\"v\",\"showlegend\":false,\"type\":\"scatter\",\"x\":[\"SZ43\",\"SZ45\",\"SZ4\",\"SZ15\",\"BR2\",\"ATP016\",\"NG10\",\"PB675\",\"BOT2016\",\"JP14\",\"NE1\",\"Stutgart\",\"Loschbour\",\"SF12\",\"KK1\",\"Sunghir3\",\"UstIshim\"],\"xaxis\":\"x\",\"y\":[39.984460739086096,38.59977591697134,32.8819513753044,41.309742647058826,43.84993544542656,27.458303929499646,35.325463190686996,39.81835874148557,37.11333603740153,41.22357463164638,40.17981354207762,44.222447516134615,45.94410159031569,52.20328728446103,32.04897425965168,39.829241101775565,50.8949318595742],\"yaxis\":\"y\"}],                        {\"annotations\":[{\"font\":{},\"showarrow\":false,\"text\":\"not-constrained\",\"textangle\":90,\"x\":0.98,\"xanchor\":\"left\",\"xref\":\"paper\",\"y\":0.2425,\"yanchor\":\"middle\",\"yref\":\"paper\"},{\"font\":{},\"showarrow\":false,\"text\":\"constrained\",\"textangle\":90,\"x\":0.98,\"xanchor\":\"left\",\"xref\":\"paper\",\"y\":0.7575000000000001,\"yanchor\":\"middle\",\"yref\":\"paper\"}],\"height\":1000,\"legend\":{\"title\":{\"text\":\"Method\"},\"tracegroupgap\":0},\"template\":{\"data\":{\"bar\":[{\"error_x\":{\"color\":\"#2a3f5f\"},\"error_y\":{\"color\":\"#2a3f5f\"},\"marker\":{\"line\":{\"color\":\"#E5ECF6\",\"width\":0.5},\"pattern\":{\"fillmode\":\"overlay\",\"size\":10,\"solidity\":0.2}},\"type\":\"bar\"}],\"barpolar\":[{\"marker\":{\"line\":{\"color\":\"#E5ECF6\",\"width\":0.5},\"pattern\":{\"fillmode\":\"overlay\",\"size\":10,\"solidity\":0.2}},\"type\":\"barpolar\"}],\"carpet\":[{\"aaxis\":{\"endlinecolor\":\"#2a3f5f\",\"gridcolor\":\"white\",\"linecolor\":\"white\",\"minorgridcolor\":\"white\",\"startlinecolor\":\"#2a3f5f\"},\"baxis\":{\"endlinecolor\":\"#2a3f5f\",\"gridcolor\":\"white\",\"linecolor\":\"white\",\"minorgridcolor\":\"white\",\"startlinecolor\":\"#2a3f5f\"},\"type\":\"carpet\"}],\"choropleth\":[{\"colorbar\":{\"outlinewidth\":0,\"ticks\":\"\"},\"type\":\"choropleth\"}],\"contour\":[{\"colorbar\":{\"outlinewidth\":0,\"ticks\":\"\"},\"colorscale\":[[0.0,\"#0d0887\"],[0.1111111111111111,\"#46039f\"],[0.2222222222222222,\"#7201a8\"],[0.3333333333333333,\"#9c179e\"],[0.4444444444444444,\"#bd3786\"],[0.5555555555555556,\"#d8576b\"],[0.6666666666666666,\"#ed7953\"],[0.7777777777777778,\"#fb9f3a\"],[0.8888888888888888,\"#fdca26\"],[1.0,\"#f0f921\"]],\"type\":\"contour\"}],\"contourcarpet\":[{\"colorbar\":{\"outlinewidth\":0,\"ticks\":\"\"},\"type\":\"contourcarpet\"}],\"heatmap\":[{\"colorbar\":{\"outlinewidth\":0,\"ticks\":\"\"},\"colorscale\":[[0.0,\"#0d0887\"],[0.1111111111111111,\"#46039f\"],[0.2222222222222222,\"#7201a8\"],[0.3333333333333333,\"#9c179e\"],[0.4444444444444444,\"#bd3786\"],[0.5555555555555556,\"#d8576b\"],[0.6666666666666666,\"#ed7953\"],[0.7777777777777778,\"#fb9f3a\"],[0.8888888888888888,\"#fdca26\"],[1.0,\"#f0f921\"]],\"type\":\"heatmap\"}],\"heatmapgl\":[{\"colorbar\":{\"outlinewidth\":0,\"ticks\":\"\"},\"colorscale\":[[0.0,\"#0d0887\"],[0.1111111111111111,\"#46039f\"],[0.2222222222222222,\"#7201a8\"],[0.3333333333333333,\"#9c179e\"],[0.4444444444444444,\"#bd3786\"],[0.5555555555555556,\"#d8576b\"],[0.6666666666666666,\"#ed7953\"],[0.7777777777777778,\"#fb9f3a\"],[0.8888888888888888,\"#fdca26\"],[1.0,\"#f0f921\"]],\"type\":\"heatmapgl\"}],\"histogram\":[{\"marker\":{\"pattern\":{\"fillmode\":\"overlay\",\"size\":10,\"solidity\":0.2}},\"type\":\"histogram\"}],\"histogram2d\":[{\"colorbar\":{\"outlinewidth\":0,\"ticks\":\"\"},\"colorscale\":[[0.0,\"#0d0887\"],[0.1111111111111111,\"#46039f\"],[0.2222222222222222,\"#7201a8\"],[0.3333333333333333,\"#9c179e\"],[0.4444444444444444,\"#bd3786\"],[0.5555555555555556,\"#d8576b\"],[0.6666666666666666,\"#ed7953\"],[0.7777777777777778,\"#fb9f3a\"],[0.8888888888888888,\"#fdca26\"],[1.0,\"#f0f921\"]],\"type\":\"histogram2d\"}],\"histogram2dcontour\":[{\"colorbar\":{\"outlinewidth\":0,\"ticks\":\"\"},\"colorscale\":[[0.0,\"#0d0887\"],[0.1111111111111111,\"#46039f\"],[0.2222222222222222,\"#7201a8\"],[0.3333333333333333,\"#9c179e\"],[0.4444444444444444,\"#bd3786\"],[0.5555555555555556,\"#d8576b\"],[0.6666666666666666,\"#ed7953\"],[0.7777777777777778,\"#fb9f3a\"],[0.8888888888888888,\"#fdca26\"],[1.0,\"#f0f921\"]],\"type\":\"histogram2dcontour\"}],\"mesh3d\":[{\"colorbar\":{\"outlinewidth\":0,\"ticks\":\"\"},\"type\":\"mesh3d\"}],\"parcoords\":[{\"line\":{\"colorbar\":{\"outlinewidth\":0,\"ticks\":\"\"}},\"type\":\"parcoords\"}],\"pie\":[{\"automargin\":true,\"type\":\"pie\"}],\"scatter\":[{\"marker\":{\"colorbar\":{\"outlinewidth\":0,\"ticks\":\"\"}},\"type\":\"scatter\"}],\"scatter3d\":[{\"line\":{\"colorbar\":{\"outlinewidth\":0,\"ticks\":\"\"}},\"marker\":{\"colorbar\":{\"outlinewidth\":0,\"ticks\":\"\"}},\"type\":\"scatter3d\"}],\"scattercarpet\":[{\"marker\":{\"colorbar\":{\"outlinewidth\":0,\"ticks\":\"\"}},\"type\":\"scattercarpet\"}],\"scattergeo\":[{\"marker\":{\"colorbar\":{\"outlinewidth\":0,\"ticks\":\"\"}},\"type\":\"scattergeo\"}],\"scattergl\":[{\"marker\":{\"colorbar\":{\"outlinewidth\":0,\"ticks\":\"\"}},\"type\":\"scattergl\"}],\"scattermapbox\":[{\"marker\":{\"colorbar\":{\"outlinewidth\":0,\"ticks\":\"\"}},\"type\":\"scattermapbox\"}],\"scatterpolar\":[{\"marker\":{\"colorbar\":{\"outlinewidth\":0,\"ticks\":\"\"}},\"type\":\"scatterpolar\"}],\"scatterpolargl\":[{\"marker\":{\"colorbar\":{\"outlinewidth\":0,\"ticks\":\"\"}},\"type\":\"scatterpolargl\"}],\"scatterternary\":[{\"marker\":{\"colorbar\":{\"outlinewidth\":0,\"ticks\":\"\"}},\"type\":\"scatterternary\"}],\"surface\":[{\"colorbar\":{\"outlinewidth\":0,\"ticks\":\"\"},\"colorscale\":[[0.0,\"#0d0887\"],[0.1111111111111111,\"#46039f\"],[0.2222222222222222,\"#7201a8\"],[0.3333333333333333,\"#9c179e\"],[0.4444444444444444,\"#bd3786\"],[0.5555555555555556,\"#d8576b\"],[0.6666666666666666,\"#ed7953\"],[0.7777777777777778,\"#fb9f3a\"],[0.8888888888888888,\"#fdca26\"],[1.0,\"#f0f921\"]],\"type\":\"surface\"}],\"table\":[{\"cells\":{\"fill\":{\"color\":\"#EBF0F8\"},\"line\":{\"color\":\"white\"}},\"header\":{\"fill\":{\"color\":\"#C8D4E3\"},\"line\":{\"color\":\"white\"}},\"type\":\"table\"}]},\"layout\":{\"annotationdefaults\":{\"arrowcolor\":\"#2a3f5f\",\"arrowhead\":0,\"arrowwidth\":1},\"autotypenumbers\":\"strict\",\"coloraxis\":{\"colorbar\":{\"outlinewidth\":0,\"ticks\":\"\"}},\"colorscale\":{\"diverging\":[[0,\"#8e0152\"],[0.1,\"#c51b7d\"],[0.2,\"#de77ae\"],[0.3,\"#f1b6da\"],[0.4,\"#fde0ef\"],[0.5,\"#f7f7f7\"],[0.6,\"#e6f5d0\"],[0.7,\"#b8e186\"],[0.8,\"#7fbc41\"],[0.9,\"#4d9221\"],[1,\"#276419\"]],\"sequential\":[[0.0,\"#0d0887\"],[0.1111111111111111,\"#46039f\"],[0.2222222222222222,\"#7201a8\"],[0.3333333333333333,\"#9c179e\"],[0.4444444444444444,\"#bd3786\"],[0.5555555555555556,\"#d8576b\"],[0.6666666666666666,\"#ed7953\"],[0.7777777777777778,\"#fb9f3a\"],[0.8888888888888888,\"#fdca26\"],[1.0,\"#f0f921\"]],\"sequentialminus\":[[0.0,\"#0d0887\"],[0.1111111111111111,\"#46039f\"],[0.2222222222222222,\"#7201a8\"],[0.3333333333333333,\"#9c179e\"],[0.4444444444444444,\"#bd3786\"],[0.5555555555555556,\"#d8576b\"],[0.6666666666666666,\"#ed7953\"],[0.7777777777777778,\"#fb9f3a\"],[0.8888888888888888,\"#fdca26\"],[1.0,\"#f0f921\"]]},\"colorway\":[\"#636efa\",\"#EF553B\",\"#00cc96\",\"#ab63fa\",\"#FFA15A\",\"#19d3f3\",\"#FF6692\",\"#B6E880\",\"#FF97FF\",\"#FECB52\"],\"font\":{\"color\":\"#2a3f5f\"},\"geo\":{\"bgcolor\":\"white\",\"lakecolor\":\"white\",\"landcolor\":\"#E5ECF6\",\"showlakes\":true,\"showland\":true,\"subunitcolor\":\"white\"},\"hoverlabel\":{\"align\":\"left\"},\"hovermode\":\"closest\",\"mapbox\":{\"style\":\"light\"},\"paper_bgcolor\":\"white\",\"plot_bgcolor\":\"#E5ECF6\",\"polar\":{\"angularaxis\":{\"gridcolor\":\"white\",\"linecolor\":\"white\",\"ticks\":\"\"},\"bgcolor\":\"#E5ECF6\",\"radialaxis\":{\"gridcolor\":\"white\",\"linecolor\":\"white\",\"ticks\":\"\"}},\"scene\":{\"xaxis\":{\"backgroundcolor\":\"#E5ECF6\",\"gridcolor\":\"white\",\"gridwidth\":2,\"linecolor\":\"white\",\"showbackground\":true,\"ticks\":\"\",\"zerolinecolor\":\"white\"},\"yaxis\":{\"backgroundcolor\":\"#E5ECF6\",\"gridcolor\":\"white\",\"gridwidth\":2,\"linecolor\":\"white\",\"showbackground\":true,\"ticks\":\"\",\"zerolinecolor\":\"white\"},\"zaxis\":{\"backgroundcolor\":\"#E5ECF6\",\"gridcolor\":\"white\",\"gridwidth\":2,\"linecolor\":\"white\",\"showbackground\":true,\"ticks\":\"\",\"zerolinecolor\":\"white\"}},\"shapedefaults\":{\"line\":{\"color\":\"#2a3f5f\"}},\"ternary\":{\"aaxis\":{\"gridcolor\":\"white\",\"linecolor\":\"white\",\"ticks\":\"\"},\"baxis\":{\"gridcolor\":\"white\",\"linecolor\":\"white\",\"ticks\":\"\"},\"bgcolor\":\"#E5ECF6\",\"caxis\":{\"gridcolor\":\"white\",\"linecolor\":\"white\",\"ticks\":\"\"}},\"title\":{\"x\":0.05},\"xaxis\":{\"automargin\":true,\"gridcolor\":\"white\",\"linecolor\":\"white\",\"ticks\":\"\",\"title\":{\"standoff\":15},\"zerolinecolor\":\"white\",\"zerolinewidth\":2},\"yaxis\":{\"automargin\":true,\"gridcolor\":\"white\",\"linecolor\":\"white\",\"ticks\":\"\",\"title\":{\"standoff\":15},\"zerolinecolor\":\"white\",\"zerolinewidth\":2}}},\"title\":{\"text\":\"GERP through AGE\"},\"width\":1000,\"xaxis\":{\"anchor\":\"y\",\"domain\":[0.0,0.98],\"title\":{\"text\":\"Sample\"}},\"xaxis2\":{\"anchor\":\"y2\",\"domain\":[0.0,0.98],\"matches\":\"x\",\"showticklabels\":false},\"yaxis\":{\"anchor\":\"x\",\"domain\":[0.0,0.485],\"title\":{\"text\":\"value\"}},\"yaxis2\":{\"anchor\":\"x2\",\"domain\":[0.515,1.0],\"title\":{\"text\":\"value\"}}},                        {\"responsive\": true}                    ).then(function(){\n",
       "                            \n",
       "var gd = document.getElementById('08cef8a4-654f-4f99-ba96-a4223baa4d98');\n",
       "var x = new MutationObserver(function (mutations, observer) {{\n",
       "        var display = window.getComputedStyle(gd).display;\n",
       "        if (!display || display === 'none') {{\n",
       "            console.log([gd, 'removed!']);\n",
       "            Plotly.purge(gd);\n",
       "            observer.disconnect();\n",
       "        }}\n",
       "}});\n",
       "\n",
       "// Listen for the removal of the full notebook cells\n",
       "var notebookContainer = gd.closest('#notebook-container');\n",
       "if (notebookContainer) {{\n",
       "    x.observe(notebookContainer, {childList: true});\n",
       "}}\n",
       "\n",
       "// Listen for the clearing of the current output cell\n",
       "var outputEl = gd.closest('.output');\n",
       "if (outputEl) {{\n",
       "    x.observe(outputEl, {childList: true});\n",
       "}}\n",
       "\n",
       "                        })                };                });            </script>        </div>"
      ]
     },
     "metadata": {},
     "output_type": "display_data"
    }
   ],
   "source": [
    "fig = px.scatter(df_age, y=\"value\", x=\"Sample\", color = \"Method\",facet_row=\"variable\",\n",
    "                 width=1000, height=1000, title=\"GERP through AGE\")\n",
    "\n",
    "fig.for_each_annotation(lambda a: a.update(text=a.text.split(\"=\")[-1].split(\"_\")[-1]))\n",
    "fig.update_yaxes(matches=None)\n",
    "fig.update_traces(mode='lines+markers', marker_line_width=2, marker_size=5)\n",
    "fig.show()"
   ]
  },
  {
   "cell_type": "code",
   "execution_count": 287,
   "id": "36d2c317",
   "metadata": {},
   "outputs": [
    {
     "data": {
      "application/vnd.plotly.v1+json": {
       "config": {
        "plotlyServerURL": "https://plot.ly"
       },
       "data": [
        {
         "hovertemplate": "Method=BWA1-bam<br>variable=PCT_GERP_constrained<br>Coverage=%{x}<br>value=%{y}<extra></extra>",
         "legendgroup": "BWA1-bam",
         "marker": {
          "color": "#636efa",
          "line": {
           "width": 2
          },
          "size": 5,
          "symbol": "circle"
         },
         "mode": "lines+markers",
         "name": "BWA1-bam",
         "orientation": "v",
         "showlegend": true,
         "type": "scatter",
         "x": [
          5,
          10,
          20,
          30,
          65
         ],
         "xaxis": "x2",
         "y": [
          66.92696008834201,
          64.4524609196832,
          51.04012690629845,
          49.463337475991416,
          49.3811320754717
         ],
         "yaxis": "y2"
        },
        {
         "hovertemplate": "Method=BWA1-bam<br>variable=PCT_GERP_not-constrained<br>Coverage=%{x}<br>value=%{y}<extra></extra>",
         "legendgroup": "BWA1-bam",
         "marker": {
          "color": "#636efa",
          "line": {
           "width": 2
          },
          "size": 5,
          "symbol": "circle"
         },
         "mode": "lines+markers",
         "name": "BWA1-bam",
         "orientation": "v",
         "showlegend": false,
         "type": "scatter",
         "x": [
          5,
          10,
          20,
          30,
          65
         ],
         "xaxis": "x",
         "y": [
          33.07303991165799,
          35.54753908031679,
          48.95987309370155,
          50.536662524008584,
          50.6188679245283
         ],
         "yaxis": "y"
        },
        {
         "hovertemplate": "Method=VG-bam<br>variable=PCT_GERP_constrained<br>Coverage=%{x}<br>value=%{y}<extra></extra>",
         "legendgroup": "VG-bam",
         "marker": {
          "color": "#EF553B",
          "line": {
           "width": 2
          },
          "size": 5,
          "symbol": "circle"
         },
         "mode": "lines+markers",
         "name": "VG-bam",
         "orientation": "v",
         "showlegend": true,
         "type": "scatter",
         "x": [
          5,
          10,
          20,
          30,
          65
         ],
         "xaxis": "x2",
         "y": [
          64.76591704740996,
          62.12827090815803,
          49.33568950847569,
          48.05484263136566,
          47.79671271553897
         ],
         "yaxis": "y2"
        },
        {
         "hovertemplate": "Method=VG-bam<br>variable=PCT_GERP_not-constrained<br>Coverage=%{x}<br>value=%{y}<extra></extra>",
         "legendgroup": "VG-bam",
         "marker": {
          "color": "#EF553B",
          "line": {
           "width": 2
          },
          "size": 5,
          "symbol": "circle"
         },
         "mode": "lines+markers",
         "name": "VG-bam",
         "orientation": "v",
         "showlegend": false,
         "type": "scatter",
         "x": [
          5,
          10,
          20,
          30,
          65
         ],
         "xaxis": "x",
         "y": [
          35.23408295259004,
          37.87172909184197,
          50.66431049152431,
          51.94515736863434,
          52.20328728446103
         ],
         "yaxis": "y"
        },
        {
         "hovertemplate": "Method=VG-gam<br>variable=PCT_GERP_constrained<br>Coverage=%{x}<br>value=%{y}<extra></extra>",
         "legendgroup": "VG-gam",
         "marker": {
          "color": "#00cc96",
          "line": {
           "width": 2
          },
          "size": 5,
          "symbol": "circle"
         },
         "mode": "lines+markers",
         "name": "VG-gam",
         "orientation": "v",
         "showlegend": true,
         "type": "scatter",
         "x": [
          65
         ],
         "xaxis": "x2",
         "y": [
          44.24740639695588
         ],
         "yaxis": "y2"
        },
        {
         "hovertemplate": "Method=VG-gam<br>variable=PCT_GERP_not-constrained<br>Coverage=%{x}<br>value=%{y}<extra></extra>",
         "legendgroup": "VG-gam",
         "marker": {
          "color": "#00cc96",
          "line": {
           "width": 2
          },
          "size": 5,
          "symbol": "circle"
         },
         "mode": "lines+markers",
         "name": "VG-gam",
         "orientation": "v",
         "showlegend": false,
         "type": "scatter",
         "x": [
          65
         ],
         "xaxis": "x",
         "y": [
          55.75259360304412
         ],
         "yaxis": "y"
        }
       ],
       "layout": {
        "annotations": [
         {
          "font": {},
          "showarrow": false,
          "text": "not-constrained",
          "textangle": 90,
          "x": 0.98,
          "xanchor": "left",
          "xref": "paper",
          "y": 0.2425,
          "yanchor": "middle",
          "yref": "paper"
         },
         {
          "font": {},
          "showarrow": false,
          "text": "constrained",
          "textangle": 90,
          "x": 0.98,
          "xanchor": "left",
          "xref": "paper",
          "y": 0.7575000000000001,
          "yanchor": "middle",
          "yref": "paper"
         }
        ],
        "height": 1000,
        "legend": {
         "title": {
          "text": "Method"
         },
         "tracegroupgap": 0
        },
        "template": {
         "data": {
          "bar": [
           {
            "error_x": {
             "color": "#2a3f5f"
            },
            "error_y": {
             "color": "#2a3f5f"
            },
            "marker": {
             "line": {
              "color": "#E5ECF6",
              "width": 0.5
             },
             "pattern": {
              "fillmode": "overlay",
              "size": 10,
              "solidity": 0.2
             }
            },
            "type": "bar"
           }
          ],
          "barpolar": [
           {
            "marker": {
             "line": {
              "color": "#E5ECF6",
              "width": 0.5
             },
             "pattern": {
              "fillmode": "overlay",
              "size": 10,
              "solidity": 0.2
             }
            },
            "type": "barpolar"
           }
          ],
          "carpet": [
           {
            "aaxis": {
             "endlinecolor": "#2a3f5f",
             "gridcolor": "white",
             "linecolor": "white",
             "minorgridcolor": "white",
             "startlinecolor": "#2a3f5f"
            },
            "baxis": {
             "endlinecolor": "#2a3f5f",
             "gridcolor": "white",
             "linecolor": "white",
             "minorgridcolor": "white",
             "startlinecolor": "#2a3f5f"
            },
            "type": "carpet"
           }
          ],
          "choropleth": [
           {
            "colorbar": {
             "outlinewidth": 0,
             "ticks": ""
            },
            "type": "choropleth"
           }
          ],
          "contour": [
           {
            "colorbar": {
             "outlinewidth": 0,
             "ticks": ""
            },
            "colorscale": [
             [
              0,
              "#0d0887"
             ],
             [
              0.1111111111111111,
              "#46039f"
             ],
             [
              0.2222222222222222,
              "#7201a8"
             ],
             [
              0.3333333333333333,
              "#9c179e"
             ],
             [
              0.4444444444444444,
              "#bd3786"
             ],
             [
              0.5555555555555556,
              "#d8576b"
             ],
             [
              0.6666666666666666,
              "#ed7953"
             ],
             [
              0.7777777777777778,
              "#fb9f3a"
             ],
             [
              0.8888888888888888,
              "#fdca26"
             ],
             [
              1,
              "#f0f921"
             ]
            ],
            "type": "contour"
           }
          ],
          "contourcarpet": [
           {
            "colorbar": {
             "outlinewidth": 0,
             "ticks": ""
            },
            "type": "contourcarpet"
           }
          ],
          "heatmap": [
           {
            "colorbar": {
             "outlinewidth": 0,
             "ticks": ""
            },
            "colorscale": [
             [
              0,
              "#0d0887"
             ],
             [
              0.1111111111111111,
              "#46039f"
             ],
             [
              0.2222222222222222,
              "#7201a8"
             ],
             [
              0.3333333333333333,
              "#9c179e"
             ],
             [
              0.4444444444444444,
              "#bd3786"
             ],
             [
              0.5555555555555556,
              "#d8576b"
             ],
             [
              0.6666666666666666,
              "#ed7953"
             ],
             [
              0.7777777777777778,
              "#fb9f3a"
             ],
             [
              0.8888888888888888,
              "#fdca26"
             ],
             [
              1,
              "#f0f921"
             ]
            ],
            "type": "heatmap"
           }
          ],
          "heatmapgl": [
           {
            "colorbar": {
             "outlinewidth": 0,
             "ticks": ""
            },
            "colorscale": [
             [
              0,
              "#0d0887"
             ],
             [
              0.1111111111111111,
              "#46039f"
             ],
             [
              0.2222222222222222,
              "#7201a8"
             ],
             [
              0.3333333333333333,
              "#9c179e"
             ],
             [
              0.4444444444444444,
              "#bd3786"
             ],
             [
              0.5555555555555556,
              "#d8576b"
             ],
             [
              0.6666666666666666,
              "#ed7953"
             ],
             [
              0.7777777777777778,
              "#fb9f3a"
             ],
             [
              0.8888888888888888,
              "#fdca26"
             ],
             [
              1,
              "#f0f921"
             ]
            ],
            "type": "heatmapgl"
           }
          ],
          "histogram": [
           {
            "marker": {
             "pattern": {
              "fillmode": "overlay",
              "size": 10,
              "solidity": 0.2
             }
            },
            "type": "histogram"
           }
          ],
          "histogram2d": [
           {
            "colorbar": {
             "outlinewidth": 0,
             "ticks": ""
            },
            "colorscale": [
             [
              0,
              "#0d0887"
             ],
             [
              0.1111111111111111,
              "#46039f"
             ],
             [
              0.2222222222222222,
              "#7201a8"
             ],
             [
              0.3333333333333333,
              "#9c179e"
             ],
             [
              0.4444444444444444,
              "#bd3786"
             ],
             [
              0.5555555555555556,
              "#d8576b"
             ],
             [
              0.6666666666666666,
              "#ed7953"
             ],
             [
              0.7777777777777778,
              "#fb9f3a"
             ],
             [
              0.8888888888888888,
              "#fdca26"
             ],
             [
              1,
              "#f0f921"
             ]
            ],
            "type": "histogram2d"
           }
          ],
          "histogram2dcontour": [
           {
            "colorbar": {
             "outlinewidth": 0,
             "ticks": ""
            },
            "colorscale": [
             [
              0,
              "#0d0887"
             ],
             [
              0.1111111111111111,
              "#46039f"
             ],
             [
              0.2222222222222222,
              "#7201a8"
             ],
             [
              0.3333333333333333,
              "#9c179e"
             ],
             [
              0.4444444444444444,
              "#bd3786"
             ],
             [
              0.5555555555555556,
              "#d8576b"
             ],
             [
              0.6666666666666666,
              "#ed7953"
             ],
             [
              0.7777777777777778,
              "#fb9f3a"
             ],
             [
              0.8888888888888888,
              "#fdca26"
             ],
             [
              1,
              "#f0f921"
             ]
            ],
            "type": "histogram2dcontour"
           }
          ],
          "mesh3d": [
           {
            "colorbar": {
             "outlinewidth": 0,
             "ticks": ""
            },
            "type": "mesh3d"
           }
          ],
          "parcoords": [
           {
            "line": {
             "colorbar": {
              "outlinewidth": 0,
              "ticks": ""
             }
            },
            "type": "parcoords"
           }
          ],
          "pie": [
           {
            "automargin": true,
            "type": "pie"
           }
          ],
          "scatter": [
           {
            "marker": {
             "colorbar": {
              "outlinewidth": 0,
              "ticks": ""
             }
            },
            "type": "scatter"
           }
          ],
          "scatter3d": [
           {
            "line": {
             "colorbar": {
              "outlinewidth": 0,
              "ticks": ""
             }
            },
            "marker": {
             "colorbar": {
              "outlinewidth": 0,
              "ticks": ""
             }
            },
            "type": "scatter3d"
           }
          ],
          "scattercarpet": [
           {
            "marker": {
             "colorbar": {
              "outlinewidth": 0,
              "ticks": ""
             }
            },
            "type": "scattercarpet"
           }
          ],
          "scattergeo": [
           {
            "marker": {
             "colorbar": {
              "outlinewidth": 0,
              "ticks": ""
             }
            },
            "type": "scattergeo"
           }
          ],
          "scattergl": [
           {
            "marker": {
             "colorbar": {
              "outlinewidth": 0,
              "ticks": ""
             }
            },
            "type": "scattergl"
           }
          ],
          "scattermapbox": [
           {
            "marker": {
             "colorbar": {
              "outlinewidth": 0,
              "ticks": ""
             }
            },
            "type": "scattermapbox"
           }
          ],
          "scatterpolar": [
           {
            "marker": {
             "colorbar": {
              "outlinewidth": 0,
              "ticks": ""
             }
            },
            "type": "scatterpolar"
           }
          ],
          "scatterpolargl": [
           {
            "marker": {
             "colorbar": {
              "outlinewidth": 0,
              "ticks": ""
             }
            },
            "type": "scatterpolargl"
           }
          ],
          "scatterternary": [
           {
            "marker": {
             "colorbar": {
              "outlinewidth": 0,
              "ticks": ""
             }
            },
            "type": "scatterternary"
           }
          ],
          "surface": [
           {
            "colorbar": {
             "outlinewidth": 0,
             "ticks": ""
            },
            "colorscale": [
             [
              0,
              "#0d0887"
             ],
             [
              0.1111111111111111,
              "#46039f"
             ],
             [
              0.2222222222222222,
              "#7201a8"
             ],
             [
              0.3333333333333333,
              "#9c179e"
             ],
             [
              0.4444444444444444,
              "#bd3786"
             ],
             [
              0.5555555555555556,
              "#d8576b"
             ],
             [
              0.6666666666666666,
              "#ed7953"
             ],
             [
              0.7777777777777778,
              "#fb9f3a"
             ],
             [
              0.8888888888888888,
              "#fdca26"
             ],
             [
              1,
              "#f0f921"
             ]
            ],
            "type": "surface"
           }
          ],
          "table": [
           {
            "cells": {
             "fill": {
              "color": "#EBF0F8"
             },
             "line": {
              "color": "white"
             }
            },
            "header": {
             "fill": {
              "color": "#C8D4E3"
             },
             "line": {
              "color": "white"
             }
            },
            "type": "table"
           }
          ]
         },
         "layout": {
          "annotationdefaults": {
           "arrowcolor": "#2a3f5f",
           "arrowhead": 0,
           "arrowwidth": 1
          },
          "autotypenumbers": "strict",
          "coloraxis": {
           "colorbar": {
            "outlinewidth": 0,
            "ticks": ""
           }
          },
          "colorscale": {
           "diverging": [
            [
             0,
             "#8e0152"
            ],
            [
             0.1,
             "#c51b7d"
            ],
            [
             0.2,
             "#de77ae"
            ],
            [
             0.3,
             "#f1b6da"
            ],
            [
             0.4,
             "#fde0ef"
            ],
            [
             0.5,
             "#f7f7f7"
            ],
            [
             0.6,
             "#e6f5d0"
            ],
            [
             0.7,
             "#b8e186"
            ],
            [
             0.8,
             "#7fbc41"
            ],
            [
             0.9,
             "#4d9221"
            ],
            [
             1,
             "#276419"
            ]
           ],
           "sequential": [
            [
             0,
             "#0d0887"
            ],
            [
             0.1111111111111111,
             "#46039f"
            ],
            [
             0.2222222222222222,
             "#7201a8"
            ],
            [
             0.3333333333333333,
             "#9c179e"
            ],
            [
             0.4444444444444444,
             "#bd3786"
            ],
            [
             0.5555555555555556,
             "#d8576b"
            ],
            [
             0.6666666666666666,
             "#ed7953"
            ],
            [
             0.7777777777777778,
             "#fb9f3a"
            ],
            [
             0.8888888888888888,
             "#fdca26"
            ],
            [
             1,
             "#f0f921"
            ]
           ],
           "sequentialminus": [
            [
             0,
             "#0d0887"
            ],
            [
             0.1111111111111111,
             "#46039f"
            ],
            [
             0.2222222222222222,
             "#7201a8"
            ],
            [
             0.3333333333333333,
             "#9c179e"
            ],
            [
             0.4444444444444444,
             "#bd3786"
            ],
            [
             0.5555555555555556,
             "#d8576b"
            ],
            [
             0.6666666666666666,
             "#ed7953"
            ],
            [
             0.7777777777777778,
             "#fb9f3a"
            ],
            [
             0.8888888888888888,
             "#fdca26"
            ],
            [
             1,
             "#f0f921"
            ]
           ]
          },
          "colorway": [
           "#636efa",
           "#EF553B",
           "#00cc96",
           "#ab63fa",
           "#FFA15A",
           "#19d3f3",
           "#FF6692",
           "#B6E880",
           "#FF97FF",
           "#FECB52"
          ],
          "font": {
           "color": "#2a3f5f"
          },
          "geo": {
           "bgcolor": "white",
           "lakecolor": "white",
           "landcolor": "#E5ECF6",
           "showlakes": true,
           "showland": true,
           "subunitcolor": "white"
          },
          "hoverlabel": {
           "align": "left"
          },
          "hovermode": "closest",
          "mapbox": {
           "style": "light"
          },
          "paper_bgcolor": "white",
          "plot_bgcolor": "#E5ECF6",
          "polar": {
           "angularaxis": {
            "gridcolor": "white",
            "linecolor": "white",
            "ticks": ""
           },
           "bgcolor": "#E5ECF6",
           "radialaxis": {
            "gridcolor": "white",
            "linecolor": "white",
            "ticks": ""
           }
          },
          "scene": {
           "xaxis": {
            "backgroundcolor": "#E5ECF6",
            "gridcolor": "white",
            "gridwidth": 2,
            "linecolor": "white",
            "showbackground": true,
            "ticks": "",
            "zerolinecolor": "white"
           },
           "yaxis": {
            "backgroundcolor": "#E5ECF6",
            "gridcolor": "white",
            "gridwidth": 2,
            "linecolor": "white",
            "showbackground": true,
            "ticks": "",
            "zerolinecolor": "white"
           },
           "zaxis": {
            "backgroundcolor": "#E5ECF6",
            "gridcolor": "white",
            "gridwidth": 2,
            "linecolor": "white",
            "showbackground": true,
            "ticks": "",
            "zerolinecolor": "white"
           }
          },
          "shapedefaults": {
           "line": {
            "color": "#2a3f5f"
           }
          },
          "ternary": {
           "aaxis": {
            "gridcolor": "white",
            "linecolor": "white",
            "ticks": ""
           },
           "baxis": {
            "gridcolor": "white",
            "linecolor": "white",
            "ticks": ""
           },
           "bgcolor": "#E5ECF6",
           "caxis": {
            "gridcolor": "white",
            "linecolor": "white",
            "ticks": ""
           }
          },
          "title": {
           "x": 0.05
          },
          "xaxis": {
           "automargin": true,
           "gridcolor": "white",
           "linecolor": "white",
           "ticks": "",
           "title": {
            "standoff": 15
           },
           "zerolinecolor": "white",
           "zerolinewidth": 2
          },
          "yaxis": {
           "automargin": true,
           "gridcolor": "white",
           "linecolor": "white",
           "ticks": "",
           "title": {
            "standoff": 15
           },
           "zerolinecolor": "white",
           "zerolinewidth": 2
          }
         }
        },
        "title": {
         "text": "GERP through COVERAGE"
        },
        "width": 1000,
        "xaxis": {
         "anchor": "y",
         "domain": [
          0,
          0.98
         ],
         "title": {
          "text": "Coverage"
         }
        },
        "xaxis2": {
         "anchor": "y2",
         "domain": [
          0,
          0.98
         ],
         "matches": "x",
         "showticklabels": false
        },
        "yaxis": {
         "anchor": "x",
         "domain": [
          0,
          0.485
         ],
         "title": {
          "text": "value"
         }
        },
        "yaxis2": {
         "anchor": "x2",
         "domain": [
          0.515,
          1
         ],
         "title": {
          "text": "value"
         }
        }
       }
      },
      "text/html": [
       "<div>                            <div id=\"bce2f27a-07e6-43a5-a1b9-b4984d515915\" class=\"plotly-graph-div\" style=\"height:1000px; width:1000px;\"></div>            <script type=\"text/javascript\">                require([\"plotly\"], function(Plotly) {                    window.PLOTLYENV=window.PLOTLYENV || {};                                    if (document.getElementById(\"bce2f27a-07e6-43a5-a1b9-b4984d515915\")) {                    Plotly.newPlot(                        \"bce2f27a-07e6-43a5-a1b9-b4984d515915\",                        [{\"hovertemplate\":\"Method=BWA1-bam<br>variable=PCT_GERP_constrained<br>Coverage=%{x}<br>value=%{y}<extra></extra>\",\"legendgroup\":\"BWA1-bam\",\"marker\":{\"color\":\"#636efa\",\"line\":{\"width\":2},\"size\":5,\"symbol\":\"circle\"},\"mode\":\"lines+markers\",\"name\":\"BWA1-bam\",\"orientation\":\"v\",\"showlegend\":true,\"type\":\"scatter\",\"x\":[5,10,20,30,65],\"xaxis\":\"x2\",\"y\":[66.92696008834201,64.4524609196832,51.04012690629845,49.463337475991416,49.3811320754717],\"yaxis\":\"y2\"},{\"hovertemplate\":\"Method=BWA1-bam<br>variable=PCT_GERP_not-constrained<br>Coverage=%{x}<br>value=%{y}<extra></extra>\",\"legendgroup\":\"BWA1-bam\",\"marker\":{\"color\":\"#636efa\",\"line\":{\"width\":2},\"size\":5,\"symbol\":\"circle\"},\"mode\":\"lines+markers\",\"name\":\"BWA1-bam\",\"orientation\":\"v\",\"showlegend\":false,\"type\":\"scatter\",\"x\":[5,10,20,30,65],\"xaxis\":\"x\",\"y\":[33.07303991165799,35.54753908031679,48.95987309370155,50.536662524008584,50.6188679245283],\"yaxis\":\"y\"},{\"hovertemplate\":\"Method=VG-bam<br>variable=PCT_GERP_constrained<br>Coverage=%{x}<br>value=%{y}<extra></extra>\",\"legendgroup\":\"VG-bam\",\"marker\":{\"color\":\"#EF553B\",\"line\":{\"width\":2},\"size\":5,\"symbol\":\"circle\"},\"mode\":\"lines+markers\",\"name\":\"VG-bam\",\"orientation\":\"v\",\"showlegend\":true,\"type\":\"scatter\",\"x\":[5,10,20,30,65],\"xaxis\":\"x2\",\"y\":[64.76591704740996,62.12827090815803,49.33568950847569,48.05484263136566,47.79671271553897],\"yaxis\":\"y2\"},{\"hovertemplate\":\"Method=VG-bam<br>variable=PCT_GERP_not-constrained<br>Coverage=%{x}<br>value=%{y}<extra></extra>\",\"legendgroup\":\"VG-bam\",\"marker\":{\"color\":\"#EF553B\",\"line\":{\"width\":2},\"size\":5,\"symbol\":\"circle\"},\"mode\":\"lines+markers\",\"name\":\"VG-bam\",\"orientation\":\"v\",\"showlegend\":false,\"type\":\"scatter\",\"x\":[5,10,20,30,65],\"xaxis\":\"x\",\"y\":[35.23408295259004,37.87172909184197,50.66431049152431,51.94515736863434,52.20328728446103],\"yaxis\":\"y\"},{\"hovertemplate\":\"Method=VG-gam<br>variable=PCT_GERP_constrained<br>Coverage=%{x}<br>value=%{y}<extra></extra>\",\"legendgroup\":\"VG-gam\",\"marker\":{\"color\":\"#00cc96\",\"line\":{\"width\":2},\"size\":5,\"symbol\":\"circle\"},\"mode\":\"lines+markers\",\"name\":\"VG-gam\",\"orientation\":\"v\",\"showlegend\":true,\"type\":\"scatter\",\"x\":[65],\"xaxis\":\"x2\",\"y\":[44.24740639695588],\"yaxis\":\"y2\"},{\"hovertemplate\":\"Method=VG-gam<br>variable=PCT_GERP_not-constrained<br>Coverage=%{x}<br>value=%{y}<extra></extra>\",\"legendgroup\":\"VG-gam\",\"marker\":{\"color\":\"#00cc96\",\"line\":{\"width\":2},\"size\":5,\"symbol\":\"circle\"},\"mode\":\"lines+markers\",\"name\":\"VG-gam\",\"orientation\":\"v\",\"showlegend\":false,\"type\":\"scatter\",\"x\":[65],\"xaxis\":\"x\",\"y\":[55.75259360304412],\"yaxis\":\"y\"}],                        {\"annotations\":[{\"font\":{},\"showarrow\":false,\"text\":\"not-constrained\",\"textangle\":90,\"x\":0.98,\"xanchor\":\"left\",\"xref\":\"paper\",\"y\":0.2425,\"yanchor\":\"middle\",\"yref\":\"paper\"},{\"font\":{},\"showarrow\":false,\"text\":\"constrained\",\"textangle\":90,\"x\":0.98,\"xanchor\":\"left\",\"xref\":\"paper\",\"y\":0.7575000000000001,\"yanchor\":\"middle\",\"yref\":\"paper\"}],\"height\":1000,\"legend\":{\"title\":{\"text\":\"Method\"},\"tracegroupgap\":0},\"template\":{\"data\":{\"bar\":[{\"error_x\":{\"color\":\"#2a3f5f\"},\"error_y\":{\"color\":\"#2a3f5f\"},\"marker\":{\"line\":{\"color\":\"#E5ECF6\",\"width\":0.5},\"pattern\":{\"fillmode\":\"overlay\",\"size\":10,\"solidity\":0.2}},\"type\":\"bar\"}],\"barpolar\":[{\"marker\":{\"line\":{\"color\":\"#E5ECF6\",\"width\":0.5},\"pattern\":{\"fillmode\":\"overlay\",\"size\":10,\"solidity\":0.2}},\"type\":\"barpolar\"}],\"carpet\":[{\"aaxis\":{\"endlinecolor\":\"#2a3f5f\",\"gridcolor\":\"white\",\"linecolor\":\"white\",\"minorgridcolor\":\"white\",\"startlinecolor\":\"#2a3f5f\"},\"baxis\":{\"endlinecolor\":\"#2a3f5f\",\"gridcolor\":\"white\",\"linecolor\":\"white\",\"minorgridcolor\":\"white\",\"startlinecolor\":\"#2a3f5f\"},\"type\":\"carpet\"}],\"choropleth\":[{\"colorbar\":{\"outlinewidth\":0,\"ticks\":\"\"},\"type\":\"choropleth\"}],\"contour\":[{\"colorbar\":{\"outlinewidth\":0,\"ticks\":\"\"},\"colorscale\":[[0.0,\"#0d0887\"],[0.1111111111111111,\"#46039f\"],[0.2222222222222222,\"#7201a8\"],[0.3333333333333333,\"#9c179e\"],[0.4444444444444444,\"#bd3786\"],[0.5555555555555556,\"#d8576b\"],[0.6666666666666666,\"#ed7953\"],[0.7777777777777778,\"#fb9f3a\"],[0.8888888888888888,\"#fdca26\"],[1.0,\"#f0f921\"]],\"type\":\"contour\"}],\"contourcarpet\":[{\"colorbar\":{\"outlinewidth\":0,\"ticks\":\"\"},\"type\":\"contourcarpet\"}],\"heatmap\":[{\"colorbar\":{\"outlinewidth\":0,\"ticks\":\"\"},\"colorscale\":[[0.0,\"#0d0887\"],[0.1111111111111111,\"#46039f\"],[0.2222222222222222,\"#7201a8\"],[0.3333333333333333,\"#9c179e\"],[0.4444444444444444,\"#bd3786\"],[0.5555555555555556,\"#d8576b\"],[0.6666666666666666,\"#ed7953\"],[0.7777777777777778,\"#fb9f3a\"],[0.8888888888888888,\"#fdca26\"],[1.0,\"#f0f921\"]],\"type\":\"heatmap\"}],\"heatmapgl\":[{\"colorbar\":{\"outlinewidth\":0,\"ticks\":\"\"},\"colorscale\":[[0.0,\"#0d0887\"],[0.1111111111111111,\"#46039f\"],[0.2222222222222222,\"#7201a8\"],[0.3333333333333333,\"#9c179e\"],[0.4444444444444444,\"#bd3786\"],[0.5555555555555556,\"#d8576b\"],[0.6666666666666666,\"#ed7953\"],[0.7777777777777778,\"#fb9f3a\"],[0.8888888888888888,\"#fdca26\"],[1.0,\"#f0f921\"]],\"type\":\"heatmapgl\"}],\"histogram\":[{\"marker\":{\"pattern\":{\"fillmode\":\"overlay\",\"size\":10,\"solidity\":0.2}},\"type\":\"histogram\"}],\"histogram2d\":[{\"colorbar\":{\"outlinewidth\":0,\"ticks\":\"\"},\"colorscale\":[[0.0,\"#0d0887\"],[0.1111111111111111,\"#46039f\"],[0.2222222222222222,\"#7201a8\"],[0.3333333333333333,\"#9c179e\"],[0.4444444444444444,\"#bd3786\"],[0.5555555555555556,\"#d8576b\"],[0.6666666666666666,\"#ed7953\"],[0.7777777777777778,\"#fb9f3a\"],[0.8888888888888888,\"#fdca26\"],[1.0,\"#f0f921\"]],\"type\":\"histogram2d\"}],\"histogram2dcontour\":[{\"colorbar\":{\"outlinewidth\":0,\"ticks\":\"\"},\"colorscale\":[[0.0,\"#0d0887\"],[0.1111111111111111,\"#46039f\"],[0.2222222222222222,\"#7201a8\"],[0.3333333333333333,\"#9c179e\"],[0.4444444444444444,\"#bd3786\"],[0.5555555555555556,\"#d8576b\"],[0.6666666666666666,\"#ed7953\"],[0.7777777777777778,\"#fb9f3a\"],[0.8888888888888888,\"#fdca26\"],[1.0,\"#f0f921\"]],\"type\":\"histogram2dcontour\"}],\"mesh3d\":[{\"colorbar\":{\"outlinewidth\":0,\"ticks\":\"\"},\"type\":\"mesh3d\"}],\"parcoords\":[{\"line\":{\"colorbar\":{\"outlinewidth\":0,\"ticks\":\"\"}},\"type\":\"parcoords\"}],\"pie\":[{\"automargin\":true,\"type\":\"pie\"}],\"scatter\":[{\"marker\":{\"colorbar\":{\"outlinewidth\":0,\"ticks\":\"\"}},\"type\":\"scatter\"}],\"scatter3d\":[{\"line\":{\"colorbar\":{\"outlinewidth\":0,\"ticks\":\"\"}},\"marker\":{\"colorbar\":{\"outlinewidth\":0,\"ticks\":\"\"}},\"type\":\"scatter3d\"}],\"scattercarpet\":[{\"marker\":{\"colorbar\":{\"outlinewidth\":0,\"ticks\":\"\"}},\"type\":\"scattercarpet\"}],\"scattergeo\":[{\"marker\":{\"colorbar\":{\"outlinewidth\":0,\"ticks\":\"\"}},\"type\":\"scattergeo\"}],\"scattergl\":[{\"marker\":{\"colorbar\":{\"outlinewidth\":0,\"ticks\":\"\"}},\"type\":\"scattergl\"}],\"scattermapbox\":[{\"marker\":{\"colorbar\":{\"outlinewidth\":0,\"ticks\":\"\"}},\"type\":\"scattermapbox\"}],\"scatterpolar\":[{\"marker\":{\"colorbar\":{\"outlinewidth\":0,\"ticks\":\"\"}},\"type\":\"scatterpolar\"}],\"scatterpolargl\":[{\"marker\":{\"colorbar\":{\"outlinewidth\":0,\"ticks\":\"\"}},\"type\":\"scatterpolargl\"}],\"scatterternary\":[{\"marker\":{\"colorbar\":{\"outlinewidth\":0,\"ticks\":\"\"}},\"type\":\"scatterternary\"}],\"surface\":[{\"colorbar\":{\"outlinewidth\":0,\"ticks\":\"\"},\"colorscale\":[[0.0,\"#0d0887\"],[0.1111111111111111,\"#46039f\"],[0.2222222222222222,\"#7201a8\"],[0.3333333333333333,\"#9c179e\"],[0.4444444444444444,\"#bd3786\"],[0.5555555555555556,\"#d8576b\"],[0.6666666666666666,\"#ed7953\"],[0.7777777777777778,\"#fb9f3a\"],[0.8888888888888888,\"#fdca26\"],[1.0,\"#f0f921\"]],\"type\":\"surface\"}],\"table\":[{\"cells\":{\"fill\":{\"color\":\"#EBF0F8\"},\"line\":{\"color\":\"white\"}},\"header\":{\"fill\":{\"color\":\"#C8D4E3\"},\"line\":{\"color\":\"white\"}},\"type\":\"table\"}]},\"layout\":{\"annotationdefaults\":{\"arrowcolor\":\"#2a3f5f\",\"arrowhead\":0,\"arrowwidth\":1},\"autotypenumbers\":\"strict\",\"coloraxis\":{\"colorbar\":{\"outlinewidth\":0,\"ticks\":\"\"}},\"colorscale\":{\"diverging\":[[0,\"#8e0152\"],[0.1,\"#c51b7d\"],[0.2,\"#de77ae\"],[0.3,\"#f1b6da\"],[0.4,\"#fde0ef\"],[0.5,\"#f7f7f7\"],[0.6,\"#e6f5d0\"],[0.7,\"#b8e186\"],[0.8,\"#7fbc41\"],[0.9,\"#4d9221\"],[1,\"#276419\"]],\"sequential\":[[0.0,\"#0d0887\"],[0.1111111111111111,\"#46039f\"],[0.2222222222222222,\"#7201a8\"],[0.3333333333333333,\"#9c179e\"],[0.4444444444444444,\"#bd3786\"],[0.5555555555555556,\"#d8576b\"],[0.6666666666666666,\"#ed7953\"],[0.7777777777777778,\"#fb9f3a\"],[0.8888888888888888,\"#fdca26\"],[1.0,\"#f0f921\"]],\"sequentialminus\":[[0.0,\"#0d0887\"],[0.1111111111111111,\"#46039f\"],[0.2222222222222222,\"#7201a8\"],[0.3333333333333333,\"#9c179e\"],[0.4444444444444444,\"#bd3786\"],[0.5555555555555556,\"#d8576b\"],[0.6666666666666666,\"#ed7953\"],[0.7777777777777778,\"#fb9f3a\"],[0.8888888888888888,\"#fdca26\"],[1.0,\"#f0f921\"]]},\"colorway\":[\"#636efa\",\"#EF553B\",\"#00cc96\",\"#ab63fa\",\"#FFA15A\",\"#19d3f3\",\"#FF6692\",\"#B6E880\",\"#FF97FF\",\"#FECB52\"],\"font\":{\"color\":\"#2a3f5f\"},\"geo\":{\"bgcolor\":\"white\",\"lakecolor\":\"white\",\"landcolor\":\"#E5ECF6\",\"showlakes\":true,\"showland\":true,\"subunitcolor\":\"white\"},\"hoverlabel\":{\"align\":\"left\"},\"hovermode\":\"closest\",\"mapbox\":{\"style\":\"light\"},\"paper_bgcolor\":\"white\",\"plot_bgcolor\":\"#E5ECF6\",\"polar\":{\"angularaxis\":{\"gridcolor\":\"white\",\"linecolor\":\"white\",\"ticks\":\"\"},\"bgcolor\":\"#E5ECF6\",\"radialaxis\":{\"gridcolor\":\"white\",\"linecolor\":\"white\",\"ticks\":\"\"}},\"scene\":{\"xaxis\":{\"backgroundcolor\":\"#E5ECF6\",\"gridcolor\":\"white\",\"gridwidth\":2,\"linecolor\":\"white\",\"showbackground\":true,\"ticks\":\"\",\"zerolinecolor\":\"white\"},\"yaxis\":{\"backgroundcolor\":\"#E5ECF6\",\"gridcolor\":\"white\",\"gridwidth\":2,\"linecolor\":\"white\",\"showbackground\":true,\"ticks\":\"\",\"zerolinecolor\":\"white\"},\"zaxis\":{\"backgroundcolor\":\"#E5ECF6\",\"gridcolor\":\"white\",\"gridwidth\":2,\"linecolor\":\"white\",\"showbackground\":true,\"ticks\":\"\",\"zerolinecolor\":\"white\"}},\"shapedefaults\":{\"line\":{\"color\":\"#2a3f5f\"}},\"ternary\":{\"aaxis\":{\"gridcolor\":\"white\",\"linecolor\":\"white\",\"ticks\":\"\"},\"baxis\":{\"gridcolor\":\"white\",\"linecolor\":\"white\",\"ticks\":\"\"},\"bgcolor\":\"#E5ECF6\",\"caxis\":{\"gridcolor\":\"white\",\"linecolor\":\"white\",\"ticks\":\"\"}},\"title\":{\"x\":0.05},\"xaxis\":{\"automargin\":true,\"gridcolor\":\"white\",\"linecolor\":\"white\",\"ticks\":\"\",\"title\":{\"standoff\":15},\"zerolinecolor\":\"white\",\"zerolinewidth\":2},\"yaxis\":{\"automargin\":true,\"gridcolor\":\"white\",\"linecolor\":\"white\",\"ticks\":\"\",\"title\":{\"standoff\":15},\"zerolinecolor\":\"white\",\"zerolinewidth\":2}}},\"title\":{\"text\":\"GERP through COVERAGE\"},\"width\":1000,\"xaxis\":{\"anchor\":\"y\",\"domain\":[0.0,0.98],\"title\":{\"text\":\"Coverage\"}},\"xaxis2\":{\"anchor\":\"y2\",\"domain\":[0.0,0.98],\"matches\":\"x\",\"showticklabels\":false},\"yaxis\":{\"anchor\":\"x\",\"domain\":[0.0,0.485],\"title\":{\"text\":\"value\"}},\"yaxis2\":{\"anchor\":\"x2\",\"domain\":[0.515,1.0],\"title\":{\"text\":\"value\"}}},                        {\"responsive\": true}                    ).then(function(){\n",
       "                            \n",
       "var gd = document.getElementById('bce2f27a-07e6-43a5-a1b9-b4984d515915');\n",
       "var x = new MutationObserver(function (mutations, observer) {{\n",
       "        var display = window.getComputedStyle(gd).display;\n",
       "        if (!display || display === 'none') {{\n",
       "            console.log([gd, 'removed!']);\n",
       "            Plotly.purge(gd);\n",
       "            observer.disconnect();\n",
       "        }}\n",
       "}});\n",
       "\n",
       "// Listen for the removal of the full notebook cells\n",
       "var notebookContainer = gd.closest('#notebook-container');\n",
       "if (notebookContainer) {{\n",
       "    x.observe(notebookContainer, {childList: true});\n",
       "}}\n",
       "\n",
       "// Listen for the clearing of the current output cell\n",
       "var outputEl = gd.closest('.output');\n",
       "if (outputEl) {{\n",
       "    x.observe(outputEl, {childList: true});\n",
       "}}\n",
       "\n",
       "                        })                };                });            </script>        </div>"
      ]
     },
     "metadata": {},
     "output_type": "display_data"
    }
   ],
   "source": [
    "fig = px.scatter(df_cov, y=\"value\", x=\"Coverage\", color = \"Method\",facet_row=\"variable\",\n",
    "                 width=1000, height=1000, title=\"GERP through COVERAGE\")\n",
    "\n",
    "fig.for_each_annotation(lambda a: a.update(text=a.text.split(\"=\")[-1].split(\"_\")[-1]))\n",
    "fig.update_yaxes(matches=None)\n",
    "fig.update_traces(mode='lines+markers', marker_line_width=2, marker_size=5)\n",
    "fig.show()"
   ]
  },
  {
   "cell_type": "markdown",
   "id": "50dd36d8",
   "metadata": {},
   "source": [
    "# Insight on CADD"
   ]
  },
  {
   "cell_type": "code",
   "execution_count": 288,
   "id": "5b869714",
   "metadata": {},
   "outputs": [],
   "source": [
    "df_age = dfsort_age.melt(id_vars=['Sample','Method'], value_vars=['PCT_CADD_deletarious','PCT_CADD_not-deletarious'])\n",
    "df_cov = dfsort_cov.melt(id_vars=['Sample','Method','Coverage'], value_vars=['PCT_CADD_deletarious','PCT_CADD_not-deletarious'])"
   ]
  },
  {
   "cell_type": "code",
   "execution_count": 289,
   "id": "f9820c76",
   "metadata": {},
   "outputs": [
    {
     "data": {
      "application/vnd.plotly.v1+json": {
       "config": {
        "plotlyServerURL": "https://plot.ly"
       },
       "data": [
        {
         "hovertemplate": "Method=BWA1-bam<br>variable=PCT_CADD_deletarious<br>Sample=%{x}<br>value=%{y}<extra></extra>",
         "legendgroup": "BWA1-bam",
         "marker": {
          "color": "#636efa",
          "line": {
           "width": 2
          },
          "size": 5,
          "symbol": "circle"
         },
         "mode": "lines+markers",
         "name": "BWA1-bam",
         "orientation": "v",
         "showlegend": true,
         "type": "scatter",
         "x": [
          "SZ43",
          "SZ45",
          "SZ4",
          "SZ15",
          "BR2",
          "ATP016",
          "NG10",
          "PB675",
          "BOT2016",
          "JP14",
          "NE1",
          "Stutgart",
          "Loschbour",
          "SF12",
          "KK1",
          "Sunghir3",
          "UstIshim"
         ],
         "xaxis": "x2",
         "y": [
          6.91993596316083,
          7.6502732240437155,
          8.852203071081975,
          5.6786510590858414,
          3.7107326574439394,
          9.577077226775138,
          3.1162443185355833,
          5.201904426027156,
          5.774885816179691,
          5.499183175720761,
          5.222896333421261,
          4.0939334637964775,
          2.6084751671896296,
          0.7982393972173524,
          8.955806738550322,
          4.349618068912458,
          1.0379031728305852
         ],
         "yaxis": "y2"
        },
        {
         "hovertemplate": "Method=BWA1-bam<br>variable=PCT_CADD_not-deletarious<br>Sample=%{x}<br>value=%{y}<extra></extra>",
         "legendgroup": "BWA1-bam",
         "marker": {
          "color": "#636efa",
          "line": {
           "width": 2
          },
          "size": 5,
          "symbol": "circle"
         },
         "mode": "lines+markers",
         "name": "BWA1-bam",
         "orientation": "v",
         "showlegend": false,
         "type": "scatter",
         "x": [
          "SZ43",
          "SZ45",
          "SZ4",
          "SZ15",
          "BR2",
          "ATP016",
          "NG10",
          "PB675",
          "BOT2016",
          "JP14",
          "NE1",
          "Stutgart",
          "Loschbour",
          "SF12",
          "KK1",
          "Sunghir3",
          "UstIshim"
         ],
         "xaxis": "x",
         "y": [
          93.08006403683918,
          92.34972677595628,
          91.14779692891803,
          94.32134894091416,
          96.28926734255606,
          90.42292277322485,
          96.88375568146442,
          94.79809557397284,
          94.22511418382031,
          94.50081682427924,
          94.77710366657874,
          95.90606653620353,
          97.39152483281038,
          99.20176060278264,
          91.04419326144968,
          95.65038193108754,
          98.96209682716942
         ],
         "yaxis": "y"
        },
        {
         "hovertemplate": "Method=VG-gam<br>variable=PCT_CADD_deletarious<br>Sample=%{x}<br>value=%{y}<extra></extra>",
         "legendgroup": "VG-gam",
         "marker": {
          "color": "#EF553B",
          "line": {
           "width": 2
          },
          "size": 5,
          "symbol": "circle"
         },
         "mode": "lines+markers",
         "name": "VG-gam",
         "orientation": "v",
         "showlegend": true,
         "type": "scatter",
         "x": [
          "SZ43",
          "SZ45",
          "SZ4",
          "SZ15",
          "BR2",
          "ATP016",
          "NG10",
          "PB675",
          "BOT2016",
          "JP14",
          "NE1",
          "Stutgart",
          "Loschbour",
          "SF12",
          "KK1",
          "Sunghir3",
          "UstIshim"
         ],
         "xaxis": "x2",
         "y": [
          0.7947771785410161,
          0.8349856181406908,
          0.9817893903404592,
          0.7248547295273468,
          0.8767158352798131,
          1.1521843494959194,
          0.7228755121756221,
          0.8366141732283464,
          0.758861387723736,
          0.7224989239377728,
          0.6885188018595892,
          0.7327573046743809,
          0.5857684883179125,
          0.6309148264984227,
          1.0477456569252608,
          0.778587286201182,
          0.4974813053408842
         ],
         "yaxis": "y2"
        },
        {
         "hovertemplate": "Method=VG-gam<br>variable=PCT_CADD_not-deletarious<br>Sample=%{x}<br>value=%{y}<extra></extra>",
         "legendgroup": "VG-gam",
         "marker": {
          "color": "#EF553B",
          "line": {
           "width": 2
          },
          "size": 5,
          "symbol": "circle"
         },
         "mode": "lines+markers",
         "name": "VG-gam",
         "orientation": "v",
         "showlegend": false,
         "type": "scatter",
         "x": [
          "SZ43",
          "SZ45",
          "SZ4",
          "SZ15",
          "BR2",
          "ATP016",
          "NG10",
          "PB675",
          "BOT2016",
          "JP14",
          "NE1",
          "Stutgart",
          "Loschbour",
          "SF12",
          "KK1",
          "Sunghir3",
          "UstIshim"
         ],
         "xaxis": "x",
         "y": [
          99.20522282145899,
          99.16501438185931,
          99.01821060965955,
          99.27514527047265,
          99.12328416472019,
          98.84781565050407,
          99.27712448782438,
          99.16338582677166,
          99.24113861227626,
          99.27750107606222,
          99.31148119814041,
          99.26724269532562,
          99.41423151168209,
          99.36908517350157,
          98.95225434307474,
          99.22141271379881,
          99.50251869465912
         ],
         "yaxis": "y"
        },
        {
         "hovertemplate": "Method=VG-bam<br>variable=PCT_CADD_deletarious<br>Sample=%{x}<br>value=%{y}<extra></extra>",
         "legendgroup": "VG-bam",
         "marker": {
          "color": "#00cc96",
          "line": {
           "width": 2
          },
          "size": 5,
          "symbol": "circle"
         },
         "mode": "lines+markers",
         "name": "VG-bam",
         "orientation": "v",
         "showlegend": true,
         "type": "scatter",
         "x": [
          "SZ43",
          "SZ45",
          "SZ4",
          "SZ15",
          "BR2",
          "ATP016",
          "NG10",
          "PB675",
          "BOT2016",
          "JP14",
          "NE1",
          "Stutgart",
          "Loschbour",
          "SF12",
          "KK1",
          "Sunghir3",
          "UstIshim"
         ],
         "xaxis": "x2",
         "y": [
          4.903956239664165,
          5.388613070870714,
          6.1305259825068275,
          3.3309666601205494,
          3.360424372201674,
          9.133208574345016,
          4.1662349622978185,
          3.8936841099468102,
          5.429145941369457,
          4.670387310645798,
          4.806968272381301,
          4.1164512850297665,
          2.6945674510144424,
          1.3595706618962433,
          6.497177264765799,
          4.3581573689042505,
          1.0904758995662533
         ],
         "yaxis": "y2"
        },
        {
         "hovertemplate": "Method=VG-bam<br>variable=PCT_CADD_not-deletarious<br>Sample=%{x}<br>value=%{y}<extra></extra>",
         "legendgroup": "VG-bam",
         "marker": {
          "color": "#00cc96",
          "line": {
           "width": 2
          },
          "size": 5,
          "symbol": "circle"
         },
         "mode": "lines+markers",
         "name": "VG-bam",
         "orientation": "v",
         "showlegend": false,
         "type": "scatter",
         "x": [
          "SZ43",
          "SZ45",
          "SZ4",
          "SZ15",
          "BR2",
          "ATP016",
          "NG10",
          "PB675",
          "BOT2016",
          "JP14",
          "NE1",
          "Stutgart",
          "Loschbour",
          "SF12",
          "KK1",
          "Sunghir3",
          "UstIshim"
         ],
         "xaxis": "x",
         "y": [
          95.09604376033583,
          94.61138692912928,
          93.86947401749318,
          96.66903333987945,
          96.63957562779832,
          90.86679142565498,
          95.83376503770218,
          96.1063158900532,
          94.57085405863054,
          95.3296126893542,
          95.1930317276187,
          95.88354871497023,
          97.30543254898556,
          98.64042933810376,
          93.5028227352342,
          95.64184263109576,
          98.90952410043374
         ],
         "yaxis": "y"
        }
       ],
       "layout": {
        "annotations": [
         {
          "font": {},
          "showarrow": false,
          "text": "not-deletarious",
          "textangle": 90,
          "x": 0.98,
          "xanchor": "left",
          "xref": "paper",
          "y": 0.2425,
          "yanchor": "middle",
          "yref": "paper"
         },
         {
          "font": {},
          "showarrow": false,
          "text": "deletarious",
          "textangle": 90,
          "x": 0.98,
          "xanchor": "left",
          "xref": "paper",
          "y": 0.7575000000000001,
          "yanchor": "middle",
          "yref": "paper"
         }
        ],
        "height": 1000,
        "legend": {
         "title": {
          "text": "Method"
         },
         "tracegroupgap": 0
        },
        "template": {
         "data": {
          "bar": [
           {
            "error_x": {
             "color": "#2a3f5f"
            },
            "error_y": {
             "color": "#2a3f5f"
            },
            "marker": {
             "line": {
              "color": "#E5ECF6",
              "width": 0.5
             },
             "pattern": {
              "fillmode": "overlay",
              "size": 10,
              "solidity": 0.2
             }
            },
            "type": "bar"
           }
          ],
          "barpolar": [
           {
            "marker": {
             "line": {
              "color": "#E5ECF6",
              "width": 0.5
             },
             "pattern": {
              "fillmode": "overlay",
              "size": 10,
              "solidity": 0.2
             }
            },
            "type": "barpolar"
           }
          ],
          "carpet": [
           {
            "aaxis": {
             "endlinecolor": "#2a3f5f",
             "gridcolor": "white",
             "linecolor": "white",
             "minorgridcolor": "white",
             "startlinecolor": "#2a3f5f"
            },
            "baxis": {
             "endlinecolor": "#2a3f5f",
             "gridcolor": "white",
             "linecolor": "white",
             "minorgridcolor": "white",
             "startlinecolor": "#2a3f5f"
            },
            "type": "carpet"
           }
          ],
          "choropleth": [
           {
            "colorbar": {
             "outlinewidth": 0,
             "ticks": ""
            },
            "type": "choropleth"
           }
          ],
          "contour": [
           {
            "colorbar": {
             "outlinewidth": 0,
             "ticks": ""
            },
            "colorscale": [
             [
              0,
              "#0d0887"
             ],
             [
              0.1111111111111111,
              "#46039f"
             ],
             [
              0.2222222222222222,
              "#7201a8"
             ],
             [
              0.3333333333333333,
              "#9c179e"
             ],
             [
              0.4444444444444444,
              "#bd3786"
             ],
             [
              0.5555555555555556,
              "#d8576b"
             ],
             [
              0.6666666666666666,
              "#ed7953"
             ],
             [
              0.7777777777777778,
              "#fb9f3a"
             ],
             [
              0.8888888888888888,
              "#fdca26"
             ],
             [
              1,
              "#f0f921"
             ]
            ],
            "type": "contour"
           }
          ],
          "contourcarpet": [
           {
            "colorbar": {
             "outlinewidth": 0,
             "ticks": ""
            },
            "type": "contourcarpet"
           }
          ],
          "heatmap": [
           {
            "colorbar": {
             "outlinewidth": 0,
             "ticks": ""
            },
            "colorscale": [
             [
              0,
              "#0d0887"
             ],
             [
              0.1111111111111111,
              "#46039f"
             ],
             [
              0.2222222222222222,
              "#7201a8"
             ],
             [
              0.3333333333333333,
              "#9c179e"
             ],
             [
              0.4444444444444444,
              "#bd3786"
             ],
             [
              0.5555555555555556,
              "#d8576b"
             ],
             [
              0.6666666666666666,
              "#ed7953"
             ],
             [
              0.7777777777777778,
              "#fb9f3a"
             ],
             [
              0.8888888888888888,
              "#fdca26"
             ],
             [
              1,
              "#f0f921"
             ]
            ],
            "type": "heatmap"
           }
          ],
          "heatmapgl": [
           {
            "colorbar": {
             "outlinewidth": 0,
             "ticks": ""
            },
            "colorscale": [
             [
              0,
              "#0d0887"
             ],
             [
              0.1111111111111111,
              "#46039f"
             ],
             [
              0.2222222222222222,
              "#7201a8"
             ],
             [
              0.3333333333333333,
              "#9c179e"
             ],
             [
              0.4444444444444444,
              "#bd3786"
             ],
             [
              0.5555555555555556,
              "#d8576b"
             ],
             [
              0.6666666666666666,
              "#ed7953"
             ],
             [
              0.7777777777777778,
              "#fb9f3a"
             ],
             [
              0.8888888888888888,
              "#fdca26"
             ],
             [
              1,
              "#f0f921"
             ]
            ],
            "type": "heatmapgl"
           }
          ],
          "histogram": [
           {
            "marker": {
             "pattern": {
              "fillmode": "overlay",
              "size": 10,
              "solidity": 0.2
             }
            },
            "type": "histogram"
           }
          ],
          "histogram2d": [
           {
            "colorbar": {
             "outlinewidth": 0,
             "ticks": ""
            },
            "colorscale": [
             [
              0,
              "#0d0887"
             ],
             [
              0.1111111111111111,
              "#46039f"
             ],
             [
              0.2222222222222222,
              "#7201a8"
             ],
             [
              0.3333333333333333,
              "#9c179e"
             ],
             [
              0.4444444444444444,
              "#bd3786"
             ],
             [
              0.5555555555555556,
              "#d8576b"
             ],
             [
              0.6666666666666666,
              "#ed7953"
             ],
             [
              0.7777777777777778,
              "#fb9f3a"
             ],
             [
              0.8888888888888888,
              "#fdca26"
             ],
             [
              1,
              "#f0f921"
             ]
            ],
            "type": "histogram2d"
           }
          ],
          "histogram2dcontour": [
           {
            "colorbar": {
             "outlinewidth": 0,
             "ticks": ""
            },
            "colorscale": [
             [
              0,
              "#0d0887"
             ],
             [
              0.1111111111111111,
              "#46039f"
             ],
             [
              0.2222222222222222,
              "#7201a8"
             ],
             [
              0.3333333333333333,
              "#9c179e"
             ],
             [
              0.4444444444444444,
              "#bd3786"
             ],
             [
              0.5555555555555556,
              "#d8576b"
             ],
             [
              0.6666666666666666,
              "#ed7953"
             ],
             [
              0.7777777777777778,
              "#fb9f3a"
             ],
             [
              0.8888888888888888,
              "#fdca26"
             ],
             [
              1,
              "#f0f921"
             ]
            ],
            "type": "histogram2dcontour"
           }
          ],
          "mesh3d": [
           {
            "colorbar": {
             "outlinewidth": 0,
             "ticks": ""
            },
            "type": "mesh3d"
           }
          ],
          "parcoords": [
           {
            "line": {
             "colorbar": {
              "outlinewidth": 0,
              "ticks": ""
             }
            },
            "type": "parcoords"
           }
          ],
          "pie": [
           {
            "automargin": true,
            "type": "pie"
           }
          ],
          "scatter": [
           {
            "marker": {
             "colorbar": {
              "outlinewidth": 0,
              "ticks": ""
             }
            },
            "type": "scatter"
           }
          ],
          "scatter3d": [
           {
            "line": {
             "colorbar": {
              "outlinewidth": 0,
              "ticks": ""
             }
            },
            "marker": {
             "colorbar": {
              "outlinewidth": 0,
              "ticks": ""
             }
            },
            "type": "scatter3d"
           }
          ],
          "scattercarpet": [
           {
            "marker": {
             "colorbar": {
              "outlinewidth": 0,
              "ticks": ""
             }
            },
            "type": "scattercarpet"
           }
          ],
          "scattergeo": [
           {
            "marker": {
             "colorbar": {
              "outlinewidth": 0,
              "ticks": ""
             }
            },
            "type": "scattergeo"
           }
          ],
          "scattergl": [
           {
            "marker": {
             "colorbar": {
              "outlinewidth": 0,
              "ticks": ""
             }
            },
            "type": "scattergl"
           }
          ],
          "scattermapbox": [
           {
            "marker": {
             "colorbar": {
              "outlinewidth": 0,
              "ticks": ""
             }
            },
            "type": "scattermapbox"
           }
          ],
          "scatterpolar": [
           {
            "marker": {
             "colorbar": {
              "outlinewidth": 0,
              "ticks": ""
             }
            },
            "type": "scatterpolar"
           }
          ],
          "scatterpolargl": [
           {
            "marker": {
             "colorbar": {
              "outlinewidth": 0,
              "ticks": ""
             }
            },
            "type": "scatterpolargl"
           }
          ],
          "scatterternary": [
           {
            "marker": {
             "colorbar": {
              "outlinewidth": 0,
              "ticks": ""
             }
            },
            "type": "scatterternary"
           }
          ],
          "surface": [
           {
            "colorbar": {
             "outlinewidth": 0,
             "ticks": ""
            },
            "colorscale": [
             [
              0,
              "#0d0887"
             ],
             [
              0.1111111111111111,
              "#46039f"
             ],
             [
              0.2222222222222222,
              "#7201a8"
             ],
             [
              0.3333333333333333,
              "#9c179e"
             ],
             [
              0.4444444444444444,
              "#bd3786"
             ],
             [
              0.5555555555555556,
              "#d8576b"
             ],
             [
              0.6666666666666666,
              "#ed7953"
             ],
             [
              0.7777777777777778,
              "#fb9f3a"
             ],
             [
              0.8888888888888888,
              "#fdca26"
             ],
             [
              1,
              "#f0f921"
             ]
            ],
            "type": "surface"
           }
          ],
          "table": [
           {
            "cells": {
             "fill": {
              "color": "#EBF0F8"
             },
             "line": {
              "color": "white"
             }
            },
            "header": {
             "fill": {
              "color": "#C8D4E3"
             },
             "line": {
              "color": "white"
             }
            },
            "type": "table"
           }
          ]
         },
         "layout": {
          "annotationdefaults": {
           "arrowcolor": "#2a3f5f",
           "arrowhead": 0,
           "arrowwidth": 1
          },
          "autotypenumbers": "strict",
          "coloraxis": {
           "colorbar": {
            "outlinewidth": 0,
            "ticks": ""
           }
          },
          "colorscale": {
           "diverging": [
            [
             0,
             "#8e0152"
            ],
            [
             0.1,
             "#c51b7d"
            ],
            [
             0.2,
             "#de77ae"
            ],
            [
             0.3,
             "#f1b6da"
            ],
            [
             0.4,
             "#fde0ef"
            ],
            [
             0.5,
             "#f7f7f7"
            ],
            [
             0.6,
             "#e6f5d0"
            ],
            [
             0.7,
             "#b8e186"
            ],
            [
             0.8,
             "#7fbc41"
            ],
            [
             0.9,
             "#4d9221"
            ],
            [
             1,
             "#276419"
            ]
           ],
           "sequential": [
            [
             0,
             "#0d0887"
            ],
            [
             0.1111111111111111,
             "#46039f"
            ],
            [
             0.2222222222222222,
             "#7201a8"
            ],
            [
             0.3333333333333333,
             "#9c179e"
            ],
            [
             0.4444444444444444,
             "#bd3786"
            ],
            [
             0.5555555555555556,
             "#d8576b"
            ],
            [
             0.6666666666666666,
             "#ed7953"
            ],
            [
             0.7777777777777778,
             "#fb9f3a"
            ],
            [
             0.8888888888888888,
             "#fdca26"
            ],
            [
             1,
             "#f0f921"
            ]
           ],
           "sequentialminus": [
            [
             0,
             "#0d0887"
            ],
            [
             0.1111111111111111,
             "#46039f"
            ],
            [
             0.2222222222222222,
             "#7201a8"
            ],
            [
             0.3333333333333333,
             "#9c179e"
            ],
            [
             0.4444444444444444,
             "#bd3786"
            ],
            [
             0.5555555555555556,
             "#d8576b"
            ],
            [
             0.6666666666666666,
             "#ed7953"
            ],
            [
             0.7777777777777778,
             "#fb9f3a"
            ],
            [
             0.8888888888888888,
             "#fdca26"
            ],
            [
             1,
             "#f0f921"
            ]
           ]
          },
          "colorway": [
           "#636efa",
           "#EF553B",
           "#00cc96",
           "#ab63fa",
           "#FFA15A",
           "#19d3f3",
           "#FF6692",
           "#B6E880",
           "#FF97FF",
           "#FECB52"
          ],
          "font": {
           "color": "#2a3f5f"
          },
          "geo": {
           "bgcolor": "white",
           "lakecolor": "white",
           "landcolor": "#E5ECF6",
           "showlakes": true,
           "showland": true,
           "subunitcolor": "white"
          },
          "hoverlabel": {
           "align": "left"
          },
          "hovermode": "closest",
          "mapbox": {
           "style": "light"
          },
          "paper_bgcolor": "white",
          "plot_bgcolor": "#E5ECF6",
          "polar": {
           "angularaxis": {
            "gridcolor": "white",
            "linecolor": "white",
            "ticks": ""
           },
           "bgcolor": "#E5ECF6",
           "radialaxis": {
            "gridcolor": "white",
            "linecolor": "white",
            "ticks": ""
           }
          },
          "scene": {
           "xaxis": {
            "backgroundcolor": "#E5ECF6",
            "gridcolor": "white",
            "gridwidth": 2,
            "linecolor": "white",
            "showbackground": true,
            "ticks": "",
            "zerolinecolor": "white"
           },
           "yaxis": {
            "backgroundcolor": "#E5ECF6",
            "gridcolor": "white",
            "gridwidth": 2,
            "linecolor": "white",
            "showbackground": true,
            "ticks": "",
            "zerolinecolor": "white"
           },
           "zaxis": {
            "backgroundcolor": "#E5ECF6",
            "gridcolor": "white",
            "gridwidth": 2,
            "linecolor": "white",
            "showbackground": true,
            "ticks": "",
            "zerolinecolor": "white"
           }
          },
          "shapedefaults": {
           "line": {
            "color": "#2a3f5f"
           }
          },
          "ternary": {
           "aaxis": {
            "gridcolor": "white",
            "linecolor": "white",
            "ticks": ""
           },
           "baxis": {
            "gridcolor": "white",
            "linecolor": "white",
            "ticks": ""
           },
           "bgcolor": "#E5ECF6",
           "caxis": {
            "gridcolor": "white",
            "linecolor": "white",
            "ticks": ""
           }
          },
          "title": {
           "x": 0.05
          },
          "xaxis": {
           "automargin": true,
           "gridcolor": "white",
           "linecolor": "white",
           "ticks": "",
           "title": {
            "standoff": 15
           },
           "zerolinecolor": "white",
           "zerolinewidth": 2
          },
          "yaxis": {
           "automargin": true,
           "gridcolor": "white",
           "linecolor": "white",
           "ticks": "",
           "title": {
            "standoff": 15
           },
           "zerolinecolor": "white",
           "zerolinewidth": 2
          }
         }
        },
        "title": {
         "text": "CADD through AGE"
        },
        "width": 1000,
        "xaxis": {
         "anchor": "y",
         "domain": [
          0,
          0.98
         ],
         "title": {
          "text": "Sample"
         }
        },
        "xaxis2": {
         "anchor": "y2",
         "domain": [
          0,
          0.98
         ],
         "matches": "x",
         "showticklabels": false
        },
        "yaxis": {
         "anchor": "x",
         "domain": [
          0,
          0.485
         ],
         "title": {
          "text": "value"
         }
        },
        "yaxis2": {
         "anchor": "x2",
         "domain": [
          0.515,
          1
         ],
         "title": {
          "text": "value"
         }
        }
       }
      },
      "text/html": [
       "<div>                            <div id=\"42f518a5-825e-4959-b6d8-a1e0d0a0dd47\" class=\"plotly-graph-div\" style=\"height:1000px; width:1000px;\"></div>            <script type=\"text/javascript\">                require([\"plotly\"], function(Plotly) {                    window.PLOTLYENV=window.PLOTLYENV || {};                                    if (document.getElementById(\"42f518a5-825e-4959-b6d8-a1e0d0a0dd47\")) {                    Plotly.newPlot(                        \"42f518a5-825e-4959-b6d8-a1e0d0a0dd47\",                        [{\"hovertemplate\":\"Method=BWA1-bam<br>variable=PCT_CADD_deletarious<br>Sample=%{x}<br>value=%{y}<extra></extra>\",\"legendgroup\":\"BWA1-bam\",\"marker\":{\"color\":\"#636efa\",\"line\":{\"width\":2},\"size\":5,\"symbol\":\"circle\"},\"mode\":\"lines+markers\",\"name\":\"BWA1-bam\",\"orientation\":\"v\",\"showlegend\":true,\"type\":\"scatter\",\"x\":[\"SZ43\",\"SZ45\",\"SZ4\",\"SZ15\",\"BR2\",\"ATP016\",\"NG10\",\"PB675\",\"BOT2016\",\"JP14\",\"NE1\",\"Stutgart\",\"Loschbour\",\"SF12\",\"KK1\",\"Sunghir3\",\"UstIshim\"],\"xaxis\":\"x2\",\"y\":[6.91993596316083,7.6502732240437155,8.852203071081975,5.6786510590858414,3.7107326574439394,9.577077226775138,3.1162443185355833,5.201904426027156,5.774885816179691,5.499183175720761,5.222896333421261,4.0939334637964775,2.6084751671896296,0.7982393972173524,8.955806738550322,4.349618068912458,1.0379031728305852],\"yaxis\":\"y2\"},{\"hovertemplate\":\"Method=BWA1-bam<br>variable=PCT_CADD_not-deletarious<br>Sample=%{x}<br>value=%{y}<extra></extra>\",\"legendgroup\":\"BWA1-bam\",\"marker\":{\"color\":\"#636efa\",\"line\":{\"width\":2},\"size\":5,\"symbol\":\"circle\"},\"mode\":\"lines+markers\",\"name\":\"BWA1-bam\",\"orientation\":\"v\",\"showlegend\":false,\"type\":\"scatter\",\"x\":[\"SZ43\",\"SZ45\",\"SZ4\",\"SZ15\",\"BR2\",\"ATP016\",\"NG10\",\"PB675\",\"BOT2016\",\"JP14\",\"NE1\",\"Stutgart\",\"Loschbour\",\"SF12\",\"KK1\",\"Sunghir3\",\"UstIshim\"],\"xaxis\":\"x\",\"y\":[93.08006403683918,92.34972677595628,91.14779692891803,94.32134894091416,96.28926734255606,90.42292277322485,96.88375568146442,94.79809557397284,94.22511418382031,94.50081682427924,94.77710366657874,95.90606653620353,97.39152483281038,99.20176060278264,91.04419326144968,95.65038193108754,98.96209682716942],\"yaxis\":\"y\"},{\"hovertemplate\":\"Method=VG-gam<br>variable=PCT_CADD_deletarious<br>Sample=%{x}<br>value=%{y}<extra></extra>\",\"legendgroup\":\"VG-gam\",\"marker\":{\"color\":\"#EF553B\",\"line\":{\"width\":2},\"size\":5,\"symbol\":\"circle\"},\"mode\":\"lines+markers\",\"name\":\"VG-gam\",\"orientation\":\"v\",\"showlegend\":true,\"type\":\"scatter\",\"x\":[\"SZ43\",\"SZ45\",\"SZ4\",\"SZ15\",\"BR2\",\"ATP016\",\"NG10\",\"PB675\",\"BOT2016\",\"JP14\",\"NE1\",\"Stutgart\",\"Loschbour\",\"SF12\",\"KK1\",\"Sunghir3\",\"UstIshim\"],\"xaxis\":\"x2\",\"y\":[0.7947771785410161,0.8349856181406908,0.9817893903404592,0.7248547295273468,0.8767158352798131,1.1521843494959194,0.7228755121756221,0.8366141732283464,0.758861387723736,0.7224989239377728,0.6885188018595892,0.7327573046743809,0.5857684883179125,0.6309148264984227,1.0477456569252608,0.778587286201182,0.4974813053408842],\"yaxis\":\"y2\"},{\"hovertemplate\":\"Method=VG-gam<br>variable=PCT_CADD_not-deletarious<br>Sample=%{x}<br>value=%{y}<extra></extra>\",\"legendgroup\":\"VG-gam\",\"marker\":{\"color\":\"#EF553B\",\"line\":{\"width\":2},\"size\":5,\"symbol\":\"circle\"},\"mode\":\"lines+markers\",\"name\":\"VG-gam\",\"orientation\":\"v\",\"showlegend\":false,\"type\":\"scatter\",\"x\":[\"SZ43\",\"SZ45\",\"SZ4\",\"SZ15\",\"BR2\",\"ATP016\",\"NG10\",\"PB675\",\"BOT2016\",\"JP14\",\"NE1\",\"Stutgart\",\"Loschbour\",\"SF12\",\"KK1\",\"Sunghir3\",\"UstIshim\"],\"xaxis\":\"x\",\"y\":[99.20522282145899,99.16501438185931,99.01821060965955,99.27514527047265,99.12328416472019,98.84781565050407,99.27712448782438,99.16338582677166,99.24113861227626,99.27750107606222,99.31148119814041,99.26724269532562,99.41423151168209,99.36908517350157,98.95225434307474,99.22141271379881,99.50251869465912],\"yaxis\":\"y\"},{\"hovertemplate\":\"Method=VG-bam<br>variable=PCT_CADD_deletarious<br>Sample=%{x}<br>value=%{y}<extra></extra>\",\"legendgroup\":\"VG-bam\",\"marker\":{\"color\":\"#00cc96\",\"line\":{\"width\":2},\"size\":5,\"symbol\":\"circle\"},\"mode\":\"lines+markers\",\"name\":\"VG-bam\",\"orientation\":\"v\",\"showlegend\":true,\"type\":\"scatter\",\"x\":[\"SZ43\",\"SZ45\",\"SZ4\",\"SZ15\",\"BR2\",\"ATP016\",\"NG10\",\"PB675\",\"BOT2016\",\"JP14\",\"NE1\",\"Stutgart\",\"Loschbour\",\"SF12\",\"KK1\",\"Sunghir3\",\"UstIshim\"],\"xaxis\":\"x2\",\"y\":[4.903956239664165,5.388613070870714,6.1305259825068275,3.3309666601205494,3.360424372201674,9.133208574345016,4.1662349622978185,3.8936841099468102,5.429145941369457,4.670387310645798,4.806968272381301,4.1164512850297665,2.6945674510144424,1.3595706618962433,6.497177264765799,4.3581573689042505,1.0904758995662533],\"yaxis\":\"y2\"},{\"hovertemplate\":\"Method=VG-bam<br>variable=PCT_CADD_not-deletarious<br>Sample=%{x}<br>value=%{y}<extra></extra>\",\"legendgroup\":\"VG-bam\",\"marker\":{\"color\":\"#00cc96\",\"line\":{\"width\":2},\"size\":5,\"symbol\":\"circle\"},\"mode\":\"lines+markers\",\"name\":\"VG-bam\",\"orientation\":\"v\",\"showlegend\":false,\"type\":\"scatter\",\"x\":[\"SZ43\",\"SZ45\",\"SZ4\",\"SZ15\",\"BR2\",\"ATP016\",\"NG10\",\"PB675\",\"BOT2016\",\"JP14\",\"NE1\",\"Stutgart\",\"Loschbour\",\"SF12\",\"KK1\",\"Sunghir3\",\"UstIshim\"],\"xaxis\":\"x\",\"y\":[95.09604376033583,94.61138692912928,93.86947401749318,96.66903333987945,96.63957562779832,90.86679142565498,95.83376503770218,96.1063158900532,94.57085405863054,95.3296126893542,95.1930317276187,95.88354871497023,97.30543254898556,98.64042933810376,93.5028227352342,95.64184263109576,98.90952410043374],\"yaxis\":\"y\"}],                        {\"annotations\":[{\"font\":{},\"showarrow\":false,\"text\":\"not-deletarious\",\"textangle\":90,\"x\":0.98,\"xanchor\":\"left\",\"xref\":\"paper\",\"y\":0.2425,\"yanchor\":\"middle\",\"yref\":\"paper\"},{\"font\":{},\"showarrow\":false,\"text\":\"deletarious\",\"textangle\":90,\"x\":0.98,\"xanchor\":\"left\",\"xref\":\"paper\",\"y\":0.7575000000000001,\"yanchor\":\"middle\",\"yref\":\"paper\"}],\"height\":1000,\"legend\":{\"title\":{\"text\":\"Method\"},\"tracegroupgap\":0},\"template\":{\"data\":{\"bar\":[{\"error_x\":{\"color\":\"#2a3f5f\"},\"error_y\":{\"color\":\"#2a3f5f\"},\"marker\":{\"line\":{\"color\":\"#E5ECF6\",\"width\":0.5},\"pattern\":{\"fillmode\":\"overlay\",\"size\":10,\"solidity\":0.2}},\"type\":\"bar\"}],\"barpolar\":[{\"marker\":{\"line\":{\"color\":\"#E5ECF6\",\"width\":0.5},\"pattern\":{\"fillmode\":\"overlay\",\"size\":10,\"solidity\":0.2}},\"type\":\"barpolar\"}],\"carpet\":[{\"aaxis\":{\"endlinecolor\":\"#2a3f5f\",\"gridcolor\":\"white\",\"linecolor\":\"white\",\"minorgridcolor\":\"white\",\"startlinecolor\":\"#2a3f5f\"},\"baxis\":{\"endlinecolor\":\"#2a3f5f\",\"gridcolor\":\"white\",\"linecolor\":\"white\",\"minorgridcolor\":\"white\",\"startlinecolor\":\"#2a3f5f\"},\"type\":\"carpet\"}],\"choropleth\":[{\"colorbar\":{\"outlinewidth\":0,\"ticks\":\"\"},\"type\":\"choropleth\"}],\"contour\":[{\"colorbar\":{\"outlinewidth\":0,\"ticks\":\"\"},\"colorscale\":[[0.0,\"#0d0887\"],[0.1111111111111111,\"#46039f\"],[0.2222222222222222,\"#7201a8\"],[0.3333333333333333,\"#9c179e\"],[0.4444444444444444,\"#bd3786\"],[0.5555555555555556,\"#d8576b\"],[0.6666666666666666,\"#ed7953\"],[0.7777777777777778,\"#fb9f3a\"],[0.8888888888888888,\"#fdca26\"],[1.0,\"#f0f921\"]],\"type\":\"contour\"}],\"contourcarpet\":[{\"colorbar\":{\"outlinewidth\":0,\"ticks\":\"\"},\"type\":\"contourcarpet\"}],\"heatmap\":[{\"colorbar\":{\"outlinewidth\":0,\"ticks\":\"\"},\"colorscale\":[[0.0,\"#0d0887\"],[0.1111111111111111,\"#46039f\"],[0.2222222222222222,\"#7201a8\"],[0.3333333333333333,\"#9c179e\"],[0.4444444444444444,\"#bd3786\"],[0.5555555555555556,\"#d8576b\"],[0.6666666666666666,\"#ed7953\"],[0.7777777777777778,\"#fb9f3a\"],[0.8888888888888888,\"#fdca26\"],[1.0,\"#f0f921\"]],\"type\":\"heatmap\"}],\"heatmapgl\":[{\"colorbar\":{\"outlinewidth\":0,\"ticks\":\"\"},\"colorscale\":[[0.0,\"#0d0887\"],[0.1111111111111111,\"#46039f\"],[0.2222222222222222,\"#7201a8\"],[0.3333333333333333,\"#9c179e\"],[0.4444444444444444,\"#bd3786\"],[0.5555555555555556,\"#d8576b\"],[0.6666666666666666,\"#ed7953\"],[0.7777777777777778,\"#fb9f3a\"],[0.8888888888888888,\"#fdca26\"],[1.0,\"#f0f921\"]],\"type\":\"heatmapgl\"}],\"histogram\":[{\"marker\":{\"pattern\":{\"fillmode\":\"overlay\",\"size\":10,\"solidity\":0.2}},\"type\":\"histogram\"}],\"histogram2d\":[{\"colorbar\":{\"outlinewidth\":0,\"ticks\":\"\"},\"colorscale\":[[0.0,\"#0d0887\"],[0.1111111111111111,\"#46039f\"],[0.2222222222222222,\"#7201a8\"],[0.3333333333333333,\"#9c179e\"],[0.4444444444444444,\"#bd3786\"],[0.5555555555555556,\"#d8576b\"],[0.6666666666666666,\"#ed7953\"],[0.7777777777777778,\"#fb9f3a\"],[0.8888888888888888,\"#fdca26\"],[1.0,\"#f0f921\"]],\"type\":\"histogram2d\"}],\"histogram2dcontour\":[{\"colorbar\":{\"outlinewidth\":0,\"ticks\":\"\"},\"colorscale\":[[0.0,\"#0d0887\"],[0.1111111111111111,\"#46039f\"],[0.2222222222222222,\"#7201a8\"],[0.3333333333333333,\"#9c179e\"],[0.4444444444444444,\"#bd3786\"],[0.5555555555555556,\"#d8576b\"],[0.6666666666666666,\"#ed7953\"],[0.7777777777777778,\"#fb9f3a\"],[0.8888888888888888,\"#fdca26\"],[1.0,\"#f0f921\"]],\"type\":\"histogram2dcontour\"}],\"mesh3d\":[{\"colorbar\":{\"outlinewidth\":0,\"ticks\":\"\"},\"type\":\"mesh3d\"}],\"parcoords\":[{\"line\":{\"colorbar\":{\"outlinewidth\":0,\"ticks\":\"\"}},\"type\":\"parcoords\"}],\"pie\":[{\"automargin\":true,\"type\":\"pie\"}],\"scatter\":[{\"marker\":{\"colorbar\":{\"outlinewidth\":0,\"ticks\":\"\"}},\"type\":\"scatter\"}],\"scatter3d\":[{\"line\":{\"colorbar\":{\"outlinewidth\":0,\"ticks\":\"\"}},\"marker\":{\"colorbar\":{\"outlinewidth\":0,\"ticks\":\"\"}},\"type\":\"scatter3d\"}],\"scattercarpet\":[{\"marker\":{\"colorbar\":{\"outlinewidth\":0,\"ticks\":\"\"}},\"type\":\"scattercarpet\"}],\"scattergeo\":[{\"marker\":{\"colorbar\":{\"outlinewidth\":0,\"ticks\":\"\"}},\"type\":\"scattergeo\"}],\"scattergl\":[{\"marker\":{\"colorbar\":{\"outlinewidth\":0,\"ticks\":\"\"}},\"type\":\"scattergl\"}],\"scattermapbox\":[{\"marker\":{\"colorbar\":{\"outlinewidth\":0,\"ticks\":\"\"}},\"type\":\"scattermapbox\"}],\"scatterpolar\":[{\"marker\":{\"colorbar\":{\"outlinewidth\":0,\"ticks\":\"\"}},\"type\":\"scatterpolar\"}],\"scatterpolargl\":[{\"marker\":{\"colorbar\":{\"outlinewidth\":0,\"ticks\":\"\"}},\"type\":\"scatterpolargl\"}],\"scatterternary\":[{\"marker\":{\"colorbar\":{\"outlinewidth\":0,\"ticks\":\"\"}},\"type\":\"scatterternary\"}],\"surface\":[{\"colorbar\":{\"outlinewidth\":0,\"ticks\":\"\"},\"colorscale\":[[0.0,\"#0d0887\"],[0.1111111111111111,\"#46039f\"],[0.2222222222222222,\"#7201a8\"],[0.3333333333333333,\"#9c179e\"],[0.4444444444444444,\"#bd3786\"],[0.5555555555555556,\"#d8576b\"],[0.6666666666666666,\"#ed7953\"],[0.7777777777777778,\"#fb9f3a\"],[0.8888888888888888,\"#fdca26\"],[1.0,\"#f0f921\"]],\"type\":\"surface\"}],\"table\":[{\"cells\":{\"fill\":{\"color\":\"#EBF0F8\"},\"line\":{\"color\":\"white\"}},\"header\":{\"fill\":{\"color\":\"#C8D4E3\"},\"line\":{\"color\":\"white\"}},\"type\":\"table\"}]},\"layout\":{\"annotationdefaults\":{\"arrowcolor\":\"#2a3f5f\",\"arrowhead\":0,\"arrowwidth\":1},\"autotypenumbers\":\"strict\",\"coloraxis\":{\"colorbar\":{\"outlinewidth\":0,\"ticks\":\"\"}},\"colorscale\":{\"diverging\":[[0,\"#8e0152\"],[0.1,\"#c51b7d\"],[0.2,\"#de77ae\"],[0.3,\"#f1b6da\"],[0.4,\"#fde0ef\"],[0.5,\"#f7f7f7\"],[0.6,\"#e6f5d0\"],[0.7,\"#b8e186\"],[0.8,\"#7fbc41\"],[0.9,\"#4d9221\"],[1,\"#276419\"]],\"sequential\":[[0.0,\"#0d0887\"],[0.1111111111111111,\"#46039f\"],[0.2222222222222222,\"#7201a8\"],[0.3333333333333333,\"#9c179e\"],[0.4444444444444444,\"#bd3786\"],[0.5555555555555556,\"#d8576b\"],[0.6666666666666666,\"#ed7953\"],[0.7777777777777778,\"#fb9f3a\"],[0.8888888888888888,\"#fdca26\"],[1.0,\"#f0f921\"]],\"sequentialminus\":[[0.0,\"#0d0887\"],[0.1111111111111111,\"#46039f\"],[0.2222222222222222,\"#7201a8\"],[0.3333333333333333,\"#9c179e\"],[0.4444444444444444,\"#bd3786\"],[0.5555555555555556,\"#d8576b\"],[0.6666666666666666,\"#ed7953\"],[0.7777777777777778,\"#fb9f3a\"],[0.8888888888888888,\"#fdca26\"],[1.0,\"#f0f921\"]]},\"colorway\":[\"#636efa\",\"#EF553B\",\"#00cc96\",\"#ab63fa\",\"#FFA15A\",\"#19d3f3\",\"#FF6692\",\"#B6E880\",\"#FF97FF\",\"#FECB52\"],\"font\":{\"color\":\"#2a3f5f\"},\"geo\":{\"bgcolor\":\"white\",\"lakecolor\":\"white\",\"landcolor\":\"#E5ECF6\",\"showlakes\":true,\"showland\":true,\"subunitcolor\":\"white\"},\"hoverlabel\":{\"align\":\"left\"},\"hovermode\":\"closest\",\"mapbox\":{\"style\":\"light\"},\"paper_bgcolor\":\"white\",\"plot_bgcolor\":\"#E5ECF6\",\"polar\":{\"angularaxis\":{\"gridcolor\":\"white\",\"linecolor\":\"white\",\"ticks\":\"\"},\"bgcolor\":\"#E5ECF6\",\"radialaxis\":{\"gridcolor\":\"white\",\"linecolor\":\"white\",\"ticks\":\"\"}},\"scene\":{\"xaxis\":{\"backgroundcolor\":\"#E5ECF6\",\"gridcolor\":\"white\",\"gridwidth\":2,\"linecolor\":\"white\",\"showbackground\":true,\"ticks\":\"\",\"zerolinecolor\":\"white\"},\"yaxis\":{\"backgroundcolor\":\"#E5ECF6\",\"gridcolor\":\"white\",\"gridwidth\":2,\"linecolor\":\"white\",\"showbackground\":true,\"ticks\":\"\",\"zerolinecolor\":\"white\"},\"zaxis\":{\"backgroundcolor\":\"#E5ECF6\",\"gridcolor\":\"white\",\"gridwidth\":2,\"linecolor\":\"white\",\"showbackground\":true,\"ticks\":\"\",\"zerolinecolor\":\"white\"}},\"shapedefaults\":{\"line\":{\"color\":\"#2a3f5f\"}},\"ternary\":{\"aaxis\":{\"gridcolor\":\"white\",\"linecolor\":\"white\",\"ticks\":\"\"},\"baxis\":{\"gridcolor\":\"white\",\"linecolor\":\"white\",\"ticks\":\"\"},\"bgcolor\":\"#E5ECF6\",\"caxis\":{\"gridcolor\":\"white\",\"linecolor\":\"white\",\"ticks\":\"\"}},\"title\":{\"x\":0.05},\"xaxis\":{\"automargin\":true,\"gridcolor\":\"white\",\"linecolor\":\"white\",\"ticks\":\"\",\"title\":{\"standoff\":15},\"zerolinecolor\":\"white\",\"zerolinewidth\":2},\"yaxis\":{\"automargin\":true,\"gridcolor\":\"white\",\"linecolor\":\"white\",\"ticks\":\"\",\"title\":{\"standoff\":15},\"zerolinecolor\":\"white\",\"zerolinewidth\":2}}},\"title\":{\"text\":\"CADD through AGE\"},\"width\":1000,\"xaxis\":{\"anchor\":\"y\",\"domain\":[0.0,0.98],\"title\":{\"text\":\"Sample\"}},\"xaxis2\":{\"anchor\":\"y2\",\"domain\":[0.0,0.98],\"matches\":\"x\",\"showticklabels\":false},\"yaxis\":{\"anchor\":\"x\",\"domain\":[0.0,0.485],\"title\":{\"text\":\"value\"}},\"yaxis2\":{\"anchor\":\"x2\",\"domain\":[0.515,1.0],\"title\":{\"text\":\"value\"}}},                        {\"responsive\": true}                    ).then(function(){\n",
       "                            \n",
       "var gd = document.getElementById('42f518a5-825e-4959-b6d8-a1e0d0a0dd47');\n",
       "var x = new MutationObserver(function (mutations, observer) {{\n",
       "        var display = window.getComputedStyle(gd).display;\n",
       "        if (!display || display === 'none') {{\n",
       "            console.log([gd, 'removed!']);\n",
       "            Plotly.purge(gd);\n",
       "            observer.disconnect();\n",
       "        }}\n",
       "}});\n",
       "\n",
       "// Listen for the removal of the full notebook cells\n",
       "var notebookContainer = gd.closest('#notebook-container');\n",
       "if (notebookContainer) {{\n",
       "    x.observe(notebookContainer, {childList: true});\n",
       "}}\n",
       "\n",
       "// Listen for the clearing of the current output cell\n",
       "var outputEl = gd.closest('.output');\n",
       "if (outputEl) {{\n",
       "    x.observe(outputEl, {childList: true});\n",
       "}}\n",
       "\n",
       "                        })                };                });            </script>        </div>"
      ]
     },
     "metadata": {},
     "output_type": "display_data"
    }
   ],
   "source": [
    "fig = px.scatter(df_age, y=\"value\", x=\"Sample\", color = \"Method\",facet_row=\"variable\",\n",
    "                 width=1000, height=1000, title=\"CADD through AGE\")\n",
    "\n",
    "fig.for_each_annotation(lambda a: a.update(text=a.text.split(\"=\")[-1].split(\"_\")[-1]))\n",
    "fig.update_yaxes(matches=None)\n",
    "fig.update_traces(mode='lines+markers', marker_line_width=2, marker_size=5)\n",
    "fig.show()"
   ]
  },
  {
   "cell_type": "code",
   "execution_count": 290,
   "id": "b2a7462e",
   "metadata": {},
   "outputs": [
    {
     "data": {
      "application/vnd.plotly.v1+json": {
       "config": {
        "plotlyServerURL": "https://plot.ly"
       },
       "data": [
        {
         "hovertemplate": "Method=BWA1-bam<br>variable=PCT_CADD_deletarious<br>Coverage=%{x}<br>value=%{y}<extra></extra>",
         "legendgroup": "BWA1-bam",
         "marker": {
          "color": "#636efa",
          "line": {
           "width": 2
          },
          "size": 5,
          "symbol": "circle"
         },
         "mode": "lines+markers",
         "name": "BWA1-bam",
         "orientation": "v",
         "showlegend": true,
         "type": "scatter",
         "x": [
          5,
          10,
          20,
          30,
          65
         ],
         "xaxis": "x2",
         "y": [
          8.485918948091454,
          7.371695819683953,
          1.7587131367292226,
          0.9478672985781991,
          0.7982393972173524
         ],
         "yaxis": "y2"
        },
        {
         "hovertemplate": "Method=BWA1-bam<br>variable=PCT_CADD_not-deletarious<br>Coverage=%{x}<br>value=%{y}<extra></extra>",
         "legendgroup": "BWA1-bam",
         "marker": {
          "color": "#636efa",
          "line": {
           "width": 2
          },
          "size": 5,
          "symbol": "circle"
         },
         "mode": "lines+markers",
         "name": "BWA1-bam",
         "orientation": "v",
         "showlegend": false,
         "type": "scatter",
         "x": [
          5,
          10,
          20,
          30,
          65
         ],
         "xaxis": "x",
         "y": [
          91.51408105190855,
          92.62830418031605,
          98.24128686327077,
          99.0521327014218,
          99.20176060278264
         ],
         "yaxis": "y"
        },
        {
         "hovertemplate": "Method=VG-bam<br>variable=PCT_CADD_deletarious<br>Coverage=%{x}<br>value=%{y}<extra></extra>",
         "legendgroup": "VG-bam",
         "marker": {
          "color": "#EF553B",
          "line": {
           "width": 2
          },
          "size": 5,
          "symbol": "circle"
         },
         "mode": "lines+markers",
         "name": "VG-bam",
         "orientation": "v",
         "showlegend": true,
         "type": "scatter",
         "x": [
          5,
          10,
          20,
          30,
          65
         ],
         "xaxis": "x2",
         "y": [
          7.986293635496369,
          6.811195274356553,
          2.0996542865298613,
          1.4469979702743403,
          1.3595706618962433
         ],
         "yaxis": "y2"
        },
        {
         "hovertemplate": "Method=VG-bam<br>variable=PCT_CADD_not-deletarious<br>Coverage=%{x}<br>value=%{y}<extra></extra>",
         "legendgroup": "VG-bam",
         "marker": {
          "color": "#EF553B",
          "line": {
           "width": 2
          },
          "size": 5,
          "symbol": "circle"
         },
         "mode": "lines+markers",
         "name": "VG-bam",
         "orientation": "v",
         "showlegend": false,
         "type": "scatter",
         "x": [
          5,
          10,
          20,
          30,
          65
         ],
         "xaxis": "x",
         "y": [
          92.01370636450363,
          93.18880472564345,
          97.90034571347014,
          98.55300202972566,
          98.64042933810376
         ],
         "yaxis": "y"
        },
        {
         "hovertemplate": "Method=VG-gam<br>variable=PCT_CADD_deletarious<br>Coverage=%{x}<br>value=%{y}<extra></extra>",
         "legendgroup": "VG-gam",
         "marker": {
          "color": "#00cc96",
          "line": {
           "width": 2
          },
          "size": 5,
          "symbol": "circle"
         },
         "mode": "lines+markers",
         "name": "VG-gam",
         "orientation": "v",
         "showlegend": true,
         "type": "scatter",
         "x": [
          65
         ],
         "xaxis": "x2",
         "y": [
          0.6309148264984227
         ],
         "yaxis": "y2"
        },
        {
         "hovertemplate": "Method=VG-gam<br>variable=PCT_CADD_not-deletarious<br>Coverage=%{x}<br>value=%{y}<extra></extra>",
         "legendgroup": "VG-gam",
         "marker": {
          "color": "#00cc96",
          "line": {
           "width": 2
          },
          "size": 5,
          "symbol": "circle"
         },
         "mode": "lines+markers",
         "name": "VG-gam",
         "orientation": "v",
         "showlegend": false,
         "type": "scatter",
         "x": [
          65
         ],
         "xaxis": "x",
         "y": [
          99.36908517350157
         ],
         "yaxis": "y"
        }
       ],
       "layout": {
        "annotations": [
         {
          "font": {},
          "showarrow": false,
          "text": "not-deletarious",
          "textangle": 90,
          "x": 0.98,
          "xanchor": "left",
          "xref": "paper",
          "y": 0.2425,
          "yanchor": "middle",
          "yref": "paper"
         },
         {
          "font": {},
          "showarrow": false,
          "text": "deletarious",
          "textangle": 90,
          "x": 0.98,
          "xanchor": "left",
          "xref": "paper",
          "y": 0.7575000000000001,
          "yanchor": "middle",
          "yref": "paper"
         }
        ],
        "height": 1000,
        "legend": {
         "title": {
          "text": "Method"
         },
         "tracegroupgap": 0
        },
        "template": {
         "data": {
          "bar": [
           {
            "error_x": {
             "color": "#2a3f5f"
            },
            "error_y": {
             "color": "#2a3f5f"
            },
            "marker": {
             "line": {
              "color": "#E5ECF6",
              "width": 0.5
             },
             "pattern": {
              "fillmode": "overlay",
              "size": 10,
              "solidity": 0.2
             }
            },
            "type": "bar"
           }
          ],
          "barpolar": [
           {
            "marker": {
             "line": {
              "color": "#E5ECF6",
              "width": 0.5
             },
             "pattern": {
              "fillmode": "overlay",
              "size": 10,
              "solidity": 0.2
             }
            },
            "type": "barpolar"
           }
          ],
          "carpet": [
           {
            "aaxis": {
             "endlinecolor": "#2a3f5f",
             "gridcolor": "white",
             "linecolor": "white",
             "minorgridcolor": "white",
             "startlinecolor": "#2a3f5f"
            },
            "baxis": {
             "endlinecolor": "#2a3f5f",
             "gridcolor": "white",
             "linecolor": "white",
             "minorgridcolor": "white",
             "startlinecolor": "#2a3f5f"
            },
            "type": "carpet"
           }
          ],
          "choropleth": [
           {
            "colorbar": {
             "outlinewidth": 0,
             "ticks": ""
            },
            "type": "choropleth"
           }
          ],
          "contour": [
           {
            "colorbar": {
             "outlinewidth": 0,
             "ticks": ""
            },
            "colorscale": [
             [
              0,
              "#0d0887"
             ],
             [
              0.1111111111111111,
              "#46039f"
             ],
             [
              0.2222222222222222,
              "#7201a8"
             ],
             [
              0.3333333333333333,
              "#9c179e"
             ],
             [
              0.4444444444444444,
              "#bd3786"
             ],
             [
              0.5555555555555556,
              "#d8576b"
             ],
             [
              0.6666666666666666,
              "#ed7953"
             ],
             [
              0.7777777777777778,
              "#fb9f3a"
             ],
             [
              0.8888888888888888,
              "#fdca26"
             ],
             [
              1,
              "#f0f921"
             ]
            ],
            "type": "contour"
           }
          ],
          "contourcarpet": [
           {
            "colorbar": {
             "outlinewidth": 0,
             "ticks": ""
            },
            "type": "contourcarpet"
           }
          ],
          "heatmap": [
           {
            "colorbar": {
             "outlinewidth": 0,
             "ticks": ""
            },
            "colorscale": [
             [
              0,
              "#0d0887"
             ],
             [
              0.1111111111111111,
              "#46039f"
             ],
             [
              0.2222222222222222,
              "#7201a8"
             ],
             [
              0.3333333333333333,
              "#9c179e"
             ],
             [
              0.4444444444444444,
              "#bd3786"
             ],
             [
              0.5555555555555556,
              "#d8576b"
             ],
             [
              0.6666666666666666,
              "#ed7953"
             ],
             [
              0.7777777777777778,
              "#fb9f3a"
             ],
             [
              0.8888888888888888,
              "#fdca26"
             ],
             [
              1,
              "#f0f921"
             ]
            ],
            "type": "heatmap"
           }
          ],
          "heatmapgl": [
           {
            "colorbar": {
             "outlinewidth": 0,
             "ticks": ""
            },
            "colorscale": [
             [
              0,
              "#0d0887"
             ],
             [
              0.1111111111111111,
              "#46039f"
             ],
             [
              0.2222222222222222,
              "#7201a8"
             ],
             [
              0.3333333333333333,
              "#9c179e"
             ],
             [
              0.4444444444444444,
              "#bd3786"
             ],
             [
              0.5555555555555556,
              "#d8576b"
             ],
             [
              0.6666666666666666,
              "#ed7953"
             ],
             [
              0.7777777777777778,
              "#fb9f3a"
             ],
             [
              0.8888888888888888,
              "#fdca26"
             ],
             [
              1,
              "#f0f921"
             ]
            ],
            "type": "heatmapgl"
           }
          ],
          "histogram": [
           {
            "marker": {
             "pattern": {
              "fillmode": "overlay",
              "size": 10,
              "solidity": 0.2
             }
            },
            "type": "histogram"
           }
          ],
          "histogram2d": [
           {
            "colorbar": {
             "outlinewidth": 0,
             "ticks": ""
            },
            "colorscale": [
             [
              0,
              "#0d0887"
             ],
             [
              0.1111111111111111,
              "#46039f"
             ],
             [
              0.2222222222222222,
              "#7201a8"
             ],
             [
              0.3333333333333333,
              "#9c179e"
             ],
             [
              0.4444444444444444,
              "#bd3786"
             ],
             [
              0.5555555555555556,
              "#d8576b"
             ],
             [
              0.6666666666666666,
              "#ed7953"
             ],
             [
              0.7777777777777778,
              "#fb9f3a"
             ],
             [
              0.8888888888888888,
              "#fdca26"
             ],
             [
              1,
              "#f0f921"
             ]
            ],
            "type": "histogram2d"
           }
          ],
          "histogram2dcontour": [
           {
            "colorbar": {
             "outlinewidth": 0,
             "ticks": ""
            },
            "colorscale": [
             [
              0,
              "#0d0887"
             ],
             [
              0.1111111111111111,
              "#46039f"
             ],
             [
              0.2222222222222222,
              "#7201a8"
             ],
             [
              0.3333333333333333,
              "#9c179e"
             ],
             [
              0.4444444444444444,
              "#bd3786"
             ],
             [
              0.5555555555555556,
              "#d8576b"
             ],
             [
              0.6666666666666666,
              "#ed7953"
             ],
             [
              0.7777777777777778,
              "#fb9f3a"
             ],
             [
              0.8888888888888888,
              "#fdca26"
             ],
             [
              1,
              "#f0f921"
             ]
            ],
            "type": "histogram2dcontour"
           }
          ],
          "mesh3d": [
           {
            "colorbar": {
             "outlinewidth": 0,
             "ticks": ""
            },
            "type": "mesh3d"
           }
          ],
          "parcoords": [
           {
            "line": {
             "colorbar": {
              "outlinewidth": 0,
              "ticks": ""
             }
            },
            "type": "parcoords"
           }
          ],
          "pie": [
           {
            "automargin": true,
            "type": "pie"
           }
          ],
          "scatter": [
           {
            "marker": {
             "colorbar": {
              "outlinewidth": 0,
              "ticks": ""
             }
            },
            "type": "scatter"
           }
          ],
          "scatter3d": [
           {
            "line": {
             "colorbar": {
              "outlinewidth": 0,
              "ticks": ""
             }
            },
            "marker": {
             "colorbar": {
              "outlinewidth": 0,
              "ticks": ""
             }
            },
            "type": "scatter3d"
           }
          ],
          "scattercarpet": [
           {
            "marker": {
             "colorbar": {
              "outlinewidth": 0,
              "ticks": ""
             }
            },
            "type": "scattercarpet"
           }
          ],
          "scattergeo": [
           {
            "marker": {
             "colorbar": {
              "outlinewidth": 0,
              "ticks": ""
             }
            },
            "type": "scattergeo"
           }
          ],
          "scattergl": [
           {
            "marker": {
             "colorbar": {
              "outlinewidth": 0,
              "ticks": ""
             }
            },
            "type": "scattergl"
           }
          ],
          "scattermapbox": [
           {
            "marker": {
             "colorbar": {
              "outlinewidth": 0,
              "ticks": ""
             }
            },
            "type": "scattermapbox"
           }
          ],
          "scatterpolar": [
           {
            "marker": {
             "colorbar": {
              "outlinewidth": 0,
              "ticks": ""
             }
            },
            "type": "scatterpolar"
           }
          ],
          "scatterpolargl": [
           {
            "marker": {
             "colorbar": {
              "outlinewidth": 0,
              "ticks": ""
             }
            },
            "type": "scatterpolargl"
           }
          ],
          "scatterternary": [
           {
            "marker": {
             "colorbar": {
              "outlinewidth": 0,
              "ticks": ""
             }
            },
            "type": "scatterternary"
           }
          ],
          "surface": [
           {
            "colorbar": {
             "outlinewidth": 0,
             "ticks": ""
            },
            "colorscale": [
             [
              0,
              "#0d0887"
             ],
             [
              0.1111111111111111,
              "#46039f"
             ],
             [
              0.2222222222222222,
              "#7201a8"
             ],
             [
              0.3333333333333333,
              "#9c179e"
             ],
             [
              0.4444444444444444,
              "#bd3786"
             ],
             [
              0.5555555555555556,
              "#d8576b"
             ],
             [
              0.6666666666666666,
              "#ed7953"
             ],
             [
              0.7777777777777778,
              "#fb9f3a"
             ],
             [
              0.8888888888888888,
              "#fdca26"
             ],
             [
              1,
              "#f0f921"
             ]
            ],
            "type": "surface"
           }
          ],
          "table": [
           {
            "cells": {
             "fill": {
              "color": "#EBF0F8"
             },
             "line": {
              "color": "white"
             }
            },
            "header": {
             "fill": {
              "color": "#C8D4E3"
             },
             "line": {
              "color": "white"
             }
            },
            "type": "table"
           }
          ]
         },
         "layout": {
          "annotationdefaults": {
           "arrowcolor": "#2a3f5f",
           "arrowhead": 0,
           "arrowwidth": 1
          },
          "autotypenumbers": "strict",
          "coloraxis": {
           "colorbar": {
            "outlinewidth": 0,
            "ticks": ""
           }
          },
          "colorscale": {
           "diverging": [
            [
             0,
             "#8e0152"
            ],
            [
             0.1,
             "#c51b7d"
            ],
            [
             0.2,
             "#de77ae"
            ],
            [
             0.3,
             "#f1b6da"
            ],
            [
             0.4,
             "#fde0ef"
            ],
            [
             0.5,
             "#f7f7f7"
            ],
            [
             0.6,
             "#e6f5d0"
            ],
            [
             0.7,
             "#b8e186"
            ],
            [
             0.8,
             "#7fbc41"
            ],
            [
             0.9,
             "#4d9221"
            ],
            [
             1,
             "#276419"
            ]
           ],
           "sequential": [
            [
             0,
             "#0d0887"
            ],
            [
             0.1111111111111111,
             "#46039f"
            ],
            [
             0.2222222222222222,
             "#7201a8"
            ],
            [
             0.3333333333333333,
             "#9c179e"
            ],
            [
             0.4444444444444444,
             "#bd3786"
            ],
            [
             0.5555555555555556,
             "#d8576b"
            ],
            [
             0.6666666666666666,
             "#ed7953"
            ],
            [
             0.7777777777777778,
             "#fb9f3a"
            ],
            [
             0.8888888888888888,
             "#fdca26"
            ],
            [
             1,
             "#f0f921"
            ]
           ],
           "sequentialminus": [
            [
             0,
             "#0d0887"
            ],
            [
             0.1111111111111111,
             "#46039f"
            ],
            [
             0.2222222222222222,
             "#7201a8"
            ],
            [
             0.3333333333333333,
             "#9c179e"
            ],
            [
             0.4444444444444444,
             "#bd3786"
            ],
            [
             0.5555555555555556,
             "#d8576b"
            ],
            [
             0.6666666666666666,
             "#ed7953"
            ],
            [
             0.7777777777777778,
             "#fb9f3a"
            ],
            [
             0.8888888888888888,
             "#fdca26"
            ],
            [
             1,
             "#f0f921"
            ]
           ]
          },
          "colorway": [
           "#636efa",
           "#EF553B",
           "#00cc96",
           "#ab63fa",
           "#FFA15A",
           "#19d3f3",
           "#FF6692",
           "#B6E880",
           "#FF97FF",
           "#FECB52"
          ],
          "font": {
           "color": "#2a3f5f"
          },
          "geo": {
           "bgcolor": "white",
           "lakecolor": "white",
           "landcolor": "#E5ECF6",
           "showlakes": true,
           "showland": true,
           "subunitcolor": "white"
          },
          "hoverlabel": {
           "align": "left"
          },
          "hovermode": "closest",
          "mapbox": {
           "style": "light"
          },
          "paper_bgcolor": "white",
          "plot_bgcolor": "#E5ECF6",
          "polar": {
           "angularaxis": {
            "gridcolor": "white",
            "linecolor": "white",
            "ticks": ""
           },
           "bgcolor": "#E5ECF6",
           "radialaxis": {
            "gridcolor": "white",
            "linecolor": "white",
            "ticks": ""
           }
          },
          "scene": {
           "xaxis": {
            "backgroundcolor": "#E5ECF6",
            "gridcolor": "white",
            "gridwidth": 2,
            "linecolor": "white",
            "showbackground": true,
            "ticks": "",
            "zerolinecolor": "white"
           },
           "yaxis": {
            "backgroundcolor": "#E5ECF6",
            "gridcolor": "white",
            "gridwidth": 2,
            "linecolor": "white",
            "showbackground": true,
            "ticks": "",
            "zerolinecolor": "white"
           },
           "zaxis": {
            "backgroundcolor": "#E5ECF6",
            "gridcolor": "white",
            "gridwidth": 2,
            "linecolor": "white",
            "showbackground": true,
            "ticks": "",
            "zerolinecolor": "white"
           }
          },
          "shapedefaults": {
           "line": {
            "color": "#2a3f5f"
           }
          },
          "ternary": {
           "aaxis": {
            "gridcolor": "white",
            "linecolor": "white",
            "ticks": ""
           },
           "baxis": {
            "gridcolor": "white",
            "linecolor": "white",
            "ticks": ""
           },
           "bgcolor": "#E5ECF6",
           "caxis": {
            "gridcolor": "white",
            "linecolor": "white",
            "ticks": ""
           }
          },
          "title": {
           "x": 0.05
          },
          "xaxis": {
           "automargin": true,
           "gridcolor": "white",
           "linecolor": "white",
           "ticks": "",
           "title": {
            "standoff": 15
           },
           "zerolinecolor": "white",
           "zerolinewidth": 2
          },
          "yaxis": {
           "automargin": true,
           "gridcolor": "white",
           "linecolor": "white",
           "ticks": "",
           "title": {
            "standoff": 15
           },
           "zerolinecolor": "white",
           "zerolinewidth": 2
          }
         }
        },
        "title": {
         "text": "CADD through COVERAGE"
        },
        "width": 1000,
        "xaxis": {
         "anchor": "y",
         "domain": [
          0,
          0.98
         ],
         "title": {
          "text": "Coverage"
         }
        },
        "xaxis2": {
         "anchor": "y2",
         "domain": [
          0,
          0.98
         ],
         "matches": "x",
         "showticklabels": false
        },
        "yaxis": {
         "anchor": "x",
         "domain": [
          0,
          0.485
         ],
         "title": {
          "text": "value"
         }
        },
        "yaxis2": {
         "anchor": "x2",
         "domain": [
          0.515,
          1
         ],
         "title": {
          "text": "value"
         }
        }
       }
      },
      "text/html": [
       "<div>                            <div id=\"91387238-2e7d-4113-9266-103ec28b7708\" class=\"plotly-graph-div\" style=\"height:1000px; width:1000px;\"></div>            <script type=\"text/javascript\">                require([\"plotly\"], function(Plotly) {                    window.PLOTLYENV=window.PLOTLYENV || {};                                    if (document.getElementById(\"91387238-2e7d-4113-9266-103ec28b7708\")) {                    Plotly.newPlot(                        \"91387238-2e7d-4113-9266-103ec28b7708\",                        [{\"hovertemplate\":\"Method=BWA1-bam<br>variable=PCT_CADD_deletarious<br>Coverage=%{x}<br>value=%{y}<extra></extra>\",\"legendgroup\":\"BWA1-bam\",\"marker\":{\"color\":\"#636efa\",\"line\":{\"width\":2},\"size\":5,\"symbol\":\"circle\"},\"mode\":\"lines+markers\",\"name\":\"BWA1-bam\",\"orientation\":\"v\",\"showlegend\":true,\"type\":\"scatter\",\"x\":[5,10,20,30,65],\"xaxis\":\"x2\",\"y\":[8.485918948091454,7.371695819683953,1.7587131367292226,0.9478672985781991,0.7982393972173524],\"yaxis\":\"y2\"},{\"hovertemplate\":\"Method=BWA1-bam<br>variable=PCT_CADD_not-deletarious<br>Coverage=%{x}<br>value=%{y}<extra></extra>\",\"legendgroup\":\"BWA1-bam\",\"marker\":{\"color\":\"#636efa\",\"line\":{\"width\":2},\"size\":5,\"symbol\":\"circle\"},\"mode\":\"lines+markers\",\"name\":\"BWA1-bam\",\"orientation\":\"v\",\"showlegend\":false,\"type\":\"scatter\",\"x\":[5,10,20,30,65],\"xaxis\":\"x\",\"y\":[91.51408105190855,92.62830418031605,98.24128686327077,99.0521327014218,99.20176060278264],\"yaxis\":\"y\"},{\"hovertemplate\":\"Method=VG-bam<br>variable=PCT_CADD_deletarious<br>Coverage=%{x}<br>value=%{y}<extra></extra>\",\"legendgroup\":\"VG-bam\",\"marker\":{\"color\":\"#EF553B\",\"line\":{\"width\":2},\"size\":5,\"symbol\":\"circle\"},\"mode\":\"lines+markers\",\"name\":\"VG-bam\",\"orientation\":\"v\",\"showlegend\":true,\"type\":\"scatter\",\"x\":[5,10,20,30,65],\"xaxis\":\"x2\",\"y\":[7.986293635496369,6.811195274356553,2.0996542865298613,1.4469979702743403,1.3595706618962433],\"yaxis\":\"y2\"},{\"hovertemplate\":\"Method=VG-bam<br>variable=PCT_CADD_not-deletarious<br>Coverage=%{x}<br>value=%{y}<extra></extra>\",\"legendgroup\":\"VG-bam\",\"marker\":{\"color\":\"#EF553B\",\"line\":{\"width\":2},\"size\":5,\"symbol\":\"circle\"},\"mode\":\"lines+markers\",\"name\":\"VG-bam\",\"orientation\":\"v\",\"showlegend\":false,\"type\":\"scatter\",\"x\":[5,10,20,30,65],\"xaxis\":\"x\",\"y\":[92.01370636450363,93.18880472564345,97.90034571347014,98.55300202972566,98.64042933810376],\"yaxis\":\"y\"},{\"hovertemplate\":\"Method=VG-gam<br>variable=PCT_CADD_deletarious<br>Coverage=%{x}<br>value=%{y}<extra></extra>\",\"legendgroup\":\"VG-gam\",\"marker\":{\"color\":\"#00cc96\",\"line\":{\"width\":2},\"size\":5,\"symbol\":\"circle\"},\"mode\":\"lines+markers\",\"name\":\"VG-gam\",\"orientation\":\"v\",\"showlegend\":true,\"type\":\"scatter\",\"x\":[65],\"xaxis\":\"x2\",\"y\":[0.6309148264984227],\"yaxis\":\"y2\"},{\"hovertemplate\":\"Method=VG-gam<br>variable=PCT_CADD_not-deletarious<br>Coverage=%{x}<br>value=%{y}<extra></extra>\",\"legendgroup\":\"VG-gam\",\"marker\":{\"color\":\"#00cc96\",\"line\":{\"width\":2},\"size\":5,\"symbol\":\"circle\"},\"mode\":\"lines+markers\",\"name\":\"VG-gam\",\"orientation\":\"v\",\"showlegend\":false,\"type\":\"scatter\",\"x\":[65],\"xaxis\":\"x\",\"y\":[99.36908517350157],\"yaxis\":\"y\"}],                        {\"annotations\":[{\"font\":{},\"showarrow\":false,\"text\":\"not-deletarious\",\"textangle\":90,\"x\":0.98,\"xanchor\":\"left\",\"xref\":\"paper\",\"y\":0.2425,\"yanchor\":\"middle\",\"yref\":\"paper\"},{\"font\":{},\"showarrow\":false,\"text\":\"deletarious\",\"textangle\":90,\"x\":0.98,\"xanchor\":\"left\",\"xref\":\"paper\",\"y\":0.7575000000000001,\"yanchor\":\"middle\",\"yref\":\"paper\"}],\"height\":1000,\"legend\":{\"title\":{\"text\":\"Method\"},\"tracegroupgap\":0},\"template\":{\"data\":{\"bar\":[{\"error_x\":{\"color\":\"#2a3f5f\"},\"error_y\":{\"color\":\"#2a3f5f\"},\"marker\":{\"line\":{\"color\":\"#E5ECF6\",\"width\":0.5},\"pattern\":{\"fillmode\":\"overlay\",\"size\":10,\"solidity\":0.2}},\"type\":\"bar\"}],\"barpolar\":[{\"marker\":{\"line\":{\"color\":\"#E5ECF6\",\"width\":0.5},\"pattern\":{\"fillmode\":\"overlay\",\"size\":10,\"solidity\":0.2}},\"type\":\"barpolar\"}],\"carpet\":[{\"aaxis\":{\"endlinecolor\":\"#2a3f5f\",\"gridcolor\":\"white\",\"linecolor\":\"white\",\"minorgridcolor\":\"white\",\"startlinecolor\":\"#2a3f5f\"},\"baxis\":{\"endlinecolor\":\"#2a3f5f\",\"gridcolor\":\"white\",\"linecolor\":\"white\",\"minorgridcolor\":\"white\",\"startlinecolor\":\"#2a3f5f\"},\"type\":\"carpet\"}],\"choropleth\":[{\"colorbar\":{\"outlinewidth\":0,\"ticks\":\"\"},\"type\":\"choropleth\"}],\"contour\":[{\"colorbar\":{\"outlinewidth\":0,\"ticks\":\"\"},\"colorscale\":[[0.0,\"#0d0887\"],[0.1111111111111111,\"#46039f\"],[0.2222222222222222,\"#7201a8\"],[0.3333333333333333,\"#9c179e\"],[0.4444444444444444,\"#bd3786\"],[0.5555555555555556,\"#d8576b\"],[0.6666666666666666,\"#ed7953\"],[0.7777777777777778,\"#fb9f3a\"],[0.8888888888888888,\"#fdca26\"],[1.0,\"#f0f921\"]],\"type\":\"contour\"}],\"contourcarpet\":[{\"colorbar\":{\"outlinewidth\":0,\"ticks\":\"\"},\"type\":\"contourcarpet\"}],\"heatmap\":[{\"colorbar\":{\"outlinewidth\":0,\"ticks\":\"\"},\"colorscale\":[[0.0,\"#0d0887\"],[0.1111111111111111,\"#46039f\"],[0.2222222222222222,\"#7201a8\"],[0.3333333333333333,\"#9c179e\"],[0.4444444444444444,\"#bd3786\"],[0.5555555555555556,\"#d8576b\"],[0.6666666666666666,\"#ed7953\"],[0.7777777777777778,\"#fb9f3a\"],[0.8888888888888888,\"#fdca26\"],[1.0,\"#f0f921\"]],\"type\":\"heatmap\"}],\"heatmapgl\":[{\"colorbar\":{\"outlinewidth\":0,\"ticks\":\"\"},\"colorscale\":[[0.0,\"#0d0887\"],[0.1111111111111111,\"#46039f\"],[0.2222222222222222,\"#7201a8\"],[0.3333333333333333,\"#9c179e\"],[0.4444444444444444,\"#bd3786\"],[0.5555555555555556,\"#d8576b\"],[0.6666666666666666,\"#ed7953\"],[0.7777777777777778,\"#fb9f3a\"],[0.8888888888888888,\"#fdca26\"],[1.0,\"#f0f921\"]],\"type\":\"heatmapgl\"}],\"histogram\":[{\"marker\":{\"pattern\":{\"fillmode\":\"overlay\",\"size\":10,\"solidity\":0.2}},\"type\":\"histogram\"}],\"histogram2d\":[{\"colorbar\":{\"outlinewidth\":0,\"ticks\":\"\"},\"colorscale\":[[0.0,\"#0d0887\"],[0.1111111111111111,\"#46039f\"],[0.2222222222222222,\"#7201a8\"],[0.3333333333333333,\"#9c179e\"],[0.4444444444444444,\"#bd3786\"],[0.5555555555555556,\"#d8576b\"],[0.6666666666666666,\"#ed7953\"],[0.7777777777777778,\"#fb9f3a\"],[0.8888888888888888,\"#fdca26\"],[1.0,\"#f0f921\"]],\"type\":\"histogram2d\"}],\"histogram2dcontour\":[{\"colorbar\":{\"outlinewidth\":0,\"ticks\":\"\"},\"colorscale\":[[0.0,\"#0d0887\"],[0.1111111111111111,\"#46039f\"],[0.2222222222222222,\"#7201a8\"],[0.3333333333333333,\"#9c179e\"],[0.4444444444444444,\"#bd3786\"],[0.5555555555555556,\"#d8576b\"],[0.6666666666666666,\"#ed7953\"],[0.7777777777777778,\"#fb9f3a\"],[0.8888888888888888,\"#fdca26\"],[1.0,\"#f0f921\"]],\"type\":\"histogram2dcontour\"}],\"mesh3d\":[{\"colorbar\":{\"outlinewidth\":0,\"ticks\":\"\"},\"type\":\"mesh3d\"}],\"parcoords\":[{\"line\":{\"colorbar\":{\"outlinewidth\":0,\"ticks\":\"\"}},\"type\":\"parcoords\"}],\"pie\":[{\"automargin\":true,\"type\":\"pie\"}],\"scatter\":[{\"marker\":{\"colorbar\":{\"outlinewidth\":0,\"ticks\":\"\"}},\"type\":\"scatter\"}],\"scatter3d\":[{\"line\":{\"colorbar\":{\"outlinewidth\":0,\"ticks\":\"\"}},\"marker\":{\"colorbar\":{\"outlinewidth\":0,\"ticks\":\"\"}},\"type\":\"scatter3d\"}],\"scattercarpet\":[{\"marker\":{\"colorbar\":{\"outlinewidth\":0,\"ticks\":\"\"}},\"type\":\"scattercarpet\"}],\"scattergeo\":[{\"marker\":{\"colorbar\":{\"outlinewidth\":0,\"ticks\":\"\"}},\"type\":\"scattergeo\"}],\"scattergl\":[{\"marker\":{\"colorbar\":{\"outlinewidth\":0,\"ticks\":\"\"}},\"type\":\"scattergl\"}],\"scattermapbox\":[{\"marker\":{\"colorbar\":{\"outlinewidth\":0,\"ticks\":\"\"}},\"type\":\"scattermapbox\"}],\"scatterpolar\":[{\"marker\":{\"colorbar\":{\"outlinewidth\":0,\"ticks\":\"\"}},\"type\":\"scatterpolar\"}],\"scatterpolargl\":[{\"marker\":{\"colorbar\":{\"outlinewidth\":0,\"ticks\":\"\"}},\"type\":\"scatterpolargl\"}],\"scatterternary\":[{\"marker\":{\"colorbar\":{\"outlinewidth\":0,\"ticks\":\"\"}},\"type\":\"scatterternary\"}],\"surface\":[{\"colorbar\":{\"outlinewidth\":0,\"ticks\":\"\"},\"colorscale\":[[0.0,\"#0d0887\"],[0.1111111111111111,\"#46039f\"],[0.2222222222222222,\"#7201a8\"],[0.3333333333333333,\"#9c179e\"],[0.4444444444444444,\"#bd3786\"],[0.5555555555555556,\"#d8576b\"],[0.6666666666666666,\"#ed7953\"],[0.7777777777777778,\"#fb9f3a\"],[0.8888888888888888,\"#fdca26\"],[1.0,\"#f0f921\"]],\"type\":\"surface\"}],\"table\":[{\"cells\":{\"fill\":{\"color\":\"#EBF0F8\"},\"line\":{\"color\":\"white\"}},\"header\":{\"fill\":{\"color\":\"#C8D4E3\"},\"line\":{\"color\":\"white\"}},\"type\":\"table\"}]},\"layout\":{\"annotationdefaults\":{\"arrowcolor\":\"#2a3f5f\",\"arrowhead\":0,\"arrowwidth\":1},\"autotypenumbers\":\"strict\",\"coloraxis\":{\"colorbar\":{\"outlinewidth\":0,\"ticks\":\"\"}},\"colorscale\":{\"diverging\":[[0,\"#8e0152\"],[0.1,\"#c51b7d\"],[0.2,\"#de77ae\"],[0.3,\"#f1b6da\"],[0.4,\"#fde0ef\"],[0.5,\"#f7f7f7\"],[0.6,\"#e6f5d0\"],[0.7,\"#b8e186\"],[0.8,\"#7fbc41\"],[0.9,\"#4d9221\"],[1,\"#276419\"]],\"sequential\":[[0.0,\"#0d0887\"],[0.1111111111111111,\"#46039f\"],[0.2222222222222222,\"#7201a8\"],[0.3333333333333333,\"#9c179e\"],[0.4444444444444444,\"#bd3786\"],[0.5555555555555556,\"#d8576b\"],[0.6666666666666666,\"#ed7953\"],[0.7777777777777778,\"#fb9f3a\"],[0.8888888888888888,\"#fdca26\"],[1.0,\"#f0f921\"]],\"sequentialminus\":[[0.0,\"#0d0887\"],[0.1111111111111111,\"#46039f\"],[0.2222222222222222,\"#7201a8\"],[0.3333333333333333,\"#9c179e\"],[0.4444444444444444,\"#bd3786\"],[0.5555555555555556,\"#d8576b\"],[0.6666666666666666,\"#ed7953\"],[0.7777777777777778,\"#fb9f3a\"],[0.8888888888888888,\"#fdca26\"],[1.0,\"#f0f921\"]]},\"colorway\":[\"#636efa\",\"#EF553B\",\"#00cc96\",\"#ab63fa\",\"#FFA15A\",\"#19d3f3\",\"#FF6692\",\"#B6E880\",\"#FF97FF\",\"#FECB52\"],\"font\":{\"color\":\"#2a3f5f\"},\"geo\":{\"bgcolor\":\"white\",\"lakecolor\":\"white\",\"landcolor\":\"#E5ECF6\",\"showlakes\":true,\"showland\":true,\"subunitcolor\":\"white\"},\"hoverlabel\":{\"align\":\"left\"},\"hovermode\":\"closest\",\"mapbox\":{\"style\":\"light\"},\"paper_bgcolor\":\"white\",\"plot_bgcolor\":\"#E5ECF6\",\"polar\":{\"angularaxis\":{\"gridcolor\":\"white\",\"linecolor\":\"white\",\"ticks\":\"\"},\"bgcolor\":\"#E5ECF6\",\"radialaxis\":{\"gridcolor\":\"white\",\"linecolor\":\"white\",\"ticks\":\"\"}},\"scene\":{\"xaxis\":{\"backgroundcolor\":\"#E5ECF6\",\"gridcolor\":\"white\",\"gridwidth\":2,\"linecolor\":\"white\",\"showbackground\":true,\"ticks\":\"\",\"zerolinecolor\":\"white\"},\"yaxis\":{\"backgroundcolor\":\"#E5ECF6\",\"gridcolor\":\"white\",\"gridwidth\":2,\"linecolor\":\"white\",\"showbackground\":true,\"ticks\":\"\",\"zerolinecolor\":\"white\"},\"zaxis\":{\"backgroundcolor\":\"#E5ECF6\",\"gridcolor\":\"white\",\"gridwidth\":2,\"linecolor\":\"white\",\"showbackground\":true,\"ticks\":\"\",\"zerolinecolor\":\"white\"}},\"shapedefaults\":{\"line\":{\"color\":\"#2a3f5f\"}},\"ternary\":{\"aaxis\":{\"gridcolor\":\"white\",\"linecolor\":\"white\",\"ticks\":\"\"},\"baxis\":{\"gridcolor\":\"white\",\"linecolor\":\"white\",\"ticks\":\"\"},\"bgcolor\":\"#E5ECF6\",\"caxis\":{\"gridcolor\":\"white\",\"linecolor\":\"white\",\"ticks\":\"\"}},\"title\":{\"x\":0.05},\"xaxis\":{\"automargin\":true,\"gridcolor\":\"white\",\"linecolor\":\"white\",\"ticks\":\"\",\"title\":{\"standoff\":15},\"zerolinecolor\":\"white\",\"zerolinewidth\":2},\"yaxis\":{\"automargin\":true,\"gridcolor\":\"white\",\"linecolor\":\"white\",\"ticks\":\"\",\"title\":{\"standoff\":15},\"zerolinecolor\":\"white\",\"zerolinewidth\":2}}},\"title\":{\"text\":\"CADD through COVERAGE\"},\"width\":1000,\"xaxis\":{\"anchor\":\"y\",\"domain\":[0.0,0.98],\"title\":{\"text\":\"Coverage\"}},\"xaxis2\":{\"anchor\":\"y2\",\"domain\":[0.0,0.98],\"matches\":\"x\",\"showticklabels\":false},\"yaxis\":{\"anchor\":\"x\",\"domain\":[0.0,0.485],\"title\":{\"text\":\"value\"}},\"yaxis2\":{\"anchor\":\"x2\",\"domain\":[0.515,1.0],\"title\":{\"text\":\"value\"}}},                        {\"responsive\": true}                    ).then(function(){\n",
       "                            \n",
       "var gd = document.getElementById('91387238-2e7d-4113-9266-103ec28b7708');\n",
       "var x = new MutationObserver(function (mutations, observer) {{\n",
       "        var display = window.getComputedStyle(gd).display;\n",
       "        if (!display || display === 'none') {{\n",
       "            console.log([gd, 'removed!']);\n",
       "            Plotly.purge(gd);\n",
       "            observer.disconnect();\n",
       "        }}\n",
       "}});\n",
       "\n",
       "// Listen for the removal of the full notebook cells\n",
       "var notebookContainer = gd.closest('#notebook-container');\n",
       "if (notebookContainer) {{\n",
       "    x.observe(notebookContainer, {childList: true});\n",
       "}}\n",
       "\n",
       "// Listen for the clearing of the current output cell\n",
       "var outputEl = gd.closest('.output');\n",
       "if (outputEl) {{\n",
       "    x.observe(outputEl, {childList: true});\n",
       "}}\n",
       "\n",
       "                        })                };                });            </script>        </div>"
      ]
     },
     "metadata": {},
     "output_type": "display_data"
    }
   ],
   "source": [
    "fig = px.scatter(df_cov, y=\"value\", x=\"Coverage\", color = \"Method\",facet_row=\"variable\",\n",
    "                 width=1000, height=1000, title=\"CADD through COVERAGE\")\n",
    "\n",
    "fig.for_each_annotation(lambda a: a.update(text=a.text.split(\"=\")[-1].split(\"_\")[-1]))\n",
    "fig.update_yaxes(matches=None)\n",
    "fig.update_traces(mode='lines+markers', marker_line_width=2, marker_size=5)\n",
    "fig.show()"
   ]
  }
 ],
 "metadata": {
  "kernelspec": {
   "display_name": "Python 3",
   "language": "python",
   "name": "python3"
  },
  "language_info": {
   "codemirror_mode": {
    "name": "ipython",
    "version": 3
   },
   "file_extension": ".py",
   "mimetype": "text/x-python",
   "name": "python",
   "nbconvert_exporter": "python",
   "pygments_lexer": "ipython3",
   "version": "3.6.13"
  }
 },
 "nbformat": 4,
 "nbformat_minor": 5
}
